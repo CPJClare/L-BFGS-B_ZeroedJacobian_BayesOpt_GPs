{
  "nbformat": 4,
  "nbformat_minor": 0,
  "metadata": {
    "colab": {
      "name": "2b. Zero_Rastrigin_GP_EI.ipynb",
      "provenance": [],
      "collapsed_sections": []
    },
    "kernelspec": {
      "name": "python3",
      "display_name": "Python 3"
    },
    "language_info": {
      "name": "python"
    }
  },
  "cells": [
    {
      "cell_type": "markdown",
      "metadata": {
        "id": "Dqn4dFx7Z2Ir"
      },
      "source": [
        "\n",
        "Rastrigin:\n",
        "\n",
        "GP EI: zero versus exact partial-order GP EI derivatives wrt **x1**, **x2**"
      ]
    },
    {
      "cell_type": "code",
      "metadata": {
        "id": "MJTM_GZZZb5x",
        "colab": {
          "base_uri": "https://localhost:8080/"
        },
        "outputId": "b49e1c70-5aed-4610-8d10-0064fb922488"
      },
      "source": [
        "pip install pyGPGO\n"
      ],
      "execution_count": 1,
      "outputs": [
        {
          "output_type": "stream",
          "text": [
            "Requirement already satisfied: pyGPGO in /usr/local/lib/python3.7/dist-packages (0.5.1)\n",
            "Requirement already satisfied: joblib in /usr/local/lib/python3.7/dist-packages (from pyGPGO) (1.0.1)\n",
            "Requirement already satisfied: scipy in /usr/local/lib/python3.7/dist-packages (from pyGPGO) (1.4.1)\n",
            "Requirement already satisfied: mkl in /usr/local/lib/python3.7/dist-packages (from pyGPGO) (2019.0)\n",
            "Requirement already satisfied: pyMC3 in /usr/local/lib/python3.7/dist-packages (from pyGPGO) (3.11.2)\n",
            "Requirement already satisfied: Theano-PyMC in /usr/local/lib/python3.7/dist-packages (from pyGPGO) (1.1.2)\n",
            "Requirement already satisfied: scikit-learn in /usr/local/lib/python3.7/dist-packages (from pyGPGO) (0.22.2.post1)\n",
            "Requirement already satisfied: numpy in /usr/local/lib/python3.7/dist-packages (from pyGPGO) (1.19.5)\n",
            "Requirement already satisfied: intel-openmp in /usr/local/lib/python3.7/dist-packages (from mkl->pyGPGO) (2021.3.0)\n",
            "Requirement already satisfied: arviz>=0.11.0 in /usr/local/lib/python3.7/dist-packages (from pyMC3->pyGPGO) (0.11.2)\n",
            "Requirement already satisfied: dill in /usr/local/lib/python3.7/dist-packages (from pyMC3->pyGPGO) (0.3.4)\n",
            "Requirement already satisfied: fastprogress>=0.2.0 in /usr/local/lib/python3.7/dist-packages (from pyMC3->pyGPGO) (1.0.0)\n",
            "Requirement already satisfied: pandas>=0.24.0 in /usr/local/lib/python3.7/dist-packages (from pyMC3->pyGPGO) (1.1.5)\n",
            "Requirement already satisfied: patsy>=0.5.1 in /usr/local/lib/python3.7/dist-packages (from pyMC3->pyGPGO) (0.5.1)\n",
            "Requirement already satisfied: typing-extensions>=3.7.4 in /usr/local/lib/python3.7/dist-packages (from pyMC3->pyGPGO) (3.7.4.3)\n",
            "Requirement already satisfied: semver in /usr/local/lib/python3.7/dist-packages (from pyMC3->pyGPGO) (2.13.0)\n",
            "Requirement already satisfied: cachetools>=4.2.1 in /usr/local/lib/python3.7/dist-packages (from pyMC3->pyGPGO) (4.2.2)\n",
            "Requirement already satisfied: filelock in /usr/local/lib/python3.7/dist-packages (from Theano-PyMC->pyGPGO) (3.0.12)\n",
            "Requirement already satisfied: xarray>=0.16.1 in /usr/local/lib/python3.7/dist-packages (from arviz>=0.11.0->pyMC3->pyGPGO) (0.18.2)\n",
            "Requirement already satisfied: netcdf4 in /usr/local/lib/python3.7/dist-packages (from arviz>=0.11.0->pyMC3->pyGPGO) (1.5.7)\n",
            "Requirement already satisfied: setuptools>=38.4 in /usr/local/lib/python3.7/dist-packages (from arviz>=0.11.0->pyMC3->pyGPGO) (57.4.0)\n",
            "Requirement already satisfied: matplotlib>=3.0 in /usr/local/lib/python3.7/dist-packages (from arviz>=0.11.0->pyMC3->pyGPGO) (3.2.2)\n",
            "Requirement already satisfied: packaging in /usr/local/lib/python3.7/dist-packages (from arviz>=0.11.0->pyMC3->pyGPGO) (21.0)\n",
            "Requirement already satisfied: kiwisolver>=1.0.1 in /usr/local/lib/python3.7/dist-packages (from matplotlib>=3.0->arviz>=0.11.0->pyMC3->pyGPGO) (1.3.1)\n",
            "Requirement already satisfied: python-dateutil>=2.1 in /usr/local/lib/python3.7/dist-packages (from matplotlib>=3.0->arviz>=0.11.0->pyMC3->pyGPGO) (2.8.2)\n",
            "Requirement already satisfied: cycler>=0.10 in /usr/local/lib/python3.7/dist-packages (from matplotlib>=3.0->arviz>=0.11.0->pyMC3->pyGPGO) (0.10.0)\n",
            "Requirement already satisfied: pyparsing!=2.0.4,!=2.1.2,!=2.1.6,>=2.0.1 in /usr/local/lib/python3.7/dist-packages (from matplotlib>=3.0->arviz>=0.11.0->pyMC3->pyGPGO) (2.4.7)\n",
            "Requirement already satisfied: six in /usr/local/lib/python3.7/dist-packages (from cycler>=0.10->matplotlib>=3.0->arviz>=0.11.0->pyMC3->pyGPGO) (1.15.0)\n",
            "Requirement already satisfied: pytz>=2017.2 in /usr/local/lib/python3.7/dist-packages (from pandas>=0.24.0->pyMC3->pyGPGO) (2018.9)\n",
            "Requirement already satisfied: cftime in /usr/local/lib/python3.7/dist-packages (from netcdf4->arviz>=0.11.0->pyMC3->pyGPGO) (1.5.0)\n"
          ],
          "name": "stdout"
        }
      ]
    },
    {
      "cell_type": "code",
      "metadata": {
        "id": "ZJSSPbwPaEUB"
      },
      "source": [
        "### Import:\n",
        "\n",
        "import numpy as np\n",
        "import scipy as sp\n",
        "import pandas as pd\n",
        "import matplotlib.pyplot as plt\n",
        "import warnings\n",
        "import itertools\n",
        "\n",
        "from pyGPGO.GPGO import GPGO\n",
        "from pyGPGO.surrogates.GaussianProcess import GaussianProcess\n",
        "from pyGPGO.acquisition import Acquisition\n",
        "from pyGPGO.covfunc import squaredExponential\n",
        "\n",
        "from joblib import Parallel, delayed\n",
        "from numpy.linalg import solve, cholesky\n",
        "from scipy.spatial.distance import cdist\n",
        "from scipy.optimize import minimize\n",
        "from scipy.stats import norm\n",
        "import time\n",
        "\n",
        "warnings.filterwarnings(\"ignore\", category=RuntimeWarning)\n"
      ],
      "execution_count": 2,
      "outputs": []
    },
    {
      "cell_type": "code",
      "metadata": {
        "id": "eYpI3Zm4aGxi"
      },
      "source": [
        "n_start_AcqFunc = 100 #multi-start iterations to avoid local optima in AcqFunc optimization\n"
      ],
      "execution_count": 3,
      "outputs": []
    },
    {
      "cell_type": "code",
      "metadata": {
        "id": "OeYcTUNoaJWa"
      },
      "source": [
        "### Inputs:\n",
        "\n",
        "func = 'Rastrigin'\n",
        "n_test = 500\n",
        "eps = 1e-08\n",
        "\n",
        "util_grad_zero = 'dEI_GP'\n",
        "util_grad_exact = 'dEI_GP'\n",
        "\n",
        "n_init = 5 # random initialisations\n",
        "iters = 20\n",
        "opt = True"
      ],
      "execution_count": 4,
      "outputs": []
    },
    {
      "cell_type": "code",
      "metadata": {
        "id": "xpaEOjdzaPMS"
      },
      "source": [
        "### Objective Function - Rastrigin(x) 2-D:\n",
        "\n",
        "def objfunc(x1_training, x2_training):\n",
        "        return  operator * (10 * dim + x1_training** 2 - 10 * np.cos(2 * np.pi * x1_training)\n",
        "                                    + x2_training** 2 - 10 * np.cos(2 * np.pi * x2_training)\n",
        "                          )\n",
        "        \n",
        "def objfunc_der(x1_training, x2_training):\n",
        "        return  operator * (2 * x1_training + 20 * np.pi * np.sin(2 * np.pi * x1_training)\n",
        "                                    + 2 * x2_training + 20 * np.pi * np.sin(2 * np.pi * x2_training)\n",
        "                          )\n",
        "    \n",
        "# Constraints:\n",
        "lb = -5.12 \n",
        "ub = +5.12\n",
        "    \n",
        "# Input array dimension(s):\n",
        "dim = 2\n",
        "\n",
        "# 2-D inputs' parameter bounds:\n",
        "param = {'x1_training': ('cont', [lb, ub]),\n",
        "             'x2_training': ('cont', [lb, ub])}\n",
        "\n",
        "# True y bounds:\n",
        "operator = -1\n",
        "y_global_orig = 0 # targets global minimum\n",
        "\n",
        "# Test data:\n",
        "x1_test = np.linspace(lb, ub, n_test) \n",
        "x2_test = np.linspace(lb, ub, n_test)\n",
        "  \n",
        "x_test = np.column_stack((x1_test,x2_test))\n"
      ],
      "execution_count": 5,
      "outputs": []
    },
    {
      "cell_type": "code",
      "metadata": {
        "id": "oO_GUmOoaV0T"
      },
      "source": [
        "### Cumulative Regret Calculator:\n",
        "\n",
        "def min_max_array(x):\n",
        "    new_list = []\n",
        "    for i, num in enumerate(x):\n",
        "            new_list.append(np.min(x[0:i+1]))\n",
        "    return new_list\n",
        "  "
      ],
      "execution_count": 6,
      "outputs": []
    },
    {
      "cell_type": "code",
      "metadata": {
        "id": "kuuJx0IMam9S"
      },
      "source": [
        "### Surrogate derivatives: \n",
        "\n",
        "cov_func = squaredExponential()\n",
        "\n",
        "def kronDelta(X, Xstar):\n",
        "    return cdist(X, Xstar) < np.finfo(np.float32).eps\n",
        "\n",
        "def se(X, Xstar, sigmaf, l, sigman):\n",
        "    return sigmaf * np.exp(-0.5 * cdist(X, Xstar) ** 2 / l ** 2) + sigman * kronDelta(X, Xstar)\n",
        "\n",
        "def deriv_se(X, Xstar, sigmaf, l, sigman):\n",
        "    return cdist(X, Xstar) / (l ** 2) * se(X, Xstar, sigmaf, l, sigman)\n",
        "\n",
        "def der_covmat(X, Xstar, sigmaf, l, sigman):\n",
        "      nx = len(X)\n",
        "      ny = len(Xstar)\n",
        "      return np.round(np.array([deriv_se(np.atleast_2d(i), np.atleast_2d(j), sigmaf, l, sigman) for (i, j) in itertools.product(X, Xstar)]).reshape(nx, ny), 8)\n",
        "\n",
        "class dGaussianProcess(GaussianProcess):\n",
        "    l = GaussianProcess(cov_func, optimize=opt).getcovparams()['l']\n",
        "    sigmaf = GaussianProcess(cov_func, optimize=opt).getcovparams()['sigmaf']\n",
        "    sigman = GaussianProcess(cov_func, optimize=opt).getcovparams()['sigman']\n",
        "\n",
        "    def AcqGrad(self, Xstar):\n",
        "        Xstar = np.atleast_2d(Xstar)\n",
        "        Kstar = self.covfunc.K(self.X, Xstar).T\n",
        "        dKstar = der_covmat(self.X, Xstar, self.sigmaf, self.l, self.sigman).T\n",
        "        \n",
        "        alpha_Kstar = np.dot(np.linalg.inv(self.K + (self.sigman**2) * np.eye(len(self.X))), Kstar.T)\n",
        "        \n",
        "        dm = np.dot(-dKstar, self.alpha)\n",
        "        ds = -2 * np.dot(-dKstar, alpha_Kstar)\n",
        "        \n",
        "        return dm, ds\n",
        "        "
      ],
      "execution_count": 7,
      "outputs": []
    },
    {
      "cell_type": "code",
      "metadata": {
        "id": "_Dc3YVHVaXz7"
      },
      "source": [
        "class Acquisition_new(Acquisition):    \n",
        "    def __init__(self, mode, eps=eps, **params):\n",
        "        \n",
        "        self.params = params\n",
        "        self.eps = eps\n",
        "\n",
        "        mode_dict = {\n",
        "            'dEI_GP': self.dEI_GP\n",
        "        }\n",
        "\n",
        "        self.f = mode_dict[mode]\n",
        "    \n",
        "    def dEI_GP(self, tau, mean, std, ds, dm):\n",
        "        gamma = (mean - tau - self.eps) / (std + self.eps)\n",
        "        gamma_h = (mean - tau) / (std + self.eps)\n",
        "        dsdx = ds / (2 * (std + self.eps))\n",
        "        dmdx = (dm - gamma * dsdx) / (std + self.eps)\n",
        "        \n",
        "        f = (std + self.eps) * (gamma * norm.cdf(gamma) + norm.pdf(gamma))\n",
        "        df1 = f / (std + self.eps) * dsdx \n",
        "        df2 = (std + self.eps) * norm.cdf(gamma) * dmdx\n",
        "        df = (df1 + df2)[0]\n",
        "        df_arr = []\n",
        "\n",
        "        for j in range(0, dim):\n",
        "          df_arr.append(df)\n",
        "        return f, np.asarray(df_arr).transpose()\n",
        "        \n",
        "    def d_eval(self, tau, mean, std, ds, dm):\n",
        "    \n",
        "        return self.f(tau, mean, std, ds, dm, **self.params)\n",
        "        "
      ],
      "execution_count": 8,
      "outputs": []
    },
    {
      "cell_type": "code",
      "metadata": {
        "id": "YAc1Yu71aosi"
      },
      "source": [
        "## dGPGO_zero:\n",
        "\n",
        "zero_grad = 0\n",
        "\n",
        "class dGPGO_zero(GPGO):  \n",
        "    n_start = n_start_AcqFunc\n",
        "\n",
        "    def d_optimizeAcq(self, method='L-BFGS-B', n_start=n_start_AcqFunc):\n",
        "        start_points_dict = [self._sampleParam() for i in range(n_start)]\n",
        "        start_points_arr = np.array([list(s.values())\n",
        "                                     for s in start_points_dict])\n",
        "        x_best = np.empty((n_start, len(self.parameter_key)))\n",
        "        f_best = np.empty((n_start,))\n",
        "        opt = Parallel(n_jobs=self.n_jobs)(delayed(minimize)(self.acqfunc,\n",
        "                                                                 x0=start_point,\n",
        "                                                                 method=method,\n",
        "                                                                 jac = True,\n",
        "                                                                 bounds=self.parameter_range) for start_point in\n",
        "                                               start_points_arr)\n",
        "        x_best = np.array([res.x for res in opt])\n",
        "        f_best = np.array([np.atleast_1d(res.fun)[0] for res in opt])\n",
        "\n",
        "        self.x_best = x_best\n",
        "        self.f_best = f_best\n",
        "        self.best = x_best[np.argmin(f_best)]\n",
        "        self.start_points_arr = start_points_arr\n",
        "\n",
        "        return x_best, f_best\n",
        "    \n",
        "    def run(self, max_iter=10, init_evals=3, resume=False):\n",
        "        \n",
        "        if not resume:\n",
        "            self.init_evals = init_evals\n",
        "            self._firstRun(self.init_evals)\n",
        "            self.logger._printInit(self)\n",
        "        for iteration in range(max_iter):\n",
        "            self.d_optimizeAcq()\n",
        "            self.updateGP()\n",
        "            self.logger._printCurrent(self)\n",
        "\n",
        "    def acqfunc(self, xnew, n_start=n_start_AcqFunc):\n",
        "        new_mean, new_var = self.GP.predict(xnew, return_std=True)\n",
        "        new_std = np.sqrt(new_var + eps)\n",
        "        dm, ds = self.GP.AcqGrad(xnew)\n",
        "        f, df = self.A.d_eval(self.tau, new_mean, new_std, ds=ds, dm=dm)\n",
        "\n",
        "        return -f, -df * zero_grad\n",
        "\n",
        "    def acqfunc_h(self, xnew, n_start=n_start_AcqFunc, eps=eps):\n",
        "        f = self.acqfunc(xnew)[0]\n",
        "        \n",
        "        new_mean_h, new_var_h = self.GP.predict(xnew + eps, return_std=True)\n",
        "        new_std_h = np.sqrt(new_var_h + eps)\n",
        "        dm_h, ds_h = self.GP.AcqGrad(xnew + eps)\n",
        "        f_h = self.A.d_eval(-self.tau, new_mean_h, new_std_h, ds=ds_h, dm=dm_h)[0]\n",
        "        \n",
        "        exact_grad = (-f_h - f)/eps\n",
        "        return exact_grad\n"
      ],
      "execution_count": 9,
      "outputs": []
    },
    {
      "cell_type": "code",
      "metadata": {
        "id": "b_B-w81BJxKN"
      },
      "source": [
        "## dGPGO:\n",
        "\n",
        "grad = 1\n",
        "\n",
        "class dGPGO(GPGO):\n",
        "    n_start = n_start_AcqFunc\n",
        "\n",
        "    def d_optimizeAcq(self, method='L-BFGS-B', n_start=n_start_AcqFunc):\n",
        "        start_points_dict = [self._sampleParam() for i in range(n_start)]\n",
        "        start_points_arr = np.array([list(s.values())\n",
        "                                     for s in start_points_dict])\n",
        "        x_best = np.empty((n_start, len(self.parameter_key)))\n",
        "        f_best = np.empty((n_start,))\n",
        "        opt = Parallel(n_jobs=self.n_jobs)(delayed(minimize)(self.acqfunc,\n",
        "                                                                 x0=start_point,\n",
        "                                                                 method=method,\n",
        "                                                                 jac = True,\n",
        "                                                                 bounds=self.parameter_range) for start_point in\n",
        "                                               start_points_arr)\n",
        "        x_best = np.array([res.x for res in opt])\n",
        "        f_best = np.array([np.atleast_1d(res.fun)[0] for res in opt])\n",
        "\n",
        "        self.x_best = x_best\n",
        "        self.f_best = f_best\n",
        "        self.best = x_best[np.argmin(f_best)]\n",
        "        self.start_points_arr = start_points_arr\n",
        "\n",
        "        return x_best, f_best\n",
        "    \n",
        "    def run(self, max_iter=10, init_evals=3, resume=False):\n",
        "        \n",
        "        if not resume:\n",
        "            self.init_evals = init_evals\n",
        "            self._firstRun(self.init_evals)\n",
        "            self.logger._printInit(self)\n",
        "        for iteration in range(max_iter):\n",
        "            self.d_optimizeAcq()\n",
        "            self.updateGP()\n",
        "            self.logger._printCurrent(self)\n",
        "\n",
        "    def acqfunc(self, xnew, n_start=n_start_AcqFunc):\n",
        "        new_mean, new_var = self.GP.predict(xnew, return_std=True)\n",
        "        new_std = np.sqrt(new_var + eps)\n",
        "        dm, ds = self.GP.AcqGrad(xnew)\n",
        "        f, df = self.A.d_eval(self.tau, new_mean, new_std, ds=ds, dm=dm)\n",
        "\n",
        "        return -f, -df * grad\n",
        "\n",
        "    def acqfunc_h(self, xnew, n_start=n_start_AcqFunc, eps=eps):\n",
        "        f = self.acqfunc(xnew)[0]\n",
        "        \n",
        "        new_mean_h, new_var_h = self.GP.predict(xnew + eps, return_std=True)\n",
        "        new_std_h = np.sqrt(new_var_h + eps)\n",
        "        dm_h, ds_h = self.GP.AcqGrad(xnew + eps)\n",
        "        f_h = self.A.d_eval(-self.tau, new_mean_h, new_std_h, ds=ds_h, dm=dm_h)[0]\n",
        "        \n",
        "        exact_grad = (-f_h - f)/eps\n",
        "        return exact_grad\n"
      ],
      "execution_count": 10,
      "outputs": []
    },
    {
      "cell_type": "code",
      "metadata": {
        "id": "qXIKGuXVGEg2"
      },
      "source": [
        "###Reproducible set-seeds:\n",
        "\n",
        "run_num_1 = 1\n",
        "run_num_2 = 2\n",
        "run_num_3 = 3\n",
        "run_num_4 = 4\n",
        "run_num_5 = 5\n",
        "run_num_6 = 6\n",
        "run_num_7 = 7\n",
        "run_num_8 = 8\n",
        "run_num_9 = 9\n",
        "run_num_10 = 10\n",
        "run_num_11 = 11\n",
        "run_num_12 = 12\n",
        "run_num_13 = 13\n",
        "run_num_14 = 14\n",
        "run_num_15 = 15\n",
        "run_num_16 = 16\n",
        "run_num_17 = 17\n",
        "run_num_18 = 18\n",
        "run_num_19 = 19\n",
        "run_num_20 = 20\n"
      ],
      "execution_count": 11,
      "outputs": []
    },
    {
      "cell_type": "code",
      "metadata": {
        "colab": {
          "base_uri": "https://localhost:8080/"
        },
        "id": "JEhagQmnTVIK",
        "outputId": "3cace4c8-6846-4f40-ac1c-efd91f24b87b"
      },
      "source": [
        "start_exact = time.time()\n",
        "start_exact\n"
      ],
      "execution_count": 12,
      "outputs": [
        {
          "output_type": "execute_result",
          "data": {
            "text/plain": [
              "1629280469.080814"
            ]
          },
          "metadata": {
            "tags": []
          },
          "execution_count": 12
        }
      ]
    },
    {
      "cell_type": "code",
      "metadata": {
        "colab": {
          "base_uri": "https://localhost:8080/"
        },
        "id": "aH0YSTXufD1v",
        "outputId": "dc3f7cb5-aad9-4d93-9aab-20166947b210"
      },
      "source": [
        "### EXACT GP EI GRADIENTS\n",
        "\n",
        "np.random.seed(run_num_1)\n",
        "surrogate_exact_1 = dGaussianProcess(cov_func, optimize=opt)\n",
        "\n",
        "exact_1 = dGPGO(surrogate_exact_1, Acquisition_new(util_grad_exact), objfunc, param)\n",
        "exact_1.run(init_evals=n_init, max_iter=iters)\n"
      ],
      "execution_count": 13,
      "outputs": [
        {
          "output_type": "stream",
          "text": [
            "Evaluation \t Proposed point \t  Current eval. \t Best eval.\n",
            "init   \t [-0.84969467  2.25612281]. \t  -20.33436270766351 \t -19.908403246996286\n",
            "init   \t [-5.1188288  -2.02411446]. \t  -33.07414982069084 \t -19.908403246996286\n",
            "init   \t [-3.61721968 -4.17445279]. \t  -53.347974723929894 \t -19.908403246996286\n",
            "init   \t [-3.21269544 -1.58145816]. \t  -39.218472310354045 \t -19.908403246996286\n",
            "init   \t [-1.05710106  0.39748336]. \t  -19.908403246996286 \t -19.908403246996286\n",
            "1      \t [ 4.42339399 -4.97713589]. \t  -63.30510968121598 \t -19.908403246996286\n",
            "2      \t [5.12 5.12]. \t  -57.849427451571785 \t -19.908403246996286\n",
            "3      \t [4.20674575 0.11996824]. \t  -27.735638121979655 \t -19.908403246996286\n",
            "4      \t [-4.45706257  5.03138825]. \t  -65.01240533317953 \t -19.908403246996286\n",
            "5      \t [ 0.60134365 -3.4166547 ]. \t  -48.73528071624408 \t -19.908403246996286\n",
            "6      \t [1.14413705 5.12      ]. \t  -34.06194007263313 \t -19.908403246996286\n",
            "7      \t [2.46087537 2.2915122 ]. \t  -43.58511350663269 \t -19.908403246996286\n",
            "8      \t [-4.21694827  1.88119384]. \t  -31.918906927805402 \t -19.908403246996286\n",
            "9      \t [ 1.4743604  -0.63184312]. \t  -39.204076054052365 \t -19.908403246996286\n",
            "10     \t [-1.43051427  5.12      ]. \t  -50.03306604742461 \t -19.908403246996286\n",
            "11     \t [ 3.95055163 -2.26832503]. \t  -32.37979117587565 \t -19.908403246996286\n",
            "12     \t [5.12       2.33757096]. \t  -49.6177385788111 \t -19.908403246996286\n",
            "13     \t [-1.35589722 -4.3132029 ]. \t  -50.483293249397775 \t -19.908403246996286\n",
            "14     \t [ 1.70811387 -5.00630187]. \t  -40.59005688239821 \t -19.908403246996286\n",
            "15     \t [-0.9932854  -1.32265709]. \t  \u001b[92m-17.153189416416417\u001b[0m \t -17.153189416416417\n",
            "16     \t [-2.52178775  2.97519789]. \t  -35.23883812323112 \t -17.153189416416417\n",
            "17     \t [-4.68898038e+00  1.26960320e-04]. \t  -35.72727558745072 \t -17.153189416416417\n",
            "18     \t [2.95008797 5.12      ]. \t  -38.11546096121626 \t -17.153189416416417\n",
            "19     \t [0.41764242 2.90637476]. \t  -28.993136224414016 \t -17.153189416416417\n",
            "20     \t [ 5.12       -1.14114099]. \t  -33.90807827832271 \t -17.153189416416417\n"
          ],
          "name": "stdout"
        }
      ]
    },
    {
      "cell_type": "code",
      "metadata": {
        "colab": {
          "base_uri": "https://localhost:8080/"
        },
        "id": "wTxsSZxFGBB5",
        "outputId": "f2a75930-d11a-424e-c224-bb0c3a2c8b1d"
      },
      "source": [
        "### EXACT GP EI GRADIENTS\n",
        "\n",
        "np.random.seed(run_num_2)\n",
        "surrogate_exact_2 = dGaussianProcess(cov_func, optimize=opt)\n",
        "\n",
        "exact_2 = dGPGO(surrogate_exact_2, Acquisition_new(util_grad_exact), objfunc, param)\n",
        "exact_2.run(init_evals=n_init, max_iter=iters)\n"
      ],
      "execution_count": 14,
      "outputs": [
        {
          "output_type": "stream",
          "text": [
            "Evaluation \t Proposed point \t  Current eval. \t Best eval.\n",
            "init   \t [-0.6554122  -4.85451539]. \t  -43.490296251903594 \t -18.964539418712707\n",
            "init   \t [ 0.50854377 -0.6622987 ]. \t  -35.91861667536101 \t -18.964539418712707\n",
            "init   \t [-0.81543371 -1.73737143]. \t  -20.479562046739524 \t -18.964539418712707\n",
            "init   \t [-3.02439799  1.2213347 ]. \t  -18.964539418712707 \t -18.964539418712707\n",
            "init   \t [-2.05153614 -2.3876887 ]. \t  -28.041315668371354 \t -18.964539418712707\n",
            "1      \t [5.12 5.12]. \t  -57.849427451571785 \t -18.964539418712707\n",
            "2      \t [ 5.09538887 -3.68215404]. \t  -55.39914389476718 \t -18.964539418712707\n",
            "3      \t [-0.093441  5.12    ]. \t  -30.607978161486287 \t -18.964539418712707\n",
            "4      \t [5.12       0.71712281]. \t  -41.490053077333194 \t -18.964539418712707\n",
            "5      \t [-4.68187371  5.12      ]. \t  -64.99563134089169 \t -18.964539418712707\n",
            "6      \t [-4.8744542  -4.31604188]. \t  -59.37321683709654 \t -18.964539418712707\n",
            "7      \t [2.08911011 2.58222584]. \t  -31.25400134761605 \t -18.964539418712707\n",
            "8      \t [-4.89853329 -1.02091201]. \t  -27.08842837239992 \t -18.964539418712707\n",
            "9      \t [ 2.12778249 -3.92164278]. \t  -24.148044397682582 \t -18.964539418712707\n",
            "10     \t [-1.32589732  2.84399899]. \t  -28.86769802694026 \t -18.964539418712707\n",
            "11     \t [ 3.01053133 -0.99272099]. \t  \u001b[92m-10.081135199303889\u001b[0m \t -10.081135199303889\n",
            "12     \t [2.38875916 5.12      ]. \t  -52.28608658111092 \t -10.081135199303889\n",
            "13     \t [-5.1053053   1.89453597]. \t  -33.87998371203464 \t -10.081135199303889\n",
            "14     \t [-2.16683493  5.12      ]. \t  -38.62904574119905 \t -10.081135199303889\n",
            "15     \t [5.12       2.82431641]. \t  -42.39988365490046 \t -10.081135199303889\n",
            "16     \t [ 5.12       -1.30068538]. \t  -43.74759315276603 \t -10.081135199303889\n",
            "17     \t [-1.62765091  0.28000238]. \t  -31.55392433266835 \t -10.081135199303889\n",
            "18     \t [2.83492257 0.39223562]. \t  -30.898316044225307 \t -10.081135199303889\n",
            "19     \t [ 2.6075321  -1.90713782]. \t  -29.89388304658212 \t -10.081135199303889\n",
            "20     \t [ 2.51329403 -5.06833649]. \t  -52.87753794936306 \t -10.081135199303889\n"
          ],
          "name": "stdout"
        }
      ]
    },
    {
      "cell_type": "code",
      "metadata": {
        "colab": {
          "base_uri": "https://localhost:8080/"
        },
        "id": "-dgzIrUIGCGT",
        "outputId": "c01b2215-6fda-460f-f2af-6950f5f03fd9"
      },
      "source": [
        "### EXACT GP EI GRADIENTS\n",
        "\n",
        "np.random.seed(run_num_3)\n",
        "surrogate_exact_3 = dGaussianProcess(cov_func, optimize=opt)\n",
        "\n",
        "exact_3 = dGPGO(surrogate_exact_3, Acquisition_new(util_grad_exact), objfunc, param)\n",
        "exact_3.run(init_evals=n_init, max_iter=iters)\n"
      ],
      "execution_count": 15,
      "outputs": [
        {
          "output_type": "stream",
          "text": [
            "Evaluation \t Proposed point \t  Current eval. \t Best eval.\n",
            "init   \t [0.52017052 2.1314337 ]. \t  -27.953858411008774 \t -10.607662635789808\n",
            "init   \t [-2.14113547  0.11087468]. \t  -10.607662635789808 \t -10.607662635789808\n",
            "init   \t [4.02377681 4.05804123]. \t  -33.42749829480097 \t -10.607662635789808\n",
            "init   \t [-3.83400642 -2.99783293]. \t  -28.650953928965198 \t -10.607662635789808\n",
            "init   \t [-4.59297584 -0.6061072 ]. \t  -57.6631355589384 \t -10.607662635789808\n",
            "1      \t [ 3.48734552 -4.65410759]. \t  -69.45782440995153 \t -10.607662635789808\n",
            "2      \t [-3.80522423  5.12      ]. \t  -50.00381341491061 \t -10.607662635789808\n",
            "3      \t [ 5.12       -0.16026249]. \t  -33.60606258342197 \t -10.607662635789808\n",
            "4      \t [-0.57642942 -4.7418849 ]. \t  -52.19634115894448 \t -10.607662635789808\n",
            "5      \t [ 1.90187454 -1.28030083]. \t  -18.98983680541745 \t -10.607662635789808\n",
            "6      \t [-0.07513066  5.12      ]. \t  -30.024023153052205 \t -10.607662635789808\n",
            "7      \t [-2.77024661  2.42077812]. \t  -41.05224494039152 \t -10.607662635789808\n",
            "8      \t [-0.80588236 -1.59683573]. \t  -27.96526640898874 \t -10.607662635789808\n",
            "9      \t [2.97602381 1.45497636]. \t  -30.68945418434651 \t -10.607662635789808\n",
            "10     \t [-4.92669623 -4.74936806]. \t  -57.91059518900562 \t -10.607662635789808\n",
            "11     \t [-5.08540842  2.45703066]. \t  -52.94179993507342 \t -10.607662635789808\n",
            "12     \t [ 5.12       -2.56001049]. \t  -54.77588969139475 \t -10.607662635789808\n",
            "13     \t [5.12       2.29664985]. \t  -47.08862093688196 \t -10.607662635789808\n",
            "14     \t [2.153933 5.12    ]. \t  -37.887985061553394 \t -10.607662635789808\n",
            "15     \t [0.31511555 0.15489013]. \t  -18.47488717429127 \t -10.607662635789808\n",
            "16     \t [5.12 5.12]. \t  -57.849427451571785 \t -10.607662635789808\n",
            "17     \t [ 1.82270555 -3.04266534]. \t  -18.526254068253557 \t -10.607662635789808\n",
            "18     \t [-2.45455158 -4.94553136]. \t  -50.65807767451396 \t -10.607662635789808\n",
            "19     \t [-1.09041891  3.5996143 ]. \t  -33.8214804611391 \t -10.607662635789808\n",
            "20     \t [-1.37849142  0.57217238]. \t  -38.4414062475664 \t -10.607662635789808\n"
          ],
          "name": "stdout"
        }
      ]
    },
    {
      "cell_type": "code",
      "metadata": {
        "colab": {
          "base_uri": "https://localhost:8080/"
        },
        "id": "hOtG-2sCGCKS",
        "outputId": "25b989da-fffa-4c89-b812-48eafeceb062"
      },
      "source": [
        "### EXACT GP EI GRADIENTS\n",
        "\n",
        "np.random.seed(run_num_4)\n",
        "surrogate_exact_4 = dGaussianProcess(cov_func, optimize=opt)\n",
        "\n",
        "exact_4 = dGPGO(surrogate_exact_4, Acquisition_new(util_grad_exact), objfunc, param)\n",
        "exact_4.run(init_evals=n_init, max_iter=iters)\n"
      ],
      "execution_count": 16,
      "outputs": [
        {
          "output_type": "stream",
          "text": [
            "Evaluation \t Proposed point \t  Current eval. \t Best eval.\n",
            "init   \t [4.78238555 0.48365823]. \t  -51.03163809010808 \t -14.323038259018315\n",
            "init   \t [4.84028785 2.19971578]. \t  -39.78645699016559 \t -14.323038259018315\n",
            "init   \t [ 2.02474316 -2.90724357]. \t  -14.323038259018315 \t -14.323038259018315\n",
            "init   \t [ 4.87705042 -5.05620219]. \t  -52.80627247106233 \t -14.323038259018315\n",
            "init   \t [-2.52946061 -0.66773471]. \t  -41.61497868486559 \t -14.323038259018315\n",
            "1      \t [-2.49773852  5.03826286]. \t  -51.909382832259716 \t -14.323038259018315\n",
            "2      \t [-1.79792293 -4.9979256 ]. \t  -35.246844737137096 \t -14.323038259018315\n",
            "3      \t [1.85936052 5.12      ]. \t  -36.03870556547274 \t -14.323038259018315\n",
            "4      \t [0.59366141 1.53458334]. \t  -40.790012312128354 \t -14.323038259018315\n",
            "5      \t [-4.74778201 -4.77127534]. \t  -64.11306706692424 \t -14.323038259018315\n",
            "6      \t [5.12 5.12]. \t  -57.849427451571785 \t -14.323038259018315\n",
            "7      \t [-5.08816049  1.34138555]. \t  -44.61561614337628 \t -14.323038259018315\n",
            "8      \t [ 1.4128747  -5.01726856]. \t  -45.76668327811586 \t -14.323038259018315\n",
            "9      \t [ 5.02388749 -2.23954879]. \t  -39.71125021352384 \t -14.323038259018315\n",
            "10     \t [-5.09575311 -1.60450416]. \t  -48.21762434591832 \t -14.323038259018315\n",
            "11     \t [-0.05456476 -2.23672888]. \t  -14.755014233536444 \t -14.323038259018315\n",
            "12     \t [-2.2814946   2.44363662]. \t  -42.521996929172644 \t -14.323038259018315\n",
            "13     \t [-4.92391389  4.30921965]. \t  -57.571038991553294 \t -14.323038259018315\n",
            "14     \t [ 2.12818907 -0.63865722]. \t  -24.448120826935632 \t -14.323038259018315\n",
            "15     \t [-0.12145863  4.0941445 ]. \t  -21.249228418137726 \t -14.323038259018315\n",
            "16     \t [2.83232833 2.64568531]. \t  -36.17151054767876 \t -14.323038259018315\n",
            "17     \t [-2.57020929 -2.90070202]. \t  -35.94669379781309 \t -14.323038259018315\n",
            "18     \t [-0.18717077 -0.62746782]. \t  -23.54339081132806 \t -14.323038259018315\n",
            "19     \t [ 3.10443231 -2.86806798]. \t  -23.183474528677174 \t -14.323038259018315\n",
            "20     \t [-0.05598777 -3.17859111]. \t  -16.38124936037681 \t -14.323038259018315\n"
          ],
          "name": "stdout"
        }
      ]
    },
    {
      "cell_type": "code",
      "metadata": {
        "colab": {
          "base_uri": "https://localhost:8080/"
        },
        "id": "JF_SxcEvGCOl",
        "outputId": "351b7ff0-6d96-45ba-f31f-6137038ddb38"
      },
      "source": [
        "### EXACT GP EI GRADIENTS\n",
        "\n",
        "np.random.seed(run_num_5)\n",
        "surrogate_exact_5 = dGaussianProcess(cov_func, optimize=opt)\n",
        "\n",
        "exact_5 = dGPGO(surrogate_exact_5, Acquisition_new(util_grad_exact), objfunc, param)\n",
        "exact_5.run(init_evals=n_init, max_iter=iters)\n"
      ],
      "execution_count": 17,
      "outputs": [
        {
          "output_type": "stream",
          "text": [
            "Evaluation \t Proposed point \t  Current eval. \t Best eval.\n",
            "init   \t [-2.84678993  3.79629882]. \t  -33.93442008827236 \t -7.8108627039749745\n",
            "init   \t [-3.00319585  4.2865757 ]. \t  -39.673876075575784 \t -7.8108627039749745\n",
            "init   \t [-0.11866943  1.14425716]. \t  -7.8108627039749745 \t -7.8108627039749745\n",
            "init   \t [2.72289645 0.1886002 ]. \t  -25.38160395721669 \t -7.8108627039749745\n",
            "init   \t [-2.08076286 -3.19773462]. \t  -22.589982116319675 \t -7.8108627039749745\n",
            "1      \t [ 4.32895605 -5.09732646]. \t  -61.29478907190488 \t -7.8108627039749745\n",
            "2      \t [5.12 5.12]. \t  -57.849427451571785 \t -7.8108627039749745\n",
            "3      \t [-4.99191113  0.34486967]. \t  -40.6650834440818 \t -7.8108627039749745\n",
            "4      \t [1.00370269 5.12      ]. \t  -29.934838923615345 \t -7.8108627039749745\n",
            "5      \t [ 1.27650115 -2.96130054]. \t  -22.35035890984886 \t -7.8108627039749745\n",
            "6      \t [ 5.12       -1.49424324]. \t  -51.150935671660584 \t -7.8108627039749745\n",
            "7      \t [5.12       1.91103295]. \t  -34.09888306003356 \t -7.8108627039749745\n",
            "8      \t [-5.10664143 -4.73784091]. \t  -61.45023932226251 \t -7.8108627039749745\n",
            "9      \t [-1.86199284 -0.30431788]. \t  -20.43643356762208 \t -7.8108627039749745\n",
            "10     \t [1.93585832 2.77487775]. \t  -20.691905854946416 \t -7.8108627039749745\n",
            "11     \t [-0.94646266 -5.11497978]. \t  -30.117318157249837 \t -7.8108627039749745\n",
            "12     \t [-5.07359353  2.93394012]. \t  -36.24862419143108 \t -7.8108627039749745\n",
            "13     \t [-4.58140841 -1.88585864]. \t  -45.72917925304571 \t -7.8108627039749745\n",
            "14     \t [-0.60621453  2.87830556]. \t  -29.290293424127846 \t -7.8108627039749745\n",
            "15     \t [ 0.48298615 -0.79993763]. \t  -27.729648137174976 \t -7.8108627039749745\n",
            "16     \t [ 1.78109991 -5.00425618]. \t  -36.27681929883882 \t -7.8108627039749745\n",
            "17     \t [ 2.79421865 -2.11105089]. \t  -21.858584499232684 \t -7.8108627039749745\n",
            "18     \t [-2.20659617  1.25175075]. \t  -23.852482699291386 \t -7.8108627039749745\n",
            "19     \t [-1.00582353  5.12      ]. \t  -29.94308820119815 \t -7.8108627039749745\n",
            "20     \t [2.85365618 5.12      ]. \t  -41.00593085590141 \t -7.8108627039749745\n"
          ],
          "name": "stdout"
        }
      ]
    },
    {
      "cell_type": "code",
      "metadata": {
        "colab": {
          "base_uri": "https://localhost:8080/"
        },
        "id": "-kDxZtJsGCR3",
        "outputId": "d1366bca-3f1e-4770-a46e-1c3a8b596f0f"
      },
      "source": [
        "### EXACT GP EI GRADIENTS\n",
        "\n",
        "np.random.seed(run_num_6)\n",
        "surrogate_exact_6 = dGaussianProcess(cov_func, optimize=opt)\n",
        "\n",
        "exact_6 = dGPGO(surrogate_exact_6, Acquisition_new(util_grad_exact), objfunc, param)\n",
        "exact_6.run(init_evals=n_init, max_iter=iters)\n"
      ],
      "execution_count": 18,
      "outputs": [
        {
          "output_type": "stream",
          "text": [
            "Evaluation \t Proposed point \t  Current eval. \t Best eval.\n",
            "init   \t [ 4.02288795 -1.72052679]. \t  -31.08835710146886 \t -17.28954482757088\n",
            "init   \t [ 3.28938622 -4.69302655]. \t  -58.797867722203385 \t -17.28954482757088\n",
            "init   \t [-4.0175956   0.97333314]. \t  -17.28954482757088 \t -17.28954482757088\n",
            "init   \t [ 0.30532979 -0.83141193]. \t  -19.296253155889353 \t -17.28954482757088\n",
            "init   \t [-1.68542362  1.25459899]. \t  -28.650630936276173 \t -17.28954482757088\n",
            "1      \t [5.12 5.12]. \t  -57.849427451571785 \t -17.28954482757088\n",
            "2      \t [-4.03046901 -5.01672984]. \t  -41.65014747128707 \t -17.28954482757088\n",
            "3      \t [0.40849324 5.12      ]. \t  -47.48375398723939 \t -17.28954482757088\n",
            "4      \t [2.66066808 2.00580811]. \t  -26.431857781697538 \t -17.28954482757088\n",
            "5      \t [-4.18882173  5.12      ]. \t  -52.720963066108965 \t -17.28954482757088\n",
            "6      \t [-0.42686885 -4.33168521]. \t  -52.81852516749823 \t -17.28954482757088\n",
            "7      \t [-4.09852821 -1.8599877 ]. \t  -25.739664614672634 \t -17.28954482757088\n",
            "8      \t [5.12       1.16893197]. \t  -35.41488219538386 \t -17.28954482757088\n",
            "9      \t [-1.76368114 -1.78736461]. \t  -23.12050886205052 \t -17.28954482757088\n",
            "10     \t [-1.81949075  3.64457638]. \t  -38.514744683696264 \t -17.28954482757088\n",
            "11     \t [0.52693982 2.10178673]. \t  -26.528581995402245 \t -17.28954482757088\n",
            "12     \t [2.72879806 4.42263196]. \t  -57.175765586661775 \t -17.28954482757088\n",
            "13     \t [-5.08765454  2.0689077 ]. \t  -32.56600472011117 \t -17.28954482757088\n",
            "14     \t [ 1.70117501 -2.38199146]. \t  -38.962520262683135 \t -17.28954482757088\n",
            "15     \t [2.32535791 0.04823365]. \t  -20.42527239780146 \t -17.28954482757088\n",
            "16     \t [-2.97259746 -0.14887966]. \t  \u001b[92m-13.071701135778252\u001b[0m \t -13.071701135778252\n",
            "17     \t [ 4.90093551 -3.21938767]. \t  -44.34745439628051 \t -13.071701135778252\n",
            "18     \t [-5.10727516 -3.57955123]. \t  -59.8609335665158 \t -13.071701135778252\n",
            "19     \t [5.12       2.99547008]. \t  -37.90160498154174 \t -13.071701135778252\n",
            "20     \t [-4.92909873 -1.00603081]. \t  -26.291276442528968 \t -13.071701135778252\n"
          ],
          "name": "stdout"
        }
      ]
    },
    {
      "cell_type": "code",
      "metadata": {
        "colab": {
          "base_uri": "https://localhost:8080/"
        },
        "id": "fKB8MCD_GCVI",
        "outputId": "db593d65-33c2-453c-b626-27d33400b22c"
      },
      "source": [
        "### EXACT GP EI GRADIENTS\n",
        "\n",
        "np.random.seed(run_num_7)\n",
        "surrogate_exact_7 = dGaussianProcess(cov_func, optimize=opt)\n",
        "\n",
        "exact_7 = dGPGO(surrogate_exact_7, Acquisition_new(util_grad_exact), objfunc, param)\n",
        "exact_7.run(init_evals=n_init, max_iter=iters)\n"
      ],
      "execution_count": 19,
      "outputs": [
        {
          "output_type": "stream",
          "text": [
            "Evaluation \t Proposed point \t  Current eval. \t Best eval.\n",
            "init   \t [-4.33860312  2.86636843]. \t  -45.646133072936244 \t -22.52235437888213\n",
            "init   \t [-0.63068947  2.28828342]. \t  -34.83012662845338 \t -22.52235437888213\n",
            "init   \t [4.8946126  0.39419771]. \t  -44.09657005662876 \t -22.52235437888213\n",
            "init   \t [ 0.01147355 -4.38219639]. \t  -36.613209822404315 \t -22.52235437888213\n",
            "init   \t [-2.37118484e+00 -1.20319155e-03]. \t  -22.52235437888213 \t -22.52235437888213\n",
            "1      \t [-5.10538874 -4.17523358]. \t  -51.084190063788405 \t -22.52235437888213\n",
            "2      \t [3.59764055 5.12      ]. \t  -60.044147253243 \t -22.52235437888213\n",
            "3      \t [ 4.91359363 -4.39968041]. \t  -63.01683743771777 \t -22.52235437888213\n",
            "4      \t [ 1.44487362 -0.91163106]. \t  -23.827098340982914 \t -22.52235437888213\n",
            "5      \t [-1.50989016  5.12      ]. \t  -51.185180269981316 \t -22.52235437888213\n",
            "6      \t [2.34765133 2.20542615]. \t  -33.369012101821525 \t -22.52235437888213\n",
            "7      \t [-4.7513011  -1.23270559]. \t  -42.92817262507963 \t -22.52235437888213\n",
            "8      \t [-2.1585357  -2.98453706]. \t  \u001b[92m-18.17817547992238\u001b[0m \t -18.17817547992238\n",
            "9      \t [ 2.76210711 -2.87825495]. \t  -27.939416115724775 \t -18.17817547992238\n",
            "10     \t [5.12       2.99575432]. \t  -37.9028155904095 \t -18.17817547992238\n",
            "11     \t [1.02701979 4.80187375]. \t  -31.054602702712582 \t -18.17817547992238\n",
            "12     \t [-0.65338456 -1.34984121]. \t  -33.823252862225125 \t -18.17817547992238\n",
            "13     \t [-2.84992183 -4.34243362]. \t  -46.591647678412194 \t -18.17817547992238\n",
            "14     \t [ 5.12      -1.7781852]. \t  -40.32497032690853 \t -18.17817547992238\n",
            "15     \t [ 2.5730476  -5.10452634]. \t  -53.72209307898047 \t -18.17817547992238\n",
            "16     \t [2.72409092 0.02301915]. \t  -19.146348100744206 \t -18.17817547992238\n",
            "17     \t [-3.44790139  4.93581081]. \t  -56.521585287918626 \t -18.17817547992238\n",
            "18     \t [-4.86816459  1.14805313]. \t  -32.279727012974284 \t -18.17817547992238\n",
            "19     \t [-2.42742728  1.86474454]. \t  -31.746869965093907 \t -18.17817547992238\n",
            "20     \t [0.81848576 1.00521102]. \t  \u001b[92m-7.514213806086495\u001b[0m \t -7.514213806086495\n"
          ],
          "name": "stdout"
        }
      ]
    },
    {
      "cell_type": "code",
      "metadata": {
        "colab": {
          "base_uri": "https://localhost:8080/"
        },
        "id": "4unvifF-GCXp",
        "outputId": "13680c9c-dfbc-4a11-d23a-8e554dd7f6d8"
      },
      "source": [
        "### EXACT GP EI GRADIENTS\n",
        "\n",
        "np.random.seed(run_num_8)\n",
        "surrogate_exact_8 = dGaussianProcess(cov_func, optimize=opt)\n",
        "\n",
        "exact_8 = dGPGO(surrogate_exact_8, Acquisition_new(util_grad_exact), objfunc, param)\n",
        "exact_8.run(init_evals=n_init, max_iter=iters)\n"
      ],
      "execution_count": 20,
      "outputs": [
        {
          "output_type": "stream",
          "text": [
            "Evaluation \t Proposed point \t  Current eval. \t Best eval.\n",
            "init   \t [3.82391708 4.79785639]. \t  -50.20079446939181 \t -13.871821018360485\n",
            "init   \t [3.78055209 0.31596228]. \t  -36.5114251593508 \t -13.871821018360485\n",
            "init   \t [-2.73686192 -5.00327624]. \t  -43.34985765011677 \t -13.871821018360485\n",
            "init   \t [-0.7119993  -0.99992207]. \t  -13.871821018360485 \t -13.871821018360485\n",
            "init   \t [ 0.23218863 -0.22126801]. \t  -17.190590355445654 \t -13.871821018360485\n",
            "1      \t [-5.11238257  5.00673475]. \t  -53.60395082170822 \t -13.871821018360485\n",
            "2      \t [ 2.56577802 -4.57597654]. \t  -65.562842188195 \t -13.871821018360485\n",
            "3      \t [-5.01085567 -0.73166081]. \t  -36.81699162045986 \t -13.871821018360485\n",
            "4      \t [-0.58500366  4.26799861]. \t  -48.29382184340462 \t -13.871821018360485\n",
            "5      \t [-2.70672527  1.64978811]. \t  -38.62243213827434 \t -13.871821018360485\n",
            "6      \t [ 5.12       -2.27596532]. \t  -45.72895331362934 \t -13.871821018360485\n",
            "7      \t [1.87900284 2.45796814]. \t  -31.978898911859957 \t -13.871821018360485\n",
            "8      \t [-0.57341209 -3.0702746 ]. \t  -29.669392741065273 \t -13.871821018360485\n",
            "9      \t [5.12       2.44981858]. \t  -54.43336133511029 \t -13.871821018360485\n",
            "10     \t [-5.06834032 -3.16494504]. \t  -41.51938629556655 \t -13.871821018360485\n",
            "11     \t [ 2.04561948 -1.48985403]. \t  -26.791906270972163 \t -13.871821018360485\n",
            "12     \t [-2.50579951 -1.32007838]. \t  -42.277248038918806 \t -13.871821018360485\n",
            "13     \t [ 5.11323445 -5.03131037]. \t  -54.078129634596635 \t -13.871821018360485\n",
            "14     \t [1.51252934 5.12      ]. \t  -51.18148726213283 \t -13.871821018360485\n",
            "15     \t [-4.95001746  1.41554787]. \t  -45.62043672287736 \t -13.871821018360485\n",
            "16     \t [ 0.1804683 -5.0083257]. \t  -30.898423880334093 \t -13.871821018360485\n",
            "17     \t [-2.50435661  5.12      ]. \t  -55.19276947090522 \t -13.871821018360485\n",
            "18     \t [-0.4088161   1.74514253]. \t  -31.920997339730597 \t -13.871821018360485\n",
            "19     \t [1.80335704 0.33190959]. \t  -24.994517194162032 \t -13.871821018360485\n",
            "20     \t [ 5.12       -0.15977191]. \t  -33.57987817894309 \t -13.871821018360485\n"
          ],
          "name": "stdout"
        }
      ]
    },
    {
      "cell_type": "code",
      "metadata": {
        "colab": {
          "base_uri": "https://localhost:8080/"
        },
        "id": "85OIXcg7GCaJ",
        "outputId": "4aa28aab-929b-4357-854a-824328b532df"
      },
      "source": [
        "### EXACT GP EI GRADIENTS\n",
        "\n",
        "np.random.seed(run_num_9)\n",
        "surrogate_exact_9 = dGaussianProcess(cov_func, optimize=opt)\n",
        "\n",
        "exact_9 = dGPGO(surrogate_exact_9, Acquisition_new(util_grad_exact), objfunc, param)\n",
        "exact_9.run(init_evals=n_init, max_iter=iters)\n"
      ],
      "execution_count": 21,
      "outputs": [
        {
          "output_type": "stream",
          "text": [
            "Evaluation \t Proposed point \t  Current eval. \t Best eval.\n",
            "init   \t [-5.01376866  0.01919582]. \t  -25.248289026162446 \t -24.454800313488693\n",
            "init   \t [-0.04328148 -3.74958562]. \t  -24.454800313488693 \t -24.454800313488693\n",
            "init   \t [-3.66478248 -2.88195916]. \t  -39.46509426509438 \t -24.454800313488693\n",
            "init   \t [-0.83447623 -2.57944404]. \t  -31.06766397812992 \t -24.454800313488693\n",
            "init   \t [-4.25922917 -1.58209393]. \t  -49.922543556206975 \t -24.454800313488693\n",
            "1      \t [3.69491889 4.82146316]. \t  -55.95031066333101 \t -24.454800313488693\n",
            "2      \t [ 5.12       -1.22358574]. \t  -38.76982739332466 \t -24.454800313488693\n",
            "3      \t [-2.84626206  5.12      ]. \t  -41.33967962263132 \t -24.454800313488693\n",
            "4      \t [0.31557415 1.67861527]. \t  -31.25825267563986 \t -24.454800313488693\n",
            "5      \t [ 3.81870885 -4.87051037]. \t  -47.25134756788946 \t -24.454800313488693\n",
            "6      \t [0.46658549 5.06227536]. \t  -46.38056070136988 \t -24.454800313488693\n",
            "7      \t [5.12       1.92304634]. \t  -33.76915396285589 \t -24.454800313488693\n",
            "8      \t [ 1.98466348 -1.07021626]. \t  \u001b[92m-6.088167782795715\u001b[0m \t -6.088167782795715\n",
            "9      \t [-4.13262291  2.70726681]. \t  -40.33631466219572 \t -6.088167782795715\n",
            "10     \t [-4.77457463 -4.93780479]. \t  -56.39443082766477 \t -6.088167782795715\n",
            "11     \t [-1.99430849  0.43363146]. \t  -23.314753532049597 \t -6.088167782795715\n",
            "12     \t [2.90398885 0.35663403]. \t  -26.535281224033703 \t -6.088167782795715\n",
            "13     \t [ 2.80368596 -2.46629788]. \t  -40.41032988638781 \t -6.088167782795715\n",
            "14     \t [ 0.70062605 -0.57890567]. \t  -32.674728407353 \t -6.088167782795715\n",
            "15     \t [-2.19973862 -4.81982322]. \t  -40.71602077103748 \t -6.088167782795715\n",
            "16     \t [-1.45730758  3.19317423]. \t  -38.467395741277244 \t -6.088167782795715\n",
            "17     \t [2.41226458 2.63369929]. \t  -47.94825683068948 \t -6.088167782795715\n",
            "18     \t [ 1.37016701 -5.06973065]. \t  -45.37717986931305 \t -6.088167782795715\n",
            "19     \t [ 5.12       -3.37833259]. \t  -57.55541469277774 \t -6.088167782795715\n",
            "20     \t [-4.92645427  4.16957537]. \t  -47.86323471924115 \t -6.088167782795715\n"
          ],
          "name": "stdout"
        }
      ]
    },
    {
      "cell_type": "code",
      "metadata": {
        "colab": {
          "base_uri": "https://localhost:8080/"
        },
        "id": "QQBR-qJPGCcp",
        "outputId": "067ac1f6-f4eb-4736-d7df-b3445f573ab2"
      },
      "source": [
        "### EXACT GP EI GRADIENTS\n",
        "\n",
        "np.random.seed(run_num_10)\n",
        "surrogate_exact_10 = dGaussianProcess(cov_func, optimize=opt)\n",
        "\n",
        "exact_10 = dGPGO(surrogate_exact_10, Acquisition_new(util_grad_exact), objfunc, param)\n",
        "exact_10.run(init_evals=n_init, max_iter=iters)\n"
      ],
      "execution_count": 22,
      "outputs": [
        {
          "output_type": "stream",
          "text": [
            "Evaluation \t Proposed point \t  Current eval. \t Best eval.\n",
            "init   \t [ 2.77832339 -4.90750004]. \t  -41.674330194390116 \t -13.839458310244165\n",
            "init   \t [1.36855793 2.54775176]. \t  -44.69639719065837 \t -13.839458310244165\n",
            "init   \t [-0.01528819 -2.81808235]. \t  -13.839458310244165 \t -13.839458310244165\n",
            "init   \t [-3.09183626  2.66783449]. \t  -33.23221510904937 \t -13.839458310244165\n",
            "init   \t [-3.38830503 -4.2154003 ]. \t  -54.73014366983691 \t -13.839458310244165\n",
            "1      \t [ 5.12       -0.56214267]. \t  -48.488082131966394 \t -13.839458310244165\n",
            "2      \t [5.12 5.12]. \t  -57.849427451571785 \t -13.839458310244165\n",
            "3      \t [-3.88543601 -0.60438156]. \t  -35.86799706510702 \t -13.839458310244165\n",
            "4      \t [-0.8607295  5.12     ]. \t  -33.25607916111801 \t -13.839458310244165\n",
            "5      \t [-0.55656646 -0.0568942 ]. \t  -20.320188935495914 \t -13.839458310244165\n",
            "6      \t [ 2.05340944 -0.65687918]. \t  -20.72857955407371 \t -13.839458310244165\n",
            "7      \t [-4.64973396  4.86109759]. \t  -64.714437987482 \t -13.839458310244165\n",
            "8      \t [4.43836979 2.27749295]. \t  -55.86452622659318 \t -13.839458310244165\n",
            "9      \t [2.37058226 5.12      ]. \t  -51.4164682875212 \t -13.839458310244165\n",
            "10     \t [-0.63982874 -5.08623929]. \t  -44.09421643119464 \t -13.839458310244165\n",
            "11     \t [ 5.11555399 -3.52868125]. \t  -60.98049918860295 \t -13.839458310244165\n",
            "12     \t [ 2.08309958 -2.53596618]. \t  -31.848585257987782 \t -13.839458310244165\n",
            "13     \t [-0.98726271  2.09614839]. \t  \u001b[92m-7.170499769053578\u001b[0m \t -7.170499769053578\n",
            "14     \t [-1.35091224 -2.00538207]. \t  -21.776365334975413 \t -7.170499769053578\n",
            "15     \t [-4.95264825  1.44167275]. \t  -46.382421248156575 \t -7.170499769053578\n",
            "16     \t [-5.0591926  -2.92141175]. \t  -36.0083016978378 \t -7.170499769053578\n",
            "17     \t [-0.95084285  1.55966899]. \t  -23.11527400029102 \t -7.170499769053578\n",
            "18     \t [-0.88250718  3.09516066]. \t  -14.69709624319223 \t -7.170499769053578\n",
            "19     \t [2.97334153 0.50986876]. \t  -29.221461395594943 \t -7.170499769053578\n",
            "20     \t [-2.11990076  0.57757558]. \t  -26.369052563418283 \t -7.170499769053578\n"
          ],
          "name": "stdout"
        }
      ]
    },
    {
      "cell_type": "code",
      "metadata": {
        "colab": {
          "base_uri": "https://localhost:8080/"
        },
        "id": "JS8ejeQ2GCfi",
        "outputId": "4e3b0d35-2840-4a61-a818-606802913e45"
      },
      "source": [
        "### EXACT GP EI GRADIENTS\n",
        "\n",
        "np.random.seed(run_num_11)\n",
        "surrogate_exact_11 = dGaussianProcess(cov_func, optimize=opt)\n",
        "\n",
        "exact_11 = dGPGO(surrogate_exact_11, Acquisition_new(util_grad_exact), objfunc, param)\n",
        "exact_11.run(init_evals=n_init, max_iter=iters)\n"
      ],
      "execution_count": 23,
      "outputs": [
        {
          "output_type": "stream",
          "text": [
            "Evaluation \t Proposed point \t  Current eval. \t Best eval.\n",
            "init   \t [-3.27403839 -4.92057353]. \t  -47.655641290890955 \t -10.679755252484755\n",
            "init   \t [-0.37664229  2.30332343]. \t  -35.87889240695259 \t -10.679755252484755\n",
            "init   \t [-0.81711509 -0.14922651]. \t  -10.679755252484755 \t -10.679755252484755\n",
            "init   \t [-4.98912446 -0.12931474]. \t  -28.05462905574235 \t -10.679755252484755\n",
            "init   \t [4.52410012 3.59214172]. \t  -71.62694632141611 \t -10.679755252484755\n",
            "1      \t [ 3.39619778 -4.31739077]. \t  -62.230362468246824 \t -10.679755252484755\n",
            "2      \t [-3.97579834  4.78684114]. \t  -46.542034180630544 \t -10.679755252484755\n",
            "3      \t [ 5.12       -0.54962216]. \t  -48.744672707759506 \t -10.679755252484755\n",
            "4      \t [1.21008474 5.12      ]. \t  -37.90727715335119 \t -10.679755252484755\n",
            "5      \t [-0.0588274  -3.26715547]. \t  -22.42895513784663 \t -10.679755252484755\n",
            "6      \t [ 1.91856166 -0.35420026]. \t  -21.17645365706239 \t -10.679755252484755\n",
            "7      \t [-2.65203963 -1.89361965]. \t  -28.544707523802657 \t -10.679755252484755\n",
            "8      \t [-3.83420483  2.26683812]. \t  -35.84833260186047 \t -10.679755252484755\n",
            "9      \t [-1.36777274  5.12      ]. \t  -47.53830635145509 \t -10.679755252484755\n",
            "10     \t [2.40536399 1.82076092]. \t  -33.08358111256332 \t -10.679755252484755\n",
            "11     \t [ 0.87960591 -4.93521688]. \t  -28.674409004968105 \t -10.679755252484755\n",
            "12     \t [-5.04123902 -3.88243744]. \t  -43.42756848912794 \t -10.679755252484755\n",
            "13     \t [-2.20549757  0.48332707]. \t  -32.2831269363017 \t -10.679755252484755\n",
            "14     \t [-0.03466856 -0.9979584 ]. \t  \u001b[92m-1.2342563670855462\u001b[0m \t -1.2342563670855462\n",
            "15     \t [ 0.45303422 -1.44839039]. \t  -41.349647738474914 \t -1.2342563670855462\n",
            "16     \t [ 3.2131497  -1.90758453]. \t  -23.307480904542707 \t -1.2342563670855462\n",
            "17     \t [-1.27928857 -4.61414198]. \t  -52.29342466193578 \t -1.2342563670855462\n",
            "18     \t [0.105746   0.32749722]. \t  -16.924845204222127 \t -1.2342563670855462\n",
            "19     \t [ 5.12      -3.0001246]. \t  -37.92546441587807 \t -1.2342563670855462\n",
            "20     \t [4.83064335 1.79470398]. \t  -38.93111232806912 \t -1.2342563670855462\n"
          ],
          "name": "stdout"
        }
      ]
    },
    {
      "cell_type": "code",
      "metadata": {
        "colab": {
          "base_uri": "https://localhost:8080/"
        },
        "id": "DXwjUVZ4GCii",
        "outputId": "40f16806-135e-4a17-9bd9-9084201e1089"
      },
      "source": [
        "### EXACT GP EI GRADIENTS\n",
        "\n",
        "np.random.seed(run_num_12)\n",
        "surrogate_exact_12 = dGaussianProcess(cov_func, optimize=opt)\n",
        "\n",
        "exact_12 = dGPGO(surrogate_exact_12, Acquisition_new(util_grad_exact), objfunc, param)\n",
        "exact_12.run(init_evals=n_init, max_iter=iters)\n"
      ],
      "execution_count": 24,
      "outputs": [
        {
          "output_type": "stream",
          "text": [
            "Evaluation \t Proposed point \t  Current eval. \t Best eval.\n",
            "init   \t [-3.54137249  2.45810889]. \t  -57.903242869085595 \t -40.51116653209555\n",
            "init   \t [-2.42365424  0.34549139]. \t  -40.51116653209555 \t -40.51116653209555\n",
            "init   \t [-4.97075238  4.28796936]. \t  -55.62655915398208 \t -40.51116653209555\n",
            "init   \t [ 4.10332011 -4.77776458]. \t  -49.962803461970296 \t -40.51116653209555\n",
            "init   \t [ 4.6791612  -3.71497655]. \t  -62.183891474990624 \t -40.51116653209555\n",
            "1      \t [5.12 5.12]. \t  -57.849427451571785 \t -40.51116653209555\n",
            "2      \t [-1.429116   -5.07020608]. \t  -47.731094352895866 \t -40.51116653209555\n",
            "3      \t [2.46876182 0.87652674]. \t  \u001b[92m-29.532509184605182\u001b[0m \t -29.532509184605182\n",
            "4      \t [0.32776192 5.12      ]. \t  -43.725977608522456 \t -29.532509184605182\n",
            "5      \t [-4.47959654 -3.34109879]. \t  -66.56409552980816 \t -29.532509184605182\n",
            "6      \t [ 1.00352951 -2.33107052]. \t  \u001b[92m-21.31979016833762\u001b[0m \t -21.31979016833762\n",
            "7      \t [ 5.12       -0.28310512]. \t  -41.06995156771072 \t -21.31979016833762\n",
            "8      \t [-0.15731624  2.29447715]. \t  -22.547847646820472 \t -21.31979016833762\n",
            "9      \t [2.72935365 3.52366214]. \t  -51.04886330688881 \t -21.31979016833762\n",
            "10     \t [-4.98780247  0.09785811]. \t  -26.748564694619755 \t -21.31979016833762\n",
            "11     \t [ 1.22821966 -4.78430874]. \t  -40.89487706156218 \t -21.31979016833762\n",
            "12     \t [-2.29342935  5.12      ]. \t  -46.87954029867729 \t -21.31979016833762\n",
            "13     \t [-1.31267791 -2.27516803]. \t  -32.31144390075615 \t -21.31979016833762\n",
            "14     \t [5.12      2.2695044]. \t  -45.29779634005951 \t -21.31979016833762\n",
            "15     \t [ 0.3675907  -0.19080988]. \t  -23.271984946997783 \t -21.31979016833762\n",
            "16     \t [ 3.10089232 -1.56323615]. \t  -33.22314850225934 \t -21.31979016833762\n",
            "17     \t [-1.1856394   3.15456434]. \t  -21.77898784568265 \t -21.31979016833762\n",
            "18     \t [-3.91662165 -5.06347114]. \t  -43.104552987872864 \t -21.31979016833762\n",
            "19     \t [-3.07794584 -1.58951586]. \t  -31.63533749230029 \t -21.31979016833762\n",
            "20     \t [2.5568005 5.12     ]. \t  -54.8318279874878 \t -21.31979016833762\n"
          ],
          "name": "stdout"
        }
      ]
    },
    {
      "cell_type": "code",
      "metadata": {
        "colab": {
          "base_uri": "https://localhost:8080/"
        },
        "id": "CphOPndPGClX",
        "outputId": "ba10ea6b-9b9a-4df3-fa32-8a648e0f5dec"
      },
      "source": [
        "### EXACT GP EI GRADIENTS\n",
        "\n",
        "np.random.seed(run_num_13)\n",
        "surrogate_exact_13 = dGaussianProcess(cov_func, optimize=opt)\n",
        "\n",
        "exact_13 = dGPGO(surrogate_exact_13, Acquisition_new(util_grad_exact), objfunc, param)\n",
        "exact_13.run(init_evals=n_init, max_iter=iters)\n"
      ],
      "execution_count": 25,
      "outputs": [
        {
          "output_type": "stream",
          "text": [
            "Evaluation \t Proposed point \t  Current eval. \t Best eval.\n",
            "init   \t [ 2.84367268 -2.68757791]. \t  -33.58019830007169 \t -17.435826639425656\n",
            "init   \t [3.32061217 4.76927179]. \t  -56.857057997503354 \t -17.435826639425656\n",
            "init   \t [ 4.83943541 -0.47667971]. \t  -48.211919361679726 \t -17.435826639425656\n",
            "init   \t [1.11659482 2.82139151]. \t  -17.435826639425656 \t -17.435826639425656\n",
            "init   \t [1.45012065 2.27346667]. \t  -38.25352329493884 \t -17.435826639425656\n",
            "1      \t [-4.77366547 -2.51495235]. \t  -57.58729610569417 \t -17.435826639425656\n",
            "2      \t [-4.65374571  4.09568012]. \t  -55.87107425121984 \t -17.435826639425656\n",
            "3      \t [-0.85315619 -1.19925842]. \t  \u001b[92m-12.994523582970656\u001b[0m \t -12.994523582970656\n",
            "4      \t [-0.97448151 -4.42119294]. \t  -39.42375662415496 \t -12.994523582970656\n",
            "5      \t [-0.96527163  5.12      ]. \t  -30.09358658323204 \t -12.994523582970656\n",
            "6      \t [-3.07098317  0.95918525]. \t  \u001b[92m-11.656204511354824\u001b[0m \t -11.656204511354824\n",
            "7      \t [5.12       2.46274437]. \t  -54.717095688219985 \t -11.656204511354824\n",
            "8      \t [ 4.50831156 -4.88177911]. \t  -66.77725603317572 \t -11.656204511354824\n",
            "9      \t [-1.23719869  2.2671086 ]. \t  -26.93987516676108 \t -11.656204511354824\n",
            "10     \t [ 1.25349067 -0.37949298]. \t  -29.202403149174312 \t -11.656204511354824\n",
            "11     \t [-4.79969745  1.54030771]. \t  -52.01856359090585 \t -11.656204511354824\n",
            "12     \t [-4.6036405  -4.99499112]. \t  -64.102009656859 \t -11.656204511354824\n",
            "13     \t [ 1.30544115 -4.75878687]. \t  -47.21185961311351 \t -11.656204511354824\n",
            "14     \t [-2.21115838 -1.98096483]. \t  -16.468543551915133 \t -11.656204511354824\n",
            "15     \t [-2.2941688   0.00479388]. \t  -18.007490626889915 \t -11.656204511354824\n",
            "16     \t [1.05775094 5.12      ]. \t  -30.6946953187782 \t -11.656204511354824\n",
            "17     \t [ 0.25872039 -2.30308249]. \t  -29.192547659270677 \t -11.656204511354824\n",
            "18     \t [-2.7617771  5.12     ]. \t  -45.81282448536625 \t -11.656204511354824\n",
            "19     \t [5.12 5.12]. \t  -57.8494274515718 \t -11.656204511354824\n",
            "20     \t [3.13793856 0.85182447]. \t  -18.128554701542747 \t -11.656204511354824\n"
          ],
          "name": "stdout"
        }
      ]
    },
    {
      "cell_type": "code",
      "metadata": {
        "colab": {
          "base_uri": "https://localhost:8080/"
        },
        "id": "ojHTeARNGCoi",
        "outputId": "0103fd7f-73c1-47f0-826c-25ff8dc1986b"
      },
      "source": [
        "### EXACT GP EI GRADIENTS\n",
        "\n",
        "np.random.seed(run_num_14)\n",
        "surrogate_exact_14 = dGaussianProcess(cov_func, optimize=opt)\n",
        "\n",
        "exact_14 = dGPGO(surrogate_exact_14, Acquisition_new(util_grad_exact), objfunc, param)\n",
        "exact_14.run(init_evals=n_init, max_iter=iters)\n"
      ],
      "execution_count": 26,
      "outputs": [
        {
          "output_type": "stream",
          "text": [
            "Evaluation \t Proposed point \t  Current eval. \t Best eval.\n",
            "init   \t [0.14277984 2.79721013]. \t  -18.683085263052178 \t -10.423838604848608\n",
            "init   \t [ 3.7931795  -5.03759925]. \t  -47.36348784446708 \t -10.423838604848608\n",
            "init   \t [-1.94830412  4.68586229]. \t  -40.19779334078636 \t -10.423838604848608\n",
            "init   \t [ 0.13431513 -1.86076749]. \t  -10.423838604848608 \t -10.423838604848608\n",
            "init   \t [ 0.40140736 -2.85434939]. \t  -30.353548735049138 \t -10.423838604848608\n",
            "1      \t [5.12 5.12]. \t  -57.849427451571785 \t -10.423838604848608\n",
            "2      \t [-4.86239269  0.12555678]. \t  -30.12298792967517 \t -10.423838604848608\n",
            "3      \t [ 5.12       -0.06379214]. \t  -29.721361132465084 \t -10.423838604848608\n",
            "4      \t [-4.62652576 -3.93393713]. \t  -54.732738587882196 \t -10.423838604848608\n",
            "5      \t [-1.45242996  0.00782361]. \t  -21.678328853366786 \t -10.423838604848608\n",
            "6      \t [-4.94809879  4.29013902]. \t  -55.91135949686909 \t -10.423838604848608\n",
            "7      \t [1.92182311 0.58346534]. \t  -23.87226453749812 \t -10.423838604848608\n",
            "8      \t [1.75422433 5.12      ]. \t  -41.73662530195939 \t -10.423838604848608\n",
            "9      \t [ 3.31338203 -2.14856978]. \t  -33.5225139400005 \t -10.423838604848608\n",
            "10     \t [-1.73410604 -4.5714758 ]. \t  -53.910903420054204 \t -10.423838604848608\n",
            "11     \t [4.07110838 2.41682794]. \t  -42.06189741721336 \t -10.423838604848608\n",
            "12     \t [-2.85768609  2.05712815]. \t  -16.773925105809358 \t -10.423838604848608\n",
            "13     \t [-2.20168684 -1.67292888]. \t  -29.31238382781175 \t -10.423838604848608\n",
            "14     \t [ 5.12       -2.89446182]. \t  -39.42184334690116 \t -10.423838604848608\n",
            "15     \t [ 0.70568881 -0.75383388]. \t  -23.57371997971813 \t -10.423838604848608\n",
            "16     \t [ 1.34255645 -4.68101175]. \t  -53.40770861969442 \t -10.423838604848608\n",
            "17     \t [1.81326854 2.72129145]. \t  -28.61601304864555 \t -10.423838604848608\n",
            "18     \t [-4.85720682 -1.82313435]. \t  -36.24308779097792 \t -10.423838604848608\n",
            "19     \t [-1.00849196  1.82002867]. \t  \u001b[92m-10.084369005358766\u001b[0m \t -10.084369005358766\n",
            "20     \t [-4.64475391  2.03993852]. \t  -42.189577183932215 \t -10.084369005358766\n"
          ],
          "name": "stdout"
        }
      ]
    },
    {
      "cell_type": "code",
      "metadata": {
        "colab": {
          "base_uri": "https://localhost:8080/"
        },
        "id": "vCJzn4vWGCs3",
        "outputId": "84c48bda-b87f-4b86-8591-0647b0bcd9bf"
      },
      "source": [
        "### EXACT GP EI GRADIENTS\n",
        "\n",
        "np.random.seed(run_num_15)\n",
        "surrogate_exact_15 = dGaussianProcess(cov_func, optimize=opt)\n",
        "\n",
        "exact_15 = dGPGO(surrogate_exact_15, Acquisition_new(util_grad_exact), objfunc, param)\n",
        "exact_15.run(init_evals=n_init, max_iter=iters)\n"
      ],
      "execution_count": 27,
      "outputs": [
        {
          "output_type": "stream",
          "text": [
            "Evaluation \t Proposed point \t  Current eval. \t Best eval.\n",
            "init   \t [ 3.57189322 -3.28810573]. \t  -54.938487770767075 \t -7.990765314336182\n",
            "init   \t [-4.56332069 -1.41784631]. \t  -60.750198753157726 \t -7.990765314336182\n",
            "init   \t [-2.29989449  0.3072023 ]. \t  -31.984997246800887 \t -7.990765314336182\n",
            "init   \t [-1.9873903  -2.00218256]. \t  -7.990765314336182 \t -7.990765314336182\n",
            "init   \t [-3.97576933 -2.5610341 ]. \t  -41.754957769694336 \t -7.990765314336182\n",
            "1      \t [5.12 5.12]. \t  -57.849427451571785 \t -7.990765314336182\n",
            "2      \t [-0.36825142  5.12      ]. \t  -45.82529292399006 \t -7.990765314336182\n",
            "3      \t [-4.85889915  4.07088597]. \t  -44.83579234327536 \t -7.990765314336182\n",
            "4      \t [2.20913429 1.49245466]. \t  -34.55691209576099 \t -7.990765314336182\n",
            "5      \t [-0.69489951 -4.85719791]. \t  -41.23097385012861 \t -7.990765314336182\n",
            "6      \t [ 5.12000000e+00 -9.02733543e-04]. \t  -28.92487540059215 \t -7.990765314336182\n",
            "7      \t [ 0.62530697 -1.44321218]. \t  -38.90145030882049 \t -7.990765314336182\n",
            "8      \t [2.35234706 4.32315096]. \t  -54.65577056609698 \t -7.990765314336182\n",
            "9      \t [-0.58540758  2.27977416]. \t  -35.994300908816165 \t -7.990765314336182\n",
            "10     \t [-4.26886322 -4.85416671]. \t  -56.880949494275505 \t -7.990765314336182\n",
            "11     \t [5.12       2.39767096]. \t  -52.67683110019404 \t -7.990765314336182\n",
            "12     \t [-2.7069573   4.89743991]. \t  -45.98956171645615 \t -7.990765314336182\n",
            "13     \t [ 2.18708431 -5.08382078]. \t  -38.132719773023325 \t -7.990765314336182\n",
            "14     \t [-3.9999427   1.76222657]. \t  -28.33752236713603 \t -7.990765314336182\n",
            "15     \t [ 3.21203239 -0.74383004]. \t  -28.89499517952437 \t -7.990765314336182\n",
            "16     \t [-1.49203685 -2.38109011]. \t  -45.21965187787808 \t -7.990765314336182\n",
            "17     \t [ 4.26154555 -5.03079238]. \t  -54.38101279183634 \t -7.990765314336182\n",
            "18     \t [ 5.10684557 -1.7214604 ]. \t  -42.996951321010485 \t -7.990765314336182\n",
            "19     \t [0.14537484 0.42709903]. \t  -23.062267010521147 \t -7.990765314336182\n",
            "20     \t [ 1.15717596 -3.39098092]. \t  -35.07484586249618 \t -7.990765314336182\n"
          ],
          "name": "stdout"
        }
      ]
    },
    {
      "cell_type": "code",
      "metadata": {
        "colab": {
          "base_uri": "https://localhost:8080/"
        },
        "id": "bGGkhp-kGCw6",
        "outputId": "3999d4fe-7021-4ffa-c9d1-f4dc943443f3"
      },
      "source": [
        "### EXACT GP EI GRADIENTS\n",
        "\n",
        "np.random.seed(run_num_16)\n",
        "surrogate_exact_16 = dGaussianProcess(cov_func, optimize=opt)\n",
        "\n",
        "exact_16 = dGPGO(surrogate_exact_16, Acquisition_new(util_grad_exact), objfunc, param)\n",
        "exact_16.run(init_evals=n_init, max_iter=iters)\n"
      ],
      "execution_count": 28,
      "outputs": [
        {
          "output_type": "stream",
          "text": [
            "Evaluation \t Proposed point \t  Current eval. \t Best eval.\n",
            "init   \t [-2.83349935  0.23719262]. \t  -22.27210456874814 \t -22.27210456874814\n",
            "init   \t [ 0.51918292 -4.65303603]. \t  -57.57021076017139 \t -22.27210456874814\n",
            "init   \t [-1.42613673 -2.83565116]. \t  -33.89145899403749 \t -22.27210456874814\n",
            "init   \t [ 1.9325559  -3.44339021]. \t  -35.85029586225333 \t -22.27210456874814\n",
            "init   \t [-4.39987336  4.51595121]. \t  -77.78800881964571 \t -22.27210456874814\n",
            "1      \t [5.12 5.12]. \t  -57.849427451571785 \t -22.27210456874814\n",
            "2      \t [5.12       0.19089745]. \t  -35.33239674885928 \t -22.27210456874814\n",
            "3      \t [0.58757105 3.46790038]. \t  -50.692939558987604 \t -22.27210456874814\n",
            "4      \t [ 5.11613919 -4.88814769]. \t  -54.984857724695374 \t -22.27210456874814\n",
            "5      \t [-4.65821696 -3.90889141]. \t  -54.025186340897356 \t -22.27210456874814\n",
            "6      \t [ 1.43384889 -0.05161342]. \t  \u001b[92m-21.728417965050816\u001b[0m \t -21.728417965050816\n",
            "7      \t [3.54046403 2.5630999 ]. \t  -58.007211609284084 \t -21.728417965050816\n",
            "8      \t [-1.43185064  5.08685828]. \t  -48.476090581079596 \t -21.728417965050816\n",
            "9      \t [-4.78723825  0.23544327]. \t  -39.741273048451504 \t -21.728417965050816\n",
            "10     \t [ 5.02807606 -2.16143745]. \t  -34.82676246244526 \t -21.728417965050816\n",
            "11     \t [-0.92017789  1.27598093]. \t  \u001b[92m-15.33159832541032\u001b[0m \t -15.33159832541032\n",
            "12     \t [2.36001782 5.12      ]. \t  -50.869500214865724 \t -15.33159832541032\n",
            "13     \t [-1.90353606 -4.93934504]. \t  -30.519286965469977 \t -15.33159832541032\n",
            "14     \t [-2.5625417   2.59581412]. \t  -50.78460889854546 \t -15.33159832541032\n",
            "15     \t [-0.31907613 -0.72132217]. \t  -26.619459460338355 \t -15.33159832541032\n",
            "16     \t [-3.30763949 -1.82060629]. \t  -33.50580169601557 \t -15.33159832541032\n",
            "17     \t [ 2.98281565 -1.24775335]. \t  -20.371154846294477 \t -15.33159832541032\n",
            "18     \t [0.9913081  1.39445716]. \t  -20.822710821052162 \t -15.33159832541032\n",
            "19     \t [ 3.06500677 -4.96257629]. \t  -35.1192356201996 \t -15.33159832541032\n",
            "20     \t [ 1.26133501 -1.86923264]. \t  -18.986349661522382 \t -15.33159832541032\n"
          ],
          "name": "stdout"
        }
      ]
    },
    {
      "cell_type": "code",
      "metadata": {
        "colab": {
          "base_uri": "https://localhost:8080/"
        },
        "id": "Yrs2mp7hGC1Z",
        "outputId": "21fa6878-a9a3-4249-8bcb-41323d8d97d1"
      },
      "source": [
        "### EXACT GP EI GRADIENTS\n",
        "\n",
        "np.random.seed(run_num_17)\n",
        "surrogate_exact_17 = dGaussianProcess(cov_func, optimize=opt)\n",
        "\n",
        "exact_17 = dGPGO(surrogate_exact_17, Acquisition_new(util_grad_exact), objfunc, param)\n",
        "exact_17.run(init_evals=n_init, max_iter=iters)\n"
      ],
      "execution_count": 29,
      "outputs": [
        {
          "output_type": "stream",
          "text": [
            "Evaluation \t Proposed point \t  Current eval. \t Best eval.\n",
            "init   \t [-2.10263037  0.31320838]. \t  -20.395145364684023 \t -20.395145364684023\n",
            "init   \t [-3.15882714 -4.42470033]. \t  -53.03732051200137 \t -20.395145364684023\n",
            "init   \t [2.93873111 1.60085526]. \t  -29.989224812583537 \t -20.395145364684023\n",
            "init   \t [1.40821398 0.77417363]. \t  -29.451989415882437 \t -20.395145364684023\n",
            "init   \t [-4.71999574 -1.45598869]. \t  -55.89242173757483 \t -20.395145364684023\n",
            "1      \t [ 4.96008736 -4.44720822]. \t  -64.14783177084814 \t -20.395145364684023\n",
            "2      \t [-4.48453384  4.87458544]. \t  -66.77282209641305 \t -20.395145364684023\n",
            "3      \t [0.22730878 5.12      ]. \t  -37.55547657572979 \t -20.395145364684023\n",
            "4      \t [5.12 5.12]. \t  -57.849427451571785 \t -20.395145364684023\n",
            "5      \t [ 0.88533857 -3.41270454]. \t  -33.44832465431712 \t -20.395145364684023\n",
            "6      \t [ 5.12       -0.80995818]. \t  -35.901943470721974 \t -20.395145364684023\n",
            "7      \t [-1.78717297  2.96053369]. \t  \u001b[92m-19.950161754452793\u001b[0m \t -19.950161754452793\n",
            "8      \t [-1.42603705 -1.90625419]. \t  -26.29200212603258 \t -19.950161754452793\n",
            "9      \t [-5.11073253  2.36032461]. \t  -50.404948731285806 \t -19.950161754452793\n",
            "10     \t [5.12      2.2063891]. \t  -41.086874622179536 \t -19.950161754452793\n",
            "11     \t [ 2.71792503 -1.71523219]. \t  -34.49804583235295 \t -19.950161754452793\n",
            "12     \t [2.52237887 4.14676636]. \t  -47.41837173694961 \t -19.950161754452793\n",
            "13     \t [-0.13855659 -4.90033486]. \t  -29.486104526047043 \t -19.950161754452793\n",
            "14     \t [ 2.4597096  -4.88486078]. \t  -52.09799098895134 \t -19.950161754452793\n",
            "15     \t [0.08590733 2.39433869]. \t  -25.03799204035468 \t -19.950161754452793\n",
            "16     \t [ 0.24452113 -0.77530637]. \t  \u001b[92m-18.733356364392215\u001b[0m \t -18.733356364392215\n",
            "17     \t [-1.74399046  5.12      ]. \t  -42.34371713255854 \t -18.733356364392215\n",
            "18     \t [-4.95270712 -5.09088973]. \t  -52.47152439656671 \t -18.733356364392215\n",
            "19     \t [-3.36433861  0.74574542]. \t  -38.72409149749925 \t -18.733356364392215\n",
            "20     \t [-0.74263859  0.63292993]. \t  -28.124599279657364 \t -18.733356364392215\n"
          ],
          "name": "stdout"
        }
      ]
    },
    {
      "cell_type": "code",
      "metadata": {
        "colab": {
          "base_uri": "https://localhost:8080/"
        },
        "id": "f0HIEP3PIUEa",
        "outputId": "3aed8b66-9436-4a8a-f009-592e497d94cb"
      },
      "source": [
        "### EXACT GP EI GRADIENTS\n",
        "\n",
        "np.random.seed(run_num_18)\n",
        "surrogate_exact_18 = dGaussianProcess(cov_func, optimize=opt)\n",
        "\n",
        "exact_18 = dGPGO(surrogate_exact_18, Acquisition_new(util_grad_exact), objfunc, param)\n",
        "exact_18.run(init_evals=n_init, max_iter=iters)\n"
      ],
      "execution_count": 30,
      "outputs": [
        {
          "output_type": "stream",
          "text": [
            "Evaluation \t Proposed point \t  Current eval. \t Best eval.\n",
            "init   \t [1.53983224 0.05584255]. \t  -22.67190580753611 \t -22.67190580753611\n",
            "init   \t [ 3.87687906 -3.25795609]. \t  -38.990099416711985 \t -22.67190580753611\n",
            "init   \t [3.60686662 2.56139557]. \t  -56.66448698782129 \t -22.67190580753611\n",
            "init   \t [1.70088108 4.99604939]. \t  -40.894059318256296 \t -22.67190580753611\n",
            "init   \t [-2.48864335 -4.83014733]. \t  -54.6725749848372 \t -22.67190580753611\n",
            "1      \t [-5.00718904  2.9174042 ]. \t  -34.91005808676357 \t -22.67190580753611\n",
            "2      \t [-2.99572465 -0.54340826]. \t  -28.90362514523323 \t -22.67190580753611\n",
            "3      \t [-1.89011448  4.78895648]. \t  -36.373582021495075 \t -22.67190580753611\n",
            "4      \t [ 0.58174971 -3.11206401]. \t  -31.111128390399358 \t -22.67190580753611\n",
            "5      \t [ 5.12       -0.35167913]. \t  -45.0112693539802 \t -22.67190580753611\n",
            "6      \t [-0.81144173  1.96546466]. \t  \u001b[92m-10.990675371388438\u001b[0m \t -10.990675371388438\n",
            "7      \t [5.12 5.12]. \t  -57.849427451571785 \t -10.990675371388438\n",
            "8      \t [-4.82607423 -2.0709296 ]. \t  -33.95655437394192 \t -10.990675371388438\n",
            "9      \t [-0.60410891 -0.77155535]. \t  -27.545761315215703 \t -10.990675371388438\n",
            "10     \t [-2.68707018  2.06373337]. \t  -26.122250654272896 \t -10.990675371388438\n",
            "11     \t [ 1.63142879 -4.9789025 ]. \t  -44.318515358189245 \t -10.990675371388438\n",
            "12     \t [0.60213516 2.65230445]. \t  -41.167975680649576 \t -10.990675371388438\n",
            "13     \t [-4.93923416  0.50048379]. \t  -45.36652847565296 \t -10.990675371388438\n",
            "14     \t [-4.90291004  5.06915427]. \t  -52.46779943637062 \t -10.990675371388438\n",
            "15     \t [-4.79469121 -4.78523222]. \t  -60.92056714346226 \t -10.990675371388438\n",
            "16     \t [ 4.55265018 -4.94047264]. \t  -65.28403044729268 \t -10.990675371388438\n",
            "17     \t [ 2.88521266 -1.42825977]. \t  -31.855612789578743 \t -10.990675371388438\n",
            "18     \t [-1.57045428 -2.60866883]. \t  -46.065736777449956 \t -10.990675371388438\n",
            "19     \t [-0.85609865  1.30075036]. \t  -19.376362359519362 \t -10.990675371388438\n",
            "20     \t [-0.20772915 -4.92801707]. \t  -32.709142029936935 \t -10.990675371388438\n"
          ],
          "name": "stdout"
        }
      ]
    },
    {
      "cell_type": "code",
      "metadata": {
        "colab": {
          "base_uri": "https://localhost:8080/"
        },
        "id": "S3mxRQDLIUPC",
        "outputId": "f47e3593-00bf-4a93-d721-2d99dba43071"
      },
      "source": [
        "### EXACT GP EI GRADIENTS\n",
        "\n",
        "np.random.seed(run_num_19)\n",
        "surrogate_exact_19 = dGaussianProcess(cov_func, optimize=opt)\n",
        "\n",
        "exact_19 = dGPGO(surrogate_exact_19, Acquisition_new(util_grad_exact), objfunc, param)\n",
        "exact_19.run(init_evals=n_init, max_iter=iters)\n"
      ],
      "execution_count": 31,
      "outputs": [
        {
          "output_type": "stream",
          "text": [
            "Evaluation \t Proposed point \t  Current eval. \t Best eval.\n",
            "init   \t [-4.12125592  2.6751971 ]. \t  -41.43485596167127 \t -25.867003842388073\n",
            "init   \t [-2.59135515 -3.70553152]. \t  -51.60126035043229 \t -25.867003842388073\n",
            "init   \t [-1.72598719 -4.27008445]. \t  -43.97430127029199 \t -25.867003842388073\n",
            "init   \t [1.76104531 3.13952049]. \t  -25.867003842388073 \t -25.867003842388073\n",
            "init   \t [4.9432772  1.38916592]. \t  -44.66580306903559 \t -25.867003842388073\n",
            "1      \t [ 4.21710172 -4.56788076]. \t  -65.70127216515351 \t -25.867003842388073\n",
            "2      \t [ 1.19245349 -1.01338513]. \t  \u001b[92m-8.946756834325152\u001b[0m \t -8.946756834325152\n",
            "3      \t [5.12 5.12]. \t  -57.849427451571785 \t -8.946756834325152\n",
            "4      \t [-1.28586056  5.12      ]. \t  -42.81231968229143 \t -8.946756834325152\n",
            "5      \t [-1.48288024  0.20252629]. \t  -29.243329510292646 \t -8.946756834325152\n",
            "6      \t [-4.97430011 -0.52168424]. \t  -45.053235859354544 \t -8.946756834325152\n",
            "7      \t [ 5.12       -1.58133241]. \t  -50.147754869599154 \t -8.946756834325152\n",
            "8      \t [ 1.16795839 -3.81100912]. \t  -27.21824509756451 \t -8.946756834325152\n",
            "9      \t [2.21135855 0.52587415]. \t  -32.63066179237037 \t -8.946756834325152\n",
            "10     \t [-5.03211639 -3.09420229]. \t  -36.80032174368513 \t -8.946756834325152\n",
            "11     \t [-0.87329097  2.60359414]. \t  -28.50198911162752 \t -8.946756834325152\n",
            "12     \t [2.03772227 5.12      ]. \t  -33.3565963211082 \t -8.946756834325152\n",
            "13     \t [ 0.2051728 -1.9280392]. \t  -11.984819106414944 \t -8.946756834325152\n",
            "14     \t [-4.14340968  5.11146057]. \t  -49.440843163396714 \t -8.946756834325152\n",
            "15     \t [ 2.56218993 -1.94319667]. \t  -30.217240518617672 \t -8.946756834325152\n",
            "16     \t [-2.80902495 -1.24217219]. \t  -25.317760583300576 \t -8.946756834325152\n",
            "17     \t [-4.5151617  -5.00991106]. \t  -65.4599357402167 \t -8.946756834325152\n",
            "18     \t [3.65152548 3.22839111]. \t  -48.2026288512546 \t -8.946756834325152\n",
            "19     \t [ 0.38762006 -0.71392349]. \t  -30.516284786968214 \t -8.946756834325152\n",
            "20     \t [-0.09744587 -4.87430346]. \t  -28.544824028449682 \t -8.946756834325152\n"
          ],
          "name": "stdout"
        }
      ]
    },
    {
      "cell_type": "code",
      "metadata": {
        "colab": {
          "base_uri": "https://localhost:8080/"
        },
        "id": "Aawd59dRIUYn",
        "outputId": "6f40321c-f74b-4029-e4b1-927602cd1b42"
      },
      "source": [
        "### EXACT GP EI GRADIENTS\n",
        "\n",
        "np.random.seed(run_num_20)\n",
        "surrogate_exact_20 = dGaussianProcess(cov_func, optimize=opt)\n",
        "\n",
        "exact_20 = dGPGO(surrogate_exact_20, Acquisition_new(util_grad_exact), objfunc, param)\n",
        "exact_20.run(init_evals=n_init, max_iter=iters)\n"
      ],
      "execution_count": 32,
      "outputs": [
        {
          "output_type": "stream",
          "text": [
            "Evaluation \t Proposed point \t  Current eval. \t Best eval.\n",
            "init   \t [0.9024594  4.07258857]. \t  -20.24255447774017 \t -17.388691338534382\n",
            "init   \t [4.00927467 3.23417577]. \t  -35.55852254546393 \t -17.388691338534382\n",
            "init   \t [-4.75249064  1.96359764]. \t  -36.54582989269194 \t -17.388691338534382\n",
            "init   \t [-1.24230715  0.18955208]. \t  -17.388691338534382 \t -17.388691338534382\n",
            "init   \t [ 1.61742301 -3.13497377]. \t  -33.22932870179905 \t -17.388691338534382\n",
            "1      \t [-5.04038248 -4.33114855]. \t  -59.36512603389513 \t -17.388691338534382\n",
            "2      \t [ 5.12       -0.92629977]. \t  -30.835901319674683 \t -17.388691338534382\n",
            "3      \t [ 5.11316294 -4.88092784]. \t  -55.06148040152972 \t -17.388691338534382\n",
            "4      \t [-2.62501484  5.12      ]. \t  -52.8858250766759 \t -17.388691338534382\n",
            "5      \t [-1.52162249 -4.2741012 ]. \t  -51.999672740062714 \t -17.388691338534382\n",
            "6      \t [2.08542598 0.29154552]. \t  -18.421072486103736 \t -17.388691338534382\n",
            "7      \t [-3.57823388 -1.32601948]. \t  -47.974956478984694 \t -17.388691338534382\n",
            "8      \t [-1.26950045  2.50420462]. \t  -39.101369072993236 \t -17.388691338534382\n",
            "9      \t [5.12 5.12]. \t  -57.8494274515718 \t -17.388691338534382\n",
            "10     \t [-0.22773543 -1.58234331]. \t  -29.852496732466065 \t -17.388691338534382\n",
            "11     \t [5.12       1.33581416]. \t  -45.84349222507421 \t -17.388691338534382\n",
            "12     \t [2.3644752 5.12     ]. \t  -51.10380529795775 \t -17.388691338534382\n",
            "13     \t [1.43156985 2.04663922]. \t  -25.75425807767717 \t -17.388691338534382\n",
            "14     \t [ 3.44019124 -2.13940419]. \t  -39.31110784885201 \t -17.388691338534382\n",
            "15     \t [ 1.52250049 -4.8460514 ]. \t  -50.02710529086161 \t -17.388691338534382\n",
            "16     \t [-0.27458679  4.88176958]. \t  -38.0804224784431 \t -17.388691338534382\n",
            "17     \t [-4.80622164  4.84808674]. \t  -57.364037103546536 \t -17.388691338534382\n",
            "18     \t [-2.81661417  1.09957   ]. \t  \u001b[92m-16.971995590970348\u001b[0m \t -16.971995590970348\n",
            "19     \t [0.36553012 0.39725578]. \t  -34.9171153988734 \t -16.971995590970348\n",
            "20     \t [3.33627163 0.15853505]. \t  -30.87910847392327 \t -16.971995590970348\n"
          ],
          "name": "stdout"
        }
      ]
    },
    {
      "cell_type": "code",
      "metadata": {
        "colab": {
          "base_uri": "https://localhost:8080/"
        },
        "id": "xkgzPRbBTHaq",
        "outputId": "b7655600-38b9-4df8-a942-999e58396ba4"
      },
      "source": [
        "end_exact = time.time()\n",
        "end_exact\n",
        "\n",
        "time_exact = end_exact - start_exact\n",
        "time_exact\n",
        "\n",
        "start_zero = time.time()\n",
        "start_zero"
      ],
      "execution_count": 33,
      "outputs": [
        {
          "output_type": "execute_result",
          "data": {
            "text/plain": [
              "1629284232.5918546"
            ]
          },
          "metadata": {
            "tags": []
          },
          "execution_count": 33
        }
      ]
    },
    {
      "cell_type": "code",
      "metadata": {
        "colab": {
          "base_uri": "https://localhost:8080/"
        },
        "id": "7CG3Ndvb16Rb",
        "outputId": "87002c4b-6301-4598-a037-e9a59e4493af"
      },
      "source": [
        "### ZERO GP EI GRADIENTS\n",
        "\n",
        "np.random.seed(run_num_1)\n",
        "surrogate_zero_1 = dGaussianProcess(cov_func, optimize=opt)\n",
        "\n",
        "zero_1 = dGPGO_zero(surrogate_zero_1, Acquisition_new(util_grad_zero), objfunc, param)\n",
        "zero_1.run(init_evals=n_init, max_iter=iters)\n"
      ],
      "execution_count": 34,
      "outputs": [
        {
          "output_type": "stream",
          "text": [
            "Evaluation \t Proposed point \t  Current eval. \t Best eval.\n",
            "init   \t [-0.84969467  2.25612281]. \t  -20.33436270766351 \t -19.908403246996286\n",
            "init   \t [-5.1188288  -2.02411446]. \t  -33.07414982069084 \t -19.908403246996286\n",
            "init   \t [-3.61721968 -4.17445279]. \t  -53.347974723929894 \t -19.908403246996286\n",
            "init   \t [-3.21269544 -1.58145816]. \t  -39.218472310354045 \t -19.908403246996286\n",
            "init   \t [-1.05710106  0.39748336]. \t  -19.908403246996286 \t -19.908403246996286\n",
            "1      \t [ 4.42339399 -4.97713589]. \t  -63.30510968121598 \t -19.908403246996286\n",
            "2      \t [4.8613414  1.39882906]. \t  -47.197115901892985 \t -19.908403246996286\n",
            "3      \t [-4.0285811   4.97365835]. \t  -41.26421026895091 \t -19.908403246996286\n",
            "4      \t [2.22135298 4.99022003]. \t  -38.0653370455428 \t -19.908403246996286\n",
            "5      \t [ 0.36872699 -4.71183435]. \t  -51.49938954286396 \t -19.908403246996286\n",
            "6      \t [ 2.26614624 -0.61084583]. \t  -34.19245837215231 \t -19.908403246996286\n",
            "7      \t [4.84065641 5.10484999]. \t  -56.19107909595234 \t -19.908403246996286\n",
            "8      \t [-4.21694827  1.88119384]. \t  -31.918906927805402 \t -19.908403246996286\n",
            "9      \t [-0.81189684  4.89349523]. \t  -32.970428938558264 \t -19.908403246996286\n",
            "10     \t [ 9.54978273e-04 -1.83450725e+00]. \t  \u001b[92m-8.30185701149347\u001b[0m \t -8.30185701149347\n",
            "11     \t [ 4.15547819 -1.86256638]. \t  -28.643542761159143 \t -8.30185701149347\n",
            "12     \t [1.50169581 1.07776804]. \t  -24.58634356896986 \t -8.30185701149347\n",
            "13     \t [ 2.40096702 -3.28345583]. \t  -46.75810352553396 \t -8.30185701149347\n",
            "14     \t [2.62317966 3.00806909]. \t  -33.09387991447062 \t -8.30185701149347\n",
            "15     \t [-0.83112814 -2.07679699]. \t  -11.266090200856706 \t -8.30185701149347\n",
            "16     \t [ 0.07096717 -1.55095434]. \t  -22.880130942470362 \t -8.30185701149347\n",
            "17     \t [-2.58938035  2.99917241]. \t  -34.16413800092804 \t -8.30185701149347\n",
            "18     \t [-4.32662974  0.28740751]. \t  -45.762034608887014 \t -8.30185701149347\n",
            "19     \t [-1.55122474 -3.07105932]. \t  -32.30447695025257 \t -8.30185701149347\n",
            "20     \t [ 4.92699636 -1.01623325]. \t  -26.39368545678616 \t -8.30185701149347\n"
          ],
          "name": "stdout"
        }
      ]
    },
    {
      "cell_type": "code",
      "metadata": {
        "id": "-ilCPSAu9SAg",
        "colab": {
          "base_uri": "https://localhost:8080/"
        },
        "outputId": "451c03f5-5d72-4daa-bd36-2fd4f26ab223"
      },
      "source": [
        "### ZERO GP EI GRADIENTS\n",
        "\n",
        "np.random.seed(run_num_2)\n",
        "surrogate_zero_2 = dGaussianProcess(cov_func, optimize=opt)\n",
        "\n",
        "zero_2 = dGPGO_zero(surrogate_zero_2, Acquisition_new(util_grad_zero), objfunc, param)\n",
        "zero_2.run(init_evals=n_init, max_iter=iters)\n"
      ],
      "execution_count": 35,
      "outputs": [
        {
          "output_type": "stream",
          "text": [
            "Evaluation \t Proposed point \t  Current eval. \t Best eval.\n",
            "init   \t [-0.6554122  -4.85451539]. \t  -43.490296251903594 \t -18.964539418712707\n",
            "init   \t [ 0.50854377 -0.6622987 ]. \t  -35.91861667536101 \t -18.964539418712707\n",
            "init   \t [-0.81543371 -1.73737143]. \t  -20.479562046739524 \t -18.964539418712707\n",
            "init   \t [-3.02439799  1.2213347 ]. \t  -18.964539418712707 \t -18.964539418712707\n",
            "init   \t [-2.05153614 -2.3876887 ]. \t  -28.041315668371354 \t -18.964539418712707\n",
            "1      \t [4.36389158 4.51702655]. \t  -75.950626279408 \t -18.964539418712707\n",
            "2      \t [ 4.48423034 -3.74346998]. \t  -64.48301965911325 \t -18.964539418712707\n",
            "3      \t [-1.81881041  5.10238239]. \t  -37.15105201697424 \t -18.964539418712707\n",
            "4      \t [4.34503103 0.43953058]. \t  -53.98179453555729 \t -18.964539418712707\n",
            "5      \t [-5.0413191   4.76055462]. \t  -57.75021097488111 \t -18.964539418712707\n",
            "6      \t [-4.8744542  -4.31604188]. \t  -59.37321683709654 \t -18.964539418712707\n",
            "7      \t [0.24643879 2.62993693]. \t  -33.60192070246863 \t -18.964539418712707\n",
            "8      \t [-4.89853329 -1.02091201]. \t  -27.08842837239992 \t -18.964539418712707\n",
            "9      \t [ 1.85392694 -4.19549834]. \t  -31.605691743931096 \t -18.964539418712707\n",
            "10     \t [-5.08467007  1.24116964]. \t  -38.22187383691047 \t -18.964539418712707\n",
            "11     \t [1.62299757 4.54944054]. \t  -60.01237085482423 \t -18.964539418712707\n",
            "12     \t [1.84803514 1.29777618]. \t  -22.278911929756767 \t -18.964539418712707\n",
            "13     \t [ 2.86303703 -2.28020611]. \t  -28.762751540592845 \t -18.964539418712707\n",
            "14     \t [-2.12779601  2.94417639]. \t  \u001b[92m-16.85877833840747\u001b[0m \t -16.85877833840747\n",
            "15     \t [-1.32061146  0.64091136]. \t  -32.777320303034806 \t -16.85877833840747\n",
            "16     \t [ 5.02583217 -1.31251147]. \t  -40.94060618149455 \t -16.85877833840747\n",
            "17     \t [-2.75588542 -4.48231814]. \t  -57.254721781685284 \t -16.85877833840747\n",
            "18     \t [-2.79681167 -0.86912272]. \t  -18.873305038605448 \t -16.85877833840747\n",
            "19     \t [-4.05278006  2.82002139]. \t  -30.66339869951819 \t -16.85877833840747\n",
            "20     \t [3.09376875 2.38330366]. \t  -34.36770000969695 \t -16.85877833840747\n"
          ],
          "name": "stdout"
        }
      ]
    },
    {
      "cell_type": "code",
      "metadata": {
        "colab": {
          "base_uri": "https://localhost:8080/"
        },
        "id": "XieJ158mIvlP",
        "outputId": "fcd10a79-0d02-4ac5-8782-74e02acff7c9"
      },
      "source": [
        "### ZERO GP EI GRADIENTS\n",
        "\n",
        "np.random.seed(run_num_3)\n",
        "surrogate_zero_3 = dGaussianProcess(cov_func, optimize=opt)\n",
        "\n",
        "zero_3 = dGPGO_zero(surrogate_zero_3, Acquisition_new(util_grad_zero), objfunc, param)\n",
        "zero_3.run(init_evals=n_init, max_iter=iters)\n"
      ],
      "execution_count": 36,
      "outputs": [
        {
          "output_type": "stream",
          "text": [
            "Evaluation \t Proposed point \t  Current eval. \t Best eval.\n",
            "init   \t [0.52017052 2.1314337 ]. \t  -27.953858411008774 \t -10.607662635789808\n",
            "init   \t [-2.14113547  0.11087468]. \t  -10.607662635789808 \t -10.607662635789808\n",
            "init   \t [4.02377681 4.05804123]. \t  -33.42749829480097 \t -10.607662635789808\n",
            "init   \t [-3.83400642 -2.99783293]. \t  -28.650953928965198 \t -10.607662635789808\n",
            "init   \t [-4.59297584 -0.6061072 ]. \t  -57.6631355589384 \t -10.607662635789808\n",
            "1      \t [ 3.48734552 -4.65410759]. \t  -69.45782440995153 \t -10.607662635789808\n",
            "2      \t [-4.98603203  3.95760033]. \t  -40.914367327747186 \t -10.607662635789808\n",
            "3      \t [ 4.52457904 -0.15917927]. \t  -44.97640314727789 \t -10.607662635789808\n",
            "4      \t [-0.57642942 -4.7418849 ]. \t  -52.19634115894448 \t -10.607662635789808\n",
            "5      \t [-1.42281295  4.75805437]. \t  -53.00446296713395 \t -10.607662635789808\n",
            "6      \t [ 1.31868059 -1.28112651]. \t  -29.506132511923816 \t -10.607662635789808\n",
            "7      \t [1.65231998 4.89973065]. \t  -44.416614141149786 \t -10.607662635789808\n",
            "8      \t [-4.68395133 -4.89977121]. \t  -61.897309241378935 \t -10.607662635789808\n",
            "9      \t [-1.11691791 -1.97064683]. \t  \u001b[92m-7.8796719152898085\u001b[0m \t -7.8796719152898085\n",
            "10     \t [-2.41452284  1.97071276]. \t  -28.47458377401539 \t -7.8796719152898085\n",
            "11     \t [2.58771592 1.07672233]. \t  -27.514495077271388 \t -7.8796719152898085\n",
            "12     \t [ 4.91617166 -2.44479709]. \t  -50.90559701459573 \t -7.8796719152898085\n",
            "13     \t [-0.65813369  0.19542846]. \t  -22.566200870029704 \t -7.8796719152898085\n",
            "14     \t [4.71831013 1.91816128]. \t  -39.2129693337483 \t -7.8796719152898085\n",
            "15     \t [-4.91625828  1.60753634]. \t  -45.90924899335475 \t -7.8796719152898085\n",
            "16     \t [-1.93021222 -2.06808393]. \t  -9.849877227999693 \t -7.8796719152898085\n",
            "17     \t [ 1.79743982 -3.16496593]. \t  -25.218753469214302 \t -7.8796719152898085\n",
            "18     \t [-0.75779675 -2.24435639]. \t  -24.76717877648902 \t -7.8796719152898085\n",
            "19     \t [-2.42316823 -0.68928802]. \t  -38.9268894747216 \t -7.8796719152898085\n",
            "20     \t [-3.87966379  4.96768157]. \t  -42.65990680699781 \t -7.8796719152898085\n"
          ],
          "name": "stdout"
        }
      ]
    },
    {
      "cell_type": "code",
      "metadata": {
        "colab": {
          "base_uri": "https://localhost:8080/"
        },
        "id": "PhLBVOIfIvol",
        "outputId": "395eaf40-3709-442a-f624-2be551f0712f"
      },
      "source": [
        "### ZERO GP EI GRADIENTS\n",
        "\n",
        "np.random.seed(run_num_4)\n",
        "surrogate_zero_4 = dGaussianProcess(cov_func, optimize=opt)\n",
        "\n",
        "zero_4 = dGPGO_zero(surrogate_zero_4, Acquisition_new(util_grad_zero), objfunc, param)\n",
        "zero_4.run(init_evals=n_init, max_iter=iters)\n"
      ],
      "execution_count": 37,
      "outputs": [
        {
          "output_type": "stream",
          "text": [
            "Evaluation \t Proposed point \t  Current eval. \t Best eval.\n",
            "init   \t [4.78238555 0.48365823]. \t  -51.03163809010808 \t -14.323038259018315\n",
            "init   \t [4.84028785 2.19971578]. \t  -39.78645699016559 \t -14.323038259018315\n",
            "init   \t [ 2.02474316 -2.90724357]. \t  -14.323038259018315 \t -14.323038259018315\n",
            "init   \t [ 4.87705042 -5.05620219]. \t  -52.80627247106233 \t -14.323038259018315\n",
            "init   \t [-2.52946061 -0.66773471]. \t  -41.61497868486559 \t -14.323038259018315\n",
            "1      \t [-1.31242285  4.65120347]. \t  -52.99501268754465 \t -14.323038259018315\n",
            "2      \t [-1.79792293 -4.9979256 ]. \t  -35.246844737137096 \t -14.323038259018315\n",
            "3      \t [-5.1107157   4.88035335]. \t  -54.956006925958356 \t -14.323038259018315\n",
            "4      \t [0.49528365 1.43722479]. \t  -41.53869473449281 \t -14.323038259018315\n",
            "5      \t [2.61954547 4.41377834]. \t  -62.22075788333776 \t -14.323038259018315\n",
            "6      \t [-4.46867611 -3.06681654]. \t  -50.049755346011274 \t -14.323038259018315\n",
            "7      \t [-5.08816049  1.34138555]. \t  -44.61561614337628 \t -14.323038259018315\n",
            "8      \t [ 1.4128747  -5.01726856]. \t  -45.76668327811586 \t -14.323038259018315\n",
            "9      \t [ 0.63982325 -1.70083664]. \t  -32.72514502364228 \t -14.323038259018315\n",
            "10     \t [ 3.87646365 -2.27920554]. \t  -34.91070862532533 \t -14.323038259018315\n",
            "11     \t [-2.82114715  2.8602018 ]. \t  -25.432721907954964 \t -14.323038259018315\n",
            "12     \t [2.21792469 0.21936799]. \t  -21.05277054493135 \t -14.323038259018315\n",
            "13     \t [-1.77769456 -3.02600528]. \t  -20.71876812684507 \t -14.323038259018315\n",
            "14     \t [-4.93462039 -0.80364001]. \t  -32.52141031117838 \t -14.323038259018315\n",
            "15     \t [4.65501383 4.3387058 ]. \t  -71.40307029735814 \t -14.323038259018315\n",
            "16     \t [-3.98904455 -4.89956919]. \t  -41.86770698765109 \t -14.323038259018315\n",
            "17     \t [-1.32314771  1.93403311]. \t  -20.773856392124873 \t -14.323038259018315\n",
            "18     \t [0.67245087 3.9435373 ]. \t  -31.308423237318955 \t -14.323038259018315\n",
            "19     \t [2.48614893 1.78736698]. \t  -37.011444977853344 \t -14.323038259018315\n",
            "20     \t [-0.27068047 -3.44932101]. \t  -42.76411738071175 \t -14.323038259018315\n"
          ],
          "name": "stdout"
        }
      ]
    },
    {
      "cell_type": "code",
      "metadata": {
        "colab": {
          "base_uri": "https://localhost:8080/"
        },
        "id": "arbiPyj2IvsJ",
        "outputId": "b9b42421-f89a-46db-bc82-c64155c32b0a"
      },
      "source": [
        "### ZERO GP EI GRADIENTS\n",
        "\n",
        "np.random.seed(run_num_5)\n",
        "surrogate_zero_5 = dGaussianProcess(cov_func, optimize=opt)\n",
        "\n",
        "zero_5 = dGPGO_zero(surrogate_zero_5, Acquisition_new(util_grad_zero), objfunc, param)\n",
        "zero_5.run(init_evals=n_init, max_iter=iters)\n"
      ],
      "execution_count": 38,
      "outputs": [
        {
          "output_type": "stream",
          "text": [
            "Evaluation \t Proposed point \t  Current eval. \t Best eval.\n",
            "init   \t [-2.84678993  3.79629882]. \t  -33.93442008827236 \t -7.8108627039749745\n",
            "init   \t [-3.00319585  4.2865757 ]. \t  -39.673876075575784 \t -7.8108627039749745\n",
            "init   \t [-0.11866943  1.14425716]. \t  -7.8108627039749745 \t -7.8108627039749745\n",
            "init   \t [2.72289645 0.1886002 ]. \t  -25.38160395721669 \t -7.8108627039749745\n",
            "init   \t [-2.08076286 -3.19773462]. \t  -22.589982116319675 \t -7.8108627039749745\n",
            "1      \t [ 4.32895605 -5.09732646]. \t  -61.29478907190488 \t -7.8108627039749745\n",
            "2      \t [4.48759904 4.77928109]. \t  -71.12030870314028 \t -7.8108627039749745\n",
            "3      \t [-4.99191113  0.34486967]. \t  -40.6650834440818 \t -7.8108627039749745\n",
            "4      \t [1.09890332 4.03071434]. \t  -19.509403576262443 \t -7.8108627039749745\n",
            "5      \t [ 0.40473436 -5.0026839 ]. \t  -43.45349053170776 \t -7.8108627039749745\n",
            "6      \t [-4.90718759 -2.99027876]. \t  -34.69362473943757 \t -7.8108627039749745\n",
            "7      \t [ 4.99789072 -1.69210937]. \t  -41.40072125086606 \t -7.8108627039749745\n",
            "8      \t [ 0.25167886 -1.71738855]. \t  -25.15297936816011 \t -7.8108627039749745\n",
            "9      \t [4.94463942 1.40316983]. \t  -45.22286008564386 \t -7.8108627039749745\n",
            "10     \t [-2.47806055 -0.2369829 ]. \t  -35.285105616343955 \t -7.8108627039749745\n",
            "11     \t [-2.59117085 -5.07051563]. \t  -51.793498551629234 \t -7.8108627039749745\n",
            "12     \t [-5.07359353  2.93394012]. \t  -36.24862419143108 \t -7.8108627039749745\n",
            "13     \t [-0.52829252  2.19937175]. \t  -31.831051375946195 \t -7.8108627039749745\n",
            "14     \t [ 1.98851241 -2.83803699]. \t  -16.780949125479555 \t -7.8108627039749745\n",
            "15     \t [-0.35282096  4.89667092]. \t  -42.15672478029163 \t -7.8108627039749745\n",
            "16     \t [2.7212889  2.64770811]. \t  -42.20371458630318 \t -7.8108627039749745\n",
            "17     \t [0.20008939 0.52869744]. \t  -27.072607985996967 \t -7.8108627039749745\n",
            "18     \t [-2.17463111  1.86764852]. \t  -16.919562370340746 \t -7.8108627039749745\n",
            "19     \t [ 2.58887759 -1.63612272]. \t  -44.420081630745116 \t -7.8108627039749745\n",
            "20     \t [1.78710006 4.92457531]. \t  -36.23723769096235 \t -7.8108627039749745\n"
          ],
          "name": "stdout"
        }
      ]
    },
    {
      "cell_type": "code",
      "metadata": {
        "colab": {
          "base_uri": "https://localhost:8080/"
        },
        "id": "04KJCEm_Ivvf",
        "outputId": "22decad4-2223-45a3-fc4e-19e97aa0d451"
      },
      "source": [
        "### ZERO GP EI GRADIENTS\n",
        "\n",
        "np.random.seed(run_num_6)\n",
        "surrogate_zero_6 = dGaussianProcess(cov_func, optimize=opt)\n",
        "\n",
        "zero_6 = dGPGO_zero(surrogate_zero_6, Acquisition_new(util_grad_zero), objfunc, param)\n",
        "zero_6.run(init_evals=n_init, max_iter=iters)\n"
      ],
      "execution_count": 39,
      "outputs": [
        {
          "output_type": "stream",
          "text": [
            "Evaluation \t Proposed point \t  Current eval. \t Best eval.\n",
            "init   \t [ 4.02288795 -1.72052679]. \t  -31.08835710146886 \t -17.28954482757088\n",
            "init   \t [ 3.28938622 -4.69302655]. \t  -58.797867722203385 \t -17.28954482757088\n",
            "init   \t [-4.0175956   0.97333314]. \t  -17.28954482757088 \t -17.28954482757088\n",
            "init   \t [ 0.30532979 -0.83141193]. \t  -19.296253155889353 \t -17.28954482757088\n",
            "init   \t [-1.68542362  1.25459899]. \t  -28.650630936276173 \t -17.28954482757088\n",
            "1      \t [4.93241742 4.79914066]. \t  -55.20982233788753 \t -17.28954482757088\n",
            "2      \t [-4.03046901 -5.01672984]. \t  -41.65014747128707 \t -17.28954482757088\n",
            "3      \t [0.76103835 4.69388342]. \t  -45.372020949792976 \t -17.28954482757088\n",
            "4      \t [-0.45226025 -3.945031  ]. \t  -35.911831531312416 \t -17.28954482757088\n",
            "5      \t [-4.5691026   4.85971735]. \t  -67.20513965063277 \t -17.28954482757088\n",
            "6      \t [-5.00301739 -1.82665255]. \t  -33.73646542523921 \t -17.28954482757088\n",
            "7      \t [3.08507637 1.39545192]. \t  -30.77892734437885 \t -17.28954482757088\n",
            "8      \t [-2.5451768  -2.11462915]. \t  -33.03291347840022 \t -17.28954482757088\n",
            "9      \t [-1.74746547  4.17511061]. \t  -36.11071531168787 \t -17.28954482757088\n",
            "10     \t [0.76142682 1.45539439]. \t  -31.59041266151839 \t -17.28954482757088\n",
            "11     \t [ 1.45544401 -2.27706232]. \t  -38.60620639083284 \t -17.28954482757088\n",
            "12     \t [5.07448183 0.44559609]. \t  -46.445551216079615 \t -17.28954482757088\n",
            "13     \t [-5.08765454  2.0689077 ]. \t  -32.56600472011117 \t -17.28954482757088\n",
            "14     \t [2.91694592 3.48326814]. \t  -41.91750656826394 \t -17.28954482757088\n",
            "15     \t [ 1.26413592 -5.0284348 ]. \t  -37.92938989718779 \t -17.28954482757088\n",
            "16     \t [-3.42751718 -0.00343358]. \t  -30.730963530924512 \t -17.28954482757088\n",
            "17     \t [ 4.90093551 -3.21938767]. \t  -44.34745439628051 \t -17.28954482757088\n",
            "18     \t [ 2.3927977  -0.16243155]. \t  -28.339198215609677 \t -17.28954482757088\n",
            "19     \t [-3.07033367  2.51236469]. \t  -36.66943771070963 \t -17.28954482757088\n",
            "20     \t [-1.89301223 -4.8318944 ]. \t  -34.184813503661445 \t -17.28954482757088\n"
          ],
          "name": "stdout"
        }
      ]
    },
    {
      "cell_type": "code",
      "metadata": {
        "colab": {
          "base_uri": "https://localhost:8080/"
        },
        "id": "tAOkme3CIvyO",
        "outputId": "8e907049-50ee-42e3-b681-e69b7e1a3f13"
      },
      "source": [
        "### ZERO GP EI GRADIENTS\n",
        "\n",
        "np.random.seed(run_num_7)\n",
        "surrogate_zero_7 = dGaussianProcess(cov_func, optimize=opt)\n",
        "\n",
        "zero_7 = dGPGO_zero(surrogate_zero_7, Acquisition_new(util_grad_zero), objfunc, param)\n",
        "zero_7.run(init_evals=n_init, max_iter=iters)\n"
      ],
      "execution_count": 40,
      "outputs": [
        {
          "output_type": "stream",
          "text": [
            "Evaluation \t Proposed point \t  Current eval. \t Best eval.\n",
            "init   \t [-4.33860312  2.86636843]. \t  -45.646133072936244 \t -22.52235437888213\n",
            "init   \t [-0.63068947  2.28828342]. \t  -34.83012662845338 \t -22.52235437888213\n",
            "init   \t [4.8946126  0.39419771]. \t  -44.09657005662876 \t -22.52235437888213\n",
            "init   \t [ 0.01147355 -4.38219639]. \t  -36.613209822404315 \t -22.52235437888213\n",
            "init   \t [-2.37118484e+00 -1.20319155e-03]. \t  -22.52235437888213 \t -22.52235437888213\n",
            "1      \t [-5.10538874 -4.17523358]. \t  -51.084190064364634 \t -22.52235437888213\n",
            "2      \t [4.61256095 5.03612112]. \t  -64.49624735465329 \t -22.52235437888213\n",
            "3      \t [ 4.19516762 -5.11810643]. \t  -53.046362925673584 \t -22.52235437888213\n",
            "4      \t [ 1.33502396 -1.02148072]. \t  \u001b[92m-18.008364266544717\u001b[0m \t -18.008364266544717\n",
            "5      \t [1.98099381 2.65837202]. \t  -26.506850185908945 \t -18.008364266544717\n",
            "6      \t [-2.16075612  5.04321612]. \t  -35.15119723418208 \t -18.008364266544717\n",
            "7      \t [-4.7513011  -1.23270559]. \t  -42.92817262507963 \t -18.008364266544717\n",
            "8      \t [ 3.94437426 -2.25349681]. \t  -31.46061249954035 \t -18.008364266544717\n",
            "9      \t [1.16384929 4.7966166 ]. \t  -36.32225644587605 \t -18.008364266544717\n",
            "10     \t [-1.20885437 -2.24554936]. \t  -23.667660617322973 \t -18.008364266544717\n",
            "11     \t [-2.51449543 -4.83053823]. \t  -54.76819589272778 \t -18.008364266544717\n",
            "12     \t [5.03923336 2.54702745]. \t  -51.75014159070215 \t -18.008364266544717\n",
            "13     \t [ 2.1801667  -3.30936549]. \t  -35.100862191640935 \t -18.008364266544717\n",
            "14     \t [2.03903886 0.33047088]. \t  -19.40965939119266 \t -18.008364266544717\n",
            "15     \t [-4.52270243  4.54957566]. \t  -80.5706827294871 \t -18.008364266544717\n",
            "16     \t [-0.36388026 -0.05675437]. \t  \u001b[92m-17.32491319730984\u001b[0m \t -17.32491319730984\n",
            "17     \t [-4.99936967  1.51212822]. \t  -47.251286232484475 \t -17.32491319730984\n",
            "18     \t [-3.01469763 -2.51770406]. \t  -35.408040387486025 \t -17.32491319730984\n",
            "19     \t [-2.63770203  1.77405165]. \t  -35.08408980974093 \t -17.32491319730984\n",
            "20     \t [ 1.29793018 -5.11408499]. \t  -43.26570813408104 \t -17.32491319730984\n"
          ],
          "name": "stdout"
        }
      ]
    },
    {
      "cell_type": "code",
      "metadata": {
        "colab": {
          "base_uri": "https://localhost:8080/"
        },
        "id": "69-J3EF4Iv1S",
        "outputId": "80e7fc91-005c-43d4-b5b3-c8a18c0b44a8"
      },
      "source": [
        "### ZERO GP EI GRADIENTS\n",
        "\n",
        "np.random.seed(run_num_8)\n",
        "surrogate_zero_8 = dGaussianProcess(cov_func, optimize=opt)\n",
        "\n",
        "zero_8 = dGPGO_zero(surrogate_zero_8, Acquisition_new(util_grad_zero), objfunc, param)\n",
        "zero_8.run(init_evals=n_init, max_iter=iters)\n"
      ],
      "execution_count": 41,
      "outputs": [
        {
          "output_type": "stream",
          "text": [
            "Evaluation \t Proposed point \t  Current eval. \t Best eval.\n",
            "init   \t [3.82391708 4.79785639]. \t  -50.20079446939181 \t -13.871821018360485\n",
            "init   \t [3.78055209 0.31596228]. \t  -36.5114251593508 \t -13.871821018360485\n",
            "init   \t [-2.73686192 -5.00327624]. \t  -43.34985765011677 \t -13.871821018360485\n",
            "init   \t [-0.7119993  -0.99992207]. \t  -13.871821018360485 \t -13.871821018360485\n",
            "init   \t [ 0.23218863 -0.22126801]. \t  -17.190590355445654 \t -13.871821018360485\n",
            "1      \t [-5.11238257  5.00673475]. \t  -53.60395082170822 \t -13.871821018360485\n",
            "2      \t [ 2.56577802 -4.57597654]. \t  -65.562842188195 \t -13.871821018360485\n",
            "3      \t [-5.01085567 -0.73166081]. \t  -36.81699162045986 \t -13.871821018360485\n",
            "4      \t [-1.23481775  3.92215305]. \t  -27.128141935657005 \t -13.871821018360485\n",
            "5      \t [-3.39026727  2.00338745]. \t  -33.225564400282494 \t -13.871821018360485\n",
            "6      \t [1.51944588 2.6337832 ]. \t  -45.84125401155391 \t -13.871821018360485\n",
            "7      \t [-0.50247222 -3.3111631 ]. \t  -44.964167247731105 \t -13.871821018360485\n",
            "8      \t [-4.77476384 -4.0012935 ]. \t  -47.25936230881446 \t -13.871821018360485\n",
            "9      \t [ 4.32579014 -2.89084826]. \t  -43.91455205952295 \t -13.871821018360485\n",
            "10     \t [-2.45114727 -1.53105431]. \t  -47.69508780271624 \t -13.871821018360485\n",
            "11     \t [4.84983403 2.74878684]. \t  -45.28353092995875 \t -13.871821018360485\n",
            "12     \t [ 2.07765374 -1.31380166]. \t  -21.11185341835642 \t -13.871821018360485\n",
            "13     \t [ 5.11323445 -5.03131037]. \t  -54.078129634596635 \t -13.871821018360485\n",
            "14     \t [-1.26079714  1.22301922]. \t  -22.076125048178284 \t -13.871821018360485\n",
            "15     \t [0.2059003  4.65698126]. \t  -44.51176512967983 \t -13.871821018360485\n",
            "16     \t [-2.61045836  4.89988187]. \t  -50.42427301177963 \t -13.871821018360485\n",
            "17     \t [ 0.1520891  -4.68052426]. \t  -40.387247117414205 \t -13.871821018360485\n",
            "18     \t [-4.87441993  2.95918624]. \t  -35.79851418813992 \t -13.871821018360485\n",
            "19     \t [ 5.06936937 -1.27326204]. \t  -39.711030456937614 \t -13.871821018360485\n",
            "20     \t [0.99456667 0.71287151]. \t  \u001b[92m-13.814924987023188\u001b[0m \t -13.814924987023188\n"
          ],
          "name": "stdout"
        }
      ]
    },
    {
      "cell_type": "code",
      "metadata": {
        "colab": {
          "base_uri": "https://localhost:8080/"
        },
        "id": "vonm9jyuIv4t",
        "outputId": "2cd7e349-abbe-47fb-a7b0-45105771e9ea"
      },
      "source": [
        "### ZERO GP EI GRADIENTS\n",
        "\n",
        "np.random.seed(run_num_9)\n",
        "surrogate_zero_9 = dGaussianProcess(cov_func, optimize=opt)\n",
        "\n",
        "zero_9 = dGPGO_zero(surrogate_zero_9, Acquisition_new(util_grad_zero), objfunc, param)\n",
        "zero_9.run(init_evals=n_init, max_iter=iters)\n"
      ],
      "execution_count": 42,
      "outputs": [
        {
          "output_type": "stream",
          "text": [
            "Evaluation \t Proposed point \t  Current eval. \t Best eval.\n",
            "init   \t [-5.01376866  0.01919582]. \t  -25.248289026162446 \t -24.454800313488693\n",
            "init   \t [-0.04328148 -3.74958562]. \t  -24.454800313488693 \t -24.454800313488693\n",
            "init   \t [-3.66478248 -2.88195916]. \t  -39.46509426509438 \t -24.454800313488693\n",
            "init   \t [-0.83447623 -2.57944404]. \t  -31.06766397812992 \t -24.454800313488693\n",
            "init   \t [-4.25922917 -1.58209393]. \t  -49.922543556206975 \t -24.454800313488693\n",
            "1      \t [3.69491889 4.82146316]. \t  -55.95031066333101 \t -24.454800313488693\n",
            "2      \t [ 4.97700533 -1.02611641]. \t  -26.06202024938157 \t -24.454800313488693\n",
            "3      \t [-1.30111653  3.21351576]. \t  -32.90405353036232 \t -24.454800313488693\n",
            "4      \t [ 4.15749704 -4.54710509]. \t  -62.03575927997862 \t -24.454800313488693\n",
            "5      \t [-4.99200742  4.38701668]. \t  -61.762962641859644 \t -24.454800313488693\n",
            "6      \t [1.80757032 1.41236001]. \t  -30.244992824864163 \t -24.454800313488693\n",
            "7      \t [4.73691787 1.85573731]. \t  -40.53759113633525 \t -24.454800313488693\n",
            "8      \t [-1.29743906  0.10282943]. \t  \u001b[92m-16.646263668927592\u001b[0m \t -16.646263668927592\n",
            "9      \t [ 2.03979414 -1.43186814]. \t  -25.6195897882988 \t -16.646263668927592\n",
            "10     \t [-4.77457463 -4.93780479]. \t  -56.39443082766477 \t -16.646263668927592\n",
            "11     \t [-2.35938849  5.11337998]. \t  -50.48992140624124 \t -16.646263668927592\n",
            "12     \t [-3.9023453   1.64689833]. \t  -35.79905945519543 \t -16.646263668927592\n",
            "13     \t [1.04249649 4.33026498]. \t  -35.024481201607976 \t -16.646263668927592\n",
            "14     \t [ 1.53972515 -4.63064268]. \t  -60.319695988144225 \t -16.646263668927592\n",
            "15     \t [-2.19973862 -4.81982322]. \t  -40.71602077103748 \t -16.646263668927592\n",
            "16     \t [-0.45094926  1.07557749]. \t  -21.995515323110602 \t -16.646263668927592\n",
            "17     \t [ 0.0381323  -0.73474131]. \t  \u001b[92m-11.784214400015697\u001b[0m \t -11.784214400015697\n",
            "18     \t [ 3.24450658 -0.01828914]. \t  -20.248017684021356 \t -11.784214400015697\n",
            "19     \t [ 3.42500551 -2.21882513]. \t  -43.61779665482825 \t -11.784214400015697\n",
            "20     \t [ 0.67479894 -0.97551732]. \t  -16.076229178371342 \t -11.784214400015697\n"
          ],
          "name": "stdout"
        }
      ]
    },
    {
      "cell_type": "code",
      "metadata": {
        "colab": {
          "base_uri": "https://localhost:8080/"
        },
        "id": "6amuYlUdIv7r",
        "outputId": "6d834ba0-0942-4e44-bf6b-3144f6181779"
      },
      "source": [
        "### ZERO GP EI GRADIENTS\n",
        "\n",
        "np.random.seed(run_num_10)\n",
        "surrogate_zero_10 = dGaussianProcess(cov_func, optimize=opt)\n",
        "\n",
        "zero_10 = dGPGO_zero(surrogate_zero_10, Acquisition_new(util_grad_zero), objfunc, param)\n",
        "zero_10.run(init_evals=n_init, max_iter=iters)\n"
      ],
      "execution_count": 43,
      "outputs": [
        {
          "output_type": "stream",
          "text": [
            "Evaluation \t Proposed point \t  Current eval. \t Best eval.\n",
            "init   \t [ 2.77832339 -4.90750004]. \t  -41.674330194390116 \t -13.839458310244165\n",
            "init   \t [1.36855793 2.54775176]. \t  -44.69639719065837 \t -13.839458310244165\n",
            "init   \t [-0.01528819 -2.81808235]. \t  -13.839458310244165 \t -13.839458310244165\n",
            "init   \t [-3.09183626  2.66783449]. \t  -33.23221510904937 \t -13.839458310244165\n",
            "init   \t [-3.38830503 -4.2154003 ]. \t  -54.73014366983691 \t -13.839458310244165\n",
            "1      \t [ 4.23507693 -0.431621  ]. \t  -46.2770687630113 \t -13.839458310244165\n",
            "2      \t [4.74478086 4.86802142]. \t  -59.784126747807164 \t -13.839458310244165\n",
            "3      \t [-4.98218436  0.09559441]. \t  -26.644130043331373 \t -13.839458310244165\n",
            "4      \t [-0.96866344  5.10031529]. \t  -29.066224550208638 \t -13.839458310244165\n",
            "5      \t [-1.07106721 -0.80473677]. \t  \u001b[92m-9.403456188541279\u001b[0m \t -9.403456188541279\n",
            "6      \t [-0.21023307 -5.06620597]. \t  -34.09073870767831 \t -9.403456188541279\n",
            "7      \t [-4.64973396  4.86109759]. \t  -64.714437987482 \t -9.403456188541279\n",
            "8      \t [ 1.69147387 -0.77785559]. \t  -25.319832804208247 \t -9.403456188541279\n",
            "9      \t [ 4.74428194 -3.44141813]. \t  -64.04096585220329 \t -9.403456188541279\n",
            "10     \t [5.08116922 2.28338441]. \t  -44.38694231636987 \t -9.403456188541279\n",
            "11     \t [-2.82345036 -0.79073572]. \t  -21.61255174358596 \t -9.403456188541279\n",
            "12     \t [2.13394352 4.69246785]. \t  -43.44684206466981 \t -9.403456188541279\n",
            "13     \t [-1.26229872  1.31451006]. \t  -28.03652575659897 \t -9.403456188541279\n",
            "14     \t [-4.67059871 -2.41225009]. \t  -60.93616704167654 \t -9.403456188541279\n",
            "15     \t [-1.83566185 -2.17325844]. \t  -18.329411989639517 \t -9.403456188541279\n",
            "16     \t [ 2.04476302 -2.53058008]. \t  -30.793788587920115 \t -9.403456188541279\n",
            "17     \t [-4.64142245  2.14288477]. \t  -46.20633789563505 \t -9.403456188541279\n",
            "18     \t [-0.58605726 -1.00275733]. \t  -19.923901396575552 \t -9.403456188541279\n",
            "19     \t [2.54728282 1.23047766]. \t  -36.341107849712564 \t -9.403456188541279\n",
            "20     \t [-0.72662049  3.48877742]. \t  -44.13839493445833 \t -9.403456188541279\n"
          ],
          "name": "stdout"
        }
      ]
    },
    {
      "cell_type": "code",
      "metadata": {
        "colab": {
          "base_uri": "https://localhost:8080/"
        },
        "id": "VwbLIP9cIv-F",
        "outputId": "559a9704-62c8-47fc-d185-a222d74065c9"
      },
      "source": [
        "### ZERO GP EI GRADIENTS\n",
        "\n",
        "np.random.seed(run_num_11)\n",
        "surrogate_zero_11 = dGaussianProcess(cov_func, optimize=opt)\n",
        "\n",
        "zero_11 = dGPGO_zero(surrogate_zero_11, Acquisition_new(util_grad_zero), objfunc, param)\n",
        "zero_11.run(init_evals=n_init, max_iter=iters)\n"
      ],
      "execution_count": 44,
      "outputs": [
        {
          "output_type": "stream",
          "text": [
            "Evaluation \t Proposed point \t  Current eval. \t Best eval.\n",
            "init   \t [-3.27403839 -4.92057353]. \t  -47.655641290890955 \t -10.679755252484755\n",
            "init   \t [-0.37664229  2.30332343]. \t  -35.87889240695259 \t -10.679755252484755\n",
            "init   \t [-0.81711509 -0.14922651]. \t  -10.679755252484755 \t -10.679755252484755\n",
            "init   \t [-4.98912446 -0.12931474]. \t  -28.05462905574235 \t -10.679755252484755\n",
            "init   \t [4.52410012 3.59214172]. \t  -71.62694632141611 \t -10.679755252484755\n",
            "1      \t [ 3.39619778 -4.31739077]. \t  -62.230362468246824 \t -10.679755252484755\n",
            "2      \t [-3.97579834  4.78684114]. \t  -46.542034180630544 \t -10.679755252484755\n",
            "3      \t [ 4.931333   -0.42545154]. \t  -44.33834986185242 \t -10.679755252484755\n",
            "4      \t [-0.42268955 -2.93333409]. \t  -28.490864310297965 \t -10.679755252484755\n",
            "5      \t [0.73969381 5.08396191]. \t  -38.40048119269832 \t -10.679755252484755\n",
            "6      \t [2.28258149 0.30555921]. \t  -30.75684878013545 \t -10.679755252484755\n",
            "7      \t [-3.70079875  2.03704169]. \t  -31.157469768014984 \t -10.679755252484755\n",
            "8      \t [-4.81401576 -2.63371139]. \t  -52.87016994280418 \t -10.679755252484755\n",
            "9      \t [ 0.68997711 -5.01338344]. \t  -39.327999760054304 \t -10.679755252484755\n",
            "10     \t [-2.0723244   0.12745473]. \t  \u001b[92m-8.364478557430418\u001b[0m \t -8.364478557430418\n",
            "11     \t [ 2.55543649 -1.81768447]. \t  -35.10801048935814 \t -8.364478557430418\n",
            "12     \t [-2.40746032 -1.58140138]. \t  -45.373708643922335 \t -8.364478557430418\n",
            "13     \t [-1.66267882  4.43149642]. \t  -56.70596705548991 \t -8.364478557430418\n",
            "14     \t [1.92700102 3.57408619]. \t  -36.45697097046936 \t -8.364478557430418\n",
            "15     \t [ 0.67316037 -0.32503704]. \t  -29.743361034578605 \t -8.364478557430418\n",
            "16     \t [-2.02859149  0.65711241]. \t  -20.218475655820583 \t -8.364478557430418\n",
            "17     \t [4.94356566 1.45207552]. \t  -46.71952035398735 \t -8.364478557430418\n",
            "18     \t [-5.11656722 -4.75235687]. \t  -61.180447054973435 \t -8.364478557430418\n",
            "19     \t [ 4.95579016 -3.37307457]. \t  -53.30582634184748 \t -8.364478557430418\n",
            "20     \t [-4.85104477  2.1934077 ]. \t  -38.9314989857218 \t -8.364478557430418\n"
          ],
          "name": "stdout"
        }
      ]
    },
    {
      "cell_type": "code",
      "metadata": {
        "colab": {
          "base_uri": "https://localhost:8080/"
        },
        "id": "MlUNFjc-JTBY",
        "outputId": "d2323477-983a-48fb-d1c0-1c6782b77d88"
      },
      "source": [
        "### ZERO GP EI GRADIENTS\n",
        "\n",
        "np.random.seed(run_num_12)\n",
        "surrogate_zero_12 = dGaussianProcess(cov_func, optimize=opt)\n",
        "\n",
        "zero_12 = dGPGO_zero(surrogate_zero_12, Acquisition_new(util_grad_zero), objfunc, param)\n",
        "zero_12.run(init_evals=n_init, max_iter=iters)\n"
      ],
      "execution_count": 45,
      "outputs": [
        {
          "output_type": "stream",
          "text": [
            "Evaluation \t Proposed point \t  Current eval. \t Best eval.\n",
            "init   \t [-3.54137249  2.45810889]. \t  -57.903242869085595 \t -40.51116653209555\n",
            "init   \t [-2.42365424  0.34549139]. \t  -40.51116653209555 \t -40.51116653209555\n",
            "init   \t [-4.97075238  4.28796936]. \t  -55.62655915398208 \t -40.51116653209555\n",
            "init   \t [ 4.10332011 -4.77776458]. \t  -49.962803461970296 \t -40.51116653209555\n",
            "init   \t [ 4.6791612  -3.71497655]. \t  -62.183891474990624 \t -40.51116653209555\n",
            "1      \t [4.56681598 5.1125623 ]. \t  -68.52421939280718 \t -40.51116653209555\n",
            "2      \t [-1.429116   -5.07020608]. \t  -47.731094352895866 \t -40.51116653209555\n",
            "3      \t [2.4003401  0.24428674]. \t  \u001b[92m-33.56512328478563\u001b[0m \t -33.56512328478563\n",
            "4      \t [0.24346729 4.34138446]. \t  -43.928059226736345 \t -33.56512328478563\n",
            "5      \t [-4.47959654 -3.34109879]. \t  -66.56409552980816 \t -33.56512328478563\n",
            "6      \t [ 1.06241937 -2.98131602]. \t  \u001b[92m-10.845075972986498\u001b[0m \t -10.845075972986498\n",
            "7      \t [5.06480093 1.74041899]. \t  -40.10038904260732 \t -10.845075972986498\n",
            "8      \t [-1.09003781 -2.34624776]. \t  -23.936557472431417 \t -10.845075972986498\n",
            "9      \t [-4.78184137 -0.11679336]. \t  -33.4661956488988 \t -10.845075972986498\n",
            "10     \t [-2.2382317   4.97247451]. \t  -39.145615858522085 \t -10.845075972986498\n",
            "11     \t [0.00894914 1.73777303]. \t  -13.80322725535334 \t -10.845075972986498\n",
            "12     \t [ 1.58072459 -4.65015533]. \t  -58.73363184192738 \t -10.845075972986498\n",
            "13     \t [2.54136531 3.47107719]. \t  -58.006385821682386 \t -10.845075972986498\n",
            "14     \t [ 1.46779861 -1.93637603]. \t  -26.488460911214638 \t -10.845075972986498\n",
            "15     \t [ 4.94377633 -1.39004853]. \t  -44.697749133775396 \t -10.845075972986498\n",
            "16     \t [ 0.18202774 -0.52874602]. \t  -26.00786830525768 \t -10.845075972986498\n",
            "17     \t [-1.11469594  2.86736483]. \t  -15.226755781333043 \t -10.845075972986498\n",
            "18     \t [-2.39953695 -1.89001703]. \t  -29.697161885076007 \t -10.845075972986498\n",
            "19     \t [0.08967404 1.30893155]. \t  -16.885852298854243 \t -10.845075972986498\n",
            "20     \t [-4.8633484  -5.10652123]. \t  -55.35118639695271 \t -10.845075972986498\n"
          ],
          "name": "stdout"
        }
      ]
    },
    {
      "cell_type": "code",
      "metadata": {
        "colab": {
          "base_uri": "https://localhost:8080/"
        },
        "id": "9BsKdU9eJTFL",
        "outputId": "422143a2-4b24-46ef-c689-61422c7cada8"
      },
      "source": [
        "### ZERO GP EI GRADIENTS\n",
        "\n",
        "np.random.seed(run_num_13)\n",
        "surrogate_zero_13 = dGaussianProcess(cov_func, optimize=opt)\n",
        "\n",
        "zero_13 = dGPGO_zero(surrogate_zero_13, Acquisition_new(util_grad_zero), objfunc, param)\n",
        "zero_13.run(init_evals=n_init, max_iter=iters)\n"
      ],
      "execution_count": 46,
      "outputs": [
        {
          "output_type": "stream",
          "text": [
            "Evaluation \t Proposed point \t  Current eval. \t Best eval.\n",
            "init   \t [ 2.84367268 -2.68757791]. \t  -33.58019830007169 \t -17.435826639425656\n",
            "init   \t [3.32061217 4.76927179]. \t  -56.857057997503354 \t -17.435826639425656\n",
            "init   \t [ 4.83943541 -0.47667971]. \t  -48.211919361679726 \t -17.435826639425656\n",
            "init   \t [1.11659482 2.82139151]. \t  -17.435826639425656 \t -17.435826639425656\n",
            "init   \t [1.45012065 2.27346667]. \t  -38.25352329493884 \t -17.435826639425656\n",
            "1      \t [-4.77366547 -2.51495235]. \t  -57.58729610569417 \t -17.435826639425656\n",
            "2      \t [-4.65374571  4.09568012]. \t  -55.87107425121984 \t -17.435826639425656\n",
            "3      \t [-1.27060472 -4.09193524]. \t  -31.271886524351807 \t -17.435826639425656\n",
            "4      \t [-2.10094624  1.06573776]. \t  \u001b[92m-8.335652949817936\u001b[0m \t -8.335652949817936\n",
            "5      \t [ 4.86268922 -5.06347529]. \t  -53.5658403863605 \t -8.335652949817936\n",
            "6      \t [-5.09729204  0.63523074]. \t  -44.79913732627612 \t -8.335652949817936\n",
            "7      \t [-0.96020581  4.57337119]. \t  -41.10473946134023 \t -8.335652949817936\n",
            "8      \t [ 0.28480628 -1.36186149]. \t  -30.569255140213812 \t -8.335652949817936\n",
            "9      \t [ 1.31600496 -4.67140141]. \t  -52.323399452247806 \t -8.335652949817936\n",
            "10     \t [4.69005593 2.62048695]. \t  -59.810262038073475 \t -8.335652949817936\n",
            "11     \t [-2.31171513 -1.69127824]. \t  -35.59212933809745 \t -8.335652949817936\n",
            "12     \t [-4.6036405  -4.99499112]. \t  -64.102009656859 \t -8.335652949817936\n",
            "13     \t [-2.15710968  2.2784746 ]. \t  -26.11344186501026 \t -8.335652949817936\n",
            "14     \t [1.82868854 0.16050324]. \t  -13.293153857264013 \t -8.335652949817936\n",
            "15     \t [-0.42990146  0.76590682]. \t  -28.81926948689457 \t -8.335652949817936\n",
            "16     \t [-2.62663184  0.60392651]. \t  -42.204829022764756 \t -8.335652949817936\n",
            "17     \t [3.08448846 0.52062654]. \t  -31.07752038429083 \t -8.335652949817936\n",
            "18     \t [0.88141446 4.83296117]. \t  -31.804434280697322 \t -8.335652949817936\n",
            "19     \t [ 5.00393882 -2.51207676]. \t  -51.32422010016859 \t -8.335652949817936\n",
            "20     \t [-3.18568392  5.04012795]. \t  -41.93563775432689 \t -8.335652949817936\n"
          ],
          "name": "stdout"
        }
      ]
    },
    {
      "cell_type": "code",
      "metadata": {
        "colab": {
          "base_uri": "https://localhost:8080/"
        },
        "id": "k6GjFBr1JTJf",
        "outputId": "1c565d61-9777-4b75-87b9-3c1ea491a029"
      },
      "source": [
        "### ZERO GP EI GRADIENTS\n",
        "\n",
        "np.random.seed(run_num_14)\n",
        "surrogate_zero_14 = dGaussianProcess(cov_func, optimize=opt)\n",
        "\n",
        "zero_14 = dGPGO_zero(surrogate_zero_14, Acquisition_new(util_grad_zero), objfunc, param)\n",
        "zero_14.run(init_evals=n_init, max_iter=iters)\n"
      ],
      "execution_count": 47,
      "outputs": [
        {
          "output_type": "stream",
          "text": [
            "Evaluation \t Proposed point \t  Current eval. \t Best eval.\n",
            "init   \t [0.14277984 2.79721013]. \t  -18.683085263052178 \t -10.423838604848608\n",
            "init   \t [ 3.7931795  -5.03759925]. \t  -47.36348784446708 \t -10.423838604848608\n",
            "init   \t [-1.94830412  4.68586229]. \t  -40.19779334078636 \t -10.423838604848608\n",
            "init   \t [ 0.13431513 -1.86076749]. \t  -10.423838604848608 \t -10.423838604848608\n",
            "init   \t [ 0.40140736 -2.85434939]. \t  -30.353548735049138 \t -10.423838604848608\n",
            "1      \t [-4.41622269 -4.73809363]. \t  -71.34622836697065 \t -10.423838604848608\n",
            "2      \t [5.05912775 0.29982017]. \t  -39.4462875989013 \t -10.423838604848608\n",
            "3      \t [-4.20980556  0.51637465]. \t  -45.43749551773853 \t -10.423838604848608\n",
            "4      \t [4.53544959 5.1124022 ]. \t  -68.85187656736286 \t -10.423838604848608\n",
            "5      \t [1.31360407 0.18385684]. \t  -21.61289552814893 \t -10.423838604848608\n",
            "6      \t [-4.94809879  4.29013902]. \t  -55.911359496868954 \t -10.423838604848608\n",
            "7      \t [-1.12649164 -5.00366347]. \t  -29.303794038681126 \t -10.423838604848608\n",
            "8      \t [-2.65717024 -2.21344302]. \t  -35.19061913995456 \t -10.423838604848608\n",
            "9      \t [ 3.17519888 -2.28675294]. \t  -33.07114501118153 \t -10.423838604848608\n",
            "10     \t [1.34298568 5.01025395]. \t  -42.44271087505727 \t -10.423838604848608\n",
            "11     \t [2.64620399 2.34957814]. \t  -44.44842202071649 \t -10.423838604848608\n",
            "12     \t [-0.82427784  1.06061752]. \t  \u001b[92m-8.02150276828544\u001b[0m \t -8.02150276828544\n",
            "13     \t [-1.84805276  0.92453354]. \t  -9.594907057255947 \t -8.02150276828544\n",
            "14     \t [-2.7309059   2.45732687]. \t  -44.335842084340364 \t -8.02150276828544\n",
            "15     \t [ 5.00505873 -3.1695558 ]. \t  -40.259772424256624 \t -8.02150276828544\n",
            "16     \t [-0.91356157 -0.29445524]. \t  -15.117261734618241 \t -8.02150276828544\n",
            "17     \t [ 1.33708518 -4.81222279]. \t  -46.33729291030021 \t -8.02150276828544\n",
            "18     \t [-4.9066159  -1.87254343]. \t  -32.29276421155865 \t -8.02150276828544\n",
            "19     \t [5.04108374 2.69311828]. \t  -46.49512008472046 \t -8.02150276828544\n",
            "20     \t [-1.37354123  0.92836425]. \t  -20.750403019813767 \t -8.02150276828544\n"
          ],
          "name": "stdout"
        }
      ]
    },
    {
      "cell_type": "code",
      "metadata": {
        "colab": {
          "base_uri": "https://localhost:8080/"
        },
        "id": "dPS8WB3aJTN6",
        "outputId": "e8e9181b-a7c1-4bac-ed1b-4457bb982818"
      },
      "source": [
        "### ZERO GP EI GRADIENTS\n",
        "\n",
        "np.random.seed(run_num_15)\n",
        "surrogate_zero_15 = dGaussianProcess(cov_func, optimize=opt)\n",
        "\n",
        "zero_15 = dGPGO_zero(surrogate_zero_15, Acquisition_new(util_grad_zero), objfunc, param)\n",
        "zero_15.run(init_evals=n_init, max_iter=iters)\n"
      ],
      "execution_count": 48,
      "outputs": [
        {
          "output_type": "stream",
          "text": [
            "Evaluation \t Proposed point \t  Current eval. \t Best eval.\n",
            "init   \t [ 3.57189322 -3.28810573]. \t  -54.938487770767075 \t -7.990765314336182\n",
            "init   \t [-4.56332069 -1.41784631]. \t  -60.750198753157726 \t -7.990765314336182\n",
            "init   \t [-2.29989449  0.3072023 ]. \t  -31.984997246800887 \t -7.990765314336182\n",
            "init   \t [-1.9873903  -2.00218256]. \t  -7.990765314336182 \t -7.990765314336182\n",
            "init   \t [-3.97576933 -2.5610341 ]. \t  -41.754957769694336 \t -7.990765314336182\n",
            "1      \t [4.80390202 4.79749377]. \t  -59.83100237180094 \t -7.990765314336182\n",
            "2      \t [-4.16810549  5.02944823]. \t  -47.91763842306193 \t -7.990765314336182\n",
            "3      \t [1.77549009 1.28607595]. \t  -25.458963304224234 \t -7.990765314336182\n",
            "4      \t [ 0.0186844  -5.05314554]. \t  -26.155823234799065 \t -7.990765314336182\n",
            "5      \t [0.8415407  4.63451672]. \t  -43.38305067787293 \t -7.990765314336182\n",
            "6      \t [4.74515621 0.10172366]. \t  -34.80511306555563 \t -7.990765314336182\n",
            "7      \t [ 0.29876634 -1.73615948]. \t  -26.988399128696233 \t -7.990765314336182\n",
            "8      \t [-4.49663156  2.25072382]. \t  -55.32869213523205 \t -7.990765314336182\n",
            "9      \t [-0.6354838   2.22969794]. \t  -30.693519656466428 \t -7.990765314336182\n",
            "10     \t [-3.14028177 -5.00531997]. \t  -38.559595068237925 \t -7.990765314336182\n",
            "11     \t [4.35286877 2.19708583]. \t  -46.53358510860255 \t -7.990765314336182\n",
            "12     \t [ 2.14326382 -0.43652095]. \t  -27.784309763291844 \t -7.990765314336182\n",
            "13     \t [-1.33154135  4.92630338]. \t  -41.99669838150662 \t -7.990765314336182\n",
            "14     \t [-1.27347191 -3.25498348]. \t  -33.999161616155384 \t -7.990765314336182\n",
            "15     \t [ 1.1820377  -4.83194368]. \t  -35.67909945970859 \t -7.990765314336182\n",
            "16     \t [ 3.65779494 -5.02638532]. \t  -54.25585029088287 \t -7.990765314336182\n",
            "17     \t [2.54820992 3.54309845]. \t  -58.22722367638867 \t -7.990765314336182\n",
            "18     \t [ 5.10684557 -1.7214604 ]. \t  -42.996951321010485 \t -7.990765314336182\n",
            "19     \t [-5.0091895  -4.37129392]. \t  -61.12136353809342 \t -7.990765314336182\n",
            "20     \t [-0.64469737 -0.66885139]. \t  -31.887734301035515 \t -7.990765314336182\n"
          ],
          "name": "stdout"
        }
      ]
    },
    {
      "cell_type": "code",
      "metadata": {
        "colab": {
          "base_uri": "https://localhost:8080/"
        },
        "id": "SHWdp2giJTRm",
        "outputId": "628b04a8-9c3b-44a0-f4ea-c1935a4272c5"
      },
      "source": [
        "### ZERO GP EI GRADIENTS\n",
        "\n",
        "np.random.seed(run_num_16)\n",
        "surrogate_zero_16 = dGaussianProcess(cov_func, optimize=opt)\n",
        "\n",
        "zero_16 = dGPGO_zero(surrogate_zero_16, Acquisition_new(util_grad_zero), objfunc, param)\n",
        "zero_16.run(init_evals=n_init, max_iter=iters)\n"
      ],
      "execution_count": 49,
      "outputs": [
        {
          "output_type": "stream",
          "text": [
            "Evaluation \t Proposed point \t  Current eval. \t Best eval.\n",
            "init   \t [-2.83349935  0.23719262]. \t  -22.27210456874814 \t -22.27210456874814\n",
            "init   \t [ 0.51918292 -4.65303603]. \t  -57.57021076017139 \t -22.27210456874814\n",
            "init   \t [-1.42613673 -2.83565116]. \t  -33.89145899403749 \t -22.27210456874814\n",
            "init   \t [ 1.9325559  -3.44339021]. \t  -35.85029586225333 \t -22.27210456874814\n",
            "init   \t [-4.39987336  4.51595121]. \t  -77.78800881964571 \t -22.27210456874814\n",
            "1      \t [4.06080895 4.40655317]. \t  -54.95421034473918 \t -22.27210456874814\n",
            "2      \t [-5.11995443 -4.68844075]. \t  -64.67592250239862 \t -22.27210456874814\n",
            "3      \t [4.12206639 0.06030118]. \t  \u001b[92m-20.504089236344484\u001b[0m \t -20.504089236344484\n",
            "4      \t [-0.03509414  4.1160457 ]. \t  \u001b[92m-19.727689166446165\u001b[0m \t -19.727689166446165\n",
            "5      \t [ 5.114123   -4.06066837]. \t  -45.82362087025153 \t -19.727689166446165\n",
            "6      \t [1.067671   0.75885408]. \t  \u001b[92m-12.050143088129088\u001b[0m \t -12.050143088129088\n",
            "7      \t [-4.8151146  -0.94280278]. \t  -30.734971672906735 \t -12.050143088129088\n",
            "8      \t [-1.08364727  2.23789723]. \t  -16.772393777505908 \t -12.050143088129088\n",
            "9      \t [2.29272256 2.57546838]. \t  -43.438496776294095 \t -12.050143088129088\n",
            "10     \t [ 0.70788506 -1.07237015]. \t  -15.28260299623733 \t -12.050143088129088\n",
            "11     \t [-4.43655313  1.38642616]. \t  -58.38111369531196 \t -12.050143088129088\n",
            "12     \t [-1.2691235   5.10328541]. \t  -40.8857529498386 \t -12.050143088129088\n",
            "13     \t [-1.90353606 -4.93934504]. \t  -30.519286965469977 \t -12.050143088129088\n",
            "14     \t [ 5.09216366 -1.25194212]. \t  -39.24985633508995 \t -12.050143088129088\n",
            "15     \t [-1.0378687   0.17694279]. \t  \u001b[92m-6.9594099744550375\u001b[0m \t -6.9594099744550375\n",
            "16     \t [-1.01111335 -0.46346531]. \t  -20.999198930444983 \t -6.9594099744550375\n",
            "17     \t [1.3475999 5.1161228]. \t  -46.29165412396723 \t -6.9594099744550375\n",
            "18     \t [ 1.93548231 -1.06180449]. \t  \u001b[92m-6.428550755028452\u001b[0m \t -6.428550755028452\n",
            "19     \t [4.71531302 1.8709138 ]. \t  -41.00951744229297 \t -6.428550755028452\n",
            "20     \t [ 2.0497107  -0.54349293]. \t  -24.609456140694668 \t -6.428550755028452\n"
          ],
          "name": "stdout"
        }
      ]
    },
    {
      "cell_type": "code",
      "metadata": {
        "colab": {
          "base_uri": "https://localhost:8080/"
        },
        "id": "yU2SflSsJTUs",
        "outputId": "a2962ead-4ef7-4e82-acb7-9b6359e09994"
      },
      "source": [
        "### ZERO GP EI GRADIENTS\n",
        "\n",
        "np.random.seed(run_num_17)\n",
        "surrogate_zero_17 = dGaussianProcess(cov_func, optimize=opt)\n",
        "\n",
        "zero_17 = dGPGO_zero(surrogate_zero_17, Acquisition_new(util_grad_zero), objfunc, param)\n",
        "zero_17.run(init_evals=n_init, max_iter=iters)\n"
      ],
      "execution_count": 50,
      "outputs": [
        {
          "output_type": "stream",
          "text": [
            "Evaluation \t Proposed point \t  Current eval. \t Best eval.\n",
            "init   \t [-2.10263037  0.31320838]. \t  -20.395145364684023 \t -20.395145364684023\n",
            "init   \t [-3.15882714 -4.42470033]. \t  -53.03732051200137 \t -20.395145364684023\n",
            "init   \t [2.93873111 1.60085526]. \t  -29.989224812583537 \t -20.395145364684023\n",
            "init   \t [1.40821398 0.77417363]. \t  -29.451989415882437 \t -20.395145364684023\n",
            "init   \t [-4.71999574 -1.45598869]. \t  -55.89242173757483 \t -20.395145364684023\n",
            "1      \t [ 4.96008736 -4.44720822]. \t  -64.14783177084814 \t -20.395145364684023\n",
            "2      \t [-4.48458015  4.87453914]. \t  -66.7751306072647 \t -20.395145364684023\n",
            "3      \t [0.68918634 4.75681217]. \t  -46.403080170128334 \t -20.395145364684023\n",
            "4      \t [4.92477561 4.97364465]. \t  -50.22369669128301 \t -20.395145364684023\n",
            "5      \t [ 0.92966222 -4.61914041]. \t  -40.48806820146371 \t -20.395145364684023\n",
            "6      \t [ 4.79588687 -1.08221629]. \t  -32.63321099942499 \t -20.395145364684023\n",
            "7      \t [-2.20574447  2.92472705]. \t  -21.77210909560035 \t -20.395145364684023\n",
            "8      \t [ 1.59821581 -2.01953576]. \t  -24.86361094180775 \t -20.395145364684023\n",
            "9      \t [-0.97041093 -1.73567117]. \t  \u001b[92m-15.025664805835008\u001b[0m \t -15.025664805835008\n",
            "10     \t [-4.82154921  1.60543049]. \t  -49.36402141551662 \t -15.025664805835008\n",
            "11     \t [4.80003902 1.052409  ]. \t  -31.592733600635157 \t -15.025664805835008\n",
            "12     \t [0.11942379 2.3153242 ]. \t  -22.050731500846105 \t -15.025664805835008\n",
            "13     \t [3.10171227 4.31089192]. \t  -43.911234780118356 \t -15.025664805835008\n",
            "14     \t [-5.01335854 -4.35057553]. \t  -60.003544944852315 \t -15.025664805835008\n",
            "15     \t [-1.48546923  5.04244211]. \t  -47.944658933536985 \t -15.025664805835008\n",
            "16     \t [-1.1828003  -3.49033229]. \t  -39.465053136266384 \t -15.025664805835008\n",
            "17     \t [-0.32976851 -0.48736285]. \t  -35.11954930011615 \t -15.025664805835008\n",
            "18     \t [ 3.00950416 -4.69886968]. \t  -44.311952056203545 \t -15.025664805835008\n",
            "19     \t [ 3.3111116  -1.78432043]. \t  -35.75361177200671 \t -15.025664805835008\n",
            "20     \t [-2.8447112  -1.23221407]. \t  -22.889718122727896 \t -15.025664805835008\n"
          ],
          "name": "stdout"
        }
      ]
    },
    {
      "cell_type": "code",
      "metadata": {
        "colab": {
          "base_uri": "https://localhost:8080/"
        },
        "id": "es0KCh_0JTgY",
        "outputId": "c6c2d533-0de6-4169-ae83-dfd43957ec48"
      },
      "source": [
        "### ZERO GP EI GRADIENTS\n",
        "\n",
        "np.random.seed(run_num_18)\n",
        "surrogate_zero_18 = dGaussianProcess(cov_func, optimize=opt)\n",
        "\n",
        "zero_18 = dGPGO_zero(surrogate_zero_18, Acquisition_new(util_grad_zero), objfunc, param)\n",
        "zero_18.run(init_evals=n_init, max_iter=iters)\n"
      ],
      "execution_count": 51,
      "outputs": [
        {
          "output_type": "stream",
          "text": [
            "Evaluation \t Proposed point \t  Current eval. \t Best eval.\n",
            "init   \t [1.53983224 0.05584255]. \t  -22.67190580753611 \t -22.67190580753611\n",
            "init   \t [ 3.87687906 -3.25795609]. \t  -38.990099416711985 \t -22.67190580753611\n",
            "init   \t [3.60686662 2.56139557]. \t  -56.66448698782129 \t -22.67190580753611\n",
            "init   \t [1.70088108 4.99604939]. \t  -40.894059318256296 \t -22.67190580753611\n",
            "init   \t [-2.48864335 -4.83014733]. \t  -54.6725749848372 \t -22.67190580753611\n",
            "1      \t [-5.00718904  2.9174042 ]. \t  -34.91005808676357 \t -22.67190580753611\n",
            "2      \t [-2.99572465 -0.54340826]. \t  -28.90362514523323 \t -22.67190580753611\n",
            "3      \t [-1.26375514  2.97482686]. \t  \u001b[92m-21.434681387522748\u001b[0m \t -21.434681387522748\n",
            "4      \t [ 1.15010421 -4.55177438]. \t  -45.64435873691351 \t -21.434681387522748\n",
            "5      \t [-5.01779201 -3.225694  ]. \t  -44.12449775607688 \t -21.434681387522748\n",
            "6      \t [-0.43969771 -2.28090657]. \t  -36.61635977988647 \t -21.434681387522748\n",
            "7      \t [5.06768234 0.33261668]. \t  -41.6436796565958 \t -21.434681387522748\n",
            "8      \t [4.84471484 4.90128037]. \t  -53.750611251185354 \t -21.434681387522748\n",
            "9      \t [-3.63865114  4.5345895 ]. \t  -70.0063579582363 \t -21.434681387522748\n",
            "10     \t [0.1294679 1.204589 ]. \t  \u001b[92m-11.783292362366176\u001b[0m \t -11.783292362366176\n",
            "11     \t [-4.75628954  0.32958045]. \t  -47.13025261167572 \t -11.783292362366176\n",
            "12     \t [ 4.26756046 -5.04406482]. \t  -55.13661721500662 \t -11.783292362366176\n",
            "13     \t [ 2.22094431 -2.09730848]. \t  -19.327387184001488 \t -11.783292362366176\n",
            "14     \t [-1.10508167  4.9870455 ]. \t  -28.22653216153722 \t -11.783292362366176\n",
            "15     \t [-1.18914502  0.28137564]. \t  -19.720743548177467 \t -11.783292362366176\n",
            "16     \t [0.89354652 2.04221127]. \t  \u001b[92m-7.473459291543399\u001b[0m \t -7.473459291543399\n",
            "17     \t [1.26208281 2.20534166]. \t  -24.445551185129744 \t -7.473459291543399\n",
            "18     \t [-2.75615379  1.65352663]. \t  -35.641134641437745 \t -7.473459291543399\n",
            "19     \t [ 4.5844783  -1.68970187]. \t  -56.1952492283652 \t -7.473459291543399\n",
            "20     \t [-2.53740502 -2.71520654]. \t  -45.704627277476405 \t -7.473459291543399\n"
          ],
          "name": "stdout"
        }
      ]
    },
    {
      "cell_type": "code",
      "metadata": {
        "colab": {
          "base_uri": "https://localhost:8080/"
        },
        "id": "Pput2LHPIwBM",
        "outputId": "479dcb32-3c47-4a29-b0d8-6b764eea3fa9"
      },
      "source": [
        "### ZERO GP EI GRADIENTS\n",
        "\n",
        "np.random.seed(run_num_19)\n",
        "surrogate_zero_19 = dGaussianProcess(cov_func, optimize=opt)\n",
        "\n",
        "zero_19 = dGPGO_zero(surrogate_zero_19, Acquisition_new(util_grad_zero), objfunc, param)\n",
        "zero_19.run(init_evals=n_init, max_iter=iters)\n"
      ],
      "execution_count": 52,
      "outputs": [
        {
          "output_type": "stream",
          "text": [
            "Evaluation \t Proposed point \t  Current eval. \t Best eval.\n",
            "init   \t [-4.12125592  2.6751971 ]. \t  -41.43485596167127 \t -25.867003842388073\n",
            "init   \t [-2.59135515 -3.70553152]. \t  -51.60126035043229 \t -25.867003842388073\n",
            "init   \t [-1.72598719 -4.27008445]. \t  -43.97430127029199 \t -25.867003842388073\n",
            "init   \t [1.76104531 3.13952049]. \t  -25.867003842388073 \t -25.867003842388073\n",
            "init   \t [4.9432772  1.38916592]. \t  -44.66580306903559 \t -25.867003842388073\n",
            "1      \t [ 4.21710172 -4.56788076]. \t  -65.70127216515351 \t -25.867003842388073\n",
            "2      \t [ 1.33148367 -1.37898766]. \t  -35.81946957386545 \t -25.867003842388073\n",
            "3      \t [-4.47356312 -0.83164219]. \t  -45.659055854674875 \t -25.867003842388073\n",
            "4      \t [-1.70726049  4.62995106]. \t  -53.85214051685652 \t -25.867003842388073\n",
            "5      \t [-1.1560595   0.80460077]. \t  \u001b[92m-13.054438144741923\u001b[0m \t -13.054438144741923\n",
            "6      \t [4.33309282 4.60431349]. \t  -72.89021732044269 \t -13.054438144741923\n",
            "7      \t [ 1.5490079  -4.78091704]. \t  -52.855855758060706 \t -13.054438144741923\n",
            "8      \t [ 3.89443714 -0.76552688]. \t  -26.898811484711675 \t -13.054438144741923\n",
            "9      \t [-4.99722686  4.77192639]. \t  -56.37175387068849 \t -13.054438144741923\n",
            "10     \t [-4.84280999 -3.83232357]. \t  -47.68806114025933 \t -13.054438144741923\n",
            "11     \t [1.92748351 0.90273708]. \t  \u001b[92m-7.360253484560014\u001b[0m \t -7.360253484560014\n",
            "12     \t [-0.69529354 -1.12264264]. \t  -17.938756616211073 \t -7.360253484560014\n",
            "13     \t [0.10402916 1.78829826]. \t  -12.886848044881196 \t -7.360253484560014\n",
            "14     \t [1.50220491 4.78266425]. \t  -53.09155995105475 \t -7.360253484560014\n",
            "15     \t [-2.05132262  1.81441875]. \t  -14.077547989608306 \t -7.360253484560014\n",
            "16     \t [2.20875267 1.24993526]. \t  -23.874127236066617 \t -7.360253484560014\n",
            "17     \t [ 5.05259314 -1.48678833]. \t  -48.24584601477508 \t -7.360253484560014\n",
            "18     \t [-2.68637582  0.3930975 ]. \t  -39.090858329524565 \t -7.360253484560014\n",
            "19     \t [-0.38704907 -2.58186341]. \t  -43.10751723009094 \t -7.360253484560014\n",
            "20     \t [0.58929849 0.95864954]. \t  -20.068715280426684 \t -7.360253484560014\n"
          ],
          "name": "stdout"
        }
      ]
    },
    {
      "cell_type": "code",
      "metadata": {
        "colab": {
          "base_uri": "https://localhost:8080/"
        },
        "id": "aw3xvSryIwDi",
        "outputId": "65984330-0836-43bb-ad19-3dcf15309e59"
      },
      "source": [
        "### ZERO GP EI GRADIENTS\n",
        "\n",
        "np.random.seed(run_num_20)\n",
        "surrogate_zero_20 = dGaussianProcess(cov_func, optimize=opt)\n",
        "\n",
        "zero_20 = dGPGO_zero(surrogate_zero_20, Acquisition_new(util_grad_zero), objfunc, param)\n",
        "zero_20.run(init_evals=n_init, max_iter=iters)\n"
      ],
      "execution_count": 53,
      "outputs": [
        {
          "output_type": "stream",
          "text": [
            "Evaluation \t Proposed point \t  Current eval. \t Best eval.\n",
            "init   \t [0.9024594  4.07258857]. \t  -20.24255447774017 \t -17.388691338534382\n",
            "init   \t [4.00927467 3.23417577]. \t  -35.55852254546393 \t -17.388691338534382\n",
            "init   \t [-4.75249064  1.96359764]. \t  -36.54582989269194 \t -17.388691338534382\n",
            "init   \t [-1.24230715  0.18955208]. \t  -17.388691338534382 \t -17.388691338534382\n",
            "init   \t [ 1.61742301 -3.13497377]. \t  -33.22932870179905 \t -17.388691338534382\n",
            "1      \t [-5.04038248 -4.33114855]. \t  -59.36512603389513 \t -17.388691338534382\n",
            "2      \t [-2.96489388  5.04868064]. \t  -34.98620614086819 \t -17.388691338534382\n",
            "3      \t [ 5.11316294 -4.88092784]. \t  -55.06148040152972 \t -17.388691338534382\n",
            "4      \t [ 3.68851601 -0.58351791]. \t  -46.36787148871594 \t -17.388691338534382\n",
            "5      \t [-1.62883463 -4.26048482]. \t  -48.36180151832993 \t -17.388691338534382\n",
            "6      \t [-4.98848541 -0.90526799]. \t  -27.450398333143248 \t -17.388691338534382\n",
            "7      \t [0.93645439 1.02242281]. \t  \u001b[92m-2.8079216448068234\u001b[0m \t -2.8079216448068234\n",
            "8      \t [-1.13507086  2.40706187]. \t  -28.815482604175116 \t -2.8079216448068234\n",
            "9      \t [-2.38881643 -1.60171162]. \t  -43.95593185605958 \t -2.8079216448068234\n",
            "10     \t [ 0.94365976 -0.32099945]. \t  -15.928114034811234 \t -2.8079216448068234\n",
            "11     \t [1.76192027 1.59765353]. \t  -33.08453403059412 \t -2.8079216448068234\n",
            "12     \t [ 1.25109868 -4.96922177]. \t  -36.51385215278298 \t -2.8079216448068234\n",
            "13     \t [-4.68983353  4.81810046]. \t  -64.75009971004943 \t -2.8079216448068234\n",
            "14     \t [2.52507625 5.08432136]. \t  -53.47341881184989 \t -2.8079216448068234\n",
            "15     \t [4.95325427 1.6352905 ]. \t  -44.23656112704742 \t -2.8079216448068234\n",
            "16     \t [-0.63220912  4.85767325]. \t  -44.479391014623054 \t -2.8079216448068234\n",
            "17     \t [4.83010635 4.98828829]. \t  -53.41661893108656 \t -2.8079216448068234\n",
            "18     \t [ 4.24548718 -2.45343021]. \t  -53.334923033942445 \t -2.8079216448068234\n",
            "19     \t [-2.88006352  1.101919  ]. \t  -14.197861839509633 \t -2.8079216448068234\n",
            "20     \t [ 0.22909672 -1.93232082]. \t  -13.367335583846376 \t -2.8079216448068234\n"
          ],
          "name": "stdout"
        }
      ]
    },
    {
      "cell_type": "code",
      "metadata": {
        "colab": {
          "base_uri": "https://localhost:8080/"
        },
        "id": "qNqAB3vBTPqb",
        "outputId": "810e43c5-4124-4c8e-ec0e-3ac992e57df2"
      },
      "source": [
        "end_zero = time.time()\n",
        "end_zero\n",
        "\n",
        "time_zero = end_zero - start_zero\n",
        "time_zero"
      ],
      "execution_count": 54,
      "outputs": [
        {
          "output_type": "execute_result",
          "data": {
            "text/plain": [
              "185.31229329109192"
            ]
          },
          "metadata": {
            "tags": []
          },
          "execution_count": 54
        }
      ]
    },
    {
      "cell_type": "code",
      "metadata": {
        "colab": {
          "base_uri": "https://localhost:8080/"
        },
        "id": "JPQzjdBZQxfg",
        "outputId": "5788f427-be42-4bf1-b500-b93b2d928901"
      },
      "source": [
        "### Simple regret minimization: run number = 1\n",
        "\n",
        "exact_output_1 = np.append(np.min(exact_1.GP.y[0:n_init]),exact_1.GP.y[n_init:(n_init+iters)]) \n",
        "zero_output_1 = np.append(np.min(zero_1.GP.y[0:n_init]),zero_1.GP.y[n_init:(n_init+iters)]) \n",
        "\n",
        "regret_exact_1 = np.log(-exact_output_1 + y_global_orig)\n",
        "regret_zero_1 = np.log(-zero_output_1 + y_global_orig)\n",
        "\n",
        "simple_regret_exact_1 = min_max_array(regret_exact_1)\n",
        "simple_regret_zero_1 = min_max_array(regret_zero_1)\n",
        "\n",
        "min_simple_regret_exact_1 = min(simple_regret_exact_1)\n",
        "min_simple_regret_zero_1 = min(simple_regret_zero_1)\n",
        "\n",
        "min_simple_regret_exact_1, min_simple_regret_zero_1"
      ],
      "execution_count": 55,
      "outputs": [
        {
          "output_type": "execute_result",
          "data": {
            "text/plain": [
              "(2.8421841281240434, 2.116479226101828)"
            ]
          },
          "metadata": {
            "tags": []
          },
          "execution_count": 55
        }
      ]
    },
    {
      "cell_type": "code",
      "metadata": {
        "colab": {
          "base_uri": "https://localhost:8080/"
        },
        "id": "94yBw5tqQxfk",
        "outputId": "1f13d96c-c010-4bb7-dd82-d3c2b7e93606"
      },
      "source": [
        "### Simple regret minimization: run number = 2\n",
        "\n",
        "exact_output_2 = np.append(np.min(exact_2.GP.y[0:n_init]),exact_2.GP.y[n_init:(n_init+iters)]) \n",
        "zero_output_2 = np.append(np.min(zero_2.GP.y[0:n_init]),zero_2.GP.y[n_init:(n_init+iters)]) \n",
        "\n",
        "regret_exact_2 = np.log(-exact_output_2 + y_global_orig)\n",
        "regret_zero_2 = np.log(-zero_output_2 + y_global_orig)\n",
        "\n",
        "simple_regret_exact_2 = min_max_array(regret_exact_2)\n",
        "simple_regret_zero_2 = min_max_array(regret_zero_2)\n",
        "\n",
        "min_simple_regret_exact_2 = min(simple_regret_exact_2)\n",
        "min_simple_regret_zero_2 = min(simple_regret_zero_2)\n",
        "\n",
        "min_simple_regret_exact_2, min_simple_regret_zero_2"
      ],
      "execution_count": 56,
      "outputs": [
        {
          "output_type": "execute_result",
          "data": {
            "text/plain": [
              "(2.310665875280742, 2.824871490779228)"
            ]
          },
          "metadata": {
            "tags": []
          },
          "execution_count": 56
        }
      ]
    },
    {
      "cell_type": "code",
      "metadata": {
        "colab": {
          "base_uri": "https://localhost:8080/"
        },
        "id": "Bu6SBWALQxfl",
        "outputId": "024ce948-e4cf-47a1-ee63-5f668c67a33b"
      },
      "source": [
        "### Simple regret minimization: run number = 3\n",
        "\n",
        "exact_output_3 = np.append(np.min(exact_3.GP.y[0:n_init]),exact_3.GP.y[n_init:(n_init+iters)]) \n",
        "zero_output_3 = np.append(np.min(zero_3.GP.y[0:n_init]),zero_3.GP.y[n_init:(n_init+iters)]) \n",
        "\n",
        "regret_exact_3 = np.log(-exact_output_3 + y_global_orig)\n",
        "regret_zero_3 = np.log(-zero_output_3 + y_global_orig)\n",
        "\n",
        "simple_regret_exact_3 = min_max_array(regret_exact_3)\n",
        "simple_regret_zero_3 = min_max_array(regret_zero_3)\n",
        "\n",
        "min_simple_regret_exact_3 = min(simple_regret_exact_3)\n",
        "min_simple_regret_zero_3 = min(simple_regret_zero_3)\n",
        "\n",
        "min_simple_regret_exact_3, min_simple_regret_zero_3"
      ],
      "execution_count": 57,
      "outputs": [
        {
          "output_type": "execute_result",
          "data": {
            "text/plain": [
              "(2.9164123598760385, 2.064286267887516)"
            ]
          },
          "metadata": {
            "tags": []
          },
          "execution_count": 57
        }
      ]
    },
    {
      "cell_type": "code",
      "metadata": {
        "colab": {
          "base_uri": "https://localhost:8080/"
        },
        "id": "AZm0jgxkQxfm",
        "outputId": "657c2be1-6169-4db0-d5a7-e887d8daa971"
      },
      "source": [
        "### Simple regret minimization: run number = 4\n",
        "\n",
        "exact_output_4 = np.append(np.min(exact_4.GP.y[0:n_init]),exact_4.GP.y[n_init:(n_init+iters)]) \n",
        "zero_output_4 = np.append(np.min(zero_4.GP.y[0:n_init]),zero_4.GP.y[n_init:(n_init+iters)]) \n",
        "\n",
        "regret_exact_4 = np.log(-exact_output_4 + y_global_orig)\n",
        "regret_zero_4 = np.log(-zero_output_4 + y_global_orig)\n",
        "\n",
        "simple_regret_exact_4 = min_max_array(regret_exact_4)\n",
        "simple_regret_zero_4 = min_max_array(regret_zero_4)\n",
        "\n",
        "min_simple_regret_exact_4 = min(simple_regret_exact_4)\n",
        "min_simple_regret_zero_4 = min(simple_regret_zero_4)\n",
        "\n",
        "min_simple_regret_exact_4, min_simple_regret_zero_4"
      ],
      "execution_count": 58,
      "outputs": [
        {
          "output_type": "execute_result",
          "data": {
            "text/plain": [
              "(2.6915829730529564, 3.0310399622862696)"
            ]
          },
          "metadata": {
            "tags": []
          },
          "execution_count": 58
        }
      ]
    },
    {
      "cell_type": "code",
      "metadata": {
        "colab": {
          "base_uri": "https://localhost:8080/"
        },
        "id": "NONPm8JIQxfn",
        "outputId": "d662caec-a805-420a-e713-a5ca3f85bb9e"
      },
      "source": [
        "### Simple regret minimization: run number = 5\n",
        "\n",
        "exact_output_5 = np.append(np.min(exact_5.GP.y[0:n_init]),exact_5.GP.y[n_init:(n_init+iters)]) \n",
        "zero_output_5 = np.append(np.min(zero_5.GP.y[0:n_init]),zero_5.GP.y[n_init:(n_init+iters)]) \n",
        "\n",
        "regret_exact_5 = np.log(-exact_output_5 + y_global_orig)\n",
        "regret_zero_5 = np.log(-zero_output_5 + y_global_orig)\n",
        "\n",
        "simple_regret_exact_5 = min_max_array(regret_exact_5)\n",
        "simple_regret_zero_5 = min_max_array(regret_zero_5)\n",
        "\n",
        "min_simple_regret_exact_5 = min(simple_regret_exact_5)\n",
        "min_simple_regret_zero_5 = min(simple_regret_zero_5)\n",
        "\n",
        "min_simple_regret_exact_5, min_simple_regret_zero_5"
      ],
      "execution_count": 59,
      "outputs": [
        {
          "output_type": "execute_result",
          "data": {
            "text/plain": [
              "(3.0173192671185265, 2.820244262340486)"
            ]
          },
          "metadata": {
            "tags": []
          },
          "execution_count": 59
        }
      ]
    },
    {
      "cell_type": "code",
      "metadata": {
        "colab": {
          "base_uri": "https://localhost:8080/"
        },
        "id": "CJv3lPuSQxfp",
        "outputId": "e9fa3cd0-f99d-40f4-d8bb-f8c4ab790f27"
      },
      "source": [
        "### Simple regret minimization: run number = 6\n",
        "\n",
        "exact_output_6 = np.append(np.min(exact_6.GP.y[0:n_init]),exact_6.GP.y[n_init:(n_init+iters)]) \n",
        "zero_output_6 = np.append(np.min(zero_6.GP.y[0:n_init]),zero_6.GP.y[n_init:(n_init+iters)]) \n",
        "\n",
        "regret_exact_6 = np.log(-exact_output_6 + y_global_orig)\n",
        "regret_zero_6 = np.log(-zero_output_6 + y_global_orig)\n",
        "\n",
        "simple_regret_exact_6 = min_max_array(regret_exact_6)\n",
        "simple_regret_zero_6 = min_max_array(regret_zero_6)\n",
        "\n",
        "min_simple_regret_exact_6 = min(simple_regret_exact_6)\n",
        "min_simple_regret_zero_6 = min(simple_regret_zero_6)\n",
        "\n",
        "min_simple_regret_exact_6, min_simple_regret_zero_6"
      ],
      "execution_count": 60,
      "outputs": [
        {
          "output_type": "execute_result",
          "data": {
            "text/plain": [
              "(2.570449674926226, 3.34424594224657)"
            ]
          },
          "metadata": {
            "tags": []
          },
          "execution_count": 60
        }
      ]
    },
    {
      "cell_type": "code",
      "metadata": {
        "colab": {
          "base_uri": "https://localhost:8080/"
        },
        "id": "quR2ZyApQxfq",
        "outputId": "d9fdd95d-8642-43f6-f7a4-1dcff9d93d94"
      },
      "source": [
        "### Simple regret minimization: run number = 7\n",
        "\n",
        "exact_output_7 = np.append(np.min(exact_7.GP.y[0:n_init]),exact_7.GP.y[n_init:(n_init+iters)]) \n",
        "zero_output_7 = np.append(np.min(zero_7.GP.y[0:n_init]),zero_7.GP.y[n_init:(n_init+iters)]) \n",
        "\n",
        "regret_exact_7 = np.log(-exact_output_7 + y_global_orig)\n",
        "regret_zero_7 = np.log(-zero_output_7 + y_global_orig)\n",
        "\n",
        "simple_regret_exact_7 = min_max_array(regret_exact_7)\n",
        "simple_regret_zero_7 = min_max_array(regret_zero_7)\n",
        "\n",
        "min_simple_regret_exact_7 = min(simple_regret_exact_7)\n",
        "min_simple_regret_zero_7 = min(simple_regret_zero_7)\n",
        "\n",
        "min_simple_regret_exact_7, min_simple_regret_zero_7"
      ],
      "execution_count": 61,
      "outputs": [
        {
          "output_type": "execute_result",
          "data": {
            "text/plain": [
              "(2.016796401110347, 2.8521455348071294)"
            ]
          },
          "metadata": {
            "tags": []
          },
          "execution_count": 61
        }
      ]
    },
    {
      "cell_type": "code",
      "metadata": {
        "colab": {
          "base_uri": "https://localhost:8080/"
        },
        "id": "99wY5nK6Qxfr",
        "outputId": "d7407345-8ff7-4fc4-d783-db21c3ff9526"
      },
      "source": [
        "### Simple regret minimization: run number = 8\n",
        "\n",
        "exact_output_8 = np.append(np.min(exact_8.GP.y[0:n_init]),exact_8.GP.y[n_init:(n_init+iters)]) \n",
        "zero_output_8 = np.append(np.min(zero_8.GP.y[0:n_init]),zero_8.GP.y[n_init:(n_init+iters)]) \n",
        "\n",
        "regret_exact_8 = np.log(-exact_output_8 + y_global_orig)\n",
        "regret_zero_8 = np.log(-zero_output_8 + y_global_orig)\n",
        "\n",
        "simple_regret_exact_8 = min_max_array(regret_exact_8)\n",
        "simple_regret_zero_8 = min_max_array(regret_zero_8)\n",
        "\n",
        "min_simple_regret_exact_8 = min(simple_regret_exact_8)\n",
        "min_simple_regret_zero_8 = min(simple_regret_zero_8)\n",
        "\n",
        "min_simple_regret_exact_8, min_simple_regret_zero_8"
      ],
      "execution_count": 62,
      "outputs": [
        {
          "output_type": "execute_result",
          "data": {
            "text/plain": [
              "(3.2186564885822375, 2.6257495285396604)"
            ]
          },
          "metadata": {
            "tags": []
          },
          "execution_count": 62
        }
      ]
    },
    {
      "cell_type": "code",
      "metadata": {
        "colab": {
          "base_uri": "https://localhost:8080/"
        },
        "id": "qt0P5t9qQxfs",
        "outputId": "01e82302-9283-47e9-94c8-70cdb9697438"
      },
      "source": [
        "### Simple regret minimization: run number = 9\n",
        "\n",
        "exact_output_9 = np.append(np.min(exact_9.GP.y[0:n_init]),exact_9.GP.y[n_init:(n_init+iters)]) \n",
        "zero_output_9 = np.append(np.min(zero_9.GP.y[0:n_init]),zero_9.GP.y[n_init:(n_init+iters)]) \n",
        "\n",
        "regret_exact_9 = np.log(-exact_output_9 + y_global_orig)\n",
        "regret_zero_9 = np.log(-zero_output_9 + y_global_orig)\n",
        "\n",
        "simple_regret_exact_9 = min_max_array(regret_exact_9)\n",
        "simple_regret_zero_9 = min_max_array(regret_zero_9)\n",
        "\n",
        "min_simple_regret_exact_9 = min(simple_regret_exact_9)\n",
        "min_simple_regret_zero_9 = min(simple_regret_zero_9)\n",
        "\n",
        "min_simple_regret_exact_9, min_simple_regret_zero_9"
      ],
      "execution_count": 63,
      "outputs": [
        {
          "output_type": "execute_result",
          "data": {
            "text/plain": [
              "(1.8063471797715636, 2.4667608731577246)"
            ]
          },
          "metadata": {
            "tags": []
          },
          "execution_count": 63
        }
      ]
    },
    {
      "cell_type": "code",
      "metadata": {
        "colab": {
          "base_uri": "https://localhost:8080/"
        },
        "id": "vx8to9stQxft",
        "outputId": "230aec74-edb5-4db2-856f-763a31377ac5"
      },
      "source": [
        "### Simple regret minimization: run number = 10\n",
        "\n",
        "exact_output_10 = np.append(np.min(exact_10.GP.y[0:n_init]),exact_10.GP.y[n_init:(n_init+iters)]) \n",
        "zero_output_10 = np.append(np.min(zero_10.GP.y[0:n_init]),zero_10.GP.y[n_init:(n_init+iters)]) \n",
        "\n",
        "regret_exact_10 = np.log(-exact_output_10 + y_global_orig)\n",
        "regret_zero_10 = np.log(-zero_output_10 + y_global_orig)\n",
        "\n",
        "simple_regret_exact_10 = min_max_array(regret_exact_10)\n",
        "simple_regret_zero_10 = min_max_array(regret_zero_10)\n",
        "\n",
        "min_simple_regret_exact_10 = min(simple_regret_exact_10)\n",
        "min_simple_regret_zero_10 = min(simple_regret_zero_10)\n",
        "\n",
        "min_simple_regret_exact_10, min_simple_regret_zero_10"
      ],
      "execution_count": 64,
      "outputs": [
        {
          "output_type": "execute_result",
          "data": {
            "text/plain": [
              "(1.9699753549792747, 2.2410773013304173)"
            ]
          },
          "metadata": {
            "tags": []
          },
          "execution_count": 64
        }
      ]
    },
    {
      "cell_type": "code",
      "metadata": {
        "colab": {
          "base_uri": "https://localhost:8080/"
        },
        "id": "d-FGzWyHQxfu",
        "outputId": "61acc5f1-ec9b-4a37-db79-25754f50de55"
      },
      "source": [
        "### Simple regret minimization: run number = 11\n",
        "\n",
        "exact_output_11 = np.append(np.min(exact_11.GP.y[0:n_init]),exact_11.GP.y[n_init:(n_init+iters)]) \n",
        "zero_output_11 = np.append(np.min(zero_11.GP.y[0:n_init]),zero_11.GP.y[n_init:(n_init+iters)]) \n",
        "\n",
        "regret_exact_11 = np.log(-exact_output_11 + y_global_orig)\n",
        "regret_zero_11 = np.log(-zero_output_11 + y_global_orig)\n",
        "\n",
        "simple_regret_exact_11 = min_max_array(regret_exact_11)\n",
        "simple_regret_zero_11 = min_max_array(regret_zero_11)\n",
        "\n",
        "min_simple_regret_exact_11 = min(simple_regret_exact_11)\n",
        "min_simple_regret_zero_11 = min(simple_regret_zero_11)\n",
        "\n",
        "min_simple_regret_exact_11, min_simple_regret_zero_11"
      ],
      "execution_count": 65,
      "outputs": [
        {
          "output_type": "execute_result",
          "data": {
            "text/plain": [
              "(0.21046865681117868, 2.1239939962651304)"
            ]
          },
          "metadata": {
            "tags": []
          },
          "execution_count": 65
        }
      ]
    },
    {
      "cell_type": "code",
      "metadata": {
        "colab": {
          "base_uri": "https://localhost:8080/"
        },
        "id": "SvtsssyjQxfv",
        "outputId": "e5d10492-8553-4db2-f1cb-3decf628869f"
      },
      "source": [
        "### Simple regret minimization: run number = 12\n",
        "\n",
        "exact_output_12 = np.append(np.min(exact_12.GP.y[0:n_init]),exact_12.GP.y[n_init:(n_init+iters)]) \n",
        "zero_output_12 = np.append(np.min(zero_12.GP.y[0:n_init]),zero_12.GP.y[n_init:(n_init+iters)]) \n",
        "\n",
        "regret_exact_12 = np.log(-exact_output_12 + y_global_orig)\n",
        "regret_zero_12 = np.log(-zero_output_12 + y_global_orig)\n",
        "\n",
        "simple_regret_exact_12 = min_max_array(regret_exact_12)\n",
        "simple_regret_zero_12 = min_max_array(regret_zero_12)\n",
        "\n",
        "min_simple_regret_exact_12 = min(simple_regret_exact_12)\n",
        "min_simple_regret_zero_12 = min(simple_regret_zero_12)\n",
        "\n",
        "min_simple_regret_exact_12, min_simple_regret_zero_12"
      ],
      "execution_count": 66,
      "outputs": [
        {
          "output_type": "execute_result",
          "data": {
            "text/plain": [
              "(3.0596357572387802, 2.383711149601142)"
            ]
          },
          "metadata": {
            "tags": []
          },
          "execution_count": 66
        }
      ]
    },
    {
      "cell_type": "code",
      "metadata": {
        "colab": {
          "base_uri": "https://localhost:8080/"
        },
        "id": "K6OiGcHkQxfw",
        "outputId": "d7a86b0b-f1b7-4c74-f3ac-7eea8ab1fd4e"
      },
      "source": [
        "### Simple regret minimization: run number = 13\n",
        "\n",
        "exact_output_13 = np.append(np.min(exact_13.GP.y[0:n_init]),exact_13.GP.y[n_init:(n_init+iters)]) \n",
        "zero_output_13 = np.append(np.min(zero_13.GP.y[0:n_init]),zero_13.GP.y[n_init:(n_init+iters)]) \n",
        "\n",
        "regret_exact_13 = np.log(-exact_output_13 + y_global_orig)\n",
        "regret_zero_13 = np.log(-zero_output_13 + y_global_orig)\n",
        "\n",
        "simple_regret_exact_13 = min_max_array(regret_exact_13)\n",
        "simple_regret_zero_13 = min_max_array(regret_zero_13)\n",
        "\n",
        "min_simple_regret_exact_13 = min(simple_regret_exact_13)\n",
        "min_simple_regret_zero_13 = min(simple_regret_zero_13)\n",
        "\n",
        "min_simple_regret_exact_13, min_simple_regret_zero_13"
      ],
      "execution_count": 67,
      "outputs": [
        {
          "output_type": "execute_result",
          "data": {
            "text/plain": [
              "(2.45583861432536, 2.1205418514449623)"
            ]
          },
          "metadata": {
            "tags": []
          },
          "execution_count": 67
        }
      ]
    },
    {
      "cell_type": "code",
      "metadata": {
        "colab": {
          "base_uri": "https://localhost:8080/"
        },
        "id": "ogML73shQxfx",
        "outputId": "9f348c23-dfca-405d-9546-b9f84ea1e97b"
      },
      "source": [
        "### Simple regret minimization: run number = 14\n",
        "\n",
        "exact_output_14 = np.append(np.min(exact_14.GP.y[0:n_init]),exact_14.GP.y[n_init:(n_init+iters)]) \n",
        "zero_output_14 = np.append(np.min(zero_14.GP.y[0:n_init]),zero_14.GP.y[n_init:(n_init+iters)]) \n",
        "\n",
        "regret_exact_14 = np.log(-exact_output_14 + y_global_orig)\n",
        "regret_zero_14 = np.log(-zero_output_14 + y_global_orig)\n",
        "\n",
        "simple_regret_exact_14 = min_max_array(regret_exact_14)\n",
        "simple_regret_zero_14 = min_max_array(regret_zero_14)\n",
        "\n",
        "min_simple_regret_exact_14 = min(simple_regret_exact_14)\n",
        "min_simple_regret_zero_14 = min(simple_regret_zero_14)\n",
        "\n",
        "min_simple_regret_exact_14, min_simple_regret_zero_14"
      ],
      "execution_count": 68,
      "outputs": [
        {
          "output_type": "execute_result",
          "data": {
            "text/plain": [
              "(2.3109866018095486, 2.0821257819171355)"
            ]
          },
          "metadata": {
            "tags": []
          },
          "execution_count": 68
        }
      ]
    },
    {
      "cell_type": "code",
      "metadata": {
        "colab": {
          "base_uri": "https://localhost:8080/"
        },
        "id": "9Eg7gFT9Qxfx",
        "outputId": "bd1504ea-e1c6-4546-c664-fe90319d5273"
      },
      "source": [
        "### Simple regret minimization: run number = 15\n",
        "\n",
        "exact_output_15 = np.append(np.min(exact_15.GP.y[0:n_init]),exact_15.GP.y[n_init:(n_init+iters)]) \n",
        "zero_output_15 = np.append(np.min(zero_15.GP.y[0:n_init]),zero_15.GP.y[n_init:(n_init+iters)]) \n",
        "\n",
        "regret_exact_15 = np.log(-exact_output_15 + y_global_orig)\n",
        "regret_zero_15 = np.log(-zero_output_15 + y_global_orig)\n",
        "\n",
        "simple_regret_exact_15 = min_max_array(regret_exact_15)\n",
        "simple_regret_zero_15 = min_max_array(regret_zero_15)\n",
        "\n",
        "min_simple_regret_exact_15 = min(simple_regret_exact_15)\n",
        "min_simple_regret_zero_15 = min(simple_regret_zero_15)\n",
        "\n",
        "min_simple_regret_exact_15, min_simple_regret_zero_15"
      ],
      "execution_count": 69,
      "outputs": [
        {
          "output_type": "execute_result",
          "data": {
            "text/plain": [
              "(3.138197819224887, 3.2370678736916036)"
            ]
          },
          "metadata": {
            "tags": []
          },
          "execution_count": 69
        }
      ]
    },
    {
      "cell_type": "code",
      "metadata": {
        "colab": {
          "base_uri": "https://localhost:8080/"
        },
        "id": "lIAC1U7ZQxfy",
        "outputId": "bcaeb54d-8a6e-4132-a37d-9212b7cd3446"
      },
      "source": [
        "### Simple regret minimization: run number = 16\n",
        "\n",
        "exact_output_16 = np.append(np.min(exact_16.GP.y[0:n_init]),exact_16.GP.y[n_init:(n_init+iters)]) \n",
        "zero_output_16 = np.append(np.min(zero_16.GP.y[0:n_init]),zero_16.GP.y[n_init:(n_init+iters)]) \n",
        "\n",
        "regret_exact_16 = np.log(-exact_output_16 + y_global_orig)\n",
        "regret_zero_16 = np.log(-zero_output_16 + y_global_orig)\n",
        "\n",
        "simple_regret_exact_16 = min_max_array(regret_exact_16)\n",
        "simple_regret_zero_16 = min_max_array(regret_zero_16)\n",
        "\n",
        "min_simple_regret_exact_16 = min(simple_regret_exact_16)\n",
        "min_simple_regret_zero_16 = min(simple_regret_zero_16)\n",
        "\n",
        "min_simple_regret_exact_16, min_simple_regret_zero_16"
      ],
      "execution_count": 70,
      "outputs": [
        {
          "output_type": "execute_result",
          "data": {
            "text/plain": [
              "(2.7299159487281055, 1.8607491248253725)"
            ]
          },
          "metadata": {
            "tags": []
          },
          "execution_count": 70
        }
      ]
    },
    {
      "cell_type": "code",
      "metadata": {
        "colab": {
          "base_uri": "https://localhost:8080/"
        },
        "id": "bGott36OQxfz",
        "outputId": "6e009551-dec3-4a5b-cabb-7409b31d7a43"
      },
      "source": [
        "### Simple regret minimization: run number = 17\n",
        "\n",
        "exact_output_17 = np.append(np.min(exact_17.GP.y[0:n_init]),exact_17.GP.y[n_init:(n_init+iters)]) \n",
        "zero_output_17 = np.append(np.min(zero_17.GP.y[0:n_init]),zero_17.GP.y[n_init:(n_init+iters)]) \n",
        "\n",
        "regret_exact_17 = np.log(-exact_output_17 + y_global_orig)\n",
        "regret_zero_17 = np.log(-zero_output_17 + y_global_orig)\n",
        "\n",
        "simple_regret_exact_17 = min_max_array(regret_exact_17)\n",
        "simple_regret_zero_17 = min_max_array(regret_zero_17)\n",
        "\n",
        "min_simple_regret_exact_17 = min(simple_regret_exact_17)\n",
        "min_simple_regret_zero_17 = min(simple_regret_zero_17)\n",
        "\n",
        "min_simple_regret_exact_17, min_simple_regret_zero_17"
      ],
      "execution_count": 71,
      "outputs": [
        {
          "output_type": "execute_result",
          "data": {
            "text/plain": [
              "(2.9303056976467343, 2.70975972608701)"
            ]
          },
          "metadata": {
            "tags": []
          },
          "execution_count": 71
        }
      ]
    },
    {
      "cell_type": "code",
      "metadata": {
        "colab": {
          "base_uri": "https://localhost:8080/"
        },
        "id": "Cz9ZYMBMQxfz",
        "outputId": "1cb27f41-7737-40ce-fb44-1a61ad1c078b"
      },
      "source": [
        "### Simple regret minimization: run number = 18\n",
        "\n",
        "exact_output_18 = np.append(np.min(exact_18.GP.y[0:n_init]),exact_18.GP.y[n_init:(n_init+iters)]) \n",
        "zero_output_18 = np.append(np.min(zero_18.GP.y[0:n_init]),zero_18.GP.y[n_init:(n_init+iters)]) \n",
        "\n",
        "regret_exact_18 = np.log(-exact_output_18 + y_global_orig)\n",
        "regret_zero_18 = np.log(-zero_output_18 + y_global_orig)\n",
        "\n",
        "simple_regret_exact_18 = min_max_array(regret_exact_18)\n",
        "simple_regret_zero_18 = min_max_array(regret_zero_18)\n",
        "\n",
        "min_simple_regret_exact_18 = min(simple_regret_exact_18)\n",
        "min_simple_regret_zero_18 = min(simple_regret_zero_18)\n",
        "\n",
        "min_simple_regret_exact_18, min_simple_regret_zero_18"
      ],
      "execution_count": 72,
      "outputs": [
        {
          "output_type": "execute_result",
          "data": {
            "text/plain": [
              "(2.3970472197929094, 2.011357983188474)"
            ]
          },
          "metadata": {
            "tags": []
          },
          "execution_count": 72
        }
      ]
    },
    {
      "cell_type": "code",
      "metadata": {
        "colab": {
          "base_uri": "https://localhost:8080/"
        },
        "id": "OBfpWOHNQxf0",
        "outputId": "e80cc05d-d005-47bc-aebd-ad681a1eb049"
      },
      "source": [
        "### Simple regret minimization: run number = 19\n",
        "\n",
        "exact_output_19 = np.append(np.min(exact_19.GP.y[0:n_init]),exact_19.GP.y[n_init:(n_init+iters)]) \n",
        "zero_output_19 = np.append(np.min(zero_19.GP.y[0:n_init]),zero_19.GP.y[n_init:(n_init+iters)]) \n",
        "\n",
        "regret_exact_19 = np.log(-exact_output_19 + y_global_orig)\n",
        "regret_zero_19 = np.log(-zero_output_19 + y_global_orig)\n",
        "\n",
        "simple_regret_exact_19 = min_max_array(regret_exact_19)\n",
        "simple_regret_zero_19 = min_max_array(regret_zero_19)\n",
        "\n",
        "min_simple_regret_exact_19 = min(simple_regret_exact_19)\n",
        "min_simple_regret_zero_19 = min(simple_regret_zero_19)\n",
        "\n",
        "min_simple_regret_exact_19, min_simple_regret_zero_19"
      ],
      "execution_count": 73,
      "outputs": [
        {
          "output_type": "execute_result",
          "data": {
            "text/plain": [
              "(2.1912911017368746, 1.9960943729846712)"
            ]
          },
          "metadata": {
            "tags": []
          },
          "execution_count": 73
        }
      ]
    },
    {
      "cell_type": "code",
      "metadata": {
        "colab": {
          "base_uri": "https://localhost:8080/"
        },
        "id": "BE1AJ7NsQxf0",
        "outputId": "a3f08833-e8f9-440c-8fe5-8325939d89a7"
      },
      "source": [
        "### Simple regret minimization: run number = 20\n",
        "\n",
        "exact_output_20 = np.append(np.min(exact_20.GP.y[0:n_init]),exact_20.GP.y[n_init:(n_init+iters)]) \n",
        "zero_output_20 = np.append(np.min(zero_20.GP.y[0:n_init]),zero_20.GP.y[n_init:(n_init+iters)]) \n",
        "\n",
        "regret_exact_20 = np.log(-exact_output_20 + y_global_orig)\n",
        "regret_zero_20 = np.log(-zero_output_20 + y_global_orig)\n",
        "\n",
        "simple_regret_exact_20 = min_max_array(regret_exact_20)\n",
        "simple_regret_zero_20 = min_max_array(regret_zero_20)\n",
        "\n",
        "min_simple_regret_exact_20 = min(simple_regret_exact_20)\n",
        "min_simple_regret_zero_20 = min(simple_regret_zero_20)\n",
        "\n",
        "min_simple_regret_exact_20, min_simple_regret_zero_20"
      ],
      "execution_count": 74,
      "outputs": [
        {
          "output_type": "execute_result",
          "data": {
            "text/plain": [
              "(2.831564667557482, 1.0324445815031589)"
            ]
          },
          "metadata": {
            "tags": []
          },
          "execution_count": 74
        }
      ]
    },
    {
      "cell_type": "code",
      "metadata": {
        "id": "bpX-bKAHQxf1"
      },
      "source": [
        "# Iteration1 :\n",
        "\n",
        "slice1 = 0\n",
        "\n",
        "exact1 = [simple_regret_exact_1[slice1],\n",
        "       simple_regret_exact_2[slice1],\n",
        "       simple_regret_exact_3[slice1],\n",
        "       simple_regret_exact_4[slice1],\n",
        "       simple_regret_exact_5[slice1],\n",
        "       simple_regret_exact_6[slice1],\n",
        "       simple_regret_exact_7[slice1],\n",
        "       simple_regret_exact_8[slice1],\n",
        "       simple_regret_exact_9[slice1],\n",
        "       simple_regret_exact_10[slice1],\n",
        "       simple_regret_exact_11[slice1],\n",
        "       simple_regret_exact_12[slice1],\n",
        "       simple_regret_exact_13[slice1],\n",
        "       simple_regret_exact_14[slice1],\n",
        "       simple_regret_exact_15[slice1],\n",
        "       simple_regret_exact_16[slice1],\n",
        "       simple_regret_exact_17[slice1],\n",
        "       simple_regret_exact_18[slice1],\n",
        "       simple_regret_exact_19[slice1],\n",
        "       simple_regret_exact_20[slice1]]\n",
        "\n",
        "zero1 = [simple_regret_zero_1[slice1],\n",
        "       simple_regret_zero_2[slice1],\n",
        "       simple_regret_zero_3[slice1],\n",
        "       simple_regret_zero_4[slice1],\n",
        "       simple_regret_zero_5[slice1],\n",
        "       simple_regret_zero_6[slice1],\n",
        "       simple_regret_zero_7[slice1],\n",
        "       simple_regret_zero_8[slice1],\n",
        "       simple_regret_zero_9[slice1],\n",
        "       simple_regret_zero_10[slice1],\n",
        "       simple_regret_zero_11[slice1],\n",
        "       simple_regret_zero_12[slice1],\n",
        "       simple_regret_zero_13[slice1],\n",
        "       simple_regret_zero_14[slice1],\n",
        "       simple_regret_zero_15[slice1],\n",
        "       simple_regret_zero_16[slice1],\n",
        "       simple_regret_zero_17[slice1],\n",
        "       simple_regret_zero_18[slice1],\n",
        "       simple_regret_zero_19[slice1],\n",
        "       simple_regret_zero_20[slice1]]\n",
        "\n",
        "exact1_results = pd.DataFrame(exact1).sort_values(by=[0], ascending=False)\n",
        "zero1_results = pd.DataFrame(zero1).sort_values(by=[0], ascending=False)\n",
        "\n",
        "### Best simple regret minimization IQR - exact:\n",
        "lower_exact1 = np.asarray(exact1_results[4:5][0])[0]\n",
        "median_exact1 = np.asarray(exact1_results[9:10][0])[0]\n",
        "upper_exact1 = np.asarray(exact1_results[14:15][0])[0]\n",
        "\n",
        "lower_zero1 = np.asarray(zero1_results[4:5][0])[0]\n",
        "median_zero1 = np.asarray(zero1_results[9:10][0])[0]\n",
        "upper_zero1 = np.asarray(zero1_results[14:15][0])[0]"
      ],
      "execution_count": 75,
      "outputs": []
    },
    {
      "cell_type": "code",
      "metadata": {
        "id": "CgIkJA1xQxf2"
      },
      "source": [
        "# Iteration11 :\n",
        "\n",
        "slice11 = 10\n",
        "\n",
        "exact11 = [simple_regret_exact_1[slice11],\n",
        "       simple_regret_exact_2[slice11],\n",
        "       simple_regret_exact_3[slice11],\n",
        "       simple_regret_exact_4[slice11],\n",
        "       simple_regret_exact_5[slice11],\n",
        "       simple_regret_exact_6[slice11],\n",
        "       simple_regret_exact_7[slice11],\n",
        "       simple_regret_exact_8[slice11],\n",
        "       simple_regret_exact_9[slice11],\n",
        "       simple_regret_exact_10[slice11],\n",
        "       simple_regret_exact_11[slice11],\n",
        "       simple_regret_exact_12[slice11],\n",
        "       simple_regret_exact_13[slice11],\n",
        "       simple_regret_exact_14[slice11],\n",
        "       simple_regret_exact_15[slice11],\n",
        "       simple_regret_exact_16[slice11],\n",
        "       simple_regret_exact_17[slice11],\n",
        "       simple_regret_exact_18[slice11],\n",
        "       simple_regret_exact_19[slice11],\n",
        "       simple_regret_exact_20[slice11]]\n",
        "\n",
        "zero11 = [simple_regret_zero_1[slice11],\n",
        "       simple_regret_zero_2[slice11],\n",
        "       simple_regret_zero_3[slice11],\n",
        "       simple_regret_zero_4[slice11],\n",
        "       simple_regret_zero_5[slice11],\n",
        "       simple_regret_zero_6[slice11],\n",
        "       simple_regret_zero_7[slice11],\n",
        "       simple_regret_zero_8[slice11],\n",
        "       simple_regret_zero_9[slice11],\n",
        "       simple_regret_zero_10[slice11],\n",
        "       simple_regret_zero_11[slice11],\n",
        "       simple_regret_zero_12[slice11],\n",
        "       simple_regret_zero_13[slice11],\n",
        "       simple_regret_zero_14[slice11],\n",
        "       simple_regret_zero_15[slice11],\n",
        "       simple_regret_zero_16[slice11],\n",
        "       simple_regret_zero_17[slice11],\n",
        "       simple_regret_zero_18[slice11],\n",
        "       simple_regret_zero_19[slice11],\n",
        "       simple_regret_zero_20[slice11]]\n",
        "\n",
        "exact11_results = pd.DataFrame(exact11).sort_values(by=[0], ascending=False)\n",
        "zero11_results = pd.DataFrame(zero11).sort_values(by=[0], ascending=False)\n",
        "\n",
        "### Best simple regret minimization IQR - exact:\n",
        "lower_exact11 = np.asarray(exact11_results[4:5][0])[0]\n",
        "median_exact11 = np.asarray(exact11_results[9:10][0])[0]\n",
        "upper_exact11 = np.asarray(exact11_results[14:15][0])[0]\n",
        "\n",
        "lower_zero11 = np.asarray(zero11_results[4:5][0])[0]\n",
        "median_zero11 = np.asarray(zero11_results[9:10][0])[0]\n",
        "upper_zero11 = np.asarray(zero11_results[14:15][0])[0]"
      ],
      "execution_count": 76,
      "outputs": []
    },
    {
      "cell_type": "code",
      "metadata": {
        "id": "MFePDfGuQxf2"
      },
      "source": [
        "# Iteration21 :\n",
        "\n",
        "slice21 = 20\n",
        "\n",
        "exact21 = [simple_regret_exact_1[slice21],\n",
        "       simple_regret_exact_2[slice21],\n",
        "       simple_regret_exact_3[slice21],\n",
        "       simple_regret_exact_4[slice21],\n",
        "       simple_regret_exact_5[slice21],\n",
        "       simple_regret_exact_6[slice21],\n",
        "       simple_regret_exact_7[slice21],\n",
        "       simple_regret_exact_8[slice21],\n",
        "       simple_regret_exact_9[slice21],\n",
        "       simple_regret_exact_10[slice21],\n",
        "       simple_regret_exact_11[slice21],\n",
        "       simple_regret_exact_12[slice21],\n",
        "       simple_regret_exact_13[slice21],\n",
        "       simple_regret_exact_14[slice21],\n",
        "       simple_regret_exact_15[slice21],\n",
        "       simple_regret_exact_16[slice21],\n",
        "       simple_regret_exact_17[slice21],\n",
        "       simple_regret_exact_18[slice21],\n",
        "       simple_regret_exact_19[slice21],\n",
        "       simple_regret_exact_20[slice21]]\n",
        "\n",
        "zero21 = [simple_regret_zero_1[slice21],\n",
        "       simple_regret_zero_2[slice21],\n",
        "       simple_regret_zero_3[slice21],\n",
        "       simple_regret_zero_4[slice21],\n",
        "       simple_regret_zero_5[slice21],\n",
        "       simple_regret_zero_6[slice21],\n",
        "       simple_regret_zero_7[slice21],\n",
        "       simple_regret_zero_8[slice21],\n",
        "       simple_regret_zero_9[slice21],\n",
        "       simple_regret_zero_10[slice21],\n",
        "       simple_regret_zero_11[slice21],\n",
        "       simple_regret_zero_12[slice21],\n",
        "       simple_regret_zero_13[slice21],\n",
        "       simple_regret_zero_14[slice21],\n",
        "       simple_regret_zero_15[slice21],\n",
        "       simple_regret_zero_16[slice21],\n",
        "       simple_regret_zero_17[slice21],\n",
        "       simple_regret_zero_18[slice21],\n",
        "       simple_regret_zero_19[slice21],\n",
        "       simple_regret_zero_20[slice21]]\n",
        "\n",
        "exact21_results = pd.DataFrame(exact21).sort_values(by=[0], ascending=False)\n",
        "zero21_results = pd.DataFrame(zero21).sort_values(by=[0], ascending=False)\n",
        "\n",
        "### Best simple regret minimization IQR - exact:\n",
        "lower_exact21 = np.asarray(exact21_results[4:5][0])[0]\n",
        "median_exact21 = np.asarray(exact21_results[9:10][0])[0]\n",
        "upper_exact21 = np.asarray(exact21_results[14:15][0])[0]\n",
        "\n",
        "lower_zero21 = np.asarray(zero21_results[4:5][0])[0]\n",
        "median_zero21 = np.asarray(zero21_results[9:10][0])[0]\n",
        "upper_zero21 = np.asarray(zero21_results[14:15][0])[0]"
      ],
      "execution_count": 77,
      "outputs": []
    },
    {
      "cell_type": "code",
      "metadata": {
        "id": "PrRDB1kfQxf3"
      },
      "source": [
        "# Iteration2 :\n",
        "\n",
        "slice2 = 1\n",
        "\n",
        "exact2 = [simple_regret_exact_1[slice2],\n",
        "       simple_regret_exact_2[slice2],\n",
        "       simple_regret_exact_3[slice2],\n",
        "       simple_regret_exact_4[slice2],\n",
        "       simple_regret_exact_5[slice2],\n",
        "       simple_regret_exact_6[slice2],\n",
        "       simple_regret_exact_7[slice2],\n",
        "       simple_regret_exact_8[slice2],\n",
        "       simple_regret_exact_9[slice2],\n",
        "       simple_regret_exact_10[slice2],\n",
        "       simple_regret_exact_11[slice2],\n",
        "       simple_regret_exact_12[slice2],\n",
        "       simple_regret_exact_13[slice2],\n",
        "       simple_regret_exact_14[slice2],\n",
        "       simple_regret_exact_15[slice2],\n",
        "       simple_regret_exact_16[slice2],\n",
        "       simple_regret_exact_17[slice2],\n",
        "       simple_regret_exact_18[slice2],\n",
        "       simple_regret_exact_19[slice2],\n",
        "       simple_regret_exact_20[slice2]]\n",
        "\n",
        "zero2 = [simple_regret_zero_1[slice2],\n",
        "       simple_regret_zero_2[slice2],\n",
        "       simple_regret_zero_3[slice2],\n",
        "       simple_regret_zero_4[slice2],\n",
        "       simple_regret_zero_5[slice2],\n",
        "       simple_regret_zero_6[slice2],\n",
        "       simple_regret_zero_7[slice2],\n",
        "       simple_regret_zero_8[slice2],\n",
        "       simple_regret_zero_9[slice2],\n",
        "       simple_regret_zero_10[slice2],\n",
        "       simple_regret_zero_11[slice2],\n",
        "       simple_regret_zero_12[slice2],\n",
        "       simple_regret_zero_13[slice2],\n",
        "       simple_regret_zero_14[slice2],\n",
        "       simple_regret_zero_15[slice2],\n",
        "       simple_regret_zero_16[slice2],\n",
        "       simple_regret_zero_17[slice2],\n",
        "       simple_regret_zero_18[slice2],\n",
        "       simple_regret_zero_19[slice2],\n",
        "       simple_regret_zero_20[slice2]]\n",
        "\n",
        "exact2_results = pd.DataFrame(exact2).sort_values(by=[0], ascending=False)\n",
        "zero2_results = pd.DataFrame(zero2).sort_values(by=[0], ascending=False)\n",
        "\n",
        "### Best simple regret minimization IQR - exact:\n",
        "lower_exact2 = np.asarray(exact2_results[4:5][0])[0]\n",
        "median_exact2 = np.asarray(exact2_results[9:10][0])[0]\n",
        "upper_exact2 = np.asarray(exact2_results[14:15][0])[0]\n",
        "\n",
        "lower_zero2 = np.asarray(zero2_results[4:5][0])[0]\n",
        "median_zero2 = np.asarray(zero2_results[9:10][0])[0]\n",
        "upper_zero2 = np.asarray(zero2_results[14:15][0])[0]"
      ],
      "execution_count": 78,
      "outputs": []
    },
    {
      "cell_type": "code",
      "metadata": {
        "id": "B8ncJDYeQxf3"
      },
      "source": [
        "# Iteration12 :\n",
        "\n",
        "slice12 = 11\n",
        "\n",
        "exact12 = [simple_regret_exact_1[slice12],\n",
        "       simple_regret_exact_2[slice12],\n",
        "       simple_regret_exact_3[slice12],\n",
        "       simple_regret_exact_4[slice12],\n",
        "       simple_regret_exact_5[slice12],\n",
        "       simple_regret_exact_6[slice12],\n",
        "       simple_regret_exact_7[slice12],\n",
        "       simple_regret_exact_8[slice12],\n",
        "       simple_regret_exact_9[slice12],\n",
        "       simple_regret_exact_10[slice12],\n",
        "       simple_regret_exact_11[slice12],\n",
        "       simple_regret_exact_12[slice12],\n",
        "       simple_regret_exact_13[slice12],\n",
        "       simple_regret_exact_14[slice12],\n",
        "       simple_regret_exact_15[slice12],\n",
        "       simple_regret_exact_16[slice12],\n",
        "       simple_regret_exact_17[slice12],\n",
        "       simple_regret_exact_18[slice12],\n",
        "       simple_regret_exact_19[slice12],\n",
        "       simple_regret_exact_20[slice12]]\n",
        "\n",
        "zero12 = [simple_regret_zero_1[slice12],\n",
        "       simple_regret_zero_2[slice12],\n",
        "       simple_regret_zero_3[slice12],\n",
        "       simple_regret_zero_4[slice12],\n",
        "       simple_regret_zero_5[slice12],\n",
        "       simple_regret_zero_6[slice12],\n",
        "       simple_regret_zero_7[slice12],\n",
        "       simple_regret_zero_8[slice12],\n",
        "       simple_regret_zero_9[slice12],\n",
        "       simple_regret_zero_10[slice12],\n",
        "       simple_regret_zero_11[slice12],\n",
        "       simple_regret_zero_12[slice12],\n",
        "       simple_regret_zero_13[slice12],\n",
        "       simple_regret_zero_14[slice12],\n",
        "       simple_regret_zero_15[slice12],\n",
        "       simple_regret_zero_16[slice12],\n",
        "       simple_regret_zero_17[slice12],\n",
        "       simple_regret_zero_18[slice12],\n",
        "       simple_regret_zero_19[slice12],\n",
        "       simple_regret_zero_20[slice12]]\n",
        "\n",
        "exact12_results = pd.DataFrame(exact12).sort_values(by=[0], ascending=False)\n",
        "zero12_results = pd.DataFrame(zero12).sort_values(by=[0], ascending=False)\n",
        "\n",
        "### Best simple regret minimization IQR - exact:\n",
        "lower_exact12 = np.asarray(exact12_results[4:5][0])[0]\n",
        "median_exact12 = np.asarray(exact12_results[9:10][0])[0]\n",
        "upper_exact12 = np.asarray(exact12_results[14:15][0])[0]\n",
        "\n",
        "lower_zero12 = np.asarray(zero12_results[4:5][0])[0]\n",
        "median_zero12 = np.asarray(zero12_results[9:10][0])[0]\n",
        "upper_zero12 = np.asarray(zero12_results[14:15][0])[0]"
      ],
      "execution_count": 79,
      "outputs": []
    },
    {
      "cell_type": "code",
      "metadata": {
        "id": "Jn4KpGvcQxf4"
      },
      "source": [
        "# Iteration3 :\n",
        "\n",
        "slice3 = 2\n",
        "\n",
        "exact3 = [simple_regret_exact_1[slice3],\n",
        "       simple_regret_exact_2[slice3],\n",
        "       simple_regret_exact_3[slice3],\n",
        "       simple_regret_exact_4[slice3],\n",
        "       simple_regret_exact_5[slice3],\n",
        "       simple_regret_exact_6[slice3],\n",
        "       simple_regret_exact_7[slice3],\n",
        "       simple_regret_exact_8[slice3],\n",
        "       simple_regret_exact_9[slice3],\n",
        "       simple_regret_exact_10[slice3],\n",
        "       simple_regret_exact_11[slice3],\n",
        "       simple_regret_exact_12[slice3],\n",
        "       simple_regret_exact_13[slice3],\n",
        "       simple_regret_exact_14[slice3],\n",
        "       simple_regret_exact_15[slice3],\n",
        "       simple_regret_exact_16[slice3],\n",
        "       simple_regret_exact_17[slice3],\n",
        "       simple_regret_exact_18[slice3],\n",
        "       simple_regret_exact_19[slice3],\n",
        "       simple_regret_exact_20[slice3]]\n",
        "\n",
        "zero3 = [simple_regret_zero_1[slice3],\n",
        "       simple_regret_zero_2[slice3],\n",
        "       simple_regret_zero_3[slice3],\n",
        "       simple_regret_zero_4[slice3],\n",
        "       simple_regret_zero_5[slice3],\n",
        "       simple_regret_zero_6[slice3],\n",
        "       simple_regret_zero_7[slice3],\n",
        "       simple_regret_zero_8[slice3],\n",
        "       simple_regret_zero_9[slice3],\n",
        "       simple_regret_zero_10[slice3],\n",
        "       simple_regret_zero_11[slice3],\n",
        "       simple_regret_zero_12[slice3],\n",
        "       simple_regret_zero_13[slice3],\n",
        "       simple_regret_zero_14[slice3],\n",
        "       simple_regret_zero_15[slice3],\n",
        "       simple_regret_zero_16[slice3],\n",
        "       simple_regret_zero_17[slice3],\n",
        "       simple_regret_zero_18[slice3],\n",
        "       simple_regret_zero_19[slice3],\n",
        "       simple_regret_zero_20[slice3]]\n",
        "\n",
        "exact3_results = pd.DataFrame(exact3).sort_values(by=[0], ascending=False)\n",
        "zero3_results = pd.DataFrame(zero3).sort_values(by=[0], ascending=False)\n",
        "\n",
        "### Best simple regret minimization IQR - exact:\n",
        "lower_exact3 = np.asarray(exact3_results[4:5][0])[0]\n",
        "median_exact3 = np.asarray(exact3_results[9:10][0])[0]\n",
        "upper_exact3 = np.asarray(exact3_results[14:15][0])[0]\n",
        "\n",
        "lower_zero3 = np.asarray(zero3_results[4:5][0])[0]\n",
        "median_zero3 = np.asarray(zero3_results[9:10][0])[0]\n",
        "upper_zero3 = np.asarray(zero3_results[14:15][0])[0]"
      ],
      "execution_count": 80,
      "outputs": []
    },
    {
      "cell_type": "code",
      "metadata": {
        "id": "plf83wxrQxf4"
      },
      "source": [
        "# Iteration13 :\n",
        "\n",
        "slice13 = 12\n",
        "\n",
        "exact13 = [simple_regret_exact_1[slice13],\n",
        "       simple_regret_exact_2[slice13],\n",
        "       simple_regret_exact_3[slice13],\n",
        "       simple_regret_exact_4[slice13],\n",
        "       simple_regret_exact_5[slice13],\n",
        "       simple_regret_exact_6[slice13],\n",
        "       simple_regret_exact_7[slice13],\n",
        "       simple_regret_exact_8[slice13],\n",
        "       simple_regret_exact_9[slice13],\n",
        "       simple_regret_exact_10[slice13],\n",
        "       simple_regret_exact_11[slice13],\n",
        "       simple_regret_exact_12[slice13],\n",
        "       simple_regret_exact_13[slice13],\n",
        "       simple_regret_exact_14[slice13],\n",
        "       simple_regret_exact_15[slice13],\n",
        "       simple_regret_exact_16[slice13],\n",
        "       simple_regret_exact_17[slice13],\n",
        "       simple_regret_exact_18[slice13],\n",
        "       simple_regret_exact_19[slice13],\n",
        "       simple_regret_exact_20[slice13]]\n",
        "\n",
        "zero13 = [simple_regret_zero_1[slice13],\n",
        "       simple_regret_zero_2[slice13],\n",
        "       simple_regret_zero_3[slice13],\n",
        "       simple_regret_zero_4[slice13],\n",
        "       simple_regret_zero_5[slice13],\n",
        "       simple_regret_zero_6[slice13],\n",
        "       simple_regret_zero_7[slice13],\n",
        "       simple_regret_zero_8[slice13],\n",
        "       simple_regret_zero_9[slice13],\n",
        "       simple_regret_zero_10[slice13],\n",
        "       simple_regret_zero_11[slice13],\n",
        "       simple_regret_zero_12[slice13],\n",
        "       simple_regret_zero_13[slice13],\n",
        "       simple_regret_zero_14[slice13],\n",
        "       simple_regret_zero_15[slice13],\n",
        "       simple_regret_zero_16[slice13],\n",
        "       simple_regret_zero_17[slice13],\n",
        "       simple_regret_zero_18[slice13],\n",
        "       simple_regret_zero_19[slice13],\n",
        "       simple_regret_zero_20[slice13]]\n",
        "\n",
        "exact13_results = pd.DataFrame(exact13).sort_values(by=[0], ascending=False)\n",
        "zero13_results = pd.DataFrame(zero13).sort_values(by=[0], ascending=False)\n",
        "\n",
        "### Best simple regret minimization IQR - exact:\n",
        "lower_exact13 = np.asarray(exact13_results[4:5][0])[0]\n",
        "median_exact13 = np.asarray(exact13_results[9:10][0])[0]\n",
        "upper_exact13 = np.asarray(exact13_results[14:15][0])[0]\n",
        "\n",
        "lower_zero13 = np.asarray(zero13_results[4:5][0])[0]\n",
        "median_zero13 = np.asarray(zero13_results[9:10][0])[0]\n",
        "upper_zero13 = np.asarray(zero13_results[14:15][0])[0]"
      ],
      "execution_count": 81,
      "outputs": []
    },
    {
      "cell_type": "code",
      "metadata": {
        "id": "9A7mlVvJQxf5"
      },
      "source": [
        "# Iteration4 :\n",
        "\n",
        "slice4 = 3\n",
        "\n",
        "exact4 = [simple_regret_exact_1[slice4],\n",
        "       simple_regret_exact_2[slice4],\n",
        "       simple_regret_exact_3[slice4],\n",
        "       simple_regret_exact_4[slice4],\n",
        "       simple_regret_exact_5[slice4],\n",
        "       simple_regret_exact_6[slice4],\n",
        "       simple_regret_exact_7[slice4],\n",
        "       simple_regret_exact_8[slice4],\n",
        "       simple_regret_exact_9[slice4],\n",
        "       simple_regret_exact_10[slice4],\n",
        "       simple_regret_exact_11[slice4],\n",
        "       simple_regret_exact_12[slice4],\n",
        "       simple_regret_exact_13[slice4],\n",
        "       simple_regret_exact_14[slice4],\n",
        "       simple_regret_exact_15[slice4],\n",
        "       simple_regret_exact_16[slice4],\n",
        "       simple_regret_exact_17[slice4],\n",
        "       simple_regret_exact_18[slice4],\n",
        "       simple_regret_exact_19[slice4],\n",
        "       simple_regret_exact_20[slice4]]\n",
        "\n",
        "zero4 = [simple_regret_zero_1[slice4],\n",
        "       simple_regret_zero_2[slice4],\n",
        "       simple_regret_zero_3[slice4],\n",
        "       simple_regret_zero_4[slice4],\n",
        "       simple_regret_zero_5[slice4],\n",
        "       simple_regret_zero_6[slice4],\n",
        "       simple_regret_zero_7[slice4],\n",
        "       simple_regret_zero_8[slice4],\n",
        "       simple_regret_zero_9[slice4],\n",
        "       simple_regret_zero_10[slice4],\n",
        "       simple_regret_zero_11[slice4],\n",
        "       simple_regret_zero_12[slice4],\n",
        "       simple_regret_zero_13[slice4],\n",
        "       simple_regret_zero_14[slice4],\n",
        "       simple_regret_zero_15[slice4],\n",
        "       simple_regret_zero_16[slice4],\n",
        "       simple_regret_zero_17[slice4],\n",
        "       simple_regret_zero_18[slice4],\n",
        "       simple_regret_zero_19[slice4],\n",
        "       simple_regret_zero_20[slice4]]\n",
        "\n",
        "exact4_results = pd.DataFrame(exact4).sort_values(by=[0], ascending=False)\n",
        "zero4_results = pd.DataFrame(zero4).sort_values(by=[0], ascending=False)\n",
        "\n",
        "### Best simple regret minimization IQR - exact:\n",
        "lower_exact4 = np.asarray(exact4_results[4:5][0])[0]\n",
        "median_exact4 = np.asarray(exact4_results[9:10][0])[0]\n",
        "upper_exact4 = np.asarray(exact4_results[14:15][0])[0]\n",
        "\n",
        "lower_zero4 = np.asarray(zero4_results[4:5][0])[0]\n",
        "median_zero4 = np.asarray(zero4_results[9:10][0])[0]\n",
        "upper_zero4 = np.asarray(zero4_results[14:15][0])[0]"
      ],
      "execution_count": 82,
      "outputs": []
    },
    {
      "cell_type": "code",
      "metadata": {
        "id": "ijq-rioYQxf5"
      },
      "source": [
        "# Iteration14 :\n",
        "\n",
        "slice14 = 13\n",
        "\n",
        "exact14 = [simple_regret_exact_1[slice14],\n",
        "       simple_regret_exact_2[slice14],\n",
        "       simple_regret_exact_3[slice14],\n",
        "       simple_regret_exact_4[slice14],\n",
        "       simple_regret_exact_5[slice14],\n",
        "       simple_regret_exact_6[slice14],\n",
        "       simple_regret_exact_7[slice14],\n",
        "       simple_regret_exact_8[slice14],\n",
        "       simple_regret_exact_9[slice14],\n",
        "       simple_regret_exact_10[slice14],\n",
        "       simple_regret_exact_11[slice14],\n",
        "       simple_regret_exact_12[slice14],\n",
        "       simple_regret_exact_13[slice14],\n",
        "       simple_regret_exact_14[slice14],\n",
        "       simple_regret_exact_15[slice14],\n",
        "       simple_regret_exact_16[slice14],\n",
        "       simple_regret_exact_17[slice14],\n",
        "       simple_regret_exact_18[slice14],\n",
        "       simple_regret_exact_19[slice14],\n",
        "       simple_regret_exact_20[slice14]]\n",
        "\n",
        "zero14 = [simple_regret_zero_1[slice14],\n",
        "       simple_regret_zero_2[slice14],\n",
        "       simple_regret_zero_3[slice14],\n",
        "       simple_regret_zero_4[slice14],\n",
        "       simple_regret_zero_5[slice14],\n",
        "       simple_regret_zero_6[slice14],\n",
        "       simple_regret_zero_7[slice14],\n",
        "       simple_regret_zero_8[slice14],\n",
        "       simple_regret_zero_9[slice14],\n",
        "       simple_regret_zero_10[slice14],\n",
        "       simple_regret_zero_11[slice14],\n",
        "       simple_regret_zero_12[slice14],\n",
        "       simple_regret_zero_13[slice14],\n",
        "       simple_regret_zero_14[slice14],\n",
        "       simple_regret_zero_15[slice14],\n",
        "       simple_regret_zero_16[slice14],\n",
        "       simple_regret_zero_17[slice14],\n",
        "       simple_regret_zero_18[slice14],\n",
        "       simple_regret_zero_19[slice14],\n",
        "       simple_regret_zero_20[slice14]]\n",
        "\n",
        "exact14_results = pd.DataFrame(exact14).sort_values(by=[0], ascending=False)\n",
        "zero14_results = pd.DataFrame(zero14).sort_values(by=[0], ascending=False)\n",
        "\n",
        "### Best simple regret minimization IQR - exact:\n",
        "lower_exact14 = np.asarray(exact14_results[4:5][0])[0]\n",
        "median_exact14 = np.asarray(exact14_results[9:10][0])[0]\n",
        "upper_exact14 = np.asarray(exact14_results[14:15][0])[0]\n",
        "\n",
        "lower_zero14 = np.asarray(zero14_results[4:5][0])[0]\n",
        "median_zero14 = np.asarray(zero14_results[9:10][0])[0]\n",
        "upper_zero14 = np.asarray(zero14_results[14:15][0])[0]"
      ],
      "execution_count": 83,
      "outputs": []
    },
    {
      "cell_type": "code",
      "metadata": {
        "id": "XINlZjoTd-ZK"
      },
      "source": [
        "# Iteration5 :\n",
        "\n",
        "slice5 = 4\n",
        "\n",
        "exact5 = [simple_regret_exact_1[slice5],\n",
        "       simple_regret_exact_2[slice5],\n",
        "       simple_regret_exact_3[slice5],\n",
        "       simple_regret_exact_4[slice5],\n",
        "       simple_regret_exact_5[slice5],\n",
        "       simple_regret_exact_6[slice5],\n",
        "       simple_regret_exact_7[slice5],\n",
        "       simple_regret_exact_8[slice5],\n",
        "       simple_regret_exact_9[slice5],\n",
        "       simple_regret_exact_10[slice5],\n",
        "       simple_regret_exact_11[slice5],\n",
        "       simple_regret_exact_12[slice5],\n",
        "       simple_regret_exact_13[slice5],\n",
        "       simple_regret_exact_14[slice5],\n",
        "       simple_regret_exact_15[slice5],\n",
        "       simple_regret_exact_16[slice5],\n",
        "       simple_regret_exact_17[slice5],\n",
        "       simple_regret_exact_18[slice5],\n",
        "       simple_regret_exact_19[slice5],\n",
        "       simple_regret_exact_20[slice5]]\n",
        "\n",
        "zero5 = [simple_regret_zero_1[slice5],\n",
        "       simple_regret_zero_2[slice5],\n",
        "       simple_regret_zero_3[slice5],\n",
        "       simple_regret_zero_4[slice5],\n",
        "       simple_regret_zero_5[slice5],\n",
        "       simple_regret_zero_6[slice5],\n",
        "       simple_regret_zero_7[slice5],\n",
        "       simple_regret_zero_8[slice5],\n",
        "       simple_regret_zero_9[slice5],\n",
        "       simple_regret_zero_10[slice5],\n",
        "       simple_regret_zero_11[slice5],\n",
        "       simple_regret_zero_12[slice5],\n",
        "       simple_regret_zero_13[slice5],\n",
        "       simple_regret_zero_14[slice5],\n",
        "       simple_regret_zero_15[slice5],\n",
        "       simple_regret_zero_16[slice5],\n",
        "       simple_regret_zero_17[slice5],\n",
        "       simple_regret_zero_18[slice5],\n",
        "       simple_regret_zero_19[slice5],\n",
        "       simple_regret_zero_20[slice5]]\n",
        "\n",
        "exact5_results = pd.DataFrame(exact5).sort_values(by=[0], ascending=False)\n",
        "zero5_results = pd.DataFrame(zero5).sort_values(by=[0], ascending=False)\n",
        "\n",
        "### Best simple regret minimization IQR - exact:\n",
        "lower_exact5 = np.asarray(exact5_results[4:5][0])[0]\n",
        "median_exact5 = np.asarray(exact5_results[9:10][0])[0]\n",
        "upper_exact5 = np.asarray(exact5_results[14:15][0])[0]\n",
        "\n",
        "lower_zero5 = np.asarray(zero5_results[4:5][0])[0]\n",
        "median_zero5 = np.asarray(zero5_results[9:10][0])[0]\n",
        "upper_zero5 = np.asarray(zero5_results[14:15][0])[0]"
      ],
      "execution_count": 84,
      "outputs": []
    },
    {
      "cell_type": "code",
      "metadata": {
        "id": "4aZ7C8sOQxf6"
      },
      "source": [
        "# Iteration15 :\n",
        "\n",
        "slice15 = 14\n",
        "\n",
        "exact15 = [simple_regret_exact_1[slice15],\n",
        "       simple_regret_exact_2[slice15],\n",
        "       simple_regret_exact_3[slice15],\n",
        "       simple_regret_exact_4[slice15],\n",
        "       simple_regret_exact_5[slice15],\n",
        "       simple_regret_exact_6[slice15],\n",
        "       simple_regret_exact_7[slice15],\n",
        "       simple_regret_exact_8[slice15],\n",
        "       simple_regret_exact_9[slice15],\n",
        "       simple_regret_exact_10[slice15],\n",
        "       simple_regret_exact_11[slice15],\n",
        "       simple_regret_exact_12[slice15],\n",
        "       simple_regret_exact_13[slice15],\n",
        "       simple_regret_exact_14[slice15],\n",
        "       simple_regret_exact_15[slice15],\n",
        "       simple_regret_exact_16[slice15],\n",
        "       simple_regret_exact_17[slice15],\n",
        "       simple_regret_exact_18[slice15],\n",
        "       simple_regret_exact_19[slice15],\n",
        "       simple_regret_exact_20[slice15]]\n",
        "\n",
        "zero15 = [simple_regret_zero_1[slice15],\n",
        "       simple_regret_zero_2[slice15],\n",
        "       simple_regret_zero_3[slice15],\n",
        "       simple_regret_zero_4[slice15],\n",
        "       simple_regret_zero_5[slice15],\n",
        "       simple_regret_zero_6[slice15],\n",
        "       simple_regret_zero_7[slice15],\n",
        "       simple_regret_zero_8[slice15],\n",
        "       simple_regret_zero_9[slice15],\n",
        "       simple_regret_zero_10[slice15],\n",
        "       simple_regret_zero_11[slice15],\n",
        "       simple_regret_zero_12[slice15],\n",
        "       simple_regret_zero_13[slice15],\n",
        "       simple_regret_zero_14[slice15],\n",
        "       simple_regret_zero_15[slice15],\n",
        "       simple_regret_zero_16[slice15],\n",
        "       simple_regret_zero_17[slice15],\n",
        "       simple_regret_zero_18[slice15],\n",
        "       simple_regret_zero_19[slice15],\n",
        "       simple_regret_zero_20[slice15]]\n",
        "\n",
        "exact15_results = pd.DataFrame(exact15).sort_values(by=[0], ascending=False)\n",
        "zero15_results = pd.DataFrame(zero15).sort_values(by=[0], ascending=False)\n",
        "\n",
        "### Best simple regret minimization IQR - exact:\n",
        "lower_exact15 = np.asarray(exact15_results[4:5][0])[0]\n",
        "median_exact15 = np.asarray(exact15_results[9:10][0])[0]\n",
        "upper_exact15 = np.asarray(exact15_results[14:15][0])[0]\n",
        "\n",
        "lower_zero15 = np.asarray(zero15_results[4:5][0])[0]\n",
        "median_zero15 = np.asarray(zero15_results[9:10][0])[0]\n",
        "upper_zero15 = np.asarray(zero15_results[14:15][0])[0]"
      ],
      "execution_count": 85,
      "outputs": []
    },
    {
      "cell_type": "code",
      "metadata": {
        "id": "KJINKhv1Qxf6"
      },
      "source": [
        "# Iteration6 :\n",
        "\n",
        "slice6 = 5\n",
        "\n",
        "exact6 = [simple_regret_exact_1[slice6],\n",
        "       simple_regret_exact_2[slice6],\n",
        "       simple_regret_exact_3[slice6],\n",
        "       simple_regret_exact_4[slice6],\n",
        "       simple_regret_exact_5[slice6],\n",
        "       simple_regret_exact_6[slice6],\n",
        "       simple_regret_exact_7[slice6],\n",
        "       simple_regret_exact_8[slice6],\n",
        "       simple_regret_exact_9[slice6],\n",
        "       simple_regret_exact_10[slice6],\n",
        "       simple_regret_exact_11[slice6],\n",
        "       simple_regret_exact_12[slice6],\n",
        "       simple_regret_exact_13[slice6],\n",
        "       simple_regret_exact_14[slice6],\n",
        "       simple_regret_exact_15[slice6],\n",
        "       simple_regret_exact_16[slice6],\n",
        "       simple_regret_exact_17[slice6],\n",
        "       simple_regret_exact_18[slice6],\n",
        "       simple_regret_exact_19[slice6],\n",
        "       simple_regret_exact_20[slice6]]\n",
        "\n",
        "zero6 = [simple_regret_zero_1[slice6],\n",
        "       simple_regret_zero_2[slice6],\n",
        "       simple_regret_zero_3[slice6],\n",
        "       simple_regret_zero_4[slice6],\n",
        "       simple_regret_zero_5[slice6],\n",
        "       simple_regret_zero_6[slice6],\n",
        "       simple_regret_zero_7[slice6],\n",
        "       simple_regret_zero_8[slice6],\n",
        "       simple_regret_zero_9[slice6],\n",
        "       simple_regret_zero_10[slice6],\n",
        "       simple_regret_zero_11[slice6],\n",
        "       simple_regret_zero_12[slice6],\n",
        "       simple_regret_zero_13[slice6],\n",
        "       simple_regret_zero_14[slice6],\n",
        "       simple_regret_zero_15[slice6],\n",
        "       simple_regret_zero_16[slice6],\n",
        "       simple_regret_zero_17[slice6],\n",
        "       simple_regret_zero_18[slice6],\n",
        "       simple_regret_zero_19[slice6],\n",
        "       simple_regret_zero_20[slice6]]\n",
        "\n",
        "exact6_results = pd.DataFrame(exact6).sort_values(by=[0], ascending=False)\n",
        "zero6_results = pd.DataFrame(zero6).sort_values(by=[0], ascending=False)\n",
        "\n",
        "### Best simple regret minimization IQR - exact:\n",
        "lower_exact6 = np.asarray(exact6_results[4:5][0])[0]\n",
        "median_exact6 = np.asarray(exact6_results[9:10][0])[0]\n",
        "upper_exact6 = np.asarray(exact6_results[14:15][0])[0]\n",
        "\n",
        "lower_zero6 = np.asarray(zero6_results[4:5][0])[0]\n",
        "median_zero6 = np.asarray(zero6_results[9:10][0])[0]\n",
        "upper_zero6 = np.asarray(zero6_results[14:15][0])[0]"
      ],
      "execution_count": 86,
      "outputs": []
    },
    {
      "cell_type": "code",
      "metadata": {
        "id": "nwC5N1FsQxf7"
      },
      "source": [
        "# Iteration16 :\n",
        "\n",
        "slice16 = 15\n",
        "\n",
        "exact16 = [simple_regret_exact_1[slice16],\n",
        "       simple_regret_exact_2[slice16],\n",
        "       simple_regret_exact_3[slice16],\n",
        "       simple_regret_exact_4[slice16],\n",
        "       simple_regret_exact_5[slice16],\n",
        "       simple_regret_exact_6[slice16],\n",
        "       simple_regret_exact_7[slice16],\n",
        "       simple_regret_exact_8[slice16],\n",
        "       simple_regret_exact_9[slice16],\n",
        "       simple_regret_exact_10[slice16],\n",
        "       simple_regret_exact_11[slice16],\n",
        "       simple_regret_exact_12[slice16],\n",
        "       simple_regret_exact_13[slice16],\n",
        "       simple_regret_exact_14[slice16],\n",
        "       simple_regret_exact_15[slice16],\n",
        "       simple_regret_exact_16[slice16],\n",
        "       simple_regret_exact_17[slice16],\n",
        "       simple_regret_exact_18[slice16],\n",
        "       simple_regret_exact_19[slice16],\n",
        "       simple_regret_exact_20[slice16]]\n",
        "\n",
        "zero16 = [simple_regret_zero_1[slice16],\n",
        "       simple_regret_zero_2[slice16],\n",
        "       simple_regret_zero_3[slice16],\n",
        "       simple_regret_zero_4[slice16],\n",
        "       simple_regret_zero_5[slice16],\n",
        "       simple_regret_zero_6[slice16],\n",
        "       simple_regret_zero_7[slice16],\n",
        "       simple_regret_zero_8[slice16],\n",
        "       simple_regret_zero_9[slice16],\n",
        "       simple_regret_zero_10[slice16],\n",
        "       simple_regret_zero_11[slice16],\n",
        "       simple_regret_zero_12[slice16],\n",
        "       simple_regret_zero_13[slice16],\n",
        "       simple_regret_zero_14[slice16],\n",
        "       simple_regret_zero_15[slice16],\n",
        "       simple_regret_zero_16[slice16],\n",
        "       simple_regret_zero_17[slice16],\n",
        "       simple_regret_zero_18[slice16],\n",
        "       simple_regret_zero_19[slice16],\n",
        "       simple_regret_zero_20[slice16]]\n",
        "\n",
        "exact16_results = pd.DataFrame(exact16).sort_values(by=[0], ascending=False)\n",
        "zero16_results = pd.DataFrame(zero16).sort_values(by=[0], ascending=False)\n",
        "\n",
        "### Best simple regret minimization IQR - exact:\n",
        "lower_exact16 = np.asarray(exact16_results[4:5][0])[0]\n",
        "median_exact16 = np.asarray(exact16_results[9:10][0])[0]\n",
        "upper_exact16 = np.asarray(exact16_results[14:15][0])[0]\n",
        "\n",
        "lower_zero16 = np.asarray(zero16_results[4:5][0])[0]\n",
        "median_zero16 = np.asarray(zero16_results[9:10][0])[0]\n",
        "upper_zero16 = np.asarray(zero16_results[14:15][0])[0]"
      ],
      "execution_count": 87,
      "outputs": []
    },
    {
      "cell_type": "code",
      "metadata": {
        "id": "TrPV0AfnQxf7"
      },
      "source": [
        "# Iteration7 :\n",
        "\n",
        "slice7 = 6\n",
        "\n",
        "exact7 = [simple_regret_exact_1[slice7],\n",
        "       simple_regret_exact_2[slice7],\n",
        "       simple_regret_exact_3[slice7],\n",
        "       simple_regret_exact_4[slice7],\n",
        "       simple_regret_exact_5[slice7],\n",
        "       simple_regret_exact_6[slice7],\n",
        "       simple_regret_exact_7[slice7],\n",
        "       simple_regret_exact_8[slice7],\n",
        "       simple_regret_exact_9[slice7],\n",
        "       simple_regret_exact_10[slice7],\n",
        "       simple_regret_exact_11[slice7],\n",
        "       simple_regret_exact_12[slice7],\n",
        "       simple_regret_exact_13[slice7],\n",
        "       simple_regret_exact_14[slice7],\n",
        "       simple_regret_exact_15[slice7],\n",
        "       simple_regret_exact_16[slice7],\n",
        "       simple_regret_exact_17[slice7],\n",
        "       simple_regret_exact_18[slice7],\n",
        "       simple_regret_exact_19[slice7],\n",
        "       simple_regret_exact_20[slice7]]\n",
        "\n",
        "zero7 = [simple_regret_zero_1[slice7],\n",
        "       simple_regret_zero_2[slice7],\n",
        "       simple_regret_zero_3[slice7],\n",
        "       simple_regret_zero_4[slice7],\n",
        "       simple_regret_zero_5[slice7],\n",
        "       simple_regret_zero_6[slice7],\n",
        "       simple_regret_zero_7[slice7],\n",
        "       simple_regret_zero_8[slice7],\n",
        "       simple_regret_zero_9[slice7],\n",
        "       simple_regret_zero_10[slice7],\n",
        "       simple_regret_zero_11[slice7],\n",
        "       simple_regret_zero_12[slice7],\n",
        "       simple_regret_zero_13[slice7],\n",
        "       simple_regret_zero_14[slice7],\n",
        "       simple_regret_zero_15[slice7],\n",
        "       simple_regret_zero_16[slice7],\n",
        "       simple_regret_zero_17[slice7],\n",
        "       simple_regret_zero_18[slice7],\n",
        "       simple_regret_zero_19[slice7],\n",
        "       simple_regret_zero_20[slice7]]\n",
        "\n",
        "exact7_results = pd.DataFrame(exact7).sort_values(by=[0], ascending=False)\n",
        "zero7_results = pd.DataFrame(zero7).sort_values(by=[0], ascending=False)\n",
        "\n",
        "### Best simple regret minimization IQR - exact:\n",
        "lower_exact7 = np.asarray(exact7_results[4:5][0])[0]\n",
        "median_exact7 = np.asarray(exact7_results[9:10][0])[0]\n",
        "upper_exact7 = np.asarray(exact7_results[14:15][0])[0]\n",
        "\n",
        "lower_zero7 = np.asarray(zero7_results[4:5][0])[0]\n",
        "median_zero7 = np.asarray(zero7_results[9:10][0])[0]\n",
        "upper_zero7 = np.asarray(zero7_results[14:15][0])[0]"
      ],
      "execution_count": 88,
      "outputs": []
    },
    {
      "cell_type": "code",
      "metadata": {
        "id": "Ub_-wpK4Qxf8"
      },
      "source": [
        "# Iteration17 :\n",
        "\n",
        "slice17 = 16\n",
        "\n",
        "exact17 = [simple_regret_exact_1[slice17],\n",
        "       simple_regret_exact_2[slice17],\n",
        "       simple_regret_exact_3[slice17],\n",
        "       simple_regret_exact_4[slice17],\n",
        "       simple_regret_exact_5[slice17],\n",
        "       simple_regret_exact_6[slice17],\n",
        "       simple_regret_exact_7[slice17],\n",
        "       simple_regret_exact_8[slice17],\n",
        "       simple_regret_exact_9[slice17],\n",
        "       simple_regret_exact_10[slice17],\n",
        "       simple_regret_exact_11[slice17],\n",
        "       simple_regret_exact_12[slice17],\n",
        "       simple_regret_exact_13[slice17],\n",
        "       simple_regret_exact_14[slice17],\n",
        "       simple_regret_exact_15[slice17],\n",
        "       simple_regret_exact_16[slice17],\n",
        "       simple_regret_exact_17[slice17],\n",
        "       simple_regret_exact_18[slice17],\n",
        "       simple_regret_exact_19[slice17],\n",
        "       simple_regret_exact_20[slice17]]\n",
        "\n",
        "zero17 = [simple_regret_zero_1[slice17],\n",
        "       simple_regret_zero_2[slice17],\n",
        "       simple_regret_zero_3[slice17],\n",
        "       simple_regret_zero_4[slice17],\n",
        "       simple_regret_zero_5[slice17],\n",
        "       simple_regret_zero_6[slice17],\n",
        "       simple_regret_zero_7[slice17],\n",
        "       simple_regret_zero_8[slice17],\n",
        "       simple_regret_zero_9[slice17],\n",
        "       simple_regret_zero_10[slice17],\n",
        "       simple_regret_zero_11[slice17],\n",
        "       simple_regret_zero_12[slice17],\n",
        "       simple_regret_zero_13[slice17],\n",
        "       simple_regret_zero_14[slice17],\n",
        "       simple_regret_zero_15[slice17],\n",
        "       simple_regret_zero_16[slice17],\n",
        "       simple_regret_zero_17[slice17],\n",
        "       simple_regret_zero_18[slice17],\n",
        "       simple_regret_zero_19[slice17],\n",
        "       simple_regret_zero_20[slice17]]\n",
        "\n",
        "exact17_results = pd.DataFrame(exact17).sort_values(by=[0], ascending=False)\n",
        "zero17_results = pd.DataFrame(zero17).sort_values(by=[0], ascending=False)\n",
        "\n",
        "### Best simple regret minimization IQR - exact:\n",
        "lower_exact17 = np.asarray(exact17_results[4:5][0])[0]\n",
        "median_exact17 = np.asarray(exact17_results[9:10][0])[0]\n",
        "upper_exact17 = np.asarray(exact17_results[14:15][0])[0]\n",
        "\n",
        "lower_zero17 = np.asarray(zero17_results[4:5][0])[0]\n",
        "median_zero17 = np.asarray(zero17_results[9:10][0])[0]\n",
        "upper_zero17 = np.asarray(zero17_results[14:15][0])[0]"
      ],
      "execution_count": 89,
      "outputs": []
    },
    {
      "cell_type": "code",
      "metadata": {
        "id": "-6VLo37PQxf8"
      },
      "source": [
        "# Iteration8 :\n",
        "\n",
        "slice8 = 7\n",
        "\n",
        "exact8 = [simple_regret_exact_1[slice8],\n",
        "       simple_regret_exact_2[slice8],\n",
        "       simple_regret_exact_3[slice8],\n",
        "       simple_regret_exact_4[slice8],\n",
        "       simple_regret_exact_5[slice8],\n",
        "       simple_regret_exact_6[slice8],\n",
        "       simple_regret_exact_7[slice8],\n",
        "       simple_regret_exact_8[slice8],\n",
        "       simple_regret_exact_9[slice8],\n",
        "       simple_regret_exact_10[slice8],\n",
        "       simple_regret_exact_11[slice8],\n",
        "       simple_regret_exact_12[slice8],\n",
        "       simple_regret_exact_13[slice8],\n",
        "       simple_regret_exact_14[slice8],\n",
        "       simple_regret_exact_15[slice8],\n",
        "       simple_regret_exact_16[slice8],\n",
        "       simple_regret_exact_17[slice8],\n",
        "       simple_regret_exact_18[slice8],\n",
        "       simple_regret_exact_19[slice8],\n",
        "       simple_regret_exact_20[slice8]]\n",
        "\n",
        "zero8 = [simple_regret_zero_1[slice8],\n",
        "       simple_regret_zero_2[slice8],\n",
        "       simple_regret_zero_3[slice8],\n",
        "       simple_regret_zero_4[slice8],\n",
        "       simple_regret_zero_5[slice8],\n",
        "       simple_regret_zero_6[slice8],\n",
        "       simple_regret_zero_7[slice8],\n",
        "       simple_regret_zero_8[slice8],\n",
        "       simple_regret_zero_9[slice8],\n",
        "       simple_regret_zero_10[slice8],\n",
        "       simple_regret_zero_11[slice8],\n",
        "       simple_regret_zero_12[slice8],\n",
        "       simple_regret_zero_13[slice8],\n",
        "       simple_regret_zero_14[slice8],\n",
        "       simple_regret_zero_15[slice8],\n",
        "       simple_regret_zero_16[slice8],\n",
        "       simple_regret_zero_17[slice8],\n",
        "       simple_regret_zero_18[slice8],\n",
        "       simple_regret_zero_19[slice8],\n",
        "       simple_regret_zero_20[slice8]]\n",
        "\n",
        "exact8_results = pd.DataFrame(exact8).sort_values(by=[0], ascending=False)\n",
        "zero8_results = pd.DataFrame(zero8).sort_values(by=[0], ascending=False)\n",
        "\n",
        "### Best simple regret minimization IQR - exact:\n",
        "lower_exact8 = np.asarray(exact8_results[4:5][0])[0]\n",
        "median_exact8 = np.asarray(exact8_results[9:10][0])[0]\n",
        "upper_exact8 = np.asarray(exact8_results[14:15][0])[0]\n",
        "\n",
        "lower_zero8 = np.asarray(zero8_results[4:5][0])[0]\n",
        "median_zero8 = np.asarray(zero8_results[9:10][0])[0]\n",
        "upper_zero8 = np.asarray(zero8_results[14:15][0])[0]"
      ],
      "execution_count": 90,
      "outputs": []
    },
    {
      "cell_type": "code",
      "metadata": {
        "id": "2Dp-9CC2Qxf9"
      },
      "source": [
        "# Iteration18 :\n",
        "\n",
        "slice18 = 17\n",
        "\n",
        "exact18 = [simple_regret_exact_1[slice18],\n",
        "       simple_regret_exact_2[slice18],\n",
        "       simple_regret_exact_3[slice18],\n",
        "       simple_regret_exact_4[slice18],\n",
        "       simple_regret_exact_5[slice18],\n",
        "       simple_regret_exact_6[slice18],\n",
        "       simple_regret_exact_7[slice18],\n",
        "       simple_regret_exact_8[slice18],\n",
        "       simple_regret_exact_9[slice18],\n",
        "       simple_regret_exact_10[slice18],\n",
        "       simple_regret_exact_11[slice18],\n",
        "       simple_regret_exact_12[slice18],\n",
        "       simple_regret_exact_13[slice18],\n",
        "       simple_regret_exact_14[slice18],\n",
        "       simple_regret_exact_15[slice18],\n",
        "       simple_regret_exact_16[slice18],\n",
        "       simple_regret_exact_17[slice18],\n",
        "       simple_regret_exact_18[slice18],\n",
        "       simple_regret_exact_19[slice18],\n",
        "       simple_regret_exact_20[slice18]]\n",
        "\n",
        "zero18 = [simple_regret_zero_1[slice18],\n",
        "       simple_regret_zero_2[slice18],\n",
        "       simple_regret_zero_3[slice18],\n",
        "       simple_regret_zero_4[slice18],\n",
        "       simple_regret_zero_5[slice18],\n",
        "       simple_regret_zero_6[slice18],\n",
        "       simple_regret_zero_7[slice18],\n",
        "       simple_regret_zero_8[slice18],\n",
        "       simple_regret_zero_9[slice18],\n",
        "       simple_regret_zero_10[slice18],\n",
        "       simple_regret_zero_11[slice18],\n",
        "       simple_regret_zero_12[slice18],\n",
        "       simple_regret_zero_13[slice18],\n",
        "       simple_regret_zero_14[slice18],\n",
        "       simple_regret_zero_15[slice18],\n",
        "       simple_regret_zero_16[slice18],\n",
        "       simple_regret_zero_17[slice18],\n",
        "       simple_regret_zero_18[slice18],\n",
        "       simple_regret_zero_19[slice18],\n",
        "       simple_regret_zero_20[slice18]]\n",
        "\n",
        "exact18_results = pd.DataFrame(exact18).sort_values(by=[0], ascending=False)\n",
        "zero18_results = pd.DataFrame(zero18).sort_values(by=[0], ascending=False)\n",
        "\n",
        "### Best simple regret minimization IQR - exact:\n",
        "lower_exact18 = np.asarray(exact18_results[4:5][0])[0]\n",
        "median_exact18 = np.asarray(exact18_results[9:10][0])[0]\n",
        "upper_exact18 = np.asarray(exact18_results[14:15][0])[0]\n",
        "\n",
        "lower_zero18 = np.asarray(zero18_results[4:5][0])[0]\n",
        "median_zero18 = np.asarray(zero18_results[9:10][0])[0]\n",
        "upper_zero18 = np.asarray(zero18_results[14:15][0])[0]"
      ],
      "execution_count": 91,
      "outputs": []
    },
    {
      "cell_type": "code",
      "metadata": {
        "id": "SqiaOpB7Qxf9"
      },
      "source": [
        "# Iteration9 :\n",
        "\n",
        "slice9 = 8\n",
        "\n",
        "exact9 = [simple_regret_exact_1[slice9],\n",
        "       simple_regret_exact_2[slice9],\n",
        "       simple_regret_exact_3[slice9],\n",
        "       simple_regret_exact_4[slice9],\n",
        "       simple_regret_exact_5[slice9],\n",
        "       simple_regret_exact_6[slice9],\n",
        "       simple_regret_exact_7[slice9],\n",
        "       simple_regret_exact_8[slice9],\n",
        "       simple_regret_exact_9[slice9],\n",
        "       simple_regret_exact_10[slice9],\n",
        "       simple_regret_exact_11[slice9],\n",
        "       simple_regret_exact_12[slice9],\n",
        "       simple_regret_exact_13[slice9],\n",
        "       simple_regret_exact_14[slice9],\n",
        "       simple_regret_exact_15[slice9],\n",
        "       simple_regret_exact_16[slice9],\n",
        "       simple_regret_exact_17[slice9],\n",
        "       simple_regret_exact_18[slice9],\n",
        "       simple_regret_exact_19[slice9],\n",
        "       simple_regret_exact_20[slice9]]\n",
        "\n",
        "zero9 = [simple_regret_zero_1[slice9],\n",
        "       simple_regret_zero_2[slice9],\n",
        "       simple_regret_zero_3[slice9],\n",
        "       simple_regret_zero_4[slice9],\n",
        "       simple_regret_zero_5[slice9],\n",
        "       simple_regret_zero_6[slice9],\n",
        "       simple_regret_zero_7[slice9],\n",
        "       simple_regret_zero_8[slice9],\n",
        "       simple_regret_zero_9[slice9],\n",
        "       simple_regret_zero_10[slice9],\n",
        "       simple_regret_zero_11[slice9],\n",
        "       simple_regret_zero_12[slice9],\n",
        "       simple_regret_zero_13[slice9],\n",
        "       simple_regret_zero_14[slice9],\n",
        "       simple_regret_zero_15[slice9],\n",
        "       simple_regret_zero_16[slice9],\n",
        "       simple_regret_zero_17[slice9],\n",
        "       simple_regret_zero_18[slice9],\n",
        "       simple_regret_zero_19[slice9],\n",
        "       simple_regret_zero_20[slice9]]\n",
        "\n",
        "exact9_results = pd.DataFrame(exact9).sort_values(by=[0], ascending=False)\n",
        "zero9_results = pd.DataFrame(zero9).sort_values(by=[0], ascending=False)\n",
        "\n",
        "### Best simple regret minimization IQR - exact:\n",
        "lower_exact9 = np.asarray(exact9_results[4:5][0])[0]\n",
        "median_exact9 = np.asarray(exact9_results[9:10][0])[0]\n",
        "upper_exact9 = np.asarray(exact9_results[14:15][0])[0]\n",
        "\n",
        "lower_zero9 = np.asarray(zero9_results[4:5][0])[0]\n",
        "median_zero9 = np.asarray(zero9_results[9:10][0])[0]\n",
        "upper_zero9 = np.asarray(zero9_results[14:15][0])[0]"
      ],
      "execution_count": 92,
      "outputs": []
    },
    {
      "cell_type": "code",
      "metadata": {
        "id": "OQkCCOsPQxf9"
      },
      "source": [
        "# Iteration19 :\n",
        "\n",
        "slice19 = 18\n",
        "\n",
        "exact19 = [simple_regret_exact_1[slice19],\n",
        "       simple_regret_exact_2[slice19],\n",
        "       simple_regret_exact_3[slice19],\n",
        "       simple_regret_exact_4[slice19],\n",
        "       simple_regret_exact_5[slice19],\n",
        "       simple_regret_exact_6[slice19],\n",
        "       simple_regret_exact_7[slice19],\n",
        "       simple_regret_exact_8[slice19],\n",
        "       simple_regret_exact_9[slice19],\n",
        "       simple_regret_exact_10[slice19],\n",
        "       simple_regret_exact_11[slice19],\n",
        "       simple_regret_exact_12[slice19],\n",
        "       simple_regret_exact_13[slice19],\n",
        "       simple_regret_exact_14[slice19],\n",
        "       simple_regret_exact_15[slice19],\n",
        "       simple_regret_exact_16[slice19],\n",
        "       simple_regret_exact_17[slice19],\n",
        "       simple_regret_exact_18[slice19],\n",
        "       simple_regret_exact_19[slice19],\n",
        "       simple_regret_exact_20[slice19]]\n",
        "\n",
        "zero19 = [simple_regret_zero_1[slice19],\n",
        "       simple_regret_zero_2[slice19],\n",
        "       simple_regret_zero_3[slice19],\n",
        "       simple_regret_zero_4[slice19],\n",
        "       simple_regret_zero_5[slice19],\n",
        "       simple_regret_zero_6[slice19],\n",
        "       simple_regret_zero_7[slice19],\n",
        "       simple_regret_zero_8[slice19],\n",
        "       simple_regret_zero_9[slice19],\n",
        "       simple_regret_zero_10[slice19],\n",
        "       simple_regret_zero_11[slice19],\n",
        "       simple_regret_zero_12[slice19],\n",
        "       simple_regret_zero_13[slice19],\n",
        "       simple_regret_zero_14[slice19],\n",
        "       simple_regret_zero_15[slice19],\n",
        "       simple_regret_zero_16[slice19],\n",
        "       simple_regret_zero_17[slice19],\n",
        "       simple_regret_zero_18[slice19],\n",
        "       simple_regret_zero_19[slice19],\n",
        "       simple_regret_zero_20[slice19]]\n",
        "\n",
        "exact19_results = pd.DataFrame(exact19).sort_values(by=[0], ascending=False)\n",
        "zero19_results = pd.DataFrame(zero19).sort_values(by=[0], ascending=False)\n",
        "\n",
        "### Best simple regret minimization IQR - exact:\n",
        "lower_exact19 = np.asarray(exact19_results[4:5][0])[0]\n",
        "median_exact19 = np.asarray(exact19_results[9:10][0])[0]\n",
        "upper_exact19 = np.asarray(exact19_results[14:15][0])[0]\n",
        "\n",
        "lower_zero19 = np.asarray(zero19_results[4:5][0])[0]\n",
        "median_zero19 = np.asarray(zero19_results[9:10][0])[0]\n",
        "upper_zero19 = np.asarray(zero19_results[14:15][0])[0]"
      ],
      "execution_count": 93,
      "outputs": []
    },
    {
      "cell_type": "code",
      "metadata": {
        "id": "h4vtWahcQxf-"
      },
      "source": [
        "# Iteration10 :\n",
        "\n",
        "slice10 = 9\n",
        "\n",
        "exact10 = [simple_regret_exact_1[slice10],\n",
        "       simple_regret_exact_2[slice10],\n",
        "       simple_regret_exact_3[slice10],\n",
        "       simple_regret_exact_4[slice10],\n",
        "       simple_regret_exact_5[slice10],\n",
        "       simple_regret_exact_6[slice10],\n",
        "       simple_regret_exact_7[slice10],\n",
        "       simple_regret_exact_8[slice10],\n",
        "       simple_regret_exact_9[slice10],\n",
        "       simple_regret_exact_10[slice10],\n",
        "       simple_regret_exact_11[slice10],\n",
        "       simple_regret_exact_12[slice10],\n",
        "       simple_regret_exact_13[slice10],\n",
        "       simple_regret_exact_14[slice10],\n",
        "       simple_regret_exact_15[slice10],\n",
        "       simple_regret_exact_16[slice10],\n",
        "       simple_regret_exact_17[slice10],\n",
        "       simple_regret_exact_18[slice10],\n",
        "       simple_regret_exact_19[slice10],\n",
        "       simple_regret_exact_20[slice10]]\n",
        "\n",
        "zero10 = [simple_regret_zero_1[slice10],\n",
        "       simple_regret_zero_2[slice10],\n",
        "       simple_regret_zero_3[slice10],\n",
        "       simple_regret_zero_4[slice10],\n",
        "       simple_regret_zero_5[slice10],\n",
        "       simple_regret_zero_6[slice10],\n",
        "       simple_regret_zero_7[slice10],\n",
        "       simple_regret_zero_8[slice10],\n",
        "       simple_regret_zero_9[slice10],\n",
        "       simple_regret_zero_10[slice10],\n",
        "       simple_regret_zero_11[slice10],\n",
        "       simple_regret_zero_12[slice10],\n",
        "       simple_regret_zero_13[slice10],\n",
        "       simple_regret_zero_14[slice10],\n",
        "       simple_regret_zero_15[slice10],\n",
        "       simple_regret_zero_16[slice10],\n",
        "       simple_regret_zero_17[slice10],\n",
        "       simple_regret_zero_18[slice10],\n",
        "       simple_regret_zero_19[slice10],\n",
        "       simple_regret_zero_20[slice10]]\n",
        "\n",
        "exact10_results = pd.DataFrame(exact10).sort_values(by=[0], ascending=False)\n",
        "zero10_results = pd.DataFrame(zero10).sort_values(by=[0], ascending=False)\n",
        "\n",
        "### Best simple regret minimization IQR - exact:\n",
        "lower_exact10 = np.asarray(exact10_results[4:5][0])[0]\n",
        "median_exact10 = np.asarray(exact10_results[9:10][0])[0]\n",
        "upper_exact10 = np.asarray(exact10_results[14:15][0])[0]\n",
        "\n",
        "lower_zero10 = np.asarray(zero10_results[4:5][0])[0]\n",
        "median_zero10 = np.asarray(zero10_results[9:10][0])[0]\n",
        "upper_zero10 = np.asarray(zero10_results[14:15][0])[0]"
      ],
      "execution_count": 94,
      "outputs": []
    },
    {
      "cell_type": "code",
      "metadata": {
        "id": "Rsf240pWQxf-"
      },
      "source": [
        "# Iteration20 :\n",
        "\n",
        "slice20 = 19\n",
        "\n",
        "exact20 = [simple_regret_exact_1[slice20],\n",
        "       simple_regret_exact_2[slice20],\n",
        "       simple_regret_exact_3[slice20],\n",
        "       simple_regret_exact_4[slice20],\n",
        "       simple_regret_exact_5[slice20],\n",
        "       simple_regret_exact_6[slice20],\n",
        "       simple_regret_exact_7[slice20],\n",
        "       simple_regret_exact_8[slice20],\n",
        "       simple_regret_exact_9[slice20],\n",
        "       simple_regret_exact_10[slice20],\n",
        "       simple_regret_exact_11[slice20],\n",
        "       simple_regret_exact_12[slice20],\n",
        "       simple_regret_exact_13[slice20],\n",
        "       simple_regret_exact_14[slice20],\n",
        "       simple_regret_exact_15[slice20],\n",
        "       simple_regret_exact_16[slice20],\n",
        "       simple_regret_exact_17[slice20],\n",
        "       simple_regret_exact_18[slice20],\n",
        "       simple_regret_exact_19[slice20],\n",
        "       simple_regret_exact_20[slice20]]\n",
        "\n",
        "zero20 = [simple_regret_zero_1[slice20],\n",
        "       simple_regret_zero_2[slice20],\n",
        "       simple_regret_zero_3[slice20],\n",
        "       simple_regret_zero_4[slice20],\n",
        "       simple_regret_zero_5[slice20],\n",
        "       simple_regret_zero_6[slice20],\n",
        "       simple_regret_zero_7[slice20],\n",
        "       simple_regret_zero_8[slice20],\n",
        "       simple_regret_zero_9[slice20],\n",
        "       simple_regret_zero_10[slice20],\n",
        "       simple_regret_zero_11[slice20],\n",
        "       simple_regret_zero_12[slice20],\n",
        "       simple_regret_zero_13[slice20],\n",
        "       simple_regret_zero_14[slice20],\n",
        "       simple_regret_zero_15[slice20],\n",
        "       simple_regret_zero_16[slice20],\n",
        "       simple_regret_zero_17[slice20],\n",
        "       simple_regret_zero_18[slice20],\n",
        "       simple_regret_zero_19[slice20],\n",
        "       simple_regret_zero_20[slice20]]\n",
        "\n",
        "exact20_results = pd.DataFrame(exact20).sort_values(by=[0], ascending=False)\n",
        "zero20_results = pd.DataFrame(zero20).sort_values(by=[0], ascending=False)\n",
        "\n",
        "### Best simple regret minimization IQR - exact:\n",
        "lower_exact20 = np.asarray(exact20_results[4:5][0])[0]\n",
        "median_exact20 = np.asarray(exact20_results[9:10][0])[0]\n",
        "upper_exact20 = np.asarray(exact20_results[14:15][0])[0]\n",
        "\n",
        "lower_zero20 = np.asarray(zero20_results[4:5][0])[0]\n",
        "median_zero20 = np.asarray(zero20_results[9:10][0])[0]\n",
        "upper_zero20 = np.asarray(zero20_results[14:15][0])[0]"
      ],
      "execution_count": 95,
      "outputs": []
    },
    {
      "cell_type": "code",
      "metadata": {
        "id": "gn36RejbQxf_"
      },
      "source": [
        "### Summarize arrays: 'Loser'\n",
        "\n",
        "lower_exact = [lower_exact1,\n",
        "            lower_exact2,\n",
        "            lower_exact3,\n",
        "            lower_exact4,\n",
        "            lower_exact5,\n",
        "            lower_exact6,\n",
        "            lower_exact7,\n",
        "            lower_exact8,\n",
        "            lower_exact9,\n",
        "            lower_exact10,\n",
        "            lower_exact11,\n",
        "            lower_exact12,\n",
        "            lower_exact13,\n",
        "            lower_exact14,\n",
        "            lower_exact15,\n",
        "            lower_exact16,\n",
        "            lower_exact17,\n",
        "            lower_exact18,\n",
        "            lower_exact19,\n",
        "            lower_exact20,\n",
        "            lower_exact21]\n",
        "\n",
        "median_exact = [median_exact1,\n",
        "            median_exact2,\n",
        "            median_exact3,\n",
        "            median_exact4,\n",
        "            median_exact5,\n",
        "            median_exact6,\n",
        "            median_exact7,\n",
        "            median_exact8,\n",
        "            median_exact9,\n",
        "            median_exact10,\n",
        "            median_exact11,\n",
        "            median_exact12,\n",
        "            median_exact13,\n",
        "            median_exact14,\n",
        "            median_exact15,\n",
        "            median_exact16,\n",
        "            median_exact17,\n",
        "            median_exact18,\n",
        "            median_exact19,\n",
        "            median_exact20,\n",
        "            median_exact21]\n",
        "\n",
        "upper_exact = [upper_exact1,\n",
        "            upper_exact2,\n",
        "            upper_exact3,\n",
        "            upper_exact4,\n",
        "            upper_exact5,\n",
        "            upper_exact6,\n",
        "            upper_exact7,\n",
        "            upper_exact8,\n",
        "            upper_exact9,\n",
        "            upper_exact10,\n",
        "            upper_exact11,\n",
        "            upper_exact12,\n",
        "            upper_exact13,\n",
        "            upper_exact14,\n",
        "            upper_exact15,\n",
        "            upper_exact16,\n",
        "            upper_exact17,\n",
        "            upper_exact18,\n",
        "            upper_exact19,\n",
        "            upper_exact20,\n",
        "            upper_exact21]"
      ],
      "execution_count": 96,
      "outputs": []
    },
    {
      "cell_type": "code",
      "metadata": {
        "id": "wxtGTOYfQxf_"
      },
      "source": [
        "### Summarize arrays: 'zero'\n",
        "\n",
        "lower_zero = [lower_zero1,\n",
        "            lower_zero2,\n",
        "            lower_zero3,\n",
        "            lower_zero4,\n",
        "            lower_zero5,\n",
        "            lower_zero6,\n",
        "            lower_zero7,\n",
        "            lower_zero8,\n",
        "            lower_zero9,\n",
        "            lower_zero10,\n",
        "            lower_zero11,\n",
        "            lower_zero12,\n",
        "            lower_zero13,\n",
        "            lower_zero14,\n",
        "            lower_zero15,\n",
        "            lower_zero16,\n",
        "            lower_zero17,\n",
        "            lower_zero18,\n",
        "            lower_zero19,\n",
        "            lower_zero20,\n",
        "            lower_zero21]\n",
        "\n",
        "median_zero = [median_zero1,\n",
        "            median_zero2,\n",
        "            median_zero3,\n",
        "            median_zero4,\n",
        "            median_zero5,\n",
        "            median_zero6,\n",
        "            median_zero7,\n",
        "            median_zero8,\n",
        "            median_zero9,\n",
        "            median_zero10,\n",
        "            median_zero11,\n",
        "            median_zero12,\n",
        "            median_zero13,\n",
        "            median_zero14,\n",
        "            median_zero15,\n",
        "            median_zero16,\n",
        "            median_zero17,\n",
        "            median_zero18,\n",
        "            median_zero19,\n",
        "            median_zero20,\n",
        "            median_zero21]\n",
        "\n",
        "upper_zero = [upper_zero1,\n",
        "            upper_zero2,\n",
        "            upper_zero3,\n",
        "            upper_zero4,\n",
        "            upper_zero5,\n",
        "            upper_zero6,\n",
        "            upper_zero7,\n",
        "            upper_zero8,\n",
        "            upper_zero9,\n",
        "            upper_zero10,\n",
        "            upper_zero11,\n",
        "            upper_zero12,\n",
        "            upper_zero13,\n",
        "            upper_zero14,\n",
        "            upper_zero15,\n",
        "            upper_zero16,\n",
        "            upper_zero17,\n",
        "            upper_zero18,\n",
        "            upper_zero19,\n",
        "            upper_zero20,\n",
        "            upper_zero21]"
      ],
      "execution_count": 97,
      "outputs": []
    },
    {
      "cell_type": "code",
      "metadata": {
        "colab": {
          "base_uri": "https://localhost:8080/",
          "height": 299
        },
        "id": "2MONq-BXQxgA",
        "outputId": "fcd040a6-d847-45d7-fb07-648e25235e86"
      },
      "source": [
        "### Visualise!\n",
        "\n",
        "title = func\n",
        "plt.figure()\n",
        "\n",
        "plt.plot(median_exact, color = 'Green')\n",
        "plt.plot(median_zero, color = 'Red')\n",
        "\n",
        "xstar = np.arange(0, iters+1, step=1)\n",
        "plt.fill_between(xstar, lower_exact, upper_exact, facecolor = 'Green', alpha=0.4, label='GP EI: ExactGrad Regret IQR')\n",
        "plt.fill_between(xstar, lower_zero, upper_zero, facecolor = 'Red', alpha=0.4, label='GP EI: ZeroGrad Regret IQR')\n",
        "\n",
        "plt.title(title, weight = 'bold')\n",
        "plt.xlabel('(Post-initialization) iteration $\\it{k}$', weight = 'bold')\n",
        "plt.ylabel('log(Regret)', weight = 'bold') \n",
        "plt.legend(loc=1) # add plot legend\n",
        "\n",
        "### Make the x-ticks integers, not floats:\n",
        "count = len(xstar)\n",
        "plt.xticks(np.arange(count), np.arange(0, count))\n",
        "plt.show() #visualize!"
      ],
      "execution_count": 108,
      "outputs": [
        {
          "output_type": "display_data",
          "data": {
            "image/png": "[encoded data removed]",
            "text/plain": [
              "<Figure size 432x288 with 1 Axes>"
            ]
          },
          "metadata": {
            "tags": [],
            "needs_background": "light"
          }
        }
      ]
    },
    {
      "cell_type": "code",
      "metadata": {
        "id": "l5dkR2Id2oiu",
        "colab": {
          "base_uri": "https://localhost:8080/"
        },
        "outputId": "a5b2c4b3-3cd5-4bde-a170-9aa059514099"
      },
      "source": [
        "time_exact, time_zero\n"
      ],
      "execution_count": 99,
      "outputs": [
        {
          "output_type": "execute_result",
          "data": {
            "text/plain": [
              "(3763.510921239853, 185.31229329109192)"
            ]
          },
          "metadata": {
            "tags": []
          },
          "execution_count": 99
        }
      ]
    },
    {
      "cell_type": "code",
      "metadata": {
        "id": "Q2w1ol7HbrRt",
        "colab": {
          "base_uri": "https://localhost:8080/"
        },
        "outputId": "3b2aa5bc-90e8-4497-c755-ae197d911eb9"
      },
      "source": [
        "np.round(zero_1.acqfunc(x_test)[0],2).reshape(50,10)\n"
      ],
      "execution_count": 100,
      "outputs": [
        {
          "output_type": "execute_result",
          "data": {
            "text/plain": [
              "array([[-2.92, -2.67, -2.41, -2.15, -1.9 , -1.65, -1.41, -1.19, -0.98,\n",
              "        -0.79],\n",
              "       [-0.62, -0.47, -0.35, -0.25, -0.17, -0.12, -0.07, -0.05, -0.03,\n",
              "        -0.01],\n",
              "       [-0.01, -0.  , -0.  , -0.  , -0.  , -0.  , -0.  , -0.  , -0.  ,\n",
              "        -0.  ],\n",
              "       [-0.  , -0.  , -0.  , -0.  , -0.  , -0.  , -0.  , -0.  , -0.  ,\n",
              "        -0.  ],\n",
              "       [-0.  , -0.  , -0.  , -0.  , -0.  , -0.  , -0.  , -0.  , -0.  ,\n",
              "        -0.  ],\n",
              "       [-0.  , -0.  , -0.  , -0.  , -0.  , -0.  , -0.  , -0.  , -0.  ,\n",
              "        -0.  ],\n",
              "       [-0.  , -0.  , -0.  , -0.  , -0.  , -0.  , -0.  , -0.  , -0.  ,\n",
              "        -0.  ],\n",
              "       [-0.  , -0.  , -0.  , -0.  , -0.  , -0.  , -0.  , -0.  , -0.  ,\n",
              "        -0.  ],\n",
              "       [-0.  , -0.  , -0.  , -0.  , -0.  , -0.  , -0.  , -0.  , -0.  ,\n",
              "        -0.  ],\n",
              "       [-0.  , -0.  , -0.  , -0.  , -0.  , -0.  , -0.  , -0.  , -0.  ,\n",
              "        -0.  ],\n",
              "       [-0.  , -0.  , -0.  , -0.  , -0.  , -0.  , -0.  , -0.  , -0.  ,\n",
              "        -0.  ],\n",
              "       [-0.  , -0.  , -0.  , -0.  , -0.  , -0.  , -0.  , -0.  , -0.  ,\n",
              "        -0.  ],\n",
              "       [-0.  , -0.  , -0.  , -0.  , -0.  , -0.  , -0.  , -0.  , -0.  ,\n",
              "        -0.  ],\n",
              "       [-0.  , -0.  , -0.  , -0.  , -0.  , -0.  , -0.  , -0.  , -0.  ,\n",
              "        -0.  ],\n",
              "       [-0.  , -0.  , -0.  , -0.  , -0.  , -0.  , -0.  , -0.  , -0.  ,\n",
              "        -0.  ],\n",
              "       [-0.  , -0.  , -0.  , -0.  , -0.  , -0.  , -0.  , -0.  , -0.  ,\n",
              "        -0.  ],\n",
              "       [-0.  , -0.  , -0.  , -0.  , -0.  , -0.  , -0.  , -0.  , -0.01,\n",
              "        -0.01],\n",
              "       [-0.01, -0.01, -0.02, -0.02, -0.03, -0.04, -0.04, -0.05, -0.06,\n",
              "        -0.07],\n",
              "       [-0.08, -0.09, -0.11, -0.12, -0.13, -0.14, -0.15, -0.17, -0.18,\n",
              "        -0.19],\n",
              "       [-0.19, -0.2 , -0.21, -0.21, -0.22, -0.22, -0.22, -0.22, -0.22,\n",
              "        -0.22],\n",
              "       [-0.22, -0.22, -0.21, -0.21, -0.2 , -0.2 , -0.19, -0.19, -0.18,\n",
              "        -0.17],\n",
              "       [-0.17, -0.16, -0.15, -0.15, -0.14, -0.14, -0.13, -0.13, -0.12,\n",
              "        -0.12],\n",
              "       [-0.11, -0.11, -0.11, -0.1 , -0.1 , -0.1 , -0.1 , -0.1 , -0.09,\n",
              "        -0.09],\n",
              "       [-0.09, -0.09, -0.09, -0.09, -0.09, -0.09, -0.09, -0.09, -0.09,\n",
              "        -0.1 ],\n",
              "       [-0.1 , -0.1 , -0.1 , -0.1 , -0.1 , -0.1 , -0.11, -0.11, -0.11,\n",
              "        -0.11],\n",
              "       [-0.11, -0.11, -0.11, -0.11, -0.11, -0.11, -0.11, -0.11, -0.11,\n",
              "        -0.11],\n",
              "       [-0.11, -0.1 , -0.1 , -0.1 , -0.1 , -0.09, -0.09, -0.09, -0.08,\n",
              "        -0.08],\n",
              "       [-0.07, -0.07, -0.06, -0.06, -0.05, -0.05, -0.05, -0.04, -0.04,\n",
              "        -0.03],\n",
              "       [-0.03, -0.03, -0.03, -0.02, -0.02, -0.02, -0.02, -0.01, -0.01,\n",
              "        -0.01],\n",
              "       [-0.01, -0.01, -0.01, -0.01, -0.01, -0.  , -0.  , -0.  , -0.  ,\n",
              "        -0.  ],\n",
              "       [-0.  , -0.  , -0.  , -0.  , -0.  , -0.  , -0.  , -0.  , -0.  ,\n",
              "        -0.  ],\n",
              "       [-0.  , -0.  , -0.  , -0.  , -0.  , -0.  , -0.  , -0.  , -0.  ,\n",
              "        -0.  ],\n",
              "       [-0.  , -0.  , -0.  , -0.  , -0.  , -0.  , -0.  , -0.  , -0.  ,\n",
              "        -0.  ],\n",
              "       [-0.  , -0.  , -0.  , -0.  , -0.  , -0.  , -0.  , -0.  , -0.  ,\n",
              "        -0.  ],\n",
              "       [-0.  , -0.  , -0.  , -0.  , -0.  , -0.  , -0.  , -0.  , -0.  ,\n",
              "        -0.  ],\n",
              "       [-0.  , -0.  , -0.  , -0.  , -0.  , -0.  , -0.  , -0.  , -0.  ,\n",
              "        -0.  ],\n",
              "       [-0.  , -0.  , -0.  , -0.  , -0.  , -0.  , -0.  , -0.  , -0.  ,\n",
              "        -0.  ],\n",
              "       [-0.  , -0.  , -0.  , -0.  , -0.  , -0.  , -0.  , -0.  , -0.  ,\n",
              "        -0.  ],\n",
              "       [-0.  , -0.  , -0.  , -0.  , -0.  , -0.  , -0.  , -0.  , -0.  ,\n",
              "        -0.  ],\n",
              "       [-0.  , -0.  , -0.  , -0.  , -0.  , -0.  , -0.  , -0.  , -0.  ,\n",
              "        -0.  ],\n",
              "       [-0.  , -0.  , -0.  , -0.  , -0.  , -0.  , -0.  , -0.  , -0.  ,\n",
              "        -0.  ],\n",
              "       [-0.  , -0.  , -0.  , -0.  , -0.  , -0.  , -0.  , -0.  , -0.  ,\n",
              "        -0.  ],\n",
              "       [-0.  , -0.  , -0.  , -0.  , -0.  , -0.  , -0.  , -0.  , -0.  ,\n",
              "        -0.  ],\n",
              "       [-0.  , -0.  , -0.  , -0.  , -0.  , -0.  , -0.  , -0.  , -0.  ,\n",
              "        -0.  ],\n",
              "       [-0.  , -0.  , -0.  , -0.  , -0.  , -0.  , -0.  , -0.  , -0.  ,\n",
              "        -0.  ],\n",
              "       [-0.  , -0.  , -0.  , -0.  , -0.  , -0.  , -0.  , -0.  , -0.  ,\n",
              "        -0.  ],\n",
              "       [-0.  , -0.  , -0.  , -0.  , -0.  , -0.  , -0.  , -0.  , -0.  ,\n",
              "        -0.  ],\n",
              "       [-0.  , -0.  , -0.  , -0.  , -0.  , -0.  , -0.  , -0.  , -0.  ,\n",
              "        -0.  ],\n",
              "       [-0.  , -0.  , -0.  , -0.  , -0.  , -0.  , -0.  , -0.  , -0.  ,\n",
              "        -0.  ],\n",
              "       [-0.  , -0.  , -0.  , -0.  , -0.  , -0.  , -0.  , -0.  , -0.  ,\n",
              "        -0.  ]])"
            ]
          },
          "metadata": {
            "tags": []
          },
          "execution_count": 100
        }
      ]
    },
    {
      "cell_type": "code",
      "metadata": {
        "colab": {
          "base_uri": "https://localhost:8080/"
        },
        "id": "V30USlVC-nTM",
        "outputId": "53055818-05a5-469f-eba7-ee073e7ce0dc"
      },
      "source": [
        "np.round(exact_1.acqfunc(x_test)[0],2).reshape(50,10)\n"
      ],
      "execution_count": 102,
      "outputs": [
        {
          "output_type": "execute_result",
          "data": {
            "text/plain": [
              "array([[-1.179e+01, -1.151e+01, -1.123e+01, -1.093e+01, -1.063e+01,\n",
              "        -1.031e+01, -9.990e+00, -9.660e+00, -9.320e+00, -8.970e+00],\n",
              "       [-8.610e+00, -8.240e+00, -7.870e+00, -7.480e+00, -7.090e+00,\n",
              "        -6.700e+00, -6.290e+00, -5.880e+00, -5.470e+00, -5.050e+00],\n",
              "       [-4.620e+00, -4.200e+00, -3.770e+00, -3.350e+00, -2.930e+00,\n",
              "        -2.520e+00, -2.130e+00, -1.760e+00, -1.430e+00, -1.120e+00],\n",
              "       [-8.600e-01, -6.400e-01, -4.600e-01, -3.200e-01, -2.100e-01,\n",
              "        -1.400e-01, -9.000e-02, -5.000e-02, -3.000e-02, -2.000e-02],\n",
              "       [-1.000e-02, -0.000e+00, -0.000e+00, -0.000e+00, -0.000e+00,\n",
              "        -0.000e+00, -0.000e+00, -0.000e+00, -0.000e+00, -0.000e+00],\n",
              "       [-0.000e+00, -0.000e+00, -0.000e+00, -0.000e+00, -0.000e+00,\n",
              "        -0.000e+00, -0.000e+00, -0.000e+00, -0.000e+00, -0.000e+00],\n",
              "       [-0.000e+00, -0.000e+00, -0.000e+00, -0.000e+00, -0.000e+00,\n",
              "        -0.000e+00, -0.000e+00, -0.000e+00, -0.000e+00, -0.000e+00],\n",
              "       [-0.000e+00, -0.000e+00, -0.000e+00, -0.000e+00, -0.000e+00,\n",
              "        -0.000e+00, -0.000e+00, -0.000e+00, -0.000e+00, -0.000e+00],\n",
              "       [-0.000e+00, -0.000e+00, -0.000e+00, -0.000e+00, -0.000e+00,\n",
              "        -0.000e+00, -0.000e+00, -0.000e+00, -0.000e+00, -0.000e+00],\n",
              "       [-0.000e+00, -0.000e+00, -0.000e+00, -0.000e+00, -0.000e+00,\n",
              "        -0.000e+00, -0.000e+00, -1.000e-02, -1.000e-02, -1.000e-02],\n",
              "       [-1.000e-02, -2.000e-02, -3.000e-02, -4.000e-02, -5.000e-02,\n",
              "        -6.000e-02, -8.000e-02, -1.000e-01, -1.300e-01, -1.600e-01],\n",
              "       [-1.900e-01, -2.300e-01, -2.700e-01, -3.200e-01, -3.800e-01,\n",
              "        -4.300e-01, -5.000e-01, -5.600e-01, -6.400e-01, -7.100e-01],\n",
              "       [-7.900e-01, -8.800e-01, -9.700e-01, -1.060e+00, -1.150e+00,\n",
              "        -1.250e+00, -1.350e+00, -1.450e+00, -1.550e+00, -1.650e+00],\n",
              "       [-1.760e+00, -1.870e+00, -1.970e+00, -2.080e+00, -2.190e+00,\n",
              "        -2.300e+00, -2.410e+00, -2.520e+00, -2.620e+00, -2.730e+00],\n",
              "       [-2.840e+00, -2.950e+00, -3.050e+00, -3.160e+00, -3.260e+00,\n",
              "        -3.370e+00, -3.470e+00, -3.570e+00, -3.670e+00, -3.770e+00],\n",
              "       [-3.870e+00, -3.960e+00, -4.050e+00, -4.150e+00, -4.240e+00,\n",
              "        -4.320e+00, -4.410e+00, -4.490e+00, -4.580e+00, -4.660e+00],\n",
              "       [-4.730e+00, -4.810e+00, -4.880e+00, -4.950e+00, -5.010e+00,\n",
              "        -5.080e+00, -5.140e+00, -5.200e+00, -5.250e+00, -5.310e+00],\n",
              "       [-5.360e+00, -5.400e+00, -5.450e+00, -5.490e+00, -5.530e+00,\n",
              "        -5.560e+00, -5.600e+00, -5.630e+00, -5.660e+00, -5.680e+00],\n",
              "       [-5.700e+00, -5.730e+00, -5.740e+00, -5.760e+00, -5.770e+00,\n",
              "        -5.780e+00, -5.790e+00, -5.800e+00, -5.800e+00, -5.810e+00],\n",
              "       [-5.810e+00, -5.810e+00, -5.800e+00, -5.800e+00, -5.800e+00,\n",
              "        -5.790e+00, -5.780e+00, -5.770e+00, -5.760e+00, -5.750e+00],\n",
              "       [-5.740e+00, -5.730e+00, -5.710e+00, -5.700e+00, -5.680e+00,\n",
              "        -5.670e+00, -5.650e+00, -5.640e+00, -5.620e+00, -5.600e+00],\n",
              "       [-5.590e+00, -5.570e+00, -5.550e+00, -5.530e+00, -5.520e+00,\n",
              "        -5.500e+00, -5.480e+00, -5.470e+00, -5.450e+00, -5.430e+00],\n",
              "       [-5.420e+00, -5.400e+00, -5.390e+00, -5.370e+00, -5.360e+00,\n",
              "        -5.350e+00, -5.340e+00, -5.330e+00, -5.310e+00, -5.310e+00],\n",
              "       [-5.300e+00, -5.290e+00, -5.280e+00, -5.280e+00, -5.270e+00,\n",
              "        -5.270e+00, -5.270e+00, -5.270e+00, -5.270e+00, -5.270e+00],\n",
              "       [-5.270e+00, -5.280e+00, -5.290e+00, -5.290e+00, -5.310e+00,\n",
              "        -5.320e+00, -5.330e+00, -5.350e+00, -5.360e+00, -5.380e+00],\n",
              "       [-5.410e+00, -5.430e+00, -5.450e+00, -5.480e+00, -5.510e+00,\n",
              "        -5.540e+00, -5.570e+00, -5.610e+00, -5.640e+00, -5.680e+00],\n",
              "       [-5.720e+00, -5.760e+00, -5.800e+00, -5.850e+00, -5.890e+00,\n",
              "        -5.940e+00, -5.990e+00, -6.030e+00, -6.080e+00, -6.130e+00],\n",
              "       [-6.180e+00, -6.230e+00, -6.280e+00, -6.330e+00, -6.380e+00,\n",
              "        -6.430e+00, -6.470e+00, -6.520e+00, -6.560e+00, -6.610e+00],\n",
              "       [-6.650e+00, -6.680e+00, -6.720e+00, -6.750e+00, -6.780e+00,\n",
              "        -6.800e+00, -6.820e+00, -6.840e+00, -6.850e+00, -6.860e+00],\n",
              "       [-6.860e+00, -6.860e+00, -6.850e+00, -6.830e+00, -6.810e+00,\n",
              "        -6.780e+00, -6.750e+00, -6.700e+00, -6.650e+00, -6.590e+00],\n",
              "       [-6.530e+00, -6.450e+00, -6.370e+00, -6.280e+00, -6.180e+00,\n",
              "        -6.070e+00, -5.960e+00, -5.830e+00, -5.700e+00, -5.560e+00],\n",
              "       [-5.400e+00, -5.240e+00, -5.070e+00, -4.900e+00, -4.710e+00,\n",
              "        -4.520e+00, -4.320e+00, -4.110e+00, -3.900e+00, -3.670e+00],\n",
              "       [-3.450e+00, -3.220e+00, -2.990e+00, -2.750e+00, -2.520e+00,\n",
              "        -2.280e+00, -2.050e+00, -1.830e+00, -1.610e+00, -1.410e+00],\n",
              "       [-1.210e+00, -1.030e+00, -8.600e-01, -7.100e-01, -5.800e-01,\n",
              "        -4.700e-01, -3.700e-01, -2.900e-01, -2.200e-01, -1.700e-01],\n",
              "       [-1.200e-01, -9.000e-02, -7.000e-02, -5.000e-02, -3.000e-02,\n",
              "        -2.000e-02, -2.000e-02, -1.000e-02, -1.000e-02, -1.000e-02],\n",
              "       [-0.000e+00, -0.000e+00, -0.000e+00, -0.000e+00, -0.000e+00,\n",
              "        -0.000e+00, -0.000e+00, -0.000e+00, -0.000e+00, -0.000e+00],\n",
              "       [-0.000e+00, -0.000e+00, -0.000e+00, -0.000e+00, -0.000e+00,\n",
              "        -0.000e+00, -0.000e+00, -0.000e+00, -0.000e+00, -0.000e+00],\n",
              "       [-0.000e+00, -0.000e+00, -0.000e+00, -0.000e+00, -0.000e+00,\n",
              "        -0.000e+00, -0.000e+00, -0.000e+00, -0.000e+00, -0.000e+00],\n",
              "       [-0.000e+00, -0.000e+00, -0.000e+00, -1.000e-02, -1.000e-02,\n",
              "        -1.000e-02, -2.000e-02, -2.000e-02, -3.000e-02, -5.000e-02],\n",
              "       [-6.000e-02, -8.000e-02, -1.000e-01, -1.300e-01, -1.700e-01,\n",
              "        -2.100e-01, -2.600e-01, -3.200e-01, -3.800e-01, -4.500e-01],\n",
              "       [-5.300e-01, -6.100e-01, -7.000e-01, -8.000e-01, -9.000e-01,\n",
              "        -1.000e+00, -1.110e+00, -1.210e+00, -1.320e+00, -1.420e+00],\n",
              "       [-1.520e+00, -1.610e+00, -1.700e+00, -1.790e+00, -1.870e+00,\n",
              "        -1.940e+00, -2.010e+00, -2.060e+00, -2.110e+00, -2.150e+00],\n",
              "       [-2.180e+00, -2.200e+00, -2.220e+00, -2.220e+00, -2.210e+00,\n",
              "        -2.190e+00, -2.160e+00, -2.130e+00, -2.080e+00, -2.030e+00],\n",
              "       [-1.960e+00, -1.890e+00, -1.810e+00, -1.720e+00, -1.630e+00,\n",
              "        -1.530e+00, -1.430e+00, -1.320e+00, -1.210e+00, -1.100e+00],\n",
              "       [-9.800e-01, -8.700e-01, -7.700e-01, -6.600e-01, -5.700e-01,\n",
              "        -4.800e-01, -3.900e-01, -3.200e-01, -2.500e-01, -2.000e-01],\n",
              "       [-1.500e-01, -1.100e-01, -8.000e-02, -6.000e-02, -4.000e-02,\n",
              "        -3.000e-02, -2.000e-02, -1.000e-02, -1.000e-02, -0.000e+00],\n",
              "       [-0.000e+00, -0.000e+00, -0.000e+00, -0.000e+00, -0.000e+00,\n",
              "        -0.000e+00, -0.000e+00, -0.000e+00, -0.000e+00, -0.000e+00],\n",
              "       [-0.000e+00, -0.000e+00, -0.000e+00, -0.000e+00, -0.000e+00,\n",
              "        -0.000e+00, -0.000e+00, -0.000e+00, -0.000e+00, -0.000e+00],\n",
              "       [-0.000e+00, -0.000e+00, -0.000e+00, -0.000e+00, -0.000e+00,\n",
              "        -0.000e+00, -0.000e+00, -0.000e+00, -0.000e+00, -0.000e+00],\n",
              "       [-0.000e+00, -0.000e+00, -0.000e+00, -0.000e+00, -0.000e+00,\n",
              "        -0.000e+00, -0.000e+00, -0.000e+00, -0.000e+00, -0.000e+00]])"
            ]
          },
          "metadata": {
            "tags": []
          },
          "execution_count": 102
        }
      ]
    },
    {
      "cell_type": "code",
      "metadata": {
        "id": "nft43RJS_Rj0",
        "colab": {
          "base_uri": "https://localhost:8080/"
        },
        "outputId": "88710d85-cb9b-464a-cd47-992d4383b169"
      },
      "source": [
        "np.mean(exact_1.acqfunc(x_test)[0]), np.mean(zero_1.acqfunc(x_test)[0])\n"
      ],
      "execution_count": 104,
      "outputs": [
        {
          "output_type": "execute_result",
          "data": {
            "text/plain": [
              "(-2.6734915646704263, -0.06675162307467566)"
            ]
          },
          "metadata": {
            "tags": []
          },
          "execution_count": 104
        }
      ]
    },
    {
      "cell_type": "code",
      "metadata": {
        "colab": {
          "base_uri": "https://localhost:8080/"
        },
        "id": "oV94PnUyZ2qp",
        "outputId": "28af099f-1832-44e5-b27e-ea66402c9a6e"
      },
      "source": [
        "exact_1.acqfunc(x_test)[1].shape, zero_1.acqfunc(x_test)[1].shape\n"
      ],
      "execution_count": 105,
      "outputs": [
        {
          "output_type": "execute_result",
          "data": {
            "text/plain": [
              "((500, 2), (500, 2))"
            ]
          },
          "metadata": {
            "tags": []
          },
          "execution_count": 105
        }
      ]
    },
    {
      "cell_type": "code",
      "metadata": {
        "colab": {
          "base_uri": "https://localhost:8080/"
        },
        "id": "sxNUNoX3Te6y",
        "outputId": "f8ec25f9-6b9a-4dba-c60d-21df90236717"
      },
      "source": [
        "np.round(exact_1.acqfunc(x_test)[1],2)\n"
      ],
      "execution_count": 106,
      "outputs": [
        {
          "output_type": "execute_result",
          "data": {
            "text/plain": [
              "array([[-4.860e+00, -4.860e+00],\n",
              "       [-5.030e+00, -5.030e+00],\n",
              "       [-5.210e+00, -5.210e+00],\n",
              "       [-5.380e+00, -5.380e+00],\n",
              "       [-5.560e+00, -5.560e+00],\n",
              "       [-5.730e+00, -5.730e+00],\n",
              "       [-5.900e+00, -5.900e+00],\n",
              "       [-6.080e+00, -6.080e+00],\n",
              "       [-6.250e+00, -6.250e+00],\n",
              "       [-6.420e+00, -6.420e+00],\n",
              "       [-6.580e+00, -6.580e+00],\n",
              "       [-6.750e+00, -6.750e+00],\n",
              "       [-6.910e+00, -6.910e+00],\n",
              "       [-7.060e+00, -7.060e+00],\n",
              "       [-7.220e+00, -7.220e+00],\n",
              "       [-7.360e+00, -7.360e+00],\n",
              "       [-7.500e+00, -7.500e+00],\n",
              "       [-7.630e+00, -7.630e+00],\n",
              "       [-7.760e+00, -7.760e+00],\n",
              "       [-7.860e+00, -7.860e+00],\n",
              "       [-7.950e+00, -7.950e+00],\n",
              "       [-8.000e+00, -8.000e+00],\n",
              "       [-8.020e+00, -8.020e+00],\n",
              "       [-7.970e+00, -7.970e+00],\n",
              "       [-7.850e+00, -7.850e+00],\n",
              "       [-7.620e+00, -7.620e+00],\n",
              "       [-7.280e+00, -7.280e+00],\n",
              "       [-6.820e+00, -6.820e+00],\n",
              "       [-6.230e+00, -6.230e+00],\n",
              "       [-5.530e+00, -5.530e+00],\n",
              "       [-4.760e+00, -4.760e+00],\n",
              "       [-3.960e+00, -3.960e+00],\n",
              "       [-3.170e+00, -3.170e+00],\n",
              "       [-2.440e+00, -2.440e+00],\n",
              "       [-1.810e+00, -1.810e+00],\n",
              "       [-1.280e+00, -1.280e+00],\n",
              "       [-8.700e-01, -8.700e-01],\n",
              "       [-5.700e-01, -5.700e-01],\n",
              "       [-3.600e-01, -3.600e-01],\n",
              "       [-2.200e-01, -2.200e-01],\n",
              "       [-1.300e-01, -1.300e-01],\n",
              "       [-7.000e-02, -7.000e-02],\n",
              "       [-4.000e-02, -4.000e-02],\n",
              "       [-2.000e-02, -2.000e-02],\n",
              "       [-1.000e-02, -1.000e-02],\n",
              "       [-1.000e-02, -1.000e-02],\n",
              "       [-0.000e+00, -0.000e+00],\n",
              "       [-0.000e+00, -0.000e+00],\n",
              "       [-0.000e+00, -0.000e+00],\n",
              "       [-0.000e+00, -0.000e+00],\n",
              "       [-0.000e+00, -0.000e+00],\n",
              "       [-0.000e+00, -0.000e+00],\n",
              "       [-0.000e+00, -0.000e+00],\n",
              "       [-0.000e+00, -0.000e+00],\n",
              "       [-0.000e+00, -0.000e+00],\n",
              "       [-0.000e+00, -0.000e+00],\n",
              "       [-0.000e+00, -0.000e+00],\n",
              "       [-0.000e+00, -0.000e+00],\n",
              "       [-0.000e+00, -0.000e+00],\n",
              "       [-0.000e+00, -0.000e+00],\n",
              "       [-0.000e+00, -0.000e+00],\n",
              "       [-0.000e+00, -0.000e+00],\n",
              "       [-0.000e+00, -0.000e+00],\n",
              "       [-0.000e+00, -0.000e+00],\n",
              "       [-0.000e+00, -0.000e+00],\n",
              "       [-0.000e+00, -0.000e+00],\n",
              "       [-0.000e+00, -0.000e+00],\n",
              "       [-0.000e+00, -0.000e+00],\n",
              "       [-0.000e+00, -0.000e+00],\n",
              "       [-0.000e+00, -0.000e+00],\n",
              "       [-0.000e+00, -0.000e+00],\n",
              "       [-0.000e+00, -0.000e+00],\n",
              "       [-0.000e+00, -0.000e+00],\n",
              "       [-0.000e+00, -0.000e+00],\n",
              "       [-0.000e+00, -0.000e+00],\n",
              "       [-0.000e+00, -0.000e+00],\n",
              "       [-0.000e+00, -0.000e+00],\n",
              "       [-0.000e+00, -0.000e+00],\n",
              "       [-0.000e+00, -0.000e+00],\n",
              "       [-0.000e+00, -0.000e+00],\n",
              "       [-0.000e+00, -0.000e+00],\n",
              "       [-0.000e+00, -0.000e+00],\n",
              "       [-0.000e+00, -0.000e+00],\n",
              "       [-0.000e+00, -0.000e+00],\n",
              "       [-0.000e+00, -0.000e+00],\n",
              "       [-0.000e+00, -0.000e+00],\n",
              "       [-0.000e+00, -0.000e+00],\n",
              "       [-0.000e+00, -0.000e+00],\n",
              "       [-0.000e+00, -0.000e+00],\n",
              "       [-0.000e+00, -0.000e+00],\n",
              "       [-1.000e-02, -1.000e-02],\n",
              "       [-1.000e-02, -1.000e-02],\n",
              "       [-2.000e-02, -2.000e-02],\n",
              "       [-3.000e-02, -3.000e-02],\n",
              "       [-4.000e-02, -4.000e-02],\n",
              "       [-6.000e-02, -6.000e-02],\n",
              "       [-9.000e-02, -9.000e-02],\n",
              "       [-1.300e-01, -1.300e-01],\n",
              "       [-1.800e-01, -1.800e-01],\n",
              "       [-2.400e-01, -2.400e-01],\n",
              "       [-3.300e-01, -3.300e-01],\n",
              "       [-4.400e-01, -4.400e-01],\n",
              "       [-5.700e-01, -5.700e-01],\n",
              "       [-7.300e-01, -7.300e-01],\n",
              "       [-9.200e-01, -9.200e-01],\n",
              "       [-1.140e+00, -1.140e+00],\n",
              "       [-1.400e+00, -1.400e+00],\n",
              "       [-1.690e+00, -1.690e+00],\n",
              "       [-2.010e+00, -2.010e+00],\n",
              "       [-2.360e+00, -2.360e+00],\n",
              "       [-2.740e+00, -2.740e+00],\n",
              "       [-3.140e+00, -3.140e+00],\n",
              "       [-3.560e+00, -3.560e+00],\n",
              "       [-4.000e+00, -4.000e+00],\n",
              "       [-4.440e+00, -4.440e+00],\n",
              "       [-4.890e+00, -4.890e+00],\n",
              "       [-5.340e+00, -5.340e+00],\n",
              "       [-5.790e+00, -5.790e+00],\n",
              "       [-6.220e+00, -6.220e+00],\n",
              "       [-6.640e+00, -6.640e+00],\n",
              "       [-7.040e+00, -7.040e+00],\n",
              "       [-7.420e+00, -7.420e+00],\n",
              "       [-7.780e+00, -7.780e+00],\n",
              "       [-8.120e+00, -8.120e+00],\n",
              "       [-8.430e+00, -8.430e+00],\n",
              "       [-8.720e+00, -8.720e+00],\n",
              "       [-8.980e+00, -8.980e+00],\n",
              "       [-9.210e+00, -9.210e+00],\n",
              "       [-9.420e+00, -9.420e+00],\n",
              "       [-9.610e+00, -9.610e+00],\n",
              "       [-9.770e+00, -9.770e+00],\n",
              "       [-9.910e+00, -9.910e+00],\n",
              "       [-1.003e+01, -1.003e+01],\n",
              "       [-1.014e+01, -1.014e+01],\n",
              "       [-1.022e+01, -1.022e+01],\n",
              "       [-1.028e+01, -1.028e+01],\n",
              "       [-1.034e+01, -1.034e+01],\n",
              "       [-1.037e+01, -1.037e+01],\n",
              "       [-1.040e+01, -1.040e+01],\n",
              "       [-1.041e+01, -1.041e+01],\n",
              "       [-1.041e+01, -1.041e+01],\n",
              "       [-1.041e+01, -1.041e+01],\n",
              "       [-1.039e+01, -1.039e+01],\n",
              "       [-1.037e+01, -1.037e+01],\n",
              "       [-1.034e+01, -1.034e+01],\n",
              "       [-1.030e+01, -1.030e+01],\n",
              "       [-1.026e+01, -1.026e+01],\n",
              "       [-1.021e+01, -1.021e+01],\n",
              "       [-1.016e+01, -1.016e+01],\n",
              "       [-1.011e+01, -1.011e+01],\n",
              "       [-1.005e+01, -1.005e+01],\n",
              "       [-9.990e+00, -9.990e+00],\n",
              "       [-9.920e+00, -9.920e+00],\n",
              "       [-9.850e+00, -9.850e+00],\n",
              "       [-9.780e+00, -9.780e+00],\n",
              "       [-9.710e+00, -9.710e+00],\n",
              "       [-9.630e+00, -9.630e+00],\n",
              "       [-9.550e+00, -9.550e+00],\n",
              "       [-9.470e+00, -9.470e+00],\n",
              "       [-9.380e+00, -9.380e+00],\n",
              "       [-9.300e+00, -9.300e+00],\n",
              "       [-9.210e+00, -9.210e+00],\n",
              "       [-9.120e+00, -9.120e+00],\n",
              "       [-9.020e+00, -9.020e+00],\n",
              "       [-8.930e+00, -8.930e+00],\n",
              "       [-8.830e+00, -8.830e+00],\n",
              "       [-8.730e+00, -8.730e+00],\n",
              "       [-8.630e+00, -8.630e+00],\n",
              "       [-8.520e+00, -8.520e+00],\n",
              "       [-8.420e+00, -8.420e+00],\n",
              "       [-8.310e+00, -8.310e+00],\n",
              "       [-8.200e+00, -8.200e+00],\n",
              "       [-8.090e+00, -8.090e+00],\n",
              "       [-7.980e+00, -7.980e+00],\n",
              "       [-7.870e+00, -7.870e+00],\n",
              "       [-7.760e+00, -7.760e+00],\n",
              "       [-7.640e+00, -7.640e+00],\n",
              "       [-7.530e+00, -7.530e+00],\n",
              "       [-7.420e+00, -7.420e+00],\n",
              "       [-7.300e+00, -7.300e+00],\n",
              "       [-7.190e+00, -7.190e+00],\n",
              "       [-7.080e+00, -7.080e+00],\n",
              "       [-6.970e+00, -6.970e+00],\n",
              "       [-6.870e+00, -6.870e+00],\n",
              "       [-6.760e+00, -6.760e+00],\n",
              "       [-6.660e+00, -6.660e+00],\n",
              "       [-6.570e+00, -6.570e+00],\n",
              "       [-6.480e+00, -6.480e+00],\n",
              "       [-6.390e+00, -6.390e+00],\n",
              "       [-6.320e+00, -6.320e+00],\n",
              "       [-6.250e+00, -6.250e+00],\n",
              "       [-6.200e+00, -6.200e+00],\n",
              "       [-6.150e+00, -6.150e+00],\n",
              "       [-6.120e+00, -6.120e+00],\n",
              "       [-6.110e+00, -6.110e+00],\n",
              "       [-6.100e+00, -6.100e+00],\n",
              "       [-6.110e+00, -6.110e+00],\n",
              "       [-6.120e+00, -6.120e+00],\n",
              "       [-6.150e+00, -6.150e+00],\n",
              "       [-6.190e+00, -6.190e+00],\n",
              "       [-6.230e+00, -6.230e+00],\n",
              "       [-6.280e+00, -6.280e+00],\n",
              "       [-6.330e+00, -6.330e+00],\n",
              "       [-6.390e+00, -6.390e+00],\n",
              "       [-6.450e+00, -6.450e+00],\n",
              "       [-6.510e+00, -6.510e+00],\n",
              "       [-6.580e+00, -6.580e+00],\n",
              "       [-6.640e+00, -6.640e+00],\n",
              "       [-6.710e+00, -6.710e+00],\n",
              "       [-6.780e+00, -6.780e+00],\n",
              "       [-6.850e+00, -6.850e+00],\n",
              "       [-6.920e+00, -6.920e+00],\n",
              "       [-6.990e+00, -6.990e+00],\n",
              "       [-7.060e+00, -7.060e+00],\n",
              "       [-7.130e+00, -7.130e+00],\n",
              "       [-7.200e+00, -7.200e+00],\n",
              "       [-7.260e+00, -7.260e+00],\n",
              "       [-7.330e+00, -7.330e+00],\n",
              "       [-7.400e+00, -7.400e+00],\n",
              "       [-7.460e+00, -7.460e+00],\n",
              "       [-7.520e+00, -7.520e+00],\n",
              "       [-7.590e+00, -7.590e+00],\n",
              "       [-7.650e+00, -7.650e+00],\n",
              "       [-7.710e+00, -7.710e+00],\n",
              "       [-7.770e+00, -7.770e+00],\n",
              "       [-7.830e+00, -7.830e+00],\n",
              "       [-7.880e+00, -7.880e+00],\n",
              "       [-7.940e+00, -7.940e+00],\n",
              "       [-7.990e+00, -7.990e+00],\n",
              "       [-8.040e+00, -8.040e+00],\n",
              "       [-8.090e+00, -8.090e+00],\n",
              "       [-8.140e+00, -8.140e+00],\n",
              "       [-8.190e+00, -8.190e+00],\n",
              "       [-8.240e+00, -8.240e+00],\n",
              "       [-8.280e+00, -8.280e+00],\n",
              "       [-8.330e+00, -8.330e+00],\n",
              "       [-8.370e+00, -8.370e+00],\n",
              "       [-8.410e+00, -8.410e+00],\n",
              "       [-8.450e+00, -8.450e+00],\n",
              "       [-8.490e+00, -8.490e+00],\n",
              "       [-8.520e+00, -8.520e+00],\n",
              "       [-8.560e+00, -8.560e+00],\n",
              "       [-8.590e+00, -8.590e+00],\n",
              "       [-8.620e+00, -8.620e+00],\n",
              "       [-8.660e+00, -8.660e+00],\n",
              "       [-8.680e+00, -8.680e+00],\n",
              "       [-8.710e+00, -8.710e+00],\n",
              "       [-8.740e+00, -8.740e+00],\n",
              "       [-8.770e+00, -8.770e+00],\n",
              "       [-8.790e+00, -8.790e+00],\n",
              "       [-8.810e+00, -8.810e+00],\n",
              "       [-8.830e+00, -8.830e+00],\n",
              "       [-8.850e+00, -8.850e+00],\n",
              "       [-8.870e+00, -8.870e+00],\n",
              "       [-8.890e+00, -8.890e+00],\n",
              "       [-8.910e+00, -8.910e+00],\n",
              "       [-8.930e+00, -8.930e+00],\n",
              "       [-8.940e+00, -8.940e+00],\n",
              "       [-8.950e+00, -8.950e+00],\n",
              "       [-8.970e+00, -8.970e+00],\n",
              "       [-8.980e+00, -8.980e+00],\n",
              "       [-8.990e+00, -8.990e+00],\n",
              "       [-9.000e+00, -9.000e+00],\n",
              "       [-9.020e+00, -9.020e+00],\n",
              "       [-9.030e+00, -9.030e+00],\n",
              "       [-9.040e+00, -9.040e+00],\n",
              "       [-9.050e+00, -9.050e+00],\n",
              "       [-9.060e+00, -9.060e+00],\n",
              "       [-9.070e+00, -9.070e+00],\n",
              "       [-9.080e+00, -9.080e+00],\n",
              "       [-9.090e+00, -9.090e+00],\n",
              "       [-9.110e+00, -9.110e+00],\n",
              "       [-9.120e+00, -9.120e+00],\n",
              "       [-9.130e+00, -9.130e+00],\n",
              "       [-9.150e+00, -9.150e+00],\n",
              "       [-9.160e+00, -9.160e+00],\n",
              "       [-9.180e+00, -9.180e+00],\n",
              "       [-9.200e+00, -9.200e+00],\n",
              "       [-9.220e+00, -9.220e+00],\n",
              "       [-9.240e+00, -9.240e+00],\n",
              "       [-9.260e+00, -9.260e+00],\n",
              "       [-9.280e+00, -9.280e+00],\n",
              "       [-9.310e+00, -9.310e+00],\n",
              "       [-9.330e+00, -9.330e+00],\n",
              "       [-9.360e+00, -9.360e+00],\n",
              "       [-9.390e+00, -9.390e+00],\n",
              "       [-9.420e+00, -9.420e+00],\n",
              "       [-9.460e+00, -9.460e+00],\n",
              "       [-9.490e+00, -9.490e+00],\n",
              "       [-9.530e+00, -9.530e+00],\n",
              "       [-9.570e+00, -9.570e+00],\n",
              "       [-9.610e+00, -9.610e+00],\n",
              "       [-9.650e+00, -9.650e+00],\n",
              "       [-9.690e+00, -9.690e+00],\n",
              "       [-9.740e+00, -9.740e+00],\n",
              "       [-9.780e+00, -9.780e+00],\n",
              "       [-9.830e+00, -9.830e+00],\n",
              "       [-9.880e+00, -9.880e+00],\n",
              "       [-9.930e+00, -9.930e+00],\n",
              "       [-9.980e+00, -9.980e+00],\n",
              "       [-1.003e+01, -1.003e+01],\n",
              "       [-1.008e+01, -1.008e+01],\n",
              "       [-1.014e+01, -1.014e+01],\n",
              "       [-1.019e+01, -1.019e+01],\n",
              "       [-1.024e+01, -1.024e+01],\n",
              "       [-1.029e+01, -1.029e+01],\n",
              "       [-1.034e+01, -1.034e+01],\n",
              "       [-1.039e+01, -1.039e+01],\n",
              "       [-1.044e+01, -1.044e+01],\n",
              "       [-1.049e+01, -1.049e+01],\n",
              "       [-1.053e+01, -1.053e+01],\n",
              "       [-1.057e+01, -1.057e+01],\n",
              "       [-1.060e+01, -1.060e+01],\n",
              "       [-1.063e+01, -1.063e+01],\n",
              "       [-1.065e+01, -1.065e+01],\n",
              "       [-1.066e+01, -1.066e+01],\n",
              "       [-1.065e+01, -1.065e+01],\n",
              "       [-1.064e+01, -1.064e+01],\n",
              "       [-1.060e+01, -1.060e+01],\n",
              "       [-1.055e+01, -1.055e+01],\n",
              "       [-1.047e+01, -1.047e+01],\n",
              "       [-1.035e+01, -1.035e+01],\n",
              "       [-1.020e+01, -1.020e+01],\n",
              "       [-1.000e+01, -1.000e+01],\n",
              "       [-9.760e+00, -9.760e+00],\n",
              "       [-9.460e+00, -9.460e+00],\n",
              "       [-9.100e+00, -9.100e+00],\n",
              "       [-8.670e+00, -8.670e+00],\n",
              "       [-8.190e+00, -8.190e+00],\n",
              "       [-7.650e+00, -7.650e+00],\n",
              "       [-7.050e+00, -7.050e+00],\n",
              "       [-6.420e+00, -6.420e+00],\n",
              "       [-5.750e+00, -5.750e+00],\n",
              "       [-5.080e+00, -5.080e+00],\n",
              "       [-4.410e+00, -4.410e+00],\n",
              "       [-3.760e+00, -3.760e+00],\n",
              "       [-3.150e+00, -3.150e+00],\n",
              "       [-2.590e+00, -2.590e+00],\n",
              "       [-2.090e+00, -2.090e+00],\n",
              "       [-1.660e+00, -1.660e+00],\n",
              "       [-1.290e+00, -1.290e+00],\n",
              "       [-9.900e-01, -9.900e-01],\n",
              "       [-7.400e-01, -7.400e-01],\n",
              "       [-5.500e-01, -5.500e-01],\n",
              "       [-4.000e-01, -4.000e-01],\n",
              "       [-2.900e-01, -2.900e-01],\n",
              "       [-2.100e-01, -2.100e-01],\n",
              "       [-1.500e-01, -1.500e-01],\n",
              "       [-1.000e-01, -1.000e-01],\n",
              "       [-7.000e-02, -7.000e-02],\n",
              "       [-5.000e-02, -5.000e-02],\n",
              "       [-3.000e-02, -3.000e-02],\n",
              "       [-2.000e-02, -2.000e-02],\n",
              "       [-2.000e-02, -2.000e-02],\n",
              "       [-1.000e-02, -1.000e-02],\n",
              "       [-1.000e-02, -1.000e-02],\n",
              "       [-1.000e-02, -1.000e-02],\n",
              "       [-0.000e+00, -0.000e+00],\n",
              "       [-0.000e+00, -0.000e+00],\n",
              "       [-0.000e+00, -0.000e+00],\n",
              "       [-0.000e+00, -0.000e+00],\n",
              "       [-0.000e+00, -0.000e+00],\n",
              "       [-0.000e+00, -0.000e+00],\n",
              "       [-0.000e+00, -0.000e+00],\n",
              "       [-0.000e+00, -0.000e+00],\n",
              "       [-0.000e+00, -0.000e+00],\n",
              "       [-0.000e+00, -0.000e+00],\n",
              "       [-0.000e+00, -0.000e+00],\n",
              "       [-0.000e+00, -0.000e+00],\n",
              "       [-0.000e+00, -0.000e+00],\n",
              "       [-0.000e+00, -0.000e+00],\n",
              "       [-0.000e+00, -0.000e+00],\n",
              "       [-0.000e+00, -0.000e+00],\n",
              "       [-0.000e+00, -0.000e+00],\n",
              "       [-1.000e-02, -1.000e-02],\n",
              "       [-1.000e-02, -1.000e-02],\n",
              "       [-1.000e-02, -1.000e-02],\n",
              "       [-1.000e-02, -1.000e-02],\n",
              "       [-2.000e-02, -2.000e-02],\n",
              "       [-3.000e-02, -3.000e-02],\n",
              "       [-4.000e-02, -4.000e-02],\n",
              "       [-5.000e-02, -5.000e-02],\n",
              "       [-7.000e-02, -7.000e-02],\n",
              "       [-1.000e-01, -1.000e-01],\n",
              "       [-1.400e-01, -1.400e-01],\n",
              "       [-1.900e-01, -1.900e-01],\n",
              "       [-2.600e-01, -2.600e-01],\n",
              "       [-3.400e-01, -3.400e-01],\n",
              "       [-4.600e-01, -4.600e-01],\n",
              "       [-6.000e-01, -6.000e-01],\n",
              "       [-7.800e-01, -7.800e-01],\n",
              "       [-1.000e+00, -1.000e+00],\n",
              "       [-1.270e+00, -1.270e+00],\n",
              "       [-1.570e+00, -1.570e+00],\n",
              "       [-1.930e+00, -1.930e+00],\n",
              "       [-2.330e+00, -2.330e+00],\n",
              "       [-2.770e+00, -2.770e+00],\n",
              "       [-3.250e+00, -3.250e+00],\n",
              "       [-3.760e+00, -3.760e+00],\n",
              "       [-4.300e+00, -4.300e+00],\n",
              "       [-4.850e+00, -4.850e+00],\n",
              "       [-5.410e+00, -5.410e+00],\n",
              "       [-5.980e+00, -5.980e+00],\n",
              "       [-6.530e+00, -6.530e+00],\n",
              "       [-7.070e+00, -7.070e+00],\n",
              "       [-7.580e+00, -7.580e+00],\n",
              "       [-8.080e+00, -8.080e+00],\n",
              "       [-8.540e+00, -8.540e+00],\n",
              "       [-8.970e+00, -8.970e+00],\n",
              "       [-9.360e+00, -9.360e+00],\n",
              "       [-9.730e+00, -9.730e+00],\n",
              "       [-1.006e+01, -1.006e+01],\n",
              "       [-1.036e+01, -1.036e+01],\n",
              "       [-1.063e+01, -1.063e+01],\n",
              "       [-1.087e+01, -1.087e+01],\n",
              "       [-1.108e+01, -1.108e+01],\n",
              "       [-1.126e+01, -1.126e+01],\n",
              "       [-1.143e+01, -1.143e+01],\n",
              "       [-1.157e+01, -1.157e+01],\n",
              "       [-1.169e+01, -1.169e+01],\n",
              "       [-1.179e+01, -1.179e+01],\n",
              "       [-1.187e+01, -1.187e+01],\n",
              "       [-1.193e+01, -1.193e+01],\n",
              "       [-1.197e+01, -1.197e+01],\n",
              "       [-1.200e+01, -1.200e+01],\n",
              "       [-1.201e+01, -1.201e+01],\n",
              "       [-1.200e+01, -1.200e+01],\n",
              "       [-1.196e+01, -1.196e+01],\n",
              "       [-1.191e+01, -1.191e+01],\n",
              "       [-1.183e+01, -1.183e+01],\n",
              "       [-1.173e+01, -1.173e+01],\n",
              "       [-1.160e+01, -1.160e+01],\n",
              "       [-1.143e+01, -1.143e+01],\n",
              "       [-1.123e+01, -1.123e+01],\n",
              "       [-1.100e+01, -1.100e+01],\n",
              "       [-1.072e+01, -1.072e+01],\n",
              "       [-1.040e+01, -1.040e+01],\n",
              "       [-1.003e+01, -1.003e+01],\n",
              "       [-9.610e+00, -9.610e+00],\n",
              "       [-9.150e+00, -9.150e+00],\n",
              "       [-8.630e+00, -8.630e+00],\n",
              "       [-8.070e+00, -8.070e+00],\n",
              "       [-7.460e+00, -7.460e+00],\n",
              "       [-6.820e+00, -6.820e+00],\n",
              "       [-6.160e+00, -6.160e+00],\n",
              "       [-5.480e+00, -5.480e+00],\n",
              "       [-4.790e+00, -4.790e+00],\n",
              "       [-4.120e+00, -4.120e+00],\n",
              "       [-3.480e+00, -3.480e+00],\n",
              "       [-2.880e+00, -2.880e+00],\n",
              "       [-2.330e+00, -2.330e+00],\n",
              "       [-1.840e+00, -1.840e+00],\n",
              "       [-1.410e+00, -1.410e+00],\n",
              "       [-1.060e+00, -1.060e+00],\n",
              "       [-7.700e-01, -7.700e-01],\n",
              "       [-5.400e-01, -5.400e-01],\n",
              "       [-3.700e-01, -3.700e-01],\n",
              "       [-2.500e-01, -2.500e-01],\n",
              "       [-1.600e-01, -1.600e-01],\n",
              "       [-1.000e-01, -1.000e-01],\n",
              "       [-6.000e-02, -6.000e-02],\n",
              "       [-3.000e-02, -3.000e-02],\n",
              "       [-2.000e-02, -2.000e-02],\n",
              "       [-1.000e-02, -1.000e-02],\n",
              "       [-1.000e-02, -1.000e-02],\n",
              "       [-0.000e+00, -0.000e+00],\n",
              "       [-0.000e+00, -0.000e+00],\n",
              "       [-0.000e+00, -0.000e+00],\n",
              "       [-0.000e+00, -0.000e+00],\n",
              "       [-0.000e+00, -0.000e+00],\n",
              "       [-0.000e+00, -0.000e+00],\n",
              "       [-0.000e+00, -0.000e+00],\n",
              "       [-0.000e+00, -0.000e+00],\n",
              "       [-0.000e+00, -0.000e+00],\n",
              "       [-0.000e+00, -0.000e+00],\n",
              "       [-0.000e+00, -0.000e+00],\n",
              "       [-0.000e+00, -0.000e+00],\n",
              "       [-0.000e+00, -0.000e+00],\n",
              "       [-0.000e+00, -0.000e+00],\n",
              "       [-0.000e+00, -0.000e+00],\n",
              "       [-0.000e+00, -0.000e+00],\n",
              "       [-0.000e+00, -0.000e+00],\n",
              "       [-0.000e+00, -0.000e+00],\n",
              "       [-0.000e+00, -0.000e+00],\n",
              "       [-0.000e+00, -0.000e+00],\n",
              "       [-0.000e+00, -0.000e+00],\n",
              "       [-0.000e+00, -0.000e+00],\n",
              "       [-0.000e+00, -0.000e+00],\n",
              "       [-0.000e+00, -0.000e+00],\n",
              "       [-0.000e+00, -0.000e+00],\n",
              "       [-0.000e+00, -0.000e+00],\n",
              "       [-0.000e+00, -0.000e+00],\n",
              "       [-0.000e+00, -0.000e+00],\n",
              "       [-0.000e+00, -0.000e+00],\n",
              "       [-0.000e+00, -0.000e+00],\n",
              "       [-0.000e+00, -0.000e+00],\n",
              "       [-0.000e+00, -0.000e+00],\n",
              "       [-0.000e+00, -0.000e+00],\n",
              "       [-0.000e+00, -0.000e+00],\n",
              "       [-0.000e+00, -0.000e+00]])"
            ]
          },
          "metadata": {
            "tags": []
          },
          "execution_count": 106
        }
      ]
    },
    {
      "cell_type": "code",
      "metadata": {
        "colab": {
          "base_uri": "https://localhost:8080/"
        },
        "id": "XqTGdfPNFa5l",
        "outputId": "4f16d35b-ae6f-4fb8-b9ec-e67d89dd2668"
      },
      "source": [
        "np.mean(exact_1.acqfunc(x_test)[1])\n"
      ],
      "execution_count": 111,
      "outputs": [
        {
          "output_type": "execute_result",
          "data": {
            "text/plain": [
              "-5.317734220086665"
            ]
          },
          "metadata": {
            "tags": []
          },
          "execution_count": 111
        }
      ]
    },
    {
      "cell_type": "code",
      "metadata": {
        "id": "9wF57_LwtK97"
      },
      "source": [
        ""
      ],
      "execution_count": null,
      "outputs": []
    }
  ]
}