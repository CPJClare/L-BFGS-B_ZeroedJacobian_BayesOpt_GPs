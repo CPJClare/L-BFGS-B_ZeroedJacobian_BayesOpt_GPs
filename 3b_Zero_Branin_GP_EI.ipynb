{
  "nbformat": 4,
  "nbformat_minor": 0,
  "metadata": {
    "colab": {
      "name": "3b. Zero_Branin_GP_EI.ipynb",
      "provenance": [],
      "collapsed_sections": []
    },
    "kernelspec": {
      "name": "python3",
      "display_name": "Python 3"
    },
    "language_info": {
      "name": "python"
    }
  },
  "cells": [
    {
      "cell_type": "markdown",
      "metadata": {
        "id": "Dqn4dFx7Z2Ir"
      },
      "source": [
        "\n",
        "Branin:\n",
        "\n",
        "GP EI: zero versus exact partial-order GP EI derivatives wrt **x1**, **x2**"
      ]
    },
    {
      "cell_type": "code",
      "metadata": {
        "id": "MJTM_GZZZb5x",
        "colab": {
          "base_uri": "https://localhost:8080/"
        },
        "outputId": "002c7556-f967-4920-92a7-c0574c279635"
      },
      "source": [
        "pip install pyGPGO\n"
      ],
      "execution_count": 1,
      "outputs": [
        {
          "output_type": "stream",
          "text": [
            "Collecting pyGPGO\n",
            "  Downloading pyGPGO-0.5.1.tar.gz (14 kB)\n",
            "Requirement already satisfied: numpy in /usr/local/lib/python3.7/dist-packages (from pyGPGO) (1.19.5)\n",
            "Requirement already satisfied: mkl in /usr/local/lib/python3.7/dist-packages (from pyGPGO) (2019.0)\n",
            "Requirement already satisfied: scipy in /usr/local/lib/python3.7/dist-packages (from pyGPGO) (1.4.1)\n",
            "Requirement already satisfied: joblib in /usr/local/lib/python3.7/dist-packages (from pyGPGO) (1.0.1)\n",
            "Requirement already satisfied: scikit-learn in /usr/local/lib/python3.7/dist-packages (from pyGPGO) (0.22.2.post1)\n",
            "Requirement already satisfied: Theano-PyMC in /usr/local/lib/python3.7/dist-packages (from pyGPGO) (1.1.2)\n",
            "Requirement already satisfied: pyMC3 in /usr/local/lib/python3.7/dist-packages (from pyGPGO) (3.11.2)\n",
            "Requirement already satisfied: intel-openmp in /usr/local/lib/python3.7/dist-packages (from mkl->pyGPGO) (2021.3.0)\n",
            "Requirement already satisfied: pandas>=0.24.0 in /usr/local/lib/python3.7/dist-packages (from pyMC3->pyGPGO) (1.1.5)\n",
            "Requirement already satisfied: typing-extensions>=3.7.4 in /usr/local/lib/python3.7/dist-packages (from pyMC3->pyGPGO) (3.7.4.3)\n",
            "Requirement already satisfied: semver in /usr/local/lib/python3.7/dist-packages (from pyMC3->pyGPGO) (2.13.0)\n",
            "Requirement already satisfied: cachetools>=4.2.1 in /usr/local/lib/python3.7/dist-packages (from pyMC3->pyGPGO) (4.2.2)\n",
            "Requirement already satisfied: patsy>=0.5.1 in /usr/local/lib/python3.7/dist-packages (from pyMC3->pyGPGO) (0.5.1)\n",
            "Requirement already satisfied: dill in /usr/local/lib/python3.7/dist-packages (from pyMC3->pyGPGO) (0.3.4)\n",
            "Requirement already satisfied: arviz>=0.11.0 in /usr/local/lib/python3.7/dist-packages (from pyMC3->pyGPGO) (0.11.2)\n",
            "Requirement already satisfied: fastprogress>=0.2.0 in /usr/local/lib/python3.7/dist-packages (from pyMC3->pyGPGO) (1.0.0)\n",
            "Requirement already satisfied: filelock in /usr/local/lib/python3.7/dist-packages (from Theano-PyMC->pyGPGO) (3.0.12)\n",
            "Requirement already satisfied: packaging in /usr/local/lib/python3.7/dist-packages (from arviz>=0.11.0->pyMC3->pyGPGO) (21.0)\n",
            "Requirement already satisfied: xarray>=0.16.1 in /usr/local/lib/python3.7/dist-packages (from arviz>=0.11.0->pyMC3->pyGPGO) (0.18.2)\n",
            "Requirement already satisfied: matplotlib>=3.0 in /usr/local/lib/python3.7/dist-packages (from arviz>=0.11.0->pyMC3->pyGPGO) (3.2.2)\n",
            "Requirement already satisfied: netcdf4 in /usr/local/lib/python3.7/dist-packages (from arviz>=0.11.0->pyMC3->pyGPGO) (1.5.7)\n",
            "Requirement already satisfied: setuptools>=38.4 in /usr/local/lib/python3.7/dist-packages (from arviz>=0.11.0->pyMC3->pyGPGO) (57.4.0)\n",
            "Requirement already satisfied: cycler>=0.10 in /usr/local/lib/python3.7/dist-packages (from matplotlib>=3.0->arviz>=0.11.0->pyMC3->pyGPGO) (0.10.0)\n",
            "Requirement already satisfied: kiwisolver>=1.0.1 in /usr/local/lib/python3.7/dist-packages (from matplotlib>=3.0->arviz>=0.11.0->pyMC3->pyGPGO) (1.3.1)\n",
            "Requirement already satisfied: python-dateutil>=2.1 in /usr/local/lib/python3.7/dist-packages (from matplotlib>=3.0->arviz>=0.11.0->pyMC3->pyGPGO) (2.8.2)\n",
            "Requirement already satisfied: pyparsing!=2.0.4,!=2.1.2,!=2.1.6,>=2.0.1 in /usr/local/lib/python3.7/dist-packages (from matplotlib>=3.0->arviz>=0.11.0->pyMC3->pyGPGO) (2.4.7)\n",
            "Requirement already satisfied: six in /usr/local/lib/python3.7/dist-packages (from cycler>=0.10->matplotlib>=3.0->arviz>=0.11.0->pyMC3->pyGPGO) (1.15.0)\n",
            "Requirement already satisfied: pytz>=2017.2 in /usr/local/lib/python3.7/dist-packages (from pandas>=0.24.0->pyMC3->pyGPGO) (2018.9)\n",
            "Requirement already satisfied: cftime in /usr/local/lib/python3.7/dist-packages (from netcdf4->arviz>=0.11.0->pyMC3->pyGPGO) (1.5.0)\n",
            "Building wheels for collected packages: pyGPGO\n",
            "  Building wheel for pyGPGO (setup.py) ... \u001b[?25l\u001b[?25hdone\n",
            "  Created wheel for pyGPGO: filename=pyGPGO-0.5.1-py3-none-any.whl size=19880 sha256=e3433e7aead919c73281bee27688d79bd79c9d6bfd8987a0bd9a23dd892f2d34\n",
            "  Stored in directory: /root/.cache/pip/wheels/c8/5d/0b/2160114e2f1b87791c51b66cf07f89831dbb6f49167950316f\n",
            "Successfully built pyGPGO\n",
            "Installing collected packages: pyGPGO\n",
            "Successfully installed pyGPGO-0.5.1\n"
          ],
          "name": "stdout"
        }
      ]
    },
    {
      "cell_type": "code",
      "metadata": {
        "id": "ZJSSPbwPaEUB"
      },
      "source": [
        "### Import:\n",
        "\n",
        "import numpy as np\n",
        "import scipy as sp\n",
        "import pandas as pd\n",
        "import matplotlib.pyplot as plt\n",
        "import warnings\n",
        "import itertools\n",
        "\n",
        "from pyGPGO.GPGO import GPGO\n",
        "from pyGPGO.surrogates.GaussianProcess import GaussianProcess\n",
        "from pyGPGO.acquisition import Acquisition\n",
        "from pyGPGO.covfunc import squaredExponential\n",
        "\n",
        "from joblib import Parallel, delayed\n",
        "from numpy.linalg import solve, cholesky\n",
        "from scipy.spatial.distance import cdist\n",
        "from scipy.optimize import minimize\n",
        "from scipy.stats import norm\n",
        "import time\n",
        "\n",
        "warnings.filterwarnings(\"ignore\", category=RuntimeWarning)\n"
      ],
      "execution_count": 2,
      "outputs": []
    },
    {
      "cell_type": "code",
      "metadata": {
        "id": "eYpI3Zm4aGxi"
      },
      "source": [
        "n_start_AcqFunc = 100 #multi-start iterations to avoid local optima in AcqFunc optimization\n"
      ],
      "execution_count": 3,
      "outputs": []
    },
    {
      "cell_type": "code",
      "metadata": {
        "id": "OeYcTUNoaJWa"
      },
      "source": [
        "### Inputs:\n",
        "\n",
        "func = 'Branin'\n",
        "n_test = 500\n",
        "eps = 1e-08\n",
        "\n",
        "util_grad_zero = 'dEI_GP'\n",
        "util_grad_exact = 'dEI_GP'\n",
        "\n",
        "n_init = 5 # random initialisations\n",
        "iters = 20\n",
        "opt = True"
      ],
      "execution_count": 4,
      "outputs": []
    },
    {
      "cell_type": "code",
      "metadata": {
        "id": "xpaEOjdzaPMS"
      },
      "source": [
        "### Objective Function - Branin(x) 2-D:\n",
        "\n",
        "def objfunc(x1_training, x2_training, a = 1, b = (5.1 / (4 * (np.pi) ** 2)), c = (5 / (np.pi)), r = 6, s = 10, t = (1 / (8 * np.pi))):\n",
        "        return operator * ((a * (x2_training - b * x1_training ** 2 + c * x1_training - r) ** 2) + \n",
        "                 s * (1 - t) * np.cos(x1_training) + s)\n",
        "        \n",
        "# Constraints:\n",
        "lb_x1 = -5 \n",
        "ub_x1 = +10\n",
        "lb_x2 = +0 \n",
        "ub_x2 = +15\n",
        "\n",
        "# Input array dimension(s):\n",
        "dim = 2\n",
        "\n",
        "# 2-D inputs' parameter bounds:\n",
        "param = {'x1_training': ('cont', [lb_x1, ub_x1]),\n",
        "             'x2_training': ('cont', [lb_x2, ub_x2])}\n",
        "\n",
        "# True y bounds:\n",
        "operator = -1\n",
        "y_lb = 0.397887 # targets global minimum\n",
        "y_global_orig = y_lb * operator # targets global minimum\n",
        "\n",
        "\n",
        "# Test data:\n",
        "x1_test = np.linspace(lb_x1, ub_x1, n_test)\n",
        "x2_test = np.linspace(lb_x2, ub_x2, n_test)\n",
        "  \n",
        "x_test = np.column_stack((x1_test,x2_test))\n"
      ],
      "execution_count": 5,
      "outputs": []
    },
    {
      "cell_type": "code",
      "metadata": {
        "id": "oO_GUmOoaV0T"
      },
      "source": [
        "### Cumulative Regret Calculator:\n",
        "\n",
        "def min_max_array(x):\n",
        "    new_list = []\n",
        "    for i, num in enumerate(x):\n",
        "            new_list.append(np.min(x[0:i+1]))\n",
        "    return new_list\n",
        "  "
      ],
      "execution_count": 6,
      "outputs": []
    },
    {
      "cell_type": "code",
      "metadata": {
        "id": "kuuJx0IMam9S"
      },
      "source": [
        "### Surrogate derivatives: \n",
        "\n",
        "cov_func = squaredExponential()\n",
        "\n",
        "def kronDelta(X, Xstar):\n",
        "    return cdist(X, Xstar) < np.finfo(np.float32).eps\n",
        "\n",
        "def se(X, Xstar, sigmaf, l, sigman):\n",
        "    return sigmaf * np.exp(-0.5 * cdist(X, Xstar) ** 2 / l ** 2) + sigman * kronDelta(X, Xstar)\n",
        "\n",
        "def deriv_se(X, Xstar, sigmaf, l, sigman):\n",
        "    return cdist(X, Xstar) / (l ** 2) * se(X, Xstar, sigmaf, l, sigman)\n",
        "\n",
        "def der_covmat(X, Xstar, sigmaf, l, sigman):\n",
        "      nx = len(X)\n",
        "      ny = len(Xstar)\n",
        "      return np.round(np.array([deriv_se(np.atleast_2d(i), np.atleast_2d(j), sigmaf, l, sigman) for (i, j) in itertools.product(X, Xstar)]).reshape(nx, ny), 8)\n",
        "\n",
        "class dGaussianProcess(GaussianProcess):\n",
        "    l = GaussianProcess(cov_func, optimize=opt).getcovparams()['l']\n",
        "    sigmaf = GaussianProcess(cov_func, optimize=opt).getcovparams()['sigmaf']\n",
        "    sigman = GaussianProcess(cov_func, optimize=opt).getcovparams()['sigman']\n",
        "\n",
        "    def AcqGrad(self, Xstar):\n",
        "        Xstar = np.atleast_2d(Xstar)\n",
        "        Kstar = self.covfunc.K(self.X, Xstar).T\n",
        "        dKstar = der_covmat(self.X, Xstar, self.sigmaf, self.l, self.sigman).T\n",
        "        \n",
        "        alpha_Kstar = np.dot(np.linalg.inv(self.K + (self.sigman**2) * np.eye(len(self.X))), Kstar.T)\n",
        "        \n",
        "        dm = np.dot(-dKstar, self.alpha)\n",
        "        ds = -2 * np.dot(-dKstar, alpha_Kstar)\n",
        "        \n",
        "        return dm, ds\n",
        "        "
      ],
      "execution_count": 7,
      "outputs": []
    },
    {
      "cell_type": "code",
      "metadata": {
        "id": "_Dc3YVHVaXz7"
      },
      "source": [
        "class Acquisition_new(Acquisition):    \n",
        "    def __init__(self, mode, eps=eps, **params):\n",
        "        \n",
        "        self.params = params\n",
        "        self.eps = eps\n",
        "\n",
        "        mode_dict = {\n",
        "            'dEI_GP': self.dEI_GP\n",
        "        }\n",
        "\n",
        "        self.f = mode_dict[mode]\n",
        "    \n",
        "    def dEI_GP(self, tau, mean, std, ds, dm):\n",
        "        gamma = (mean - tau - self.eps) / (std + self.eps)\n",
        "        gamma_h = (mean - tau) / (std + self.eps)\n",
        "        dsdx = ds / (2 * (std + self.eps))\n",
        "        dmdx = (dm - gamma * dsdx) / (std + self.eps)\n",
        "        \n",
        "        f = (std + self.eps) * (gamma * norm.cdf(gamma) + norm.pdf(gamma))\n",
        "        df1 = f / (std + self.eps) * dsdx \n",
        "        df2 = (std + self.eps) * norm.cdf(gamma) * dmdx\n",
        "        df = (df1 + df2)[0]\n",
        "        df_arr = []\n",
        "\n",
        "        for j in range(0, dim):\n",
        "          df_arr.append(df)\n",
        "        return f, np.asarray(df_arr).transpose()\n",
        "        \n",
        "    def d_eval(self, tau, mean, std, ds, dm):\n",
        "    \n",
        "        return self.f(tau, mean, std, ds, dm, **self.params)\n",
        "        "
      ],
      "execution_count": 8,
      "outputs": []
    },
    {
      "cell_type": "code",
      "metadata": {
        "id": "YAc1Yu71aosi"
      },
      "source": [
        "## dGPGO_zero:\n",
        "\n",
        "zero_grad = 0\n",
        "\n",
        "class dGPGO_zero(GPGO):  \n",
        "    n_start = n_start_AcqFunc\n",
        "\n",
        "    def d_optimizeAcq(self, method='L-BFGS-B', n_start=n_start_AcqFunc):\n",
        "        start_points_dict = [self._sampleParam() for i in range(n_start)]\n",
        "        start_points_arr = np.array([list(s.values())\n",
        "                                     for s in start_points_dict])\n",
        "        x_best = np.empty((n_start, len(self.parameter_key)))\n",
        "        f_best = np.empty((n_start,))\n",
        "        opt = Parallel(n_jobs=self.n_jobs)(delayed(minimize)(self.acqfunc,\n",
        "                                                                 x0=start_point,\n",
        "                                                                 method=method,\n",
        "                                                                 jac = True,\n",
        "                                                                 bounds=self.parameter_range) for start_point in\n",
        "                                               start_points_arr)\n",
        "        x_best = np.array([res.x for res in opt])\n",
        "        f_best = np.array([np.atleast_1d(res.fun)[0] for res in opt])\n",
        "\n",
        "        self.x_best = x_best\n",
        "        self.f_best = f_best\n",
        "        self.best = x_best[np.argmin(f_best)]\n",
        "        self.start_points_arr = start_points_arr\n",
        "\n",
        "        return x_best, f_best\n",
        "    \n",
        "    def run(self, max_iter=10, init_evals=3, resume=False):\n",
        "        \n",
        "        if not resume:\n",
        "            self.init_evals = init_evals\n",
        "            self._firstRun(self.init_evals)\n",
        "            self.logger._printInit(self)\n",
        "        for iteration in range(max_iter):\n",
        "            self.d_optimizeAcq()\n",
        "            self.updateGP()\n",
        "            self.logger._printCurrent(self)\n",
        "\n",
        "    def acqfunc(self, xnew, n_start=n_start_AcqFunc):\n",
        "        new_mean, new_var = self.GP.predict(xnew, return_std=True)\n",
        "        new_std = np.sqrt(new_var + eps)\n",
        "        dm, ds = self.GP.AcqGrad(xnew)\n",
        "        f, df = self.A.d_eval(self.tau, new_mean, new_std, ds=ds, dm=dm)\n",
        "\n",
        "        return -f, -df * zero_grad\n",
        "\n",
        "    def acqfunc_h(self, xnew, n_start=n_start_AcqFunc, eps=eps):\n",
        "        f = self.acqfunc(xnew)[0]\n",
        "        \n",
        "        new_mean_h, new_var_h = self.GP.predict(xnew + eps, return_std=True)\n",
        "        new_std_h = np.sqrt(new_var_h + eps)\n",
        "        dm_h, ds_h = self.GP.AcqGrad(xnew + eps)\n",
        "        f_h = self.A.d_eval(-self.tau, new_mean_h, new_std_h, ds=ds_h, dm=dm_h)[0]\n",
        "        \n",
        "        exact_grad = (-f_h - f)/eps\n",
        "        return exact_grad\n"
      ],
      "execution_count": 9,
      "outputs": []
    },
    {
      "cell_type": "code",
      "metadata": {
        "id": "b_B-w81BJxKN"
      },
      "source": [
        "## dGPGO:\n",
        "\n",
        "grad = 1\n",
        "\n",
        "class dGPGO(GPGO):\n",
        "    n_start = n_start_AcqFunc\n",
        "\n",
        "    def d_optimizeAcq(self, method='L-BFGS-B', n_start=n_start_AcqFunc):\n",
        "        start_points_dict = [self._sampleParam() for i in range(n_start)]\n",
        "        start_points_arr = np.array([list(s.values())\n",
        "                                     for s in start_points_dict])\n",
        "        x_best = np.empty((n_start, len(self.parameter_key)))\n",
        "        f_best = np.empty((n_start,))\n",
        "        opt = Parallel(n_jobs=self.n_jobs)(delayed(minimize)(self.acqfunc,\n",
        "                                                                 x0=start_point,\n",
        "                                                                 method=method,\n",
        "                                                                 jac = True,\n",
        "                                                                 bounds=self.parameter_range) for start_point in\n",
        "                                               start_points_arr)\n",
        "        x_best = np.array([res.x for res in opt])\n",
        "        f_best = np.array([np.atleast_1d(res.fun)[0] for res in opt])\n",
        "\n",
        "        self.x_best = x_best\n",
        "        self.f_best = f_best\n",
        "        self.best = x_best[np.argmin(f_best)]\n",
        "        self.start_points_arr = start_points_arr\n",
        "\n",
        "        return x_best, f_best\n",
        "    \n",
        "    def run(self, max_iter=10, init_evals=3, resume=False):\n",
        "        \n",
        "        if not resume:\n",
        "            self.init_evals = init_evals\n",
        "            self._firstRun(self.init_evals)\n",
        "            self.logger._printInit(self)\n",
        "        for iteration in range(max_iter):\n",
        "            self.d_optimizeAcq()\n",
        "            self.updateGP()\n",
        "            self.logger._printCurrent(self)\n",
        "\n",
        "    def acqfunc(self, xnew, n_start=n_start_AcqFunc):\n",
        "        new_mean, new_var = self.GP.predict(xnew, return_std=True)\n",
        "        new_std = np.sqrt(new_var + eps)\n",
        "        dm, ds = self.GP.AcqGrad(xnew)\n",
        "        f, df = self.A.d_eval(self.tau, new_mean, new_std, ds=ds, dm=dm)\n",
        "\n",
        "        return -f, -df * grad\n",
        "\n",
        "    def acqfunc_h(self, xnew, n_start=n_start_AcqFunc, eps=eps):\n",
        "        f = self.acqfunc(xnew)[0]\n",
        "        \n",
        "        new_mean_h, new_var_h = self.GP.predict(xnew + eps, return_std=True)\n",
        "        new_std_h = np.sqrt(new_var_h + eps)\n",
        "        dm_h, ds_h = self.GP.AcqGrad(xnew + eps)\n",
        "        f_h = self.A.d_eval(-self.tau, new_mean_h, new_std_h, ds=ds_h, dm=dm_h)[0]\n",
        "        \n",
        "        exact_grad = (-f_h - f)/eps\n",
        "        return exact_grad\n"
      ],
      "execution_count": 10,
      "outputs": []
    },
    {
      "cell_type": "code",
      "metadata": {
        "id": "qXIKGuXVGEg2"
      },
      "source": [
        "###Reproducible set-seeds:\n",
        "\n",
        "run_num_1 = 1\n",
        "run_num_2 = 2\n",
        "run_num_3 = 3\n",
        "run_num_4 = 4\n",
        "run_num_5 = 5\n",
        "run_num_6 = 6\n",
        "run_num_7 = 7\n",
        "run_num_8 = 8\n",
        "run_num_9 = 9\n",
        "run_num_10 = 10\n",
        "run_num_11 = 11\n",
        "run_num_12 = 12\n",
        "run_num_13 = 13\n",
        "run_num_14 = 14\n",
        "run_num_15 = 15\n",
        "run_num_16 = 16\n",
        "run_num_17 = 17\n",
        "run_num_18 = 18\n",
        "run_num_19 = 19\n",
        "run_num_20 = 20\n"
      ],
      "execution_count": 11,
      "outputs": []
    },
    {
      "cell_type": "code",
      "metadata": {
        "colab": {
          "base_uri": "https://localhost:8080/"
        },
        "id": "JEhagQmnTVIK",
        "outputId": "9c212f8a-d3d7-4868-d0bb-c15350ebc83e"
      },
      "source": [
        "start_exact = time.time()\n",
        "start_exact\n"
      ],
      "execution_count": 12,
      "outputs": [
        {
          "output_type": "execute_result",
          "data": {
            "text/plain": [
              "1629284899.3475592"
            ]
          },
          "metadata": {
            "tags": []
          },
          "execution_count": 12
        }
      ]
    },
    {
      "cell_type": "code",
      "metadata": {
        "colab": {
          "base_uri": "https://localhost:8080/"
        },
        "id": "aH0YSTXufD1v",
        "outputId": "6c820522-ff6b-4c8d-920a-0b552ef6293b"
      },
      "source": [
        "### EXACT GP EI GRADIENTS\n",
        "\n",
        "np.random.seed(run_num_1)\n",
        "surrogate_exact_1 = dGaussianProcess(cov_func, optimize=opt)\n",
        "\n",
        "exact_1 = dGPGO(surrogate_exact_1, Acquisition_new(util_grad_exact), objfunc, param)\n",
        "exact_1.run(init_evals=n_init, max_iter=iters)\n"
      ],
      "execution_count": 13,
      "outputs": [
        {
          "output_type": "stream",
          "text": [
            "Evaluation \t Proposed point \t  Current eval. \t Best eval.\n",
            "init   \t [ 1.25533007 10.8048674 ]. \t  -56.52874004692151 \t -27.68166689936483\n",
            "init   \t [-4.99828438  4.53498859]. \t  -172.66531086516164 \t -27.68166689936483\n",
            "init   \t [-2.79866164  1.38507892]. \t  -102.58290348816024 \t -27.68166689936483\n",
            "init   \t [-2.20609683  5.18341091]. \t  -28.868064601155666 \t -27.68166689936483\n",
            "init   \t [0.95151211 8.08225101]. \t  -27.68166689936483 \t -27.68166689936483\n",
            "1      \t [8.41909995 1.27566317]. \t  \u001b[92m-5.089934878453152\u001b[0m \t -5.089934878453152\n",
            "2      \t [10. 15.]. \t  -145.87219087939556 \t -5.089934878453152\n",
            "3      \t [7.89233981 8.37774826]. \t  -57.131706721493586 \t -5.089934878453152\n",
            "4      \t [-4.02890025 14.87019763]. \t  \u001b[92m-4.066623147608248\u001b[0m \t -4.066623147608248\n",
            "5      \t [3.04012742 0.5978989 ]. \t  \u001b[92m-3.5362887887138523\u001b[0m \t -3.5362887887138523\n",
            "6      \t [ 4.44913092 15.        ]. \t  -190.3953679346135 \t -3.5362887887138523\n",
            "7      \t [4.73772708 4.55848917]. \t  -20.477725446029027 \t -3.5362887887138523\n",
            "8      \t [-3.67717032 10.25565504]. \t  -12.921573514571422 \t -3.5362887887138523\n",
            "9      \t [-0.3086963 15.       ]. \t  -91.33676889082707 \t -3.5362887887138523\n",
            "10     \t [10.          4.69490839]. \t  -4.805841493075933 \t -3.5362887887138523\n",
            "11     \t [1.47657173 2.93807405]. \t  -11.89054945333223 \t -3.5362887887138523\n",
            "12     \t [ 5.12477439 10.95630573]. \t  -108.3234728977888 \t -3.5362887887138523\n",
            "13     \t [10.         11.30517907]. \t  -70.87003845640035 \t -3.5362887887138523\n",
            "14     \t [5.62547099 0.78990107]. \t  -17.7180882826888 \t -3.5362887887138523\n",
            "15     \t [4.27001907 7.44530884]. \t  -40.53245165380566 \t -3.5362887887138523\n",
            "16     \t [7.83551898 4.76920518]. \t  -21.123388517467642 \t -3.5362887887138523\n",
            "17     \t [-2.65642153 12.6656372 ]. \t  -3.835337085495942 \t -3.5362887887138523\n",
            "18     \t [-4.92102224 12.48455939]. \t  -32.02233990682861 \t -3.5362887887138523\n",
            "19     \t [10.          2.37174098]. \t  \u001b[92m-2.3415738225220677\u001b[0m \t -2.3415738225220677\n",
            "20     \t [-3.72390491  7.85672318]. \t  -36.33776866735436 \t -2.3415738225220677\n"
          ],
          "name": "stdout"
        }
      ]
    },
    {
      "cell_type": "code",
      "metadata": {
        "colab": {
          "base_uri": "https://localhost:8080/"
        },
        "id": "wTxsSZxFGBB5",
        "outputId": "0870e39a-6711-4531-85d9-8746c0cce235"
      },
      "source": [
        "### EXACT GP EI GRADIENTS\n",
        "\n",
        "np.random.seed(run_num_2)\n",
        "surrogate_exact_2 = dGaussianProcess(cov_func, optimize=opt)\n",
        "\n",
        "exact_2 = dGPGO(surrogate_exact_2, Acquisition_new(util_grad_exact), objfunc, param)\n",
        "exact_2.run(init_evals=n_init, max_iter=iters)\n"
      ],
      "execution_count": 14,
      "outputs": [
        {
          "output_type": "stream",
          "text": [
            "Evaluation \t Proposed point \t  Current eval. \t Best eval.\n",
            "init   \t [1.53992353 0.38889348]. \t  -22.31361308916297 \t -6.692051508754487\n",
            "init   \t [3.24493717 6.52983589]. \t  -19.233109967858276 \t -6.692051508754487\n",
            "init   \t [1.30551703 4.95502232]. \t  -13.177851563387286 \t -6.692051508754487\n",
            "init   \t [-1.93027049  9.2890645 ]. \t  -6.692051508754487 \t -6.692051508754487\n",
            "init   \t [-0.50517989  4.00240913]. \t  -26.437522758780958 \t -6.692051508754487\n",
            "1      \t [10.         14.04305153]. \t  -123.82683657114976 \t -6.692051508754487\n",
            "2      \t [9.06869679 2.0164014 ]. \t  \u001b[92m-1.0307174678975652\u001b[0m \t -1.0307174678975652\n",
            "3      \t [-0.16427306 14.97419295]. \t  -95.32402138742069 \t -1.0307174678975652\n",
            "4      \t [9.1218473  7.52213687]. \t  -28.8277818749712 \t -1.0307174678975652\n",
            "5      \t [ 4.93365968 11.54871316]. \t  -117.30104137650083 \t -1.0307174678975652\n",
            "6      \t [-4.64031377  1.17767303]. \t  -233.9871201335698 \t -1.0307174678975652\n",
            "7      \t [-4.72522351  6.10902515]. \t  -116.12672070287879 \t -1.0307174678975652\n",
            "8      \t [-4.87542912 12.76786652]. \t  -28.06097426382346 \t -1.0307174678975652\n",
            "9      \t [5.50030399 2.52346298]. \t  -18.68150916124366 \t -1.0307174678975652\n",
            "10     \t [ 1.02176992 10.6524892 ]. \t  -52.757405971360214 \t -1.0307174678975652\n",
            "11     \t [10.         4.1445397]. \t  -3.2463526216344682 \t -1.0307174678975652\n",
            "12     \t [ 6.14211144 15.        ]. \t  -212.77008728799152 \t -1.0307174678975652\n",
            "13     \t [6.18573684 6.27184085]. \t  -46.32389379658289 \t -1.0307174678975652\n",
            "14     \t [8.95986258 0.07527727]. \t  -5.560237142491192 \t -1.0307174678975652\n",
            "15     \t [ 8.48673599 10.7384607 ]. \t  -84.26393091993125 \t -1.0307174678975652\n",
            "16     \t [0.27043596 7.54421136]. \t  -23.115034262320023 \t -1.0307174678975652\n",
            "17     \t [6.60860825 0.09151979]. \t  -20.164247768262342 \t -1.0307174678975652\n",
            "18     \t [10.          2.24672787]. \t  -2.51502255651436 \t -1.0307174678975652\n",
            "19     \t [-1.82071372 12.06276638]. \t  -15.115045340281949 \t -1.0307174678975652\n",
            "20     \t [8.10386391 3.93765427]. \t  -13.154907336201116 \t -1.0307174678975652\n"
          ],
          "name": "stdout"
        }
      ]
    },
    {
      "cell_type": "code",
      "metadata": {
        "colab": {
          "base_uri": "https://localhost:8080/"
        },
        "id": "-dgzIrUIGCGT",
        "outputId": "d1ca52ad-8d2a-47b2-92cb-42310789d6be"
      },
      "source": [
        "### EXACT GP EI GRADIENTS\n",
        "\n",
        "np.random.seed(run_num_3)\n",
        "surrogate_exact_3 = dGaussianProcess(cov_func, optimize=opt)\n",
        "\n",
        "exact_3 = dGPGO(surrogate_exact_3, Acquisition_new(util_grad_exact), objfunc, param)\n",
        "exact_3.run(init_evals=n_init, max_iter=iters)\n"
      ],
      "execution_count": 15,
      "outputs": [
        {
          "output_type": "stream",
          "text": [
            "Evaluation \t Proposed point \t  Current eval. \t Best eval.\n",
            "init   \t [ 3.26196854 10.62221734]. \t  -71.68783452098575 \t -18.07886746449891\n",
            "init   \t [-0.63642892  7.66241408]. \t  -18.07886746449891 \t -18.07886746449891\n",
            "init   \t [ 8.39420432 13.44439633]. \t  -141.98653529865882 \t -18.07886746449891\n",
            "init   \t [-3.11622034  3.10864317]. \t  -83.31045707266176 \t -18.07886746449891\n",
            "init   \t [-4.22799195  6.61214765]. \t  -76.5294170688398 \t -18.07886746449891\n",
            "1      \t [6.70472147 4.59545299]. \t  -30.726791812855225 \t -18.07886746449891\n",
            "2      \t [-4.80375785 13.29726611]. \t  -21.95985477078912 \t -18.07886746449891\n",
            "3      \t [2.48207828 1.0517852 ]. \t  \u001b[92m-5.629026203897858\u001b[0m \t -5.629026203897858\n",
            "4      \t [ 0.14844583 15.        ]. \t  -104.75240974675043 \t -5.629026203897858\n",
            "5      \t [10.          8.34422751]. \t  -30.472315562750353 \t -5.629026203897858\n",
            "6      \t [8.07001468 0.08627427]. \t  -10.141183023936915 \t -5.629026203897858\n",
            "7      \t [2.60292614 5.46656783]. \t  -9.23236149779591 \t -5.629026203897858\n",
            "8      \t [ 4.39649843 15.        ]. \t  -189.27269020736787 \t -5.629026203897858\n",
            "9      \t [-1.66647537 11.23629833]. \t  -14.034448434228693 \t -5.629026203897858\n",
            "10     \t [10.          3.06120377]. \t  \u001b[92m-1.9465333945909666\u001b[0m \t -1.9465333945909666\n",
            "11     \t [6.59378971 9.16286441]. \t  -83.79251517066842 \t -1.9465333945909666\n",
            "12     \t [-0.10714423  0.2501376 ]. \t  -54.61560310870331 \t -1.9465333945909666\n",
            "13     \t [10.          5.13035928]. \t  -6.468982792241709 \t -1.9465333945909666\n",
            "14     \t [5.01619175 0.09879444]. \t  -14.237294831222712 \t -1.9465333945909666\n",
            "15     \t [-4.51378486 10.04255492]. \t  -41.43757984784179 \t -1.9465333945909666\n",
            "16     \t [0.42374233 3.81924962]. \t  -21.092360186077578 \t -1.9465333945909666\n",
            "17     \t [10.          1.87865428]. \t  -3.2071963878768903 \t -1.9465333945909666\n",
            "18     \t [4.5584038  2.69642319]. \t  -10.132586355357006 \t -1.9465333945909666\n",
            "19     \t [4.03337587 7.22899374]. \t  -34.735750333472936 \t -1.9465333945909666\n",
            "20     \t [-3.5029469   0.07989511]. \t  -172.11471578237197 \t -1.9465333945909666\n"
          ],
          "name": "stdout"
        }
      ]
    },
    {
      "cell_type": "code",
      "metadata": {
        "colab": {
          "base_uri": "https://localhost:8080/"
        },
        "id": "hOtG-2sCGCKS",
        "outputId": "17ccf6d7-323c-4793-f476-4f693d78492b"
      },
      "source": [
        "### EXACT GP EI GRADIENTS\n",
        "\n",
        "np.random.seed(run_num_4)\n",
        "surrogate_exact_4 = dGaussianProcess(cov_func, optimize=opt)\n",
        "\n",
        "exact_4 = dGPGO(surrogate_exact_4, Acquisition_new(util_grad_exact), objfunc, param)\n",
        "exact_4.run(init_evals=n_init, max_iter=iters)\n"
      ],
      "execution_count": 16,
      "outputs": [
        {
          "output_type": "stream",
          "text": [
            "Evaluation \t Proposed point \t  Current eval. \t Best eval.\n",
            "init   \t [9.50544759 8.20848374]. \t  -32.51676744781521 \t -7.247126865776948\n",
            "init   \t [ 9.5902654  10.72223991]. \t  -66.20566674364716 \t -7.247126865776948\n",
            "init   \t [5.46593237 3.24134243]. \t  -20.90089401680587 \t -7.247126865776948\n",
            "init   \t [9.64411682 0.09345383]. \t  -7.247126865776948 \t -7.247126865776948\n",
            "init   \t [-1.20526456  6.52187299]. \t  -15.941376982363263 \t -7.247126865776948\n",
            "1      \t [ 0.5775056  14.31328634]. \t  -102.48870217898984 \t -7.247126865776948\n",
            "2      \t [-0.13367617  0.17881992]. \t  -55.952651178085794 \t -7.247126865776948\n",
            "3      \t [3.72690551 9.1691185 ]. \t  -55.378612699060426 \t -7.247126865776948\n",
            "4      \t [ 6.1778888 15.       ]. \t  -212.8122931696868 \t -7.247126865776948\n",
            "5      \t [-4.10209196 14.15027049]. \t  \u001b[92m-4.801871416019723\u001b[0m \t -4.801871416019723\n",
            "6      \t [-4.04591226  3.00759296]. \t  -137.38197722313902 \t -4.801871416019723\n",
            "7      \t [-4.95336009  9.46492024]. \t  -69.87288098121975 \t -4.801871416019723\n",
            "8      \t [10.          3.97565972]. \t  \u001b[92m-2.8892920062652694\u001b[0m \t -2.8892920062652694\n",
            "9      \t [-0.24351846 10.07242664]. \t  -32.840565180224615 \t -2.8892920062652694\n",
            "10     \t [1.7769477  3.86976979]. \t  -8.118581631473624 \t -2.8892920062652694\n",
            "11     \t [10. 15.]. \t  -145.87219087939556 \t -2.8892920062652694\n",
            "12     \t [4.23781244 0.35449007]. \t  -7.102684493676952 \t -2.8892920062652694\n",
            "13     \t [6.36610685 6.52857722]. \t  -49.000281428186604 \t -2.8892920062652694\n",
            "14     \t [8.38393978 2.38849573]. \t  -5.570628501586668 \t -2.8892920062652694\n",
            "15     \t [2.08331358 6.36299971]. \t  -15.013374677203975 \t -2.8892920062652694\n",
            "16     \t [-2.4343027  12.32832046]. \t  -5.552159920930843 \t -2.8892920062652694\n",
            "17     \t [ 3.54728443 12.51549901]. \t  -112.17657378562478 \t -2.8892920062652694\n",
            "18     \t [-0.49012857  3.41104202]. \t  -30.03205448492394 \t -2.8892920062652694\n",
            "19     \t [-4.03087348  6.37109176]. \t  -70.26306238023354 \t -2.8892920062652694\n",
            "20     \t [7.2556343  0.30076673]. \t  -16.315629352026164 \t -2.8892920062652694\n"
          ],
          "name": "stdout"
        }
      ]
    },
    {
      "cell_type": "code",
      "metadata": {
        "colab": {
          "base_uri": "https://localhost:8080/"
        },
        "id": "JF_SxcEvGCOl",
        "outputId": "2b8e3a55-6b9e-4087-fdc4-a2faa418c935"
      },
      "source": [
        "### EXACT GP EI GRADIENTS\n",
        "\n",
        "np.random.seed(run_num_5)\n",
        "surrogate_exact_5 = dGaussianProcess(cov_func, optimize=opt)\n",
        "\n",
        "exact_5 = dGPGO(surrogate_exact_5, Acquisition_new(util_grad_exact), objfunc, param)\n",
        "exact_5.run(init_evals=n_init, max_iter=iters)\n"
      ],
      "execution_count": 17,
      "outputs": [
        {
          "output_type": "stream",
          "text": [
            "Evaluation \t Proposed point \t  Current eval. \t Best eval.\n",
            "init   \t [-1.67010243 13.06098459]. \t  -25.390690545664548 \t -25.311309190989615\n",
            "init   \t [-1.89921267 13.77916362]. \t  -25.311309190989615 \t -25.311309190989615\n",
            "init   \t [2.32616783 9.17615794]. \t  -41.60147975414021 \t -25.311309190989615\n",
            "init   \t [6.48861785 7.77626982]. \t  -63.81281921768236 \t -25.311309190989615\n",
            "init   \t [-0.54799248  2.81581843]. \t  -34.966203644931994 \t -25.311309190989615\n",
            "1      \t [8.84124421 0.03321319]. \t  \u001b[92m-5.96108856337545\u001b[0m \t -5.96108856337545\n",
            "2      \t [10. 15.]. \t  -145.87219087939556 \t -5.96108856337545\n",
            "3      \t [-4.81236982  8.00518018]. \t  -85.70683082507513 \t -5.96108856337545\n",
            "4      \t [ 3.68731448 15.        ]. \t  -173.72008619074884 \t -5.96108856337545\n",
            "5      \t [4.3540436  1.43302077]. \t  -6.639752470693001 \t -5.96108856337545\n",
            "6      \t [10.         4.3384186]. \t  \u001b[92m-3.726599414432032\u001b[0m \t -3.726599414432032\n",
            "7      \t [10.         10.34364558]. \t  -55.82885532794446 \t -3.726599414432032\n",
            "8      \t [-4.98043179  0.55980336]. \t  -287.1471778290685 \t -3.726599414432032\n",
            "9      \t [2.80344935 5.142372  ]. \t  -7.644020027543006 \t -3.726599414432032\n",
            "10     \t [-0.62573279  6.59553195]. \t  -17.98618151585134 \t -3.726599414432032\n",
            "11     \t [7.01107351 3.49198577]. \t  -22.460465000062904 \t -3.726599414432032\n",
            "12     \t [-4.93202177 11.79776385]. \t  -39.07158146342451 \t -3.726599414432032\n",
            "13     \t [ 6.54449883 11.77633615]. \t  -132.8946145300265 \t -3.726599414432032\n",
            "14     \t [-1.58956644  9.94180262]. \t  -10.998122378137056 \t -3.726599414432032\n",
            "15     \t [-3.84520421  4.5253241 ]. \t  -93.01529745612878 \t -3.726599414432032\n",
            "16     \t [1.64965277 0.57437946]. \t  -19.176641483327074 \t -3.726599414432032\n",
            "17     \t [10.          6.79470466]. \t  -16.320493967640097 \t -3.726599414432032\n",
            "18     \t [ 1.41483694 12.1127615 ]. \t  -77.19786241776403 \t -3.726599414432032\n",
            "19     \t [10.          2.35066127]. \t  \u001b[92m-2.3686298636191747\u001b[0m \t -2.3686298636191747\n",
            "20     \t [2.53560791 3.21994598]. \t  \u001b[92m-2.2881847449924235\u001b[0m \t -2.2881847449924235\n"
          ],
          "name": "stdout"
        }
      ]
    },
    {
      "cell_type": "code",
      "metadata": {
        "colab": {
          "base_uri": "https://localhost:8080/"
        },
        "id": "-kDxZtJsGCR3",
        "outputId": "69b6a77f-d117-4a6e-e4cb-73ec151c2b91"
      },
      "source": [
        "### EXACT GP EI GRADIENTS\n",
        "\n",
        "np.random.seed(run_num_6)\n",
        "surrogate_exact_6 = dGaussianProcess(cov_func, optimize=opt)\n",
        "\n",
        "exact_6 = dGPGO(surrogate_exact_6, Acquisition_new(util_grad_exact), objfunc, param)\n",
        "exact_6.run(init_evals=n_init, max_iter=iters)\n"
      ],
      "execution_count": 18,
      "outputs": [
        {
          "output_type": "stream",
          "text": [
            "Evaluation \t Proposed point \t  Current eval. \t Best eval.\n",
            "init   \t [8.39290227 4.97969708]. \t  -15.553860636684597 \t -15.31731051317483\n",
            "init   \t [7.31843685 0.62544939]. \t  -15.31731051317483 \t -15.31731051317483\n",
            "init   \t [-3.3851498   8.92578096]. \t  -16.222288919361837 \t -15.31731051317483\n",
            "init   \t [2.94726043 6.28211143]. \t  -15.406373581304088 \t -15.31731051317483\n",
            "init   \t [0.03111774 9.33779148]. \t  -31.07053245856209 \t -15.31731051317483\n",
            "1      \t [10. 15.]. \t  -145.87219087939556 \t -15.31731051317483\n",
            "2      \t [-4.42013634  0.37777   ]. \t  -237.69785665817545 \t -15.31731051317483\n",
            "3      \t [ 3.61480227 14.3758058 ]. \t  -156.22942206205929 \t -15.31731051317483\n",
            "4      \t [1.3323845  0.68571175]. \t  -23.985019929250733 \t -15.31731051317483\n",
            "5      \t [-4.19302139 14.61872658]. \t  \u001b[92m-5.3403971656550695\u001b[0m \t -5.3403971656550695\n",
            "6      \t [7.50770981 9.99300926]. \t  -88.26011125495025 \t -5.3403971656550695\n",
            "7      \t [-1.62279135  4.70426902]. \t  -27.298264298415273 \t -5.3403971656550695\n",
            "8      \t [-0.73497405 15.        ]. \t  -77.34818375560101 \t -5.3403971656550695\n",
            "9      \t [ 3.58551993 10.08770624]. \t  -67.48158554456901 \t -5.3403971656550695\n",
            "10     \t [4.67107774 2.91669845]. \t  -11.951310378412849 \t -5.3403971656550695\n",
            "11     \t [10.          2.12606893]. \t  \u001b[92m-2.712072651958888\u001b[0m \t -2.712072651958888\n",
            "12     \t [-3.38835208 12.04723153]. \t  \u001b[92m-1.375416032836652\u001b[0m \t -1.375416032836652\n",
            "13     \t [10.         7.6637695]. \t  -23.66631751295187 \t -1.375416032836652\n",
            "14     \t [-4.65566608  4.20235074]. \t  -153.63509924651976 \t -1.375416032836652\n",
            "15     \t [5.75427318 6.89382444]. \t  -51.635140660420326 \t -1.375416032836652\n",
            "16     \t [-4.98165913 11.43081206]. \t  -45.08670756516714 \t -1.375416032836652\n",
            "17     \t [-2.18789192 11.93354526]. \t  -7.8035095769082625 \t -1.375416032836652\n",
            "18     \t [1.34044425 3.93185642]. \t  -12.220205585917487 \t -1.375416032836652\n",
            "19     \t [ 7.13709798 13.33755643]. \t  -163.11073954144774 \t -1.375416032836652\n",
            "20     \t [ 0.788788  12.1754507]. \t  -70.79605752265692 \t -1.375416032836652\n"
          ],
          "name": "stdout"
        }
      ]
    },
    {
      "cell_type": "code",
      "metadata": {
        "colab": {
          "base_uri": "https://localhost:8080/"
        },
        "id": "fKB8MCD_GCVI",
        "outputId": "ac1459ef-8ea1-4746-a034-042e3672a02d"
      },
      "source": [
        "### EXACT GP EI GRADIENTS\n",
        "\n",
        "np.random.seed(run_num_7)\n",
        "surrogate_exact_7 = dGaussianProcess(cov_func, optimize=opt)\n",
        "\n",
        "exact_7 = dGPGO(surrogate_exact_7, Acquisition_new(util_grad_exact), objfunc, param)\n",
        "exact_7.run(init_evals=n_init, max_iter=iters)\n"
      ],
      "execution_count": 19,
      "outputs": [
        {
          "output_type": "stream",
          "text": [
            "Evaluation \t Proposed point \t  Current eval. \t Best eval.\n",
            "init   \t [-3.85537566 11.69878188]. \t  -8.299317850233932 \t -5.211335324193094\n",
            "init   \t [ 1.57613847 10.85197767]. \t  -59.50408380701259 \t -5.211335324193094\n",
            "init   \t [9.66984268 8.07743806]. \t  -29.714921414987273 \t -5.211335324193094\n",
            "init   \t [2.51680695 1.080767  ]. \t  -5.211335324193094 \t -5.211335324193094\n",
            "init   \t [-0.9734153   7.49823751]. \t  -15.431057204948033 \t -5.211335324193094\n",
            "1      \t [ 6.7899837 15.       ]. \t  -210.23670723548415 \t -5.211335324193094\n",
            "2      \t [-4.2086631   0.70519748]. \t  -209.3213266373998 \t -5.211335324193094\n",
            "3      \t [9.84403446 2.23618575]. \t  \u001b[92m-1.607946967220208\u001b[0m \t -1.607946967220208\n",
            "4      \t [4.48885083 5.9470923 ]. \t  -28.01605577580937 \t -1.607946967220208\n",
            "5      \t [-0.88725868 15.        ]. \t  -72.10710205884752 \t -1.607946967220208\n",
            "6      \t [6.534031   0.76323316]. \t  -19.42611832770012 \t -1.607946967220208\n",
            "7      \t [-4.45991373  5.69427892]. \t  -107.07170905154733 \t -1.607946967220208\n",
            "8      \t [ 6.04719122 10.17092866]. \t  -101.6234670400019 \t -1.607946967220208\n",
            "9      \t [-0.08468058  3.46412015]. \t  -26.705043023858465 \t -1.607946967220208\n",
            "10     \t [10.         11.80067637]. \t  -79.34301364306405 \t -1.607946967220208\n",
            "11     \t [8.14704332 4.48180528]. \t  -15.484214404138509 \t -1.607946967220208\n",
            "12     \t [4.10879666 2.9271834 ]. \t  -6.202614816139943 \t -1.607946967220208\n",
            "13     \t [ 2.848809 15.      ]. \t  -156.69662023850748 \t -1.607946967220208\n",
            "14     \t [-0.30814506  0.37534919]. \t  -56.69419367047648 \t -1.607946967220208\n",
            "15     \t [-4.12505239 14.16441748]. \t  -5.037851363850817 \t -1.607946967220208\n",
            "16     \t [9.71589485 0.14743387]. \t  -7.479364161494503 \t -1.607946967220208\n",
            "17     \t [-4.82329542  9.71503157]. \t  -59.59979532011819 \t -1.607946967220208\n",
            "18     \t [-1.54819304 11.42657716]. \t  -17.254946239358247 \t -1.607946967220208\n",
            "19     \t [1.91455989 7.17311977]. \t  -20.801575139553407 \t -1.607946967220208\n",
            "20     \t [10. 15.]. \t  -145.87219087939556 \t -1.607946967220208\n"
          ],
          "name": "stdout"
        }
      ]
    },
    {
      "cell_type": "code",
      "metadata": {
        "colab": {
          "base_uri": "https://localhost:8080/"
        },
        "id": "4unvifF-GCXp",
        "outputId": "74be47d1-0988-4cca-fea0-f27019c28353"
      },
      "source": [
        "### EXACT GP EI GRADIENTS\n",
        "\n",
        "np.random.seed(run_num_8)\n",
        "surrogate_exact_8 = dGaussianProcess(cov_func, optimize=opt)\n",
        "\n",
        "exact_8 = dGPGO(surrogate_exact_8, Acquisition_new(util_grad_exact), objfunc, param)\n",
        "exact_8.run(init_evals=n_init, max_iter=iters)\n"
      ],
      "execution_count": 20,
      "outputs": [
        {
          "output_type": "stream",
          "text": [
            "Evaluation \t Proposed point \t  Current eval. \t Best eval.\n",
            "init   \t [ 8.10144104 14.52810994]. \t  -175.17297136347514 \t -15.416245468470875\n",
            "init   \t [8.0379181  7.96283537]. \t  -49.32173799887473 \t -15.416245468470875\n",
            "init   \t [-1.50907508  0.17098206]. \t  -83.26753461673219 \t -15.416245468470875\n",
            "init   \t [1.45703227 6.0352704 ]. \t  -15.416245468470875 \t -15.416245468470875\n",
            "init   \t [2.84012007 7.17587694]. \t  -22.49093277852639 \t -15.416245468470875\n",
            "1      \t [-4.98884166 14.83408411]. \t  -18.008434758014253 \t -15.416245468470875\n",
            "2      \t [6.2584639  0.79690936]. \t  -19.69061392229066 \t -15.416245468470875\n",
            "3      \t [-4.8401206   6.42823123]. \t  -117.34273274148853 \t -15.416245468470875\n",
            "4      \t [ 0.69118494 13.24534138]. \t  -86.01770116734858 \t -15.416245468470875\n",
            "5      \t [10.          3.47248178]. \t  \u001b[92m-2.163594551564506\u001b[0m \t -2.163594551564506\n",
            "6      \t [-3.05480493 10.66174686]. \t  -2.4098912383372877 \t -2.163594551564506\n",
            "7      \t [ 4.75801559 11.11496847]. \t  -105.7544124498669 \t -2.163594551564506\n",
            "8      \t [5.54660685 4.5747386 ]. \t  -28.86481098495119 \t -2.163594551564506\n",
            "9      \t [2.33129374 2.12922053]. \t  -4.12537668866829 \t -2.163594551564506\n",
            "10     \t [-0.53049873  8.9505561 ]. \t  -22.566772180137498 \t -2.163594551564506\n",
            "11     \t [-1.56266753  4.24950093]. \t  -30.808054706572833 \t -2.163594551564506\n",
            "12     \t [10.         11.01245986]. \t  -66.09528300168938 \t -2.163594551564506\n",
            "13     \t [9.99008953 0.12991645]. \t  -10.089797543288475 \t -2.163594551564506\n",
            "14     \t [ 4.63786608 15.        ]. \t  -194.31744211528854 \t -2.163594551564506\n",
            "15     \t [-2.82793717 12.73648295]. \t  -2.3125125563413 \t -2.163594551564506\n",
            "16     \t [-4.74510056 10.40854158]. \t  -46.94360796109902 \t -2.163594551564506\n",
            "17     \t [-4.75855824  3.07548087]. \t  -190.62647969758848 \t -2.163594551564506\n",
            "18     \t [10.          5.40904656]. \t  -7.73240952446136 \t -2.163594551564506\n",
            "19     \t [-2.13671141 15.        ]. \t  -29.94676564287036 \t -2.163594551564506\n",
            "20     \t [8.5326981  3.38709299]. \t  -6.410989161657845 \t -2.163594551564506\n"
          ],
          "name": "stdout"
        }
      ]
    },
    {
      "cell_type": "code",
      "metadata": {
        "colab": {
          "base_uri": "https://localhost:8080/"
        },
        "id": "85OIXcg7GCaJ",
        "outputId": "f1c8ef31-69bd-4e60-cb72-63149fb086c9"
      },
      "source": [
        "### EXACT GP EI GRADIENTS\n",
        "\n",
        "np.random.seed(run_num_9)\n",
        "surrogate_exact_9 = dGaussianProcess(cov_func, optimize=opt)\n",
        "\n",
        "exact_9 = dGPGO(surrogate_exact_9, Acquisition_new(util_grad_exact), objfunc, param)\n",
        "exact_9.run(init_evals=n_init, max_iter=iters)\n"
      ],
      "execution_count": 21,
      "outputs": [
        {
          "output_type": "stream",
          "text": [
            "Evaluation \t Proposed point \t  Current eval. \t Best eval.\n",
            "init   \t [-4.84438769  7.52811888]. \t  -96.15564306553264 \t -3.4640248583909496\n",
            "init   \t [2.4365994  2.00744293]. \t  -3.4640248583909496 \t -3.4640248583909496\n",
            "init   \t [-2.86833372  3.27838013]. \t  -70.46930174488207 \t -3.4640248583909496\n",
            "init   \t [1.27762271 3.72151753]. \t  -12.982825924833865 \t -3.4640248583909496\n",
            "init   \t [-3.73910523  5.1824796 ]. \t  -75.58547400560856 \t -3.4640248583909496\n",
            "1      \t [ 7.05609655 14.75038872]. \t  -200.4388688685465 \t -3.4640248583909496\n",
            "2      \t [9.79053515 5.9968998 ]. \t  -11.24805159216164 \t -3.4640248583909496\n",
            "3      \t [-0.91490984 13.25685032]. \t  -48.26155495184477 \t -3.4640248583909496\n",
            "4      \t [4.42329559 9.16761691]. \t  -66.24415745540334 \t -3.4640248583909496\n",
            "5      \t [8.09381179 0.36546333]. \t  -9.19702700265266 \t -3.4640248583909496\n",
            "6      \t [10.         10.54747823]. \t  -58.86294724173256 \t -3.4640248583909496\n",
            "7      \t [-0.15122021  8.58270778]. \t  -24.963824819197978 \t -3.4640248583909496\n",
            "8      \t [5.66978642 4.54827501]. \t  -29.542494067237293 \t -3.4640248583909496\n",
            "9      \t [0.1698046  0.00731821]. \t  -52.25285552508423 \t -3.4640248583909496\n",
            "10     \t [ 2.6887284 15.       ]. \t  -153.77311717961913 \t -3.4640248583909496\n",
            "11     \t [-4.65835721 12.23709782]. \t  -25.3238194404319 \t -3.4640248583909496\n",
            "12     \t [10.          2.78653296]. \t  \u001b[92m-1.9899798556724946\u001b[0m \t -1.9899798556724946\n",
            "13     \t [5.35987587 1.07816181]. \t  -15.802361541562416 \t -1.9899798556724946\n",
            "14     \t [2.46333808 6.31949973]. \t  -14.467952799518386 \t -1.9899798556724946\n",
            "15     \t [-3.4833294 15.       ]. \t  -4.520092126280295 \t -1.9899798556724946\n",
            "16     \t [7.57157817 7.90770925]. \t  -55.607852382736674 \t -1.9899798556724946\n",
            "17     \t [-4.09332538  0.41138399]. \t  -208.00034163083419 \t -1.9899798556724946\n",
            "18     \t [ 1.82974117 11.53497865]. \t  -71.7750657417783 \t -1.9899798556724946\n",
            "19     \t [-2.48821833 10.17875964]. \t  -2.713328700674805 \t -1.9899798556724946\n",
            "20     \t [8.3890188 3.5360726]. \t  -8.330363701440817 \t -1.9899798556724946\n"
          ],
          "name": "stdout"
        }
      ]
    },
    {
      "cell_type": "code",
      "metadata": {
        "colab": {
          "base_uri": "https://localhost:8080/"
        },
        "id": "QQBR-qJPGCcp",
        "outputId": "ff484d99-66f9-464e-bd84-303e00187fec"
      },
      "source": [
        "### EXACT GP EI GRADIENTS\n",
        "\n",
        "np.random.seed(run_num_10)\n",
        "surrogate_exact_10 = dGaussianProcess(cov_func, optimize=opt)\n",
        "\n",
        "exact_10 = dGPGO(surrogate_exact_10, Acquisition_new(util_grad_exact), objfunc, param)\n",
        "exact_10.run(init_evals=n_init, max_iter=iters)\n"
      ],
      "execution_count": 22,
      "outputs": [
        {
          "output_type": "stream",
          "text": [
            "Evaluation \t Proposed point \t  Current eval. \t Best eval.\n",
            "init   \t [6.56980965 0.31127924]. \t  -19.863985024602144 \t -2.710610964564512\n",
            "init   \t [ 4.50472352 11.23205824]. \t  -103.66999147252169 \t -2.710610964564512\n",
            "init   \t [2.47760518 3.37194968]. \t  -2.710610964564512 \t -2.710610964564512\n",
            "init   \t [-2.02905703 11.40796068]. \t  -8.463930835255017 \t -2.710610964564512\n",
            "init   \t [-2.46333745  1.32509721]. \t  -90.49481266026973 \t -2.710610964564512\n",
            "1      \t [10. 15.]. \t  -145.87219087939556 \t -2.710610964564512\n",
            "2      \t [6.8990985  6.18414116]. \t  -42.99322961219224 \t -2.710610964564512\n",
            "3      \t [-4.79812162  7.64003087]. \t  -91.2920569402186 \t -2.710610964564512\n",
            "4      \t [ 0.92619985 15.        ]. \t  -123.16709352285076 \t -2.710610964564512\n",
            "5      \t [10.          9.87183942]. \t  -49.124691842924676 \t -2.710610964564512\n",
            "6      \t [1.23584501 7.41268003]. \t  -23.28336405677546 \t -2.710610964564512\n",
            "7      \t [7.30917046 4.63031131]. \t  -26.277167965113733 \t -2.710610964564512\n",
            "8      \t [10.          1.79512575]. \t  -3.401996049211733 \t -2.710610964564512\n",
            "9      \t [-4.70774974 14.99984709]. \t  -11.79384711811382 \t -2.710610964564512\n",
            "10     \t [1.5801053  0.06680858]. \t  -23.905059920101987 \t -2.710610964564512\n",
            "11     \t [ 5.68662234 15.        ]. \t  -210.4040723599665 \t -2.710610964564512\n",
            "12     \t [-1.3120257   5.15806945]. \t  -22.395135982373425 \t -2.710610964564512\n",
            "13     \t [ 0.95706088 10.5134545 ]. \t  -50.55679546782574 \t -2.710610964564512\n",
            "14     \t [3.8133826  5.04841588]. \t  -12.975567533400113 \t -2.710610964564512\n",
            "15     \t [-4.94999246 11.60348852]. \t  -41.853721103090734 \t -2.710610964564512\n",
            "16     \t [10.         6.2673831]. \t  -12.59962103125544 \t -2.710610964564512\n",
            "17     \t [4.34565023 2.10872307]. \t  -6.899673399462706 \t -2.710610964564512\n",
            "18     \t [0.72355521 3.34326644]. \t  -19.670042347459038 \t -2.710610964564512\n",
            "19     \t [-4.88070878  4.39473143]. \t  -166.62363378774413 \t -2.710610964564512\n",
            "20     \t [ 8.03501452 11.97093933]. \t  -116.82094536963605 \t -2.710610964564512\n"
          ],
          "name": "stdout"
        }
      ]
    },
    {
      "cell_type": "code",
      "metadata": {
        "colab": {
          "base_uri": "https://localhost:8080/"
        },
        "id": "JS8ejeQ2GCfi",
        "outputId": "b84b5fb9-cfdd-4f9b-b6ef-14433b5cc94c"
      },
      "source": [
        "### EXACT GP EI GRADIENTS\n",
        "\n",
        "np.random.seed(run_num_11)\n",
        "surrogate_exact_11 = dGaussianProcess(cov_func, optimize=opt)\n",
        "\n",
        "exact_11 = dGPGO(surrogate_exact_11, Acquisition_new(util_grad_exact), objfunc, param)\n",
        "exact_11.run(init_evals=n_init, max_iter=iters)\n"
      ],
      "execution_count": 23,
      "outputs": [
        {
          "output_type": "stream",
          "text": [
            "Evaluation \t Proposed point \t  Current eval. \t Best eval.\n",
            "init   \t [-2.29595467  0.29212862]. \t  -104.49282729548965 \t -22.37435843952312\n",
            "init   \t [ 1.9482779  10.87400894]. \t  -62.47758067812407 \t -22.37435843952312\n",
            "init   \t [1.30305407 7.28140647]. \t  -22.37435843952312 \t -22.37435843952312\n",
            "init   \t [-4.80828778  7.31057411]. \t  -97.94503054415523 \t -22.37435843952312\n",
            "init   \t [ 9.12709979 12.76192634]. \t  -111.62900800771942 \t -22.37435843952312\n",
            "1      \t [7.47489909 1.17569712]. \t  \u001b[92m-13.574666531193973\u001b[0m \t -13.574666531193973\n",
            "2      \t [-3.32392335 14.51197433]. \t  \u001b[92m-3.777267680584016\u001b[0m \t -3.777267680584016\n",
            "3      \t [9.72363233 6.87677997]. \t  -17.947808548975658 \t -3.777267680584016\n",
            "4      \t [2.9061772  2.49504109]. \t  \u001b[92m-0.6635953583088394\u001b[0m \t -0.6635953583088394\n",
            "5      \t [ 4.54037068 15.        ]. \t  -192.31380837056446 \t -0.6635953583088394\n",
            "6      \t [5.47231439 6.47301576]. \t  -44.85196943993592 \t -0.6635953583088394\n",
            "7      \t [-2.29503709 11.11000261]. \t  -4.241527284569879 \t -0.6635953583088394\n",
            "8      \t [ 0.04444204 15.        ]. \t  -101.86617647463552 \t -0.6635953583088394\n",
            "9      \t [-1.53197714  4.55770714]. \t  -27.876000851076096 \t -0.6635953583088394\n",
            "10     \t [ 6.04742268 10.1890203 ]. \t  -101.95266353030215 \t -0.6635953583088394\n",
            "11     \t [3.78848522 0.2706784 ]. \t  -4.752486853618742 \t -0.6635953583088394\n",
            "12     \t [10.          3.40229071]. \t  -2.102608389190383 \t -0.6635953583088394\n",
            "13     \t [-4.58813539  3.37401   ]. \t  -168.7741748640915 \t -0.6635953583088394\n",
            "14     \t [2.12450215 3.97762914]. \t  -5.552668444336144 \t -0.6635953583088394\n",
            "15     \t [-4.63386647 12.01496825]. \t  -26.336764333138625 \t -0.6635953583088394\n",
            "16     \t [1.44297369 1.03112812]. \t  -19.875229050153642 \t -0.6635953583088394\n",
            "17     \t [4.53010212 2.93758661]. \t  -10.498450113202225 \t -0.6635953583088394\n",
            "18     \t [7.82646274 4.19283625]. \t  -17.750081552386327 \t -0.6635953583088394\n",
            "19     \t [10.          0.75068973]. \t  -7.015846746822984 \t -0.6635953583088394\n",
            "20     \t [-1.61889861  9.06643185]. \t  -9.561187374830082 \t -0.6635953583088394\n"
          ],
          "name": "stdout"
        }
      ]
    },
    {
      "cell_type": "code",
      "metadata": {
        "colab": {
          "base_uri": "https://localhost:8080/"
        },
        "id": "DXwjUVZ4GCii",
        "outputId": "5e045935-d466-41b7-9039-0b3812bde59f"
      },
      "source": [
        "### EXACT GP EI GRADIENTS\n",
        "\n",
        "np.random.seed(run_num_12)\n",
        "surrogate_exact_12 = dGaussianProcess(cov_func, optimize=opt)\n",
        "\n",
        "exact_12 = dGPGO(surrogate_exact_12, Acquisition_new(util_grad_exact), objfunc, param)\n",
        "exact_12.run(init_evals=n_init, max_iter=iters)\n"
      ],
      "execution_count": 24,
      "outputs": [
        {
          "output_type": "stream",
          "text": [
            "Evaluation \t Proposed point \t  Current eval. \t Best eval.\n",
            "init   \t [-2.68755736 11.10074545]. \t  -1.3827702760021356 \t -0.5499315281120278\n",
            "init   \t [-1.05027477  8.0060909 ]. \t  -14.81231853080056 \t -0.5499315281120278\n",
            "init   \t [-4.78137556 13.78120512]. \t  -18.401131000214548 \t -0.5499315281120278\n",
            "init   \t [8.51072281 0.50132141]. \t  -5.855172364344769 \t -0.5499315281120278\n",
            "init   \t [9.35424004 2.05813982]. \t  -0.5499315281120278 \t -0.5499315281120278\n",
            "1      \t [10.          4.42297562]. \t  -3.959594663321786 \t -0.5499315281120278\n",
            "2      \t [10. 15.]. \t  -145.87219087939556 \t -0.5499315281120278\n",
            "3      \t [-4.02857478  0.48179288]. \t  -200.67574083550102 \t -0.5499315281120278\n",
            "4      \t [ 2.85664154 13.8594499 ]. \t  -129.64706087217854 \t -0.5499315281120278\n",
            "5      \t [2.71945565 1.80665114]. \t  -1.9141508093386541 \t -0.5499315281120278\n",
            "6      \t [7.9150393  9.35287884]. \t  -71.145332562649 \t -0.5499315281120278\n",
            "7      \t [3.48353776 6.64911516]. \t  -22.350716524246597 \t -0.5499315281120278\n",
            "8      \t [-4.54680545  5.81881211]. \t  -110.19194217601753 \t -0.5499315281120278\n",
            "9      \t [6.09763191 3.59038756]. \t  -25.646582592934333 \t -0.5499315281120278\n",
            "10     \t [-0.03829909  3.25509   ]. \t  -27.46901248589383 \t -0.5499315281120278\n",
            "11     \t [-1.1437389 15.       ]. \t  -63.12693913495445 \t -0.5499315281120278\n",
            "12     \t [ 1.60912459 10.14150982]. \t  -50.183685996027236 \t -0.5499315281120278\n",
            "13     \t [ 6.61170449 12.97358712]. \t  -159.49185455753118 \t -0.5499315281120278\n",
            "14     \t [-4.5384795  10.16709085]. \t  -41.02305054698434 \t -0.5499315281120278\n",
            "15     \t [10.          6.74576561]. \t  -15.951759895722818 \t -0.5499315281120278\n",
            "16     \t [0.19441817 0.00031042]. \t  -51.85590394459697 \t -0.5499315281120278\n",
            "17     \t [-1.59788474 11.71064845]. \t  -17.792452384374602 \t -0.5499315281120278\n",
            "18     \t [5.51320561 0.32039299]. \t  -17.585298484881157 \t -0.5499315281120278\n",
            "19     \t [10.          2.30279667]. \t  -2.4333646017234534 \t -0.5499315281120278\n",
            "20     \t [4.74063157 9.43492661]. \t  -75.50321288022754 \t -0.5499315281120278\n"
          ],
          "name": "stdout"
        }
      ]
    },
    {
      "cell_type": "code",
      "metadata": {
        "colab": {
          "base_uri": "https://localhost:8080/"
        },
        "id": "CphOPndPGClX",
        "outputId": "80472214-a0b8-4261-e9b6-7ca48449d24e"
      },
      "source": [
        "### EXACT GP EI GRADIENTS\n",
        "\n",
        "np.random.seed(run_num_13)\n",
        "surrogate_exact_13 = dGaussianProcess(cov_func, optimize=opt)\n",
        "\n",
        "exact_13 = dGPGO(surrogate_exact_13, Acquisition_new(util_grad_exact), objfunc, param)\n",
        "exact_13.run(init_evals=n_init, max_iter=iters)\n"
      ],
      "execution_count": 25,
      "outputs": [
        {
          "output_type": "stream",
          "text": [
            "Evaluation \t Proposed point \t  Current eval. \t Best eval.\n",
            "init   \t [6.66553616 3.5631183 ]. \t  -24.823670200298267 \t -18.038943061558626\n",
            "init   \t [ 7.36417799 14.48623797]. \t  -188.7803334745195 \t -18.038943061558626\n",
            "init   \t [9.58901671 6.80173871]. \t  -18.038943061558626 \t -18.038943061558626\n",
            "init   \t [ 4.13563694 11.63289772]. \t  -104.87319703906111 \t -18.038943061558626\n",
            "init   \t [ 4.62420017 10.83027344]. \t  -98.03271225790056 \t -18.038943061558626\n",
            "1      \t [-3.51870171  3.68338658]. \t  -91.63196166423945 \t -18.038943061558626\n",
            "2      \t [-4.35385058 13.32256485]. \t  \u001b[92m-10.85616402870354\u001b[0m \t -10.85616402870354\n",
            "3      \t [-0.73927277  8.63772348]. \t  -19.029143764958548 \t -10.85616402870354\n",
            "4      \t [2.09747614 1.08873887]. \t  \u001b[92m-9.758765290841207\u001b[0m \t -9.758765290841207\n",
            "5      \t [ 0.16976309 15.        ]. \t  -105.33142284405855 \t -9.758765290841207\n",
            "6      \t [2.61007618 5.69875103]. \t  -10.559825534649086 \t -9.758765290841207\n",
            "7      \t [10.         10.78923428]. \t  -62.569260685577824 \t -9.758765290841207\n",
            "8      \t [9.10397201 0.34895638]. \t  \u001b[92m-4.379932006641302\u001b[0m \t -4.379932006641302\n",
            "9      \t [-1.25325592  0.05438772]. \t  -79.30871920452344 \t -4.379932006641302\n",
            "10     \t [-4.85862411  9.89314591]. \t  -58.859603210798 \t -4.379932006641302\n",
            "11     \t [6.21693814 7.04107265]. \t  -54.89571608202749 \t -4.379932006641302\n",
            "12     \t [10.          3.23638502]. \t  \u001b[92m-1.9976294867371838\u001b[0m \t -1.9976294867371838\n",
            "13     \t [0.16882819 3.99043216]. \t  -22.509053270723566 \t -1.9976294867371838\n",
            "14     \t [-1.43801047 11.87134016]. \t  -22.26407409097459 \t -1.9976294867371838\n",
            "15     \t [4.98289996 0.55477801]. \t  -13.087559153853718 \t -1.9976294867371838\n",
            "16     \t [2.09956996 8.4897739 ]. \t  -32.84328209411049 \t -1.9976294867371838\n",
            "17     \t [-3.29571171  7.02845202]. \t  -32.096116509189365 \t -1.9976294867371838\n",
            "18     \t [-4.65308818  0.85908343]. \t  -244.85513684845336 \t -1.9976294867371838\n",
            "19     \t [ 3.68186874 15.        ]. \t  -173.60174288984092 \t -1.9976294867371838\n",
            "20     \t [3.65415298 3.27218526]. \t  -3.48952811829074 \t -1.9976294867371838\n"
          ],
          "name": "stdout"
        }
      ]
    },
    {
      "cell_type": "code",
      "metadata": {
        "colab": {
          "base_uri": "https://localhost:8080/"
        },
        "id": "ojHTeARNGCoi",
        "outputId": "443fb3be-3829-4eeb-b284-bd59b6ea1db5"
      },
      "source": [
        "### EXACT GP EI GRADIENTS\n",
        "\n",
        "np.random.seed(run_num_14)\n",
        "surrogate_exact_14 = dGaussianProcess(cov_func, optimize=opt)\n",
        "\n",
        "exact_14 = dGPGO(surrogate_exact_14, Acquisition_new(util_grad_exact), objfunc, param)\n",
        "exact_14.run(init_evals=n_init, max_iter=iters)\n"
      ],
      "execution_count": 26,
      "outputs": [
        {
          "output_type": "stream",
          "text": [
            "Evaluation \t Proposed point \t  Current eval. \t Best eval.\n",
            "init   \t [ 2.70915016 11.59747578]. \t  -81.58264375064097 \t -1.4149920024014744\n",
            "init   \t [8.05641529 0.12070423]. \t  -10.148649076616518 \t -1.4149920024014744\n",
            "init   \t [-0.35396112 14.36405609]. \t  -79.6056658956529 \t -1.4149920024014744\n",
            "init   \t [2.69675068 4.77426637]. \t  -5.855607664288365 \t -1.4149920024014744\n",
            "init   \t [3.08799906 3.31882414]. \t  -1.4149920024014744 \t -1.4149920024014744\n",
            "1      \t [-3.9690762   0.55943317]. \t  -193.7395503314444 \t -1.4149920024014744\n",
            "2      \t [10. 15.]. \t  -145.87219087939556 \t -1.4149920024014744\n",
            "3      \t [-3.66670736  8.25640817]. \t  -29.95349403696578 \t -1.4149920024014744\n",
            "4      \t [9.39091674 7.13516668]. \t  -22.386185498178882 \t -1.4149920024014744\n",
            "5      \t [ 7.25108949 11.10492442]. \t  -112.52804163360832 \t -1.4149920024014744\n",
            "6      \t [-4.74819159 13.78438333]. \t  -17.553495258306747 \t -1.4149920024014744\n",
            "7      \t [1.01745542 0.33800448]. \t  -32.488528858603104 \t -1.4149920024014744\n",
            "8      \t [-1.1286837   4.52130735]. \t  -25.93925001927779 \t -1.4149920024014744\n",
            "9      \t [6.51609625 4.12887337]. \t  -28.42976129035589 \t -1.4149920024014744\n",
            "10     \t [ 5.2587603 15.       ]. \t  -205.34737260372506 \t -1.4149920024014744\n",
            "11     \t [0.35077934 8.21203687]. \t  -26.604244715300847 \t -1.4149920024014744\n",
            "12     \t [4.946416   7.58741917]. \t  -51.905652228593574 \t -1.4149920024014744\n",
            "13     \t [10.          3.65480235]. \t  -2.3680435404604756 \t -1.4149920024014744\n",
            "14     \t [5.21943434 0.1826132 ]. \t  -15.7230493302195 \t -1.4149920024014744\n",
            "15     \t [-1.93319463 11.10281195]. \t  -8.977480580191436 \t -1.4149920024014744\n",
            "16     \t [10.          1.69360808]. \t  -3.6575342151183925 \t -1.4149920024014744\n",
            "17     \t [-4.90324814  5.71576793]. \t  -137.12331788718637 \t -1.4149920024014744\n",
            "18     \t [3.40085787 2.45766073]. \t  \u001b[92m-0.8603052485247868\u001b[0m \t -0.8603052485247868\n",
            "19     \t [10.          9.83026207]. \t  -48.55524053131122 \t -0.8603052485247868\n",
            "20     \t [3.3858763  2.80331306]. \t  -1.1886447837995107 \t -0.8603052485247868\n"
          ],
          "name": "stdout"
        }
      ]
    },
    {
      "cell_type": "code",
      "metadata": {
        "colab": {
          "base_uri": "https://localhost:8080/"
        },
        "id": "vCJzn4vWGCs3",
        "outputId": "6609d82d-d1c0-45e9-f064-bd34a20c7e75"
      },
      "source": [
        "### EXACT GP EI GRADIENTS\n",
        "\n",
        "np.random.seed(run_num_15)\n",
        "surrogate_exact_15 = dGaussianProcess(cov_func, optimize=opt)\n",
        "\n",
        "exact_15 = dGPGO(surrogate_exact_15, Acquisition_new(util_grad_exact), objfunc, param)\n",
        "exact_15.run(init_evals=n_init, max_iter=iters)\n"
      ],
      "execution_count": 27,
      "outputs": [
        {
          "output_type": "stream",
          "text": [
            "Evaluation \t Proposed point \t  Current eval. \t Best eval.\n",
            "init   \t [7.73226546 2.68343887]. \t  -12.768724532005583 \t -12.768724532005583\n",
            "init   \t [-4.18455179  5.42307669]. \t  -95.39334176626551 \t -12.768724532005583\n",
            "init   \t [-0.86898607  7.95000337]. \t  -16.419487782111716 \t -12.768724532005583\n",
            "init   \t [-0.41121626  4.56711539]. \t  -23.250362743740954 \t -12.768724532005583\n",
            "init   \t [-3.32388086  3.74848521]. \t  -80.99796277938532 \t -12.768724532005583\n",
            "1      \t [10.         13.52961303]. \t  -112.75363605665893 \t -12.768724532005583\n",
            "2      \t [-3.60562328 14.8673558 ]. \t  \u001b[92m-3.5139061901593145\u001b[0m \t -3.5139061901593145\n",
            "3      \t [ 2.33128509 14.15725801]. \t  -128.05010787219163 \t -3.5139061901593145\n",
            "4      \t [6.19145623 8.0351404 ]. \t  -67.68334148789066 \t -3.5139061901593145\n",
            "5      \t [1.48208079 0.384964  ]. \t  -23.382291002085054 \t -3.5139061901593145\n",
            "6      \t [10.          6.01629092]. \t  -11.023324355358392 \t -3.5139061901593145\n",
            "7      \t [-4.29675819 10.25288707]. \t  -30.83021813713061 \t -3.5139061901593145\n",
            "8      \t [3.75063895 4.26642102]. \t  -7.973411813652641 \t -3.5139061901593145\n",
            "9      \t [2.48607813 9.71832879]. \t  -49.67582981661756 \t -3.5139061901593145\n",
            "10     \t [ 6.03647945 12.28417685]. \t  -144.39697471474818 \t -3.5139061901593145\n",
            "11     \t [5.01441695 0.55182397]. \t  -13.368510198152414 \t -3.5139061901593145\n",
            "12     \t [10.          9.46861807]. \t  -43.74791883312489 \t -3.5139061901593145\n",
            "13     \t [-0.88678933 11.68710614]. \t  -33.4911136010154 \t -3.5139061901593145\n",
            "14     \t [-4.67678913  0.44897145]. \t  -259.92871750598806 \t -3.5139061901593145\n",
            "15     \t [-1.23590678 14.95606844]. \t  -59.28356608797627 \t -3.5139061901593145\n",
            "16     \t [-4.87304579 14.09917578]. \t  -18.957321749749013 \t -3.5139061901593145\n",
            "17     \t [8.74249836 0.13067522]. \t  -5.89247676551743 \t -3.5139061901593145\n",
            "18     \t [2.89356944 6.51131521]. \t  -16.972498412361908 \t -3.5139061901593145\n",
            "19     \t [10.          3.11486709]. \t  \u001b[92m-1.9556646196492\u001b[0m \t -1.9556646196492\n",
            "20     \t [6.97572399 4.99740018]. \t  -31.93205360593434 \t -1.9556646196492\n"
          ],
          "name": "stdout"
        }
      ]
    },
    {
      "cell_type": "code",
      "metadata": {
        "colab": {
          "base_uri": "https://localhost:8080/"
        },
        "id": "bGGkhp-kGCw6",
        "outputId": "fcfba36e-5e6c-454e-f4bb-b495c053ef37"
      },
      "source": [
        "### EXACT GP EI GRADIENTS\n",
        "\n",
        "np.random.seed(run_num_16)\n",
        "surrogate_exact_16 = dGaussianProcess(cov_func, optimize=opt)\n",
        "\n",
        "exact_16 = dGPGO(surrogate_exact_16, Acquisition_new(util_grad_exact), objfunc, param)\n",
        "exact_16.run(init_evals=n_init, max_iter=iters)\n"
      ],
      "execution_count": 28,
      "outputs": [
        {
          "output_type": "stream",
          "text": [
            "Evaluation \t Proposed point \t  Current eval. \t Best eval.\n",
            "init   \t [-1.65063381  7.84745012]. \t  -10.514702126319445 \t -2.715864006988424\n",
            "init   \t [3.26052185 0.68402925]. \t  -2.715864006988424 \t -2.715864006988424\n",
            "init   \t [0.41093253 3.34621413]. \t  -22.889515127492515 \t -2.715864006988424\n",
            "init   \t [5.33089243 2.45597138]. \t  -17.178157611778595 \t -2.715864006988424\n",
            "init   \t [-3.945127  14.1151629]. \t  -3.3649224341694195 \t -2.715864006988424\n",
            "1      \t [ 5.63879248 14.58068289]. \t  -198.51319639462758 \t -2.715864006988424\n",
            "2      \t [9.91844219 8.81695252]. \t  -36.28422213736768 \t -2.715864006988424\n",
            "3      \t [3.90820632 8.01405849]. \t  -42.28391486640599 \t -2.715864006988424\n",
            "4      \t [9.78036449 0.12564739]. \t  -8.104164369970292 \t -2.715864006988424\n",
            "5      \t [-4.32356001  1.77408484]. \t  -189.20272661085582 \t -2.715864006988424\n",
            "6      \t [ 0.45618055 13.20713457]. \t  -81.12955981694466 \t -2.715864006988424\n",
            "7      \t [10.          4.28901566]. \t  -3.597088562611952 \t -2.715864006988424\n",
            "8      \t [10.         13.26467599]. \t  -107.24602539818892 \t -2.715864006988424\n",
            "9      \t [-3.51916296 11.08520422]. \t  -5.55001121412381 \t -2.715864006988424\n",
            "10     \t [-4.61043148  6.9770767 ]. \t  -91.95301475460944 \t -2.715864006988424\n",
            "11     \t [7.04711226 6.09216728]. \t  -40.87009760369731 \t -2.715864006988424\n",
            "12     \t [ 6.58234879 10.6026952 ]. \t  -109.07656005169005 \t -2.715864006988424\n",
            "13     \t [-0.2883829   0.26463129]. \t  -57.70871011655865 \t -2.715864006988424\n",
            "14     \t [1.02945921 9.54007201]. \t  -40.36552263777338 \t -2.715864006988424\n",
            "15     \t [8.33850512 2.58773204]. \t  -6.2958731129522905 \t -2.715864006988424\n",
            "16     \t [1.15399349 6.27273598]. \t  -17.640591025316404 \t -2.715864006988424\n",
            "17     \t [6.91699562 0.15049574]. \t  -18.78077424411262 \t -2.715864006988424\n",
            "18     \t [3.53507082 4.67951456]. \t  -8.37514873685899 \t -2.715864006988424\n",
            "19     \t [-2.11102064 15.        ]. \t  -30.71059634480449 \t -2.715864006988424\n",
            "20     \t [ 3.5071101  11.30707971]. \t  -87.51984024689277 \t -2.715864006988424\n"
          ],
          "name": "stdout"
        }
      ]
    },
    {
      "cell_type": "code",
      "metadata": {
        "colab": {
          "base_uri": "https://localhost:8080/"
        },
        "id": "Yrs2mp7hGC1Z",
        "outputId": "a87c80eb-9316-4c0b-c1ea-1bbc8863e544"
      },
      "source": [
        "### EXACT GP EI GRADIENTS\n",
        "\n",
        "np.random.seed(run_num_17)\n",
        "surrogate_exact_17 = dGaussianProcess(cov_func, optimize=opt)\n",
        "\n",
        "exact_17 = dGPGO(surrogate_exact_17, Acquisition_new(util_grad_exact), objfunc, param)\n",
        "exact_17.run(init_evals=n_init, max_iter=iters)\n"
      ],
      "execution_count": 29,
      "outputs": [
        {
          "output_type": "stream",
          "text": [
            "Evaluation \t Proposed point \t  Current eval. \t Best eval.\n",
            "init   \t [-0.58002496  7.95880133]. \t  -19.016141117164256 \t -19.016141117164256\n",
            "init   \t [-2.1271882   1.01850537]. \t  -85.05949339404415 \t -19.016141117164256\n",
            "init   \t [6.8047819  9.84500283]. \t  -93.89792695202516 \t -19.016141117164256\n",
            "init   \t [4.56281344 8.63404341]. \t  -60.50217141122736 \t -19.016141117164256\n",
            "init   \t [-4.41405626  5.36720407]. \t  -110.70834086593878 \t -19.016141117164256\n",
            "1      \t [9.76575296 0.98553483]. \t  \u001b[92m-4.1623278326263815\u001b[0m \t -4.1623278326263815\n",
            "2      \t [-4.0692092  14.64043819]. \t  -4.241825729253317 \t -4.1623278326263815\n",
            "3      \t [10. 15.]. \t  -145.87219087939556 \t -4.1623278326263815\n",
            "4      \t [ 3.03819562 14.9592515 ]. \t  -159.26550321070087 \t -4.1623278326263815\n",
            "5      \t [3.8618099  0.73368105]. \t  \u001b[92m-3.8779506963621575\u001b[0m \t -3.8779506963621575\n",
            "6      \t [10.          5.66490873]. \t  -9.029129800364839 \t -3.8779506963621575\n",
            "7      \t [6.18301175 3.93663313]. \t  -27.611202129846948 \t -3.8779506963621575\n",
            "8      \t [1.46458448 4.25275251]. \t  -11.111950982995415 \t -3.8779506963621575\n",
            "9      \t [-4.98642461 10.95750676]. \t  -50.923694917151366 \t -3.8779506963621575\n",
            "10     \t [-0.84291057 12.44797726]. \t  -41.535010633431455 \t -3.8779506963621575\n",
            "11     \t [6.63454958 0.79833416]. \t  -19.123570939816663 \t -3.8779506963621575\n",
            "12     \t [10.         11.13376696]. \t  -68.05321767041369 \t -3.8779506963621575\n",
            "13     \t [ 2.7112082  11.33650185]. \t  -76.99719673605155 \t -3.8779506963621575\n",
            "14     \t [1.74315048 1.41684443]. \t  -13.199300469408051 \t -3.8779506963621575\n",
            "15     \t [ 6.89121741 13.64978202]. \t  -173.6981588216124 \t -3.8779506963621575\n",
            "16     \t [9.81262022 3.25363178]. \t  \u001b[92m-1.2977267866295055\u001b[0m \t -1.2977267866295055\n",
            "17     \t [-1.07070092  4.73319029]. \t  -24.332340293157394 \t -1.2977267866295055\n",
            "18     \t [2.10689402 6.67044014]. \t  -16.999373345618825 \t -1.2977267866295055\n",
            "19     \t [10.          7.95045038]. \t  -26.42083528931046 \t -1.2977267866295055\n",
            "20     \t [-1.98566095 15.        ]. \t  -34.542530820820474 \t -1.2977267866295055\n"
          ],
          "name": "stdout"
        }
      ]
    },
    {
      "cell_type": "code",
      "metadata": {
        "colab": {
          "base_uri": "https://localhost:8080/"
        },
        "id": "f0HIEP3PIUEa",
        "outputId": "44e5441c-d619-41e7-c280-28145852791c"
      },
      "source": [
        "### EXACT GP EI GRADIENTS\n",
        "\n",
        "np.random.seed(run_num_18)\n",
        "surrogate_exact_18 = dGaussianProcess(cov_func, optimize=opt)\n",
        "\n",
        "exact_18 = dGPGO(surrogate_exact_18, Acquisition_new(util_grad_exact), objfunc, param)\n",
        "exact_18.run(init_evals=n_init, max_iter=iters)\n"
      ],
      "execution_count": 30,
      "outputs": [
        {
          "output_type": "stream",
          "text": [
            "Evaluation \t Proposed point \t  Current eval. \t Best eval.\n",
            "init   \t [4.75561363 7.58180061]. \t  -49.215059064668324 \t -8.150075223157177\n",
            "init   \t [8.17902206 2.72760338]. \t  -8.150075223157177 \t -8.150075223157177\n",
            "init   \t [ 7.78349603 11.25204429]. \t  -106.98107856533271 \t -8.150075223157177\n",
            "init   \t [ 4.99152501 14.81843172]. \t  -196.08601750690153 \t -8.150075223157177\n",
            "init   \t [-1.14547366  0.42458888]. \t  -71.23649635555944 \t -8.150075223157177\n",
            "1      \t [-4.83474958 11.77354131]. \t  -35.58412906267954 \t -8.150075223157177\n",
            "2      \t [-1.88826854  6.70399181]. \t  -14.630614325969386 \t -8.150075223157177\n",
            "3      \t [-0.6538924 15.       ]. \t  -80.09560277106152 \t -8.150075223157177\n",
            "4      \t [3.55188376 2.40649444]. \t  \u001b[92m-1.3794738071685266\u001b[0m \t -1.3794738071685266\n",
            "5      \t [ 0.97448377 10.61102989]. \t  -51.86556046457193 \t -1.3794738071685266\n",
            "6      \t [10.          6.76728284]. \t  -16.11329263377079 \t -1.3794738071685266\n",
            "7      \t [10. 15.]. \t  -145.87219087939556 \t -1.3794738071685266\n",
            "8      \t [1.42440013 4.44264226]. \t  -11.600989925172023 \t -1.3794738071685266\n",
            "9      \t [-3.75698564  3.40009923]. \t  -110.37686089921921 \t -1.3794738071685266\n",
            "10     \t [4.61614131 0.3956583 ]. \t  -10.097923880169065 \t -1.3794738071685266\n",
            "11     \t [-4.46722101  7.98278387]. \t  -67.03692273469423 \t -1.3794738071685266\n",
            "12     \t [5.5085012  4.12517503]. \t  -25.696675011073943 \t -1.3794738071685266\n",
            "13     \t [1.11920268 7.31212497]. \t  -22.784481674973986 \t -1.3794738071685266\n",
            "14     \t [-4.5227876 15.       ]. \t  -8.897238434073513 \t -1.3794738071685266\n",
            "15     \t [7.66112149 0.46888695]. \t  -12.687280551588847 \t -1.3794738071685266\n",
            "16     \t [ 4.47071425 11.15332863]. \t  -101.5330005293074 \t -1.3794738071685266\n",
            "17     \t [2.08497091 1.76312092]. \t  -7.4682890655731295 \t -1.3794738071685266\n",
            "18     \t [10.          3.94623825]. \t  -2.8329209174640537 \t -1.3794738071685266\n",
            "19     \t [-2.02477924 11.03039694]. \t  -7.422902901939867 \t -1.3794738071685266\n",
            "20     \t [7.71794077 7.87515161]. \t  -53.07976652303961 \t -1.3794738071685266\n"
          ],
          "name": "stdout"
        }
      ]
    },
    {
      "cell_type": "code",
      "metadata": {
        "colab": {
          "base_uri": "https://localhost:8080/"
        },
        "id": "S3mxRQDLIUPC",
        "outputId": "9f1ec1df-ed62-485a-b723-f513cc009f6e"
      },
      "source": [
        "### EXACT GP EI GRADIENTS\n",
        "\n",
        "np.random.seed(run_num_19)\n",
        "surrogate_exact_19 = dGaussianProcess(cov_func, optimize=opt)\n",
        "\n",
        "exact_19 = dGPGO(surrogate_exact_19, Acquisition_new(util_grad_exact), objfunc, param)\n",
        "exact_19.run(init_evals=n_init, max_iter=iters)\n"
      ],
      "execution_count": 31,
      "outputs": [
        {
          "output_type": "stream",
          "text": [
            "Evaluation \t Proposed point \t  Current eval. \t Best eval.\n",
            "init   \t [-3.53699597 11.41874575]. \t  -4.475608269502271 \t -4.475608269502271\n",
            "init   \t [-1.2959304   2.07197531]. \t  -51.13947793770689 \t -4.475608269502271\n",
            "init   \t [-0.02830155  1.24499348]. \t  -42.63973921760034 \t -4.475608269502271\n",
            "init   \t [ 5.07965622 12.09890697]. \t  -131.17235664506808 \t -4.475608269502271\n",
            "init   \t [9.74112872 9.53491102]. \t  -46.84458913925112 \t -4.475608269502271\n",
            "1      \t [8.6773951  0.80876842]. \t  \u001b[92m-4.184707152540867\u001b[0m \t -4.184707152540867\n",
            "2      \t [4.45041553 5.47999855]. \t  -23.54840201771013 \t -4.184707152540867\n",
            "3      \t [ 0.08624589 15.        ]. \t  -103.03846780814712 \t -4.184707152540867\n",
            "4      \t [10. 15.]. \t  -145.87219087939556 \t -4.184707152540867\n",
            "5      \t [-0.91513787  7.50858772]. \t  -15.857374423419069 \t -4.184707152540867\n",
            "6      \t [10.          4.77778615]. \t  -5.093160567527242 \t -4.184707152540867\n",
            "7      \t [4.76905454 0.49670355]. \t  -11.268474335538237 \t -4.184707152540867\n",
            "8      \t [-4.9453939   5.30533112]. \t  -149.69190796995701 \t -4.184707152540867\n",
            "9      \t [-4.34465428 14.82396576]. \t  -6.828128135341803 \t -4.184707152540867\n",
            "10     \t [ 1.15601712 10.51926906]. \t  -52.142173924509684 \t -4.184707152540867\n",
            "11     \t [7.18726961 3.34197475]. \t  -20.379999787988332 \t -4.184707152540867\n",
            "12     \t [1.37895751 4.86049863]. \t  -12.486119288880994 \t -4.184707152540867\n",
            "13     \t [-4.85567513  0.38763976]. \t  -279.88084243492693 \t -4.184707152540867\n",
            "14     \t [7.76438017 6.7609106 ]. \t  -39.27173579778311 \t -4.184707152540867\n",
            "15     \t [4.33899147 8.52350869]. \t  -55.45661637873897 \t -4.184707152540867\n",
            "16     \t [-4.22166609  8.98464299]. \t  -41.917026734547484 \t -4.184707152540867\n",
            "17     \t [10.          2.32612263]. \t  \u001b[92m-2.401244893816437\u001b[0m \t -2.401244893816437\n",
            "18     \t [3.41276606 2.75681281]. \t  \u001b[92m-1.2163441784640376\u001b[0m \t -1.2163441784640376\n",
            "19     \t [ 3.75812102 15.        ]. \t  -175.26451664270243 \t -1.2163441784640376\n",
            "20     \t [-2.57441917 12.9807486 ]. \t  -6.011083032452941 \t -1.2163441784640376\n"
          ],
          "name": "stdout"
        }
      ]
    },
    {
      "cell_type": "code",
      "metadata": {
        "colab": {
          "base_uri": "https://localhost:8080/"
        },
        "id": "Aawd59dRIUYn",
        "outputId": "c82faa4f-3d67-4d6c-83b3-b2b938b994b6"
      },
      "source": [
        "### EXACT GP EI GRADIENTS\n",
        "\n",
        "np.random.seed(run_num_20)\n",
        "surrogate_exact_20 = dGaussianProcess(cov_func, optimize=opt)\n",
        "\n",
        "exact_20 = dGPGO(surrogate_exact_20, Acquisition_new(util_grad_exact), objfunc, param)\n",
        "exact_20.run(init_evals=n_init, max_iter=iters)\n"
      ],
      "execution_count": 32,
      "outputs": [
        {
          "output_type": "stream",
          "text": [
            "Evaluation \t Proposed point \t  Current eval. \t Best eval.\n",
            "init   \t [ 3.82196202 13.46570592]. \t  -138.5264349938869 \t -14.042667401507376\n",
            "init   \t [ 8.37296094 12.23756216]. \t  -115.63178540512689 \t -14.042667401507376\n",
            "init   \t [-4.46165622 10.37636373]. \t  -35.66708529307584 \t -14.042667401507376\n",
            "init   \t [0.68021413 7.77766418]. \t  -25.307769914281764 \t -14.042667401507376\n",
            "init   \t [4.86927198 2.90775327]. \t  -14.042667401507376 \t -14.042667401507376\n",
            "1      \t [-4.88337277  1.15554411]. \t  -258.03874991509736 \t -14.042667401507376\n",
            "2      \t [10.        5.847943]. \t  \u001b[92m-10.037088221310093\u001b[0m \t -10.037088221310093\n",
            "3      \t [9.98998478 0.35020336]. \t  \u001b[92m-8.875777366291523\u001b[0m \t -8.875777366291523\n",
            "4      \t [-1.71590052 15.        ]. \t  -43.28836110402055 \t -8.875777366291523\n",
            "5      \t [0.11401177 1.25905543]. \t  -40.344030206075885 \t -8.875777366291523\n",
            "6      \t [5.81288806 8.34803223]. \t  -70.8966132322713 \t -8.875777366291523\n",
            "7      \t [-0.09617023 11.409629  ]. \t  -47.176704813052176 \t -8.875777366291523\n",
            "8      \t [-4.42664054  6.16608594]. \t  -95.8512975805945 \t -8.875777366291523\n",
            "9      \t [6.85661806 0.39276846]. \t  -18.655961292664593 \t -8.875777366291523\n",
            "10     \t [2.02540321 4.56015532]. \t  \u001b[92m-7.355479446757688\u001b[0m \t -7.355479446757688\n",
            "11     \t [10.          8.85079431]. \t  -36.1403464473235 \t -7.355479446757688\n",
            "12     \t [9.76126987 3.15590357]. \t  \u001b[92m-1.0826447795636938\u001b[0m \t -1.0826447795636938\n",
            "13     \t [7.28182299 4.75158967]. \t  -27.385912699080475 \t -1.0826447795636938\n",
            "14     \t [3.43045479 0.3264068 ]. \t  -3.8028213695522 \t -1.0826447795636938\n",
            "15     \t [-0.7357531   4.33799813]. \t  -25.54524204775262 \t -1.0826447795636938\n",
            "16     \t [10. 15.]. \t  -145.87219087939556 \t -1.0826447795636938\n",
            "17     \t [-4.54036374 14.60168957]. \t  -10.01437123438269 \t -1.0826447795636938\n",
            "18     \t [ 2.86772191 10.41370335]. \t  -63.40982935430876 \t -1.0826447795636938\n",
            "19     \t [3.89683616 5.81027627]. \t  -19.415806748853484 \t -1.0826447795636938\n",
            "20     \t [-2.06573211  8.96388615]. \t  -6.205019614765778 \t -1.0826447795636938\n"
          ],
          "name": "stdout"
        }
      ]
    },
    {
      "cell_type": "code",
      "metadata": {
        "colab": {
          "base_uri": "https://localhost:8080/"
        },
        "id": "xkgzPRbBTHaq",
        "outputId": "47f3298c-438e-4487-a1a5-7d44d6a65b76"
      },
      "source": [
        "end_exact = time.time()\n",
        "end_exact\n",
        "\n",
        "time_exact = end_exact - start_exact\n",
        "time_exact\n",
        "\n",
        "start_zero = time.time()\n",
        "start_zero"
      ],
      "execution_count": 33,
      "outputs": [
        {
          "output_type": "execute_result",
          "data": {
            "text/plain": [
              "1629288180.4616632"
            ]
          },
          "metadata": {
            "tags": []
          },
          "execution_count": 33
        }
      ]
    },
    {
      "cell_type": "code",
      "metadata": {
        "colab": {
          "base_uri": "https://localhost:8080/"
        },
        "id": "7CG3Ndvb16Rb",
        "outputId": "d7db2eb2-3b3d-45a3-d7ef-7caf1bdbcc9f"
      },
      "source": [
        "### ZERO GP EI GRADIENTS\n",
        "\n",
        "np.random.seed(run_num_1)\n",
        "surrogate_zero_1 = dGaussianProcess(cov_func, optimize=opt)\n",
        "\n",
        "zero_1 = dGPGO_zero(surrogate_zero_1, Acquisition_new(util_grad_zero), objfunc, param)\n",
        "zero_1.run(init_evals=n_init, max_iter=iters)\n"
      ],
      "execution_count": 34,
      "outputs": [
        {
          "output_type": "stream",
          "text": [
            "Evaluation \t Proposed point \t  Current eval. \t Best eval.\n",
            "init   \t [ 1.25533007 10.8048674 ]. \t  -56.52874004692151 \t -27.68166689936483\n",
            "init   \t [-4.99828438  4.53498859]. \t  -172.66531086516164 \t -27.68166689936483\n",
            "init   \t [-2.79866164  1.38507892]. \t  -102.58290348816024 \t -27.68166689936483\n",
            "init   \t [-2.20609683  5.18341091]. \t  -28.868064601155666 \t -27.68166689936483\n",
            "init   \t [0.95151211 8.08225101]. \t  -27.68166689936483 \t -27.68166689936483\n",
            "1      \t [8.41909995 1.27566317]. \t  \u001b[92m-5.089934878453152\u001b[0m \t -5.089934878453152\n",
            "2      \t [9.62110556 9.549066  ]. \t  -48.240386346213874 \t -5.089934878453152\n",
            "3      \t [-3.40124185 14.78563236]. \t  \u001b[92m-4.246346957669259\u001b[0m \t -4.246346957669259\n",
            "4      \t [ 5.75393503 14.80989262]. \t  -205.71967217110094 \t -4.246346957669259\n",
            "5      \t [3.04012742 0.5978989 ]. \t  \u001b[92m-3.5362887887138523\u001b[0m \t -3.5362887887138523\n",
            "6      \t [4.57532981 4.91354166]. \t  -20.87585798447303 \t -3.5362887887138523\n",
            "7      \t [ 5.44405125 10.17723681]. \t  -97.64909642372251 \t -3.5362887887138523\n",
            "8      \t [-3.67717032 10.25565504]. \t  -12.921573514571422 \t -3.5362887887138523\n",
            "9      \t [9.45873833 4.21433305]. \t  \u001b[92m-3.3293633919946455\u001b[0m \t -3.3293633919946455\n",
            "10     \t [1.36839865 3.0618375 ]. \t  -12.9345850052292 \t -3.3293633919946455\n",
            "11     \t [ 1.62068846 14.58208631]. \t  -126.6405369153871 \t -3.3293633919946455\n",
            "12     \t [ 9.55928048 13.94325565]. \t  -129.36302497139116 \t -3.3293633919946455\n",
            "13     \t [5.89302715 1.33438666]. \t  -18.932096463393705 \t -3.3293633919946455\n",
            "14     \t [-1.95651649 12.39047307]. \t  -14.127331272125602 \t -3.3293633919946455\n",
            "15     \t [1.08730609 0.07315567]. \t  -33.37815908014821 \t -3.3293633919946455\n",
            "16     \t [7.29954133 7.01727072]. \t  -48.13465530825948 \t -3.3293633919946455\n",
            "17     \t [9.83710444 0.20295762]. \t  -8.181799328104855 \t -3.3293633919946455\n",
            "18     \t [-4.92102224 12.48455939]. \t  -32.02233990682861 \t -3.3293633919946455\n",
            "19     \t [-1.82343064  7.92451039]. \t  -9.579815574647457 \t -3.3293633919946455\n",
            "20     \t [3.63304227 7.1512893 ]. \t  -28.869942024542826 \t -3.3293633919946455\n"
          ],
          "name": "stdout"
        }
      ]
    },
    {
      "cell_type": "code",
      "metadata": {
        "id": "-ilCPSAu9SAg",
        "colab": {
          "base_uri": "https://localhost:8080/"
        },
        "outputId": "7b25bba5-46ae-4be6-d7a6-c40f3f642eb7"
      },
      "source": [
        "### ZERO GP EI GRADIENTS\n",
        "\n",
        "np.random.seed(run_num_2)\n",
        "surrogate_zero_2 = dGaussianProcess(cov_func, optimize=opt)\n",
        "\n",
        "zero_2 = dGPGO_zero(surrogate_zero_2, Acquisition_new(util_grad_zero), objfunc, param)\n",
        "zero_2.run(init_evals=n_init, max_iter=iters)\n"
      ],
      "execution_count": 35,
      "outputs": [
        {
          "output_type": "stream",
          "text": [
            "Evaluation \t Proposed point \t  Current eval. \t Best eval.\n",
            "init   \t [1.53992353 0.38889348]. \t  -22.31361308916297 \t -6.692051508754487\n",
            "init   \t [3.24493717 6.52983589]. \t  -19.233109967858276 \t -6.692051508754487\n",
            "init   \t [1.30551703 4.95502232]. \t  -13.177851563387286 \t -6.692051508754487\n",
            "init   \t [-1.93027049  9.2890645 ]. \t  -6.692051508754487 \t -6.692051508754487\n",
            "init   \t [-0.50517989  4.00240913]. \t  -26.437522758780958 \t -6.692051508754487\n",
            "1      \t [ 8.8924193 14.1167381]. \t  -147.03001228842345 \t -6.692051508754487\n",
            "2      \t [9.06869679 2.0164014 ]. \t  \u001b[92m-1.0307174678975652\u001b[0m \t -1.0307174678975652\n",
            "3      \t [-0.16427306 14.97419295]. \t  -95.32402138742069 \t -1.0307174678975652\n",
            "4      \t [9.1218473  7.52213687]. \t  -28.8277818749712 \t -1.0307174678975652\n",
            "5      \t [-4.18406245  1.39245696]. \t  -188.1729109967922 \t -1.0307174678975652\n",
            "6      \t [ 5.63078896 10.12483776]. \t  -98.46139675860731 \t -1.0307174678975652\n",
            "7      \t [-4.8352934   5.99895526]. \t  -126.03115617782663 \t -1.0307174678975652\n",
            "8      \t [-4.87542912 12.76786652]. \t  -28.06097426382346 \t -1.0307174678975652\n",
            "9      \t [5.7833383  2.88372839]. \t  -21.550921538725138 \t -1.0307174678975652\n",
            "10     \t [ 3.95874319 14.15206908]. \t  -157.88619208548317 \t -1.0307174678975652\n",
            "11     \t [8.6005288 0.1204582]. \t  -6.5312617538390665 \t -1.0307174678975652\n",
            "12     \t [9.91582598 3.74946468]. \t  -2.219896670584877 \t -1.0307174678975652\n",
            "13     \t [ 0.68363803 11.69465634]. \t  -62.6339694533514 \t -1.0307174678975652\n",
            "14     \t [0.3815867  7.69133774]. \t  -24.109157182005973 \t -1.0307174678975652\n",
            "15     \t [4.49232294 0.38780358]. \t  -9.047768454925459 \t -1.0307174678975652\n",
            "16     \t [6.77189219 5.66196142]. \t  -38.868303036349964 \t -1.0307174678975652\n",
            "17     \t [-2.47389992 11.81812462]. \t  -3.6483629761948 \t -1.0307174678975652\n",
            "18     \t [3.22202492 3.34749253]. \t  -1.715754273322009 \t -1.0307174678975652\n",
            "19     \t [ 9.26088789 10.66791406]. \t  -69.87695793709416 \t -1.0307174678975652\n",
            "20     \t [8.87849205 2.11324236]. \t  -1.799038869907454 \t -1.0307174678975652\n"
          ],
          "name": "stdout"
        }
      ]
    },
    {
      "cell_type": "code",
      "metadata": {
        "colab": {
          "base_uri": "https://localhost:8080/"
        },
        "id": "XieJ158mIvlP",
        "outputId": "a73ee0a6-663d-4edd-a509-efee481940cb"
      },
      "source": [
        "### ZERO GP EI GRADIENTS\n",
        "\n",
        "np.random.seed(run_num_3)\n",
        "surrogate_zero_3 = dGaussianProcess(cov_func, optimize=opt)\n",
        "\n",
        "zero_3 = dGPGO_zero(surrogate_zero_3, Acquisition_new(util_grad_zero), objfunc, param)\n",
        "zero_3.run(init_evals=n_init, max_iter=iters)\n"
      ],
      "execution_count": 36,
      "outputs": [
        {
          "output_type": "stream",
          "text": [
            "Evaluation \t Proposed point \t  Current eval. \t Best eval.\n",
            "init   \t [ 3.26196854 10.62221734]. \t  -71.68783452098575 \t -18.07886746449891\n",
            "init   \t [-0.63642892  7.66241408]. \t  -18.07886746449891 \t -18.07886746449891\n",
            "init   \t [ 8.39420432 13.44439633]. \t  -141.98653529865882 \t -18.07886746449891\n",
            "init   \t [-3.11622034  3.10864317]. \t  -83.31045707266176 \t -18.07886746449891\n",
            "init   \t [-4.22799195  6.61214765]. \t  -76.5294170688398 \t -18.07886746449891\n",
            "1      \t [6.70472147 4.59545299]. \t  -30.726791812855225 \t -18.07886746449891\n",
            "2      \t [-4.80375785 13.29726611]. \t  -21.95985477078912 \t -18.07886746449891\n",
            "3      \t [2.48207828 1.0517852 ]. \t  \u001b[92m-5.629026204992\u001b[0m \t -5.629026204992\n",
            "4      \t [8.98585605 0.28386512]. \t  \u001b[92m-4.7149819787426\u001b[0m \t -4.7149819787426\n",
            "5      \t [ 0.41580135 14.46980621]. \t  -101.76219452971873 \t -4.7149819787426\n",
            "6      \t [9.76070045 7.97000832]. \t  -27.944148501372332 \t -4.7149819787426\n",
            "7      \t [1.37673158 4.47788607]. \t  -12.031675104602485 \t -4.7149819787426\n",
            "8      \t [ 4.51109207 14.57482575]. \t  -180.36029964675365 \t -4.7149819787426\n",
            "9      \t [-1.86704317 11.13538276]. \t  -10.133164156131702 \t -4.7149819787426\n",
            "10     \t [3.08019568 6.96866589]. \t  -21.994772466710955 \t -4.7149819787426\n",
            "11     \t [6.59378971 9.16286441]. \t  -83.79251517066842 \t -4.7149819787426\n",
            "12     \t [5.87188612 0.98882892]. \t  -18.81570124575928 \t -4.7149819787426\n",
            "13     \t [9.84655259 2.13735879]. \t  \u001b[92m-1.752605615283338\u001b[0m \t -1.752605615283338\n",
            "14     \t [3.79796754 3.75795368]. \t  -6.153522617294604 \t -1.752605615283338\n",
            "15     \t [-1.23443137  0.11200846]. \t  -77.96377022245267 \t -1.752605615283338\n",
            "16     \t [-4.95332858  9.88280105]. \t  -63.703954909320565 \t -1.752605615283338\n",
            "17     \t [9.13012211 4.39017904]. \t  -5.445023302996753 \t -1.752605615283338\n",
            "18     \t [8.49211547 2.06220588]. \t  -4.348455475745979 \t -1.752605615283338\n",
            "19     \t [-0.28850256 10.437969  ]. \t  -34.95069089709661 \t -1.752605615283338\n",
            "20     \t [-3.18310126 14.77687729]. \t  -6.175279837002928 \t -1.752605615283338\n"
          ],
          "name": "stdout"
        }
      ]
    },
    {
      "cell_type": "code",
      "metadata": {
        "colab": {
          "base_uri": "https://localhost:8080/"
        },
        "id": "PhLBVOIfIvol",
        "outputId": "aa179a6e-a5dd-4f53-c249-ccbb05803d16"
      },
      "source": [
        "### ZERO GP EI GRADIENTS\n",
        "\n",
        "np.random.seed(run_num_4)\n",
        "surrogate_zero_4 = dGaussianProcess(cov_func, optimize=opt)\n",
        "\n",
        "zero_4 = dGPGO_zero(surrogate_zero_4, Acquisition_new(util_grad_zero), objfunc, param)\n",
        "zero_4.run(init_evals=n_init, max_iter=iters)\n"
      ],
      "execution_count": 37,
      "outputs": [
        {
          "output_type": "stream",
          "text": [
            "Evaluation \t Proposed point \t  Current eval. \t Best eval.\n",
            "init   \t [9.50544759 8.20848374]. \t  -32.51676744781521 \t -7.247126865776948\n",
            "init   \t [ 9.5902654  10.72223991]. \t  -66.20566674364716 \t -7.247126865776948\n",
            "init   \t [5.46593237 3.24134243]. \t  -20.90089401680587 \t -7.247126865776948\n",
            "init   \t [9.64411682 0.09345383]. \t  -7.247126865776948 \t -7.247126865776948\n",
            "init   \t [-1.20526456  6.52187299]. \t  -15.941376982363263 \t -7.247126865776948\n",
            "1      \t [ 0.5775056  14.31328634]. \t  -102.48870217898984 \t -7.247126865776948\n",
            "2      \t [-0.13367617  0.17881992]. \t  -55.952651178085794 \t -7.247126865776948\n",
            "3      \t [-4.98639995 14.6489551 ]. \t  -18.844355450809267 \t -7.247126865776948\n",
            "4      \t [4.32819126 9.17004107]. \t  -64.74807516948553 \t -7.247126865776948\n",
            "5      \t [ 6.33722481 13.96549562]. \t  -185.05510990689925 \t -7.247126865776948\n",
            "6      \t [-4.04591226  3.00759296]. \t  -137.3819772231602 \t -7.247126865776948\n",
            "7      \t [-4.95336009  9.46492024]. \t  -69.87288098121975 \t -7.247126865776948\n",
            "8      \t [-0.16914819 10.36255978]. \t  -36.190362240300715 \t -7.247126865776948\n",
            "9      \t [9.16862347 3.07805919]. \t  \u001b[92m-1.3683511749105275\u001b[0m \t -1.3683511749105275\n",
            "10     \t [2.0944046  5.64650092]. \t  -11.022290672747982 \t -1.3683511749105275\n",
            "11     \t [1.88617006 2.72933672]. \t  -7.552148513748719 \t -1.3683511749105275\n",
            "12     \t [4.23781244 0.35449007]. \t  -7.102684493676952 \t -1.3683511749105275\n",
            "13     \t [7.38313608 5.10368941]. \t  -28.890125483433707 \t -1.3683511749105275\n",
            "14     \t [-2.36972283 12.46991546]. \t  -7.01153461077195 \t -1.3683511749105275\n",
            "15     \t [6.52637544 0.70240143]. \t  -19.49012012809042 \t -1.3683511749105275\n",
            "16     \t [ 9.61508667 14.10805784]. \t  -132.08282128659621 \t -1.3683511749105275\n",
            "17     \t [ 3.05936341 11.78249142]. \t  -89.59096257800732 \t -1.3683511749105275\n",
            "18     \t [-0.51430869  3.38686189]. \t  -30.372079959674263 \t -1.3683511749105275\n",
            "19     \t [-3.93548203  0.07312293]. \t  -204.65843104411664 \t -1.3683511749105275\n",
            "20     \t [9.73612868 3.63755508]. \t  -1.6470313737593667 \t -1.3683511749105275\n"
          ],
          "name": "stdout"
        }
      ]
    },
    {
      "cell_type": "code",
      "metadata": {
        "colab": {
          "base_uri": "https://localhost:8080/"
        },
        "id": "arbiPyj2IvsJ",
        "outputId": "4be5aff5-69c9-4c75-c5e7-ad92ae27b6d0"
      },
      "source": [
        "### ZERO GP EI GRADIENTS\n",
        "\n",
        "np.random.seed(run_num_5)\n",
        "surrogate_zero_5 = dGaussianProcess(cov_func, optimize=opt)\n",
        "\n",
        "zero_5 = dGPGO_zero(surrogate_zero_5, Acquisition_new(util_grad_zero), objfunc, param)\n",
        "zero_5.run(init_evals=n_init, max_iter=iters)\n"
      ],
      "execution_count": 38,
      "outputs": [
        {
          "output_type": "stream",
          "text": [
            "Evaluation \t Proposed point \t  Current eval. \t Best eval.\n",
            "init   \t [-1.67010243 13.06098459]. \t  -25.390690545664548 \t -25.311309190989615\n",
            "init   \t [-1.89921267 13.77916362]. \t  -25.311309190989615 \t -25.311309190989615\n",
            "init   \t [2.32616783 9.17615794]. \t  -41.60147975414021 \t -25.311309190989615\n",
            "init   \t [6.48861785 7.77626982]. \t  -63.81281921768236 \t -25.311309190989615\n",
            "init   \t [-0.54799248  2.81581843]. \t  -34.966203644931994 \t -25.311309190989615\n",
            "1      \t [8.84124421 0.03321319]. \t  \u001b[92m-5.96108856337545\u001b[0m \t -5.96108856337545\n",
            "2      \t [ 9.0736314  14.50090003]. \t  -152.42565438241107 \t -5.96108856337545\n",
            "3      \t [-4.81236982  8.00518018]. \t  -85.70683082507513 \t -5.96108856337545\n",
            "4      \t [4.92771672 2.72360202]. \t  -14.094838740236458 \t -5.96108856337545\n",
            "5      \t [ 2.62045273 13.79918705]. \t  -124.49848586716293 \t -5.96108856337545\n",
            "6      \t [9.71341146 4.22996994]. \t  \u001b[92m-3.0473090259367748\u001b[0m \t -3.0473090259367748\n",
            "7      \t [9.77913062 9.81004798]. \t  -50.273770834770254 \t -3.0473090259367748\n",
            "8      \t [-4.98043179  0.55980336]. \t  -287.1471778290685 \t -3.0473090259367748\n",
            "9      \t [-0.60121249  6.68053793]. \t  -18.02272523336382 \t -3.0473090259367748\n",
            "10     \t [3.77819627 0.03628631]. \t  -5.4993665380095695 \t -3.0473090259367748\n",
            "11     \t [2.25945479 5.52095975]. \t  -9.937092064980313 \t -3.0473090259367748\n",
            "12     \t [-4.93202177 11.79776385]. \t  -39.07158146342451 \t -3.0473090259367748\n",
            "13     \t [-4.21104748  4.73751176]. \t  -110.5583720478598 \t -3.0473090259367748\n",
            "14     \t [ 5.34350636 12.04804048]. \t  -133.68963057181185 \t -3.0473090259367748\n",
            "15     \t [-1.35242693 10.13582533]. \t  -15.132488693261552 \t -3.0473090259367748\n",
            "16     \t [1.64965277 0.57437946]. \t  -19.176641483327074 \t -3.0473090259367748\n",
            "17     \t [8.27630033 3.76449441]. \t  -10.4235002628224 \t -3.0473090259367748\n",
            "18     \t [4.56639153 5.39667708]. \t  -24.368504256542487 \t -3.0473090259367748\n",
            "19     \t [9.65703462 6.38551887]. \t  -14.402280293009104 \t -3.0473090259367748\n",
            "20     \t [9.93148416 2.20711877]. \t  \u001b[92m-2.1350786473167114\u001b[0m \t -2.1350786473167114\n"
          ],
          "name": "stdout"
        }
      ]
    },
    {
      "cell_type": "code",
      "metadata": {
        "colab": {
          "base_uri": "https://localhost:8080/"
        },
        "id": "04KJCEm_Ivvf",
        "outputId": "7615be31-3487-43c6-9842-68309e27fbba"
      },
      "source": [
        "### ZERO GP EI GRADIENTS\n",
        "\n",
        "np.random.seed(run_num_6)\n",
        "surrogate_zero_6 = dGaussianProcess(cov_func, optimize=opt)\n",
        "\n",
        "zero_6 = dGPGO_zero(surrogate_zero_6, Acquisition_new(util_grad_zero), objfunc, param)\n",
        "zero_6.run(init_evals=n_init, max_iter=iters)\n"
      ],
      "execution_count": 39,
      "outputs": [
        {
          "output_type": "stream",
          "text": [
            "Evaluation \t Proposed point \t  Current eval. \t Best eval.\n",
            "init   \t [8.39290227 4.97969708]. \t  -15.553860636684597 \t -15.31731051317483\n",
            "init   \t [7.31843685 0.62544939]. \t  -15.31731051317483 \t -15.31731051317483\n",
            "init   \t [-3.3851498   8.92578096]. \t  -16.222288919361837 \t -15.31731051317483\n",
            "init   \t [2.94726043 6.28211143]. \t  -15.406373581304088 \t -15.31731051317483\n",
            "init   \t [0.03111774 9.33779148]. \t  -31.07053245856209 \t -15.31731051317483\n",
            "1      \t [ 9.72522083 14.5299912 ]. \t  -139.8297584868663 \t -15.31731051317483\n",
            "2      \t [-4.42013634  0.37777   ]. \t  -237.69785665817545 \t -15.31731051317483\n",
            "3      \t [ 3.61480227 14.3758058 ]. \t  -156.22942206205929 \t -15.31731051317483\n",
            "4      \t [1.33236176 0.68568901]. \t  -23.985581932967577 \t -15.31731051317483\n",
            "5      \t [-4.19302139 14.61872658]. \t  \u001b[92m-5.3403971656550695\u001b[0m \t -5.3403971656550695\n",
            "6      \t [6.93979299 8.86576579]. \t  -76.72885006129056 \t -5.3403971656550695\n",
            "7      \t [-0.62756227  4.02959083]. \t  -26.89343882344727 \t -5.3403971656550695\n",
            "8      \t [-0.59067509 13.44515517]. \t  -59.706706333397406 \t -5.3403971656550695\n",
            "9      \t [-4.49496374  5.39908877]. \t  -115.36194191131321 \t -5.3403971656550695\n",
            "10     \t [4.48008855 2.39397178]. \t  -8.65687692972369 \t -5.3403971656550695\n",
            "11     \t [ 3.57786597 10.02197081]. \t  -66.30304085902118 \t -5.3403971656550695\n",
            "12     \t [-3.82065669 11.61492692]. \t  -8.058021039602679 \t -5.3403971656550695\n",
            "13     \t [ 9.67745875 10.65418062]. \t  -64.02923165290736 \t -5.3403971656550695\n",
            "14     \t [ 6.77287    12.60244356]. \t  -149.71085028947567 \t -5.3403971656550695\n",
            "15     \t [4.35176161 0.13412872]. \t  -8.533618326082594 \t -5.3403971656550695\n",
            "16     \t [9.35985297 1.95156086]. \t  \u001b[92m-0.6382835313791233\u001b[0m \t -0.6382835313791233\n",
            "17     \t [5.40800516 4.6171896 ]. \t  -28.02920024914355 \t -0.6382835313791233\n",
            "18     \t [9.95754335 3.12079698]. \t  -1.7541985493835206 \t -0.6382835313791233\n",
            "19     \t [9.57044393 7.19100395]. \t  -21.571263925883724 \t -0.6382835313791233\n",
            "20     \t [-1.22763057  7.08999048]. \t  -14.351319193815183 \t -0.6382835313791233\n"
          ],
          "name": "stdout"
        }
      ]
    },
    {
      "cell_type": "code",
      "metadata": {
        "colab": {
          "base_uri": "https://localhost:8080/"
        },
        "id": "tAOkme3CIvyO",
        "outputId": "f4bfd29d-37b6-491e-f7e6-348dac069928"
      },
      "source": [
        "### ZERO GP EI GRADIENTS\n",
        "\n",
        "np.random.seed(run_num_7)\n",
        "surrogate_zero_7 = dGaussianProcess(cov_func, optimize=opt)\n",
        "\n",
        "zero_7 = dGPGO_zero(surrogate_zero_7, Acquisition_new(util_grad_zero), objfunc, param)\n",
        "zero_7.run(init_evals=n_init, max_iter=iters)\n"
      ],
      "execution_count": 40,
      "outputs": [
        {
          "output_type": "stream",
          "text": [
            "Evaluation \t Proposed point \t  Current eval. \t Best eval.\n",
            "init   \t [-3.85537566 11.69878188]. \t  -8.299317850233932 \t -5.211335324193094\n",
            "init   \t [ 1.57613847 10.85197767]. \t  -59.50408380701259 \t -5.211335324193094\n",
            "init   \t [9.66984268 8.07743806]. \t  -29.714921414987273 \t -5.211335324193094\n",
            "init   \t [2.51680695 1.080767  ]. \t  -5.211335324193094 \t -5.211335324193094\n",
            "init   \t [-0.9734153   7.49823751]. \t  -15.431057204948033 \t -5.211335324193094\n",
            "1      \t [-4.97859679  1.38393519]. \t  -260.3293952774437 \t -5.211335324193094\n",
            "2      \t [ 9.25668108 14.87713055]. \t  -157.79168966390583 \t -5.211335324193094\n",
            "3      \t [9.84403446 2.23618575]. \t  \u001b[92m-1.607946967220208\u001b[0m \t -1.607946967220208\n",
            "4      \t [4.4556015  6.00369035]. \t  -28.08564757730271 \t -1.607946967220208\n",
            "5      \t [6.35373325 2.29835966]. \t  -21.00737877973323 \t -1.607946967220208\n",
            "6      \t [-0.66517009 14.88752362]. \t  -77.9546048777314 \t -1.607946967220208\n",
            "7      \t [ 5.54463207 12.59528833]. \t  -148.1645262404861 \t -1.607946967220208\n",
            "8      \t [-4.78358859  7.34620047]. \t  -95.75069441495825 \t -1.607946967220208\n",
            "9      \t [-0.08468058  3.46412015]. \t  -26.705043023858465 \t -1.607946967220208\n",
            "10     \t [7.99699588 5.09848593]. \t  -21.337096275998633 \t -1.607946967220208\n",
            "11     \t [-1.18334291  0.42401626]. \t  -72.00109202839622 \t -1.607946967220208\n",
            "12     \t [ 9.88168949 11.23099724]. \t  -70.99875746132881 \t -1.607946967220208\n",
            "13     \t [6.6762654  9.03578206]. \t  -81.33209388530373 \t -1.607946967220208\n",
            "14     \t [ 2.68230389 14.39079578]. \t  -138.9944180890407 \t -1.607946967220208\n",
            "15     \t [-4.12505239 14.16441748]. \t  -5.037851363850817 \t -1.607946967220208\n",
            "16     \t [9.71589485 0.14743387]. \t  -7.479364161494503 \t -1.607946967220208\n",
            "17     \t [1.49156341 5.84639153]. \t  -14.496047062587 \t -1.607946967220208\n",
            "18     \t [-1.54819304 11.42657716]. \t  -17.254946239358247 \t -1.607946967220208\n",
            "19     \t [3.31029766 2.91343722]. \t  \u001b[92m-1.121464719398043\u001b[0m \t -1.121464719398043\n",
            "20     \t [4.40126491 0.00866456]. \t  -9.277502656888148 \t -1.121464719398043\n"
          ],
          "name": "stdout"
        }
      ]
    },
    {
      "cell_type": "code",
      "metadata": {
        "colab": {
          "base_uri": "https://localhost:8080/"
        },
        "id": "69-J3EF4Iv1S",
        "outputId": "80723f8f-f4a9-4586-c017-e2d558d7a363"
      },
      "source": [
        "### ZERO GP EI GRADIENTS\n",
        "\n",
        "np.random.seed(run_num_8)\n",
        "surrogate_zero_8 = dGaussianProcess(cov_func, optimize=opt)\n",
        "\n",
        "zero_8 = dGPGO_zero(surrogate_zero_8, Acquisition_new(util_grad_zero), objfunc, param)\n",
        "zero_8.run(init_evals=n_init, max_iter=iters)\n"
      ],
      "execution_count": 41,
      "outputs": [
        {
          "output_type": "stream",
          "text": [
            "Evaluation \t Proposed point \t  Current eval. \t Best eval.\n",
            "init   \t [ 8.10144104 14.52810994]. \t  -175.17297136347514 \t -15.416245468470875\n",
            "init   \t [8.0379181  7.96283537]. \t  -49.32173799887473 \t -15.416245468470875\n",
            "init   \t [-1.50907508  0.17098206]. \t  -83.26753461673219 \t -15.416245468470875\n",
            "init   \t [1.45703227 6.0352704 ]. \t  -15.416245468470875 \t -15.416245468470875\n",
            "init   \t [2.84012007 7.17587694]. \t  -22.49093277852639 \t -15.416245468470875\n",
            "1      \t [-4.98884166 14.83408411]. \t  -18.008434758014253 \t -15.416245468470875\n",
            "2      \t [6.2584639  0.79690936]. \t  -19.69061392229066 \t -15.416245468470875\n",
            "3      \t [-4.8401206   6.42823123]. \t  -117.34273274148853 \t -15.416245468470875\n",
            "4      \t [ 0.69118494 13.24534138]. \t  -86.01770116734858 \t -15.416245468470875\n",
            "5      \t [9.94893905 2.63385163]. \t  \u001b[92m-1.7886495956543573\u001b[0m \t -1.7886495956543573\n",
            "6      \t [ 4.7257508  11.35808086]. \t  -110.01443632013836 \t -1.7886495956543573\n",
            "7      \t [-3.41443607 11.12963977]. \t  -4.031664421256778 \t -1.7886495956543573\n",
            "8      \t [-0.72764928  8.94814568]. \t  -20.13438107467893 \t -1.7886495956543573\n",
            "9      \t [2.92352398 2.51147657]. \t  \u001b[92m-0.6289257483705608\u001b[0m \t -0.6289257483705608\n",
            "10     \t [6.6064213 4.3017061]. \t  -29.204017542160948 \t -0.6289257483705608\n",
            "11     \t [2.66537865 0.55136861]. \t  -5.97893187187208 \t -0.6289257483705608\n",
            "12     \t [-1.86868526  3.78784391]. \t  -38.96170923706167 \t -0.6289257483705608\n",
            "13     \t [9.99008953 0.12991645]. \t  -10.089797543288475 \t -0.6289257483705608\n",
            "14     \t [1.41354813 3.01592885]. \t  -12.488687424037384 \t -0.6289257483705608\n",
            "15     \t [9.65270611 4.26875389]. \t  -3.189554679946923 \t -0.6289257483705608\n",
            "16     \t [ 3.86023139 14.9586701 ]. \t  -176.41609525037842 \t -0.6289257483705608\n",
            "17     \t [-4.75855824  3.07548087]. \t  -190.62647969758848 \t -0.6289257483705608\n",
            "18     \t [ 9.48641959 11.09526444]. \t  -73.82293643264035 \t -0.6289257483705608\n",
            "19     \t [9.92583404 5.63487006]. \t  -8.894086683040968 \t -0.6289257483705608\n",
            "20     \t [-4.86474811  9.52906491]. \t  -64.32001027331137 \t -0.6289257483705608\n"
          ],
          "name": "stdout"
        }
      ]
    },
    {
      "cell_type": "code",
      "metadata": {
        "colab": {
          "base_uri": "https://localhost:8080/"
        },
        "id": "vonm9jyuIv4t",
        "outputId": "b033b25e-471c-45c8-b36a-a8b11a00a9e7"
      },
      "source": [
        "### ZERO GP EI GRADIENTS\n",
        "\n",
        "np.random.seed(run_num_9)\n",
        "surrogate_zero_9 = dGaussianProcess(cov_func, optimize=opt)\n",
        "\n",
        "zero_9 = dGPGO_zero(surrogate_zero_9, Acquisition_new(util_grad_zero), objfunc, param)\n",
        "zero_9.run(init_evals=n_init, max_iter=iters)\n"
      ],
      "execution_count": 42,
      "outputs": [
        {
          "output_type": "stream",
          "text": [
            "Evaluation \t Proposed point \t  Current eval. \t Best eval.\n",
            "init   \t [-4.84438769  7.52811888]. \t  -96.15564306553264 \t -3.4640248583909496\n",
            "init   \t [2.4365994  2.00744293]. \t  -3.4640248583909496 \t -3.4640248583909496\n",
            "init   \t [-2.86833372  3.27838013]. \t  -70.46930174488207 \t -3.4640248583909496\n",
            "init   \t [1.27762271 3.72151753]. \t  -12.982825924833865 \t -3.4640248583909496\n",
            "init   \t [-3.73910523  5.1824796 ]. \t  -75.58547400560856 \t -3.4640248583909496\n",
            "1      \t [ 7.05609655 14.75038872]. \t  -200.4388688685465 \t -3.4640248583909496\n",
            "2      \t [9.79053515 5.9968998 ]. \t  -11.24805159216164 \t -3.4640248583909496\n",
            "3      \t [-0.91490984 13.25685032]. \t  -48.26155495184477 \t -3.4640248583909496\n",
            "4      \t [4.42329559 9.16761691]. \t  -66.24415745540334 \t -3.4640248583909496\n",
            "5      \t [8.09381179 0.36546333]. \t  -9.19702700265266 \t -3.4640248583909496\n",
            "6      \t [9.02009592 9.88176431]. \t  -60.87947560531562 \t -3.4640248583909496\n",
            "7      \t [-0.39567811  8.64756316]. \t  -22.85060157590238 \t -3.4640248583909496\n",
            "8      \t [5.8868051  4.95170223]. \t  -33.63411602343768 \t -3.4640248583909496\n",
            "9      \t [0.1698046  0.00731821]. \t  -52.25285552508423 \t -3.4640248583909496\n",
            "10     \t [4.82699171 0.23319377]. \t  -12.295710295001516 \t -3.4640248583909496\n",
            "11     \t [-4.65835721 12.23709782]. \t  -25.3238194404319 \t -3.4640248583909496\n",
            "12     \t [ 1.96941973 11.27154766]. \t  -68.76069434756087 \t -3.4640248583909496\n",
            "13     \t [9.07714639 3.3709672 ]. \t  \u001b[92m-2.349578360570548\u001b[0m \t -2.349578360570548\n",
            "14     \t [ 2.76327618 14.51334237]. \t  -143.27819314604412 \t -2.349578360570548\n",
            "15     \t [-3.94672    14.81957836]. \t  -3.6221444768682645 \t -2.349578360570548\n",
            "16     \t [2.07361513 6.40526612]. \t  -15.295577538921345 \t -2.349578360570548\n",
            "17     \t [-4.09332538  0.41138399]. \t  -208.00034163083419 \t -2.349578360570548\n",
            "18     \t [9.91313931 1.85072915]. \t  -2.6588872372616565 \t -2.349578360570548\n",
            "19     \t [-2.70588463  9.96109333]. \t  -2.962507361806053 \t -2.349578360570548\n",
            "20     \t [ 9.88660101 13.1221454 ]. \t  -106.05741144993789 \t -2.349578360570548\n"
          ],
          "name": "stdout"
        }
      ]
    },
    {
      "cell_type": "code",
      "metadata": {
        "colab": {
          "base_uri": "https://localhost:8080/"
        },
        "id": "6amuYlUdIv7r",
        "outputId": "4f7f81c0-5013-4a04-c7cb-3ccf8df2a1e0"
      },
      "source": [
        "### ZERO GP EI GRADIENTS\n",
        "\n",
        "np.random.seed(run_num_10)\n",
        "surrogate_zero_10 = dGaussianProcess(cov_func, optimize=opt)\n",
        "\n",
        "zero_10 = dGPGO_zero(surrogate_zero_10, Acquisition_new(util_grad_zero), objfunc, param)\n",
        "zero_10.run(init_evals=n_init, max_iter=iters)\n"
      ],
      "execution_count": 43,
      "outputs": [
        {
          "output_type": "stream",
          "text": [
            "Evaluation \t Proposed point \t  Current eval. \t Best eval.\n",
            "init   \t [6.56980965 0.31127924]. \t  -19.863985024602144 \t -2.710610964564512\n",
            "init   \t [ 4.50472352 11.23205824]. \t  -103.66999147252169 \t -2.710610964564512\n",
            "init   \t [2.47760518 3.37194968]. \t  -2.710610964564512 \t -2.710610964564512\n",
            "init   \t [-2.02905703 11.40796068]. \t  -8.463930835255017 \t -2.710610964564512\n",
            "init   \t [-2.46333745  1.32509721]. \t  -90.49481266026973 \t -2.710610964564512\n",
            "1      \t [8.70372597 6.86774268]. \t  -27.130126017218842 \t -2.710610964564512\n",
            "2      \t [ 9.45036259 14.63089076]. \t  -147.64044674485945 \t -2.710610964564512\n",
            "3      \t [-4.79812162  7.64003087]. \t  -91.29205695323067 \t -2.710610964564512\n",
            "4      \t [ 1.08105942 14.97116497]. \t  -125.62413988622455 \t -2.710610964564512\n",
            "5      \t [0.51015743 8.64425952]. \t  -30.09349758524735 \t -2.710610964564512\n",
            "6      \t [2.19204141 0.07879985]. \t  -13.733110847097937 \t -2.710610964564512\n",
            "7      \t [-4.31113374 14.62074842]. \t  -6.661365851958085 \t -2.710610964564512\n",
            "8      \t [4.97774493 6.36056311]. \t  -38.344534853039875 \t -2.710610964564512\n",
            "9      \t [9.44963174 2.45886016]. \t  \u001b[92m-0.40223554223319447\u001b[0m \t -0.40223554223319447\n",
            "10     \t [ 9.94311898 10.84480139]. \t  -64.03540386798741 \t -0.40223554223319447\n",
            "11     \t [0.5261734  5.19090264]. \t  -18.303340269875946 \t -0.40223554223319447\n",
            "12     \t [-4.82775214 11.33754187]. \t  -39.80264105594878 \t -0.40223554223319447\n",
            "13     \t [7.83678931 3.68505503]. \t  -15.11032320912236 \t -0.40223554223319447\n",
            "14     \t [ 5.32830902 14.94021784]. \t  -204.68738881850703 \t -0.40223554223319447\n",
            "15     \t [-4.83693679  4.0229254 ]. \t  -172.42426247068417 \t -0.40223554223319447\n",
            "16     \t [9.90545853 1.84875862]. \t  -2.612891840338106 \t -0.40223554223319447\n",
            "17     \t [4.55489032 2.82225064]. \t  -10.42988919094156 \t -0.40223554223319447\n",
            "18     \t [1.14126962 2.65968866]. \t  -16.862204864450476 \t -0.40223554223319447\n",
            "19     \t [9.37557987 0.20697161]. \t  -5.368328547052992 \t -0.40223554223319447\n",
            "20     \t [-2.16920085 13.47597487]. \t  -16.258002932481688 \t -0.40223554223319447\n"
          ],
          "name": "stdout"
        }
      ]
    },
    {
      "cell_type": "code",
      "metadata": {
        "colab": {
          "base_uri": "https://localhost:8080/"
        },
        "id": "VwbLIP9cIv-F",
        "outputId": "f6d319af-4fc2-4b69-95ea-326a125c6677"
      },
      "source": [
        "### ZERO GP EI GRADIENTS\n",
        "\n",
        "np.random.seed(run_num_11)\n",
        "surrogate_zero_11 = dGaussianProcess(cov_func, optimize=opt)\n",
        "\n",
        "zero_11 = dGPGO_zero(surrogate_zero_11, Acquisition_new(util_grad_zero), objfunc, param)\n",
        "zero_11.run(init_evals=n_init, max_iter=iters)\n"
      ],
      "execution_count": 44,
      "outputs": [
        {
          "output_type": "stream",
          "text": [
            "Evaluation \t Proposed point \t  Current eval. \t Best eval.\n",
            "init   \t [-2.29595467  0.29212862]. \t  -104.49282729548965 \t -22.37435843952312\n",
            "init   \t [ 1.9482779  10.87400894]. \t  -62.47758067812407 \t -22.37435843952312\n",
            "init   \t [1.30305407 7.28140647]. \t  -22.37435843952312 \t -22.37435843952312\n",
            "init   \t [-4.80828778  7.31057411]. \t  -97.94503054415523 \t -22.37435843952312\n",
            "init   \t [ 9.12709979 12.76192634]. \t  -111.62900800771942 \t -22.37435843952312\n",
            "1      \t [7.47489909 1.17569712]. \t  \u001b[92m-13.574666531193973\u001b[0m \t -13.574666531193973\n",
            "2      \t [-3.32392335 14.51197433]. \t  \u001b[92m-3.777267680584016\u001b[0m \t -3.777267680584016\n",
            "3      \t [9.72363233 6.87677997]. \t  -17.947808548975658 \t -3.777267680584016\n",
            "4      \t [2.9061772  2.49504109]. \t  \u001b[92m-0.6635953583088394\u001b[0m \t -0.6635953583088394\n",
            "5      \t [ 3.58353585 14.94720983]. \t  -170.10293330444745 \t -0.6635953583088394\n",
            "6      \t [5.84362524 7.9475965 ]. \t  -65.42880822655968 \t -0.6635953583088394\n",
            "7      \t [-4.24195362 11.18444573]. \t  -20.790611799545804 \t -0.6635953583088394\n",
            "8      \t [-0.75320885  4.40289603]. \t  -25.23681381342182 \t -0.6635953583088394\n",
            "9      \t [3.51070866 0.1561766 ]. \t  -4.4618174768729535 \t -0.6635953583088394\n",
            "10     \t [3.85843952 3.73991091]. \t  -6.59321549683186 \t -0.6635953583088394\n",
            "11     \t [-0.71501194 14.77036598]. \t  -74.49998566580037 \t -0.6635953583088394\n",
            "12     \t [6.92264475 4.60940688]. \t  -29.512572697357996 \t -0.6635953583088394\n",
            "13     \t [-4.58813539  3.37401   ]. \t  -168.7741748640915 \t -0.6635953583088394\n",
            "14     \t [9.9867962  2.39615329]. \t  -2.2273819501159586 \t -0.6635953583088394\n",
            "15     \t [-1.17352664  9.39365135]. \t  -15.532228311202552 \t -0.6635953583088394\n",
            "16     \t [0.75005187 1.61519638]. \t  -27.677387751102465 \t -0.6635953583088394\n",
            "17     \t [ 5.55938175 10.95655816]. \t  -113.46854075425973 \t -0.6635953583088394\n",
            "18     \t [9.81708139 0.83789111]. \t  -5.079125374695652 \t -0.6635953583088394\n",
            "19     \t [9.50228615 9.33106969]. \t  -46.529644889831616 \t -0.6635953583088394\n",
            "20     \t [4.01210558 1.58764312]. \t  -3.823383618274187 \t -0.6635953583088394\n"
          ],
          "name": "stdout"
        }
      ]
    },
    {
      "cell_type": "code",
      "metadata": {
        "colab": {
          "base_uri": "https://localhost:8080/"
        },
        "id": "MlUNFjc-JTBY",
        "outputId": "6f478b8c-5cfd-4a25-f6f1-6bc7cea6354e"
      },
      "source": [
        "### ZERO GP EI GRADIENTS\n",
        "\n",
        "np.random.seed(run_num_12)\n",
        "surrogate_zero_12 = dGaussianProcess(cov_func, optimize=opt)\n",
        "\n",
        "zero_12 = dGPGO_zero(surrogate_zero_12, Acquisition_new(util_grad_zero), objfunc, param)\n",
        "zero_12.run(init_evals=n_init, max_iter=iters)\n"
      ],
      "execution_count": 45,
      "outputs": [
        {
          "output_type": "stream",
          "text": [
            "Evaluation \t Proposed point \t  Current eval. \t Best eval.\n",
            "init   \t [-2.68755736 11.10074545]. \t  -1.3827702760021356 \t -0.5499315281120278\n",
            "init   \t [-1.05027477  8.0060909 ]. \t  -14.81231853080056 \t -0.5499315281120278\n",
            "init   \t [-4.78137556 13.78120512]. \t  -18.401131000214548 \t -0.5499315281120278\n",
            "init   \t [8.51072281 0.50132141]. \t  -5.855172364344769 \t -0.5499315281120278\n",
            "init   \t [9.35424004 2.05813982]. \t  -0.5499315281120278 \t -0.5499315281120278\n",
            "1      \t [9.82941798 5.1689241 ]. \t  -6.608972192182115 \t -0.5499315281120278\n",
            "2      \t [ 8.68497867 14.25940608]. \t  -155.1276557842789 \t -0.5499315281120278\n",
            "3      \t [-4.02857478  0.48179288]. \t  -200.67574083550102 \t -0.5499315281120278\n",
            "4      \t [2.78415581 0.5847599 ]. \t  -4.946964199486606 \t -0.5499315281120278\n",
            "5      \t [ 2.33380414 14.34125566]. \t  -132.23186597332315 \t -0.5499315281120278\n",
            "6      \t [5.62360485 9.20963842]. \t  -82.78452011516237 \t -0.5499315281120278\n",
            "7      \t [5.30315919 3.63571485]. \t  -21.315826037119237 \t -0.5499315281120278\n",
            "8      \t [-4.54680545  5.81881211]. \t  -110.19194217601753 \t -0.5499315281120278\n",
            "9      \t [-0.16781218  2.97077985]. \t  -30.356828009482648 \t -0.5499315281120278\n",
            "10     \t [1.60398194 6.411646  ]. \t  -16.609367724399785 \t -0.5499315281120278\n",
            "11     \t [-4.99783379  9.95114484]. \t  -64.97626455814903 \t -0.5499315281120278\n",
            "12     \t [ 9.56058806 10.18663569]. \t  -58.16568478001416 \t -0.5499315281120278\n",
            "13     \t [-1.52169359 12.17122099]. \t  -22.375436213695348 \t -0.5499315281120278\n",
            "14     \t [ 2.99418046 10.63805095]. \t  -68.48671831158202 \t -0.5499315281120278\n",
            "15     \t [9.44294567 2.48553858]. \t  \u001b[92m-0.3994952962119598\u001b[0m \t -0.3994952962119598\n",
            "16     \t [0.19441817 0.00031042]. \t  -51.85590394459697 \t -0.3994952962119598\n",
            "17     \t [7.20460826 5.83497722]. \t  -36.929190962422204 \t -0.3994952962119598\n",
            "18     \t [5.51320561 0.32039299]. \t  -17.585298484881157 \t -0.3994952962119598\n",
            "19     \t [-2.13718909 14.85330691]. \t  -28.48473111436922 \t -0.3994952962119598\n",
            "20     \t [9.48262579 2.819244  ]. \t  -0.5009833369059624 \t -0.3994952962119598\n"
          ],
          "name": "stdout"
        }
      ]
    },
    {
      "cell_type": "code",
      "metadata": {
        "colab": {
          "base_uri": "https://localhost:8080/"
        },
        "id": "9BsKdU9eJTFL",
        "outputId": "37754224-a730-47f8-eefa-01d53722456f"
      },
      "source": [
        "### ZERO GP EI GRADIENTS\n",
        "\n",
        "np.random.seed(run_num_13)\n",
        "surrogate_zero_13 = dGaussianProcess(cov_func, optimize=opt)\n",
        "\n",
        "zero_13 = dGPGO_zero(surrogate_zero_13, Acquisition_new(util_grad_zero), objfunc, param)\n",
        "zero_13.run(init_evals=n_init, max_iter=iters)\n"
      ],
      "execution_count": 46,
      "outputs": [
        {
          "output_type": "stream",
          "text": [
            "Evaluation \t Proposed point \t  Current eval. \t Best eval.\n",
            "init   \t [6.66553616 3.5631183 ]. \t  -24.823670200298267 \t -18.038943061558626\n",
            "init   \t [ 7.36417799 14.48623797]. \t  -188.7803334745195 \t -18.038943061558626\n",
            "init   \t [9.58901671 6.80173871]. \t  -18.038943061558626 \t -18.038943061558626\n",
            "init   \t [ 4.13563694 11.63289772]. \t  -104.87319703906111 \t -18.038943061558626\n",
            "init   \t [ 4.62420017 10.83027344]. \t  -98.03271225790056 \t -18.038943061558626\n",
            "1      \t [-3.51870171  3.68338658]. \t  -91.63196166423945 \t -18.038943061558626\n",
            "2      \t [-4.35385058 13.32256485]. \t  \u001b[92m-10.85616402870354\u001b[0m \t -10.85616402870354\n",
            "3      \t [1.92708537 6.15494401]. \t  -14.170722295282301 \t -10.85616402870354\n",
            "4      \t [2.09747614 1.08873887]. \t  \u001b[92m-9.758765291026968\u001b[0m \t -9.758765291026968\n",
            "5      \t [-2.20936067  9.03510658]. \t  \u001b[92m-5.51279147987421\u001b[0m \t -5.51279147987421\n",
            "6      \t [-1.08240402 12.34082106]. \t  -34.45740312765656 \t -5.51279147987421\n",
            "7      \t [9.58257282 1.44180739]. \t  \u001b[92m-1.884941566191383\u001b[0m \t -1.884941566191383\n",
            "8      \t [5.98249864 7.16801476]. \t  -55.966513751229755 \t -1.884941566191383\n",
            "9      \t [-1.25325592  0.05438772]. \t  -79.30871920452344 \t -1.884941566191383\n",
            "10     \t [-4.85862411  9.89314591]. \t  -58.859603210798 \t -1.884941566191383\n",
            "11     \t [ 9.71084004 10.83857417]. \t  -66.58782483256827 \t -1.884941566191383\n",
            "12     \t [ 1.89878756 14.65753809]. \t  -132.65587084494865 \t -1.884941566191383\n",
            "13     \t [6.77786404 0.08176049]. \t  -19.58652270251801 \t -1.884941566191383\n",
            "14     \t [0.3823357  9.23496074]. \t  -33.53623164493995 \t -1.884941566191383\n",
            "15     \t [0.74990892 3.32101337]. \t  -19.454087163581896 \t -1.884941566191383\n",
            "16     \t [9.5105847  4.18502508]. \t  -3.111982525740883 \t -1.884941566191383\n",
            "17     \t [-2.16174972 14.97995382]. \t  -29.011507745686473 \t -1.884941566191383\n",
            "18     \t [4.05175382 3.59260946]. \t  -7.79586933019569 \t -1.884941566191383\n",
            "19     \t [-4.75602109  0.26891177]. \t  -273.59321519899925 \t -1.884941566191383\n",
            "20     \t [-1.49801352  6.25442106]. \t  -16.55289649281142 \t -1.884941566191383\n"
          ],
          "name": "stdout"
        }
      ]
    },
    {
      "cell_type": "code",
      "metadata": {
        "colab": {
          "base_uri": "https://localhost:8080/"
        },
        "id": "k6GjFBr1JTJf",
        "outputId": "0d4c8192-d1e5-4a75-b316-ca03dcc1488b"
      },
      "source": [
        "### ZERO GP EI GRADIENTS\n",
        "\n",
        "np.random.seed(run_num_14)\n",
        "surrogate_zero_14 = dGaussianProcess(cov_func, optimize=opt)\n",
        "\n",
        "zero_14 = dGPGO_zero(surrogate_zero_14, Acquisition_new(util_grad_zero), objfunc, param)\n",
        "zero_14.run(init_evals=n_init, max_iter=iters)\n"
      ],
      "execution_count": 47,
      "outputs": [
        {
          "output_type": "stream",
          "text": [
            "Evaluation \t Proposed point \t  Current eval. \t Best eval.\n",
            "init   \t [ 2.70915016 11.59747578]. \t  -81.58264375064097 \t -1.4149920024014744\n",
            "init   \t [8.05641529 0.12070423]. \t  -10.148649076616518 \t -1.4149920024014744\n",
            "init   \t [-0.35396112 14.36405609]. \t  -79.6056658956529 \t -1.4149920024014744\n",
            "init   \t [2.69675068 4.77426637]. \t  -5.855607664288365 \t -1.4149920024014744\n",
            "init   \t [3.08799906 3.31882414]. \t  -1.4149920024014744 \t -1.4149920024014744\n",
            "1      \t [-3.9690762   0.55943317]. \t  -193.7395503314444 \t -1.4149920024014744\n",
            "2      \t [9.91083167 7.9391897 ]. \t  -26.74726853005628 \t -1.4149920024014744\n",
            "3      \t [-3.66670736  8.25640817]. \t  -29.95349403696578 \t -1.4149920024014744\n",
            "4      \t [ 9.14372498 14.98887041]. \t  -163.10109673985522 \t -1.4149920024014744\n",
            "5      \t [6.65832741 5.3299567 ]. \t  -36.57295497759185 \t -1.4149920024014744\n",
            "6      \t [-4.74819159 13.78438333]. \t  -17.553495258306747 \t -1.4149920024014744\n",
            "7      \t [0.84986577 0.17041483]. \t  -37.22573426162719 \t -1.4149920024014744\n",
            "8      \t [-1.39233921  4.25765183]. \t  -29.418170780392984 \t -1.4149920024014744\n",
            "9      \t [4.52436993 0.45289921]. \t  -9.186802727601322 \t -1.4149920024014744\n",
            "10     \t [6.14753891 9.85185359]. \t  -96.14282462765749 \t -1.4149920024014744\n",
            "11     \t [9.8733693 2.7406419]. \t  \u001b[92m-1.3671824624370004\u001b[0m \t -1.3671824624370004\n",
            "12     \t [-1.44614393 10.8952661 ]. \t  -16.592429396645986 \t -1.3671824624370004\n",
            "13     \t [ 4.9762777  14.22648165]. \t  -180.140622096974 \t -1.3671824624370004\n",
            "14     \t [2.78465046 7.84418675]. \t  -28.822016936963077 \t -1.3671824624370004\n",
            "15     \t [-0.17183669  7.25034306]. \t  -20.40750688076655 \t -1.3671824624370004\n",
            "16     \t [9.56282965 4.12535006]. \t  -2.83454582461507 \t -1.3671824624370004\n",
            "17     \t [ 9.92933537 10.84697498]. \t  -64.21762705494685 \t -1.3671824624370004\n",
            "18     \t [-4.68742564  4.75701646]. \t  -142.97093006372566 \t -1.3671824624370004\n",
            "19     \t [6.05615012 2.33472678]. \t  -20.881656510461177 \t -1.3671824624370004\n",
            "20     \t [9.56548939 1.49088682]. \t  -1.7146198322776307 \t -1.3671824624370004\n"
          ],
          "name": "stdout"
        }
      ]
    },
    {
      "cell_type": "code",
      "metadata": {
        "colab": {
          "base_uri": "https://localhost:8080/"
        },
        "id": "dPS8WB3aJTN6",
        "outputId": "f837296e-6025-49db-bfc2-7249b34fd853"
      },
      "source": [
        "### ZERO GP EI GRADIENTS\n",
        "\n",
        "np.random.seed(run_num_15)\n",
        "surrogate_zero_15 = dGaussianProcess(cov_func, optimize=opt)\n",
        "\n",
        "zero_15 = dGPGO_zero(surrogate_zero_15, Acquisition_new(util_grad_zero), objfunc, param)\n",
        "zero_15.run(init_evals=n_init, max_iter=iters)\n"
      ],
      "execution_count": 48,
      "outputs": [
        {
          "output_type": "stream",
          "text": [
            "Evaluation \t Proposed point \t  Current eval. \t Best eval.\n",
            "init   \t [7.73226546 2.68343887]. \t  -12.768724532005583 \t -12.768724532005583\n",
            "init   \t [-4.18455179  5.42307669]. \t  -95.39334176626551 \t -12.768724532005583\n",
            "init   \t [-0.86898607  7.95000337]. \t  -16.419487782111716 \t -12.768724532005583\n",
            "init   \t [-0.41121626  4.56711539]. \t  -23.250362743740954 \t -12.768724532005583\n",
            "init   \t [-3.32388086  3.74848521]. \t  -80.99796277938532 \t -12.768724532005583\n",
            "1      \t [ 6.44369262 14.11318321]. \t  -188.60210814630312 \t -12.768724532005583\n",
            "2      \t [-3.60562328 14.8673558 ]. \t  \u001b[92m-3.5139061901593145\u001b[0m \t -3.5139061901593145\n",
            "3      \t [5.1163375  8.27183398]. \t  -63.23844101819753 \t -3.5139061901593145\n",
            "4      \t [2.52736972 0.09793134]. \t  -9.468962809148586 \t -3.5139061901593145\n",
            "5      \t [ 0.68465807 13.62359762]. \t  -92.30750326748647 \t -3.5139061901593145\n",
            "6      \t [9.23194413 9.98766654]. \t  -59.41277313242077 \t -3.5139061901593145\n",
            "7      \t [-4.44280278 10.10684248]. \t  -37.846903819649214 \t -3.5139061901593145\n",
            "8      \t [3.68978569 4.20556776]. \t  -7.183871117096143 \t -3.5139061901593145\n",
            "9      \t [5.65884873 0.05753446]. \t  -18.941901940533327 \t -3.5139061901593145\n",
            "10     \t [9.64019112 5.74648527]. \t  -10.129540838990996 \t -3.5139061901593145\n",
            "11     \t [-3.7826236   0.16886893]. \t  -189.98770825901332 \t -3.5139061901593145\n",
            "12     \t [9.13908579 0.44790162]. \t  -4.015060831664056 \t -3.5139061901593145\n",
            "13     \t [ 3.58820017 11.50653857]. \t  -92.61979921322401 \t -3.5139061901593145\n",
            "14     \t [6.01221166 5.20572167]. \t  -36.10162599605982 \t -3.5139061901593145\n",
            "15     \t [-0.37229212  0.3252925 ]. \t  -58.447238761228014 \t -3.5139061901593145\n",
            "16     \t [2.3987215  6.98972776]. \t  -19.444680574364877 \t -3.5139061901593145\n",
            "17     \t [-2.84293805 12.95580802]. \t  \u001b[92m-2.7467777354593794\u001b[0m \t -2.7467777354593794\n",
            "18     \t [-4.57572656 13.21480572]. \t  -16.37837119264838 \t -2.7467777354593794\n",
            "19     \t [ 9.70658914 14.17453166]. \t  -131.9148494419794 \t -2.7467777354593794\n",
            "20     \t [0.06832224 9.99135549]. \t  -36.38553429708581 \t -2.7467777354593794\n"
          ],
          "name": "stdout"
        }
      ]
    },
    {
      "cell_type": "code",
      "metadata": {
        "colab": {
          "base_uri": "https://localhost:8080/"
        },
        "id": "SHWdp2giJTRm",
        "outputId": "db715ccf-df64-4ef2-d1aa-656c4f0b7559"
      },
      "source": [
        "### ZERO GP EI GRADIENTS\n",
        "\n",
        "np.random.seed(run_num_16)\n",
        "surrogate_zero_16 = dGaussianProcess(cov_func, optimize=opt)\n",
        "\n",
        "zero_16 = dGPGO_zero(surrogate_zero_16, Acquisition_new(util_grad_zero), objfunc, param)\n",
        "zero_16.run(init_evals=n_init, max_iter=iters)\n"
      ],
      "execution_count": 49,
      "outputs": [
        {
          "output_type": "stream",
          "text": [
            "Evaluation \t Proposed point \t  Current eval. \t Best eval.\n",
            "init   \t [-1.65063381  7.84745012]. \t  -10.514702126319445 \t -2.715864006988424\n",
            "init   \t [3.26052185 0.68402925]. \t  -2.715864006988424 \t -2.715864006988424\n",
            "init   \t [0.41093253 3.34621413]. \t  -22.889515127492515 \t -2.715864006988424\n",
            "init   \t [5.33089243 2.45597138]. \t  -17.178157611778595 \t -2.715864006988424\n",
            "init   \t [-3.945127  14.1151629]. \t  -3.3649224341694195 \t -2.715864006988424\n",
            "1      \t [ 5.63879248 14.58068289]. \t  -198.51319639462758 \t -2.715864006988424\n",
            "2      \t [9.91844219 8.81695252]. \t  -36.28422213736768 \t -2.715864006988424\n",
            "3      \t [-4.62755895  1.21779395]. \t  -231.601623929818 \t -2.715864006988424\n",
            "4      \t [3.85654417 9.13706995]. \t  -56.82460928884615 \t -2.715864006988424\n",
            "5      \t [9.99139112 1.55175532]. \t  -3.9797647677453547 \t -2.715864006988424\n",
            "6      \t [ 0.81269563 12.80751757]. \t  -80.8523517531238 \t -2.715864006988424\n",
            "7      \t [-4.97073382 10.81852038]. \t  -51.94890158324454 \t -2.715864006988424\n",
            "8      \t [7.14224322 6.2947894 ]. \t  -41.9979213880336 \t -2.715864006988424\n",
            "9      \t [ 9.7219827  14.93245203]. \t  -149.5452360364329 \t -2.715864006988424\n",
            "10     \t [-4.46585164  5.60216648]. \t  -109.30115820361596 \t -2.715864006988424\n",
            "11     \t [7.97818055 0.41035692]. \t  -10.053147356257961 \t -2.715864006988424\n",
            "12     \t [3.01866952 5.81503911]. \t  -12.319249177793296 \t -2.715864006988424\n",
            "13     \t [-0.2883829   0.26463129]. \t  -57.70871011655865 \t -2.715864006988424\n",
            "14     \t [ 6.79956703 11.42469339]. \t  -123.90126548936092 \t -2.715864006988424\n",
            "15     \t [-1.74952323 14.84688152]. \t  -40.408045646387706 \t -2.715864006988424\n",
            "16     \t [9.58392825 3.50665221]. \t  \u001b[92m-1.318710642723122\u001b[0m \t -1.318710642723122\n",
            "17     \t [0.38994281 9.62826854]. \t  -36.767748817438275 \t -1.318710642723122\n",
            "18     \t [9.90096416 4.52699541]. \t  -4.093862029563757 \t -1.318710642723122\n",
            "19     \t [-0.20248697  5.6039947 ]. \t  -19.929489887346634 \t -1.318710642723122\n",
            "20     \t [7.95676036 3.43873348]. \t  -12.715215490732541 \t -1.318710642723122\n"
          ],
          "name": "stdout"
        }
      ]
    },
    {
      "cell_type": "code",
      "metadata": {
        "colab": {
          "base_uri": "https://localhost:8080/"
        },
        "id": "yU2SflSsJTUs",
        "outputId": "b23a0e2f-9a6b-41f3-fdf0-92b0d37364a2"
      },
      "source": [
        "### ZERO GP EI GRADIENTS\n",
        "\n",
        "np.random.seed(run_num_17)\n",
        "surrogate_zero_17 = dGaussianProcess(cov_func, optimize=opt)\n",
        "\n",
        "zero_17 = dGPGO_zero(surrogate_zero_17, Acquisition_new(util_grad_zero), objfunc, param)\n",
        "zero_17.run(init_evals=n_init, max_iter=iters)\n"
      ],
      "execution_count": 50,
      "outputs": [
        {
          "output_type": "stream",
          "text": [
            "Evaluation \t Proposed point \t  Current eval. \t Best eval.\n",
            "init   \t [-0.58002496  7.95880133]. \t  -19.016141117164256 \t -19.016141117164256\n",
            "init   \t [-2.1271882   1.01850537]. \t  -85.05949339404415 \t -19.016141117164256\n",
            "init   \t [6.8047819  9.84500283]. \t  -93.89792695202516 \t -19.016141117164256\n",
            "init   \t [4.56281344 8.63404341]. \t  -60.50217141122736 \t -19.016141117164256\n",
            "init   \t [-4.41405626  5.36720407]. \t  -110.70834086593878 \t -19.016141117164256\n",
            "1      \t [9.76575296 0.98553483]. \t  \u001b[92m-4.1623278326263815\u001b[0m \t -4.1623278326263815\n",
            "2      \t [-4.0692092  14.64043819]. \t  -4.241825729253317 \t -4.1623278326263815\n",
            "3      \t [ 3.50955031 14.46798657]. \t  -156.35330190687876 \t -4.1623278326263815\n",
            "4      \t [ 9.71402677 14.78561227]. \t  -146.1394874425749 \t -4.1623278326263815\n",
            "5      \t [3.8618099  0.73368105]. \t  \u001b[92m-3.8779506963621575\u001b[0m \t -3.8779506963621575\n",
            "6      \t [6.53305714 4.19509777]. \t  -28.78463404063376 \t -3.8779506963621575\n",
            "7      \t [-4.2626215  11.09775992]. \t  -22.096060946627023 \t -3.8779506963621575\n",
            "8      \t [0.30999527 4.14679159]. \t  -21.027497763524366 \t -3.8779506963621575\n",
            "9      \t [-0.34010601 11.89060981]. \t  -47.50761351775903 \t -3.8779506963621575\n",
            "10     \t [7.33555265 0.49840062]. \t  -15.363544640066129 \t -3.8779506963621575\n",
            "11     \t [3.32292672 3.44651084]. \t  \u001b[92m-2.267961978570919\u001b[0m \t -2.267961978570919\n",
            "12     \t [9.43363517 6.4638392 ]. \t  -16.24947412035553 \t -2.267961978570919\n",
            "13     \t [ 9.94991308 10.92792563]. \t  -65.2817824385668 \t -2.267961978570919\n",
            "14     \t [3.58674178 5.69058153]. \t  -15.2998347088275 \t -2.267961978570919\n",
            "15     \t [1.69923494 1.06170921]. \t  -15.565938005864766 \t -2.267961978570919\n",
            "16     \t [-4.70852147  8.38272819]. \t  -73.56603399095498 \t -2.267961978570919\n",
            "17     \t [9.71951206 3.00644811]. \t  \u001b[92m-0.8857089253508761\u001b[0m \t -0.8857089253508761\n",
            "18     \t [-0.29238636 14.89172076]. \t  -90.01235694101885 \t -0.8857089253508761\n",
            "19     \t [ 2.27464755 10.91746412]. \t  -65.71139583042135 \t -0.8857089253508761\n",
            "20     \t [ 6.58560474 13.53304534]. \t  -173.2142734792625 \t -0.8857089253508761\n"
          ],
          "name": "stdout"
        }
      ]
    },
    {
      "cell_type": "code",
      "metadata": {
        "colab": {
          "base_uri": "https://localhost:8080/"
        },
        "id": "es0KCh_0JTgY",
        "outputId": "02287e38-38b4-4189-c642-f71ac563c46d"
      },
      "source": [
        "### ZERO GP EI GRADIENTS\n",
        "\n",
        "np.random.seed(run_num_18)\n",
        "surrogate_zero_18 = dGaussianProcess(cov_func, optimize=opt)\n",
        "\n",
        "zero_18 = dGPGO_zero(surrogate_zero_18, Acquisition_new(util_grad_zero), objfunc, param)\n",
        "zero_18.run(init_evals=n_init, max_iter=iters)\n"
      ],
      "execution_count": 51,
      "outputs": [
        {
          "output_type": "stream",
          "text": [
            "Evaluation \t Proposed point \t  Current eval. \t Best eval.\n",
            "init   \t [4.75561363 7.58180061]. \t  -49.215059064668324 \t -8.150075223157177\n",
            "init   \t [8.17902206 2.72760338]. \t  -8.150075223157177 \t -8.150075223157177\n",
            "init   \t [ 7.78349603 11.25204429]. \t  -106.98107856533271 \t -8.150075223157177\n",
            "init   \t [ 4.99152501 14.81843172]. \t  -196.08601750690153 \t -8.150075223157177\n",
            "init   \t [-1.14547366  0.42458888]. \t  -71.23649635555944 \t -8.150075223157177\n",
            "1      \t [-4.83474958 11.77354131]. \t  -35.58412906267954 \t -8.150075223157177\n",
            "2      \t [-1.88826854  6.70399181]. \t  -14.630614325969386 \t -8.150075223157177\n",
            "3      \t [-0.51657686 14.28710066]. \t  -73.5610643915935 \t -8.150075223157177\n",
            "4      \t [4.18472296 0.83236175]. \t  \u001b[92m-5.757617883721708\u001b[0m \t -5.757617883721708\n",
            "5      \t [ 0.86842496 10.0227023 ]. \t  -44.37192956087362 \t -5.757617883721708\n",
            "6      \t [1.85591156 4.15882827]. \t  -7.744974706381685 \t -5.757617883721708\n",
            "7      \t [-4.57265481  2.89070629]. \t  -179.95943619058488 \t -5.757617883721708\n",
            "8      \t [ 9.59675026 14.67960992]. \t  -145.8800819268564 \t -5.757617883721708\n",
            "9      \t [8.66313736 6.69467935]. \t  -25.968187639214978 \t -5.757617883721708\n",
            "10     \t [5.52367804 4.15839215]. \t  -26.011567015550195 \t -5.757617883721708\n",
            "11     \t [-4.46722101  7.98278387]. \t  -67.03692273469423 \t -5.757617883721708\n",
            "12     \t [8.75130927 0.11123317]. \t  -5.9327187928252325 \t -5.757617883721708\n",
            "13     \t [ 4.07261367 10.58766624]. \t  -83.9543371006342 \t -5.757617883721708\n",
            "14     \t [-4.68199713 14.92551895]. \t  -11.552320795324627 \t -5.757617883721708\n",
            "15     \t [0.85484396 6.38791265]. \t  -19.038051063321404 \t -5.757617883721708\n",
            "16     \t [-1.212768    4.04718335]. \t  -29.9541990786741 \t -5.757617883721708\n",
            "17     \t [6.32696145 0.21121692]. \t  -20.385768653018488 \t -5.757617883721708\n",
            "18     \t [1.87680645 1.16582288]. \t  -12.40736465972213 \t -5.757617883721708\n",
            "19     \t [-2.09843422 10.95674197]. \t  -6.263962553342804 \t -5.757617883721708\n",
            "20     \t [9.97696352 2.55733096]. \t  \u001b[92m-2.003744773764411\u001b[0m \t -2.003744773764411\n"
          ],
          "name": "stdout"
        }
      ]
    },
    {
      "cell_type": "code",
      "metadata": {
        "colab": {
          "base_uri": "https://localhost:8080/"
        },
        "id": "Pput2LHPIwBM",
        "outputId": "299ed4af-d39b-43cf-b366-c603bf2dc408"
      },
      "source": [
        "### ZERO GP EI GRADIENTS\n",
        "\n",
        "np.random.seed(run_num_19)\n",
        "surrogate_zero_19 = dGaussianProcess(cov_func, optimize=opt)\n",
        "\n",
        "zero_19 = dGPGO_zero(surrogate_zero_19, Acquisition_new(util_grad_zero), objfunc, param)\n",
        "zero_19.run(init_evals=n_init, max_iter=iters)\n"
      ],
      "execution_count": 52,
      "outputs": [
        {
          "output_type": "stream",
          "text": [
            "Evaluation \t Proposed point \t  Current eval. \t Best eval.\n",
            "init   \t [-3.53699597 11.41874575]. \t  -4.475608269502271 \t -4.475608269502271\n",
            "init   \t [-1.2959304   2.07197531]. \t  -51.13947793770689 \t -4.475608269502271\n",
            "init   \t [-0.02830155  1.24499348]. \t  -42.63973921760034 \t -4.475608269502271\n",
            "init   \t [ 5.07965622 12.09890697]. \t  -131.17235664506808 \t -4.475608269502271\n",
            "init   \t [9.74112872 9.53491102]. \t  -46.84458913925112 \t -4.475608269502271\n",
            "1      \t [8.6773951  0.80876842]. \t  \u001b[92m-4.184707152540867\u001b[0m \t -4.184707152540867\n",
            "2      \t [4.45041553 5.47999855]. \t  -23.54840201771013 \t -4.184707152540867\n",
            "3      \t [-4.04838436  6.32106816]. \t  -71.9700715917133 \t -4.184707152540867\n",
            "4      \t [-8.69860031e-04  1.42821549e+01]. \t  -88.17326654597659 \t -4.184707152540867\n",
            "5      \t [0.80655347 8.67861441]. \t  -31.685363189083702 \t -4.184707152540867\n",
            "6      \t [ 8.84730394 14.24459984]. \t  -151.12771810684433 \t -4.184707152540867\n",
            "7      \t [4.76905454 0.49670355]. \t  -11.268474335538237 \t -4.184707152540867\n",
            "8      \t [9.96192656 4.00246983]. \t  \u001b[92m-2.8257181398556535\u001b[0m \t -2.8257181398556535\n",
            "9      \t [-4.82015653 14.49012655]. \t  -15.79763707572476 \t -2.8257181398556535\n",
            "10     \t [0.80400624 5.10119911]. \t  -16.750598342783768 \t -2.8257181398556535\n",
            "11     \t [7.202254  5.9407039]. \t  -37.936159168612065 \t -2.8257181398556535\n",
            "12     \t [4.68597697 8.72274169]. \t  -63.68109371000523 \t -2.8257181398556535\n",
            "13     \t [-4.85567513  0.38763976]. \t  -279.88084243492693 \t -2.8257181398556535\n",
            "14     \t [6.62142494 2.44463183]. \t  -20.798046899060296 \t -2.8257181398556535\n",
            "15     \t [-3.35788005  9.37810137]. \t  -12.336704443330287 \t -2.8257181398556535\n",
            "16     \t [3.34276958 3.31830894]. \t  \u001b[92m-2.0194958663498133\u001b[0m \t -2.0194958663498133\n",
            "17     \t [3.07312627 1.85182125]. \t  \u001b[92m-0.6480834976813767\u001b[0m \t -0.6480834976813767\n",
            "18     \t [9.90819141 1.70364524]. \t  -2.9605982267631923 \t -0.6480834976813767\n",
            "19     \t [ 3.02409105 14.90354405]. \t  -157.59347477537295 \t -0.6480834976813767\n",
            "20     \t [-0.61087231 11.48669191]. \t  -37.81295204407596 \t -0.6480834976813767\n"
          ],
          "name": "stdout"
        }
      ]
    },
    {
      "cell_type": "code",
      "metadata": {
        "colab": {
          "base_uri": "https://localhost:8080/"
        },
        "id": "aw3xvSryIwDi",
        "outputId": "213c4275-6edd-4369-b82d-de1ae79f4b54"
      },
      "source": [
        "### ZERO GP EI GRADIENTS\n",
        "\n",
        "np.random.seed(run_num_20)\n",
        "surrogate_zero_20 = dGaussianProcess(cov_func, optimize=opt)\n",
        "\n",
        "zero_20 = dGPGO_zero(surrogate_zero_20, Acquisition_new(util_grad_zero), objfunc, param)\n",
        "zero_20.run(init_evals=n_init, max_iter=iters)\n"
      ],
      "execution_count": 53,
      "outputs": [
        {
          "output_type": "stream",
          "text": [
            "Evaluation \t Proposed point \t  Current eval. \t Best eval.\n",
            "init   \t [ 3.82196202 13.46570592]. \t  -138.5264349938869 \t -14.042667401507376\n",
            "init   \t [ 8.37296094 12.23756216]. \t  -115.63178540512689 \t -14.042667401507376\n",
            "init   \t [-4.46165622 10.37636373]. \t  -35.66708529307584 \t -14.042667401507376\n",
            "init   \t [0.68021413 7.77766418]. \t  -25.307769914281764 \t -14.042667401507376\n",
            "init   \t [4.86927198 2.90775327]. \t  -14.042667401507376 \t -14.042667401507376\n",
            "1      \t [-4.88337277  1.15554411]. \t  -258.03874991509736 \t -14.042667401507376\n",
            "2      \t [-1.84310627 14.89552828]. \t  -37.92416090431381 \t -14.042667401507376\n",
            "3      \t [9.98998478 0.35020336]. \t  \u001b[92m-8.875777366291523\u001b[0m \t -8.875777366291523\n",
            "4      \t [9.82049302 5.23462252]. \t  \u001b[92m-6.926835976089437\u001b[0m \t -6.926835976089437\n",
            "5      \t [0.11401177 1.25905543]. \t  -40.34403021450308 \t -6.926835976089437\n",
            "6      \t [6.34167483 7.90009461]. \t  -65.79565375919643 \t -6.926835976089437\n",
            "7      \t [-2.61261369  6.61203864]. \t  -21.316101052288694 \t -6.926835976089437\n",
            "8      \t [-0.53403623 11.49765889]. \t  -39.52524298352559 \t -6.926835976089437\n",
            "9      \t [6.85661806 0.39276846]. \t  -18.655961292664593 \t -6.926835976089437\n",
            "10     \t [1.34594099 4.28468448]. \t  -12.178106692308802 \t -6.926835976089437\n",
            "11     \t [3.72942583 0.05934508]. \t  \u001b[92m-5.256382564960396\u001b[0m \t -5.256382564960396\n",
            "12     \t [ 2.58273339 10.13671405]. \t  -56.404877012037694 \t -5.256382564960396\n",
            "13     \t [-4.96319459  4.8734929 ]. \t  -161.41634387008577 \t -5.256382564960396\n",
            "14     \t [9.82106318 7.9963632 ]. \t  -27.837869899793276 \t -5.256382564960396\n",
            "15     \t [9.01349584 2.98630042]. \t  \u001b[92m-1.8981379870377904\u001b[0m \t -1.8981379870377904\n",
            "16     \t [7.8640097  4.25674977]. \t  -17.65212737501261 \t -1.8981379870377904\n",
            "17     \t [3.25757378 6.53190991]. \t  -19.346819887682976 \t -1.8981379870377904\n",
            "18     \t [-1.38423481  3.87464907]. \t  -32.720423518287895 \t -1.8981379870377904\n",
            "19     \t [9.67504955 2.44803821]. \t  \u001b[92m-0.757635431147385\u001b[0m \t -0.757635431147385\n",
            "20     \t [-4.05705877 13.08050427]. \t  -6.406818920195283 \t -0.757635431147385\n"
          ],
          "name": "stdout"
        }
      ]
    },
    {
      "cell_type": "code",
      "metadata": {
        "colab": {
          "base_uri": "https://localhost:8080/"
        },
        "id": "qNqAB3vBTPqb",
        "outputId": "d7fdfa95-0eca-40d5-bbb5-81ba8abe5f7c"
      },
      "source": [
        "end_zero = time.time()\n",
        "end_zero\n",
        "\n",
        "time_zero = end_zero - start_zero\n",
        "time_zero"
      ],
      "execution_count": 54,
      "outputs": [
        {
          "output_type": "execute_result",
          "data": {
            "text/plain": [
              "180.1151638031006"
            ]
          },
          "metadata": {
            "tags": []
          },
          "execution_count": 54
        }
      ]
    },
    {
      "cell_type": "code",
      "metadata": {
        "colab": {
          "base_uri": "https://localhost:8080/"
        },
        "id": "JPQzjdBZQxfg",
        "outputId": "a62005c5-e5d4-4645-d230-78e20afe7d8b"
      },
      "source": [
        "### Simple regret minimization: run number = 1\n",
        "\n",
        "exact_output_1 = np.append(np.min(exact_1.GP.y[0:n_init]),exact_1.GP.y[n_init:(n_init+iters)]) \n",
        "zero_output_1 = np.append(np.min(zero_1.GP.y[0:n_init]),zero_1.GP.y[n_init:(n_init+iters)]) \n",
        "\n",
        "regret_exact_1 = np.log(-exact_output_1 + y_global_orig)\n",
        "regret_zero_1 = np.log(-zero_output_1 + y_global_orig)\n",
        "\n",
        "simple_regret_exact_1 = min_max_array(regret_exact_1)\n",
        "simple_regret_zero_1 = min_max_array(regret_zero_1)\n",
        "\n",
        "min_simple_regret_exact_1 = min(simple_regret_exact_1)\n",
        "min_simple_regret_zero_1 = min(simple_regret_zero_1)\n",
        "\n",
        "min_simple_regret_exact_1, min_simple_regret_zero_1"
      ],
      "execution_count": 55,
      "outputs": [
        {
          "output_type": "execute_result",
          "data": {
            "text/plain": [
              "(0.6645865935346397, 1.0755061841728013)"
            ]
          },
          "metadata": {
            "tags": []
          },
          "execution_count": 55
        }
      ]
    },
    {
      "cell_type": "code",
      "metadata": {
        "colab": {
          "base_uri": "https://localhost:8080/"
        },
        "id": "94yBw5tqQxfk",
        "outputId": "ee8e6815-be8f-4023-bd35-e8030619d760"
      },
      "source": [
        "### Simple regret minimization: run number = 2\n",
        "\n",
        "exact_output_2 = np.append(np.min(exact_2.GP.y[0:n_init]),exact_2.GP.y[n_init:(n_init+iters)]) \n",
        "zero_output_2 = np.append(np.min(zero_2.GP.y[0:n_init]),zero_2.GP.y[n_init:(n_init+iters)]) \n",
        "\n",
        "regret_exact_2 = np.log(-exact_output_2 + y_global_orig)\n",
        "regret_zero_2 = np.log(-zero_output_2 + y_global_orig)\n",
        "\n",
        "simple_regret_exact_2 = min_max_array(regret_exact_2)\n",
        "simple_regret_zero_2 = min_max_array(regret_zero_2)\n",
        "\n",
        "min_simple_regret_exact_2 = min(simple_regret_exact_2)\n",
        "min_simple_regret_zero_2 = min(simple_regret_zero_2)\n",
        "\n",
        "min_simple_regret_exact_2, min_simple_regret_zero_2"
      ],
      "execution_count": 56,
      "outputs": [
        {
          "output_type": "execute_result",
          "data": {
            "text/plain": [
              "(-0.45755271593560126, -0.45755271593560126)"
            ]
          },
          "metadata": {
            "tags": []
          },
          "execution_count": 56
        }
      ]
    },
    {
      "cell_type": "code",
      "metadata": {
        "colab": {
          "base_uri": "https://localhost:8080/"
        },
        "id": "Bu6SBWALQxfl",
        "outputId": "9c678664-f725-4ed7-8f59-d1f443a0c613"
      },
      "source": [
        "### Simple regret minimization: run number = 3\n",
        "\n",
        "exact_output_3 = np.append(np.min(exact_3.GP.y[0:n_init]),exact_3.GP.y[n_init:(n_init+iters)]) \n",
        "zero_output_3 = np.append(np.min(zero_3.GP.y[0:n_init]),zero_3.GP.y[n_init:(n_init+iters)]) \n",
        "\n",
        "regret_exact_3 = np.log(-exact_output_3 + y_global_orig)\n",
        "regret_zero_3 = np.log(-zero_output_3 + y_global_orig)\n",
        "\n",
        "simple_regret_exact_3 = min_max_array(regret_exact_3)\n",
        "simple_regret_zero_3 = min_max_array(regret_zero_3)\n",
        "\n",
        "min_simple_regret_exact_3 = min(simple_regret_exact_3)\n",
        "min_simple_regret_zero_3 = min(simple_regret_zero_3)\n",
        "\n",
        "min_simple_regret_exact_3, min_simple_regret_zero_3"
      ],
      "execution_count": 57,
      "outputs": [
        {
          "output_type": "execute_result",
          "data": {
            "text/plain": [
              "(0.4373812555756854, 0.30359376876897426)"
            ]
          },
          "metadata": {
            "tags": []
          },
          "execution_count": 57
        }
      ]
    },
    {
      "cell_type": "code",
      "metadata": {
        "colab": {
          "base_uri": "https://localhost:8080/"
        },
        "id": "AZm0jgxkQxfm",
        "outputId": "9f9d5029-37e6-424a-e2ba-0f2d9d46db38"
      },
      "source": [
        "### Simple regret minimization: run number = 4\n",
        "\n",
        "exact_output_4 = np.append(np.min(exact_4.GP.y[0:n_init]),exact_4.GP.y[n_init:(n_init+iters)]) \n",
        "zero_output_4 = np.append(np.min(zero_4.GP.y[0:n_init]),zero_4.GP.y[n_init:(n_init+iters)]) \n",
        "\n",
        "regret_exact_4 = np.log(-exact_output_4 + y_global_orig)\n",
        "regret_zero_4 = np.log(-zero_output_4 + y_global_orig)\n",
        "\n",
        "simple_regret_exact_4 = min_max_array(regret_exact_4)\n",
        "simple_regret_zero_4 = min_max_array(regret_zero_4)\n",
        "\n",
        "min_simple_regret_exact_4 = min(simple_regret_exact_4)\n",
        "min_simple_regret_zero_4 = min(simple_regret_zero_4)\n",
        "\n",
        "min_simple_regret_exact_4, min_simple_regret_zero_4"
      ],
      "execution_count": 58,
      "outputs": [
        {
          "output_type": "execute_result",
          "data": {
            "text/plain": [
              "(0.9128468108863439, -0.029980791108480058)"
            ]
          },
          "metadata": {
            "tags": []
          },
          "execution_count": 58
        }
      ]
    },
    {
      "cell_type": "code",
      "metadata": {
        "colab": {
          "base_uri": "https://localhost:8080/"
        },
        "id": "NONPm8JIQxfn",
        "outputId": "a79640c3-0e2a-4a75-c0f7-78e010942590"
      },
      "source": [
        "### Simple regret minimization: run number = 5\n",
        "\n",
        "exact_output_5 = np.append(np.min(exact_5.GP.y[0:n_init]),exact_5.GP.y[n_init:(n_init+iters)]) \n",
        "zero_output_5 = np.append(np.min(zero_5.GP.y[0:n_init]),zero_5.GP.y[n_init:(n_init+iters)]) \n",
        "\n",
        "regret_exact_5 = np.log(-exact_output_5 + y_global_orig)\n",
        "regret_zero_5 = np.log(-zero_output_5 + y_global_orig)\n",
        "\n",
        "simple_regret_exact_5 = min_max_array(regret_exact_5)\n",
        "simple_regret_zero_5 = min_max_array(regret_zero_5)\n",
        "\n",
        "min_simple_regret_exact_5 = min(simple_regret_exact_5)\n",
        "min_simple_regret_zero_5 = min(simple_regret_zero_5)\n",
        "\n",
        "min_simple_regret_exact_5, min_simple_regret_zero_5"
      ],
      "execution_count": 59,
      "outputs": [
        {
          "output_type": "execute_result",
          "data": {
            "text/plain": [
              "(0.6367343536969241, 0.5522698135370556)"
            ]
          },
          "metadata": {
            "tags": []
          },
          "execution_count": 59
        }
      ]
    },
    {
      "cell_type": "code",
      "metadata": {
        "colab": {
          "base_uri": "https://localhost:8080/"
        },
        "id": "CJv3lPuSQxfp",
        "outputId": "21a466e2-faba-45b3-8b69-08e7f0e641e0"
      },
      "source": [
        "### Simple regret minimization: run number = 6\n",
        "\n",
        "exact_output_6 = np.append(np.min(exact_6.GP.y[0:n_init]),exact_6.GP.y[n_init:(n_init+iters)]) \n",
        "zero_output_6 = np.append(np.min(zero_6.GP.y[0:n_init]),zero_6.GP.y[n_init:(n_init+iters)]) \n",
        "\n",
        "regret_exact_6 = np.log(-exact_output_6 + y_global_orig)\n",
        "regret_zero_6 = np.log(-zero_output_6 + y_global_orig)\n",
        "\n",
        "simple_regret_exact_6 = min_max_array(regret_exact_6)\n",
        "simple_regret_zero_6 = min_max_array(regret_zero_6)\n",
        "\n",
        "min_simple_regret_exact_6 = min(simple_regret_exact_6)\n",
        "min_simple_regret_zero_6 = min(simple_regret_zero_6)\n",
        "\n",
        "min_simple_regret_exact_6, min_simple_regret_zero_6"
      ],
      "execution_count": 60,
      "outputs": [
        {
          "output_type": "execute_result",
          "data": {
            "text/plain": [
              "(-0.022727286452021003, -1.4254655049645975)"
            ]
          },
          "metadata": {
            "tags": []
          },
          "execution_count": 60
        }
      ]
    },
    {
      "cell_type": "code",
      "metadata": {
        "colab": {
          "base_uri": "https://localhost:8080/"
        },
        "id": "quR2ZyApQxfq",
        "outputId": "0fa795f4-bcf8-4284-c001-be1c79a55efa"
      },
      "source": [
        "### Simple regret minimization: run number = 7\n",
        "\n",
        "exact_output_7 = np.append(np.min(exact_7.GP.y[0:n_init]),exact_7.GP.y[n_init:(n_init+iters)]) \n",
        "zero_output_7 = np.append(np.min(zero_7.GP.y[0:n_init]),zero_7.GP.y[n_init:(n_init+iters)]) \n",
        "\n",
        "regret_exact_7 = np.log(-exact_output_7 + y_global_orig)\n",
        "regret_zero_7 = np.log(-zero_output_7 + y_global_orig)\n",
        "\n",
        "simple_regret_exact_7 = min_max_array(regret_exact_7)\n",
        "simple_regret_zero_7 = min_max_array(regret_zero_7)\n",
        "\n",
        "min_simple_regret_exact_7 = min(simple_regret_exact_7)\n",
        "min_simple_regret_zero_7 = min(simple_regret_zero_7)\n",
        "\n",
        "min_simple_regret_exact_7, min_simple_regret_zero_7"
      ],
      "execution_count": 61,
      "outputs": [
        {
          "output_type": "execute_result",
          "data": {
            "text/plain": [
              "(0.19066991806673148, -0.32354731725893604)"
            ]
          },
          "metadata": {
            "tags": []
          },
          "execution_count": 61
        }
      ]
    },
    {
      "cell_type": "code",
      "metadata": {
        "colab": {
          "base_uri": "https://localhost:8080/"
        },
        "id": "99wY5nK6Qxfr",
        "outputId": "b7905c07-6721-405b-8eb8-fc475a09d76a"
      },
      "source": [
        "### Simple regret minimization: run number = 8\n",
        "\n",
        "exact_output_8 = np.append(np.min(exact_8.GP.y[0:n_init]),exact_8.GP.y[n_init:(n_init+iters)]) \n",
        "zero_output_8 = np.append(np.min(zero_8.GP.y[0:n_init]),zero_8.GP.y[n_init:(n_init+iters)]) \n",
        "\n",
        "regret_exact_8 = np.log(-exact_output_8 + y_global_orig)\n",
        "regret_zero_8 = np.log(-zero_output_8 + y_global_orig)\n",
        "\n",
        "simple_regret_exact_8 = min_max_array(regret_exact_8)\n",
        "simple_regret_zero_8 = min_max_array(regret_zero_8)\n",
        "\n",
        "min_simple_regret_exact_8 = min(simple_regret_exact_8)\n",
        "min_simple_regret_zero_8 = min(simple_regret_zero_8)\n",
        "\n",
        "min_simple_regret_exact_8, min_simple_regret_zero_8"
      ],
      "execution_count": 62,
      "outputs": [
        {
          "output_type": "execute_result",
          "data": {
            "text/plain": [
              "(0.5685514891280867, -1.4651698406635372)"
            ]
          },
          "metadata": {
            "tags": []
          },
          "execution_count": 62
        }
      ]
    },
    {
      "cell_type": "code",
      "metadata": {
        "colab": {
          "base_uri": "https://localhost:8080/"
        },
        "id": "qt0P5t9qQxfs",
        "outputId": "138bfd07-0e22-43bc-c182-89f3f2f87dc5"
      },
      "source": [
        "### Simple regret minimization: run number = 9\n",
        "\n",
        "exact_output_9 = np.append(np.min(exact_9.GP.y[0:n_init]),exact_9.GP.y[n_init:(n_init+iters)]) \n",
        "zero_output_9 = np.append(np.min(zero_9.GP.y[0:n_init]),zero_9.GP.y[n_init:(n_init+iters)]) \n",
        "\n",
        "regret_exact_9 = np.log(-exact_output_9 + y_global_orig)\n",
        "regret_zero_9 = np.log(-zero_output_9 + y_global_orig)\n",
        "\n",
        "simple_regret_exact_9 = min_max_array(regret_exact_9)\n",
        "simple_regret_zero_9 = min_max_array(regret_zero_9)\n",
        "\n",
        "min_simple_regret_exact_9 = min(simple_regret_exact_9)\n",
        "min_simple_regret_zero_9 = min(simple_regret_zero_9)\n",
        "\n",
        "min_simple_regret_exact_9, min_simple_regret_zero_9"
      ],
      "execution_count": 63,
      "outputs": [
        {
          "output_type": "execute_result",
          "data": {
            "text/plain": [
              "(0.46504941214871776, 0.6686963610276819)"
            ]
          },
          "metadata": {
            "tags": []
          },
          "execution_count": 63
        }
      ]
    },
    {
      "cell_type": "code",
      "metadata": {
        "colab": {
          "base_uri": "https://localhost:8080/"
        },
        "id": "vx8to9stQxft",
        "outputId": "15e37681-1e4b-42c8-fa45-ad83cd44005f"
      },
      "source": [
        "### Simple regret minimization: run number = 10\n",
        "\n",
        "exact_output_10 = np.append(np.min(exact_10.GP.y[0:n_init]),exact_10.GP.y[n_init:(n_init+iters)]) \n",
        "zero_output_10 = np.append(np.min(zero_10.GP.y[0:n_init]),zero_10.GP.y[n_init:(n_init+iters)]) \n",
        "\n",
        "regret_exact_10 = np.log(-exact_output_10 + y_global_orig)\n",
        "regret_zero_10 = np.log(-zero_output_10 + y_global_orig)\n",
        "\n",
        "simple_regret_exact_10 = min_max_array(regret_exact_10)\n",
        "simple_regret_zero_10 = min_max_array(regret_zero_10)\n",
        "\n",
        "min_simple_regret_exact_10 = min(simple_regret_exact_10)\n",
        "min_simple_regret_zero_10 = min(simple_regret_zero_10)\n",
        "\n",
        "min_simple_regret_exact_10, min_simple_regret_zero_10"
      ],
      "execution_count": 64,
      "outputs": [
        {
          "output_type": "execute_result",
          "data": {
            "text/plain": [
              "(1.0999810345784744, -5.437914608852267)"
            ]
          },
          "metadata": {
            "tags": []
          },
          "execution_count": 64
        }
      ]
    },
    {
      "cell_type": "code",
      "metadata": {
        "colab": {
          "base_uri": "https://localhost:8080/"
        },
        "id": "d-FGzWyHQxfu",
        "outputId": "e4986a9b-5087-45ce-cdb8-909bdb541cde"
      },
      "source": [
        "### Simple regret minimization: run number = 11\n",
        "\n",
        "exact_output_11 = np.append(np.min(exact_11.GP.y[0:n_init]),exact_11.GP.y[n_init:(n_init+iters)]) \n",
        "zero_output_11 = np.append(np.min(zero_11.GP.y[0:n_init]),zero_11.GP.y[n_init:(n_init+iters)]) \n",
        "\n",
        "regret_exact_11 = np.log(-exact_output_11 + y_global_orig)\n",
        "regret_zero_11 = np.log(-zero_output_11 + y_global_orig)\n",
        "\n",
        "simple_regret_exact_11 = min_max_array(regret_exact_11)\n",
        "simple_regret_zero_11 = min_max_array(regret_zero_11)\n",
        "\n",
        "min_simple_regret_exact_11 = min(simple_regret_exact_11)\n",
        "min_simple_regret_zero_11 = min(simple_regret_zero_11)\n",
        "\n",
        "min_simple_regret_exact_11, min_simple_regret_zero_11"
      ],
      "execution_count": 65,
      "outputs": [
        {
          "output_type": "execute_result",
          "data": {
            "text/plain": [
              "(-1.3253559690188697, -1.3253559690188697)"
            ]
          },
          "metadata": {
            "tags": []
          },
          "execution_count": 65
        }
      ]
    },
    {
      "cell_type": "code",
      "metadata": {
        "colab": {
          "base_uri": "https://localhost:8080/"
        },
        "id": "SvtsssyjQxfv",
        "outputId": "b4cc5d3b-a27b-4223-e536-cc8990814bfd"
      },
      "source": [
        "### Simple regret minimization: run number = 12\n",
        "\n",
        "exact_output_12 = np.append(np.min(exact_12.GP.y[0:n_init]),exact_12.GP.y[n_init:(n_init+iters)]) \n",
        "zero_output_12 = np.append(np.min(zero_12.GP.y[0:n_init]),zero_12.GP.y[n_init:(n_init+iters)]) \n",
        "\n",
        "regret_exact_12 = np.log(-exact_output_12 + y_global_orig)\n",
        "regret_zero_12 = np.log(-zero_output_12 + y_global_orig)\n",
        "\n",
        "simple_regret_exact_12 = min_max_array(regret_exact_12)\n",
        "simple_regret_zero_12 = min_max_array(regret_zero_12)\n",
        "\n",
        "min_simple_regret_exact_12 = min(simple_regret_exact_12)\n",
        "min_simple_regret_zero_12 = min(simple_regret_zero_12)\n",
        "\n",
        "min_simple_regret_exact_12, min_simple_regret_zero_12"
      ],
      "execution_count": 66,
      "outputs": [
        {
          "output_type": "execute_result",
          "data": {
            "text/plain": [
              "(0.41624928879517964, -6.432579913772421)"
            ]
          },
          "metadata": {
            "tags": []
          },
          "execution_count": 66
        }
      ]
    },
    {
      "cell_type": "code",
      "metadata": {
        "colab": {
          "base_uri": "https://localhost:8080/"
        },
        "id": "K6OiGcHkQxfw",
        "outputId": "787f2bf7-45be-4664-dfbb-378041735c96"
      },
      "source": [
        "### Simple regret minimization: run number = 13\n",
        "\n",
        "exact_output_13 = np.append(np.min(exact_13.GP.y[0:n_init]),exact_13.GP.y[n_init:(n_init+iters)]) \n",
        "zero_output_13 = np.append(np.min(zero_13.GP.y[0:n_init]),zero_13.GP.y[n_init:(n_init+iters)]) \n",
        "\n",
        "regret_exact_13 = np.log(-exact_output_13 + y_global_orig)\n",
        "regret_zero_13 = np.log(-zero_output_13 + y_global_orig)\n",
        "\n",
        "simple_regret_exact_13 = min_max_array(regret_exact_13)\n",
        "simple_regret_zero_13 = min_max_array(regret_zero_13)\n",
        "\n",
        "min_simple_regret_exact_13 = min(simple_regret_exact_13)\n",
        "min_simple_regret_zero_13 = min(simple_regret_zero_13)\n",
        "\n",
        "min_simple_regret_exact_13, min_simple_regret_zero_13"
      ],
      "execution_count": 67,
      "outputs": [
        {
          "output_type": "execute_result",
          "data": {
            "text/plain": [
              "(0.4698426705033121, 0.3967973622932441)"
            ]
          },
          "metadata": {
            "tags": []
          },
          "execution_count": 67
        }
      ]
    },
    {
      "cell_type": "code",
      "metadata": {
        "colab": {
          "base_uri": "https://localhost:8080/"
        },
        "id": "ogML73shQxfx",
        "outputId": "c405d7d4-36c6-4dae-ee97-59673978722d"
      },
      "source": [
        "### Simple regret minimization: run number = 14\n",
        "\n",
        "exact_output_14 = np.append(np.min(exact_14.GP.y[0:n_init]),exact_14.GP.y[n_init:(n_init+iters)]) \n",
        "zero_output_14 = np.append(np.min(zero_14.GP.y[0:n_init]),zero_14.GP.y[n_init:(n_init+iters)]) \n",
        "\n",
        "regret_exact_14 = np.log(-exact_output_14 + y_global_orig)\n",
        "regret_zero_14 = np.log(-zero_output_14 + y_global_orig)\n",
        "\n",
        "simple_regret_exact_14 = min_max_array(regret_exact_14)\n",
        "simple_regret_zero_14 = min_max_array(regret_zero_14)\n",
        "\n",
        "min_simple_regret_exact_14 = min(simple_regret_exact_14)\n",
        "min_simple_regret_zero_14 = min(simple_regret_zero_14)\n",
        "\n",
        "min_simple_regret_exact_14, min_simple_regret_zero_14"
      ],
      "execution_count": 68,
      "outputs": [
        {
          "output_type": "execute_result",
          "data": {
            "text/plain": [
              "(-0.7712854975999445, -0.031185798772773648)"
            ]
          },
          "metadata": {
            "tags": []
          },
          "execution_count": 68
        }
      ]
    },
    {
      "cell_type": "code",
      "metadata": {
        "colab": {
          "base_uri": "https://localhost:8080/"
        },
        "id": "9Eg7gFT9Qxfx",
        "outputId": "a3d75262-a6bf-49b2-e60b-63761155a8b9"
      },
      "source": [
        "### Simple regret minimization: run number = 15\n",
        "\n",
        "exact_output_15 = np.append(np.min(exact_15.GP.y[0:n_init]),exact_15.GP.y[n_init:(n_init+iters)]) \n",
        "zero_output_15 = np.append(np.min(zero_15.GP.y[0:n_init]),zero_15.GP.y[n_init:(n_init+iters)]) \n",
        "\n",
        "regret_exact_15 = np.log(-exact_output_15 + y_global_orig)\n",
        "regret_zero_15 = np.log(-zero_output_15 + y_global_orig)\n",
        "\n",
        "simple_regret_exact_15 = min_max_array(regret_exact_15)\n",
        "simple_regret_zero_15 = min_max_array(regret_zero_15)\n",
        "\n",
        "min_simple_regret_exact_15 = min(simple_regret_exact_15)\n",
        "min_simple_regret_zero_15 = min(simple_regret_zero_15)\n",
        "\n",
        "min_simple_regret_exact_15, min_simple_regret_zero_15"
      ],
      "execution_count": 69,
      "outputs": [
        {
          "output_type": "execute_result",
          "data": {
            "text/plain": [
              "(0.44326020276114686, 0.8539431892519405)"
            ]
          },
          "metadata": {
            "tags": []
          },
          "execution_count": 69
        }
      ]
    },
    {
      "cell_type": "code",
      "metadata": {
        "colab": {
          "base_uri": "https://localhost:8080/"
        },
        "id": "lIAC1U7ZQxfy",
        "outputId": "dc292435-7aa7-46c2-c63e-b63b5032a429"
      },
      "source": [
        "### Simple regret minimization: run number = 16\n",
        "\n",
        "exact_output_16 = np.append(np.min(exact_16.GP.y[0:n_init]),exact_16.GP.y[n_init:(n_init+iters)]) \n",
        "zero_output_16 = np.append(np.min(zero_16.GP.y[0:n_init]),zero_16.GP.y[n_init:(n_init+iters)]) \n",
        "\n",
        "regret_exact_16 = np.log(-exact_output_16 + y_global_orig)\n",
        "regret_zero_16 = np.log(-zero_output_16 + y_global_orig)\n",
        "\n",
        "simple_regret_exact_16 = min_max_array(regret_exact_16)\n",
        "simple_regret_zero_16 = min_max_array(regret_zero_16)\n",
        "\n",
        "min_simple_regret_exact_16 = min(simple_regret_exact_16)\n",
        "min_simple_regret_zero_16 = min(simple_regret_zero_16)\n",
        "\n",
        "min_simple_regret_exact_16, min_simple_regret_zero_16"
      ],
      "execution_count": 70,
      "outputs": [
        {
          "output_type": "execute_result",
          "data": {
            "text/plain": [
              "(1.162901266988697, -0.08248674561920932)"
            ]
          },
          "metadata": {
            "tags": []
          },
          "execution_count": 70
        }
      ]
    },
    {
      "cell_type": "code",
      "metadata": {
        "colab": {
          "base_uri": "https://localhost:8080/"
        },
        "id": "bGott36OQxfz",
        "outputId": "501c7d1b-c1b4-43fd-c146-47eea3f0c266"
      },
      "source": [
        "### Simple regret minimization: run number = 17\n",
        "\n",
        "exact_output_17 = np.append(np.min(exact_17.GP.y[0:n_init]),exact_17.GP.y[n_init:(n_init+iters)]) \n",
        "zero_output_17 = np.append(np.min(zero_17.GP.y[0:n_init]),zero_17.GP.y[n_init:(n_init+iters)]) \n",
        "\n",
        "regret_exact_17 = np.log(-exact_output_17 + y_global_orig)\n",
        "regret_zero_17 = np.log(-zero_output_17 + y_global_orig)\n",
        "\n",
        "simple_regret_exact_17 = min_max_array(regret_exact_17)\n",
        "simple_regret_zero_17 = min_max_array(regret_zero_17)\n",
        "\n",
        "min_simple_regret_exact_17 = min(simple_regret_exact_17)\n",
        "min_simple_regret_zero_17 = min(simple_regret_zero_17)\n",
        "\n",
        "min_simple_regret_exact_17, min_simple_regret_zero_17"
      ],
      "execution_count": 71,
      "outputs": [
        {
          "output_type": "execute_result",
          "data": {
            "text/plain": [
              "(-0.10553854636045647, -0.7178048467916519)"
            ]
          },
          "metadata": {
            "tags": []
          },
          "execution_count": 71
        }
      ]
    },
    {
      "cell_type": "code",
      "metadata": {
        "colab": {
          "base_uri": "https://localhost:8080/"
        },
        "id": "Cz9ZYMBMQxfz",
        "outputId": "17d2b76f-556f-4a21-e7d8-230600eb2ffc"
      },
      "source": [
        "### Simple regret minimization: run number = 18\n",
        "\n",
        "exact_output_18 = np.append(np.min(exact_18.GP.y[0:n_init]),exact_18.GP.y[n_init:(n_init+iters)]) \n",
        "zero_output_18 = np.append(np.min(zero_18.GP.y[0:n_init]),zero_18.GP.y[n_init:(n_init+iters)]) \n",
        "\n",
        "regret_exact_18 = np.log(-exact_output_18 + y_global_orig)\n",
        "regret_zero_18 = np.log(-zero_output_18 + y_global_orig)\n",
        "\n",
        "simple_regret_exact_18 = min_max_array(regret_exact_18)\n",
        "simple_regret_zero_18 = min_max_array(regret_zero_18)\n",
        "\n",
        "min_simple_regret_exact_18 = min(simple_regret_exact_18)\n",
        "min_simple_regret_zero_18 = min(simple_regret_zero_18)\n",
        "\n",
        "min_simple_regret_exact_18, min_simple_regret_zero_18"
      ],
      "execution_count": 72,
      "outputs": [
        {
          "output_type": "execute_result",
          "data": {
            "text/plain": [
              "(-0.018584825805617558, 0.47365805230309505)"
            ]
          },
          "metadata": {
            "tags": []
          },
          "execution_count": 72
        }
      ]
    },
    {
      "cell_type": "code",
      "metadata": {
        "colab": {
          "base_uri": "https://localhost:8080/"
        },
        "id": "OBfpWOHNQxf0",
        "outputId": "29236050-3a7e-49d1-a0ab-66133e914d64"
      },
      "source": [
        "### Simple regret minimization: run number = 19\n",
        "\n",
        "exact_output_19 = np.append(np.min(exact_19.GP.y[0:n_init]),exact_19.GP.y[n_init:(n_init+iters)]) \n",
        "zero_output_19 = np.append(np.min(zero_19.GP.y[0:n_init]),zero_19.GP.y[n_init:(n_init+iters)]) \n",
        "\n",
        "regret_exact_19 = np.log(-exact_output_19 + y_global_orig)\n",
        "regret_zero_19 = np.log(-zero_output_19 + y_global_orig)\n",
        "\n",
        "simple_regret_exact_19 = min_max_array(regret_exact_19)\n",
        "simple_regret_zero_19 = min_max_array(regret_zero_19)\n",
        "\n",
        "min_simple_regret_exact_19 = min(simple_regret_exact_19)\n",
        "min_simple_regret_zero_19 = min(simple_regret_zero_19)\n",
        "\n",
        "min_simple_regret_exact_19, min_simple_regret_zero_19"
      ],
      "execution_count": 73,
      "outputs": [
        {
          "output_type": "execute_result",
          "data": {
            "text/plain": [
              "(-0.20033420062684293, -1.3855086791233324)"
            ]
          },
          "metadata": {
            "tags": []
          },
          "execution_count": 73
        }
      ]
    },
    {
      "cell_type": "code",
      "metadata": {
        "colab": {
          "base_uri": "https://localhost:8080/"
        },
        "id": "BE1AJ7NsQxf0",
        "outputId": "5472d1b9-d8a8-4e6a-cbfa-770b0c91dc5a"
      },
      "source": [
        "### Simple regret minimization: run number = 20\n",
        "\n",
        "exact_output_20 = np.append(np.min(exact_20.GP.y[0:n_init]),exact_20.GP.y[n_init:(n_init+iters)]) \n",
        "zero_output_20 = np.append(np.min(zero_20.GP.y[0:n_init]),zero_20.GP.y[n_init:(n_init+iters)]) \n",
        "\n",
        "regret_exact_20 = np.log(-exact_output_20 + y_global_orig)\n",
        "regret_zero_20 = np.log(-zero_output_20 + y_global_orig)\n",
        "\n",
        "simple_regret_exact_20 = min_max_array(regret_exact_20)\n",
        "simple_regret_zero_20 = min_max_array(regret_zero_20)\n",
        "\n",
        "min_simple_regret_exact_20 = min(simple_regret_exact_20)\n",
        "min_simple_regret_zero_20 = min(simple_regret_zero_20)\n",
        "\n",
        "min_simple_regret_exact_20, min_simple_regret_zero_20"
      ],
      "execution_count": 74,
      "outputs": [
        {
          "output_type": "execute_result",
          "data": {
            "text/plain": [
              "(-0.37869010972978323, -1.0223502941765386)"
            ]
          },
          "metadata": {
            "tags": []
          },
          "execution_count": 74
        }
      ]
    },
    {
      "cell_type": "code",
      "metadata": {
        "id": "bpX-bKAHQxf1"
      },
      "source": [
        "# Iteration1 :\n",
        "\n",
        "slice1 = 0\n",
        "\n",
        "exact1 = [simple_regret_exact_1[slice1],\n",
        "       simple_regret_exact_2[slice1],\n",
        "       simple_regret_exact_3[slice1],\n",
        "       simple_regret_exact_4[slice1],\n",
        "       simple_regret_exact_5[slice1],\n",
        "       simple_regret_exact_6[slice1],\n",
        "       simple_regret_exact_7[slice1],\n",
        "       simple_regret_exact_8[slice1],\n",
        "       simple_regret_exact_9[slice1],\n",
        "       simple_regret_exact_10[slice1],\n",
        "       simple_regret_exact_11[slice1],\n",
        "       simple_regret_exact_12[slice1],\n",
        "       simple_regret_exact_13[slice1],\n",
        "       simple_regret_exact_14[slice1],\n",
        "       simple_regret_exact_15[slice1],\n",
        "       simple_regret_exact_16[slice1],\n",
        "       simple_regret_exact_17[slice1],\n",
        "       simple_regret_exact_18[slice1],\n",
        "       simple_regret_exact_19[slice1],\n",
        "       simple_regret_exact_20[slice1]]\n",
        "\n",
        "zero1 = [simple_regret_zero_1[slice1],\n",
        "       simple_regret_zero_2[slice1],\n",
        "       simple_regret_zero_3[slice1],\n",
        "       simple_regret_zero_4[slice1],\n",
        "       simple_regret_zero_5[slice1],\n",
        "       simple_regret_zero_6[slice1],\n",
        "       simple_regret_zero_7[slice1],\n",
        "       simple_regret_zero_8[slice1],\n",
        "       simple_regret_zero_9[slice1],\n",
        "       simple_regret_zero_10[slice1],\n",
        "       simple_regret_zero_11[slice1],\n",
        "       simple_regret_zero_12[slice1],\n",
        "       simple_regret_zero_13[slice1],\n",
        "       simple_regret_zero_14[slice1],\n",
        "       simple_regret_zero_15[slice1],\n",
        "       simple_regret_zero_16[slice1],\n",
        "       simple_regret_zero_17[slice1],\n",
        "       simple_regret_zero_18[slice1],\n",
        "       simple_regret_zero_19[slice1],\n",
        "       simple_regret_zero_20[slice1]]\n",
        "\n",
        "exact1_results = pd.DataFrame(exact1).sort_values(by=[0], ascending=False)\n",
        "zero1_results = pd.DataFrame(zero1).sort_values(by=[0], ascending=False)\n",
        "\n",
        "### Best simple regret minimization IQR - exact:\n",
        "lower_exact1 = np.asarray(exact1_results[4:5][0])[0]\n",
        "median_exact1 = np.asarray(exact1_results[9:10][0])[0]\n",
        "upper_exact1 = np.asarray(exact1_results[14:15][0])[0]\n",
        "\n",
        "lower_zero1 = np.asarray(zero1_results[4:5][0])[0]\n",
        "median_zero1 = np.asarray(zero1_results[9:10][0])[0]\n",
        "upper_zero1 = np.asarray(zero1_results[14:15][0])[0]"
      ],
      "execution_count": 75,
      "outputs": []
    },
    {
      "cell_type": "code",
      "metadata": {
        "id": "CgIkJA1xQxf2"
      },
      "source": [
        "# Iteration11 :\n",
        "\n",
        "slice11 = 10\n",
        "\n",
        "exact11 = [simple_regret_exact_1[slice11],\n",
        "       simple_regret_exact_2[slice11],\n",
        "       simple_regret_exact_3[slice11],\n",
        "       simple_regret_exact_4[slice11],\n",
        "       simple_regret_exact_5[slice11],\n",
        "       simple_regret_exact_6[slice11],\n",
        "       simple_regret_exact_7[slice11],\n",
        "       simple_regret_exact_8[slice11],\n",
        "       simple_regret_exact_9[slice11],\n",
        "       simple_regret_exact_10[slice11],\n",
        "       simple_regret_exact_11[slice11],\n",
        "       simple_regret_exact_12[slice11],\n",
        "       simple_regret_exact_13[slice11],\n",
        "       simple_regret_exact_14[slice11],\n",
        "       simple_regret_exact_15[slice11],\n",
        "       simple_regret_exact_16[slice11],\n",
        "       simple_regret_exact_17[slice11],\n",
        "       simple_regret_exact_18[slice11],\n",
        "       simple_regret_exact_19[slice11],\n",
        "       simple_regret_exact_20[slice11]]\n",
        "\n",
        "zero11 = [simple_regret_zero_1[slice11],\n",
        "       simple_regret_zero_2[slice11],\n",
        "       simple_regret_zero_3[slice11],\n",
        "       simple_regret_zero_4[slice11],\n",
        "       simple_regret_zero_5[slice11],\n",
        "       simple_regret_zero_6[slice11],\n",
        "       simple_regret_zero_7[slice11],\n",
        "       simple_regret_zero_8[slice11],\n",
        "       simple_regret_zero_9[slice11],\n",
        "       simple_regret_zero_10[slice11],\n",
        "       simple_regret_zero_11[slice11],\n",
        "       simple_regret_zero_12[slice11],\n",
        "       simple_regret_zero_13[slice11],\n",
        "       simple_regret_zero_14[slice11],\n",
        "       simple_regret_zero_15[slice11],\n",
        "       simple_regret_zero_16[slice11],\n",
        "       simple_regret_zero_17[slice11],\n",
        "       simple_regret_zero_18[slice11],\n",
        "       simple_regret_zero_19[slice11],\n",
        "       simple_regret_zero_20[slice11]]\n",
        "\n",
        "exact11_results = pd.DataFrame(exact11).sort_values(by=[0], ascending=False)\n",
        "zero11_results = pd.DataFrame(zero11).sort_values(by=[0], ascending=False)\n",
        "\n",
        "### Best simple regret minimization IQR - exact:\n",
        "lower_exact11 = np.asarray(exact11_results[4:5][0])[0]\n",
        "median_exact11 = np.asarray(exact11_results[9:10][0])[0]\n",
        "upper_exact11 = np.asarray(exact11_results[14:15][0])[0]\n",
        "\n",
        "lower_zero11 = np.asarray(zero11_results[4:5][0])[0]\n",
        "median_zero11 = np.asarray(zero11_results[9:10][0])[0]\n",
        "upper_zero11 = np.asarray(zero11_results[14:15][0])[0]"
      ],
      "execution_count": 76,
      "outputs": []
    },
    {
      "cell_type": "code",
      "metadata": {
        "id": "MFePDfGuQxf2"
      },
      "source": [
        "# Iteration21 :\n",
        "\n",
        "slice21 = 20\n",
        "\n",
        "exact21 = [simple_regret_exact_1[slice21],\n",
        "       simple_regret_exact_2[slice21],\n",
        "       simple_regret_exact_3[slice21],\n",
        "       simple_regret_exact_4[slice21],\n",
        "       simple_regret_exact_5[slice21],\n",
        "       simple_regret_exact_6[slice21],\n",
        "       simple_regret_exact_7[slice21],\n",
        "       simple_regret_exact_8[slice21],\n",
        "       simple_regret_exact_9[slice21],\n",
        "       simple_regret_exact_10[slice21],\n",
        "       simple_regret_exact_11[slice21],\n",
        "       simple_regret_exact_12[slice21],\n",
        "       simple_regret_exact_13[slice21],\n",
        "       simple_regret_exact_14[slice21],\n",
        "       simple_regret_exact_15[slice21],\n",
        "       simple_regret_exact_16[slice21],\n",
        "       simple_regret_exact_17[slice21],\n",
        "       simple_regret_exact_18[slice21],\n",
        "       simple_regret_exact_19[slice21],\n",
        "       simple_regret_exact_20[slice21]]\n",
        "\n",
        "zero21 = [simple_regret_zero_1[slice21],\n",
        "       simple_regret_zero_2[slice21],\n",
        "       simple_regret_zero_3[slice21],\n",
        "       simple_regret_zero_4[slice21],\n",
        "       simple_regret_zero_5[slice21],\n",
        "       simple_regret_zero_6[slice21],\n",
        "       simple_regret_zero_7[slice21],\n",
        "       simple_regret_zero_8[slice21],\n",
        "       simple_regret_zero_9[slice21],\n",
        "       simple_regret_zero_10[slice21],\n",
        "       simple_regret_zero_11[slice21],\n",
        "       simple_regret_zero_12[slice21],\n",
        "       simple_regret_zero_13[slice21],\n",
        "       simple_regret_zero_14[slice21],\n",
        "       simple_regret_zero_15[slice21],\n",
        "       simple_regret_zero_16[slice21],\n",
        "       simple_regret_zero_17[slice21],\n",
        "       simple_regret_zero_18[slice21],\n",
        "       simple_regret_zero_19[slice21],\n",
        "       simple_regret_zero_20[slice21]]\n",
        "\n",
        "exact21_results = pd.DataFrame(exact21).sort_values(by=[0], ascending=False)\n",
        "zero21_results = pd.DataFrame(zero21).sort_values(by=[0], ascending=False)\n",
        "\n",
        "### Best simple regret minimization IQR - exact:\n",
        "lower_exact21 = np.asarray(exact21_results[4:5][0])[0]\n",
        "median_exact21 = np.asarray(exact21_results[9:10][0])[0]\n",
        "upper_exact21 = np.asarray(exact21_results[14:15][0])[0]\n",
        "\n",
        "lower_zero21 = np.asarray(zero21_results[4:5][0])[0]\n",
        "median_zero21 = np.asarray(zero21_results[9:10][0])[0]\n",
        "upper_zero21 = np.asarray(zero21_results[14:15][0])[0]"
      ],
      "execution_count": 77,
      "outputs": []
    },
    {
      "cell_type": "code",
      "metadata": {
        "id": "PrRDB1kfQxf3"
      },
      "source": [
        "# Iteration2 :\n",
        "\n",
        "slice2 = 1\n",
        "\n",
        "exact2 = [simple_regret_exact_1[slice2],\n",
        "       simple_regret_exact_2[slice2],\n",
        "       simple_regret_exact_3[slice2],\n",
        "       simple_regret_exact_4[slice2],\n",
        "       simple_regret_exact_5[slice2],\n",
        "       simple_regret_exact_6[slice2],\n",
        "       simple_regret_exact_7[slice2],\n",
        "       simple_regret_exact_8[slice2],\n",
        "       simple_regret_exact_9[slice2],\n",
        "       simple_regret_exact_10[slice2],\n",
        "       simple_regret_exact_11[slice2],\n",
        "       simple_regret_exact_12[slice2],\n",
        "       simple_regret_exact_13[slice2],\n",
        "       simple_regret_exact_14[slice2],\n",
        "       simple_regret_exact_15[slice2],\n",
        "       simple_regret_exact_16[slice2],\n",
        "       simple_regret_exact_17[slice2],\n",
        "       simple_regret_exact_18[slice2],\n",
        "       simple_regret_exact_19[slice2],\n",
        "       simple_regret_exact_20[slice2]]\n",
        "\n",
        "zero2 = [simple_regret_zero_1[slice2],\n",
        "       simple_regret_zero_2[slice2],\n",
        "       simple_regret_zero_3[slice2],\n",
        "       simple_regret_zero_4[slice2],\n",
        "       simple_regret_zero_5[slice2],\n",
        "       simple_regret_zero_6[slice2],\n",
        "       simple_regret_zero_7[slice2],\n",
        "       simple_regret_zero_8[slice2],\n",
        "       simple_regret_zero_9[slice2],\n",
        "       simple_regret_zero_10[slice2],\n",
        "       simple_regret_zero_11[slice2],\n",
        "       simple_regret_zero_12[slice2],\n",
        "       simple_regret_zero_13[slice2],\n",
        "       simple_regret_zero_14[slice2],\n",
        "       simple_regret_zero_15[slice2],\n",
        "       simple_regret_zero_16[slice2],\n",
        "       simple_regret_zero_17[slice2],\n",
        "       simple_regret_zero_18[slice2],\n",
        "       simple_regret_zero_19[slice2],\n",
        "       simple_regret_zero_20[slice2]]\n",
        "\n",
        "exact2_results = pd.DataFrame(exact2).sort_values(by=[0], ascending=False)\n",
        "zero2_results = pd.DataFrame(zero2).sort_values(by=[0], ascending=False)\n",
        "\n",
        "### Best simple regret minimization IQR - exact:\n",
        "lower_exact2 = np.asarray(exact2_results[4:5][0])[0]\n",
        "median_exact2 = np.asarray(exact2_results[9:10][0])[0]\n",
        "upper_exact2 = np.asarray(exact2_results[14:15][0])[0]\n",
        "\n",
        "lower_zero2 = np.asarray(zero2_results[4:5][0])[0]\n",
        "median_zero2 = np.asarray(zero2_results[9:10][0])[0]\n",
        "upper_zero2 = np.asarray(zero2_results[14:15][0])[0]"
      ],
      "execution_count": 78,
      "outputs": []
    },
    {
      "cell_type": "code",
      "metadata": {
        "id": "B8ncJDYeQxf3"
      },
      "source": [
        "# Iteration12 :\n",
        "\n",
        "slice12 = 11\n",
        "\n",
        "exact12 = [simple_regret_exact_1[slice12],\n",
        "       simple_regret_exact_2[slice12],\n",
        "       simple_regret_exact_3[slice12],\n",
        "       simple_regret_exact_4[slice12],\n",
        "       simple_regret_exact_5[slice12],\n",
        "       simple_regret_exact_6[slice12],\n",
        "       simple_regret_exact_7[slice12],\n",
        "       simple_regret_exact_8[slice12],\n",
        "       simple_regret_exact_9[slice12],\n",
        "       simple_regret_exact_10[slice12],\n",
        "       simple_regret_exact_11[slice12],\n",
        "       simple_regret_exact_12[slice12],\n",
        "       simple_regret_exact_13[slice12],\n",
        "       simple_regret_exact_14[slice12],\n",
        "       simple_regret_exact_15[slice12],\n",
        "       simple_regret_exact_16[slice12],\n",
        "       simple_regret_exact_17[slice12],\n",
        "       simple_regret_exact_18[slice12],\n",
        "       simple_regret_exact_19[slice12],\n",
        "       simple_regret_exact_20[slice12]]\n",
        "\n",
        "zero12 = [simple_regret_zero_1[slice12],\n",
        "       simple_regret_zero_2[slice12],\n",
        "       simple_regret_zero_3[slice12],\n",
        "       simple_regret_zero_4[slice12],\n",
        "       simple_regret_zero_5[slice12],\n",
        "       simple_regret_zero_6[slice12],\n",
        "       simple_regret_zero_7[slice12],\n",
        "       simple_regret_zero_8[slice12],\n",
        "       simple_regret_zero_9[slice12],\n",
        "       simple_regret_zero_10[slice12],\n",
        "       simple_regret_zero_11[slice12],\n",
        "       simple_regret_zero_12[slice12],\n",
        "       simple_regret_zero_13[slice12],\n",
        "       simple_regret_zero_14[slice12],\n",
        "       simple_regret_zero_15[slice12],\n",
        "       simple_regret_zero_16[slice12],\n",
        "       simple_regret_zero_17[slice12],\n",
        "       simple_regret_zero_18[slice12],\n",
        "       simple_regret_zero_19[slice12],\n",
        "       simple_regret_zero_20[slice12]]\n",
        "\n",
        "exact12_results = pd.DataFrame(exact12).sort_values(by=[0], ascending=False)\n",
        "zero12_results = pd.DataFrame(zero12).sort_values(by=[0], ascending=False)\n",
        "\n",
        "### Best simple regret minimization IQR - exact:\n",
        "lower_exact12 = np.asarray(exact12_results[4:5][0])[0]\n",
        "median_exact12 = np.asarray(exact12_results[9:10][0])[0]\n",
        "upper_exact12 = np.asarray(exact12_results[14:15][0])[0]\n",
        "\n",
        "lower_zero12 = np.asarray(zero12_results[4:5][0])[0]\n",
        "median_zero12 = np.asarray(zero12_results[9:10][0])[0]\n",
        "upper_zero12 = np.asarray(zero12_results[14:15][0])[0]"
      ],
      "execution_count": 79,
      "outputs": []
    },
    {
      "cell_type": "code",
      "metadata": {
        "id": "Jn4KpGvcQxf4"
      },
      "source": [
        "# Iteration3 :\n",
        "\n",
        "slice3 = 2\n",
        "\n",
        "exact3 = [simple_regret_exact_1[slice3],\n",
        "       simple_regret_exact_2[slice3],\n",
        "       simple_regret_exact_3[slice3],\n",
        "       simple_regret_exact_4[slice3],\n",
        "       simple_regret_exact_5[slice3],\n",
        "       simple_regret_exact_6[slice3],\n",
        "       simple_regret_exact_7[slice3],\n",
        "       simple_regret_exact_8[slice3],\n",
        "       simple_regret_exact_9[slice3],\n",
        "       simple_regret_exact_10[slice3],\n",
        "       simple_regret_exact_11[slice3],\n",
        "       simple_regret_exact_12[slice3],\n",
        "       simple_regret_exact_13[slice3],\n",
        "       simple_regret_exact_14[slice3],\n",
        "       simple_regret_exact_15[slice3],\n",
        "       simple_regret_exact_16[slice3],\n",
        "       simple_regret_exact_17[slice3],\n",
        "       simple_regret_exact_18[slice3],\n",
        "       simple_regret_exact_19[slice3],\n",
        "       simple_regret_exact_20[slice3]]\n",
        "\n",
        "zero3 = [simple_regret_zero_1[slice3],\n",
        "       simple_regret_zero_2[slice3],\n",
        "       simple_regret_zero_3[slice3],\n",
        "       simple_regret_zero_4[slice3],\n",
        "       simple_regret_zero_5[slice3],\n",
        "       simple_regret_zero_6[slice3],\n",
        "       simple_regret_zero_7[slice3],\n",
        "       simple_regret_zero_8[slice3],\n",
        "       simple_regret_zero_9[slice3],\n",
        "       simple_regret_zero_10[slice3],\n",
        "       simple_regret_zero_11[slice3],\n",
        "       simple_regret_zero_12[slice3],\n",
        "       simple_regret_zero_13[slice3],\n",
        "       simple_regret_zero_14[slice3],\n",
        "       simple_regret_zero_15[slice3],\n",
        "       simple_regret_zero_16[slice3],\n",
        "       simple_regret_zero_17[slice3],\n",
        "       simple_regret_zero_18[slice3],\n",
        "       simple_regret_zero_19[slice3],\n",
        "       simple_regret_zero_20[slice3]]\n",
        "\n",
        "exact3_results = pd.DataFrame(exact3).sort_values(by=[0], ascending=False)\n",
        "zero3_results = pd.DataFrame(zero3).sort_values(by=[0], ascending=False)\n",
        "\n",
        "### Best simple regret minimization IQR - exact:\n",
        "lower_exact3 = np.asarray(exact3_results[4:5][0])[0]\n",
        "median_exact3 = np.asarray(exact3_results[9:10][0])[0]\n",
        "upper_exact3 = np.asarray(exact3_results[14:15][0])[0]\n",
        "\n",
        "lower_zero3 = np.asarray(zero3_results[4:5][0])[0]\n",
        "median_zero3 = np.asarray(zero3_results[9:10][0])[0]\n",
        "upper_zero3 = np.asarray(zero3_results[14:15][0])[0]"
      ],
      "execution_count": 80,
      "outputs": []
    },
    {
      "cell_type": "code",
      "metadata": {
        "id": "plf83wxrQxf4"
      },
      "source": [
        "# Iteration13 :\n",
        "\n",
        "slice13 = 12\n",
        "\n",
        "exact13 = [simple_regret_exact_1[slice13],\n",
        "       simple_regret_exact_2[slice13],\n",
        "       simple_regret_exact_3[slice13],\n",
        "       simple_regret_exact_4[slice13],\n",
        "       simple_regret_exact_5[slice13],\n",
        "       simple_regret_exact_6[slice13],\n",
        "       simple_regret_exact_7[slice13],\n",
        "       simple_regret_exact_8[slice13],\n",
        "       simple_regret_exact_9[slice13],\n",
        "       simple_regret_exact_10[slice13],\n",
        "       simple_regret_exact_11[slice13],\n",
        "       simple_regret_exact_12[slice13],\n",
        "       simple_regret_exact_13[slice13],\n",
        "       simple_regret_exact_14[slice13],\n",
        "       simple_regret_exact_15[slice13],\n",
        "       simple_regret_exact_16[slice13],\n",
        "       simple_regret_exact_17[slice13],\n",
        "       simple_regret_exact_18[slice13],\n",
        "       simple_regret_exact_19[slice13],\n",
        "       simple_regret_exact_20[slice13]]\n",
        "\n",
        "zero13 = [simple_regret_zero_1[slice13],\n",
        "       simple_regret_zero_2[slice13],\n",
        "       simple_regret_zero_3[slice13],\n",
        "       simple_regret_zero_4[slice13],\n",
        "       simple_regret_zero_5[slice13],\n",
        "       simple_regret_zero_6[slice13],\n",
        "       simple_regret_zero_7[slice13],\n",
        "       simple_regret_zero_8[slice13],\n",
        "       simple_regret_zero_9[slice13],\n",
        "       simple_regret_zero_10[slice13],\n",
        "       simple_regret_zero_11[slice13],\n",
        "       simple_regret_zero_12[slice13],\n",
        "       simple_regret_zero_13[slice13],\n",
        "       simple_regret_zero_14[slice13],\n",
        "       simple_regret_zero_15[slice13],\n",
        "       simple_regret_zero_16[slice13],\n",
        "       simple_regret_zero_17[slice13],\n",
        "       simple_regret_zero_18[slice13],\n",
        "       simple_regret_zero_19[slice13],\n",
        "       simple_regret_zero_20[slice13]]\n",
        "\n",
        "exact13_results = pd.DataFrame(exact13).sort_values(by=[0], ascending=False)\n",
        "zero13_results = pd.DataFrame(zero13).sort_values(by=[0], ascending=False)\n",
        "\n",
        "### Best simple regret minimization IQR - exact:\n",
        "lower_exact13 = np.asarray(exact13_results[4:5][0])[0]\n",
        "median_exact13 = np.asarray(exact13_results[9:10][0])[0]\n",
        "upper_exact13 = np.asarray(exact13_results[14:15][0])[0]\n",
        "\n",
        "lower_zero13 = np.asarray(zero13_results[4:5][0])[0]\n",
        "median_zero13 = np.asarray(zero13_results[9:10][0])[0]\n",
        "upper_zero13 = np.asarray(zero13_results[14:15][0])[0]"
      ],
      "execution_count": 81,
      "outputs": []
    },
    {
      "cell_type": "code",
      "metadata": {
        "id": "9A7mlVvJQxf5"
      },
      "source": [
        "# Iteration4 :\n",
        "\n",
        "slice4 = 3\n",
        "\n",
        "exact4 = [simple_regret_exact_1[slice4],\n",
        "       simple_regret_exact_2[slice4],\n",
        "       simple_regret_exact_3[slice4],\n",
        "       simple_regret_exact_4[slice4],\n",
        "       simple_regret_exact_5[slice4],\n",
        "       simple_regret_exact_6[slice4],\n",
        "       simple_regret_exact_7[slice4],\n",
        "       simple_regret_exact_8[slice4],\n",
        "       simple_regret_exact_9[slice4],\n",
        "       simple_regret_exact_10[slice4],\n",
        "       simple_regret_exact_11[slice4],\n",
        "       simple_regret_exact_12[slice4],\n",
        "       simple_regret_exact_13[slice4],\n",
        "       simple_regret_exact_14[slice4],\n",
        "       simple_regret_exact_15[slice4],\n",
        "       simple_regret_exact_16[slice4],\n",
        "       simple_regret_exact_17[slice4],\n",
        "       simple_regret_exact_18[slice4],\n",
        "       simple_regret_exact_19[slice4],\n",
        "       simple_regret_exact_20[slice4]]\n",
        "\n",
        "zero4 = [simple_regret_zero_1[slice4],\n",
        "       simple_regret_zero_2[slice4],\n",
        "       simple_regret_zero_3[slice4],\n",
        "       simple_regret_zero_4[slice4],\n",
        "       simple_regret_zero_5[slice4],\n",
        "       simple_regret_zero_6[slice4],\n",
        "       simple_regret_zero_7[slice4],\n",
        "       simple_regret_zero_8[slice4],\n",
        "       simple_regret_zero_9[slice4],\n",
        "       simple_regret_zero_10[slice4],\n",
        "       simple_regret_zero_11[slice4],\n",
        "       simple_regret_zero_12[slice4],\n",
        "       simple_regret_zero_13[slice4],\n",
        "       simple_regret_zero_14[slice4],\n",
        "       simple_regret_zero_15[slice4],\n",
        "       simple_regret_zero_16[slice4],\n",
        "       simple_regret_zero_17[slice4],\n",
        "       simple_regret_zero_18[slice4],\n",
        "       simple_regret_zero_19[slice4],\n",
        "       simple_regret_zero_20[slice4]]\n",
        "\n",
        "exact4_results = pd.DataFrame(exact4).sort_values(by=[0], ascending=False)\n",
        "zero4_results = pd.DataFrame(zero4).sort_values(by=[0], ascending=False)\n",
        "\n",
        "### Best simple regret minimization IQR - exact:\n",
        "lower_exact4 = np.asarray(exact4_results[4:5][0])[0]\n",
        "median_exact4 = np.asarray(exact4_results[9:10][0])[0]\n",
        "upper_exact4 = np.asarray(exact4_results[14:15][0])[0]\n",
        "\n",
        "lower_zero4 = np.asarray(zero4_results[4:5][0])[0]\n",
        "median_zero4 = np.asarray(zero4_results[9:10][0])[0]\n",
        "upper_zero4 = np.asarray(zero4_results[14:15][0])[0]"
      ],
      "execution_count": 82,
      "outputs": []
    },
    {
      "cell_type": "code",
      "metadata": {
        "id": "ijq-rioYQxf5"
      },
      "source": [
        "# Iteration14 :\n",
        "\n",
        "slice14 = 13\n",
        "\n",
        "exact14 = [simple_regret_exact_1[slice14],\n",
        "       simple_regret_exact_2[slice14],\n",
        "       simple_regret_exact_3[slice14],\n",
        "       simple_regret_exact_4[slice14],\n",
        "       simple_regret_exact_5[slice14],\n",
        "       simple_regret_exact_6[slice14],\n",
        "       simple_regret_exact_7[slice14],\n",
        "       simple_regret_exact_8[slice14],\n",
        "       simple_regret_exact_9[slice14],\n",
        "       simple_regret_exact_10[slice14],\n",
        "       simple_regret_exact_11[slice14],\n",
        "       simple_regret_exact_12[slice14],\n",
        "       simple_regret_exact_13[slice14],\n",
        "       simple_regret_exact_14[slice14],\n",
        "       simple_regret_exact_15[slice14],\n",
        "       simple_regret_exact_16[slice14],\n",
        "       simple_regret_exact_17[slice14],\n",
        "       simple_regret_exact_18[slice14],\n",
        "       simple_regret_exact_19[slice14],\n",
        "       simple_regret_exact_20[slice14]]\n",
        "\n",
        "zero14 = [simple_regret_zero_1[slice14],\n",
        "       simple_regret_zero_2[slice14],\n",
        "       simple_regret_zero_3[slice14],\n",
        "       simple_regret_zero_4[slice14],\n",
        "       simple_regret_zero_5[slice14],\n",
        "       simple_regret_zero_6[slice14],\n",
        "       simple_regret_zero_7[slice14],\n",
        "       simple_regret_zero_8[slice14],\n",
        "       simple_regret_zero_9[slice14],\n",
        "       simple_regret_zero_10[slice14],\n",
        "       simple_regret_zero_11[slice14],\n",
        "       simple_regret_zero_12[slice14],\n",
        "       simple_regret_zero_13[slice14],\n",
        "       simple_regret_zero_14[slice14],\n",
        "       simple_regret_zero_15[slice14],\n",
        "       simple_regret_zero_16[slice14],\n",
        "       simple_regret_zero_17[slice14],\n",
        "       simple_regret_zero_18[slice14],\n",
        "       simple_regret_zero_19[slice14],\n",
        "       simple_regret_zero_20[slice14]]\n",
        "\n",
        "exact14_results = pd.DataFrame(exact14).sort_values(by=[0], ascending=False)\n",
        "zero14_results = pd.DataFrame(zero14).sort_values(by=[0], ascending=False)\n",
        "\n",
        "### Best simple regret minimization IQR - exact:\n",
        "lower_exact14 = np.asarray(exact14_results[4:5][0])[0]\n",
        "median_exact14 = np.asarray(exact14_results[9:10][0])[0]\n",
        "upper_exact14 = np.asarray(exact14_results[14:15][0])[0]\n",
        "\n",
        "lower_zero14 = np.asarray(zero14_results[4:5][0])[0]\n",
        "median_zero14 = np.asarray(zero14_results[9:10][0])[0]\n",
        "upper_zero14 = np.asarray(zero14_results[14:15][0])[0]"
      ],
      "execution_count": 83,
      "outputs": []
    },
    {
      "cell_type": "code",
      "metadata": {
        "id": "XINlZjoTd-ZK"
      },
      "source": [
        "# Iteration5 :\n",
        "\n",
        "slice5 = 4\n",
        "\n",
        "exact5 = [simple_regret_exact_1[slice5],\n",
        "       simple_regret_exact_2[slice5],\n",
        "       simple_regret_exact_3[slice5],\n",
        "       simple_regret_exact_4[slice5],\n",
        "       simple_regret_exact_5[slice5],\n",
        "       simple_regret_exact_6[slice5],\n",
        "       simple_regret_exact_7[slice5],\n",
        "       simple_regret_exact_8[slice5],\n",
        "       simple_regret_exact_9[slice5],\n",
        "       simple_regret_exact_10[slice5],\n",
        "       simple_regret_exact_11[slice5],\n",
        "       simple_regret_exact_12[slice5],\n",
        "       simple_regret_exact_13[slice5],\n",
        "       simple_regret_exact_14[slice5],\n",
        "       simple_regret_exact_15[slice5],\n",
        "       simple_regret_exact_16[slice5],\n",
        "       simple_regret_exact_17[slice5],\n",
        "       simple_regret_exact_18[slice5],\n",
        "       simple_regret_exact_19[slice5],\n",
        "       simple_regret_exact_20[slice5]]\n",
        "\n",
        "zero5 = [simple_regret_zero_1[slice5],\n",
        "       simple_regret_zero_2[slice5],\n",
        "       simple_regret_zero_3[slice5],\n",
        "       simple_regret_zero_4[slice5],\n",
        "       simple_regret_zero_5[slice5],\n",
        "       simple_regret_zero_6[slice5],\n",
        "       simple_regret_zero_7[slice5],\n",
        "       simple_regret_zero_8[slice5],\n",
        "       simple_regret_zero_9[slice5],\n",
        "       simple_regret_zero_10[slice5],\n",
        "       simple_regret_zero_11[slice5],\n",
        "       simple_regret_zero_12[slice5],\n",
        "       simple_regret_zero_13[slice5],\n",
        "       simple_regret_zero_14[slice5],\n",
        "       simple_regret_zero_15[slice5],\n",
        "       simple_regret_zero_16[slice5],\n",
        "       simple_regret_zero_17[slice5],\n",
        "       simple_regret_zero_18[slice5],\n",
        "       simple_regret_zero_19[slice5],\n",
        "       simple_regret_zero_20[slice5]]\n",
        "\n",
        "exact5_results = pd.DataFrame(exact5).sort_values(by=[0], ascending=False)\n",
        "zero5_results = pd.DataFrame(zero5).sort_values(by=[0], ascending=False)\n",
        "\n",
        "### Best simple regret minimization IQR - exact:\n",
        "lower_exact5 = np.asarray(exact5_results[4:5][0])[0]\n",
        "median_exact5 = np.asarray(exact5_results[9:10][0])[0]\n",
        "upper_exact5 = np.asarray(exact5_results[14:15][0])[0]\n",
        "\n",
        "lower_zero5 = np.asarray(zero5_results[4:5][0])[0]\n",
        "median_zero5 = np.asarray(zero5_results[9:10][0])[0]\n",
        "upper_zero5 = np.asarray(zero5_results[14:15][0])[0]"
      ],
      "execution_count": 84,
      "outputs": []
    },
    {
      "cell_type": "code",
      "metadata": {
        "id": "4aZ7C8sOQxf6"
      },
      "source": [
        "# Iteration15 :\n",
        "\n",
        "slice15 = 14\n",
        "\n",
        "exact15 = [simple_regret_exact_1[slice15],\n",
        "       simple_regret_exact_2[slice15],\n",
        "       simple_regret_exact_3[slice15],\n",
        "       simple_regret_exact_4[slice15],\n",
        "       simple_regret_exact_5[slice15],\n",
        "       simple_regret_exact_6[slice15],\n",
        "       simple_regret_exact_7[slice15],\n",
        "       simple_regret_exact_8[slice15],\n",
        "       simple_regret_exact_9[slice15],\n",
        "       simple_regret_exact_10[slice15],\n",
        "       simple_regret_exact_11[slice15],\n",
        "       simple_regret_exact_12[slice15],\n",
        "       simple_regret_exact_13[slice15],\n",
        "       simple_regret_exact_14[slice15],\n",
        "       simple_regret_exact_15[slice15],\n",
        "       simple_regret_exact_16[slice15],\n",
        "       simple_regret_exact_17[slice15],\n",
        "       simple_regret_exact_18[slice15],\n",
        "       simple_regret_exact_19[slice15],\n",
        "       simple_regret_exact_20[slice15]]\n",
        "\n",
        "zero15 = [simple_regret_zero_1[slice15],\n",
        "       simple_regret_zero_2[slice15],\n",
        "       simple_regret_zero_3[slice15],\n",
        "       simple_regret_zero_4[slice15],\n",
        "       simple_regret_zero_5[slice15],\n",
        "       simple_regret_zero_6[slice15],\n",
        "       simple_regret_zero_7[slice15],\n",
        "       simple_regret_zero_8[slice15],\n",
        "       simple_regret_zero_9[slice15],\n",
        "       simple_regret_zero_10[slice15],\n",
        "       simple_regret_zero_11[slice15],\n",
        "       simple_regret_zero_12[slice15],\n",
        "       simple_regret_zero_13[slice15],\n",
        "       simple_regret_zero_14[slice15],\n",
        "       simple_regret_zero_15[slice15],\n",
        "       simple_regret_zero_16[slice15],\n",
        "       simple_regret_zero_17[slice15],\n",
        "       simple_regret_zero_18[slice15],\n",
        "       simple_regret_zero_19[slice15],\n",
        "       simple_regret_zero_20[slice15]]\n",
        "\n",
        "exact15_results = pd.DataFrame(exact15).sort_values(by=[0], ascending=False)\n",
        "zero15_results = pd.DataFrame(zero15).sort_values(by=[0], ascending=False)\n",
        "\n",
        "### Best simple regret minimization IQR - exact:\n",
        "lower_exact15 = np.asarray(exact15_results[4:5][0])[0]\n",
        "median_exact15 = np.asarray(exact15_results[9:10][0])[0]\n",
        "upper_exact15 = np.asarray(exact15_results[14:15][0])[0]\n",
        "\n",
        "lower_zero15 = np.asarray(zero15_results[4:5][0])[0]\n",
        "median_zero15 = np.asarray(zero15_results[9:10][0])[0]\n",
        "upper_zero15 = np.asarray(zero15_results[14:15][0])[0]"
      ],
      "execution_count": 85,
      "outputs": []
    },
    {
      "cell_type": "code",
      "metadata": {
        "id": "KJINKhv1Qxf6"
      },
      "source": [
        "# Iteration6 :\n",
        "\n",
        "slice6 = 5\n",
        "\n",
        "exact6 = [simple_regret_exact_1[slice6],\n",
        "       simple_regret_exact_2[slice6],\n",
        "       simple_regret_exact_3[slice6],\n",
        "       simple_regret_exact_4[slice6],\n",
        "       simple_regret_exact_5[slice6],\n",
        "       simple_regret_exact_6[slice6],\n",
        "       simple_regret_exact_7[slice6],\n",
        "       simple_regret_exact_8[slice6],\n",
        "       simple_regret_exact_9[slice6],\n",
        "       simple_regret_exact_10[slice6],\n",
        "       simple_regret_exact_11[slice6],\n",
        "       simple_regret_exact_12[slice6],\n",
        "       simple_regret_exact_13[slice6],\n",
        "       simple_regret_exact_14[slice6],\n",
        "       simple_regret_exact_15[slice6],\n",
        "       simple_regret_exact_16[slice6],\n",
        "       simple_regret_exact_17[slice6],\n",
        "       simple_regret_exact_18[slice6],\n",
        "       simple_regret_exact_19[slice6],\n",
        "       simple_regret_exact_20[slice6]]\n",
        "\n",
        "zero6 = [simple_regret_zero_1[slice6],\n",
        "       simple_regret_zero_2[slice6],\n",
        "       simple_regret_zero_3[slice6],\n",
        "       simple_regret_zero_4[slice6],\n",
        "       simple_regret_zero_5[slice6],\n",
        "       simple_regret_zero_6[slice6],\n",
        "       simple_regret_zero_7[slice6],\n",
        "       simple_regret_zero_8[slice6],\n",
        "       simple_regret_zero_9[slice6],\n",
        "       simple_regret_zero_10[slice6],\n",
        "       simple_regret_zero_11[slice6],\n",
        "       simple_regret_zero_12[slice6],\n",
        "       simple_regret_zero_13[slice6],\n",
        "       simple_regret_zero_14[slice6],\n",
        "       simple_regret_zero_15[slice6],\n",
        "       simple_regret_zero_16[slice6],\n",
        "       simple_regret_zero_17[slice6],\n",
        "       simple_regret_zero_18[slice6],\n",
        "       simple_regret_zero_19[slice6],\n",
        "       simple_regret_zero_20[slice6]]\n",
        "\n",
        "exact6_results = pd.DataFrame(exact6).sort_values(by=[0], ascending=False)\n",
        "zero6_results = pd.DataFrame(zero6).sort_values(by=[0], ascending=False)\n",
        "\n",
        "### Best simple regret minimization IQR - exact:\n",
        "lower_exact6 = np.asarray(exact6_results[4:5][0])[0]\n",
        "median_exact6 = np.asarray(exact6_results[9:10][0])[0]\n",
        "upper_exact6 = np.asarray(exact6_results[14:15][0])[0]\n",
        "\n",
        "lower_zero6 = np.asarray(zero6_results[4:5][0])[0]\n",
        "median_zero6 = np.asarray(zero6_results[9:10][0])[0]\n",
        "upper_zero6 = np.asarray(zero6_results[14:15][0])[0]"
      ],
      "execution_count": 86,
      "outputs": []
    },
    {
      "cell_type": "code",
      "metadata": {
        "id": "nwC5N1FsQxf7"
      },
      "source": [
        "# Iteration16 :\n",
        "\n",
        "slice16 = 15\n",
        "\n",
        "exact16 = [simple_regret_exact_1[slice16],\n",
        "       simple_regret_exact_2[slice16],\n",
        "       simple_regret_exact_3[slice16],\n",
        "       simple_regret_exact_4[slice16],\n",
        "       simple_regret_exact_5[slice16],\n",
        "       simple_regret_exact_6[slice16],\n",
        "       simple_regret_exact_7[slice16],\n",
        "       simple_regret_exact_8[slice16],\n",
        "       simple_regret_exact_9[slice16],\n",
        "       simple_regret_exact_10[slice16],\n",
        "       simple_regret_exact_11[slice16],\n",
        "       simple_regret_exact_12[slice16],\n",
        "       simple_regret_exact_13[slice16],\n",
        "       simple_regret_exact_14[slice16],\n",
        "       simple_regret_exact_15[slice16],\n",
        "       simple_regret_exact_16[slice16],\n",
        "       simple_regret_exact_17[slice16],\n",
        "       simple_regret_exact_18[slice16],\n",
        "       simple_regret_exact_19[slice16],\n",
        "       simple_regret_exact_20[slice16]]\n",
        "\n",
        "zero16 = [simple_regret_zero_1[slice16],\n",
        "       simple_regret_zero_2[slice16],\n",
        "       simple_regret_zero_3[slice16],\n",
        "       simple_regret_zero_4[slice16],\n",
        "       simple_regret_zero_5[slice16],\n",
        "       simple_regret_zero_6[slice16],\n",
        "       simple_regret_zero_7[slice16],\n",
        "       simple_regret_zero_8[slice16],\n",
        "       simple_regret_zero_9[slice16],\n",
        "       simple_regret_zero_10[slice16],\n",
        "       simple_regret_zero_11[slice16],\n",
        "       simple_regret_zero_12[slice16],\n",
        "       simple_regret_zero_13[slice16],\n",
        "       simple_regret_zero_14[slice16],\n",
        "       simple_regret_zero_15[slice16],\n",
        "       simple_regret_zero_16[slice16],\n",
        "       simple_regret_zero_17[slice16],\n",
        "       simple_regret_zero_18[slice16],\n",
        "       simple_regret_zero_19[slice16],\n",
        "       simple_regret_zero_20[slice16]]\n",
        "\n",
        "exact16_results = pd.DataFrame(exact16).sort_values(by=[0], ascending=False)\n",
        "zero16_results = pd.DataFrame(zero16).sort_values(by=[0], ascending=False)\n",
        "\n",
        "### Best simple regret minimization IQR - exact:\n",
        "lower_exact16 = np.asarray(exact16_results[4:5][0])[0]\n",
        "median_exact16 = np.asarray(exact16_results[9:10][0])[0]\n",
        "upper_exact16 = np.asarray(exact16_results[14:15][0])[0]\n",
        "\n",
        "lower_zero16 = np.asarray(zero16_results[4:5][0])[0]\n",
        "median_zero16 = np.asarray(zero16_results[9:10][0])[0]\n",
        "upper_zero16 = np.asarray(zero16_results[14:15][0])[0]"
      ],
      "execution_count": 87,
      "outputs": []
    },
    {
      "cell_type": "code",
      "metadata": {
        "id": "TrPV0AfnQxf7"
      },
      "source": [
        "# Iteration7 :\n",
        "\n",
        "slice7 = 6\n",
        "\n",
        "exact7 = [simple_regret_exact_1[slice7],\n",
        "       simple_regret_exact_2[slice7],\n",
        "       simple_regret_exact_3[slice7],\n",
        "       simple_regret_exact_4[slice7],\n",
        "       simple_regret_exact_5[slice7],\n",
        "       simple_regret_exact_6[slice7],\n",
        "       simple_regret_exact_7[slice7],\n",
        "       simple_regret_exact_8[slice7],\n",
        "       simple_regret_exact_9[slice7],\n",
        "       simple_regret_exact_10[slice7],\n",
        "       simple_regret_exact_11[slice7],\n",
        "       simple_regret_exact_12[slice7],\n",
        "       simple_regret_exact_13[slice7],\n",
        "       simple_regret_exact_14[slice7],\n",
        "       simple_regret_exact_15[slice7],\n",
        "       simple_regret_exact_16[slice7],\n",
        "       simple_regret_exact_17[slice7],\n",
        "       simple_regret_exact_18[slice7],\n",
        "       simple_regret_exact_19[slice7],\n",
        "       simple_regret_exact_20[slice7]]\n",
        "\n",
        "zero7 = [simple_regret_zero_1[slice7],\n",
        "       simple_regret_zero_2[slice7],\n",
        "       simple_regret_zero_3[slice7],\n",
        "       simple_regret_zero_4[slice7],\n",
        "       simple_regret_zero_5[slice7],\n",
        "       simple_regret_zero_6[slice7],\n",
        "       simple_regret_zero_7[slice7],\n",
        "       simple_regret_zero_8[slice7],\n",
        "       simple_regret_zero_9[slice7],\n",
        "       simple_regret_zero_10[slice7],\n",
        "       simple_regret_zero_11[slice7],\n",
        "       simple_regret_zero_12[slice7],\n",
        "       simple_regret_zero_13[slice7],\n",
        "       simple_regret_zero_14[slice7],\n",
        "       simple_regret_zero_15[slice7],\n",
        "       simple_regret_zero_16[slice7],\n",
        "       simple_regret_zero_17[slice7],\n",
        "       simple_regret_zero_18[slice7],\n",
        "       simple_regret_zero_19[slice7],\n",
        "       simple_regret_zero_20[slice7]]\n",
        "\n",
        "exact7_results = pd.DataFrame(exact7).sort_values(by=[0], ascending=False)\n",
        "zero7_results = pd.DataFrame(zero7).sort_values(by=[0], ascending=False)\n",
        "\n",
        "### Best simple regret minimization IQR - exact:\n",
        "lower_exact7 = np.asarray(exact7_results[4:5][0])[0]\n",
        "median_exact7 = np.asarray(exact7_results[9:10][0])[0]\n",
        "upper_exact7 = np.asarray(exact7_results[14:15][0])[0]\n",
        "\n",
        "lower_zero7 = np.asarray(zero7_results[4:5][0])[0]\n",
        "median_zero7 = np.asarray(zero7_results[9:10][0])[0]\n",
        "upper_zero7 = np.asarray(zero7_results[14:15][0])[0]"
      ],
      "execution_count": 88,
      "outputs": []
    },
    {
      "cell_type": "code",
      "metadata": {
        "id": "Ub_-wpK4Qxf8"
      },
      "source": [
        "# Iteration17 :\n",
        "\n",
        "slice17 = 16\n",
        "\n",
        "exact17 = [simple_regret_exact_1[slice17],\n",
        "       simple_regret_exact_2[slice17],\n",
        "       simple_regret_exact_3[slice17],\n",
        "       simple_regret_exact_4[slice17],\n",
        "       simple_regret_exact_5[slice17],\n",
        "       simple_regret_exact_6[slice17],\n",
        "       simple_regret_exact_7[slice17],\n",
        "       simple_regret_exact_8[slice17],\n",
        "       simple_regret_exact_9[slice17],\n",
        "       simple_regret_exact_10[slice17],\n",
        "       simple_regret_exact_11[slice17],\n",
        "       simple_regret_exact_12[slice17],\n",
        "       simple_regret_exact_13[slice17],\n",
        "       simple_regret_exact_14[slice17],\n",
        "       simple_regret_exact_15[slice17],\n",
        "       simple_regret_exact_16[slice17],\n",
        "       simple_regret_exact_17[slice17],\n",
        "       simple_regret_exact_18[slice17],\n",
        "       simple_regret_exact_19[slice17],\n",
        "       simple_regret_exact_20[slice17]]\n",
        "\n",
        "zero17 = [simple_regret_zero_1[slice17],\n",
        "       simple_regret_zero_2[slice17],\n",
        "       simple_regret_zero_3[slice17],\n",
        "       simple_regret_zero_4[slice17],\n",
        "       simple_regret_zero_5[slice17],\n",
        "       simple_regret_zero_6[slice17],\n",
        "       simple_regret_zero_7[slice17],\n",
        "       simple_regret_zero_8[slice17],\n",
        "       simple_regret_zero_9[slice17],\n",
        "       simple_regret_zero_10[slice17],\n",
        "       simple_regret_zero_11[slice17],\n",
        "       simple_regret_zero_12[slice17],\n",
        "       simple_regret_zero_13[slice17],\n",
        "       simple_regret_zero_14[slice17],\n",
        "       simple_regret_zero_15[slice17],\n",
        "       simple_regret_zero_16[slice17],\n",
        "       simple_regret_zero_17[slice17],\n",
        "       simple_regret_zero_18[slice17],\n",
        "       simple_regret_zero_19[slice17],\n",
        "       simple_regret_zero_20[slice17]]\n",
        "\n",
        "exact17_results = pd.DataFrame(exact17).sort_values(by=[0], ascending=False)\n",
        "zero17_results = pd.DataFrame(zero17).sort_values(by=[0], ascending=False)\n",
        "\n",
        "### Best simple regret minimization IQR - exact:\n",
        "lower_exact17 = np.asarray(exact17_results[4:5][0])[0]\n",
        "median_exact17 = np.asarray(exact17_results[9:10][0])[0]\n",
        "upper_exact17 = np.asarray(exact17_results[14:15][0])[0]\n",
        "\n",
        "lower_zero17 = np.asarray(zero17_results[4:5][0])[0]\n",
        "median_zero17 = np.asarray(zero17_results[9:10][0])[0]\n",
        "upper_zero17 = np.asarray(zero17_results[14:15][0])[0]"
      ],
      "execution_count": 89,
      "outputs": []
    },
    {
      "cell_type": "code",
      "metadata": {
        "id": "-6VLo37PQxf8"
      },
      "source": [
        "# Iteration8 :\n",
        "\n",
        "slice8 = 7\n",
        "\n",
        "exact8 = [simple_regret_exact_1[slice8],\n",
        "       simple_regret_exact_2[slice8],\n",
        "       simple_regret_exact_3[slice8],\n",
        "       simple_regret_exact_4[slice8],\n",
        "       simple_regret_exact_5[slice8],\n",
        "       simple_regret_exact_6[slice8],\n",
        "       simple_regret_exact_7[slice8],\n",
        "       simple_regret_exact_8[slice8],\n",
        "       simple_regret_exact_9[slice8],\n",
        "       simple_regret_exact_10[slice8],\n",
        "       simple_regret_exact_11[slice8],\n",
        "       simple_regret_exact_12[slice8],\n",
        "       simple_regret_exact_13[slice8],\n",
        "       simple_regret_exact_14[slice8],\n",
        "       simple_regret_exact_15[slice8],\n",
        "       simple_regret_exact_16[slice8],\n",
        "       simple_regret_exact_17[slice8],\n",
        "       simple_regret_exact_18[slice8],\n",
        "       simple_regret_exact_19[slice8],\n",
        "       simple_regret_exact_20[slice8]]\n",
        "\n",
        "zero8 = [simple_regret_zero_1[slice8],\n",
        "       simple_regret_zero_2[slice8],\n",
        "       simple_regret_zero_3[slice8],\n",
        "       simple_regret_zero_4[slice8],\n",
        "       simple_regret_zero_5[slice8],\n",
        "       simple_regret_zero_6[slice8],\n",
        "       simple_regret_zero_7[slice8],\n",
        "       simple_regret_zero_8[slice8],\n",
        "       simple_regret_zero_9[slice8],\n",
        "       simple_regret_zero_10[slice8],\n",
        "       simple_regret_zero_11[slice8],\n",
        "       simple_regret_zero_12[slice8],\n",
        "       simple_regret_zero_13[slice8],\n",
        "       simple_regret_zero_14[slice8],\n",
        "       simple_regret_zero_15[slice8],\n",
        "       simple_regret_zero_16[slice8],\n",
        "       simple_regret_zero_17[slice8],\n",
        "       simple_regret_zero_18[slice8],\n",
        "       simple_regret_zero_19[slice8],\n",
        "       simple_regret_zero_20[slice8]]\n",
        "\n",
        "exact8_results = pd.DataFrame(exact8).sort_values(by=[0], ascending=False)\n",
        "zero8_results = pd.DataFrame(zero8).sort_values(by=[0], ascending=False)\n",
        "\n",
        "### Best simple regret minimization IQR - exact:\n",
        "lower_exact8 = np.asarray(exact8_results[4:5][0])[0]\n",
        "median_exact8 = np.asarray(exact8_results[9:10][0])[0]\n",
        "upper_exact8 = np.asarray(exact8_results[14:15][0])[0]\n",
        "\n",
        "lower_zero8 = np.asarray(zero8_results[4:5][0])[0]\n",
        "median_zero8 = np.asarray(zero8_results[9:10][0])[0]\n",
        "upper_zero8 = np.asarray(zero8_results[14:15][0])[0]"
      ],
      "execution_count": 90,
      "outputs": []
    },
    {
      "cell_type": "code",
      "metadata": {
        "id": "2Dp-9CC2Qxf9"
      },
      "source": [
        "# Iteration18 :\n",
        "\n",
        "slice18 = 17\n",
        "\n",
        "exact18 = [simple_regret_exact_1[slice18],\n",
        "       simple_regret_exact_2[slice18],\n",
        "       simple_regret_exact_3[slice18],\n",
        "       simple_regret_exact_4[slice18],\n",
        "       simple_regret_exact_5[slice18],\n",
        "       simple_regret_exact_6[slice18],\n",
        "       simple_regret_exact_7[slice18],\n",
        "       simple_regret_exact_8[slice18],\n",
        "       simple_regret_exact_9[slice18],\n",
        "       simple_regret_exact_10[slice18],\n",
        "       simple_regret_exact_11[slice18],\n",
        "       simple_regret_exact_12[slice18],\n",
        "       simple_regret_exact_13[slice18],\n",
        "       simple_regret_exact_14[slice18],\n",
        "       simple_regret_exact_15[slice18],\n",
        "       simple_regret_exact_16[slice18],\n",
        "       simple_regret_exact_17[slice18],\n",
        "       simple_regret_exact_18[slice18],\n",
        "       simple_regret_exact_19[slice18],\n",
        "       simple_regret_exact_20[slice18]]\n",
        "\n",
        "zero18 = [simple_regret_zero_1[slice18],\n",
        "       simple_regret_zero_2[slice18],\n",
        "       simple_regret_zero_3[slice18],\n",
        "       simple_regret_zero_4[slice18],\n",
        "       simple_regret_zero_5[slice18],\n",
        "       simple_regret_zero_6[slice18],\n",
        "       simple_regret_zero_7[slice18],\n",
        "       simple_regret_zero_8[slice18],\n",
        "       simple_regret_zero_9[slice18],\n",
        "       simple_regret_zero_10[slice18],\n",
        "       simple_regret_zero_11[slice18],\n",
        "       simple_regret_zero_12[slice18],\n",
        "       simple_regret_zero_13[slice18],\n",
        "       simple_regret_zero_14[slice18],\n",
        "       simple_regret_zero_15[slice18],\n",
        "       simple_regret_zero_16[slice18],\n",
        "       simple_regret_zero_17[slice18],\n",
        "       simple_regret_zero_18[slice18],\n",
        "       simple_regret_zero_19[slice18],\n",
        "       simple_regret_zero_20[slice18]]\n",
        "\n",
        "exact18_results = pd.DataFrame(exact18).sort_values(by=[0], ascending=False)\n",
        "zero18_results = pd.DataFrame(zero18).sort_values(by=[0], ascending=False)\n",
        "\n",
        "### Best simple regret minimization IQR - exact:\n",
        "lower_exact18 = np.asarray(exact18_results[4:5][0])[0]\n",
        "median_exact18 = np.asarray(exact18_results[9:10][0])[0]\n",
        "upper_exact18 = np.asarray(exact18_results[14:15][0])[0]\n",
        "\n",
        "lower_zero18 = np.asarray(zero18_results[4:5][0])[0]\n",
        "median_zero18 = np.asarray(zero18_results[9:10][0])[0]\n",
        "upper_zero18 = np.asarray(zero18_results[14:15][0])[0]"
      ],
      "execution_count": 91,
      "outputs": []
    },
    {
      "cell_type": "code",
      "metadata": {
        "id": "SqiaOpB7Qxf9"
      },
      "source": [
        "# Iteration9 :\n",
        "\n",
        "slice9 = 8\n",
        "\n",
        "exact9 = [simple_regret_exact_1[slice9],\n",
        "       simple_regret_exact_2[slice9],\n",
        "       simple_regret_exact_3[slice9],\n",
        "       simple_regret_exact_4[slice9],\n",
        "       simple_regret_exact_5[slice9],\n",
        "       simple_regret_exact_6[slice9],\n",
        "       simple_regret_exact_7[slice9],\n",
        "       simple_regret_exact_8[slice9],\n",
        "       simple_regret_exact_9[slice9],\n",
        "       simple_regret_exact_10[slice9],\n",
        "       simple_regret_exact_11[slice9],\n",
        "       simple_regret_exact_12[slice9],\n",
        "       simple_regret_exact_13[slice9],\n",
        "       simple_regret_exact_14[slice9],\n",
        "       simple_regret_exact_15[slice9],\n",
        "       simple_regret_exact_16[slice9],\n",
        "       simple_regret_exact_17[slice9],\n",
        "       simple_regret_exact_18[slice9],\n",
        "       simple_regret_exact_19[slice9],\n",
        "       simple_regret_exact_20[slice9]]\n",
        "\n",
        "zero9 = [simple_regret_zero_1[slice9],\n",
        "       simple_regret_zero_2[slice9],\n",
        "       simple_regret_zero_3[slice9],\n",
        "       simple_regret_zero_4[slice9],\n",
        "       simple_regret_zero_5[slice9],\n",
        "       simple_regret_zero_6[slice9],\n",
        "       simple_regret_zero_7[slice9],\n",
        "       simple_regret_zero_8[slice9],\n",
        "       simple_regret_zero_9[slice9],\n",
        "       simple_regret_zero_10[slice9],\n",
        "       simple_regret_zero_11[slice9],\n",
        "       simple_regret_zero_12[slice9],\n",
        "       simple_regret_zero_13[slice9],\n",
        "       simple_regret_zero_14[slice9],\n",
        "       simple_regret_zero_15[slice9],\n",
        "       simple_regret_zero_16[slice9],\n",
        "       simple_regret_zero_17[slice9],\n",
        "       simple_regret_zero_18[slice9],\n",
        "       simple_regret_zero_19[slice9],\n",
        "       simple_regret_zero_20[slice9]]\n",
        "\n",
        "exact9_results = pd.DataFrame(exact9).sort_values(by=[0], ascending=False)\n",
        "zero9_results = pd.DataFrame(zero9).sort_values(by=[0], ascending=False)\n",
        "\n",
        "### Best simple regret minimization IQR - exact:\n",
        "lower_exact9 = np.asarray(exact9_results[4:5][0])[0]\n",
        "median_exact9 = np.asarray(exact9_results[9:10][0])[0]\n",
        "upper_exact9 = np.asarray(exact9_results[14:15][0])[0]\n",
        "\n",
        "lower_zero9 = np.asarray(zero9_results[4:5][0])[0]\n",
        "median_zero9 = np.asarray(zero9_results[9:10][0])[0]\n",
        "upper_zero9 = np.asarray(zero9_results[14:15][0])[0]"
      ],
      "execution_count": 92,
      "outputs": []
    },
    {
      "cell_type": "code",
      "metadata": {
        "id": "OQkCCOsPQxf9"
      },
      "source": [
        "# Iteration19 :\n",
        "\n",
        "slice19 = 18\n",
        "\n",
        "exact19 = [simple_regret_exact_1[slice19],\n",
        "       simple_regret_exact_2[slice19],\n",
        "       simple_regret_exact_3[slice19],\n",
        "       simple_regret_exact_4[slice19],\n",
        "       simple_regret_exact_5[slice19],\n",
        "       simple_regret_exact_6[slice19],\n",
        "       simple_regret_exact_7[slice19],\n",
        "       simple_regret_exact_8[slice19],\n",
        "       simple_regret_exact_9[slice19],\n",
        "       simple_regret_exact_10[slice19],\n",
        "       simple_regret_exact_11[slice19],\n",
        "       simple_regret_exact_12[slice19],\n",
        "       simple_regret_exact_13[slice19],\n",
        "       simple_regret_exact_14[slice19],\n",
        "       simple_regret_exact_15[slice19],\n",
        "       simple_regret_exact_16[slice19],\n",
        "       simple_regret_exact_17[slice19],\n",
        "       simple_regret_exact_18[slice19],\n",
        "       simple_regret_exact_19[slice19],\n",
        "       simple_regret_exact_20[slice19]]\n",
        "\n",
        "zero19 = [simple_regret_zero_1[slice19],\n",
        "       simple_regret_zero_2[slice19],\n",
        "       simple_regret_zero_3[slice19],\n",
        "       simple_regret_zero_4[slice19],\n",
        "       simple_regret_zero_5[slice19],\n",
        "       simple_regret_zero_6[slice19],\n",
        "       simple_regret_zero_7[slice19],\n",
        "       simple_regret_zero_8[slice19],\n",
        "       simple_regret_zero_9[slice19],\n",
        "       simple_regret_zero_10[slice19],\n",
        "       simple_regret_zero_11[slice19],\n",
        "       simple_regret_zero_12[slice19],\n",
        "       simple_regret_zero_13[slice19],\n",
        "       simple_regret_zero_14[slice19],\n",
        "       simple_regret_zero_15[slice19],\n",
        "       simple_regret_zero_16[slice19],\n",
        "       simple_regret_zero_17[slice19],\n",
        "       simple_regret_zero_18[slice19],\n",
        "       simple_regret_zero_19[slice19],\n",
        "       simple_regret_zero_20[slice19]]\n",
        "\n",
        "exact19_results = pd.DataFrame(exact19).sort_values(by=[0], ascending=False)\n",
        "zero19_results = pd.DataFrame(zero19).sort_values(by=[0], ascending=False)\n",
        "\n",
        "### Best simple regret minimization IQR - exact:\n",
        "lower_exact19 = np.asarray(exact19_results[4:5][0])[0]\n",
        "median_exact19 = np.asarray(exact19_results[9:10][0])[0]\n",
        "upper_exact19 = np.asarray(exact19_results[14:15][0])[0]\n",
        "\n",
        "lower_zero19 = np.asarray(zero19_results[4:5][0])[0]\n",
        "median_zero19 = np.asarray(zero19_results[9:10][0])[0]\n",
        "upper_zero19 = np.asarray(zero19_results[14:15][0])[0]"
      ],
      "execution_count": 93,
      "outputs": []
    },
    {
      "cell_type": "code",
      "metadata": {
        "id": "h4vtWahcQxf-"
      },
      "source": [
        "# Iteration10 :\n",
        "\n",
        "slice10 = 9\n",
        "\n",
        "exact10 = [simple_regret_exact_1[slice10],\n",
        "       simple_regret_exact_2[slice10],\n",
        "       simple_regret_exact_3[slice10],\n",
        "       simple_regret_exact_4[slice10],\n",
        "       simple_regret_exact_5[slice10],\n",
        "       simple_regret_exact_6[slice10],\n",
        "       simple_regret_exact_7[slice10],\n",
        "       simple_regret_exact_8[slice10],\n",
        "       simple_regret_exact_9[slice10],\n",
        "       simple_regret_exact_10[slice10],\n",
        "       simple_regret_exact_11[slice10],\n",
        "       simple_regret_exact_12[slice10],\n",
        "       simple_regret_exact_13[slice10],\n",
        "       simple_regret_exact_14[slice10],\n",
        "       simple_regret_exact_15[slice10],\n",
        "       simple_regret_exact_16[slice10],\n",
        "       simple_regret_exact_17[slice10],\n",
        "       simple_regret_exact_18[slice10],\n",
        "       simple_regret_exact_19[slice10],\n",
        "       simple_regret_exact_20[slice10]]\n",
        "\n",
        "zero10 = [simple_regret_zero_1[slice10],\n",
        "       simple_regret_zero_2[slice10],\n",
        "       simple_regret_zero_3[slice10],\n",
        "       simple_regret_zero_4[slice10],\n",
        "       simple_regret_zero_5[slice10],\n",
        "       simple_regret_zero_6[slice10],\n",
        "       simple_regret_zero_7[slice10],\n",
        "       simple_regret_zero_8[slice10],\n",
        "       simple_regret_zero_9[slice10],\n",
        "       simple_regret_zero_10[slice10],\n",
        "       simple_regret_zero_11[slice10],\n",
        "       simple_regret_zero_12[slice10],\n",
        "       simple_regret_zero_13[slice10],\n",
        "       simple_regret_zero_14[slice10],\n",
        "       simple_regret_zero_15[slice10],\n",
        "       simple_regret_zero_16[slice10],\n",
        "       simple_regret_zero_17[slice10],\n",
        "       simple_regret_zero_18[slice10],\n",
        "       simple_regret_zero_19[slice10],\n",
        "       simple_regret_zero_20[slice10]]\n",
        "\n",
        "exact10_results = pd.DataFrame(exact10).sort_values(by=[0], ascending=False)\n",
        "zero10_results = pd.DataFrame(zero10).sort_values(by=[0], ascending=False)\n",
        "\n",
        "### Best simple regret minimization IQR - exact:\n",
        "lower_exact10 = np.asarray(exact10_results[4:5][0])[0]\n",
        "median_exact10 = np.asarray(exact10_results[9:10][0])[0]\n",
        "upper_exact10 = np.asarray(exact10_results[14:15][0])[0]\n",
        "\n",
        "lower_zero10 = np.asarray(zero10_results[4:5][0])[0]\n",
        "median_zero10 = np.asarray(zero10_results[9:10][0])[0]\n",
        "upper_zero10 = np.asarray(zero10_results[14:15][0])[0]"
      ],
      "execution_count": 94,
      "outputs": []
    },
    {
      "cell_type": "code",
      "metadata": {
        "id": "Rsf240pWQxf-"
      },
      "source": [
        "# Iteration20 :\n",
        "\n",
        "slice20 = 19\n",
        "\n",
        "exact20 = [simple_regret_exact_1[slice20],\n",
        "       simple_regret_exact_2[slice20],\n",
        "       simple_regret_exact_3[slice20],\n",
        "       simple_regret_exact_4[slice20],\n",
        "       simple_regret_exact_5[slice20],\n",
        "       simple_regret_exact_6[slice20],\n",
        "       simple_regret_exact_7[slice20],\n",
        "       simple_regret_exact_8[slice20],\n",
        "       simple_regret_exact_9[slice20],\n",
        "       simple_regret_exact_10[slice20],\n",
        "       simple_regret_exact_11[slice20],\n",
        "       simple_regret_exact_12[slice20],\n",
        "       simple_regret_exact_13[slice20],\n",
        "       simple_regret_exact_14[slice20],\n",
        "       simple_regret_exact_15[slice20],\n",
        "       simple_regret_exact_16[slice20],\n",
        "       simple_regret_exact_17[slice20],\n",
        "       simple_regret_exact_18[slice20],\n",
        "       simple_regret_exact_19[slice20],\n",
        "       simple_regret_exact_20[slice20]]\n",
        "\n",
        "zero20 = [simple_regret_zero_1[slice20],\n",
        "       simple_regret_zero_2[slice20],\n",
        "       simple_regret_zero_3[slice20],\n",
        "       simple_regret_zero_4[slice20],\n",
        "       simple_regret_zero_5[slice20],\n",
        "       simple_regret_zero_6[slice20],\n",
        "       simple_regret_zero_7[slice20],\n",
        "       simple_regret_zero_8[slice20],\n",
        "       simple_regret_zero_9[slice20],\n",
        "       simple_regret_zero_10[slice20],\n",
        "       simple_regret_zero_11[slice20],\n",
        "       simple_regret_zero_12[slice20],\n",
        "       simple_regret_zero_13[slice20],\n",
        "       simple_regret_zero_14[slice20],\n",
        "       simple_regret_zero_15[slice20],\n",
        "       simple_regret_zero_16[slice20],\n",
        "       simple_regret_zero_17[slice20],\n",
        "       simple_regret_zero_18[slice20],\n",
        "       simple_regret_zero_19[slice20],\n",
        "       simple_regret_zero_20[slice20]]\n",
        "\n",
        "exact20_results = pd.DataFrame(exact20).sort_values(by=[0], ascending=False)\n",
        "zero20_results = pd.DataFrame(zero20).sort_values(by=[0], ascending=False)\n",
        "\n",
        "### Best simple regret minimization IQR - exact:\n",
        "lower_exact20 = np.asarray(exact20_results[4:5][0])[0]\n",
        "median_exact20 = np.asarray(exact20_results[9:10][0])[0]\n",
        "upper_exact20 = np.asarray(exact20_results[14:15][0])[0]\n",
        "\n",
        "lower_zero20 = np.asarray(zero20_results[4:5][0])[0]\n",
        "median_zero20 = np.asarray(zero20_results[9:10][0])[0]\n",
        "upper_zero20 = np.asarray(zero20_results[14:15][0])[0]"
      ],
      "execution_count": 95,
      "outputs": []
    },
    {
      "cell_type": "code",
      "metadata": {
        "id": "gn36RejbQxf_"
      },
      "source": [
        "### Summarize arrays: 'Loser'\n",
        "\n",
        "lower_exact = [lower_exact1,\n",
        "            lower_exact2,\n",
        "            lower_exact3,\n",
        "            lower_exact4,\n",
        "            lower_exact5,\n",
        "            lower_exact6,\n",
        "            lower_exact7,\n",
        "            lower_exact8,\n",
        "            lower_exact9,\n",
        "            lower_exact10,\n",
        "            lower_exact11,\n",
        "            lower_exact12,\n",
        "            lower_exact13,\n",
        "            lower_exact14,\n",
        "            lower_exact15,\n",
        "            lower_exact16,\n",
        "            lower_exact17,\n",
        "            lower_exact18,\n",
        "            lower_exact19,\n",
        "            lower_exact20,\n",
        "            lower_exact21]\n",
        "\n",
        "median_exact = [median_exact1,\n",
        "            median_exact2,\n",
        "            median_exact3,\n",
        "            median_exact4,\n",
        "            median_exact5,\n",
        "            median_exact6,\n",
        "            median_exact7,\n",
        "            median_exact8,\n",
        "            median_exact9,\n",
        "            median_exact10,\n",
        "            median_exact11,\n",
        "            median_exact12,\n",
        "            median_exact13,\n",
        "            median_exact14,\n",
        "            median_exact15,\n",
        "            median_exact16,\n",
        "            median_exact17,\n",
        "            median_exact18,\n",
        "            median_exact19,\n",
        "            median_exact20,\n",
        "            median_exact21]\n",
        "\n",
        "upper_exact = [upper_exact1,\n",
        "            upper_exact2,\n",
        "            upper_exact3,\n",
        "            upper_exact4,\n",
        "            upper_exact5,\n",
        "            upper_exact6,\n",
        "            upper_exact7,\n",
        "            upper_exact8,\n",
        "            upper_exact9,\n",
        "            upper_exact10,\n",
        "            upper_exact11,\n",
        "            upper_exact12,\n",
        "            upper_exact13,\n",
        "            upper_exact14,\n",
        "            upper_exact15,\n",
        "            upper_exact16,\n",
        "            upper_exact17,\n",
        "            upper_exact18,\n",
        "            upper_exact19,\n",
        "            upper_exact20,\n",
        "            upper_exact21]"
      ],
      "execution_count": 96,
      "outputs": []
    },
    {
      "cell_type": "code",
      "metadata": {
        "id": "wxtGTOYfQxf_"
      },
      "source": [
        "### Summarize arrays: 'zero'\n",
        "\n",
        "lower_zero = [lower_zero1,\n",
        "            lower_zero2,\n",
        "            lower_zero3,\n",
        "            lower_zero4,\n",
        "            lower_zero5,\n",
        "            lower_zero6,\n",
        "            lower_zero7,\n",
        "            lower_zero8,\n",
        "            lower_zero9,\n",
        "            lower_zero10,\n",
        "            lower_zero11,\n",
        "            lower_zero12,\n",
        "            lower_zero13,\n",
        "            lower_zero14,\n",
        "            lower_zero15,\n",
        "            lower_zero16,\n",
        "            lower_zero17,\n",
        "            lower_zero18,\n",
        "            lower_zero19,\n",
        "            lower_zero20,\n",
        "            lower_zero21]\n",
        "\n",
        "median_zero = [median_zero1,\n",
        "            median_zero2,\n",
        "            median_zero3,\n",
        "            median_zero4,\n",
        "            median_zero5,\n",
        "            median_zero6,\n",
        "            median_zero7,\n",
        "            median_zero8,\n",
        "            median_zero9,\n",
        "            median_zero10,\n",
        "            median_zero11,\n",
        "            median_zero12,\n",
        "            median_zero13,\n",
        "            median_zero14,\n",
        "            median_zero15,\n",
        "            median_zero16,\n",
        "            median_zero17,\n",
        "            median_zero18,\n",
        "            median_zero19,\n",
        "            median_zero20,\n",
        "            median_zero21]\n",
        "\n",
        "upper_zero = [upper_zero1,\n",
        "            upper_zero2,\n",
        "            upper_zero3,\n",
        "            upper_zero4,\n",
        "            upper_zero5,\n",
        "            upper_zero6,\n",
        "            upper_zero7,\n",
        "            upper_zero8,\n",
        "            upper_zero9,\n",
        "            upper_zero10,\n",
        "            upper_zero11,\n",
        "            upper_zero12,\n",
        "            upper_zero13,\n",
        "            upper_zero14,\n",
        "            upper_zero15,\n",
        "            upper_zero16,\n",
        "            upper_zero17,\n",
        "            upper_zero18,\n",
        "            upper_zero19,\n",
        "            upper_zero20,\n",
        "            upper_zero21]"
      ],
      "execution_count": 97,
      "outputs": []
    },
    {
      "cell_type": "code",
      "metadata": {
        "colab": {
          "base_uri": "https://localhost:8080/",
          "height": 299
        },
        "id": "2MONq-BXQxgA",
        "outputId": "2c49155c-b370-4f78-93b3-421007480abc"
      },
      "source": [
        "### Visualise!\n",
        "\n",
        "title = func\n",
        "plt.figure()\n",
        "\n",
        "plt.plot(median_exact, color = 'Green')\n",
        "plt.plot(median_zero, color = 'Red')\n",
        "\n",
        "xstar = np.arange(0, iters+1, step=1)\n",
        "plt.fill_between(xstar, lower_exact, upper_exact, facecolor = 'Green', alpha=0.4, label='GP EI: ExactGrad Regret IQR')\n",
        "plt.fill_between(xstar, lower_zero, upper_zero, facecolor = 'Red', alpha=0.4, label='GP EI: ZeroGrad Regret IQR')\n",
        "\n",
        "plt.title(title, weight = 'bold')\n",
        "plt.xlabel('(Post-initialization) iteration $\\it{k}$', weight = 'bold')\n",
        "plt.ylabel('log(Regret)', weight = 'bold') \n",
        "plt.legend(loc=1) # add plot legend\n",
        "\n",
        "### Make the x-ticks integers, not floats:\n",
        "count = len(xstar)\n",
        "plt.xticks(np.arange(count), np.arange(0, count))\n",
        "plt.show() #visualize!"
      ],
      "execution_count": 98,
      "outputs": [
        {
          "output_type": "display_data",
          "data": {
            "image/png": "[encoded data removed]",
            "text/plain": [
              "<Figure size 432x288 with 1 Axes>"
            ]
          },
          "metadata": {
            "tags": [],
            "needs_background": "light"
          }
        }
      ]
    },
    {
      "cell_type": "code",
      "metadata": {
        "id": "l5dkR2Id2oiu",
        "colab": {
          "base_uri": "https://localhost:8080/"
        },
        "outputId": "d7e397e7-3cad-4316-a1c7-0cbe42875263"
      },
      "source": [
        "time_exact, time_zero\n"
      ],
      "execution_count": 99,
      "outputs": [
        {
          "output_type": "execute_result",
          "data": {
            "text/plain": [
              "(3281.113990545273, 180.1151638031006)"
            ]
          },
          "metadata": {
            "tags": []
          },
          "execution_count": 99
        }
      ]
    },
    {
      "cell_type": "code",
      "metadata": {
        "id": "Q2w1ol7HbrRt",
        "colab": {
          "base_uri": "https://localhost:8080/"
        },
        "outputId": "18c0d3a3-ed44-4fa5-d945-fea541b7e182"
      },
      "source": [
        "np.round(zero_1.acqfunc(x_test)[0],2).reshape(50,10)\n"
      ],
      "execution_count": 100,
      "outputs": [
        {
          "output_type": "execute_result",
          "data": {
            "text/plain": [
              "array([[-1.83, -1.68, -1.52, -1.35, -1.18, -1.02, -0.85, -0.69, -0.54,\n",
              "        -0.41],\n",
              "       [-0.3 , -0.2 , -0.13, -0.08, -0.04, -0.02, -0.01, -0.  , -0.  ,\n",
              "        -0.  ],\n",
              "       [-0.  , -0.  , -0.  , -0.  , -0.  , -0.  , -0.  , -0.  , -0.  ,\n",
              "        -0.  ],\n",
              "       [-0.  , -0.  , -0.  , -0.  , -0.  , -0.  , -0.  , -0.  , -0.  ,\n",
              "        -0.  ],\n",
              "       [-0.  , -0.  , -0.  , -0.  , -0.  , -0.  , -0.  , -0.  , -0.  ,\n",
              "        -0.  ],\n",
              "       [-0.  , -0.  , -0.  , -0.  , -0.  , -0.  , -0.  , -0.  , -0.  ,\n",
              "        -0.  ],\n",
              "       [-0.  , -0.  , -0.  , -0.  , -0.  , -0.  , -0.  , -0.  , -0.  ,\n",
              "        -0.  ],\n",
              "       [-0.  , -0.  , -0.  , -0.  , -0.  , -0.  , -0.  , -0.  , -0.  ,\n",
              "        -0.  ],\n",
              "       [-0.  , -0.  , -0.  , -0.  , -0.  , -0.  , -0.  , -0.  , -0.  ,\n",
              "        -0.  ],\n",
              "       [-0.  , -0.  , -0.  , -0.  , -0.  , -0.  , -0.  , -0.  , -0.  ,\n",
              "        -0.  ],\n",
              "       [-0.  , -0.  , -0.  , -0.  , -0.  , -0.  , -0.  , -0.01, -0.02,\n",
              "        -0.02],\n",
              "       [-0.04, -0.05, -0.07, -0.1 , -0.12, -0.15, -0.18, -0.21, -0.24,\n",
              "        -0.27],\n",
              "       [-0.3 , -0.33, -0.35, -0.38, -0.4 , -0.42, -0.44, -0.45, -0.47,\n",
              "        -0.49],\n",
              "       [-0.5 , -0.51, -0.53, -0.54, -0.56, -0.57, -0.59, -0.61, -0.63,\n",
              "        -0.65],\n",
              "       [-0.67, -0.69, -0.72, -0.75, -0.78, -0.81, -0.84, -0.88, -0.92,\n",
              "        -0.96],\n",
              "       [-1.  , -1.05, -1.1 , -1.15, -1.2 , -1.25, -1.31, -1.36, -1.42,\n",
              "        -1.48],\n",
              "       [-1.54, -1.6 , -1.65, -1.71, -1.77, -1.83, -1.88, -1.94, -1.99,\n",
              "        -2.04],\n",
              "       [-2.09, -2.14, -2.18, -2.22, -2.26, -2.3 , -2.33, -2.35, -2.38,\n",
              "        -2.39],\n",
              "       [-2.41, -2.42, -2.42, -2.42, -2.42, -2.41, -2.39, -2.37, -2.35,\n",
              "        -2.32],\n",
              "       [-2.28, -2.24, -2.2 , -2.15, -2.09, -2.03, -1.97, -1.9 , -1.83,\n",
              "        -1.75],\n",
              "       [-1.67, -1.58, -1.5 , -1.41, -1.32, -1.23, -1.14, -1.05, -0.96,\n",
              "        -0.87],\n",
              "       [-0.78, -0.7 , -0.62, -0.55, -0.48, -0.41, -0.35, -0.3 , -0.25,\n",
              "        -0.21],\n",
              "       [-0.17, -0.14, -0.11, -0.09, -0.07, -0.05, -0.04, -0.03, -0.02,\n",
              "        -0.02],\n",
              "       [-0.01, -0.01, -0.01, -0.01, -0.  , -0.  , -0.  , -0.  , -0.  ,\n",
              "        -0.  ],\n",
              "       [-0.  , -0.  , -0.  , -0.  , -0.  , -0.  , -0.  , -0.  , -0.  ,\n",
              "        -0.  ],\n",
              "       [-0.  , -0.  , -0.  , -0.  , -0.  , -0.  , -0.  , -0.  , -0.  ,\n",
              "        -0.  ],\n",
              "       [-0.  , -0.  , -0.  , -0.  , -0.  , -0.  , -0.  , -0.  , -0.  ,\n",
              "        -0.  ],\n",
              "       [-0.  , -0.  , -0.  , -0.  , -0.  , -0.  , -0.  , -0.  , -0.  ,\n",
              "        -0.  ],\n",
              "       [-0.  , -0.  , -0.  , -0.01, -0.01, -0.01, -0.01, -0.01, -0.01,\n",
              "        -0.  ],\n",
              "       [-0.  , -0.  , -0.  , -0.  , -0.  , -0.  , -0.  , -0.  , -0.  ,\n",
              "        -0.  ],\n",
              "       [-0.  , -0.  , -0.  , -0.  , -0.  , -0.  , -0.  , -0.  , -0.  ,\n",
              "        -0.  ],\n",
              "       [-0.  , -0.  , -0.  , -0.  , -0.  , -0.  , -0.  , -0.  , -0.  ,\n",
              "        -0.  ],\n",
              "       [-0.  , -0.  , -0.  , -0.  , -0.  , -0.  , -0.  , -0.  , -0.  ,\n",
              "        -0.  ],\n",
              "       [-0.  , -0.  , -0.  , -0.  , -0.  , -0.  , -0.  , -0.  , -0.  ,\n",
              "        -0.  ],\n",
              "       [-0.  , -0.  , -0.  , -0.  , -0.  , -0.  , -0.  , -0.  , -0.  ,\n",
              "        -0.  ],\n",
              "       [-0.  , -0.  , -0.  , -0.  , -0.  , -0.  , -0.  , -0.  , -0.  ,\n",
              "        -0.  ],\n",
              "       [-0.  , -0.  , -0.  , -0.  , -0.  , -0.  , -0.  , -0.  , -0.  ,\n",
              "        -0.  ],\n",
              "       [-0.  , -0.  , -0.  , -0.  , -0.  , -0.  , -0.  , -0.  , -0.  ,\n",
              "        -0.  ],\n",
              "       [-0.  , -0.  , -0.  , -0.  , -0.  , -0.  , -0.  , -0.  , -0.  ,\n",
              "        -0.01],\n",
              "       [-0.02, -0.04, -0.06, -0.1 , -0.14, -0.2 , -0.26, -0.33, -0.4 ,\n",
              "        -0.46],\n",
              "       [-0.53, -0.59, -0.64, -0.68, -0.71, -0.73, -0.73, -0.73, -0.71,\n",
              "        -0.68],\n",
              "       [-0.64, -0.59, -0.53, -0.47, -0.41, -0.34, -0.28, -0.22, -0.16,\n",
              "        -0.12],\n",
              "       [-0.08, -0.05, -0.03, -0.02, -0.01, -0.  , -0.  , -0.  , -0.  ,\n",
              "        -0.  ],\n",
              "       [-0.  , -0.  , -0.  , -0.  , -0.  , -0.  , -0.  , -0.  , -0.  ,\n",
              "        -0.  ],\n",
              "       [-0.  , -0.  , -0.  , -0.  , -0.  , -0.  , -0.  , -0.  , -0.  ,\n",
              "        -0.  ],\n",
              "       [-0.  , -0.  , -0.  , -0.  , -0.  , -0.  , -0.  , -0.  , -0.  ,\n",
              "        -0.  ],\n",
              "       [-0.  , -0.  , -0.  , -0.  , -0.  , -0.  , -0.  , -0.  , -0.  ,\n",
              "        -0.  ],\n",
              "       [-0.  , -0.  , -0.  , -0.  , -0.  , -0.  , -0.  , -0.  , -0.  ,\n",
              "        -0.  ],\n",
              "       [-0.  , -0.  , -0.  , -0.  , -0.  , -0.  , -0.  , -0.  , -0.  ,\n",
              "        -0.  ],\n",
              "       [-0.  , -0.  , -0.  , -0.  , -0.  , -0.  , -0.  , -0.  , -0.  ,\n",
              "        -0.  ]])"
            ]
          },
          "metadata": {
            "tags": []
          },
          "execution_count": 100
        }
      ]
    },
    {
      "cell_type": "code",
      "metadata": {
        "colab": {
          "base_uri": "https://localhost:8080/"
        },
        "id": "V30USlVC-nTM",
        "outputId": "3ef7e801-e0a4-418a-a9d2-28ae965cf0f3"
      },
      "source": [
        "np.round(exact_1.acqfunc(x_test)[0],2).reshape(50,10)\n"
      ],
      "execution_count": 101,
      "outputs": [
        {
          "output_type": "execute_result",
          "data": {
            "text/plain": [
              "array([[-1.13, -1.01, -0.89, -0.77, -0.65, -0.54, -0.43, -0.33, -0.25,\n",
              "        -0.18],\n",
              "       [-0.12, -0.07, -0.04, -0.02, -0.01, -0.01, -0.  , -0.  , -0.  ,\n",
              "        -0.  ],\n",
              "       [-0.  , -0.  , -0.  , -0.  , -0.  , -0.  , -0.  , -0.  , -0.  ,\n",
              "        -0.  ],\n",
              "       [-0.  , -0.  , -0.  , -0.  , -0.  , -0.  , -0.  , -0.  , -0.  ,\n",
              "        -0.  ],\n",
              "       [-0.  , -0.  , -0.  , -0.  , -0.  , -0.  , -0.  , -0.  , -0.  ,\n",
              "        -0.  ],\n",
              "       [-0.  , -0.  , -0.  , -0.  , -0.  , -0.  , -0.  , -0.  , -0.  ,\n",
              "        -0.  ],\n",
              "       [-0.  , -0.  , -0.  , -0.  , -0.  , -0.  , -0.  , -0.  , -0.  ,\n",
              "        -0.  ],\n",
              "       [-0.  , -0.  , -0.  , -0.  , -0.  , -0.  , -0.  , -0.  , -0.  ,\n",
              "        -0.  ],\n",
              "       [-0.  , -0.  , -0.  , -0.  , -0.  , -0.  , -0.  , -0.  , -0.  ,\n",
              "        -0.  ],\n",
              "       [-0.  , -0.  , -0.  , -0.  , -0.  , -0.  , -0.  , -0.  , -0.  ,\n",
              "        -0.  ],\n",
              "       [-0.  , -0.  , -0.  , -0.  , -0.  , -0.  , -0.  , -0.  , -0.  ,\n",
              "        -0.01],\n",
              "       [-0.01, -0.02, -0.02, -0.03, -0.04, -0.06, -0.07, -0.08, -0.1 ,\n",
              "        -0.11],\n",
              "       [-0.13, -0.14, -0.15, -0.17, -0.18, -0.19, -0.2 , -0.21, -0.22,\n",
              "        -0.23],\n",
              "       [-0.24, -0.25, -0.26, -0.27, -0.28, -0.29, -0.3 , -0.31, -0.33,\n",
              "        -0.34],\n",
              "       [-0.36, -0.37, -0.39, -0.41, -0.43, -0.45, -0.48, -0.5 , -0.53,\n",
              "        -0.56],\n",
              "       [-0.59, -0.63, -0.66, -0.7 , -0.74, -0.78, -0.82, -0.86, -0.91,\n",
              "        -0.95],\n",
              "       [-1.  , -1.05, -1.09, -1.14, -1.19, -1.23, -1.28, -1.32, -1.37,\n",
              "        -1.41],\n",
              "       [-1.45, -1.49, -1.52, -1.55, -1.58, -1.61, -1.64, -1.66, -1.68,\n",
              "        -1.69],\n",
              "       [-1.7 , -1.71, -1.71, -1.71, -1.71, -1.7 , -1.69, -1.67, -1.65,\n",
              "        -1.62],\n",
              "       [-1.6 , -1.57, -1.53, -1.49, -1.45, -1.41, -1.36, -1.31, -1.26,\n",
              "        -1.2 ],\n",
              "       [-1.15, -1.09, -1.03, -0.97, -0.91, -0.86, -0.8 , -0.74, -0.69,\n",
              "        -0.63],\n",
              "       [-0.58, -0.53, -0.48, -0.44, -0.4 , -0.36, -0.32, -0.29, -0.25,\n",
              "        -0.23],\n",
              "       [-0.2 , -0.18, -0.15, -0.14, -0.12, -0.1 , -0.09, -0.08, -0.07,\n",
              "        -0.06],\n",
              "       [-0.05, -0.04, -0.04, -0.03, -0.03, -0.02, -0.02, -0.02, -0.02,\n",
              "        -0.01],\n",
              "       [-0.01, -0.01, -0.01, -0.01, -0.01, -0.  , -0.  , -0.  , -0.  ,\n",
              "        -0.  ],\n",
              "       [-0.  , -0.  , -0.  , -0.  , -0.  , -0.  , -0.  , -0.  , -0.  ,\n",
              "        -0.  ],\n",
              "       [-0.  , -0.  , -0.  , -0.  , -0.  , -0.  , -0.  , -0.  , -0.  ,\n",
              "        -0.  ],\n",
              "       [-0.  , -0.  , -0.  , -0.  , -0.  , -0.  , -0.  , -0.  , -0.  ,\n",
              "        -0.  ],\n",
              "       [-0.  , -0.  , -0.  , -0.  , -0.  , -0.  , -0.  , -0.  , -0.  ,\n",
              "        -0.  ],\n",
              "       [-0.  , -0.  , -0.  , -0.  , -0.  , -0.  , -0.  , -0.  , -0.  ,\n",
              "        -0.  ],\n",
              "       [-0.  , -0.  , -0.  , -0.  , -0.  , -0.  , -0.  , -0.  , -0.  ,\n",
              "        -0.  ],\n",
              "       [-0.  , -0.  , -0.  , -0.  , -0.  , -0.  , -0.  , -0.  , -0.  ,\n",
              "        -0.  ],\n",
              "       [-0.  , -0.  , -0.  , -0.  , -0.  , -0.  , -0.  , -0.  , -0.  ,\n",
              "        -0.  ],\n",
              "       [-0.  , -0.  , -0.  , -0.  , -0.  , -0.  , -0.  , -0.  , -0.  ,\n",
              "        -0.  ],\n",
              "       [-0.  , -0.  , -0.  , -0.  , -0.  , -0.  , -0.  , -0.  , -0.  ,\n",
              "        -0.  ],\n",
              "       [-0.  , -0.  , -0.  , -0.  , -0.  , -0.  , -0.  , -0.  , -0.  ,\n",
              "        -0.  ],\n",
              "       [-0.  , -0.  , -0.  , -0.  , -0.  , -0.  , -0.  , -0.  , -0.  ,\n",
              "        -0.  ],\n",
              "       [-0.  , -0.  , -0.  , -0.  , -0.  , -0.  , -0.  , -0.  , -0.  ,\n",
              "        -0.  ],\n",
              "       [-0.  , -0.  , -0.  , -0.  , -0.  , -0.  , -0.  , -0.  , -0.  ,\n",
              "        -0.  ],\n",
              "       [-0.  , -0.  , -0.  , -0.  , -0.  , -0.  , -0.  , -0.01, -0.02,\n",
              "        -0.03],\n",
              "       [-0.05, -0.08, -0.12, -0.17, -0.23, -0.3 , -0.37, -0.45, -0.53,\n",
              "        -0.61],\n",
              "       [-0.68, -0.76, -0.82, -0.88, -0.94, -0.99, -1.03, -1.06, -1.09,\n",
              "        -1.1 ],\n",
              "       [-1.12, -1.12, -1.11, -1.1 , -1.08, -1.06, -1.02, -0.98, -0.94,\n",
              "        -0.89],\n",
              "       [-0.83, -0.77, -0.7 , -0.64, -0.56, -0.49, -0.42, -0.35, -0.28,\n",
              "        -0.22],\n",
              "       [-0.17, -0.12, -0.08, -0.05, -0.03, -0.02, -0.01, -0.  , -0.  ,\n",
              "        -0.  ],\n",
              "       [-0.  , -0.  , -0.  , -0.  , -0.  , -0.  , -0.  , -0.  , -0.  ,\n",
              "        -0.  ],\n",
              "       [-0.  , -0.  , -0.  , -0.  , -0.  , -0.  , -0.  , -0.  , -0.  ,\n",
              "        -0.  ],\n",
              "       [-0.  , -0.  , -0.  , -0.  , -0.  , -0.  , -0.  , -0.  , -0.  ,\n",
              "        -0.  ],\n",
              "       [-0.  , -0.  , -0.  , -0.  , -0.  , -0.  , -0.  , -0.  , -0.  ,\n",
              "        -0.  ],\n",
              "       [-0.  , -0.  , -0.  , -0.  , -0.  , -0.  , -0.  , -0.  , -0.  ,\n",
              "        -0.  ]])"
            ]
          },
          "metadata": {
            "tags": []
          },
          "execution_count": 101
        }
      ]
    },
    {
      "cell_type": "code",
      "metadata": {
        "id": "nft43RJS_Rj0",
        "colab": {
          "base_uri": "https://localhost:8080/"
        },
        "outputId": "5622d613-6865-467a-ed1f-263806f012c0"
      },
      "source": [
        "np.mean(exact_1.acqfunc(x_test)[0]), np.mean(zero_1.acqfunc(x_test)[0])\n"
      ],
      "execution_count": 102,
      "outputs": [
        {
          "output_type": "execute_result",
          "data": {
            "text/plain": [
              "(-0.2512536326957021, -0.3185789275749701)"
            ]
          },
          "metadata": {
            "tags": []
          },
          "execution_count": 102
        }
      ]
    },
    {
      "cell_type": "code",
      "metadata": {
        "colab": {
          "base_uri": "https://localhost:8080/"
        },
        "id": "oV94PnUyZ2qp",
        "outputId": "023998e1-cd45-469c-c158-354c4963b6cd"
      },
      "source": [
        "exact_1.acqfunc(x_test)[1].shape, zero_1.acqfunc(x_test)[1].shape\n"
      ],
      "execution_count": 103,
      "outputs": [
        {
          "output_type": "execute_result",
          "data": {
            "text/plain": [
              "((500, 2), (500, 2))"
            ]
          },
          "metadata": {
            "tags": []
          },
          "execution_count": 103
        }
      ]
    },
    {
      "cell_type": "code",
      "metadata": {
        "colab": {
          "base_uri": "https://localhost:8080/"
        },
        "id": "sxNUNoX3Te6y",
        "outputId": "acca7156-fe61-424b-d3a1-55d5a4cd4271"
      },
      "source": [
        "np.round(exact_1.acqfunc(x_test)[1],2)\n"
      ],
      "execution_count": 104,
      "outputs": [
        {
          "output_type": "execute_result",
          "data": {
            "text/plain": [
              "array([[-1.4 , -1.4 ],\n",
              "       [-1.44, -1.44],\n",
              "       [-1.46, -1.46],\n",
              "       [-1.45, -1.45],\n",
              "       [-1.42, -1.42],\n",
              "       [-1.35, -1.35],\n",
              "       [-1.25, -1.25],\n",
              "       [-1.12, -1.12],\n",
              "       [-0.97, -0.97],\n",
              "       [-0.79, -0.79],\n",
              "       [-0.62, -0.62],\n",
              "       [-0.45, -0.45],\n",
              "       [-0.31, -0.31],\n",
              "       [-0.19, -0.19],\n",
              "       [-0.11, -0.11],\n",
              "       [-0.05, -0.05],\n",
              "       [-0.02, -0.02],\n",
              "       [-0.01, -0.01],\n",
              "       [-0.  , -0.  ],\n",
              "       [-0.  , -0.  ],\n",
              "       [-0.  , -0.  ],\n",
              "       [-0.  , -0.  ],\n",
              "       [-0.  , -0.  ],\n",
              "       [-0.  , -0.  ],\n",
              "       [-0.  , -0.  ],\n",
              "       [-0.  , -0.  ],\n",
              "       [-0.  , -0.  ],\n",
              "       [-0.  , -0.  ],\n",
              "       [-0.  , -0.  ],\n",
              "       [-0.  , -0.  ],\n",
              "       [-0.  , -0.  ],\n",
              "       [-0.  , -0.  ],\n",
              "       [-0.  , -0.  ],\n",
              "       [-0.  , -0.  ],\n",
              "       [-0.  , -0.  ],\n",
              "       [-0.  , -0.  ],\n",
              "       [-0.  , -0.  ],\n",
              "       [-0.  , -0.  ],\n",
              "       [-0.  , -0.  ],\n",
              "       [-0.  , -0.  ],\n",
              "       [-0.  , -0.  ],\n",
              "       [-0.  , -0.  ],\n",
              "       [-0.  , -0.  ],\n",
              "       [-0.  , -0.  ],\n",
              "       [-0.  , -0.  ],\n",
              "       [-0.  , -0.  ],\n",
              "       [-0.  , -0.  ],\n",
              "       [-0.  , -0.  ],\n",
              "       [-0.  , -0.  ],\n",
              "       [-0.  , -0.  ],\n",
              "       [-0.  , -0.  ],\n",
              "       [-0.  , -0.  ],\n",
              "       [-0.  , -0.  ],\n",
              "       [-0.  , -0.  ],\n",
              "       [-0.  , -0.  ],\n",
              "       [-0.  , -0.  ],\n",
              "       [-0.  , -0.  ],\n",
              "       [-0.  , -0.  ],\n",
              "       [-0.  , -0.  ],\n",
              "       [-0.  , -0.  ],\n",
              "       [-0.  , -0.  ],\n",
              "       [-0.  , -0.  ],\n",
              "       [-0.  , -0.  ],\n",
              "       [-0.  , -0.  ],\n",
              "       [-0.  , -0.  ],\n",
              "       [-0.  , -0.  ],\n",
              "       [-0.  , -0.  ],\n",
              "       [-0.  , -0.  ],\n",
              "       [-0.  , -0.  ],\n",
              "       [-0.  , -0.  ],\n",
              "       [-0.  , -0.  ],\n",
              "       [-0.  , -0.  ],\n",
              "       [-0.  , -0.  ],\n",
              "       [-0.  , -0.  ],\n",
              "       [-0.  , -0.  ],\n",
              "       [-0.  , -0.  ],\n",
              "       [-0.  , -0.  ],\n",
              "       [-0.  , -0.  ],\n",
              "       [-0.  , -0.  ],\n",
              "       [-0.  , -0.  ],\n",
              "       [-0.  , -0.  ],\n",
              "       [-0.  , -0.  ],\n",
              "       [-0.  , -0.  ],\n",
              "       [-0.  , -0.  ],\n",
              "       [-0.  , -0.  ],\n",
              "       [-0.  , -0.  ],\n",
              "       [-0.  , -0.  ],\n",
              "       [-0.  , -0.  ],\n",
              "       [-0.  , -0.  ],\n",
              "       [-0.  , -0.  ],\n",
              "       [-0.  , -0.  ],\n",
              "       [-0.  , -0.  ],\n",
              "       [-0.  , -0.  ],\n",
              "       [-0.  , -0.  ],\n",
              "       [-0.  , -0.  ],\n",
              "       [-0.  , -0.  ],\n",
              "       [-0.  , -0.  ],\n",
              "       [-0.  , -0.  ],\n",
              "       [-0.  , -0.  ],\n",
              "       [-0.  , -0.  ],\n",
              "       [-0.  , -0.  ],\n",
              "       [-0.  , -0.  ],\n",
              "       [-0.  , -0.  ],\n",
              "       [-0.  , -0.  ],\n",
              "       [-0.  , -0.  ],\n",
              "       [-0.01, -0.01],\n",
              "       [-0.01, -0.01],\n",
              "       [-0.03, -0.03],\n",
              "       [-0.05, -0.05],\n",
              "       [-0.07, -0.07],\n",
              "       [-0.11, -0.11],\n",
              "       [-0.15, -0.15],\n",
              "       [-0.21, -0.21],\n",
              "       [-0.26, -0.26],\n",
              "       [-0.32, -0.32],\n",
              "       [-0.38, -0.38],\n",
              "       [-0.44, -0.44],\n",
              "       [-0.49, -0.49],\n",
              "       [-0.54, -0.54],\n",
              "       [-0.59, -0.59],\n",
              "       [-0.63, -0.63],\n",
              "       [-0.66, -0.66],\n",
              "       [-0.69, -0.69],\n",
              "       [-0.71, -0.71],\n",
              "       [-0.73, -0.73],\n",
              "       [-0.75, -0.75],\n",
              "       [-0.77, -0.77],\n",
              "       [-0.78, -0.78],\n",
              "       [-0.79, -0.79],\n",
              "       [-0.8 , -0.8 ],\n",
              "       [-0.8 , -0.8 ],\n",
              "       [-0.81, -0.81],\n",
              "       [-0.82, -0.82],\n",
              "       [-0.83, -0.83],\n",
              "       [-0.84, -0.84],\n",
              "       [-0.85, -0.85],\n",
              "       [-0.86, -0.86],\n",
              "       [-0.87, -0.87],\n",
              "       [-0.88, -0.88],\n",
              "       [-0.9 , -0.9 ],\n",
              "       [-0.91, -0.91],\n",
              "       [-0.93, -0.93],\n",
              "       [-0.95, -0.95],\n",
              "       [-0.97, -0.97],\n",
              "       [-0.99, -0.99],\n",
              "       [-1.01, -1.01],\n",
              "       [-1.03, -1.03],\n",
              "       [-1.05, -1.05],\n",
              "       [-1.07, -1.07],\n",
              "       [-1.09, -1.09],\n",
              "       [-1.11, -1.11],\n",
              "       [-1.13, -1.13],\n",
              "       [-1.14, -1.14],\n",
              "       [-1.16, -1.16],\n",
              "       [-1.17, -1.17],\n",
              "       [-1.19, -1.19],\n",
              "       [-1.2 , -1.2 ],\n",
              "       [-1.2 , -1.2 ],\n",
              "       [-1.21, -1.21],\n",
              "       [-1.21, -1.21],\n",
              "       [-1.21, -1.21],\n",
              "       [-1.21, -1.21],\n",
              "       [-1.2 , -1.2 ],\n",
              "       [-1.19, -1.19],\n",
              "       [-1.18, -1.18],\n",
              "       [-1.17, -1.17],\n",
              "       [-1.15, -1.15],\n",
              "       [-1.14, -1.14],\n",
              "       [-1.12, -1.12],\n",
              "       [-1.1 , -1.1 ],\n",
              "       [-1.09, -1.09],\n",
              "       [-1.07, -1.07],\n",
              "       [-1.05, -1.05],\n",
              "       [-1.03, -1.03],\n",
              "       [-1.01, -1.01],\n",
              "       [-1.  , -1.  ],\n",
              "       [-0.98, -0.98],\n",
              "       [-0.97, -0.97],\n",
              "       [-0.96, -0.96],\n",
              "       [-0.95, -0.95],\n",
              "       [-0.94, -0.94],\n",
              "       [-0.93, -0.93],\n",
              "       [-0.93, -0.93],\n",
              "       [-0.93, -0.93],\n",
              "       [-0.93, -0.93],\n",
              "       [-0.94, -0.94],\n",
              "       [-0.94, -0.94],\n",
              "       [-0.95, -0.95],\n",
              "       [-0.96, -0.96],\n",
              "       [-0.98, -0.98],\n",
              "       [-0.99, -0.99],\n",
              "       [-1.01, -1.01],\n",
              "       [-1.03, -1.03],\n",
              "       [-1.05, -1.05],\n",
              "       [-1.06, -1.06],\n",
              "       [-1.08, -1.08],\n",
              "       [-1.1 , -1.1 ],\n",
              "       [-1.12, -1.12],\n",
              "       [-1.14, -1.14],\n",
              "       [-1.15, -1.15],\n",
              "       [-1.16, -1.16],\n",
              "       [-1.17, -1.17],\n",
              "       [-1.18, -1.18],\n",
              "       [-1.18, -1.18],\n",
              "       [-1.18, -1.18],\n",
              "       [-1.18, -1.18],\n",
              "       [-1.17, -1.17],\n",
              "       [-1.15, -1.15],\n",
              "       [-1.13, -1.13],\n",
              "       [-1.11, -1.11],\n",
              "       [-1.08, -1.08],\n",
              "       [-1.05, -1.05],\n",
              "       [-1.02, -1.02],\n",
              "       [-0.98, -0.98],\n",
              "       [-0.94, -0.94],\n",
              "       [-0.9 , -0.9 ],\n",
              "       [-0.85, -0.85],\n",
              "       [-0.8 , -0.8 ],\n",
              "       [-0.76, -0.76],\n",
              "       [-0.71, -0.71],\n",
              "       [-0.66, -0.66],\n",
              "       [-0.62, -0.62],\n",
              "       [-0.57, -0.57],\n",
              "       [-0.53, -0.53],\n",
              "       [-0.49, -0.49],\n",
              "       [-0.45, -0.45],\n",
              "       [-0.41, -0.41],\n",
              "       [-0.37, -0.37],\n",
              "       [-0.34, -0.34],\n",
              "       [-0.31, -0.31],\n",
              "       [-0.28, -0.28],\n",
              "       [-0.25, -0.25],\n",
              "       [-0.23, -0.23],\n",
              "       [-0.2 , -0.2 ],\n",
              "       [-0.18, -0.18],\n",
              "       [-0.16, -0.16],\n",
              "       [-0.15, -0.15],\n",
              "       [-0.13, -0.13],\n",
              "       [-0.12, -0.12],\n",
              "       [-0.1 , -0.1 ],\n",
              "       [-0.09, -0.09],\n",
              "       [-0.08, -0.08],\n",
              "       [-0.07, -0.07],\n",
              "       [-0.06, -0.06],\n",
              "       [-0.05, -0.05],\n",
              "       [-0.05, -0.05],\n",
              "       [-0.04, -0.04],\n",
              "       [-0.03, -0.03],\n",
              "       [-0.03, -0.03],\n",
              "       [-0.02, -0.02],\n",
              "       [-0.02, -0.02],\n",
              "       [-0.02, -0.02],\n",
              "       [-0.01, -0.01],\n",
              "       [-0.01, -0.01],\n",
              "       [-0.01, -0.01],\n",
              "       [-0.01, -0.01],\n",
              "       [-0.01, -0.01],\n",
              "       [-0.01, -0.01],\n",
              "       [-0.  , -0.  ],\n",
              "       [-0.  , -0.  ],\n",
              "       [-0.  , -0.  ],\n",
              "       [-0.  , -0.  ],\n",
              "       [-0.  , -0.  ],\n",
              "       [-0.  , -0.  ],\n",
              "       [-0.  , -0.  ],\n",
              "       [-0.  , -0.  ],\n",
              "       [-0.  , -0.  ],\n",
              "       [-0.  , -0.  ],\n",
              "       [-0.  , -0.  ],\n",
              "       [-0.  , -0.  ],\n",
              "       [-0.  , -0.  ],\n",
              "       [-0.  , -0.  ],\n",
              "       [-0.  , -0.  ],\n",
              "       [-0.  , -0.  ],\n",
              "       [-0.  , -0.  ],\n",
              "       [-0.  , -0.  ],\n",
              "       [-0.  , -0.  ],\n",
              "       [-0.  , -0.  ],\n",
              "       [-0.  , -0.  ],\n",
              "       [-0.  , -0.  ],\n",
              "       [-0.  , -0.  ],\n",
              "       [-0.  , -0.  ],\n",
              "       [-0.  , -0.  ],\n",
              "       [-0.  , -0.  ],\n",
              "       [-0.  , -0.  ],\n",
              "       [-0.  , -0.  ],\n",
              "       [-0.  , -0.  ],\n",
              "       [-0.  , -0.  ],\n",
              "       [-0.  , -0.  ],\n",
              "       [-0.  , -0.  ],\n",
              "       [-0.  , -0.  ],\n",
              "       [-0.  , -0.  ],\n",
              "       [-0.  , -0.  ],\n",
              "       [-0.  , -0.  ],\n",
              "       [-0.  , -0.  ],\n",
              "       [-0.  , -0.  ],\n",
              "       [-0.  , -0.  ],\n",
              "       [-0.  , -0.  ],\n",
              "       [-0.  , -0.  ],\n",
              "       [-0.  , -0.  ],\n",
              "       [-0.  , -0.  ],\n",
              "       [-0.  , -0.  ],\n",
              "       [-0.  , -0.  ],\n",
              "       [-0.  , -0.  ],\n",
              "       [-0.  , -0.  ],\n",
              "       [-0.  , -0.  ],\n",
              "       [-0.  , -0.  ],\n",
              "       [-0.  , -0.  ],\n",
              "       [-0.  , -0.  ],\n",
              "       [-0.  , -0.  ],\n",
              "       [-0.  , -0.  ],\n",
              "       [-0.  , -0.  ],\n",
              "       [-0.  , -0.  ],\n",
              "       [-0.  , -0.  ],\n",
              "       [-0.  , -0.  ],\n",
              "       [-0.  , -0.  ],\n",
              "       [-0.  , -0.  ],\n",
              "       [-0.  , -0.  ],\n",
              "       [-0.  , -0.  ],\n",
              "       [-0.  , -0.  ],\n",
              "       [-0.  , -0.  ],\n",
              "       [-0.  , -0.  ],\n",
              "       [-0.  , -0.  ],\n",
              "       [-0.  , -0.  ],\n",
              "       [-0.  , -0.  ],\n",
              "       [-0.  , -0.  ],\n",
              "       [-0.  , -0.  ],\n",
              "       [-0.  , -0.  ],\n",
              "       [-0.  , -0.  ],\n",
              "       [-0.  , -0.  ],\n",
              "       [-0.  , -0.  ],\n",
              "       [-0.  , -0.  ],\n",
              "       [-0.  , -0.  ],\n",
              "       [-0.  , -0.  ],\n",
              "       [-0.  , -0.  ],\n",
              "       [-0.  , -0.  ],\n",
              "       [-0.  , -0.  ],\n",
              "       [-0.  , -0.  ],\n",
              "       [-0.  , -0.  ],\n",
              "       [-0.  , -0.  ],\n",
              "       [-0.  , -0.  ],\n",
              "       [-0.  , -0.  ],\n",
              "       [-0.  , -0.  ],\n",
              "       [-0.  , -0.  ],\n",
              "       [-0.  , -0.  ],\n",
              "       [-0.  , -0.  ],\n",
              "       [-0.  , -0.  ],\n",
              "       [-0.  , -0.  ],\n",
              "       [-0.  , -0.  ],\n",
              "       [-0.  , -0.  ],\n",
              "       [-0.  , -0.  ],\n",
              "       [-0.  , -0.  ],\n",
              "       [-0.  , -0.  ],\n",
              "       [-0.  , -0.  ],\n",
              "       [-0.  , -0.  ],\n",
              "       [-0.  , -0.  ],\n",
              "       [-0.  , -0.  ],\n",
              "       [-0.  , -0.  ],\n",
              "       [-0.  , -0.  ],\n",
              "       [-0.  , -0.  ],\n",
              "       [-0.  , -0.  ],\n",
              "       [-0.  , -0.  ],\n",
              "       [-0.  , -0.  ],\n",
              "       [-0.  , -0.  ],\n",
              "       [-0.  , -0.  ],\n",
              "       [-0.  , -0.  ],\n",
              "       [-0.  , -0.  ],\n",
              "       [-0.  , -0.  ],\n",
              "       [-0.  , -0.  ],\n",
              "       [-0.  , -0.  ],\n",
              "       [-0.  , -0.  ],\n",
              "       [-0.  , -0.  ],\n",
              "       [-0.  , -0.  ],\n",
              "       [-0.  , -0.  ],\n",
              "       [-0.  , -0.  ],\n",
              "       [-0.  , -0.  ],\n",
              "       [-0.  , -0.  ],\n",
              "       [-0.  , -0.  ],\n",
              "       [-0.  , -0.  ],\n",
              "       [-0.  , -0.  ],\n",
              "       [-0.  , -0.  ],\n",
              "       [-0.  , -0.  ],\n",
              "       [-0.  , -0.  ],\n",
              "       [-0.  , -0.  ],\n",
              "       [-0.  , -0.  ],\n",
              "       [-0.  , -0.  ],\n",
              "       [-0.  , -0.  ],\n",
              "       [-0.  , -0.  ],\n",
              "       [-0.  , -0.  ],\n",
              "       [-0.  , -0.  ],\n",
              "       [-0.  , -0.  ],\n",
              "       [-0.  , -0.  ],\n",
              "       [-0.  , -0.  ],\n",
              "       [-0.  , -0.  ],\n",
              "       [-0.01, -0.01],\n",
              "       [-0.02, -0.02],\n",
              "       [-0.04, -0.04],\n",
              "       [-0.08, -0.08],\n",
              "       [-0.15, -0.15],\n",
              "       [-0.25, -0.25],\n",
              "       [-0.37, -0.37],\n",
              "       [-0.52, -0.52],\n",
              "       [-0.68, -0.68],\n",
              "       [-0.84, -0.84],\n",
              "       [-1.  , -1.  ],\n",
              "       [-1.15, -1.15],\n",
              "       [-1.28, -1.28],\n",
              "       [-1.39, -1.39],\n",
              "       [-1.47, -1.47],\n",
              "       [-1.53, -1.53],\n",
              "       [-1.58, -1.58],\n",
              "       [-1.61, -1.61],\n",
              "       [-1.62, -1.62],\n",
              "       [-1.63, -1.63],\n",
              "       [-1.63, -1.63],\n",
              "       [-1.62, -1.62],\n",
              "       [-1.62, -1.62],\n",
              "       [-1.61, -1.61],\n",
              "       [-1.6 , -1.6 ],\n",
              "       [-1.6 , -1.6 ],\n",
              "       [-1.59, -1.59],\n",
              "       [-1.59, -1.59],\n",
              "       [-1.59, -1.59],\n",
              "       [-1.6 , -1.6 ],\n",
              "       [-1.61, -1.61],\n",
              "       [-1.62, -1.62],\n",
              "       [-1.63, -1.63],\n",
              "       [-1.64, -1.64],\n",
              "       [-1.65, -1.65],\n",
              "       [-1.65, -1.65],\n",
              "       [-1.65, -1.65],\n",
              "       [-1.65, -1.65],\n",
              "       [-1.63, -1.63],\n",
              "       [-1.6 , -1.6 ],\n",
              "       [-1.56, -1.56],\n",
              "       [-1.49, -1.49],\n",
              "       [-1.41, -1.41],\n",
              "       [-1.31, -1.31],\n",
              "       [-1.18, -1.18],\n",
              "       [-1.03, -1.03],\n",
              "       [-0.88, -0.88],\n",
              "       [-0.71, -0.71],\n",
              "       [-0.55, -0.55],\n",
              "       [-0.4 , -0.4 ],\n",
              "       [-0.27, -0.27],\n",
              "       [-0.17, -0.17],\n",
              "       [-0.09, -0.09],\n",
              "       [-0.05, -0.05],\n",
              "       [-0.02, -0.02],\n",
              "       [-0.01, -0.01],\n",
              "       [-0.  , -0.  ],\n",
              "       [-0.  , -0.  ],\n",
              "       [-0.  , -0.  ],\n",
              "       [-0.  , -0.  ],\n",
              "       [-0.  , -0.  ],\n",
              "       [-0.  , -0.  ],\n",
              "       [-0.  , -0.  ],\n",
              "       [-0.  , -0.  ],\n",
              "       [-0.  , -0.  ],\n",
              "       [-0.  , -0.  ],\n",
              "       [-0.  , -0.  ],\n",
              "       [-0.  , -0.  ],\n",
              "       [-0.  , -0.  ],\n",
              "       [-0.  , -0.  ],\n",
              "       [-0.  , -0.  ],\n",
              "       [-0.  , -0.  ],\n",
              "       [-0.  , -0.  ],\n",
              "       [-0.  , -0.  ],\n",
              "       [-0.  , -0.  ],\n",
              "       [-0.  , -0.  ],\n",
              "       [-0.  , -0.  ],\n",
              "       [-0.  , -0.  ],\n",
              "       [-0.  , -0.  ],\n",
              "       [-0.  , -0.  ],\n",
              "       [-0.  , -0.  ],\n",
              "       [-0.  , -0.  ],\n",
              "       [-0.  , -0.  ],\n",
              "       [-0.  , -0.  ],\n",
              "       [-0.  , -0.  ],\n",
              "       [-0.  , -0.  ],\n",
              "       [-0.  , -0.  ],\n",
              "       [-0.  , -0.  ],\n",
              "       [-0.  , -0.  ],\n",
              "       [-0.  , -0.  ],\n",
              "       [-0.  , -0.  ],\n",
              "       [-0.  , -0.  ],\n",
              "       [-0.  , -0.  ],\n",
              "       [-0.  , -0.  ],\n",
              "       [-0.  , -0.  ],\n",
              "       [-0.  , -0.  ],\n",
              "       [-0.  , -0.  ],\n",
              "       [-0.  , -0.  ],\n",
              "       [-0.  , -0.  ],\n",
              "       [-0.  , -0.  ],\n",
              "       [-0.  , -0.  ],\n",
              "       [-0.  , -0.  ],\n",
              "       [-0.  , -0.  ],\n",
              "       [-0.  , -0.  ],\n",
              "       [-0.  , -0.  ],\n",
              "       [-0.  , -0.  ]])"
            ]
          },
          "metadata": {
            "tags": []
          },
          "execution_count": 104
        }
      ]
    },
    {
      "cell_type": "code",
      "metadata": {
        "colab": {
          "base_uri": "https://localhost:8080/"
        },
        "id": "XqTGdfPNFa5l",
        "outputId": "bce451f4-6069-48a8-a9e2-a9425a35b7f1"
      },
      "source": [
        "np.mean(exact_1.acqfunc(x_test)[1])\n"
      ],
      "execution_count": 105,
      "outputs": [
        {
          "output_type": "execute_result",
          "data": {
            "text/plain": [
              "-0.37228711338926307"
            ]
          },
          "metadata": {
            "tags": []
          },
          "execution_count": 105
        }
      ]
    },
    {
      "cell_type": "code",
      "metadata": {
        "id": "9wF57_LwtK97"
      },
      "source": [
        ""
      ],
      "execution_count": 105,
      "outputs": []
    }
  ]
}