{
  "nbformat": 4,
  "nbformat_minor": 0,
  "metadata": {
    "colab": {
      "name": "2a. Exact_Rastrigin_GP_EI.ipynb",
      "provenance": [],
      "collapsed_sections": []
    },
    "kernelspec": {
      "name": "python3",
      "display_name": "Python 3"
    },
    "language_info": {
      "name": "python"
    }
  },
  "cells": [
    {
      "cell_type": "markdown",
      "metadata": {
        "id": "Dqn4dFx7Z2Ir"
      },
      "source": [
        "\n",
        "Rastrigin:\n",
        "\n",
        "GP EI: exact versus approximate partial-order GP EI derivatives wrt **x1**, **x2**"
      ]
    },
    {
      "cell_type": "code",
      "metadata": {
        "id": "MJTM_GZZZb5x",
        "colab": {
          "base_uri": "https://localhost:8080/"
        },
        "outputId": "047329d3-98dd-4650-927e-9703e6543469"
      },
      "source": [
        "pip install pyGPGO\n"
      ],
      "execution_count": 1,
      "outputs": [
        {
          "output_type": "stream",
          "text": [
            "Requirement already satisfied: pyGPGO in /usr/local/lib/python3.7/dist-packages (0.5.1)\n",
            "Requirement already satisfied: numpy in /usr/local/lib/python3.7/dist-packages (from pyGPGO) (1.19.5)\n",
            "Requirement already satisfied: Theano-PyMC in /usr/local/lib/python3.7/dist-packages (from pyGPGO) (1.1.2)\n",
            "Requirement already satisfied: pyMC3 in /usr/local/lib/python3.7/dist-packages (from pyGPGO) (3.11.2)\n",
            "Requirement already satisfied: joblib in /usr/local/lib/python3.7/dist-packages (from pyGPGO) (1.0.1)\n",
            "Requirement already satisfied: mkl in /usr/local/lib/python3.7/dist-packages (from pyGPGO) (2019.0)\n",
            "Requirement already satisfied: scikit-learn in /usr/local/lib/python3.7/dist-packages (from pyGPGO) (0.22.2.post1)\n",
            "Requirement already satisfied: scipy in /usr/local/lib/python3.7/dist-packages (from pyGPGO) (1.4.1)\n",
            "Requirement already satisfied: intel-openmp in /usr/local/lib/python3.7/dist-packages (from mkl->pyGPGO) (2021.3.0)\n",
            "Requirement already satisfied: dill in /usr/local/lib/python3.7/dist-packages (from pyMC3->pyGPGO) (0.3.4)\n",
            "Requirement already satisfied: cachetools>=4.2.1 in /usr/local/lib/python3.7/dist-packages (from pyMC3->pyGPGO) (4.2.2)\n",
            "Requirement already satisfied: arviz>=0.11.0 in /usr/local/lib/python3.7/dist-packages (from pyMC3->pyGPGO) (0.11.2)\n",
            "Requirement already satisfied: fastprogress>=0.2.0 in /usr/local/lib/python3.7/dist-packages (from pyMC3->pyGPGO) (1.0.0)\n",
            "Requirement already satisfied: patsy>=0.5.1 in /usr/local/lib/python3.7/dist-packages (from pyMC3->pyGPGO) (0.5.1)\n",
            "Requirement already satisfied: pandas>=0.24.0 in /usr/local/lib/python3.7/dist-packages (from pyMC3->pyGPGO) (1.1.5)\n",
            "Requirement already satisfied: semver in /usr/local/lib/python3.7/dist-packages (from pyMC3->pyGPGO) (2.13.0)\n",
            "Requirement already satisfied: typing-extensions>=3.7.4 in /usr/local/lib/python3.7/dist-packages (from pyMC3->pyGPGO) (3.7.4.3)\n",
            "Requirement already satisfied: filelock in /usr/local/lib/python3.7/dist-packages (from Theano-PyMC->pyGPGO) (3.0.12)\n",
            "Requirement already satisfied: matplotlib>=3.0 in /usr/local/lib/python3.7/dist-packages (from arviz>=0.11.0->pyMC3->pyGPGO) (3.2.2)\n",
            "Requirement already satisfied: xarray>=0.16.1 in /usr/local/lib/python3.7/dist-packages (from arviz>=0.11.0->pyMC3->pyGPGO) (0.18.2)\n",
            "Requirement already satisfied: setuptools>=38.4 in /usr/local/lib/python3.7/dist-packages (from arviz>=0.11.0->pyMC3->pyGPGO) (57.4.0)\n",
            "Requirement already satisfied: packaging in /usr/local/lib/python3.7/dist-packages (from arviz>=0.11.0->pyMC3->pyGPGO) (21.0)\n",
            "Requirement already satisfied: netcdf4 in /usr/local/lib/python3.7/dist-packages (from arviz>=0.11.0->pyMC3->pyGPGO) (1.5.7)\n",
            "Requirement already satisfied: python-dateutil>=2.1 in /usr/local/lib/python3.7/dist-packages (from matplotlib>=3.0->arviz>=0.11.0->pyMC3->pyGPGO) (2.8.2)\n",
            "Requirement already satisfied: kiwisolver>=1.0.1 in /usr/local/lib/python3.7/dist-packages (from matplotlib>=3.0->arviz>=0.11.0->pyMC3->pyGPGO) (1.3.1)\n",
            "Requirement already satisfied: cycler>=0.10 in /usr/local/lib/python3.7/dist-packages (from matplotlib>=3.0->arviz>=0.11.0->pyMC3->pyGPGO) (0.10.0)\n",
            "Requirement already satisfied: pyparsing!=2.0.4,!=2.1.2,!=2.1.6,>=2.0.1 in /usr/local/lib/python3.7/dist-packages (from matplotlib>=3.0->arviz>=0.11.0->pyMC3->pyGPGO) (2.4.7)\n",
            "Requirement already satisfied: six in /usr/local/lib/python3.7/dist-packages (from cycler>=0.10->matplotlib>=3.0->arviz>=0.11.0->pyMC3->pyGPGO) (1.15.0)\n",
            "Requirement already satisfied: pytz>=2017.2 in /usr/local/lib/python3.7/dist-packages (from pandas>=0.24.0->pyMC3->pyGPGO) (2018.9)\n",
            "Requirement already satisfied: cftime in /usr/local/lib/python3.7/dist-packages (from netcdf4->arviz>=0.11.0->pyMC3->pyGPGO) (1.5.0)\n"
          ],
          "name": "stdout"
        }
      ]
    },
    {
      "cell_type": "code",
      "metadata": {
        "id": "ZJSSPbwPaEUB"
      },
      "source": [
        "### Import:\n",
        "\n",
        "import numpy as np\n",
        "import scipy as sp\n",
        "import pandas as pd\n",
        "import matplotlib.pyplot as plt\n",
        "import warnings\n",
        "import itertools\n",
        "\n",
        "from pyGPGO.GPGO import GPGO\n",
        "from pyGPGO.surrogates.GaussianProcess import GaussianProcess\n",
        "from pyGPGO.acquisition import Acquisition\n",
        "from pyGPGO.covfunc import squaredExponential\n",
        "\n",
        "from joblib import Parallel, delayed\n",
        "from numpy.linalg import solve, cholesky\n",
        "from scipy.spatial.distance import cdist\n",
        "from scipy.optimize import minimize\n",
        "from scipy.stats import norm\n",
        "import time\n",
        "\n",
        "warnings.filterwarnings(\"ignore\", category=RuntimeWarning)\n"
      ],
      "execution_count": 2,
      "outputs": []
    },
    {
      "cell_type": "code",
      "metadata": {
        "id": "eYpI3Zm4aGxi"
      },
      "source": [
        "n_start_AcqFunc = 100 #multi-start iterations to avoid local optima in AcqFunc optimization\n"
      ],
      "execution_count": 3,
      "outputs": []
    },
    {
      "cell_type": "code",
      "metadata": {
        "id": "OeYcTUNoaJWa"
      },
      "source": [
        "### Inputs:\n",
        "\n",
        "func = 'Rastrigin'\n",
        "n_test = 500\n",
        "eps = 1e-08\n",
        "\n",
        "util_grad_exact = 'dEI_GP'\n",
        "util_grad_approx = 'ExpectedImprovement'\n",
        "\n",
        "n_init = 5 # random initialisations\n",
        "iters = 20\n",
        "opt = True"
      ],
      "execution_count": 4,
      "outputs": []
    },
    {
      "cell_type": "code",
      "metadata": {
        "id": "xpaEOjdzaPMS"
      },
      "source": [
        "### Objective Function - Rastrigin(x) 2-D:\n",
        "\n",
        "def objfunc(x1_training, x2_training):\n",
        "        return  operator * (10 * dim + x1_training** 2 - 10 * np.cos(2 * np.pi * x1_training)\n",
        "                                    + x2_training** 2 - 10 * np.cos(2 * np.pi * x2_training)\n",
        "                          )\n",
        "        \n",
        "def objfunc_der(x1_training, x2_training):\n",
        "        return  operator * (2 * x1_training + 20 * np.pi * np.sin(2 * np.pi * x1_training)\n",
        "                                    + 2 * x2_training + 20 * np.pi * np.sin(2 * np.pi * x2_training)\n",
        "                          )\n",
        "    \n",
        "# Constraints:\n",
        "lb = -5.12 \n",
        "ub = +5.12\n",
        "    \n",
        "# Input array dimension(s):\n",
        "dim = 2\n",
        "\n",
        "# 2-D inputs' parameter bounds:\n",
        "param = {'x1_training': ('cont', [lb, ub]),\n",
        "             'x2_training': ('cont', [lb, ub])}\n",
        "\n",
        "# True y bounds:\n",
        "operator = -1\n",
        "y_global_orig = 0 # targets global minimum\n",
        "\n",
        "# Test data:\n",
        "x1_test = np.linspace(lb, ub, n_test) \n",
        "x2_test = np.linspace(lb, ub, n_test)\n",
        "  \n",
        "x_test = np.column_stack((x1_test,x2_test))\n"
      ],
      "execution_count": 5,
      "outputs": []
    },
    {
      "cell_type": "code",
      "metadata": {
        "id": "oO_GUmOoaV0T"
      },
      "source": [
        "### Cumulative Regret Calculator:\n",
        "\n",
        "def min_max_array(x):\n",
        "    new_list = []\n",
        "    for i, num in enumerate(x):\n",
        "            new_list.append(np.min(x[0:i+1]))\n",
        "    return new_list\n",
        "  "
      ],
      "execution_count": 6,
      "outputs": []
    },
    {
      "cell_type": "code",
      "metadata": {
        "id": "kuuJx0IMam9S"
      },
      "source": [
        "### Surrogate derivatives: \n",
        "\n",
        "cov_func = squaredExponential()\n",
        "\n",
        "def kronDelta(X, Xstar):\n",
        "    return cdist(X, Xstar) < np.finfo(np.float32).eps\n",
        "\n",
        "def se(X, Xstar, sigmaf, l, sigman):\n",
        "    return sigmaf * np.exp(-0.5 * cdist(X, Xstar) ** 2 / l ** 2) + sigman * kronDelta(X, Xstar)\n",
        "\n",
        "def deriv_se(X, Xstar, sigmaf, l, sigman):\n",
        "    return cdist(X, Xstar) / (l ** 2) * se(X, Xstar, sigmaf, l, sigman)\n",
        "\n",
        "def der_covmat(X, Xstar, sigmaf, l, sigman):\n",
        "      nx = len(X)\n",
        "      ny = len(Xstar)\n",
        "      return np.round(np.array([deriv_se(np.atleast_2d(i), np.atleast_2d(j), sigmaf, l, sigman) for (i, j) in itertools.product(X, Xstar)]).reshape(nx, ny), 8)\n",
        "\n",
        "class dGaussianProcess(GaussianProcess):\n",
        "    l = GaussianProcess(cov_func, optimize=opt).getcovparams()['l']\n",
        "    sigmaf = GaussianProcess(cov_func, optimize=opt).getcovparams()['sigmaf']\n",
        "    sigman = GaussianProcess(cov_func, optimize=opt).getcovparams()['sigman']\n",
        "\n",
        "    def AcqGrad(self, Xstar):\n",
        "        Xstar = np.atleast_2d(Xstar)\n",
        "        Kstar = self.covfunc.K(self.X, Xstar).T\n",
        "        dKstar = der_covmat(self.X, Xstar, self.sigmaf, self.l, self.sigman).T\n",
        "        \n",
        "        alpha_Kstar = np.dot(np.linalg.inv(self.K + (self.sigman**2) * np.eye(len(self.X))), Kstar.T)\n",
        "        \n",
        "        dm = np.dot(-dKstar, self.alpha)\n",
        "        ds = -2 * np.dot(-dKstar, alpha_Kstar)\n",
        "        \n",
        "        return dm, ds\n",
        "        "
      ],
      "execution_count": 7,
      "outputs": []
    },
    {
      "cell_type": "code",
      "metadata": {
        "id": "_Dc3YVHVaXz7"
      },
      "source": [
        "class Acquisition_new(Acquisition):    \n",
        "    def __init__(self, mode, eps=eps, **params):\n",
        "        \n",
        "        self.params = params\n",
        "        self.eps = eps\n",
        "\n",
        "        mode_dict = {\n",
        "            'dEI_GP': self.dEI_GP\n",
        "        }\n",
        "\n",
        "        self.f = mode_dict[mode]\n",
        "    \n",
        "    def dEI_GP(self, tau, mean, std, ds, dm):\n",
        "        gamma = (mean - tau - self.eps) / (std + self.eps)\n",
        "        gamma_h = (mean - tau) / (std + self.eps)\n",
        "        dsdx = ds / (2 * (std + self.eps))\n",
        "        dmdx = (dm - gamma * dsdx) / (std + self.eps)\n",
        "        \n",
        "        f = (std + self.eps) * (gamma * norm.cdf(gamma) + norm.pdf(gamma))\n",
        "        df1 = f / (std + self.eps) * dsdx \n",
        "        df2 = (std + self.eps) * norm.cdf(gamma) * dmdx\n",
        "        df = (df1 + df2)[0]\n",
        "        df_arr = []\n",
        "\n",
        "        for j in range(0, dim):\n",
        "          df_arr.append(df)\n",
        "        return f, np.asarray(df_arr).transpose()\n",
        "        \n",
        "    def d_eval(self, tau, mean, std, ds, dm):\n",
        "    \n",
        "        return self.f(tau, mean, std, ds, dm, **self.params)\n",
        "        "
      ],
      "execution_count": 8,
      "outputs": []
    },
    {
      "cell_type": "code",
      "metadata": {
        "id": "b_B-w81BJxKN"
      },
      "source": [
        "## dGPGO:\n",
        "\n",
        "grad = 1\n",
        "\n",
        "class dGPGO(GPGO):\n",
        "    n_start = n_start_AcqFunc\n",
        "\n",
        "    def d_optimizeAcq(self, method='L-BFGS-B', n_start=n_start_AcqFunc):\n",
        "        start_points_dict = [self._sampleParam() for i in range(n_start)]\n",
        "        start_points_arr = np.array([list(s.values())\n",
        "                                     for s in start_points_dict])\n",
        "        x_best = np.empty((n_start, len(self.parameter_key)))\n",
        "        f_best = np.empty((n_start,))\n",
        "        opt = Parallel(n_jobs=self.n_jobs)(delayed(minimize)(self.acqfunc,\n",
        "                                                                 x0=start_point,\n",
        "                                                                 method=method,\n",
        "                                                                 jac = True,\n",
        "                                                                 bounds=self.parameter_range) for start_point in\n",
        "                                               start_points_arr)\n",
        "        x_best = np.array([res.x for res in opt])\n",
        "        f_best = np.array([np.atleast_1d(res.fun)[0] for res in opt])\n",
        "\n",
        "        self.x_best = x_best\n",
        "        self.f_best = f_best\n",
        "        self.best = x_best[np.argmin(f_best)]\n",
        "        self.start_points_arr = start_points_arr\n",
        "\n",
        "        return x_best, f_best\n",
        "    \n",
        "    def run(self, max_iter=10, init_evals=3, resume=False):\n",
        "        \n",
        "        if not resume:\n",
        "            self.init_evals = init_evals\n",
        "            self._firstRun(self.init_evals)\n",
        "            self.logger._printInit(self)\n",
        "        for iteration in range(max_iter):\n",
        "            self.d_optimizeAcq()\n",
        "            self.updateGP()\n",
        "            self.logger._printCurrent(self)\n",
        "\n",
        "    def acqfunc(self, xnew, n_start=n_start_AcqFunc):\n",
        "        new_mean, new_var = self.GP.predict(xnew, return_std=True)\n",
        "        new_std = np.sqrt(new_var + eps)\n",
        "        dm, ds = self.GP.AcqGrad(xnew)\n",
        "        f, df = self.A.d_eval(self.tau, new_mean, new_std, ds=ds, dm=dm)\n",
        "\n",
        "        return -f, -df * grad\n",
        "\n",
        "    def acqfunc_h(self, xnew, n_start=n_start_AcqFunc, eps=eps):\n",
        "        f = self.acqfunc(xnew)[0]\n",
        "        \n",
        "        new_mean_h, new_var_h = self.GP.predict(xnew + eps, return_std=True)\n",
        "        new_std_h = np.sqrt(new_var_h + eps)\n",
        "        dm_h, ds_h = self.GP.AcqGrad(xnew + eps)\n",
        "        f_h = self.A.d_eval(-self.tau, new_mean_h, new_std_h, ds=ds_h, dm=dm_h)[0]\n",
        "        \n",
        "        approx_grad = (-f_h - f)/eps\n",
        "        return approx_grad\n"
      ],
      "execution_count": 9,
      "outputs": []
    },
    {
      "cell_type": "code",
      "metadata": {
        "id": "qXIKGuXVGEg2"
      },
      "source": [
        "###Reproducible set-seeds:\n",
        "\n",
        "run_num_1 = 1\n",
        "run_num_2 = 2\n",
        "run_num_3 = 3\n",
        "run_num_4 = 4\n",
        "run_num_5 = 5\n",
        "run_num_6 = 6\n",
        "run_num_7 = 7\n",
        "run_num_8 = 8\n",
        "run_num_9 = 9\n",
        "run_num_10 = 10\n",
        "run_num_11 = 11\n",
        "run_num_12 = 12\n",
        "run_num_13 = 13\n",
        "run_num_14 = 14\n",
        "run_num_15 = 15\n",
        "run_num_16 = 16\n",
        "run_num_17 = 17\n",
        "run_num_18 = 18\n",
        "run_num_19 = 19\n",
        "run_num_20 = 20\n"
      ],
      "execution_count": 10,
      "outputs": []
    },
    {
      "cell_type": "code",
      "metadata": {
        "colab": {
          "base_uri": "https://localhost:8080/"
        },
        "id": "JEhagQmnTVIK",
        "outputId": "04fcb9ce-cf3b-4130-da6a-a05ce7f4b38e"
      },
      "source": [
        "start_approx = time.time()\n",
        "start_approx\n"
      ],
      "execution_count": 11,
      "outputs": [
        {
          "output_type": "execute_result",
          "data": {
            "text/plain": [
              "1629279602.8440895"
            ]
          },
          "metadata": {
            "tags": []
          },
          "execution_count": 11
        }
      ]
    },
    {
      "cell_type": "code",
      "metadata": {
        "colab": {
          "base_uri": "https://localhost:8080/"
        },
        "id": "aH0YSTXufD1v",
        "outputId": "1fadd226-b813-4b51-bea3-529a153c2e0c"
      },
      "source": [
        "### ESTIMATED GP EI GRADIENTS\n",
        "\n",
        "np.random.seed(run_num_1)\n",
        "surrogate_approx_1 = GaussianProcess(cov_func, optimize=opt)\n",
        "\n",
        "approx_1 = GPGO(surrogate_approx_1, Acquisition(util_grad_approx), objfunc, param)\n",
        "approx_1.run(init_evals=n_init, max_iter=iters)\n"
      ],
      "execution_count": 12,
      "outputs": [
        {
          "output_type": "stream",
          "text": [
            "Evaluation \t Proposed point \t  Current eval. \t Best eval.\n",
            "init   \t [-0.84969467  2.25612281]. \t  -20.33436270766351 \t -19.908403246996286\n",
            "init   \t [-5.1188288  -2.02411446]. \t  -33.07414982069084 \t -19.908403246996286\n",
            "init   \t [-3.61721968 -4.17445279]. \t  -53.347974723929894 \t -19.908403246996286\n",
            "init   \t [-3.21269544 -1.58145816]. \t  -39.218472310354045 \t -19.908403246996286\n",
            "init   \t [-1.05710106  0.39748336]. \t  -19.908403246996286 \t -19.908403246996286\n",
            "1      \t [ 5.12 -5.12]. \t  -57.849427451571785 \t -19.908403246996286\n",
            "2      \t [5.12 5.12]. \t  -57.849427451571785 \t -19.908403246996286\n",
            "3      \t [-5.12  5.12]. \t  -57.849427451571785 \t -19.908403246996286\n",
            "4      \t [ 4.14436454 -0.00562717]. \t  -21.021468411280992 \t -19.908403246996286\n",
            "5      \t [ 0.90453736 -3.67597578]. \t  -30.56174647213838 \t -19.908403246996286\n",
            "6      \t [1.14408866 5.12      ]. \t  -34.05943735904623 \t -19.908403246996286\n",
            "7      \t [-5.12        1.53252144]. \t  -51.06529057237367 \t -19.908403246996286\n",
            "8      \t [2.38165269 2.25031261]. \t  -38.116194699068366 \t -19.908403246996286\n",
            "9      \t [-1.92500688  5.12      ]. \t  -33.72010378814381 \t -19.908403246996286\n",
            "10     \t [ 1.44342922 -0.8583475 ]. \t  -25.901270823337516 \t -19.908403246996286\n",
            "11     \t [ 5.12       -2.21418283]. \t  -41.59580835606468 \t -19.908403246996286\n",
            "12     \t [5.12       2.19156504]. \t  -40.13803107224641 \t -19.908403246996286\n",
            "13     \t [-1.04126178 -5.12      ]. \t  -30.343128540457087 \t -19.908403246996286\n",
            "14     \t [ 2.495817 -5.12    ]. \t  -55.15036255666753 \t -19.908403246996286\n",
            "15     \t [-0.83442789 -2.1119796 ]. \t  \u001b[92m-12.472032567698271\u001b[0m \t -12.472032567698271\n",
            "16     \t [-2.94556588  2.81479221]. \t  -23.21912772665249 \t -12.472032567698271\n",
            "17     \t [ 2.86110468 -2.41116811]. \t  -36.054463425160016 \t -12.472032567698271\n",
            "18     \t [-5.12 -5.12]. \t  -57.849427451571785 \t -12.472032567698271\n",
            "19     \t [-2.86751477  0.63246584]. \t  -28.623555274481788 \t -12.472032567698271\n",
            "20     \t [0.65935445 0.95530994]. \t  -17.131484189258828 \t -12.472032567698271\n"
          ],
          "name": "stdout"
        }
      ]
    },
    {
      "cell_type": "code",
      "metadata": {
        "colab": {
          "base_uri": "https://localhost:8080/"
        },
        "id": "wTxsSZxFGBB5",
        "outputId": "3d4d33c9-fadb-4ca2-8022-f23e02716f86"
      },
      "source": [
        "### ESTIMATED GP EI GRADIENTS\n",
        "\n",
        "np.random.seed(run_num_2)\n",
        "surrogate_approx_2 = GaussianProcess(cov_func, optimize=opt)\n",
        "\n",
        "approx_2 = GPGO(surrogate_approx_2, Acquisition(util_grad_approx), objfunc, param)\n",
        "approx_2.run(init_evals=n_init, max_iter=iters)\n"
      ],
      "execution_count": 13,
      "outputs": [
        {
          "output_type": "stream",
          "text": [
            "Evaluation \t Proposed point \t  Current eval. \t Best eval.\n",
            "init   \t [-0.6554122  -4.85451539]. \t  -43.490296251903594 \t -18.964539418712707\n",
            "init   \t [ 0.50854377 -0.6622987 ]. \t  -35.91861667536101 \t -18.964539418712707\n",
            "init   \t [-0.81543371 -1.73737143]. \t  -20.479562046739524 \t -18.964539418712707\n",
            "init   \t [-3.02439799  1.2213347 ]. \t  -18.964539418712707 \t -18.964539418712707\n",
            "init   \t [-2.05153614 -2.3876887 ]. \t  -28.041315668371354 \t -18.964539418712707\n",
            "1      \t [5.12 5.12]. \t  -57.849427451571785 \t -18.964539418712707\n",
            "2      \t [ 5.12 -5.12]. \t  -57.849427451571785 \t -18.964539418712707\n",
            "3      \t [-0.09385176  5.12      ]. \t  -30.62237948828588 \t -18.964539418712707\n",
            "4      \t [5.12       0.07742125]. \t  -30.090737340815892 \t -18.964539418712707\n",
            "5      \t [-5.12  5.12]. \t  -57.849427451571785 \t -18.964539418712707\n",
            "6      \t [-5.12 -5.12]. \t  -57.849427451571785 \t -18.964539418712707\n",
            "7      \t [2.34189388 2.48319939]. \t  -47.05343956837548 \t -18.964539418712707\n",
            "8      \t [-5.12       -1.23373171]. \t  -39.42641991167889 \t -18.964539418712707\n",
            "9      \t [ 2.61411342 -2.99759227]. \t  -33.35812552791467 \t -18.964539418712707\n",
            "10     \t [-0.74543942  2.31208203]. \t  -29.990471773955868 \t -18.964539418712707\n",
            "11     \t [-5.12        2.08178927]. \t  -34.55020643103296 \t -18.964539418712707\n",
            "12     \t [-2.52725945  4.36068499]. \t  -61.66363741628898 \t -18.964539418712707\n",
            "13     \t [ 5.12       -2.32585987]. \t  -48.92231468233234 \t -18.964539418712707\n",
            "14     \t [2.36218141 5.12      ]. \t  -50.983860472041414 \t -18.964539418712707\n",
            "15     \t [5.12       2.42919667]. \t  -53.85237451500107 \t -18.964539418712707\n",
            "16     \t [ 2.01461056 -5.12      ]. \t  -33.025476858990146 \t -18.964539418712707\n",
            "17     \t [ 2.83816644 -0.24273295]. \t  -22.39702171163043 \t -18.964539418712707\n",
            "18     \t [-2.8042642 -5.12     ]. \t  -43.444766639140596 \t -18.964539418712707\n",
            "19     \t [-2.25650069 -0.20127923]. \t  -22.527017005249654 \t -18.964539418712707\n",
            "20     \t [-3.99951994 -2.95154699]. \t  -25.167682923559983 \t -18.964539418712707\n"
          ],
          "name": "stdout"
        }
      ]
    },
    {
      "cell_type": "code",
      "metadata": {
        "colab": {
          "base_uri": "https://localhost:8080/"
        },
        "id": "-dgzIrUIGCGT",
        "outputId": "14a19ebf-deed-434d-e94f-c07748285000"
      },
      "source": [
        "### ESTIMATED GP EI GRADIENTS\n",
        "\n",
        "np.random.seed(run_num_3)\n",
        "surrogate_approx_3 = GaussianProcess(cov_func, optimize=opt)\n",
        "\n",
        "approx_3 = GPGO(surrogate_approx_3, Acquisition(util_grad_approx), objfunc, param)\n",
        "approx_3.run(init_evals=n_init, max_iter=iters)\n"
      ],
      "execution_count": 14,
      "outputs": [
        {
          "output_type": "stream",
          "text": [
            "Evaluation \t Proposed point \t  Current eval. \t Best eval.\n",
            "init   \t [0.52017052 2.1314337 ]. \t  -27.953858411008774 \t -10.607662635789808\n",
            "init   \t [-2.14113547  0.11087468]. \t  -10.607662635789808 \t -10.607662635789808\n",
            "init   \t [4.02377681 4.05804123]. \t  -33.42749829480097 \t -10.607662635789808\n",
            "init   \t [-3.83400642 -2.99783293]. \t  -28.650953928965198 \t -10.607662635789808\n",
            "init   \t [-4.59297584 -0.6061072 ]. \t  -57.6631355589384 \t -10.607662635789808\n",
            "1      \t [ 5.12 -5.12]. \t  -57.849427451571785 \t -10.607662635789808\n",
            "2      \t [-5.12  5.12]. \t  -57.849427451571785 \t -10.607662635789808\n",
            "3      \t [ 0.29058652 -5.12      ]. \t  -41.531730491109414 \t -10.607662635789808\n",
            "4      \t [ 5.12       -0.40159497]. \t  -47.23465990242375 \t -10.607662635789808\n",
            "5      \t [ 1.34926676 -1.51099296]. \t  -39.92029433036741 \t -10.607662635789808\n",
            "6      \t [-1.23870341  5.12      ]. \t  -39.74990992200105 \t -10.607662635789808\n",
            "7      \t [-3.18894141  2.50496675]. \t  -42.69633104507217 \t -10.607662635789808\n",
            "8      \t [-5.12 -5.12]. \t  -57.849427451571785 \t -10.607662635789808\n",
            "9      \t [1.57482567 5.12      ]. \t  -50.319822241391805 \t -10.607662635789808\n",
            "10     \t [-1.29118604 -2.45786364]. \t  -39.918841952151645 \t -10.607662635789808\n",
            "11     \t [2.99709432 1.3850341 ]. \t  -28.405087646262942 \t -10.607662635789808\n",
            "12     \t [ 2.85580978 -3.62581611]. \t  -42.167714195843985 \t -10.607662635789808\n",
            "13     \t [-2.30601269 -5.12      ]. \t  -47.689585725068994 \t -10.607662635789808\n",
            "14     \t [5.12       2.19425441]. \t  -40.30804730641291 \t -10.607662635789808\n",
            "15     \t [-0.65816312  0.23394885]. \t  -24.93645297356877 \t -10.607662635789808\n",
            "16     \t [-5.12        2.00549937]. \t  -32.95271062624369 \t -10.607662635789808\n",
            "17     \t [ 5.12      -2.6409384]. \t  -52.227968205520575 \t -10.607662635789808\n",
            "18     \t [5.12 5.12]. \t  -57.849427451571785 \t -10.607662635789808\n",
            "19     \t [-1.0927624   2.88659271]. \t  -13.610623206429532 \t -10.607662635789808\n",
            "20     \t [-3.03930389  5.12      ]. \t  -38.465465721764886 \t -10.607662635789808\n"
          ],
          "name": "stdout"
        }
      ]
    },
    {
      "cell_type": "code",
      "metadata": {
        "colab": {
          "base_uri": "https://localhost:8080/"
        },
        "id": "hOtG-2sCGCKS",
        "outputId": "769a7076-211c-484f-d40d-f77bfb5ccdd1"
      },
      "source": [
        "### ESTIMATED GP EI GRADIENTS\n",
        "\n",
        "np.random.seed(run_num_4)\n",
        "surrogate_approx_4 = GaussianProcess(cov_func, optimize=opt)\n",
        "\n",
        "approx_4 = GPGO(surrogate_approx_4, Acquisition(util_grad_approx), objfunc, param)\n",
        "approx_4.run(init_evals=n_init, max_iter=iters)\n"
      ],
      "execution_count": 15,
      "outputs": [
        {
          "output_type": "stream",
          "text": [
            "Evaluation \t Proposed point \t  Current eval. \t Best eval.\n",
            "init   \t [4.78238555 0.48365823]. \t  -51.03163809010808 \t -14.323038259018315\n",
            "init   \t [4.84028785 2.19971578]. \t  -39.78645699016559 \t -14.323038259018315\n",
            "init   \t [ 2.02474316 -2.90724357]. \t  -14.323038259018315 \t -14.323038259018315\n",
            "init   \t [ 4.87705042 -5.05620219]. \t  -52.80627247106233 \t -14.323038259018315\n",
            "init   \t [-2.52946061 -0.66773471]. \t  -41.61497868486559 \t -14.323038259018315\n",
            "1      \t [-5.12  5.12]. \t  -57.849427451571785 \t -14.323038259018315\n",
            "2      \t [0.36040841 5.12      ]. \t  -45.44859926058701 \t -14.323038259018315\n",
            "3      \t [-5.12 -5.12]. \t  -57.849427451571785 \t -14.323038259018315\n",
            "4      \t [-0.95955594 -5.12      ]. \t  -30.166606192601527 \t -14.323038259018315\n",
            "5      \t [0.85383826 1.14532953]. \t  \u001b[92m-9.856891235727582\u001b[0m \t -9.856891235727582\n",
            "6      \t [-5.12        1.50098216]. \t  -51.17747076414409 \t -9.856891235727582\n",
            "7      \t [3.91416534 5.12      ]. \t  -45.66479784828887 \t -9.856891235727582\n",
            "8      \t [-1.9785673   2.82544573]. \t  -17.423568731164455 \t -9.856891235727582\n",
            "9      \t [-5.12       -1.96263023]. \t  -33.05102503274147 \t -9.856891235727582\n",
            "10     \t [ 0.30793382 -1.28261887]. \t  -27.335353766193386 \t -9.856891235727582\n",
            "11     \t [ 5.12      -2.2531874]. \t  -44.201824125923935 \t -9.856891235727582\n",
            "12     \t [ 1.82466825 -5.12      ]. \t  -37.73280560268178 \t -9.856891235727582\n",
            "13     \t [2.02595061 2.72645231]. \t  -23.14480719730869 \t -9.856891235727582\n",
            "14     \t [-2.35560543  5.12      ]. \t  -50.63267437342252 \t -9.856891235727582\n",
            "15     \t [-2.64736472 -3.36997513]. \t  -51.2206014786411 \t -9.856891235727582\n",
            "16     \t [ 2.44506428 -0.45937645]. \t  -45.275554911690634 \t -9.856891235727582\n",
            "17     \t [-0.59688998  1.36720899]. \t  -37.1456044502214 \t -9.856891235727582\n",
            "18     \t [ 0.07186359 -3.22172625]. \t  -19.61972628253676 \t -9.856891235727582\n",
            "19     \t [-3.38761896  2.82456281]. \t  -42.547616871449435 \t -9.856891235727582\n",
            "20     \t [ 3.0553742  -3.08867166]. \t  -20.986680782269925 \t -9.856891235727582\n"
          ],
          "name": "stdout"
        }
      ]
    },
    {
      "cell_type": "code",
      "metadata": {
        "colab": {
          "base_uri": "https://localhost:8080/"
        },
        "id": "JF_SxcEvGCOl",
        "outputId": "fce83a4c-2008-4d2c-95f0-8668482f0f51"
      },
      "source": [
        "### ESTIMATED GP EI GRADIENTS\n",
        "\n",
        "np.random.seed(run_num_5)\n",
        "surrogate_approx_5 = GaussianProcess(cov_func, optimize=opt)\n",
        "\n",
        "approx_5 = GPGO(surrogate_approx_5, Acquisition(util_grad_approx), objfunc, param)\n",
        "approx_5.run(init_evals=n_init, max_iter=iters)\n"
      ],
      "execution_count": 16,
      "outputs": [
        {
          "output_type": "stream",
          "text": [
            "Evaluation \t Proposed point \t  Current eval. \t Best eval.\n",
            "init   \t [-2.84678993  3.79629882]. \t  -33.93442008827236 \t -7.8108627039749745\n",
            "init   \t [-3.00319585  4.2865757 ]. \t  -39.673876075575784 \t -7.8108627039749745\n",
            "init   \t [-0.11866943  1.14425716]. \t  -7.8108627039749745 \t -7.8108627039749745\n",
            "init   \t [2.72289645 0.1886002 ]. \t  -25.38160395721669 \t -7.8108627039749745\n",
            "init   \t [-2.08076286 -3.19773462]. \t  -22.589982116319675 \t -7.8108627039749745\n",
            "1      \t [ 5.12 -5.12]. \t  -57.849427451571785 \t -7.8108627039749745\n",
            "2      \t [5.12 5.12]. \t  -57.849427451571785 \t -7.8108627039749745\n",
            "3      \t [-5.12       -0.04630553]. \t  -29.34712917841543 \t -7.8108627039749745\n",
            "4      \t [1.00367564 5.12      ]. \t  -29.934745246375115 \t -7.8108627039749745\n",
            "5      \t [-5.12 -5.12]. \t  -57.849427451571785 \t -7.8108627039749745\n",
            "6      \t [ 1.09960658 -5.12      ]. \t  -32.02917361927805 \t -7.8108627039749745\n",
            "7      \t [ 5.12       -1.64920241]. \t  -47.562903928514835 \t -7.8108627039749745\n",
            "8      \t [5.12       1.86221319]. \t  -35.911784866528144 \t -7.8108627039749745\n",
            "9      \t [ 0.60373748 -1.88128451]. \t  -24.50895436813786 \t -7.8108627039749745\n",
            "10     \t [-2.19546384  0.01761772]. \t  -11.52163286653667 \t -7.8108627039749745\n",
            "11     \t [2.18624659 2.78752583]. \t  -26.314468334677066 \t -7.8108627039749745\n",
            "12     \t [-5.12        2.61662352]. \t  -53.20469431514221 \t -7.8108627039749745\n",
            "13     \t [-5.12       -2.41197079]. \t  -53.251297452232095 \t -7.8108627039749745\n",
            "14     \t [ 2.81735734 -3.13556692]. \t  -27.075952033869953 \t -7.8108627039749745\n",
            "15     \t [-1.68829697 -5.12      ]. \t  -45.555583369738955 \t -7.8108627039749745\n",
            "16     \t [-0.55454463  2.77887495]. \t  -35.64379646494397 \t -7.8108627039749745\n",
            "17     \t [-5.12  5.12]. \t  -57.849427451571785 \t -7.8108627039749745\n",
            "18     \t [-0.05287257  0.20248114]. \t  \u001b[92m-7.6490134469723685\u001b[0m \t -7.6490134469723685\n",
            "19     \t [-2.75503539  1.29648775]. \t  -31.8343249293343 \t -7.6490134469723685\n",
            "20     \t [-1.91691125 -1.19956819]. \t  -13.329623151978797 \t -7.6490134469723685\n"
          ],
          "name": "stdout"
        }
      ]
    },
    {
      "cell_type": "code",
      "metadata": {
        "colab": {
          "base_uri": "https://localhost:8080/"
        },
        "id": "-kDxZtJsGCR3",
        "outputId": "f3437bc6-cd0b-45c7-dd3d-814d1b1f1842"
      },
      "source": [
        "### ESTIMATED GP EI GRADIENTS\n",
        "\n",
        "np.random.seed(run_num_6)\n",
        "surrogate_approx_6 = GaussianProcess(cov_func, optimize=opt)\n",
        "\n",
        "approx_6 = GPGO(surrogate_approx_6, Acquisition(util_grad_approx), objfunc, param)\n",
        "approx_6.run(init_evals=n_init, max_iter=iters)\n"
      ],
      "execution_count": 17,
      "outputs": [
        {
          "output_type": "stream",
          "text": [
            "Evaluation \t Proposed point \t  Current eval. \t Best eval.\n",
            "init   \t [ 4.02288795 -1.72052679]. \t  -31.08835710146886 \t -17.28954482757088\n",
            "init   \t [ 3.28938622 -4.69302655]. \t  -58.797867722203385 \t -17.28954482757088\n",
            "init   \t [-4.0175956   0.97333314]. \t  -17.28954482757088 \t -17.28954482757088\n",
            "init   \t [ 0.30532979 -0.83141193]. \t  -19.296253155889353 \t -17.28954482757088\n",
            "init   \t [-1.68542362  1.25459899]. \t  -28.650630936276173 \t -17.28954482757088\n",
            "1      \t [5.12 5.12]. \t  -57.849427451571785 \t -17.28954482757088\n",
            "2      \t [-4.83496274 -5.12      ]. \t  -57.21317932538919 \t -17.28954482757088\n",
            "3      \t [-5.12  5.12]. \t  -57.849427451571785 \t -17.28954482757088\n",
            "4      \t [0.39537975 5.12      ]. \t  -46.997190601467736 \t -17.28954482757088\n",
            "5      \t [-0.76672355 -5.12      ]. \t  -38.46373950913987 \t -17.28954482757088\n",
            "6      \t [2.84227155 1.91251786]. \t  -17.731018693618715 \t -17.28954482757088\n",
            "7      \t [-2.93733582 -2.12046024]. \t  \u001b[92m-16.61959010715603\u001b[0m \t -16.61959010715603\n",
            "8      \t [5.12       1.12270975]. \t  -33.013105721990755 \t -16.61959010715603\n",
            "9      \t [-5.12       -1.49037628]. \t  -51.127659055493346 \t -16.61959010715603\n",
            "10     \t [-2.34799559  4.0390988 ]. \t  -37.90314509322524 \t -16.61959010715603\n",
            "11     \t [ 0.9685314  -2.98176844]. \t  \u001b[92m-10.089371496466573\u001b[0m \t -10.089371496466573\n",
            "12     \t [0.64484531 2.21179159]. \t  -29.06688343548177 \t -10.089371496466573\n",
            "13     \t [-5.12        2.42517762]. \t  -53.721326410135255 \t -10.089371496466573\n",
            "14     \t [2.74689379 4.13821319]. \t  -38.40505001294136 \t -10.089371496466573\n",
            "15     \t [ 2.28528606 -0.11338293]. \t  -19.86644345320579 \t -10.089371496466573\n",
            "16     \t [-1.08449465 -2.5365513 ]. \t  -28.724123029467123 \t -10.089371496466573\n",
            "17     \t [ 5.12       -3.46067913]. \t  -60.5973690576684 \t -10.089371496466573\n",
            "18     \t [ 1.80215005 -2.45052388]. \t  -35.55513364164354 \t -10.089371496466573\n",
            "19     \t [-2.81092547 -4.00805478]. \t  -30.243360569695188 \t -10.089371496466573\n",
            "20     \t [-2.51078787 -0.57245277]. \t  -45.590375588107314 \t -10.089371496466573\n"
          ],
          "name": "stdout"
        }
      ]
    },
    {
      "cell_type": "code",
      "metadata": {
        "colab": {
          "base_uri": "https://localhost:8080/"
        },
        "id": "fKB8MCD_GCVI",
        "outputId": "276cee1d-c80b-4605-b6dd-b238ed2d12d3"
      },
      "source": [
        "### ESTIMATED GP EI GRADIENTS\n",
        "\n",
        "np.random.seed(run_num_7)\n",
        "surrogate_approx_7 = GaussianProcess(cov_func, optimize=opt)\n",
        "\n",
        "approx_7 = GPGO(surrogate_approx_7, Acquisition(util_grad_approx), objfunc, param)\n",
        "approx_7.run(init_evals=n_init, max_iter=iters)\n"
      ],
      "execution_count": 18,
      "outputs": [
        {
          "output_type": "stream",
          "text": [
            "Evaluation \t Proposed point \t  Current eval. \t Best eval.\n",
            "init   \t [-4.33860312  2.86636843]. \t  -45.646133072936244 \t -22.52235437888213\n",
            "init   \t [-0.63068947  2.28828342]. \t  -34.83012662845338 \t -22.52235437888213\n",
            "init   \t [4.8946126  0.39419771]. \t  -44.09657005662876 \t -22.52235437888213\n",
            "init   \t [ 0.01147355 -4.38219639]. \t  -36.613209822404315 \t -22.52235437888213\n",
            "init   \t [-2.37118484e+00 -1.20319155e-03]. \t  -22.52235437888213 \t -22.52235437888213\n",
            "1      \t [-5.12 -5.12]. \t  -57.849427451571785 \t -22.52235437888213\n",
            "2      \t [ 5.12 -5.12]. \t  -57.849427451571785 \t -22.52235437888213\n",
            "3      \t [3.59739669 5.12      ]. \t  -60.05120463923109 \t -22.52235437888213\n",
            "4      \t [ 1.41112868 -0.96393528]. \t  \u001b[92m-21.657165478950468\u001b[0m \t -21.657165478950468\n",
            "5      \t [-5.12       -1.46589911]. \t  -50.84490930413446 \t -21.657165478950468\n",
            "6      \t [-1.80753104  5.12      ]. \t  -38.655309625327945 \t -21.657165478950468\n",
            "7      \t [2.33785804 2.13340309]. \t  -28.573094433316356 \t -21.657165478950468\n",
            "8      \t [ 3.58916393 -2.53684788]. \t  -57.522188262653614 \t -21.657165478950468\n",
            "9      \t [-2.48043673 -3.05376149]. \t  -35.96769222134215 \t -21.657165478950468\n",
            "10     \t [0.80995522 5.12      ]. \t  -35.902112011377625 \t -21.657165478950468\n",
            "11     \t [-5.12  5.12]. \t  -57.8494274515718 \t -21.657165478950468\n",
            "12     \t [5.12       2.99248418]. \t  -37.89082341791584 \t -21.657165478950468\n",
            "13     \t [ 2.32601071 -5.12      ]. \t  -48.93143564198441 \t -21.657165478950468\n",
            "14     \t [-0.55082996 -1.43388006]. \t  -41.00311989601389 \t -21.657165478950468\n",
            "15     \t [-2.34099077 -5.12      ]. \t  -49.815676500557025 \t -21.657165478950468\n",
            "16     \t [-5.12        0.84038443]. \t  -34.2523131162538 \t -21.657165478950468\n",
            "17     \t [0.85097494 0.69471686]. \t  \u001b[92m-18.683601659275595\u001b[0m \t -18.683601659275595\n",
            "18     \t [2.76182342e+00 1.62731562e-03]. \t  \u001b[92m-16.88598953939842\u001b[0m \t -16.88598953939842\n",
            "19     \t [-2.52420025  1.81675733]. \t  -35.48424380045234 \t -16.88598953939842\n",
            "20     \t [ 1.26275904 -2.76486912]. \t  -29.106981160028443 \t -16.88598953939842\n"
          ],
          "name": "stdout"
        }
      ]
    },
    {
      "cell_type": "code",
      "metadata": {
        "colab": {
          "base_uri": "https://localhost:8080/"
        },
        "id": "4unvifF-GCXp",
        "outputId": "4ccbdd27-e340-45aa-8a7d-dd2ed03db7d0"
      },
      "source": [
        "### ESTIMATED GP EI GRADIENTS\n",
        "\n",
        "np.random.seed(run_num_8)\n",
        "surrogate_approx_8 = GaussianProcess(cov_func, optimize=opt)\n",
        "\n",
        "approx_8 = GPGO(surrogate_approx_8, Acquisition(util_grad_approx), objfunc, param)\n",
        "approx_8.run(init_evals=n_init, max_iter=iters)\n"
      ],
      "execution_count": 19,
      "outputs": [
        {
          "output_type": "stream",
          "text": [
            "Evaluation \t Proposed point \t  Current eval. \t Best eval.\n",
            "init   \t [3.82391708 4.79785639]. \t  -50.20079446939181 \t -13.871821018360485\n",
            "init   \t [3.78055209 0.31596228]. \t  -36.5114251593508 \t -13.871821018360485\n",
            "init   \t [-2.73686192 -5.00327624]. \t  -43.34985765011677 \t -13.871821018360485\n",
            "init   \t [-0.7119993  -0.99992207]. \t  -13.871821018360485 \t -13.871821018360485\n",
            "init   \t [ 0.23218863 -0.22126801]. \t  -17.190590355445654 \t -13.871821018360485\n",
            "1      \t [-5.12  5.12]. \t  -57.849427451571785 \t -13.871821018360485\n",
            "2      \t [ 5.12 -5.12]. \t  -57.849427451571785 \t -13.871821018360485\n",
            "3      \t [-5.12       -0.06242896]. \t  -29.688108487892283 \t -13.871821018360485\n",
            "4      \t [-0.66933007  4.17617456]. \t  -38.268791016751 \t -13.871821018360485\n",
            "5      \t [ 1.1839806  -4.40960853]. \t  -45.24635181965112 \t -13.871821018360485\n",
            "6      \t [-2.62602926  1.70391172]. \t  -39.68004517161082 \t -13.871821018360485\n",
            "7      \t [-5.12      -3.1295391]. \t  -41.852175967908025 \t -13.871821018360485\n",
            "8      \t [1.62768714 2.34329026]. \t  -40.62271504061769 \t -13.871821018360485\n",
            "9      \t [ 5.12     -2.111193]. \t  -35.72471352565967 \t -13.871821018360485\n",
            "10     \t [-2.59386882 -1.8380546 ]. \t  -33.1624807774898 \t -13.871821018360485\n",
            "11     \t [5.12       2.44906925]. \t  -54.41498505416354 \t -13.871821018360485\n",
            "12     \t [ 2.13260867 -1.86114711]. \t  -14.857206142266792 \t -13.871821018360485\n",
            "13     \t [-5.12        2.43375741]. \t  -53.99414881080518 \t -13.871821018360485\n",
            "14     \t [1.38469941 5.12      ]. \t  -48.33071356264601 \t -13.871821018360485\n",
            "15     \t [-2.63534835  5.12      ]. \t  -52.46645952667072 \t -13.871821018360485\n",
            "16     \t [-0.67851125 -3.04210305]. \t  -24.40488687280375 \t -13.871821018360485\n",
            "17     \t [-5.12 -5.12]. \t  -57.849427451571785 \t -13.871821018360485\n",
            "18     \t [ 3.23550706 -3.37196817]. \t  -47.864407467592976 \t -13.871821018360485\n",
            "19     \t [-0.47232632  1.43373965]. \t  -41.273721383778096 \t -13.871821018360485\n",
            "20     \t [ 1.66324715 -0.59534289]. \t  -36.56440218162068 \t -13.871821018360485\n"
          ],
          "name": "stdout"
        }
      ]
    },
    {
      "cell_type": "code",
      "metadata": {
        "colab": {
          "base_uri": "https://localhost:8080/"
        },
        "id": "85OIXcg7GCaJ",
        "outputId": "d1dac492-2eaa-4f73-94a4-7b17ad7549de"
      },
      "source": [
        "### ESTIMATED GP EI GRADIENTS\n",
        "\n",
        "np.random.seed(run_num_9)\n",
        "surrogate_approx_9 = GaussianProcess(cov_func, optimize=opt)\n",
        "\n",
        "approx_9 = GPGO(surrogate_approx_9, Acquisition(util_grad_approx), objfunc, param)\n",
        "approx_9.run(init_evals=n_init, max_iter=iters)\n"
      ],
      "execution_count": 20,
      "outputs": [
        {
          "output_type": "stream",
          "text": [
            "Evaluation \t Proposed point \t  Current eval. \t Best eval.\n",
            "init   \t [-5.01376866  0.01919582]. \t  -25.248289026162446 \t -24.454800313488693\n",
            "init   \t [-0.04328148 -3.74958562]. \t  -24.454800313488693 \t -24.454800313488693\n",
            "init   \t [-3.66478248 -2.88195916]. \t  -39.46509426509438 \t -24.454800313488693\n",
            "init   \t [-0.83447623 -2.57944404]. \t  -31.06766397812992 \t -24.454800313488693\n",
            "init   \t [-4.25922917 -1.58209393]. \t  -49.922543556206975 \t -24.454800313488693\n",
            "1      \t [3.51080105 5.12      ]. \t  -61.22741827329939 \t -24.454800313488693\n",
            "2      \t [ 4.97700533 -1.02611641]. \t  -26.06202024938157 \t -24.454800313488693\n",
            "3      \t [-2.52403041  5.12      ]. \t  -55.18167347624602 \t -24.454800313488693\n",
            "4      \t [0.61751971 1.54839588]. \t  -39.71556524383652 \t -24.454800313488693\n",
            "5      \t [ 4.2427189 -5.12     ]. \t  -56.468051987276 \t -24.454800313488693\n",
            "6      \t [5.12       2.12548252]. \t  -36.39279201650744 \t -24.454800313488693\n",
            "7      \t [-5.12        3.12506535]. \t  -41.62258355309121 \t -24.454800313488693\n",
            "8      \t [ 2.10287467 -1.47886137]. \t  -28.53834962156197 \t -24.454800313488693\n",
            "9      \t [-5.12 -5.12]. \t  -57.849427451571785 \t -24.454800313488693\n",
            "10     \t [-2.36275482  1.37428892]. \t  -41.0173319424346 \t -24.454800313488693\n",
            "11     \t [0.47303229 5.12      ]. \t  -49.005261506506486 \t -24.454800313488693\n",
            "12     \t [-2.04427685 -5.12      ]. \t  -33.48826741638594 \t -24.454800313488693\n",
            "13     \t [ 1.51205998 -5.12      ]. \t  -51.18234352935599 \t -24.454800313488693\n",
            "14     \t [3.02469045 0.93500646]. \t  \u001b[92m-10.965374527767734\u001b[0m \t -10.965374527767734\n",
            "15     \t [-0.72458289 -0.51303365]. \t  -32.34493493437702 \t -10.965374527767734\n",
            "16     \t [-5.12  5.12]. \t  -57.849427451571785 \t -10.965374527767734\n",
            "17     \t [ 5.12       -2.94884462]. \t  -38.13251660495474 \t -10.965374527767734\n",
            "18     \t [2.58458053 2.76478723]. \t  -42.017138665638434 \t -10.965374527767734\n",
            "19     \t [-1.00108305  3.18957388]. \t  -17.469654333241053 \t -10.965374527767734\n",
            "20     \t [3.35971123 0.24880194]. \t  -37.634535317638246 \t -10.965374527767734\n"
          ],
          "name": "stdout"
        }
      ]
    },
    {
      "cell_type": "code",
      "metadata": {
        "colab": {
          "base_uri": "https://localhost:8080/"
        },
        "id": "QQBR-qJPGCcp",
        "outputId": "97b44442-545e-431f-e943-6669e39965a5"
      },
      "source": [
        "### ESTIMATED GP EI GRADIENTS\n",
        "\n",
        "np.random.seed(run_num_10)\n",
        "surrogate_approx_10 = GaussianProcess(cov_func, optimize=opt)\n",
        "\n",
        "approx_10 = GPGO(surrogate_approx_10, Acquisition(util_grad_approx), objfunc, param)\n",
        "approx_10.run(init_evals=n_init, max_iter=iters)\n"
      ],
      "execution_count": 21,
      "outputs": [
        {
          "output_type": "stream",
          "text": [
            "Evaluation \t Proposed point \t  Current eval. \t Best eval.\n",
            "init   \t [ 2.77832339 -4.90750004]. \t  -41.674330194390116 \t -13.839458310244165\n",
            "init   \t [1.36855793 2.54775176]. \t  -44.69639719065837 \t -13.839458310244165\n",
            "init   \t [-0.01528819 -2.81808235]. \t  -13.839458310244165 \t -13.839458310244165\n",
            "init   \t [-3.09183626  2.66783449]. \t  -33.23221510904937 \t -13.839458310244165\n",
            "init   \t [-3.38830503 -4.2154003 ]. \t  -54.73014366983691 \t -13.839458310244165\n",
            "1      \t [ 5.12      -0.5682251]. \t  -48.34278335032869 \t -13.839458310244165\n",
            "2      \t [5.12 5.12]. \t  -57.849427451571785 \t -13.839458310244165\n",
            "3      \t [-5.12       -0.60617675]. \t  -47.14818167122235 \t -13.839458310244165\n",
            "4      \t [-5.12  5.12]. \t  -57.849427451571785 \t -13.839458310244165\n",
            "5      \t [-0.8379435  5.12     ]. \t  -34.378138143812066 \t -13.839458310244165\n",
            "6      \t [-1.23131113 -0.10568775]. \t  \u001b[92m-12.480746380355079\u001b[0m \t -12.480746380355079\n",
            "7      \t [ 2.00292574 -0.37934979]. \t  -21.41896664552759 \t -12.480746380355079\n",
            "8      \t [-0.38439185 -5.12      ]. \t  -46.548257325985105 \t -12.480746380355079\n",
            "9      \t [ 5.12       -3.59828261]. \t  -60.02547526453966 \t -12.480746380355079\n",
            "10     \t [4.57050405 2.23720805]. \t  -54.12647113202378 \t -12.480746380355079\n",
            "11     \t [2.14162684 5.12      ]. \t  -37.21613079039564 \t -12.480746380355079\n",
            "12     \t [-2.40379207 -1.6441248 ]. \t  -42.8816993237165 \t -12.480746380355079\n",
            "13     \t [-5.12        2.04202706]. \t  -33.44121548192435 \t -12.480746380355079\n",
            "14     \t [ 2.21713263 -2.45296822]. \t  -38.44879899011462 \t -12.480746380355079\n",
            "15     \t [-0.9466073  1.5704207]. \t  -22.956734240607865 \t -12.480746380355079\n",
            "16     \t [-5.12 -5.12]. \t  -57.849427451571785 \t -12.480746380355079\n",
            "17     \t [ 0.07816176 -0.6834172 ]. \t  -15.717596556880348 \t -12.480746380355079\n",
            "18     \t [-2.80733215  5.12      ]. \t  -43.28094675730979 \t -12.480746380355079\n",
            "19     \t [-2.88970169  0.57134913]. \t  -29.995497270452663 \t -12.480746380355079\n",
            "20     \t [-5.12      -2.6720571]. \t  -50.768476582354886 \t -12.480746380355079\n"
          ],
          "name": "stdout"
        }
      ]
    },
    {
      "cell_type": "code",
      "metadata": {
        "colab": {
          "base_uri": "https://localhost:8080/"
        },
        "id": "JS8ejeQ2GCfi",
        "outputId": "c81076e9-106b-4ae3-90e8-4ac30c6fae64"
      },
      "source": [
        "### ESTIMATED GP EI GRADIENTS\n",
        "\n",
        "np.random.seed(run_num_11)\n",
        "surrogate_approx_11 = GaussianProcess(cov_func, optimize=opt)\n",
        "\n",
        "approx_11 = GPGO(surrogate_approx_11, Acquisition(util_grad_approx), objfunc, param)\n",
        "approx_11.run(init_evals=n_init, max_iter=iters)\n"
      ],
      "execution_count": 22,
      "outputs": [
        {
          "output_type": "stream",
          "text": [
            "Evaluation \t Proposed point \t  Current eval. \t Best eval.\n",
            "init   \t [-3.27403839 -4.92057353]. \t  -47.655641290890955 \t -10.679755252484755\n",
            "init   \t [-0.37664229  2.30332343]. \t  -35.87889240695259 \t -10.679755252484755\n",
            "init   \t [-0.81711509 -0.14922651]. \t  -10.679755252484755 \t -10.679755252484755\n",
            "init   \t [-4.98912446 -0.12931474]. \t  -28.05462905574235 \t -10.679755252484755\n",
            "init   \t [4.52410012 3.59214172]. \t  -71.62694632141611 \t -10.679755252484755\n",
            "1      \t [ 5.12       -4.19757348]. \t  -53.309530921692996 \t -10.679755252484755\n",
            "2      \t [-5.12  5.12]. \t  -57.849427451571785 \t -10.679755252484755\n",
            "3      \t [ 0.96012019 -5.12      ]. \t  -30.15883754762058 \t -10.679755252484755\n",
            "4      \t [ 3.08643828 -0.51789495]. \t  -31.170104877741366 \t -10.679755252484755\n",
            "5      \t [1.20979293 5.12      ]. \t  -37.888814093608474 \t -10.679755252484755\n",
            "6      \t [-1.93526615  5.12      ]. \t  -33.48579392674555 \t -10.679755252484755\n",
            "7      \t [-0.89792848 -2.64272   ]. \t  -26.018894786903587 \t -10.679755252484755\n",
            "8      \t [-3.4830931   2.27188446]. \t  -48.607738550470664 \t -10.679755252484755\n",
            "9      \t [-5.12       -2.81628559]. \t  -42.81069741853823 \t -10.679755252484755\n",
            "10     \t [5.12      0.6503182]. \t  -45.20929354866007 \t -10.679755252484755\n",
            "11     \t [ 2.21431934 -2.88804458]. \t  -23.394624654774354 \t -10.679755252484755\n",
            "12     \t [2.11111433 1.90834962]. \t  -12.05102427590678 \t -10.679755252484755\n",
            "13     \t [-2.69537145 -0.92832216]. \t  -22.489338055326584 \t -10.679755252484755\n",
            "14     \t [ 0.73157855 -0.4668894 ]. \t  -31.692439990512668 \t -10.679755252484755\n",
            "15     \t [ 5.12       -1.79840595]. \t  -39.16421618643328 \t -10.679755252484755\n",
            "16     \t [ 3.03776991 -5.12      ]. \t  -38.433033436284795 \t -10.679755252484755\n",
            "17     \t [-1.00816207 -5.12      ]. \t  -29.954251731609475 \t -10.679755252484755\n",
            "18     \t [-5.12 -5.12]. \t  -57.849427451571785 \t -10.679755252484755\n",
            "19     \t [1.95067909 2.97127228]. \t  -13.272406355275303 \t -10.679755252484755\n",
            "20     \t [-1.6722066   0.52361912]. \t  -37.65611843816105 \t -10.679755252484755\n"
          ],
          "name": "stdout"
        }
      ]
    },
    {
      "cell_type": "code",
      "metadata": {
        "colab": {
          "base_uri": "https://localhost:8080/"
        },
        "id": "DXwjUVZ4GCii",
        "outputId": "68a9d14c-895a-42a9-bfb6-e48971d5daa9"
      },
      "source": [
        "### ESTIMATED GP EI GRADIENTS\n",
        "\n",
        "np.random.seed(run_num_12)\n",
        "surrogate_approx_12 = GaussianProcess(cov_func, optimize=opt)\n",
        "\n",
        "approx_12 = GPGO(surrogate_approx_12, Acquisition(util_grad_approx), objfunc, param)\n",
        "approx_12.run(init_evals=n_init, max_iter=iters)\n"
      ],
      "execution_count": 23,
      "outputs": [
        {
          "output_type": "stream",
          "text": [
            "Evaluation \t Proposed point \t  Current eval. \t Best eval.\n",
            "init   \t [-3.54137249  2.45810889]. \t  -57.903242869085595 \t -40.51116653209555\n",
            "init   \t [-2.42365424  0.34549139]. \t  -40.51116653209555 \t -40.51116653209555\n",
            "init   \t [-4.97075238  4.28796936]. \t  -55.62655915398208 \t -40.51116653209555\n",
            "init   \t [ 4.10332011 -4.77776458]. \t  -49.962803461970296 \t -40.51116653209555\n",
            "init   \t [ 4.6791612  -3.71497655]. \t  -62.183891474990624 \t -40.51116653209555\n",
            "1      \t [5.12 5.12]. \t  -57.849427451571785 \t -40.51116653209555\n",
            "2      \t [-5.12 -5.12]. \t  -57.849427451571785 \t -40.51116653209555\n",
            "3      \t [2.51309592 0.83213308]. \t  \u001b[92m-32.03971426626734\u001b[0m \t -32.03971426626734\n",
            "4      \t [0.33253154 5.12      ]. \t  -43.991598753921245 \t -32.03971426626734\n",
            "5      \t [-0.48618694 -4.11927945]. \t  -39.846598671493474 \t -32.03971426626734\n",
            "6      \t [-5.12       -1.54443991]. \t  -50.92270382455786 \t -32.03971426626734\n",
            "7      \t [ 5.12       -0.37881497]. \t  -46.30672922060628 \t -32.03971426626734\n",
            "8      \t [ 1.63812548 -1.9816146 ]. \t  \u001b[92m-23.141446916470205\u001b[0m \t -23.141446916470205\n",
            "9      \t [-0.04356885  2.14282559]. \t  \u001b[92m-8.729516183363952\u001b[0m \t -8.729516183363952\n",
            "10     \t [2.70818235 3.4913327 ]. \t  -52.10618312240411 \t -8.729516183363952\n",
            "11     \t [-2.63746706 -2.72194224]. \t  -42.61505981707079 \t -8.729516183363952\n",
            "12     \t [-2.28788975  5.12      ]. \t  -46.51741172574315 \t -8.729516183363952\n",
            "13     \t [5.12       2.25424055]. \t  -44.27272450222781 \t -8.729516183363952\n",
            "14     \t [ 0.0037311 -0.3262923]. \t  -14.721330502388067 \t -8.729516183363952\n",
            "15     \t [ 1.66611538 -5.12      ]. \t  -46.73062167571054 \t -8.729516183363952\n",
            "16     \t [-2.54732531 -5.12      ]. \t  -54.97473172846729 \t -8.729516183363952\n",
            "17     \t [-5.12        0.84440909]. \t  -34.047653349556896 \t -8.729516183363952\n",
            "18     \t [-0.7808367   2.68240734]. \t  -30.000037051648487 \t -8.729516183363952\n",
            "19     \t [0.5127096  1.34737847]. \t  -37.790234939259534 \t -8.729516183363952\n",
            "20     \t [-0.5211275  -1.60016792]. \t  -40.82809429425107 \t -8.729516183363952\n"
          ],
          "name": "stdout"
        }
      ]
    },
    {
      "cell_type": "code",
      "metadata": {
        "colab": {
          "base_uri": "https://localhost:8080/"
        },
        "id": "CphOPndPGClX",
        "outputId": "04b9ac9f-c468-44bc-d59d-bad974c7373c"
      },
      "source": [
        "### ESTIMATED GP EI GRADIENTS\n",
        "\n",
        "np.random.seed(run_num_13)\n",
        "surrogate_approx_13 = GaussianProcess(cov_func, optimize=opt)\n",
        "\n",
        "approx_13 = GPGO(surrogate_approx_13, Acquisition(util_grad_approx), objfunc, param)\n",
        "approx_13.run(init_evals=n_init, max_iter=iters)\n"
      ],
      "execution_count": 24,
      "outputs": [
        {
          "output_type": "stream",
          "text": [
            "Evaluation \t Proposed point \t  Current eval. \t Best eval.\n",
            "init   \t [ 2.84367268 -2.68757791]. \t  -33.58019830007169 \t -17.435826639425656\n",
            "init   \t [3.32061217 4.76927179]. \t  -56.857057997503354 \t -17.435826639425656\n",
            "init   \t [ 4.83943541 -0.47667971]. \t  -48.211919361679726 \t -17.435826639425656\n",
            "init   \t [1.11659482 2.82139151]. \t  -17.435826639425656 \t -17.435826639425656\n",
            "init   \t [1.45012065 2.27346667]. \t  -38.25352329493884 \t -17.435826639425656\n",
            "1      \t [-5.12       -2.72662613]. \t  -47.82255372239195 \t -17.435826639425656\n",
            "2      \t [-5.12  5.12]. \t  -57.849427451571785 \t -17.435826639425656\n",
            "3      \t [-1.07701199 -5.12      ]. \t  -31.23270596882761 \t -17.435826639425656\n",
            "4      \t [-2.85654782  1.12632981]. \t  \u001b[92m-16.21112054978481\u001b[0m \t -16.21112054978481\n",
            "5      \t [-1.154889  5.12    ]. \t  -34.63188133754804 \t -16.21112054978481\n",
            "6      \t [-0.62085659 -1.40877295]. \t  -38.024559266150035 \t -16.21112054978481\n",
            "7      \t [ 5.12 -5.12]. \t  -57.849427451571785 \t -16.21112054978481\n",
            "8      \t [-5.12       1.7378335]. \t  -42.70847828668707 \t -16.21112054978481\n",
            "9      \t [5.12       2.46276694]. \t  -54.717535612015695 \t -16.21112054978481\n",
            "10     \t [ 1.73841757 -5.12      ]. \t  -42.673912520821744 \t -16.21112054978481\n",
            "11     \t [-3.90824115 -5.12      ]. \t  -45.815513030575275 \t -16.21112054978481\n",
            "12     \t [-1.25798002  2.43117962]. \t  -37.07391719340609 \t -16.21112054978481\n",
            "13     \t [ 1.88141228 -0.24378477]. \t  \u001b[92m-15.858585300123591\u001b[0m \t -15.858585300123591\n",
            "14     \t [-3.23791011 -0.94253001]. \t  -21.258418036226548 \t -15.858585300123591\n",
            "15     \t [0.95611055 5.12      ]. \t  -30.216690836228075 \t -15.858585300123591\n",
            "16     \t [-2.30297224 -3.0776452 ]. \t  -29.209429517284445 \t -15.858585300123591\n",
            "17     \t [-3.20380788  3.62576427]. \t  -47.585821405077965 \t -15.858585300123591\n",
            "18     \t [ 5.12       -2.74078372]. \t  -47.01536166541292 \t -15.858585300123591\n",
            "19     \t [-5.12       -0.42609353]. \t  -48.04731724732528 \t -15.858585300123591\n",
            "20     \t [ 0.51107486 -3.1800649 ]. \t  -36.09570624703747 \t -15.858585300123591\n"
          ],
          "name": "stdout"
        }
      ]
    },
    {
      "cell_type": "code",
      "metadata": {
        "colab": {
          "base_uri": "https://localhost:8080/"
        },
        "id": "ojHTeARNGCoi",
        "outputId": "7bbed88b-6054-4f3b-d856-282e7056cb37"
      },
      "source": [
        "### ESTIMATED GP EI GRADIENTS\n",
        "\n",
        "np.random.seed(run_num_14)\n",
        "surrogate_approx_14 = GaussianProcess(cov_func, optimize=opt)\n",
        "\n",
        "approx_14 = GPGO(surrogate_approx_14, Acquisition(util_grad_approx), objfunc, param)\n",
        "approx_14.run(init_evals=n_init, max_iter=iters)\n"
      ],
      "execution_count": 25,
      "outputs": [
        {
          "output_type": "stream",
          "text": [
            "Evaluation \t Proposed point \t  Current eval. \t Best eval.\n",
            "init   \t [0.14277984 2.79721013]. \t  -18.683085263052178 \t -10.423838604848608\n",
            "init   \t [ 3.7931795  -5.03759925]. \t  -47.36348784446708 \t -10.423838604848608\n",
            "init   \t [-1.94830412  4.68586229]. \t  -40.19779334078636 \t -10.423838604848608\n",
            "init   \t [ 0.13431513 -1.86076749]. \t  -10.423838604848608 \t -10.423838604848608\n",
            "init   \t [ 0.40140736 -2.85434939]. \t  -30.353548735049138 \t -10.423838604848608\n",
            "1      \t [-5.12 -5.12]. \t  -57.8494274515718 \t -10.423838604848608\n",
            "2      \t [5.12 5.12]. \t  -57.849427451571785 \t -10.423838604848608\n",
            "3      \t [-5.12        0.35555346]. \t  -45.207642852354454 \t -10.423838604848608\n",
            "4      \t [ 5.12       -0.06379677]. \t  -29.721475124888244 \t -10.423838604848608\n",
            "5      \t [-5.12  5.12]. \t  -57.849427451571785 \t -10.423838604848608\n",
            "6      \t [-1.64656857  0.04127342]. \t  -19.098167256925223 \t -10.423838604848608\n",
            "7      \t [-1.68580028 -5.12      ]. \t  -45.69191789552137 \t -10.423838604848608\n",
            "8      \t [1.91874718 0.23697281]. \t  -14.195264550334736 \t -10.423838604848608\n",
            "9      \t [1.75616124 5.12      ]. \t  -41.621790330862304 \t -10.423838604848608\n",
            "10     \t [-3.36992531 -2.3260542 ]. \t  -48.20779673906814 \t -10.423838604848608\n",
            "11     \t [3.48152774 2.41512991]. \t  -56.498180801428376 \t -10.423838604848608\n",
            "12     \t [ 3.28653767 -2.13814022]. \t  -31.18475038164678 \t -10.423838604848608\n",
            "13     \t [-3.14137462  2.27899541]. \t  -30.566374914781573 \t -10.423838604848608\n",
            "14     \t [ 1.13105582 -5.12      ]. \t  -33.40703924772944 \t -10.423838604848608\n",
            "15     \t [ 5.12       -2.95114372]. \t  -38.1014370278825 \t -10.423838604848608\n",
            "16     \t [ 0.28544129 -0.04890574]. \t  -12.760765122036727 \t -10.423838604848608\n",
            "17     \t [-5.12       2.7306299]. \t  -47.595110257946494 \t -10.423838604848608\n",
            "18     \t [-0.92695044  1.65967373]. \t  -20.024288270649013 \t -10.423838604848608\n",
            "19     \t [-1.0865402  -1.60055036]. \t  -23.254370993180814 \t -10.423838604848608\n",
            "20     \t [-5.12       -2.31626272]. \t  -48.33395381347558 \t -10.423838604848608\n"
          ],
          "name": "stdout"
        }
      ]
    },
    {
      "cell_type": "code",
      "metadata": {
        "colab": {
          "base_uri": "https://localhost:8080/"
        },
        "id": "vCJzn4vWGCs3",
        "outputId": "48e28b09-6144-47f3-d687-53dc368d1c2b"
      },
      "source": [
        "### ESTIMATED GP EI GRADIENTS\n",
        "\n",
        "np.random.seed(run_num_15)\n",
        "surrogate_approx_15 = GaussianProcess(cov_func, optimize=opt)\n",
        "\n",
        "approx_15 = GPGO(surrogate_approx_15, Acquisition(util_grad_approx), objfunc, param)\n",
        "approx_15.run(init_evals=n_init, max_iter=iters)\n"
      ],
      "execution_count": 26,
      "outputs": [
        {
          "output_type": "stream",
          "text": [
            "Evaluation \t Proposed point \t  Current eval. \t Best eval.\n",
            "init   \t [ 3.57189322 -3.28810573]. \t  -54.938487770767075 \t -7.990765314336182\n",
            "init   \t [-4.56332069 -1.41784631]. \t  -60.750198753157726 \t -7.990765314336182\n",
            "init   \t [-2.29989449  0.3072023 ]. \t  -31.984997246800887 \t -7.990765314336182\n",
            "init   \t [-1.9873903  -2.00218256]. \t  -7.990765314336182 \t -7.990765314336182\n",
            "init   \t [-3.97576933 -2.5610341 ]. \t  -41.754957769694336 \t -7.990765314336182\n",
            "1      \t [4.80390202 4.79749377]. \t  -59.83100237180094 \t -7.990765314336182\n",
            "2      \t [-5.12  5.12]. \t  -57.849427451571785 \t -7.990765314336182\n",
            "3      \t [-0.15101206  5.12      ]. \t  -33.12122955022906 \t -7.990765314336182\n",
            "4      \t [2.15573482 1.04431635]. \t  -10.5403695712771 \t -7.990765314336182\n",
            "5      \t [-0.33203224 -5.12      ]. \t  -43.96399510457497 \t -7.990765314336182\n",
            "6      \t [5.12       0.33805777]. \t  -44.29383160417213 \t -7.990765314336182\n",
            "7      \t [ 0.62332395 -1.50563915]. \t  -39.79434481153279 \t -7.990765314336182\n",
            "8      \t [-5.12 -5.12]. \t  -57.849427451571785 \t -7.990765314336182\n",
            "9      \t [-5.12        1.87029541]. \t  -35.563728771287046 \t -7.990765314336182\n",
            "10     \t [-0.06815161  2.21604192]. \t  -13.700881289266224 \t -7.990765314336182\n",
            "11     \t [-2.49508483  3.43905833]. \t  -57.323623699278095 \t -7.990765314336182\n",
            "12     \t [2.21825638 3.42305389]. \t  -43.51053400352421 \t -7.990765314336182\n",
            "13     \t [ 5.12 -5.12]. \t  -57.849427451571785 \t -7.990765314336182\n",
            "14     \t [-2.63547612 -5.12      ]. \t  -52.461097427974124 \t -7.990765314336182\n",
            "15     \t [ 2.03069657 -5.12      ]. \t  -33.23386493691041 \t -7.990765314336182\n",
            "16     \t [ 2.88188576 -0.6198523 ]. \t  -28.61523665850344 \t -7.990765314336182\n",
            "17     \t [5.12       2.48546397]. \t  -55.060565689044005 \t -7.990765314336182\n",
            "18     \t [-1.40748939 -2.66961784]. \t  -42.30415811045853 \t -7.990765314336182\n",
            "19     \t [0.3037588  0.81115457]. \t  -20.315544156287167 \t -7.990765314336182\n",
            "20     \t [ 5.12       -1.87138279]. \t  -35.51824000642459 \t -7.990765314336182\n"
          ],
          "name": "stdout"
        }
      ]
    },
    {
      "cell_type": "code",
      "metadata": {
        "colab": {
          "base_uri": "https://localhost:8080/"
        },
        "id": "bGGkhp-kGCw6",
        "outputId": "8df24e8a-82b3-46a7-9bbd-477ecacc1b1a"
      },
      "source": [
        "### ESTIMATED GP EI GRADIENTS\n",
        "\n",
        "np.random.seed(run_num_16)\n",
        "surrogate_approx_16 = GaussianProcess(cov_func, optimize=opt)\n",
        "\n",
        "approx_16 = GPGO(surrogate_approx_16, Acquisition(util_grad_approx), objfunc, param)\n",
        "approx_16.run(init_evals=n_init, max_iter=iters)\n"
      ],
      "execution_count": 27,
      "outputs": [
        {
          "output_type": "stream",
          "text": [
            "Evaluation \t Proposed point \t  Current eval. \t Best eval.\n",
            "init   \t [-2.83349935  0.23719262]. \t  -22.27210456874814 \t -22.27210456874814\n",
            "init   \t [ 0.51918292 -4.65303603]. \t  -57.57021076017139 \t -22.27210456874814\n",
            "init   \t [-1.42613673 -2.83565116]. \t  -33.89145899403749 \t -22.27210456874814\n",
            "init   \t [ 1.9325559  -3.44339021]. \t  -35.85029586225333 \t -22.27210456874814\n",
            "init   \t [-4.39987336  4.51595121]. \t  -77.78800881964571 \t -22.27210456874814\n",
            "1      \t [5.12 5.12]. \t  -57.849427451571785 \t -22.27210456874814\n",
            "2      \t [5.12       0.13331511]. \t  -32.25032968272954 \t -22.27210456874814\n",
            "3      \t [0.53988362 3.56704876]. \t  -51.82862209140108 \t -22.27210456874814\n",
            "4      \t [-5.12 -5.12]. \t  -57.849427451571785 \t -22.27210456874814\n",
            "5      \t [ 5.12 -5.12]. \t  -57.849427451571785 \t -22.27210456874814\n",
            "6      \t [1.26312866 0.0161978 ]. \t  \u001b[92m-12.471464098341075\u001b[0m \t -12.471464098341075\n",
            "7      \t [-5.12       -1.65387318]. \t  -47.339260009061995 \t -12.471464098341075\n",
            "8      \t [3.37883226 2.40302338]. \t  -52.63065484701844 \t -12.471464098341075\n",
            "9      \t [-5.12        1.50296771]. \t  -51.18188721612175 \t -12.471464098341075\n",
            "10     \t [ 5.12       -2.35309448]. \t  -50.49579770917917 \t -12.471464098341075\n",
            "11     \t [-1.5829003  5.12     ]. \t  -50.10411319109356 \t -12.471464098341075\n",
            "12     \t [-0.67732573  1.00521315]. \t  -15.883809934358975 \t -12.471464098341075\n",
            "13     \t [-2.37072037 -5.12      ]. \t  -51.423424087600736 \t -12.471464098341075\n",
            "14     \t [2.42515527 5.12      ]. \t  -53.72058180143779 \t -12.471464098341075\n",
            "15     \t [ 2.68542534 -0.95832132]. \t  -22.417763963744918 \t -12.471464098341075\n",
            "16     \t [-2.26750676  2.47831826]. \t  -42.288763153415665 \t -12.471464098341075\n",
            "17     \t [-0.06521417 -1.03454494]. \t  \u001b[92m-2.1369774407517266\u001b[0m \t -2.1369774407517266\n",
            "18     \t [-0.07171695 -1.03862795]. \t  -2.375168584529092 \t -2.1369774407517266\n",
            "19     \t [-0.07139232 -1.03848877]. \t  -2.363870502294061 \t -2.1369774407517266\n",
            "20     \t [-0.07123581 -1.03841959]. \t  -2.358404089069163 \t -2.1369774407517266\n"
          ],
          "name": "stdout"
        }
      ]
    },
    {
      "cell_type": "code",
      "metadata": {
        "id": "Yrs2mp7hGC1Z",
        "colab": {
          "base_uri": "https://localhost:8080/"
        },
        "outputId": "66f08e11-33a7-4bcb-c374-5b9a915c09fd"
      },
      "source": [
        "### ESTIMATED GP EI GRADIENTS\n",
        "\n",
        "np.random.seed(run_num_17)\n",
        "surrogate_approx_17 = GaussianProcess(cov_func, optimize=opt)\n",
        "\n",
        "approx_17 = GPGO(surrogate_approx_17, Acquisition(util_grad_approx), objfunc, param)\n",
        "approx_17.run(init_evals=n_init, max_iter=iters)\n"
      ],
      "execution_count": 28,
      "outputs": [
        {
          "output_type": "stream",
          "text": [
            "Evaluation \t Proposed point \t  Current eval. \t Best eval.\n",
            "init   \t [-2.10263037  0.31320838]. \t  -20.395145364684023 \t -20.395145364684023\n",
            "init   \t [-3.15882714 -4.42470033]. \t  -53.03732051200137 \t -20.395145364684023\n",
            "init   \t [2.93873111 1.60085526]. \t  -29.989224812583537 \t -20.395145364684023\n",
            "init   \t [1.40821398 0.77417363]. \t  -29.451989415882437 \t -20.395145364684023\n",
            "init   \t [-4.71999574 -1.45598869]. \t  -55.89242173757483 \t -20.395145364684023\n",
            "1      \t [ 5.12 -5.12]. \t  -57.849427451571785 \t -20.395145364684023\n",
            "2      \t [-5.12  5.12]. \t  -57.849427451571785 \t -20.395145364684023\n",
            "3      \t [-0.24352154  5.12      ]. \t  -38.57707497365628 \t -20.395145364684023\n",
            "4      \t [5.12 5.12]. \t  -57.849427451571785 \t -20.395145364684023\n",
            "5      \t [ 1.0773245  -3.51439942]. \t  -34.62792051863994 \t -20.395145364684023\n",
            "6      \t [ 5.12       -1.25380004]. \t  -40.73546899864028 \t -20.395145364684023\n",
            "7      \t [-5.12        1.83350688]. \t  -37.27702105856103 \t -20.395145364684023\n",
            "8      \t [-2.31927677  3.11405903]. \t  -31.752962772227757 \t -20.395145364684023\n",
            "9      \t [-1.18603141 -1.98920002]. \t  \u001b[92m-11.474681619626478\u001b[0m \t -11.474681619626478\n",
            "10     \t [2.32596067 4.36235783]. \t  -55.521548414876854 \t -11.474681619626478\n",
            "11     \t [5.12       2.01153028]. \t  -32.99719903869182 \t -11.474681619626478\n",
            "12     \t [-0.58774766 -5.12      ]. \t  -47.78842167778669 \t -11.474681619626478\n",
            "13     \t [ 2.51459548 -1.52792814]. \t  -48.4621668388941 \t -11.474681619626478\n",
            "14     \t [ 2.54666739 -5.12      ]. \t  -54.983410370000556 \t -11.474681619626478\n",
            "15     \t [-0.08716349  2.3663121 ]. \t  -23.74433419206523 \t -11.474681619626478\n",
            "16     \t [-5.12 -5.12]. \t  -57.849427451571785 \t -11.474681619626478\n",
            "17     \t [-0.17364977 -0.83493825]. \t  \u001b[92m-11.024870561954287\u001b[0m \t -11.024870561954287\n",
            "18     \t [-2.62641666  5.12      ]. \t  -52.83062609846043 \t -11.024870561954287\n",
            "19     \t [-2.21834819 -2.04159075]. \t  -17.453011336479925 \t -11.024870561954287\n",
            "20     \t [-0.14040589 -1.56795455]. \t  -25.22586905478475 \t -11.024870561954287\n"
          ],
          "name": "stdout"
        }
      ]
    },
    {
      "cell_type": "code",
      "metadata": {
        "id": "f0HIEP3PIUEa",
        "colab": {
          "base_uri": "https://localhost:8080/"
        },
        "outputId": "7ae3bc2d-608d-4641-aac3-a839d2f7d340"
      },
      "source": [
        "### ESTIMATED GP EI GRADIENTS\n",
        "\n",
        "np.random.seed(run_num_18)\n",
        "surrogate_approx_18 = GaussianProcess(cov_func, optimize=opt)\n",
        "\n",
        "approx_18 = GPGO(surrogate_approx_18, Acquisition(util_grad_approx), objfunc, param)\n",
        "approx_18.run(init_evals=n_init, max_iter=iters)\n"
      ],
      "execution_count": 29,
      "outputs": [
        {
          "output_type": "stream",
          "text": [
            "Evaluation \t Proposed point \t  Current eval. \t Best eval.\n",
            "init   \t [1.53983224 0.05584255]. \t  -22.67190580753611 \t -22.67190580753611\n",
            "init   \t [ 3.87687906 -3.25795609]. \t  -38.990099416711985 \t -22.67190580753611\n",
            "init   \t [3.60686662 2.56139557]. \t  -56.66448698782129 \t -22.67190580753611\n",
            "init   \t [1.70088108 4.99604939]. \t  -40.894059318256296 \t -22.67190580753611\n",
            "init   \t [-2.48864335 -4.83014733]. \t  -54.6725749848372 \t -22.67190580753611\n",
            "1      \t [-5.12        2.10205608]. \t  -35.32979086565658 \t -22.67190580753611\n",
            "2      \t [-2.46249901  5.12      ]. \t  -54.71229979245777 \t -22.67190580753611\n",
            "3      \t [-2.31060816 -0.7059126 ]. \t  -32.28877161798881 \t -22.67190580753611\n",
            "4      \t [ 1.04805997 -5.12      ]. \t  -30.475617869606744 \t -22.67190580753611\n",
            "5      \t [-5.12       -2.45342784]. \t  -54.518931499239585 \t -22.67190580753611\n",
            "6      \t [-0.69696296  2.25257333]. \t  -28.99260352957237 \t -22.67190580753611\n",
            "7      \t [ 5.12       -0.35164303]. \t  -45.009422871296316 \t -22.67190580753611\n",
            "8      \t [5.12 5.12]. \t  -57.849427451571785 \t -22.67190580753611\n",
            "9      \t [ 0.15291013 -2.40801192]. \t  -28.468642227877105 \t -22.67190580753611\n",
            "10     \t [-5.12  5.12]. \t  -57.849427451571785 \t -22.67190580753611\n",
            "11     \t [ 5.12 -5.12]. \t  -57.849427451571785 \t -22.67190580753611\n",
            "12     \t [-5.12 -5.12]. \t  -57.849427451571785 \t -22.67190580753611\n",
            "13     \t [-2.8683334   1.88955141]. \t  \u001b[92m-17.34184291669915\u001b[0m \t -17.34184291669915\n",
            "14     \t [-5.12       -0.05581402]. \t  -29.53646947128712 \t -17.34184291669915\n",
            "15     \t [ 2.49768863 -1.57549268]. \t  -47.61553995135146 \t -17.34184291669915\n",
            "16     \t [1.22676146 2.30578465]. \t  -28.80037240444558 \t -17.34184291669915\n",
            "17     \t [-0.33016957  0.00783609]. \t  \u001b[92m-14.948062421257708\u001b[0m \t -14.948062421257708\n",
            "18     \t [-0.28956939  5.12      ]. \t  -41.46924811073556 \t -14.948062421257708\n",
            "19     \t [-2.1622082  -2.62671669]. \t  -33.32856278230591 \t -14.948062421257708\n",
            "20     \t [ 2.76420942 -5.12      ]. \t  -45.67394900653106 \t -14.948062421257708\n"
          ],
          "name": "stdout"
        }
      ]
    },
    {
      "cell_type": "code",
      "metadata": {
        "id": "S3mxRQDLIUPC",
        "colab": {
          "base_uri": "https://localhost:8080/"
        },
        "outputId": "ef64a40c-21e9-4555-e2a8-b4f3a7096455"
      },
      "source": [
        "### ESTIMATED GP EI GRADIENTS\n",
        "\n",
        "np.random.seed(run_num_19)\n",
        "surrogate_approx_19 = GaussianProcess(cov_func, optimize=opt)\n",
        "\n",
        "approx_19 = GPGO(surrogate_approx_19, Acquisition(util_grad_approx), objfunc, param)\n",
        "approx_19.run(init_evals=n_init, max_iter=iters)\n"
      ],
      "execution_count": 30,
      "outputs": [
        {
          "output_type": "stream",
          "text": [
            "Evaluation \t Proposed point \t  Current eval. \t Best eval.\n",
            "init   \t [-4.12125592  2.6751971 ]. \t  -41.43485596167127 \t -25.867003842388073\n",
            "init   \t [-2.59135515 -3.70553152]. \t  -51.60126035043229 \t -25.867003842388073\n",
            "init   \t [-1.72598719 -4.27008445]. \t  -43.97430127029199 \t -25.867003842388073\n",
            "init   \t [1.76104531 3.13952049]. \t  -25.867003842388073 \t -25.867003842388073\n",
            "init   \t [4.9432772  1.38916592]. \t  -44.66580306903559 \t -25.867003842388073\n",
            "1      \t [ 5.12 -5.12]. \t  -57.849427451571785 \t -25.867003842388073\n",
            "2      \t [ 1.77595123 -1.68635391]. \t  -28.267708038638098 \t -25.867003842388073\n",
            "3      \t [5.12 5.12]. \t  -57.849427451571785 \t -25.867003842388073\n",
            "4      \t [-1.28669651  5.12      ]. \t  -42.86563596868251 \t -25.867003842388073\n",
            "5      \t [-5.12       -0.97841456]. \t  -29.97383902098907 \t -25.867003842388073\n",
            "6      \t [-1.20080606  0.35666675]. \t  \u001b[92m-24.73866483123347\u001b[0m \t -24.73866483123347\n",
            "7      \t [ 1.54014175 -5.12      ]. \t  -50.98036323268903 \t -24.73866483123347\n",
            "8      \t [ 5.12       -1.82150314]. \t  -37.89952918813169 \t -24.73866483123347\n",
            "9      \t [-5.12 -5.12]. \t  -57.849427451571785 \t -24.73866483123347\n",
            "10     \t [-5.12  5.12]. \t  -57.849427451571785 \t -24.73866483123347\n",
            "11     \t [1.81534113 0.74360693]. \t  \u001b[92m-20.258854448428945\u001b[0m \t -20.258854448428945\n",
            "12     \t [2.02695247 5.12      ]. \t  -33.176300347125 \t -20.258854448428945\n",
            "13     \t [-0.86367682  2.59088871]. \t  -29.32134135335746 \t -20.258854448428945\n",
            "14     \t [-0.58629637 -1.85536879]. \t  -26.204445674808625 \t -20.258854448428945\n",
            "15     \t [-3.21509619  0.05298775]. \t  \u001b[92m-18.71323526159539\u001b[0m \t -18.71323526159539\n",
            "16     \t [ 3.23908302 -3.2786277 ]. \t  -42.3447101212353 \t -18.71323526159539\n",
            "17     \t [-5.12       -2.80415832]. \t  -43.45044321307102 \t -18.71323526159539\n",
            "18     \t [-5.12        0.93875125]. \t  -30.537372240881766 \t -18.71323526159539\n",
            "19     \t [ 3.37936763 -0.28953454]. \t  -41.224946957674504 \t -18.71323526159539\n",
            "20     \t [3.66247252 3.14299304]. \t  -42.29034777468806 \t -18.71323526159539\n"
          ],
          "name": "stdout"
        }
      ]
    },
    {
      "cell_type": "code",
      "metadata": {
        "id": "Aawd59dRIUYn",
        "colab": {
          "base_uri": "https://localhost:8080/"
        },
        "outputId": "ec2d295e-fc89-4a53-dfb4-3bbdb761e1d1"
      },
      "source": [
        "### ESTIMATED GP EI GRADIENTS\n",
        "\n",
        "np.random.seed(run_num_20)\n",
        "surrogate_approx_20 = GaussianProcess(cov_func, optimize=opt)\n",
        "\n",
        "approx_20 = GPGO(surrogate_approx_20, Acquisition(util_grad_approx), objfunc, param)\n",
        "approx_20.run(init_evals=n_init, max_iter=iters)\n"
      ],
      "execution_count": 31,
      "outputs": [
        {
          "output_type": "stream",
          "text": [
            "Evaluation \t Proposed point \t  Current eval. \t Best eval.\n",
            "init   \t [0.9024594  4.07258857]. \t  -20.24255447774017 \t -17.388691338534382\n",
            "init   \t [4.00927467 3.23417577]. \t  -35.55852254546393 \t -17.388691338534382\n",
            "init   \t [-4.75249064  1.96359764]. \t  -36.54582989269194 \t -17.388691338534382\n",
            "init   \t [-1.24230715  0.18955208]. \t  -17.388691338534382 \t -17.388691338534382\n",
            "init   \t [ 1.61742301 -3.13497377]. \t  -33.22932870179905 \t -17.388691338534382\n",
            "1      \t [-5.12 -5.12]. \t  -57.849427451571785 \t -17.388691338534382\n",
            "2      \t [ 5.12       -0.92646119]. \t  -30.83167446343571 \t -17.388691338534382\n",
            "3      \t [ 5.12 -5.12]. \t  -57.849427451571785 \t -17.388691338534382\n",
            "4      \t [-2.70368883  5.12      ]. \t  -49.10357473157433 \t -17.388691338534382\n",
            "5      \t [-1.34011158 -5.12      ]. \t  -46.084798729665046 \t -17.388691338534382\n",
            "6      \t [-5.12       -1.49922021]. \t  -51.172254926466024 \t -17.388691338534382\n",
            "7      \t [1.91181202 0.46610421]. \t  -25.142609685867193 \t -17.388691338534382\n",
            "8      \t [-2.03027328 -2.26094685]. \t  -20.101518101659103 \t -17.388691338534382\n",
            "9      \t [-1.34692706  2.54188332]. \t  -43.651672434230726 \t -17.388691338534382\n",
            "10     \t [-5.12  5.12]. \t  -57.849427451571785 \t -17.388691338534382\n",
            "11     \t [5.12 5.12]. \t  -57.849427451571785 \t -17.388691338534382\n",
            "12     \t [ 2.24150581 -5.12      ]. \t  -43.415609430404515 \t -17.388691338534382\n",
            "13     \t [5.12       1.32200513]. \t  -45.04385866728544 \t -17.388691338534382\n",
            "14     \t [ 0.18501646 -1.30649305]. \t  -21.24611905786738 \t -17.388691338534382\n",
            "15     \t [2.36236382 5.12      ]. \t  -50.993448371041794 \t -17.388691338534382\n",
            "16     \t [ 3.90976933 -2.66464311]. \t  -39.06081733236839 \t -17.388691338534382\n",
            "17     \t [-3.10053389  0.11466059]. \t  \u001b[92m-14.040853765393695\u001b[0m \t -14.040853765393695\n",
            "18     \t [1.35406371 2.30367622]. \t  -36.53189822448121 \t -14.040853765393695\n",
            "19     \t [-0.32998131  5.12      ]. \t  -43.85010886634531 \t -14.040853765393695\n",
            "20     \t [-3.34844745 -3.46708979]. \t  -58.81843584464441 \t -14.040853765393695\n"
          ],
          "name": "stdout"
        }
      ]
    },
    {
      "cell_type": "code",
      "metadata": {
        "id": "xkgzPRbBTHaq",
        "colab": {
          "base_uri": "https://localhost:8080/"
        },
        "outputId": "58ec5dc7-e829-4460-d0be-79e0523e69e7"
      },
      "source": [
        "end_approx = time.time()\n",
        "end_approx\n",
        "\n",
        "time_approx = end_approx - start_approx\n",
        "time_approx\n",
        "\n",
        "start_exact = time.time()\n",
        "start_exact"
      ],
      "execution_count": 32,
      "outputs": [
        {
          "output_type": "execute_result",
          "data": {
            "text/plain": [
              "1629280429.4113717"
            ]
          },
          "metadata": {
            "tags": []
          },
          "execution_count": 32
        }
      ]
    },
    {
      "cell_type": "code",
      "metadata": {
        "id": "7CG3Ndvb16Rb",
        "colab": {
          "base_uri": "https://localhost:8080/"
        },
        "outputId": "f6d495dd-5708-478b-fe73-4ba42cbdd618"
      },
      "source": [
        "### EXACT GP EI GRADIENTS\n",
        "\n",
        "np.random.seed(run_num_1)\n",
        "surrogate_exact_1 = dGaussianProcess(cov_func, optimize=opt)\n",
        "\n",
        "exact_1 = dGPGO(surrogate_exact_1, Acquisition_new(util_grad_exact), objfunc, param)\n",
        "exact_1.run(init_evals=n_init, max_iter=iters)\n"
      ],
      "execution_count": 33,
      "outputs": [
        {
          "output_type": "stream",
          "text": [
            "Evaluation \t Proposed point \t  Current eval. \t Best eval.\n",
            "init   \t [-0.84969467  2.25612281]. \t  -20.33436270766351 \t -19.908403246996286\n",
            "init   \t [-5.1188288  -2.02411446]. \t  -33.07414982069084 \t -19.908403246996286\n",
            "init   \t [-3.61721968 -4.17445279]. \t  -53.347974723929894 \t -19.908403246996286\n",
            "init   \t [-3.21269544 -1.58145816]. \t  -39.218472310354045 \t -19.908403246996286\n",
            "init   \t [-1.05710106  0.39748336]. \t  -19.908403246996286 \t -19.908403246996286\n",
            "1      \t [ 4.42339399 -4.97713589]. \t  -63.30510968121598 \t -19.908403246996286\n",
            "2      \t [5.12 5.12]. \t  -57.849427451571785 \t -19.908403246996286\n",
            "3      \t [4.20674575 0.11996824]. \t  -27.735638121979655 \t -19.908403246996286\n",
            "4      \t [-4.45706257  5.03138825]. \t  -65.01240533317953 \t -19.908403246996286\n",
            "5      \t [ 0.60134365 -3.4166547 ]. \t  -48.73528071624408 \t -19.908403246996286\n",
            "6      \t [1.14413705 5.12      ]. \t  -34.06194007263313 \t -19.908403246996286\n",
            "7      \t [2.46087537 2.2915122 ]. \t  -43.58511350663269 \t -19.908403246996286\n",
            "8      \t [-4.21694827  1.88119384]. \t  -31.918906927805402 \t -19.908403246996286\n",
            "9      \t [ 1.4743604  -0.63184312]. \t  -39.204076054052365 \t -19.908403246996286\n",
            "10     \t [-1.43051427  5.12      ]. \t  -50.03306604742461 \t -19.908403246996286\n",
            "11     \t [ 3.95055163 -2.26832503]. \t  -32.37979117587565 \t -19.908403246996286\n",
            "12     \t [5.12       2.33757096]. \t  -49.6177385788111 \t -19.908403246996286\n",
            "13     \t [-1.35589722 -4.3132029 ]. \t  -50.483293249397775 \t -19.908403246996286\n",
            "14     \t [ 1.70811387 -5.00630187]. \t  -40.59005688239821 \t -19.908403246996286\n",
            "15     \t [-0.9932854  -1.32265709]. \t  \u001b[92m-17.153189416416417\u001b[0m \t -17.153189416416417\n",
            "16     \t [-2.52178775  2.97519789]. \t  -35.23883812323112 \t -17.153189416416417\n",
            "17     \t [-4.68898038e+00  1.26960320e-04]. \t  -35.72727558745072 \t -17.153189416416417\n",
            "18     \t [2.95008797 5.12      ]. \t  -38.11546096121626 \t -17.153189416416417\n",
            "19     \t [0.41764242 2.90637476]. \t  -28.993136224414016 \t -17.153189416416417\n",
            "20     \t [ 5.12       -1.14114099]. \t  -33.90807827832271 \t -17.153189416416417\n"
          ],
          "name": "stdout"
        }
      ]
    },
    {
      "cell_type": "code",
      "metadata": {
        "id": "-ilCPSAu9SAg",
        "colab": {
          "base_uri": "https://localhost:8080/"
        },
        "outputId": "07aaf4f6-6498-430a-b78d-5b42d4b4806f"
      },
      "source": [
        "### EXACT GP EI GRADIENTS\n",
        "\n",
        "np.random.seed(run_num_2)\n",
        "surrogate_exact_2 = dGaussianProcess(cov_func, optimize=opt)\n",
        "\n",
        "exact_2 = dGPGO(surrogate_exact_2, Acquisition_new(util_grad_exact), objfunc, param)\n",
        "exact_2.run(init_evals=n_init, max_iter=iters)\n"
      ],
      "execution_count": 34,
      "outputs": [
        {
          "output_type": "stream",
          "text": [
            "Evaluation \t Proposed point \t  Current eval. \t Best eval.\n",
            "init   \t [-0.6554122  -4.85451539]. \t  -43.490296251903594 \t -18.964539418712707\n",
            "init   \t [ 0.50854377 -0.6622987 ]. \t  -35.91861667536101 \t -18.964539418712707\n",
            "init   \t [-0.81543371 -1.73737143]. \t  -20.479562046739524 \t -18.964539418712707\n",
            "init   \t [-3.02439799  1.2213347 ]. \t  -18.964539418712707 \t -18.964539418712707\n",
            "init   \t [-2.05153614 -2.3876887 ]. \t  -28.041315668371354 \t -18.964539418712707\n",
            "1      \t [5.12 5.12]. \t  -57.849427451571785 \t -18.964539418712707\n",
            "2      \t [ 5.09538887 -3.68215404]. \t  -55.39914389476718 \t -18.964539418712707\n",
            "3      \t [-0.093441  5.12    ]. \t  -30.607978161486287 \t -18.964539418712707\n",
            "4      \t [5.12       0.71712281]. \t  -41.490053077333194 \t -18.964539418712707\n",
            "5      \t [-4.68187371  5.12      ]. \t  -64.99563134089169 \t -18.964539418712707\n",
            "6      \t [-4.8744542  -4.31604188]. \t  -59.37321683709654 \t -18.964539418712707\n",
            "7      \t [2.08911011 2.58222584]. \t  -31.25400134761605 \t -18.964539418712707\n",
            "8      \t [-4.89853329 -1.02091201]. \t  -27.08842837239992 \t -18.964539418712707\n",
            "9      \t [ 2.12778249 -3.92164278]. \t  -24.148044397682582 \t -18.964539418712707\n",
            "10     \t [-1.32589732  2.84399899]. \t  -28.86769802694026 \t -18.964539418712707\n",
            "11     \t [ 3.01053133 -0.99272099]. \t  \u001b[92m-10.081135199303889\u001b[0m \t -10.081135199303889\n",
            "12     \t [2.38875916 5.12      ]. \t  -52.28608658111092 \t -10.081135199303889\n",
            "13     \t [-5.1053053   1.89453597]. \t  -33.87998371203464 \t -10.081135199303889\n",
            "14     \t [-2.16683493  5.12      ]. \t  -38.62904574119905 \t -10.081135199303889\n",
            "15     \t [5.12       2.82431641]. \t  -42.39988365490046 \t -10.081135199303889\n",
            "16     \t [ 5.12       -1.30068538]. \t  -43.74759315276603 \t -10.081135199303889\n",
            "17     \t [-1.62765091  0.28000238]. \t  -31.55392433266835 \t -10.081135199303889\n",
            "18     \t [2.83492257 0.39223562]. \t  -30.898316044225307 \t -10.081135199303889\n",
            "19     \t [ 2.6075321  -1.90713782]. \t  -29.89388304658212 \t -10.081135199303889\n",
            "20     \t [ 2.51329403 -5.06833649]. \t  -52.87753794936306 \t -10.081135199303889\n"
          ],
          "name": "stdout"
        }
      ]
    },
    {
      "cell_type": "code",
      "metadata": {
        "id": "XieJ158mIvlP",
        "colab": {
          "base_uri": "https://localhost:8080/"
        },
        "outputId": "51de3d82-79fb-4c16-b2c7-2da006364331"
      },
      "source": [
        "### EXACT GP EI GRADIENTS\n",
        "\n",
        "np.random.seed(run_num_3)\n",
        "surrogate_exact_3 = dGaussianProcess(cov_func, optimize=opt)\n",
        "\n",
        "exact_3 = dGPGO(surrogate_exact_3, Acquisition_new(util_grad_exact), objfunc, param)\n",
        "exact_3.run(init_evals=n_init, max_iter=iters)\n"
      ],
      "execution_count": 35,
      "outputs": [
        {
          "output_type": "stream",
          "text": [
            "Evaluation \t Proposed point \t  Current eval. \t Best eval.\n",
            "init   \t [0.52017052 2.1314337 ]. \t  -27.953858411008774 \t -10.607662635789808\n",
            "init   \t [-2.14113547  0.11087468]. \t  -10.607662635789808 \t -10.607662635789808\n",
            "init   \t [4.02377681 4.05804123]. \t  -33.42749829480097 \t -10.607662635789808\n",
            "init   \t [-3.83400642 -2.99783293]. \t  -28.650953928965198 \t -10.607662635789808\n",
            "init   \t [-4.59297584 -0.6061072 ]. \t  -57.6631355589384 \t -10.607662635789808\n",
            "1      \t [ 3.48734552 -4.65410759]. \t  -69.45782440995153 \t -10.607662635789808\n",
            "2      \t [-3.80522423  5.12      ]. \t  -50.00381341491061 \t -10.607662635789808\n",
            "3      \t [ 5.12       -0.16026249]. \t  -33.60606258342197 \t -10.607662635789808\n",
            "4      \t [-0.57642942 -4.7418849 ]. \t  -52.19634115894448 \t -10.607662635789808\n",
            "5      \t [ 1.90187454 -1.28030083]. \t  -18.98983680541745 \t -10.607662635789808\n",
            "6      \t [-0.07513066  5.12      ]. \t  -30.024023153052205 \t -10.607662635789808\n",
            "7      \t [-2.77024661  2.42077812]. \t  -41.05224494039152 \t -10.607662635789808\n",
            "8      \t [-0.80588236 -1.59683573]. \t  -27.96526640898874 \t -10.607662635789808\n",
            "9      \t [2.97602381 1.45497636]. \t  -30.68945418434651 \t -10.607662635789808\n",
            "10     \t [-4.92669623 -4.74936806]. \t  -57.91059518900562 \t -10.607662635789808\n",
            "11     \t [-5.08540842  2.45703066]. \t  -52.94179993507342 \t -10.607662635789808\n",
            "12     \t [ 5.12       -2.56001049]. \t  -54.77588969139475 \t -10.607662635789808\n",
            "13     \t [5.12       2.29664985]. \t  -47.08862093688196 \t -10.607662635789808\n",
            "14     \t [2.153933 5.12    ]. \t  -37.887985061553394 \t -10.607662635789808\n",
            "15     \t [0.31511555 0.15489013]. \t  -18.47488717429127 \t -10.607662635789808\n",
            "16     \t [5.12 5.12]. \t  -57.849427451571785 \t -10.607662635789808\n",
            "17     \t [ 1.82270555 -3.04266534]. \t  -18.526254068253557 \t -10.607662635789808\n",
            "18     \t [-2.45455158 -4.94553136]. \t  -50.65807767451396 \t -10.607662635789808\n",
            "19     \t [-1.09041891  3.5996143 ]. \t  -33.8214804611391 \t -10.607662635789808\n",
            "20     \t [-1.37849142  0.57217238]. \t  -38.4414062475664 \t -10.607662635789808\n"
          ],
          "name": "stdout"
        }
      ]
    },
    {
      "cell_type": "code",
      "metadata": {
        "id": "PhLBVOIfIvol",
        "colab": {
          "base_uri": "https://localhost:8080/"
        },
        "outputId": "78aba853-0212-4005-da0b-61a45f7f72e7"
      },
      "source": [
        "### EXACT GP EI GRADIENTS\n",
        "\n",
        "np.random.seed(run_num_4)\n",
        "surrogate_exact_4 = dGaussianProcess(cov_func, optimize=opt)\n",
        "\n",
        "exact_4 = dGPGO(surrogate_exact_4, Acquisition_new(util_grad_exact), objfunc, param)\n",
        "exact_4.run(init_evals=n_init, max_iter=iters)\n"
      ],
      "execution_count": 36,
      "outputs": [
        {
          "output_type": "stream",
          "text": [
            "Evaluation \t Proposed point \t  Current eval. \t Best eval.\n",
            "init   \t [4.78238555 0.48365823]. \t  -51.03163809010808 \t -14.323038259018315\n",
            "init   \t [4.84028785 2.19971578]. \t  -39.78645699016559 \t -14.323038259018315\n",
            "init   \t [ 2.02474316 -2.90724357]. \t  -14.323038259018315 \t -14.323038259018315\n",
            "init   \t [ 4.87705042 -5.05620219]. \t  -52.80627247106233 \t -14.323038259018315\n",
            "init   \t [-2.52946061 -0.66773471]. \t  -41.61497868486559 \t -14.323038259018315\n",
            "1      \t [-2.49773852  5.03826286]. \t  -51.909382832259716 \t -14.323038259018315\n",
            "2      \t [-1.79792293 -4.9979256 ]. \t  -35.246844737137096 \t -14.323038259018315\n",
            "3      \t [1.85936052 5.12      ]. \t  -36.03870556547274 \t -14.323038259018315\n",
            "4      \t [0.59366141 1.53458334]. \t  -40.790012312128354 \t -14.323038259018315\n",
            "5      \t [-4.74778201 -4.77127534]. \t  -64.11306706692424 \t -14.323038259018315\n",
            "6      \t [5.12 5.12]. \t  -57.849427451571785 \t -14.323038259018315\n",
            "7      \t [-5.08816049  1.34138555]. \t  -44.61561614337628 \t -14.323038259018315\n",
            "8      \t [ 1.4128747  -5.01726856]. \t  -45.76668327811586 \t -14.323038259018315\n",
            "9      \t [ 5.02388749 -2.23954879]. \t  -39.71125021352384 \t -14.323038259018315\n",
            "10     \t [-5.09575311 -1.60450416]. \t  -48.21762434591832 \t -14.323038259018315\n",
            "11     \t [-0.05456476 -2.23672888]. \t  -14.755014233536444 \t -14.323038259018315\n",
            "12     \t [-2.2814946   2.44363662]. \t  -42.521996929172644 \t -14.323038259018315\n",
            "13     \t [-4.92391389  4.30921965]. \t  -57.571038991553294 \t -14.323038259018315\n",
            "14     \t [ 2.12818907 -0.63865722]. \t  -24.448120826935632 \t -14.323038259018315\n",
            "15     \t [-0.12145863  4.0941445 ]. \t  -21.249228418137726 \t -14.323038259018315\n",
            "16     \t [2.83232833 2.64568531]. \t  -36.17151054767876 \t -14.323038259018315\n",
            "17     \t [-2.57020929 -2.90070202]. \t  -35.94669379781309 \t -14.323038259018315\n",
            "18     \t [-0.18717077 -0.62746782]. \t  -23.54339081132806 \t -14.323038259018315\n",
            "19     \t [ 3.10443231 -2.86806798]. \t  -23.183474528677174 \t -14.323038259018315\n",
            "20     \t [-0.05598777 -3.17859111]. \t  -16.38124936037681 \t -14.323038259018315\n"
          ],
          "name": "stdout"
        }
      ]
    },
    {
      "cell_type": "code",
      "metadata": {
        "id": "arbiPyj2IvsJ",
        "colab": {
          "base_uri": "https://localhost:8080/"
        },
        "outputId": "b105922e-a541-4ea6-f1bb-232ce848c091"
      },
      "source": [
        "### EXACT GP EI GRADIENTS\n",
        "\n",
        "np.random.seed(run_num_5)\n",
        "surrogate_exact_5 = dGaussianProcess(cov_func, optimize=opt)\n",
        "\n",
        "exact_5 = dGPGO(surrogate_exact_5, Acquisition_new(util_grad_exact), objfunc, param)\n",
        "exact_5.run(init_evals=n_init, max_iter=iters)\n"
      ],
      "execution_count": 37,
      "outputs": [
        {
          "output_type": "stream",
          "text": [
            "Evaluation \t Proposed point \t  Current eval. \t Best eval.\n",
            "init   \t [-2.84678993  3.79629882]. \t  -33.93442008827236 \t -7.8108627039749745\n",
            "init   \t [-3.00319585  4.2865757 ]. \t  -39.673876075575784 \t -7.8108627039749745\n",
            "init   \t [-0.11866943  1.14425716]. \t  -7.8108627039749745 \t -7.8108627039749745\n",
            "init   \t [2.72289645 0.1886002 ]. \t  -25.38160395721669 \t -7.8108627039749745\n",
            "init   \t [-2.08076286 -3.19773462]. \t  -22.589982116319675 \t -7.8108627039749745\n",
            "1      \t [ 4.32895605 -5.09732646]. \t  -61.29478907190488 \t -7.8108627039749745\n",
            "2      \t [5.12 5.12]. \t  -57.849427451571785 \t -7.8108627039749745\n",
            "3      \t [-4.99191113  0.34486967]. \t  -40.6650834440818 \t -7.8108627039749745\n",
            "4      \t [1.00370269 5.12      ]. \t  -29.934838923615345 \t -7.8108627039749745\n",
            "5      \t [ 1.27650115 -2.96130054]. \t  -22.35035890984886 \t -7.8108627039749745\n",
            "6      \t [ 5.12       -1.49424324]. \t  -51.150935671660584 \t -7.8108627039749745\n",
            "7      \t [5.12       1.91103295]. \t  -34.09888306003356 \t -7.8108627039749745\n",
            "8      \t [-5.10664143 -4.73784091]. \t  -61.45023932226251 \t -7.8108627039749745\n",
            "9      \t [-1.86199284 -0.30431788]. \t  -20.43643356762208 \t -7.8108627039749745\n",
            "10     \t [1.93585832 2.77487775]. \t  -20.691905854946416 \t -7.8108627039749745\n",
            "11     \t [-0.94646266 -5.11497978]. \t  -30.117318157249837 \t -7.8108627039749745\n",
            "12     \t [-5.07359353  2.93394012]. \t  -36.24862419143108 \t -7.8108627039749745\n",
            "13     \t [-4.58140841 -1.88585864]. \t  -45.72917925304571 \t -7.8108627039749745\n",
            "14     \t [-0.60621453  2.87830556]. \t  -29.290293424127846 \t -7.8108627039749745\n",
            "15     \t [ 0.48298615 -0.79993763]. \t  -27.729648137174976 \t -7.8108627039749745\n",
            "16     \t [ 1.78109991 -5.00425618]. \t  -36.27681929883882 \t -7.8108627039749745\n",
            "17     \t [ 2.79421865 -2.11105089]. \t  -21.858584499232684 \t -7.8108627039749745\n",
            "18     \t [-2.20659617  1.25175075]. \t  -23.852482699291386 \t -7.8108627039749745\n",
            "19     \t [-1.00582353  5.12      ]. \t  -29.94308820119815 \t -7.8108627039749745\n",
            "20     \t [2.85365618 5.12      ]. \t  -41.00593085590141 \t -7.8108627039749745\n"
          ],
          "name": "stdout"
        }
      ]
    },
    {
      "cell_type": "code",
      "metadata": {
        "id": "04KJCEm_Ivvf",
        "colab": {
          "base_uri": "https://localhost:8080/"
        },
        "outputId": "d03e0c4e-cccc-4e14-84c4-94bf6c840e53"
      },
      "source": [
        "### EXACT GP EI GRADIENTS\n",
        "\n",
        "np.random.seed(run_num_6)\n",
        "surrogate_exact_6 = dGaussianProcess(cov_func, optimize=opt)\n",
        "\n",
        "exact_6 = dGPGO(surrogate_exact_6, Acquisition_new(util_grad_exact), objfunc, param)\n",
        "exact_6.run(init_evals=n_init, max_iter=iters)\n"
      ],
      "execution_count": 38,
      "outputs": [
        {
          "output_type": "stream",
          "text": [
            "Evaluation \t Proposed point \t  Current eval. \t Best eval.\n",
            "init   \t [ 4.02288795 -1.72052679]. \t  -31.08835710146886 \t -17.28954482757088\n",
            "init   \t [ 3.28938622 -4.69302655]. \t  -58.797867722203385 \t -17.28954482757088\n",
            "init   \t [-4.0175956   0.97333314]. \t  -17.28954482757088 \t -17.28954482757088\n",
            "init   \t [ 0.30532979 -0.83141193]. \t  -19.296253155889353 \t -17.28954482757088\n",
            "init   \t [-1.68542362  1.25459899]. \t  -28.650630936276173 \t -17.28954482757088\n",
            "1      \t [5.12 5.12]. \t  -57.849427451571785 \t -17.28954482757088\n",
            "2      \t [-4.03046901 -5.01672984]. \t  -41.65014747128707 \t -17.28954482757088\n",
            "3      \t [0.40849324 5.12      ]. \t  -47.48375398723939 \t -17.28954482757088\n",
            "4      \t [2.66066808 2.00580811]. \t  -26.431857781697538 \t -17.28954482757088\n",
            "5      \t [-4.18882173  5.12      ]. \t  -52.720963066108965 \t -17.28954482757088\n",
            "6      \t [-0.42686885 -4.33168521]. \t  -52.81852516749823 \t -17.28954482757088\n",
            "7      \t [-4.09852821 -1.8599877 ]. \t  -25.739664614672634 \t -17.28954482757088\n",
            "8      \t [5.12       1.16893197]. \t  -35.41488219538386 \t -17.28954482757088\n",
            "9      \t [-1.76368114 -1.78736461]. \t  -23.12050886205052 \t -17.28954482757088\n",
            "10     \t [-1.81949075  3.64457638]. \t  -38.514744683696264 \t -17.28954482757088\n",
            "11     \t [0.52693982 2.10178673]. \t  -26.528581995402245 \t -17.28954482757088\n",
            "12     \t [2.72879806 4.42263196]. \t  -57.175765586661775 \t -17.28954482757088\n",
            "13     \t [-5.08765454  2.0689077 ]. \t  -32.56600472011117 \t -17.28954482757088\n",
            "14     \t [ 1.70117501 -2.38199146]. \t  -38.962520262683135 \t -17.28954482757088\n",
            "15     \t [2.32535791 0.04823365]. \t  -20.42527239780146 \t -17.28954482757088\n",
            "16     \t [-2.97259746 -0.14887966]. \t  \u001b[92m-13.071701135778252\u001b[0m \t -13.071701135778252\n",
            "17     \t [ 4.90093551 -3.21938767]. \t  -44.34745439628051 \t -13.071701135778252\n",
            "18     \t [-5.10727516 -3.57955123]. \t  -59.8609335665158 \t -13.071701135778252\n",
            "19     \t [5.12       2.99547008]. \t  -37.90160498154174 \t -13.071701135778252\n",
            "20     \t [-4.92909873 -1.00603081]. \t  -26.291276442528968 \t -13.071701135778252\n"
          ],
          "name": "stdout"
        }
      ]
    },
    {
      "cell_type": "code",
      "metadata": {
        "id": "tAOkme3CIvyO",
        "colab": {
          "base_uri": "https://localhost:8080/"
        },
        "outputId": "1a42f1e5-3d60-4f4c-8211-1dcd3a2e104f"
      },
      "source": [
        "### EXACT GP EI GRADIENTS\n",
        "\n",
        "np.random.seed(run_num_7)\n",
        "surrogate_exact_7 = dGaussianProcess(cov_func, optimize=opt)\n",
        "\n",
        "exact_7 = dGPGO(surrogate_exact_7, Acquisition_new(util_grad_exact), objfunc, param)\n",
        "exact_7.run(init_evals=n_init, max_iter=iters)\n"
      ],
      "execution_count": 39,
      "outputs": [
        {
          "output_type": "stream",
          "text": [
            "Evaluation \t Proposed point \t  Current eval. \t Best eval.\n",
            "init   \t [-4.33860312  2.86636843]. \t  -45.646133072936244 \t -22.52235437888213\n",
            "init   \t [-0.63068947  2.28828342]. \t  -34.83012662845338 \t -22.52235437888213\n",
            "init   \t [4.8946126  0.39419771]. \t  -44.09657005662876 \t -22.52235437888213\n",
            "init   \t [ 0.01147355 -4.38219639]. \t  -36.613209822404315 \t -22.52235437888213\n",
            "init   \t [-2.37118484e+00 -1.20319155e-03]. \t  -22.52235437888213 \t -22.52235437888213\n",
            "1      \t [-5.10538874 -4.17523358]. \t  -51.084190063788405 \t -22.52235437888213\n",
            "2      \t [3.59764055 5.12      ]. \t  -60.044147253243 \t -22.52235437888213\n",
            "3      \t [ 4.91359363 -4.39968041]. \t  -63.01683743771777 \t -22.52235437888213\n",
            "4      \t [ 1.44487362 -0.91163106]. \t  -23.827098340982914 \t -22.52235437888213\n",
            "5      \t [-1.50989016  5.12      ]. \t  -51.185180269981316 \t -22.52235437888213\n",
            "6      \t [2.34765133 2.20542615]. \t  -33.369012101821525 \t -22.52235437888213\n",
            "7      \t [-4.7513011  -1.23270559]. \t  -42.92817262507963 \t -22.52235437888213\n",
            "8      \t [-2.1585357  -2.98453706]. \t  \u001b[92m-18.17817547992238\u001b[0m \t -18.17817547992238\n",
            "9      \t [ 2.76210711 -2.87825495]. \t  -27.939416115724775 \t -18.17817547992238\n",
            "10     \t [5.12       2.99575432]. \t  -37.9028155904095 \t -18.17817547992238\n",
            "11     \t [1.02701979 4.80187375]. \t  -31.054602702712582 \t -18.17817547992238\n",
            "12     \t [-0.65338456 -1.34984121]. \t  -33.823252862225125 \t -18.17817547992238\n",
            "13     \t [-2.84992183 -4.34243362]. \t  -46.591647678412194 \t -18.17817547992238\n",
            "14     \t [ 5.12      -1.7781852]. \t  -40.32497032690853 \t -18.17817547992238\n",
            "15     \t [ 2.5730476  -5.10452634]. \t  -53.72209307898047 \t -18.17817547992238\n",
            "16     \t [2.72409092 0.02301915]. \t  -19.146348100744206 \t -18.17817547992238\n",
            "17     \t [-3.44790139  4.93581081]. \t  -56.521585287918626 \t -18.17817547992238\n",
            "18     \t [-4.86816459  1.14805313]. \t  -32.279727012974284 \t -18.17817547992238\n",
            "19     \t [-2.42742728  1.86474454]. \t  -31.746869965093907 \t -18.17817547992238\n",
            "20     \t [0.81848576 1.00521102]. \t  \u001b[92m-7.514213806086495\u001b[0m \t -7.514213806086495\n"
          ],
          "name": "stdout"
        }
      ]
    },
    {
      "cell_type": "code",
      "metadata": {
        "id": "69-J3EF4Iv1S",
        "colab": {
          "base_uri": "https://localhost:8080/"
        },
        "outputId": "8fd72307-dd4b-4e57-ce1b-ffe38eecf0cb"
      },
      "source": [
        "### EXACT GP EI GRADIENTS\n",
        "\n",
        "np.random.seed(run_num_8)\n",
        "surrogate_exact_8 = dGaussianProcess(cov_func, optimize=opt)\n",
        "\n",
        "exact_8 = dGPGO(surrogate_exact_8, Acquisition_new(util_grad_exact), objfunc, param)\n",
        "exact_8.run(init_evals=n_init, max_iter=iters)\n"
      ],
      "execution_count": 40,
      "outputs": [
        {
          "output_type": "stream",
          "text": [
            "Evaluation \t Proposed point \t  Current eval. \t Best eval.\n",
            "init   \t [3.82391708 4.79785639]. \t  -50.20079446939181 \t -13.871821018360485\n",
            "init   \t [3.78055209 0.31596228]. \t  -36.5114251593508 \t -13.871821018360485\n",
            "init   \t [-2.73686192 -5.00327624]. \t  -43.34985765011677 \t -13.871821018360485\n",
            "init   \t [-0.7119993  -0.99992207]. \t  -13.871821018360485 \t -13.871821018360485\n",
            "init   \t [ 0.23218863 -0.22126801]. \t  -17.190590355445654 \t -13.871821018360485\n",
            "1      \t [-5.11238257  5.00673475]. \t  -53.60395082170822 \t -13.871821018360485\n",
            "2      \t [ 2.56577802 -4.57597654]. \t  -65.562842188195 \t -13.871821018360485\n",
            "3      \t [-5.01085567 -0.73166081]. \t  -36.81699162045986 \t -13.871821018360485\n",
            "4      \t [-0.58500366  4.26799861]. \t  -48.29382184340462 \t -13.871821018360485\n",
            "5      \t [-2.70672527  1.64978811]. \t  -38.62243213827434 \t -13.871821018360485\n",
            "6      \t [ 5.12       -2.27596532]. \t  -45.72895331362934 \t -13.871821018360485\n",
            "7      \t [1.87900284 2.45796814]. \t  -31.978898911859957 \t -13.871821018360485\n",
            "8      \t [-0.57341209 -3.0702746 ]. \t  -29.669392741065273 \t -13.871821018360485\n",
            "9      \t [5.12       2.44981858]. \t  -54.43336133511029 \t -13.871821018360485\n",
            "10     \t [-5.06834032 -3.16494504]. \t  -41.51938629556655 \t -13.871821018360485\n",
            "11     \t [ 2.04561948 -1.48985403]. \t  -26.791906270972163 \t -13.871821018360485\n",
            "12     \t [-2.50579951 -1.32007838]. \t  -42.277248038918806 \t -13.871821018360485\n",
            "13     \t [ 5.11323445 -5.03131037]. \t  -54.078129634596635 \t -13.871821018360485\n",
            "14     \t [1.51252934 5.12      ]. \t  -51.18148726213283 \t -13.871821018360485\n",
            "15     \t [-4.95001746  1.41554787]. \t  -45.62043672287736 \t -13.871821018360485\n",
            "16     \t [ 0.1804683 -5.0083257]. \t  -30.898423880334093 \t -13.871821018360485\n",
            "17     \t [-2.50435661  5.12      ]. \t  -55.19276947090522 \t -13.871821018360485\n",
            "18     \t [-0.4088161   1.74514253]. \t  -31.920997339730597 \t -13.871821018360485\n",
            "19     \t [1.80335704 0.33190959]. \t  -24.994517194162032 \t -13.871821018360485\n",
            "20     \t [ 5.12       -0.15977191]. \t  -33.57987817894309 \t -13.871821018360485\n"
          ],
          "name": "stdout"
        }
      ]
    },
    {
      "cell_type": "code",
      "metadata": {
        "id": "vonm9jyuIv4t",
        "colab": {
          "base_uri": "https://localhost:8080/"
        },
        "outputId": "f350169e-3139-4f1a-bbb6-cf0dba5ac187"
      },
      "source": [
        "### EXACT GP EI GRADIENTS\n",
        "\n",
        "np.random.seed(run_num_9)\n",
        "surrogate_exact_9 = dGaussianProcess(cov_func, optimize=opt)\n",
        "\n",
        "exact_9 = dGPGO(surrogate_exact_9, Acquisition_new(util_grad_exact), objfunc, param)\n",
        "exact_9.run(init_evals=n_init, max_iter=iters)\n"
      ],
      "execution_count": 41,
      "outputs": [
        {
          "output_type": "stream",
          "text": [
            "Evaluation \t Proposed point \t  Current eval. \t Best eval.\n",
            "init   \t [-5.01376866  0.01919582]. \t  -25.248289026162446 \t -24.454800313488693\n",
            "init   \t [-0.04328148 -3.74958562]. \t  -24.454800313488693 \t -24.454800313488693\n",
            "init   \t [-3.66478248 -2.88195916]. \t  -39.46509426509438 \t -24.454800313488693\n",
            "init   \t [-0.83447623 -2.57944404]. \t  -31.06766397812992 \t -24.454800313488693\n",
            "init   \t [-4.25922917 -1.58209393]. \t  -49.922543556206975 \t -24.454800313488693\n",
            "1      \t [3.69491889 4.82146316]. \t  -55.95031066333101 \t -24.454800313488693\n",
            "2      \t [ 5.12       -1.22358574]. \t  -38.76982739332466 \t -24.454800313488693\n",
            "3      \t [-2.84626206  5.12      ]. \t  -41.33967962263132 \t -24.454800313488693\n",
            "4      \t [0.31557415 1.67861527]. \t  -31.25825267563986 \t -24.454800313488693\n",
            "5      \t [ 3.81870885 -4.87051037]. \t  -47.25134756788946 \t -24.454800313488693\n",
            "6      \t [0.46658549 5.06227536]. \t  -46.38056070136988 \t -24.454800313488693\n",
            "7      \t [5.12       1.92304634]. \t  -33.76915396285589 \t -24.454800313488693\n",
            "8      \t [ 1.98466348 -1.07021626]. \t  \u001b[92m-6.088167782795715\u001b[0m \t -6.088167782795715\n",
            "9      \t [-4.13262291  2.70726681]. \t  -40.33631466219572 \t -6.088167782795715\n",
            "10     \t [-4.77457463 -4.93780479]. \t  -56.39443082766477 \t -6.088167782795715\n",
            "11     \t [-1.99430849  0.43363146]. \t  -23.314753532049597 \t -6.088167782795715\n",
            "12     \t [2.90398885 0.35663403]. \t  -26.535281224033703 \t -6.088167782795715\n",
            "13     \t [ 2.80368596 -2.46629788]. \t  -40.41032988638781 \t -6.088167782795715\n",
            "14     \t [ 0.70062605 -0.57890567]. \t  -32.674728407353 \t -6.088167782795715\n",
            "15     \t [-2.19973862 -4.81982322]. \t  -40.71602077103748 \t -6.088167782795715\n",
            "16     \t [-1.45730758  3.19317423]. \t  -38.467395741277244 \t -6.088167782795715\n",
            "17     \t [2.41226458 2.63369929]. \t  -47.94825683068948 \t -6.088167782795715\n",
            "18     \t [ 1.37016701 -5.06973065]. \t  -45.37717986931305 \t -6.088167782795715\n",
            "19     \t [ 5.12       -3.37833259]. \t  -57.55541469277774 \t -6.088167782795715\n",
            "20     \t [-4.92645427  4.16957537]. \t  -47.86323471924115 \t -6.088167782795715\n"
          ],
          "name": "stdout"
        }
      ]
    },
    {
      "cell_type": "code",
      "metadata": {
        "id": "6amuYlUdIv7r",
        "colab": {
          "base_uri": "https://localhost:8080/"
        },
        "outputId": "183a0a9d-eaa5-4b35-8359-997ac4871916"
      },
      "source": [
        "### EXACT GP EI GRADIENTS\n",
        "\n",
        "np.random.seed(run_num_10)\n",
        "surrogate_exact_10 = dGaussianProcess(cov_func, optimize=opt)\n",
        "\n",
        "exact_10 = dGPGO(surrogate_exact_10, Acquisition_new(util_grad_exact), objfunc, param)\n",
        "exact_10.run(init_evals=n_init, max_iter=iters)\n"
      ],
      "execution_count": 42,
      "outputs": [
        {
          "output_type": "stream",
          "text": [
            "Evaluation \t Proposed point \t  Current eval. \t Best eval.\n",
            "init   \t [ 2.77832339 -4.90750004]. \t  -41.674330194390116 \t -13.839458310244165\n",
            "init   \t [1.36855793 2.54775176]. \t  -44.69639719065837 \t -13.839458310244165\n",
            "init   \t [-0.01528819 -2.81808235]. \t  -13.839458310244165 \t -13.839458310244165\n",
            "init   \t [-3.09183626  2.66783449]. \t  -33.23221510904937 \t -13.839458310244165\n",
            "init   \t [-3.38830503 -4.2154003 ]. \t  -54.73014366983691 \t -13.839458310244165\n",
            "1      \t [ 5.12       -0.56214267]. \t  -48.488082131966394 \t -13.839458310244165\n",
            "2      \t [5.12 5.12]. \t  -57.849427451571785 \t -13.839458310244165\n",
            "3      \t [-3.88543601 -0.60438156]. \t  -35.86799706510702 \t -13.839458310244165\n",
            "4      \t [-0.8607295  5.12     ]. \t  -33.25607916111801 \t -13.839458310244165\n",
            "5      \t [-0.55656646 -0.0568942 ]. \t  -20.320188935495914 \t -13.839458310244165\n",
            "6      \t [ 2.05340944 -0.65687918]. \t  -20.72857955407371 \t -13.839458310244165\n",
            "7      \t [-4.64973396  4.86109759]. \t  -64.714437987482 \t -13.839458310244165\n",
            "8      \t [4.43836979 2.27749295]. \t  -55.86452622659318 \t -13.839458310244165\n",
            "9      \t [2.37058226 5.12      ]. \t  -51.4164682875212 \t -13.839458310244165\n",
            "10     \t [-0.63982874 -5.08623929]. \t  -44.09421643119464 \t -13.839458310244165\n",
            "11     \t [ 5.11555399 -3.52868125]. \t  -60.98049918860295 \t -13.839458310244165\n",
            "12     \t [ 2.08309958 -2.53596618]. \t  -31.848585257987782 \t -13.839458310244165\n",
            "13     \t [-0.98726271  2.09614839]. \t  \u001b[92m-7.170499769053578\u001b[0m \t -7.170499769053578\n",
            "14     \t [-1.35091224 -2.00538207]. \t  -21.776365334975413 \t -7.170499769053578\n",
            "15     \t [-4.95264825  1.44167275]. \t  -46.382421248156575 \t -7.170499769053578\n",
            "16     \t [-5.0591926  -2.92141175]. \t  -36.0083016978378 \t -7.170499769053578\n",
            "17     \t [-0.95084285  1.55966899]. \t  -23.11527400029102 \t -7.170499769053578\n",
            "18     \t [-0.88250718  3.09516066]. \t  -14.69709624319223 \t -7.170499769053578\n",
            "19     \t [2.97334153 0.50986876]. \t  -29.221461395594943 \t -7.170499769053578\n",
            "20     \t [-2.11990076  0.57757558]. \t  -26.369052563418283 \t -7.170499769053578\n"
          ],
          "name": "stdout"
        }
      ]
    },
    {
      "cell_type": "code",
      "metadata": {
        "id": "VwbLIP9cIv-F",
        "colab": {
          "base_uri": "https://localhost:8080/"
        },
        "outputId": "a77f9222-ba37-4195-8354-79dde012cfa5"
      },
      "source": [
        "### EXACT GP EI GRADIENTS\n",
        "\n",
        "np.random.seed(run_num_11)\n",
        "surrogate_exact_11 = dGaussianProcess(cov_func, optimize=opt)\n",
        "\n",
        "exact_11 = dGPGO(surrogate_exact_11, Acquisition_new(util_grad_exact), objfunc, param)\n",
        "exact_11.run(init_evals=n_init, max_iter=iters)\n"
      ],
      "execution_count": 43,
      "outputs": [
        {
          "output_type": "stream",
          "text": [
            "Evaluation \t Proposed point \t  Current eval. \t Best eval.\n",
            "init   \t [-3.27403839 -4.92057353]. \t  -47.655641290890955 \t -10.679755252484755\n",
            "init   \t [-0.37664229  2.30332343]. \t  -35.87889240695259 \t -10.679755252484755\n",
            "init   \t [-0.81711509 -0.14922651]. \t  -10.679755252484755 \t -10.679755252484755\n",
            "init   \t [-4.98912446 -0.12931474]. \t  -28.05462905574235 \t -10.679755252484755\n",
            "init   \t [4.52410012 3.59214172]. \t  -71.62694632141611 \t -10.679755252484755\n",
            "1      \t [ 3.39619778 -4.31739077]. \t  -62.230362468246824 \t -10.679755252484755\n",
            "2      \t [-3.97579834  4.78684114]. \t  -46.542034180630544 \t -10.679755252484755\n",
            "3      \t [ 5.12       -0.54962216]. \t  -48.744672707759506 \t -10.679755252484755\n",
            "4      \t [1.21008474 5.12      ]. \t  -37.90727715335119 \t -10.679755252484755\n",
            "5      \t [-0.0588274  -3.26715547]. \t  -22.42895513784663 \t -10.679755252484755\n",
            "6      \t [ 1.91856166 -0.35420026]. \t  -21.17645365706239 \t -10.679755252484755\n",
            "7      \t [-2.65203963 -1.89361965]. \t  -28.544707523802657 \t -10.679755252484755\n",
            "8      \t [-3.83420483  2.26683812]. \t  -35.84833260186047 \t -10.679755252484755\n",
            "9      \t [-1.36777274  5.12      ]. \t  -47.53830635145509 \t -10.679755252484755\n",
            "10     \t [2.40536399 1.82076092]. \t  -33.08358111256332 \t -10.679755252484755\n",
            "11     \t [ 0.87960591 -4.93521688]. \t  -28.674409004968105 \t -10.679755252484755\n",
            "12     \t [-5.04123902 -3.88243744]. \t  -43.42756848912794 \t -10.679755252484755\n",
            "13     \t [-2.20549757  0.48332707]. \t  -32.2831269363017 \t -10.679755252484755\n",
            "14     \t [-0.03466856 -0.9979584 ]. \t  \u001b[92m-1.2342563670855462\u001b[0m \t -1.2342563670855462\n",
            "15     \t [ 0.45303422 -1.44839039]. \t  -41.349647738474914 \t -1.2342563670855462\n",
            "16     \t [ 3.2131497  -1.90758453]. \t  -23.307480904542707 \t -1.2342563670855462\n",
            "17     \t [-1.27928857 -4.61414198]. \t  -52.29342466193578 \t -1.2342563670855462\n",
            "18     \t [0.105746   0.32749722]. \t  -16.924845204222127 \t -1.2342563670855462\n",
            "19     \t [ 5.12      -3.0001246]. \t  -37.92546441587807 \t -1.2342563670855462\n",
            "20     \t [4.83064335 1.79470398]. \t  -38.93111232806912 \t -1.2342563670855462\n"
          ],
          "name": "stdout"
        }
      ]
    },
    {
      "cell_type": "code",
      "metadata": {
        "id": "MlUNFjc-JTBY",
        "colab": {
          "base_uri": "https://localhost:8080/"
        },
        "outputId": "bd8573c5-b19a-4838-9579-047a66e62af6"
      },
      "source": [
        "### EXACT GP EI GRADIENTS\n",
        "\n",
        "np.random.seed(run_num_12)\n",
        "surrogate_exact_12 = dGaussianProcess(cov_func, optimize=opt)\n",
        "\n",
        "exact_12 = dGPGO(surrogate_exact_12, Acquisition_new(util_grad_exact), objfunc, param)\n",
        "exact_12.run(init_evals=n_init, max_iter=iters)\n"
      ],
      "execution_count": 44,
      "outputs": [
        {
          "output_type": "stream",
          "text": [
            "Evaluation \t Proposed point \t  Current eval. \t Best eval.\n",
            "init   \t [-3.54137249  2.45810889]. \t  -57.903242869085595 \t -40.51116653209555\n",
            "init   \t [-2.42365424  0.34549139]. \t  -40.51116653209555 \t -40.51116653209555\n",
            "init   \t [-4.97075238  4.28796936]. \t  -55.62655915398208 \t -40.51116653209555\n",
            "init   \t [ 4.10332011 -4.77776458]. \t  -49.962803461970296 \t -40.51116653209555\n",
            "init   \t [ 4.6791612  -3.71497655]. \t  -62.183891474990624 \t -40.51116653209555\n",
            "1      \t [5.12 5.12]. \t  -57.849427451571785 \t -40.51116653209555\n",
            "2      \t [-1.429116   -5.07020608]. \t  -47.731094352895866 \t -40.51116653209555\n",
            "3      \t [2.46876182 0.87652674]. \t  \u001b[92m-29.532509184605182\u001b[0m \t -29.532509184605182\n",
            "4      \t [0.32776192 5.12      ]. \t  -43.725977608522456 \t -29.532509184605182\n",
            "5      \t [-4.47959654 -3.34109879]. \t  -66.56409552980816 \t -29.532509184605182\n",
            "6      \t [ 1.00352951 -2.33107052]. \t  \u001b[92m-21.31979016833762\u001b[0m \t -21.31979016833762\n",
            "7      \t [ 5.12       -0.28310512]. \t  -41.06995156771072 \t -21.31979016833762\n",
            "8      \t [-0.15731624  2.29447715]. \t  -22.547847646820472 \t -21.31979016833762\n",
            "9      \t [2.72935365 3.52366214]. \t  -51.04886330688881 \t -21.31979016833762\n",
            "10     \t [-4.98780247  0.09785811]. \t  -26.748564694619755 \t -21.31979016833762\n",
            "11     \t [ 1.22821966 -4.78430874]. \t  -40.89487706156218 \t -21.31979016833762\n",
            "12     \t [-2.29342935  5.12      ]. \t  -46.87954029867729 \t -21.31979016833762\n",
            "13     \t [-1.31267791 -2.27516803]. \t  -32.31144390075615 \t -21.31979016833762\n",
            "14     \t [5.12      2.2695044]. \t  -45.29779634005951 \t -21.31979016833762\n",
            "15     \t [ 0.3675907  -0.19080988]. \t  -23.271984946997783 \t -21.31979016833762\n",
            "16     \t [ 3.10089232 -1.56323615]. \t  -33.22314850225934 \t -21.31979016833762\n",
            "17     \t [-1.1856394   3.15456434]. \t  -21.77898784568265 \t -21.31979016833762\n",
            "18     \t [-3.91662165 -5.06347114]. \t  -43.104552987872864 \t -21.31979016833762\n",
            "19     \t [-3.07794584 -1.58951586]. \t  -31.63533749230029 \t -21.31979016833762\n",
            "20     \t [2.5568005 5.12     ]. \t  -54.8318279874878 \t -21.31979016833762\n"
          ],
          "name": "stdout"
        }
      ]
    },
    {
      "cell_type": "code",
      "metadata": {
        "id": "9BsKdU9eJTFL",
        "colab": {
          "base_uri": "https://localhost:8080/"
        },
        "outputId": "15bec48a-5fd4-4ae8-a1a3-a63345174bbd"
      },
      "source": [
        "### EXACT GP EI GRADIENTS\n",
        "\n",
        "np.random.seed(run_num_13)\n",
        "surrogate_exact_13 = dGaussianProcess(cov_func, optimize=opt)\n",
        "\n",
        "exact_13 = dGPGO(surrogate_exact_13, Acquisition_new(util_grad_exact), objfunc, param)\n",
        "exact_13.run(init_evals=n_init, max_iter=iters)\n"
      ],
      "execution_count": 45,
      "outputs": [
        {
          "output_type": "stream",
          "text": [
            "Evaluation \t Proposed point \t  Current eval. \t Best eval.\n",
            "init   \t [ 2.84367268 -2.68757791]. \t  -33.58019830007169 \t -17.435826639425656\n",
            "init   \t [3.32061217 4.76927179]. \t  -56.857057997503354 \t -17.435826639425656\n",
            "init   \t [ 4.83943541 -0.47667971]. \t  -48.211919361679726 \t -17.435826639425656\n",
            "init   \t [1.11659482 2.82139151]. \t  -17.435826639425656 \t -17.435826639425656\n",
            "init   \t [1.45012065 2.27346667]. \t  -38.25352329493884 \t -17.435826639425656\n",
            "1      \t [-4.77366547 -2.51495235]. \t  -57.58729610569417 \t -17.435826639425656\n",
            "2      \t [-4.65374571  4.09568012]. \t  -55.87107425121984 \t -17.435826639425656\n",
            "3      \t [-0.85315619 -1.19925842]. \t  \u001b[92m-12.994523582970656\u001b[0m \t -12.994523582970656\n",
            "4      \t [-0.97448151 -4.42119294]. \t  -39.42375662415496 \t -12.994523582970656\n",
            "5      \t [-0.96527163  5.12      ]. \t  -30.09358658323204 \t -12.994523582970656\n",
            "6      \t [-3.07098317  0.95918525]. \t  \u001b[92m-11.656204511354824\u001b[0m \t -11.656204511354824\n",
            "7      \t [5.12       2.46274437]. \t  -54.717095688219985 \t -11.656204511354824\n",
            "8      \t [ 4.50831156 -4.88177911]. \t  -66.77725603317572 \t -11.656204511354824\n",
            "9      \t [-1.23719869  2.2671086 ]. \t  -26.93987516676108 \t -11.656204511354824\n",
            "10     \t [ 1.25349067 -0.37949298]. \t  -29.202403149174312 \t -11.656204511354824\n",
            "11     \t [-4.79969745  1.54030771]. \t  -52.01856359090585 \t -11.656204511354824\n",
            "12     \t [-4.6036405  -4.99499112]. \t  -64.102009656859 \t -11.656204511354824\n",
            "13     \t [ 1.30544115 -4.75878687]. \t  -47.21185961311351 \t -11.656204511354824\n",
            "14     \t [-2.21115838 -1.98096483]. \t  -16.468543551915133 \t -11.656204511354824\n",
            "15     \t [-2.2941688   0.00479388]. \t  -18.007490626889915 \t -11.656204511354824\n",
            "16     \t [1.05775094 5.12      ]. \t  -30.6946953187782 \t -11.656204511354824\n",
            "17     \t [ 0.25872039 -2.30308249]. \t  -29.192547659270677 \t -11.656204511354824\n",
            "18     \t [-2.7617771  5.12     ]. \t  -45.81282448536625 \t -11.656204511354824\n",
            "19     \t [5.12 5.12]. \t  -57.8494274515718 \t -11.656204511354824\n",
            "20     \t [3.13793856 0.85182447]. \t  -18.128554701542747 \t -11.656204511354824\n"
          ],
          "name": "stdout"
        }
      ]
    },
    {
      "cell_type": "code",
      "metadata": {
        "id": "k6GjFBr1JTJf",
        "colab": {
          "base_uri": "https://localhost:8080/"
        },
        "outputId": "bc4c902a-273a-4eca-a0cf-d73e8963fcbb"
      },
      "source": [
        "### EXACT GP EI GRADIENTS\n",
        "\n",
        "np.random.seed(run_num_14)\n",
        "surrogate_exact_14 = dGaussianProcess(cov_func, optimize=opt)\n",
        "\n",
        "exact_14 = dGPGO(surrogate_exact_14, Acquisition_new(util_grad_exact), objfunc, param)\n",
        "exact_14.run(init_evals=n_init, max_iter=iters)\n"
      ],
      "execution_count": 46,
      "outputs": [
        {
          "output_type": "stream",
          "text": [
            "Evaluation \t Proposed point \t  Current eval. \t Best eval.\n",
            "init   \t [0.14277984 2.79721013]. \t  -18.683085263052178 \t -10.423838604848608\n",
            "init   \t [ 3.7931795  -5.03759925]. \t  -47.36348784446708 \t -10.423838604848608\n",
            "init   \t [-1.94830412  4.68586229]. \t  -40.19779334078636 \t -10.423838604848608\n",
            "init   \t [ 0.13431513 -1.86076749]. \t  -10.423838604848608 \t -10.423838604848608\n",
            "init   \t [ 0.40140736 -2.85434939]. \t  -30.353548735049138 \t -10.423838604848608\n",
            "1      \t [5.12 5.12]. \t  -57.849427451571785 \t -10.423838604848608\n",
            "2      \t [-4.86239269  0.12555678]. \t  -30.12298792967517 \t -10.423838604848608\n",
            "3      \t [ 5.12       -0.06379214]. \t  -29.721361132465084 \t -10.423838604848608\n",
            "4      \t [-4.62652576 -3.93393713]. \t  -54.732738587882196 \t -10.423838604848608\n",
            "5      \t [-1.45242996  0.00782361]. \t  -21.678328853366786 \t -10.423838604848608\n",
            "6      \t [-4.94809879  4.29013902]. \t  -55.91135949686909 \t -10.423838604848608\n",
            "7      \t [1.92182311 0.58346534]. \t  -23.87226453749812 \t -10.423838604848608\n",
            "8      \t [1.75422433 5.12      ]. \t  -41.73662530195939 \t -10.423838604848608\n",
            "9      \t [ 3.31338203 -2.14856978]. \t  -33.5225139400005 \t -10.423838604848608\n",
            "10     \t [-1.73410604 -4.5714758 ]. \t  -53.910903420054204 \t -10.423838604848608\n",
            "11     \t [4.07110838 2.41682794]. \t  -42.06189741721336 \t -10.423838604848608\n",
            "12     \t [-2.85768609  2.05712815]. \t  -16.773925105809358 \t -10.423838604848608\n",
            "13     \t [-2.20168684 -1.67292888]. \t  -29.31238382781175 \t -10.423838604848608\n",
            "14     \t [ 5.12       -2.89446182]. \t  -39.42184334690116 \t -10.423838604848608\n",
            "15     \t [ 0.70568881 -0.75383388]. \t  -23.57371997971813 \t -10.423838604848608\n",
            "16     \t [ 1.34255645 -4.68101175]. \t  -53.40770861969442 \t -10.423838604848608\n",
            "17     \t [1.81326854 2.72129145]. \t  -28.61601304864555 \t -10.423838604848608\n",
            "18     \t [-4.85720682 -1.82313435]. \t  -36.24308779097792 \t -10.423838604848608\n",
            "19     \t [-1.00849196  1.82002867]. \t  \u001b[92m-10.084369005358766\u001b[0m \t -10.084369005358766\n",
            "20     \t [-4.64475391  2.03993852]. \t  -42.189577183932215 \t -10.084369005358766\n"
          ],
          "name": "stdout"
        }
      ]
    },
    {
      "cell_type": "code",
      "metadata": {
        "id": "dPS8WB3aJTN6",
        "colab": {
          "base_uri": "https://localhost:8080/"
        },
        "outputId": "e668b32a-1f0f-4908-a0e6-3b8ca8fd4c7a"
      },
      "source": [
        "### EXACT GP EI GRADIENTS\n",
        "\n",
        "np.random.seed(run_num_15)\n",
        "surrogate_exact_15 = dGaussianProcess(cov_func, optimize=opt)\n",
        "\n",
        "exact_15 = dGPGO(surrogate_exact_15, Acquisition_new(util_grad_exact), objfunc, param)\n",
        "exact_15.run(init_evals=n_init, max_iter=iters)\n"
      ],
      "execution_count": 47,
      "outputs": [
        {
          "output_type": "stream",
          "text": [
            "Evaluation \t Proposed point \t  Current eval. \t Best eval.\n",
            "init   \t [ 3.57189322 -3.28810573]. \t  -54.938487770767075 \t -7.990765314336182\n",
            "init   \t [-4.56332069 -1.41784631]. \t  -60.750198753157726 \t -7.990765314336182\n",
            "init   \t [-2.29989449  0.3072023 ]. \t  -31.984997246800887 \t -7.990765314336182\n",
            "init   \t [-1.9873903  -2.00218256]. \t  -7.990765314336182 \t -7.990765314336182\n",
            "init   \t [-3.97576933 -2.5610341 ]. \t  -41.754957769694336 \t -7.990765314336182\n",
            "1      \t [5.12 5.12]. \t  -57.849427451571785 \t -7.990765314336182\n",
            "2      \t [-0.36825142  5.12      ]. \t  -45.82529292399006 \t -7.990765314336182\n",
            "3      \t [-4.85889915  4.07088597]. \t  -44.83579234327536 \t -7.990765314336182\n",
            "4      \t [2.20913429 1.49245466]. \t  -34.55691209576099 \t -7.990765314336182\n",
            "5      \t [-0.69489951 -4.85719791]. \t  -41.23097385012861 \t -7.990765314336182\n",
            "6      \t [ 5.12000000e+00 -9.02733543e-04]. \t  -28.92487540059215 \t -7.990765314336182\n",
            "7      \t [ 0.62530697 -1.44321218]. \t  -38.90145030882049 \t -7.990765314336182\n",
            "8      \t [2.35234706 4.32315096]. \t  -54.65577056609698 \t -7.990765314336182\n",
            "9      \t [-0.58540758  2.27977416]. \t  -35.994300908816165 \t -7.990765314336182\n",
            "10     \t [-4.26886322 -4.85416671]. \t  -56.880949494275505 \t -7.990765314336182\n",
            "11     \t [5.12       2.39767096]. \t  -52.67683110019404 \t -7.990765314336182\n",
            "12     \t [-2.7069573   4.89743991]. \t  -45.98956171645615 \t -7.990765314336182\n",
            "13     \t [ 2.18708431 -5.08382078]. \t  -38.132719773023325 \t -7.990765314336182\n",
            "14     \t [-3.9999427   1.76222657]. \t  -28.33752236713603 \t -7.990765314336182\n",
            "15     \t [ 3.21203239 -0.74383004]. \t  -28.89499517952437 \t -7.990765314336182\n",
            "16     \t [-1.49203685 -2.38109011]. \t  -45.21965187787808 \t -7.990765314336182\n",
            "17     \t [ 4.26154555 -5.03079238]. \t  -54.38101279183634 \t -7.990765314336182\n",
            "18     \t [ 5.10684557 -1.7214604 ]. \t  -42.996951321010485 \t -7.990765314336182\n",
            "19     \t [0.14537484 0.42709903]. \t  -23.062267010521147 \t -7.990765314336182\n",
            "20     \t [ 1.15717596 -3.39098092]. \t  -35.07484586249618 \t -7.990765314336182\n"
          ],
          "name": "stdout"
        }
      ]
    },
    {
      "cell_type": "code",
      "metadata": {
        "id": "SHWdp2giJTRm",
        "colab": {
          "base_uri": "https://localhost:8080/"
        },
        "outputId": "4acbf4af-5b3a-4a6f-a312-f1c2c1c3018c"
      },
      "source": [
        "### EXACT GP EI GRADIENTS\n",
        "\n",
        "np.random.seed(run_num_16)\n",
        "surrogate_exact_16 = dGaussianProcess(cov_func, optimize=opt)\n",
        "\n",
        "exact_16 = dGPGO(surrogate_exact_16, Acquisition_new(util_grad_exact), objfunc, param)\n",
        "exact_16.run(init_evals=n_init, max_iter=iters)\n"
      ],
      "execution_count": 48,
      "outputs": [
        {
          "output_type": "stream",
          "text": [
            "Evaluation \t Proposed point \t  Current eval. \t Best eval.\n",
            "init   \t [-2.83349935  0.23719262]. \t  -22.27210456874814 \t -22.27210456874814\n",
            "init   \t [ 0.51918292 -4.65303603]. \t  -57.57021076017139 \t -22.27210456874814\n",
            "init   \t [-1.42613673 -2.83565116]. \t  -33.89145899403749 \t -22.27210456874814\n",
            "init   \t [ 1.9325559  -3.44339021]. \t  -35.85029586225333 \t -22.27210456874814\n",
            "init   \t [-4.39987336  4.51595121]. \t  -77.78800881964571 \t -22.27210456874814\n",
            "1      \t [5.12 5.12]. \t  -57.849427451571785 \t -22.27210456874814\n",
            "2      \t [5.12       0.19089745]. \t  -35.33239674885928 \t -22.27210456874814\n",
            "3      \t [0.58757105 3.46790038]. \t  -50.692939558987604 \t -22.27210456874814\n",
            "4      \t [ 5.11613919 -4.88814769]. \t  -54.984857724695374 \t -22.27210456874814\n",
            "5      \t [-4.65821696 -3.90889141]. \t  -54.025186340897356 \t -22.27210456874814\n",
            "6      \t [ 1.43384889 -0.05161342]. \t  \u001b[92m-21.728417965050816\u001b[0m \t -21.728417965050816\n",
            "7      \t [3.54046403 2.5630999 ]. \t  -58.007211609284084 \t -21.728417965050816\n",
            "8      \t [-1.43185064  5.08685828]. \t  -48.476090581079596 \t -21.728417965050816\n",
            "9      \t [-4.78723825  0.23544327]. \t  -39.741273048451504 \t -21.728417965050816\n",
            "10     \t [ 5.02807606 -2.16143745]. \t  -34.82676246244526 \t -21.728417965050816\n",
            "11     \t [-0.92017789  1.27598093]. \t  \u001b[92m-15.33159832541032\u001b[0m \t -15.33159832541032\n",
            "12     \t [2.36001782 5.12      ]. \t  -50.869500214865724 \t -15.33159832541032\n",
            "13     \t [-1.90353606 -4.93934504]. \t  -30.519286965469977 \t -15.33159832541032\n",
            "14     \t [-2.5625417   2.59581412]. \t  -50.78460889854546 \t -15.33159832541032\n",
            "15     \t [-0.31907613 -0.72132217]. \t  -26.619459460338355 \t -15.33159832541032\n",
            "16     \t [-3.30763949 -1.82060629]. \t  -33.50580169601557 \t -15.33159832541032\n",
            "17     \t [ 2.98281565 -1.24775335]. \t  -20.371154846294477 \t -15.33159832541032\n",
            "18     \t [0.9913081  1.39445716]. \t  -20.822710821052162 \t -15.33159832541032\n",
            "19     \t [ 3.06500677 -4.96257629]. \t  -35.1192356201996 \t -15.33159832541032\n",
            "20     \t [ 1.26133501 -1.86923264]. \t  -18.986349661522382 \t -15.33159832541032\n"
          ],
          "name": "stdout"
        }
      ]
    },
    {
      "cell_type": "code",
      "metadata": {
        "id": "yU2SflSsJTUs",
        "colab": {
          "base_uri": "https://localhost:8080/"
        },
        "outputId": "6cabc348-6711-43b3-f20a-c3e181bb56f9"
      },
      "source": [
        "### EXACT GP EI GRADIENTS\n",
        "\n",
        "np.random.seed(run_num_17)\n",
        "surrogate_exact_17 = dGaussianProcess(cov_func, optimize=opt)\n",
        "\n",
        "exact_17 = dGPGO(surrogate_exact_17, Acquisition_new(util_grad_exact), objfunc, param)\n",
        "exact_17.run(init_evals=n_init, max_iter=iters)\n"
      ],
      "execution_count": 49,
      "outputs": [
        {
          "output_type": "stream",
          "text": [
            "Evaluation \t Proposed point \t  Current eval. \t Best eval.\n",
            "init   \t [-2.10263037  0.31320838]. \t  -20.395145364684023 \t -20.395145364684023\n",
            "init   \t [-3.15882714 -4.42470033]. \t  -53.03732051200137 \t -20.395145364684023\n",
            "init   \t [2.93873111 1.60085526]. \t  -29.989224812583537 \t -20.395145364684023\n",
            "init   \t [1.40821398 0.77417363]. \t  -29.451989415882437 \t -20.395145364684023\n",
            "init   \t [-4.71999574 -1.45598869]. \t  -55.89242173757483 \t -20.395145364684023\n",
            "1      \t [ 4.96008736 -4.44720822]. \t  -64.14783177084814 \t -20.395145364684023\n",
            "2      \t [-4.48453384  4.87458544]. \t  -66.77282209641305 \t -20.395145364684023\n",
            "3      \t [0.22730878 5.12      ]. \t  -37.55547657572979 \t -20.395145364684023\n",
            "4      \t [5.12 5.12]. \t  -57.849427451571785 \t -20.395145364684023\n",
            "5      \t [ 0.88533857 -3.41270454]. \t  -33.44832465431712 \t -20.395145364684023\n",
            "6      \t [ 5.12       -0.80995818]. \t  -35.901943470721974 \t -20.395145364684023\n",
            "7      \t [-1.78717297  2.96053369]. \t  \u001b[92m-19.950161754452793\u001b[0m \t -19.950161754452793\n",
            "8      \t [-1.42603705 -1.90625419]. \t  -26.29200212603258 \t -19.950161754452793\n",
            "9      \t [-5.11073253  2.36032461]. \t  -50.404948731285806 \t -19.950161754452793\n",
            "10     \t [5.12      2.2063891]. \t  -41.086874622179536 \t -19.950161754452793\n",
            "11     \t [ 2.71792503 -1.71523219]. \t  -34.49804583235295 \t -19.950161754452793\n",
            "12     \t [2.52237887 4.14676636]. \t  -47.41837173694961 \t -19.950161754452793\n",
            "13     \t [-0.13855659 -4.90033486]. \t  -29.486104526047043 \t -19.950161754452793\n",
            "14     \t [ 2.4597096  -4.88486078]. \t  -52.09799098895134 \t -19.950161754452793\n",
            "15     \t [0.08590733 2.39433869]. \t  -25.03799204035468 \t -19.950161754452793\n",
            "16     \t [ 0.24452113 -0.77530637]. \t  \u001b[92m-18.733356364392215\u001b[0m \t -18.733356364392215\n",
            "17     \t [-1.74399046  5.12      ]. \t  -42.34371713255854 \t -18.733356364392215\n",
            "18     \t [-4.95270712 -5.09088973]. \t  -52.47152439656671 \t -18.733356364392215\n",
            "19     \t [-3.36433861  0.74574542]. \t  -38.72409149749925 \t -18.733356364392215\n",
            "20     \t [-0.74263859  0.63292993]. \t  -28.124599279657364 \t -18.733356364392215\n"
          ],
          "name": "stdout"
        }
      ]
    },
    {
      "cell_type": "code",
      "metadata": {
        "id": "es0KCh_0JTgY",
        "colab": {
          "base_uri": "https://localhost:8080/"
        },
        "outputId": "5767e3e4-0eb6-444d-f0ea-0bacb00b7a18"
      },
      "source": [
        "### EXACT GP EI GRADIENTS\n",
        "\n",
        "np.random.seed(run_num_18)\n",
        "surrogate_exact_18 = dGaussianProcess(cov_func, optimize=opt)\n",
        "\n",
        "exact_18 = dGPGO(surrogate_exact_18, Acquisition_new(util_grad_exact), objfunc, param)\n",
        "exact_18.run(init_evals=n_init, max_iter=iters)\n"
      ],
      "execution_count": 50,
      "outputs": [
        {
          "output_type": "stream",
          "text": [
            "Evaluation \t Proposed point \t  Current eval. \t Best eval.\n",
            "init   \t [1.53983224 0.05584255]. \t  -22.67190580753611 \t -22.67190580753611\n",
            "init   \t [ 3.87687906 -3.25795609]. \t  -38.990099416711985 \t -22.67190580753611\n",
            "init   \t [3.60686662 2.56139557]. \t  -56.66448698782129 \t -22.67190580753611\n",
            "init   \t [1.70088108 4.99604939]. \t  -40.894059318256296 \t -22.67190580753611\n",
            "init   \t [-2.48864335 -4.83014733]. \t  -54.6725749848372 \t -22.67190580753611\n",
            "1      \t [-5.00718904  2.9174042 ]. \t  -34.91005808676357 \t -22.67190580753611\n",
            "2      \t [-2.99572465 -0.54340826]. \t  -28.90362514523323 \t -22.67190580753611\n",
            "3      \t [-1.89011448  4.78895648]. \t  -36.373582021495075 \t -22.67190580753611\n",
            "4      \t [ 0.58174971 -3.11206401]. \t  -31.111128390399358 \t -22.67190580753611\n",
            "5      \t [ 5.12       -0.35167913]. \t  -45.0112693539802 \t -22.67190580753611\n",
            "6      \t [-0.81144173  1.96546466]. \t  \u001b[92m-10.990675371388438\u001b[0m \t -10.990675371388438\n",
            "7      \t [5.12 5.12]. \t  -57.849427451571785 \t -10.990675371388438\n",
            "8      \t [-4.82607423 -2.0709296 ]. \t  -33.95655437394192 \t -10.990675371388438\n",
            "9      \t [-0.60410891 -0.77155535]. \t  -27.545761315215703 \t -10.990675371388438\n",
            "10     \t [-2.68707018  2.06373337]. \t  -26.122250654272896 \t -10.990675371388438\n",
            "11     \t [ 1.63142879 -4.9789025 ]. \t  -44.318515358189245 \t -10.990675371388438\n",
            "12     \t [0.60213516 2.65230445]. \t  -41.167975680649576 \t -10.990675371388438\n",
            "13     \t [-4.93923416  0.50048379]. \t  -45.36652847565296 \t -10.990675371388438\n",
            "14     \t [-4.90291004  5.06915427]. \t  -52.46779943637062 \t -10.990675371388438\n",
            "15     \t [-4.79469121 -4.78523222]. \t  -60.92056714346226 \t -10.990675371388438\n",
            "16     \t [ 4.55265018 -4.94047264]. \t  -65.28403044729268 \t -10.990675371388438\n",
            "17     \t [ 2.88521266 -1.42825977]. \t  -31.855612789578743 \t -10.990675371388438\n",
            "18     \t [-1.57045428 -2.60866883]. \t  -46.065736777449956 \t -10.990675371388438\n",
            "19     \t [-0.85609865  1.30075036]. \t  -19.376362359519362 \t -10.990675371388438\n",
            "20     \t [-0.20772915 -4.92801707]. \t  -32.709142029936935 \t -10.990675371388438\n"
          ],
          "name": "stdout"
        }
      ]
    },
    {
      "cell_type": "code",
      "metadata": {
        "id": "Pput2LHPIwBM",
        "colab": {
          "base_uri": "https://localhost:8080/"
        },
        "outputId": "695c53df-3e34-492d-fb41-664315ee09d8"
      },
      "source": [
        "### EXACT GP EI GRADIENTS\n",
        "\n",
        "np.random.seed(run_num_19)\n",
        "surrogate_exact_19 = dGaussianProcess(cov_func, optimize=opt)\n",
        "\n",
        "exact_19 = dGPGO(surrogate_exact_19, Acquisition_new(util_grad_exact), objfunc, param)\n",
        "exact_19.run(init_evals=n_init, max_iter=iters)\n"
      ],
      "execution_count": 51,
      "outputs": [
        {
          "output_type": "stream",
          "text": [
            "Evaluation \t Proposed point \t  Current eval. \t Best eval.\n",
            "init   \t [-4.12125592  2.6751971 ]. \t  -41.43485596167127 \t -25.867003842388073\n",
            "init   \t [-2.59135515 -3.70553152]. \t  -51.60126035043229 \t -25.867003842388073\n",
            "init   \t [-1.72598719 -4.27008445]. \t  -43.97430127029199 \t -25.867003842388073\n",
            "init   \t [1.76104531 3.13952049]. \t  -25.867003842388073 \t -25.867003842388073\n",
            "init   \t [4.9432772  1.38916592]. \t  -44.66580306903559 \t -25.867003842388073\n",
            "1      \t [ 4.21710172 -4.56788076]. \t  -65.70127216515351 \t -25.867003842388073\n",
            "2      \t [ 1.19245349 -1.01338513]. \t  \u001b[92m-8.946756834325152\u001b[0m \t -8.946756834325152\n",
            "3      \t [5.12 5.12]. \t  -57.849427451571785 \t -8.946756834325152\n",
            "4      \t [-1.28586056  5.12      ]. \t  -42.81231968229143 \t -8.946756834325152\n",
            "5      \t [-1.48288024  0.20252629]. \t  -29.243329510292646 \t -8.946756834325152\n",
            "6      \t [-4.97430011 -0.52168424]. \t  -45.053235859354544 \t -8.946756834325152\n",
            "7      \t [ 5.12       -1.58133241]. \t  -50.147754869599154 \t -8.946756834325152\n",
            "8      \t [ 1.16795839 -3.81100912]. \t  -27.21824509756451 \t -8.946756834325152\n",
            "9      \t [2.21135855 0.52587415]. \t  -32.63066179237037 \t -8.946756834325152\n",
            "10     \t [-5.03211639 -3.09420229]. \t  -36.80032174368513 \t -8.946756834325152\n",
            "11     \t [-0.87329097  2.60359414]. \t  -28.50198911162752 \t -8.946756834325152\n",
            "12     \t [2.03772227 5.12      ]. \t  -33.3565963211082 \t -8.946756834325152\n",
            "13     \t [ 0.2051728 -1.9280392]. \t  -11.984819106414944 \t -8.946756834325152\n",
            "14     \t [-4.14340968  5.11146057]. \t  -49.440843163396714 \t -8.946756834325152\n",
            "15     \t [ 2.56218993 -1.94319667]. \t  -30.217240518617672 \t -8.946756834325152\n",
            "16     \t [-2.80902495 -1.24217219]. \t  -25.317760583300576 \t -8.946756834325152\n",
            "17     \t [-4.5151617  -5.00991106]. \t  -65.4599357402167 \t -8.946756834325152\n",
            "18     \t [3.65152548 3.22839111]. \t  -48.2026288512546 \t -8.946756834325152\n",
            "19     \t [ 0.38762006 -0.71392349]. \t  -30.516284786968214 \t -8.946756834325152\n",
            "20     \t [-0.09744587 -4.87430346]. \t  -28.544824028449682 \t -8.946756834325152\n"
          ],
          "name": "stdout"
        }
      ]
    },
    {
      "cell_type": "code",
      "metadata": {
        "id": "aw3xvSryIwDi",
        "colab": {
          "base_uri": "https://localhost:8080/"
        },
        "outputId": "fbac2d06-607a-40ca-9903-0eceb674e3aa"
      },
      "source": [
        "### EXACT GP EI GRADIENTS\n",
        "\n",
        "np.random.seed(run_num_20)\n",
        "surrogate_exact_20 = dGaussianProcess(cov_func, optimize=opt)\n",
        "\n",
        "exact_20 = dGPGO(surrogate_exact_20, Acquisition_new(util_grad_exact), objfunc, param)\n",
        "exact_20.run(init_evals=n_init, max_iter=iters)\n"
      ],
      "execution_count": 52,
      "outputs": [
        {
          "output_type": "stream",
          "text": [
            "Evaluation \t Proposed point \t  Current eval. \t Best eval.\n",
            "init   \t [0.9024594  4.07258857]. \t  -20.24255447774017 \t -17.388691338534382\n",
            "init   \t [4.00927467 3.23417577]. \t  -35.55852254546393 \t -17.388691338534382\n",
            "init   \t [-4.75249064  1.96359764]. \t  -36.54582989269194 \t -17.388691338534382\n",
            "init   \t [-1.24230715  0.18955208]. \t  -17.388691338534382 \t -17.388691338534382\n",
            "init   \t [ 1.61742301 -3.13497377]. \t  -33.22932870179905 \t -17.388691338534382\n",
            "1      \t [-5.04038248 -4.33114855]. \t  -59.36512603389513 \t -17.388691338534382\n",
            "2      \t [ 5.12       -0.92629977]. \t  -30.835901319674683 \t -17.388691338534382\n",
            "3      \t [ 5.11316294 -4.88092784]. \t  -55.06148040152972 \t -17.388691338534382\n",
            "4      \t [-2.62501484  5.12      ]. \t  -52.8858250766759 \t -17.388691338534382\n",
            "5      \t [-1.52162249 -4.2741012 ]. \t  -51.999672740062714 \t -17.388691338534382\n",
            "6      \t [2.08542598 0.29154552]. \t  -18.421072486103736 \t -17.388691338534382\n",
            "7      \t [-3.57823388 -1.32601948]. \t  -47.974956478984694 \t -17.388691338534382\n",
            "8      \t [-1.26950045  2.50420462]. \t  -39.101369072993236 \t -17.388691338534382\n",
            "9      \t [5.12 5.12]. \t  -57.8494274515718 \t -17.388691338534382\n",
            "10     \t [-0.22773543 -1.58234331]. \t  -29.852496732466065 \t -17.388691338534382\n",
            "11     \t [5.12       1.33581416]. \t  -45.84349222507421 \t -17.388691338534382\n",
            "12     \t [2.3644752 5.12     ]. \t  -51.10380529795775 \t -17.388691338534382\n",
            "13     \t [1.43156985 2.04663922]. \t  -25.75425807767717 \t -17.388691338534382\n",
            "14     \t [ 3.44019124 -2.13940419]. \t  -39.31110784885201 \t -17.388691338534382\n",
            "15     \t [ 1.52250049 -4.8460514 ]. \t  -50.02710529086161 \t -17.388691338534382\n",
            "16     \t [-0.27458679  4.88176958]. \t  -38.0804224784431 \t -17.388691338534382\n",
            "17     \t [-4.80622164  4.84808674]. \t  -57.364037103546536 \t -17.388691338534382\n",
            "18     \t [-2.81661417  1.09957   ]. \t  \u001b[92m-16.971995590970348\u001b[0m \t -16.971995590970348\n",
            "19     \t [0.36553012 0.39725578]. \t  -34.9171153988734 \t -16.971995590970348\n",
            "20     \t [3.33627163 0.15853505]. \t  -30.87910847392327 \t -16.971995590970348\n"
          ],
          "name": "stdout"
        }
      ]
    },
    {
      "cell_type": "code",
      "metadata": {
        "id": "qNqAB3vBTPqb",
        "colab": {
          "base_uri": "https://localhost:8080/"
        },
        "outputId": "758d64e8-653e-4c6b-83c9-2411e2bfdb5c"
      },
      "source": [
        "end_exact = time.time()\n",
        "end_exact\n",
        "\n",
        "time_exact = end_exact - start_exact\n",
        "time_exact"
      ],
      "execution_count": 53,
      "outputs": [
        {
          "output_type": "execute_result",
          "data": {
            "text/plain": [
              "3805.302748441696"
            ]
          },
          "metadata": {
            "tags": []
          },
          "execution_count": 53
        }
      ]
    },
    {
      "cell_type": "code",
      "metadata": {
        "id": "JPQzjdBZQxfg",
        "colab": {
          "base_uri": "https://localhost:8080/"
        },
        "outputId": "b6aa09e6-a1ea-442a-e067-317b18fc5603"
      },
      "source": [
        "### Simple regret minimization: run number = 1\n",
        "\n",
        "approx_output_1 = np.append(np.min(approx_1.GP.y[0:n_init]),approx_1.GP.y[n_init:(n_init+iters)]) \n",
        "exact_output_1 = np.append(np.min(exact_1.GP.y[0:n_init]),exact_1.GP.y[n_init:(n_init+iters)]) \n",
        "\n",
        "regret_approx_1 = np.log(-approx_output_1 + y_global_orig)\n",
        "regret_exact_1 = np.log(-exact_output_1 + y_global_orig)\n",
        "\n",
        "simple_regret_approx_1 = min_max_array(regret_approx_1)\n",
        "simple_regret_exact_1 = min_max_array(regret_exact_1)\n",
        "\n",
        "min_simple_regret_approx_1 = min(simple_regret_approx_1)\n",
        "min_simple_regret_exact_1 = min(simple_regret_exact_1)\n",
        "\n",
        "min_simple_regret_approx_1, min_simple_regret_exact_1"
      ],
      "execution_count": 54,
      "outputs": [
        {
          "output_type": "execute_result",
          "data": {
            "text/plain": [
              "(2.5234887430171615, 2.8421841281240434)"
            ]
          },
          "metadata": {
            "tags": []
          },
          "execution_count": 54
        }
      ]
    },
    {
      "cell_type": "code",
      "metadata": {
        "id": "94yBw5tqQxfk",
        "colab": {
          "base_uri": "https://localhost:8080/"
        },
        "outputId": "e0803ad9-1442-4ba6-8dba-1686c269ecbe"
      },
      "source": [
        "### Simple regret minimization: run number = 2\n",
        "\n",
        "approx_output_2 = np.append(np.min(approx_2.GP.y[0:n_init]),approx_2.GP.y[n_init:(n_init+iters)]) \n",
        "exact_output_2 = np.append(np.min(exact_2.GP.y[0:n_init]),exact_2.GP.y[n_init:(n_init+iters)]) \n",
        "\n",
        "regret_approx_2 = np.log(-approx_output_2 + y_global_orig)\n",
        "regret_exact_2 = np.log(-exact_output_2 + y_global_orig)\n",
        "\n",
        "simple_regret_approx_2 = min_max_array(regret_approx_2)\n",
        "simple_regret_exact_2 = min_max_array(regret_exact_2)\n",
        "\n",
        "min_simple_regret_approx_2 = min(simple_regret_approx_2)\n",
        "min_simple_regret_exact_2 = min(simple_regret_exact_2)\n",
        "\n",
        "min_simple_regret_approx_2, min_simple_regret_exact_2"
      ],
      "execution_count": 55,
      "outputs": [
        {
          "output_type": "execute_result",
          "data": {
            "text/plain": [
              "(3.1089279907189096, 2.310665875280742)"
            ]
          },
          "metadata": {
            "tags": []
          },
          "execution_count": 55
        }
      ]
    },
    {
      "cell_type": "code",
      "metadata": {
        "id": "Bu6SBWALQxfl",
        "colab": {
          "base_uri": "https://localhost:8080/"
        },
        "outputId": "3f6693b3-ea21-48f6-886f-6bf6beb8d75f"
      },
      "source": [
        "### Simple regret minimization: run number = 3\n",
        "\n",
        "approx_output_3 = np.append(np.min(approx_3.GP.y[0:n_init]),approx_3.GP.y[n_init:(n_init+iters)]) \n",
        "exact_output_3 = np.append(np.min(exact_3.GP.y[0:n_init]),exact_3.GP.y[n_init:(n_init+iters)]) \n",
        "\n",
        "regret_approx_3 = np.log(-approx_output_3 + y_global_orig)\n",
        "regret_exact_3 = np.log(-exact_output_3 + y_global_orig)\n",
        "\n",
        "simple_regret_approx_3 = min_max_array(regret_approx_3)\n",
        "simple_regret_exact_3 = min_max_array(regret_exact_3)\n",
        "\n",
        "min_simple_regret_approx_3 = min(simple_regret_approx_3)\n",
        "min_simple_regret_exact_3 = min(simple_regret_exact_3)\n",
        "\n",
        "min_simple_regret_approx_3, min_simple_regret_exact_3"
      ],
      "execution_count": 56,
      "outputs": [
        {
          "output_type": "execute_result",
          "data": {
            "text/plain": [
              "(2.6108506059478387, 2.9164123598760385)"
            ]
          },
          "metadata": {
            "tags": []
          },
          "execution_count": 56
        }
      ]
    },
    {
      "cell_type": "code",
      "metadata": {
        "id": "AZm0jgxkQxfm",
        "colab": {
          "base_uri": "https://localhost:8080/"
        },
        "outputId": "320e818b-061f-4673-d6fa-527481e8d47c"
      },
      "source": [
        "### Simple regret minimization: run number = 4\n",
        "\n",
        "approx_output_4 = np.append(np.min(approx_4.GP.y[0:n_init]),approx_4.GP.y[n_init:(n_init+iters)]) \n",
        "exact_output_4 = np.append(np.min(exact_4.GP.y[0:n_init]),exact_4.GP.y[n_init:(n_init+iters)]) \n",
        "\n",
        "regret_approx_4 = np.log(-approx_output_4 + y_global_orig)\n",
        "regret_exact_4 = np.log(-exact_output_4 + y_global_orig)\n",
        "\n",
        "simple_regret_approx_4 = min_max_array(regret_approx_4)\n",
        "simple_regret_exact_4 = min_max_array(regret_exact_4)\n",
        "\n",
        "min_simple_regret_approx_4 = min(simple_regret_approx_4)\n",
        "min_simple_regret_exact_4 = min(simple_regret_exact_4)\n",
        "\n",
        "min_simple_regret_approx_4, min_simple_regret_exact_4"
      ],
      "execution_count": 57,
      "outputs": [
        {
          "output_type": "execute_result",
          "data": {
            "text/plain": [
              "(2.288170828405886, 2.6915829730529564)"
            ]
          },
          "metadata": {
            "tags": []
          },
          "execution_count": 57
        }
      ]
    },
    {
      "cell_type": "code",
      "metadata": {
        "id": "NONPm8JIQxfn",
        "colab": {
          "base_uri": "https://localhost:8080/"
        },
        "outputId": "908de989-fb80-474c-c870-a65eb824c851"
      },
      "source": [
        "### Simple regret minimization: run number = 5\n",
        "\n",
        "approx_output_5 = np.append(np.min(approx_5.GP.y[0:n_init]),approx_5.GP.y[n_init:(n_init+iters)]) \n",
        "exact_output_5 = np.append(np.min(exact_5.GP.y[0:n_init]),exact_5.GP.y[n_init:(n_init+iters)]) \n",
        "\n",
        "regret_approx_5 = np.log(-approx_output_5 + y_global_orig)\n",
        "regret_exact_5 = np.log(-exact_output_5 + y_global_orig)\n",
        "\n",
        "simple_regret_approx_5 = min_max_array(regret_approx_5)\n",
        "simple_regret_exact_5 = min_max_array(regret_exact_5)\n",
        "\n",
        "min_simple_regret_approx_5 = min(simple_regret_approx_5)\n",
        "min_simple_regret_exact_5 = min(simple_regret_exact_5)\n",
        "\n",
        "min_simple_regret_approx_5, min_simple_regret_exact_5"
      ],
      "execution_count": 58,
      "outputs": [
        {
          "output_type": "execute_result",
          "data": {
            "text/plain": [
              "(2.034576678342154, 3.0173192671185265)"
            ]
          },
          "metadata": {
            "tags": []
          },
          "execution_count": 58
        }
      ]
    },
    {
      "cell_type": "code",
      "metadata": {
        "id": "CJv3lPuSQxfp",
        "colab": {
          "base_uri": "https://localhost:8080/"
        },
        "outputId": "8c14ddc1-5d56-44db-aa2b-a1fec6491147"
      },
      "source": [
        "### Simple regret minimization: run number = 6\n",
        "\n",
        "approx_output_6 = np.append(np.min(approx_6.GP.y[0:n_init]),approx_6.GP.y[n_init:(n_init+iters)]) \n",
        "exact_output_6 = np.append(np.min(exact_6.GP.y[0:n_init]),exact_6.GP.y[n_init:(n_init+iters)]) \n",
        "\n",
        "regret_approx_6 = np.log(-approx_output_6 + y_global_orig)\n",
        "regret_exact_6 = np.log(-exact_output_6 + y_global_orig)\n",
        "\n",
        "simple_regret_approx_6 = min_max_array(regret_approx_6)\n",
        "simple_regret_exact_6 = min_max_array(regret_exact_6)\n",
        "\n",
        "min_simple_regret_approx_6 = min(simple_regret_approx_6)\n",
        "min_simple_regret_exact_6 = min(simple_regret_exact_6)\n",
        "\n",
        "min_simple_regret_approx_6, min_simple_regret_exact_6"
      ],
      "execution_count": 59,
      "outputs": [
        {
          "output_type": "execute_result",
          "data": {
            "text/plain": [
              "(2.3114825426797987, 2.570449674926226)"
            ]
          },
          "metadata": {
            "tags": []
          },
          "execution_count": 59
        }
      ]
    },
    {
      "cell_type": "code",
      "metadata": {
        "id": "quR2ZyApQxfq",
        "colab": {
          "base_uri": "https://localhost:8080/"
        },
        "outputId": "dbe6ea7d-15e9-42d3-c5b5-3a0647647328"
      },
      "source": [
        "### Simple regret minimization: run number = 7\n",
        "\n",
        "approx_output_7 = np.append(np.min(approx_7.GP.y[0:n_init]),approx_7.GP.y[n_init:(n_init+iters)]) \n",
        "exact_output_7 = np.append(np.min(exact_7.GP.y[0:n_init]),exact_7.GP.y[n_init:(n_init+iters)]) \n",
        "\n",
        "regret_approx_7 = np.log(-approx_output_7 + y_global_orig)\n",
        "regret_exact_7 = np.log(-exact_output_7 + y_global_orig)\n",
        "\n",
        "simple_regret_approx_7 = min_max_array(regret_approx_7)\n",
        "simple_regret_exact_7 = min_max_array(regret_exact_7)\n",
        "\n",
        "min_simple_regret_approx_7 = min(simple_regret_approx_7)\n",
        "min_simple_regret_exact_7 = min(simple_regret_exact_7)\n",
        "\n",
        "min_simple_regret_approx_7, min_simple_regret_exact_7"
      ],
      "execution_count": 60,
      "outputs": [
        {
          "output_type": "execute_result",
          "data": {
            "text/plain": [
              "(2.8264842567634267, 2.016796401110347)"
            ]
          },
          "metadata": {
            "tags": []
          },
          "execution_count": 60
        }
      ]
    },
    {
      "cell_type": "code",
      "metadata": {
        "id": "99wY5nK6Qxfr",
        "colab": {
          "base_uri": "https://localhost:8080/"
        },
        "outputId": "e2dc4de7-d95e-4b1b-9f9e-a1351c743142"
      },
      "source": [
        "### Simple regret minimization: run number = 8\n",
        "\n",
        "approx_output_8 = np.append(np.min(approx_8.GP.y[0:n_init]),approx_8.GP.y[n_init:(n_init+iters)]) \n",
        "exact_output_8 = np.append(np.min(exact_8.GP.y[0:n_init]),exact_8.GP.y[n_init:(n_init+iters)]) \n",
        "\n",
        "regret_approx_8 = np.log(-approx_output_8 + y_global_orig)\n",
        "regret_exact_8 = np.log(-exact_output_8 + y_global_orig)\n",
        "\n",
        "simple_regret_approx_8 = min_max_array(regret_approx_8)\n",
        "simple_regret_exact_8 = min_max_array(regret_exact_8)\n",
        "\n",
        "min_simple_regret_approx_8 = min(simple_regret_approx_8)\n",
        "min_simple_regret_exact_8 = min(simple_regret_exact_8)\n",
        "\n",
        "min_simple_regret_approx_8, min_simple_regret_exact_8"
      ],
      "execution_count": 61,
      "outputs": [
        {
          "output_type": "execute_result",
          "data": {
            "text/plain": [
              "(2.6984850096526367, 3.2186564885822375)"
            ]
          },
          "metadata": {
            "tags": []
          },
          "execution_count": 61
        }
      ]
    },
    {
      "cell_type": "code",
      "metadata": {
        "id": "qt0P5t9qQxfs",
        "colab": {
          "base_uri": "https://localhost:8080/"
        },
        "outputId": "3e9bbdf2-4989-4fa7-ab06-c2ee9d9483ca"
      },
      "source": [
        "### Simple regret minimization: run number = 9\n",
        "\n",
        "approx_output_9 = np.append(np.min(approx_9.GP.y[0:n_init]),approx_9.GP.y[n_init:(n_init+iters)]) \n",
        "exact_output_9 = np.append(np.min(exact_9.GP.y[0:n_init]),exact_9.GP.y[n_init:(n_init+iters)]) \n",
        "\n",
        "regret_approx_9 = np.log(-approx_output_9 + y_global_orig)\n",
        "regret_exact_9 = np.log(-exact_output_9 + y_global_orig)\n",
        "\n",
        "simple_regret_approx_9 = min_max_array(regret_approx_9)\n",
        "simple_regret_exact_9 = min_max_array(regret_exact_9)\n",
        "\n",
        "min_simple_regret_approx_9 = min(simple_regret_approx_9)\n",
        "min_simple_regret_exact_9 = min(simple_regret_exact_9)\n",
        "\n",
        "min_simple_regret_approx_9, min_simple_regret_exact_9"
      ],
      "execution_count": 62,
      "outputs": [
        {
          "output_type": "execute_result",
          "data": {
            "text/plain": [
              "(2.39474253794569, 1.8063471797715636)"
            ]
          },
          "metadata": {
            "tags": []
          },
          "execution_count": 62
        }
      ]
    },
    {
      "cell_type": "code",
      "metadata": {
        "id": "vx8to9stQxft",
        "colab": {
          "base_uri": "https://localhost:8080/"
        },
        "outputId": "43d4ebe4-6588-4626-cdd0-43b0b14b6c9a"
      },
      "source": [
        "### Simple regret minimization: run number = 10\n",
        "\n",
        "approx_output_10 = np.append(np.min(approx_10.GP.y[0:n_init]),approx_10.GP.y[n_init:(n_init+iters)]) \n",
        "exact_output_10 = np.append(np.min(exact_10.GP.y[0:n_init]),exact_10.GP.y[n_init:(n_init+iters)]) \n",
        "\n",
        "regret_approx_10 = np.log(-approx_output_10 + y_global_orig)\n",
        "regret_exact_10 = np.log(-exact_output_10 + y_global_orig)\n",
        "\n",
        "simple_regret_approx_10 = min_max_array(regret_approx_10)\n",
        "simple_regret_exact_10 = min_max_array(regret_exact_10)\n",
        "\n",
        "min_simple_regret_approx_10 = min(simple_regret_approx_10)\n",
        "min_simple_regret_exact_10 = min(simple_regret_exact_10)\n",
        "\n",
        "min_simple_regret_approx_10, min_simple_regret_exact_10"
      ],
      "execution_count": 63,
      "outputs": [
        {
          "output_type": "execute_result",
          "data": {
            "text/plain": [
              "(2.5241871672711627, 1.9699753549792747)"
            ]
          },
          "metadata": {
            "tags": []
          },
          "execution_count": 63
        }
      ]
    },
    {
      "cell_type": "code",
      "metadata": {
        "id": "d-FGzWyHQxfu",
        "colab": {
          "base_uri": "https://localhost:8080/"
        },
        "outputId": "524cc60a-7c26-4989-f94b-c9c50cb50d81"
      },
      "source": [
        "### Simple regret minimization: run number = 11\n",
        "\n",
        "approx_output_11 = np.append(np.min(approx_11.GP.y[0:n_init]),approx_11.GP.y[n_init:(n_init+iters)]) \n",
        "exact_output_11 = np.append(np.min(exact_11.GP.y[0:n_init]),exact_11.GP.y[n_init:(n_init+iters)]) \n",
        "\n",
        "regret_approx_11 = np.log(-approx_output_11 + y_global_orig)\n",
        "regret_exact_11 = np.log(-exact_output_11 + y_global_orig)\n",
        "\n",
        "simple_regret_approx_11 = min_max_array(regret_approx_11)\n",
        "simple_regret_exact_11 = min_max_array(regret_exact_11)\n",
        "\n",
        "min_simple_regret_approx_11 = min(simple_regret_approx_11)\n",
        "min_simple_regret_exact_11 = min(simple_regret_exact_11)\n",
        "\n",
        "min_simple_regret_approx_11, min_simple_regret_exact_11"
      ],
      "execution_count": 64,
      "outputs": [
        {
          "output_type": "execute_result",
          "data": {
            "text/plain": [
              "(2.489149658474126, 0.21046865681117868)"
            ]
          },
          "metadata": {
            "tags": []
          },
          "execution_count": 64
        }
      ]
    },
    {
      "cell_type": "code",
      "metadata": {
        "id": "SvtsssyjQxfv",
        "colab": {
          "base_uri": "https://localhost:8080/"
        },
        "outputId": "8bb4f653-fdc3-45f1-aec5-e7910bf8f961"
      },
      "source": [
        "### Simple regret minimization: run number = 12\n",
        "\n",
        "approx_output_12 = np.append(np.min(approx_12.GP.y[0:n_init]),approx_12.GP.y[n_init:(n_init+iters)]) \n",
        "exact_output_12 = np.append(np.min(exact_12.GP.y[0:n_init]),exact_12.GP.y[n_init:(n_init+iters)]) \n",
        "\n",
        "regret_approx_12 = np.log(-approx_output_12 + y_global_orig)\n",
        "regret_exact_12 = np.log(-exact_output_12 + y_global_orig)\n",
        "\n",
        "simple_regret_approx_12 = min_max_array(regret_approx_12)\n",
        "simple_regret_exact_12 = min_max_array(regret_exact_12)\n",
        "\n",
        "min_simple_regret_approx_12 = min(simple_regret_approx_12)\n",
        "min_simple_regret_exact_12 = min(simple_regret_exact_12)\n",
        "\n",
        "min_simple_regret_approx_12, min_simple_regret_exact_12"
      ],
      "execution_count": 65,
      "outputs": [
        {
          "output_type": "execute_result",
          "data": {
            "text/plain": [
              "(2.1667099483116363, 3.0596357572387802)"
            ]
          },
          "metadata": {
            "tags": []
          },
          "execution_count": 65
        }
      ]
    },
    {
      "cell_type": "code",
      "metadata": {
        "id": "K6OiGcHkQxfw",
        "colab": {
          "base_uri": "https://localhost:8080/"
        },
        "outputId": "4fd9f551-e5d6-47bb-98c4-c08b7ed36ef0"
      },
      "source": [
        "### Simple regret minimization: run number = 13\n",
        "\n",
        "approx_output_13 = np.append(np.min(approx_13.GP.y[0:n_init]),approx_13.GP.y[n_init:(n_init+iters)]) \n",
        "exact_output_13 = np.append(np.min(exact_13.GP.y[0:n_init]),exact_13.GP.y[n_init:(n_init+iters)]) \n",
        "\n",
        "regret_approx_13 = np.log(-approx_output_13 + y_global_orig)\n",
        "regret_exact_13 = np.log(-exact_output_13 + y_global_orig)\n",
        "\n",
        "simple_regret_approx_13 = min_max_array(regret_approx_13)\n",
        "simple_regret_exact_13 = min_max_array(regret_exact_13)\n",
        "\n",
        "min_simple_regret_approx_13 = min(simple_regret_approx_13)\n",
        "min_simple_regret_exact_13 = min(simple_regret_exact_13)\n",
        "\n",
        "min_simple_regret_approx_13, min_simple_regret_exact_13"
      ],
      "execution_count": 66,
      "outputs": [
        {
          "output_type": "execute_result",
          "data": {
            "text/plain": [
              "(2.763711012992627, 2.45583861432536)"
            ]
          },
          "metadata": {
            "tags": []
          },
          "execution_count": 66
        }
      ]
    },
    {
      "cell_type": "code",
      "metadata": {
        "id": "ogML73shQxfx",
        "colab": {
          "base_uri": "https://localhost:8080/"
        },
        "outputId": "cbd8a634-deb5-4288-a5f5-af59f29bf669"
      },
      "source": [
        "### Simple regret minimization: run number = 14\n",
        "\n",
        "approx_output_14 = np.append(np.min(approx_14.GP.y[0:n_init]),approx_14.GP.y[n_init:(n_init+iters)]) \n",
        "exact_output_14 = np.append(np.min(exact_14.GP.y[0:n_init]),exact_14.GP.y[n_init:(n_init+iters)]) \n",
        "\n",
        "regret_approx_14 = np.log(-approx_output_14 + y_global_orig)\n",
        "regret_exact_14 = np.log(-exact_output_14 + y_global_orig)\n",
        "\n",
        "simple_regret_approx_14 = min_max_array(regret_approx_14)\n",
        "simple_regret_exact_14 = min_max_array(regret_exact_14)\n",
        "\n",
        "min_simple_regret_approx_14 = min(simple_regret_approx_14)\n",
        "min_simple_regret_exact_14 = min(simple_regret_exact_14)\n",
        "\n",
        "min_simple_regret_approx_14, min_simple_regret_exact_14"
      ],
      "execution_count": 67,
      "outputs": [
        {
          "output_type": "execute_result",
          "data": {
            "text/plain": [
              "(2.546375238661026, 2.3109866018095486)"
            ]
          },
          "metadata": {
            "tags": []
          },
          "execution_count": 67
        }
      ]
    },
    {
      "cell_type": "code",
      "metadata": {
        "id": "9Eg7gFT9Qxfx",
        "colab": {
          "base_uri": "https://localhost:8080/"
        },
        "outputId": "c052b74e-a4e8-4c59-a782-ec6fe8656eec"
      },
      "source": [
        "### Simple regret minimization: run number = 15\n",
        "\n",
        "approx_output_15 = np.append(np.min(approx_15.GP.y[0:n_init]),approx_15.GP.y[n_init:(n_init+iters)]) \n",
        "exact_output_15 = np.append(np.min(exact_15.GP.y[0:n_init]),exact_15.GP.y[n_init:(n_init+iters)]) \n",
        "\n",
        "regret_approx_15 = np.log(-approx_output_15 + y_global_orig)\n",
        "regret_exact_15 = np.log(-exact_output_15 + y_global_orig)\n",
        "\n",
        "simple_regret_approx_15 = min_max_array(regret_approx_15)\n",
        "simple_regret_exact_15 = min_max_array(regret_exact_15)\n",
        "\n",
        "min_simple_regret_approx_15 = min(simple_regret_approx_15)\n",
        "min_simple_regret_exact_15 = min(simple_regret_exact_15)\n",
        "\n",
        "min_simple_regret_approx_15, min_simple_regret_exact_15"
      ],
      "execution_count": 68,
      "outputs": [
        {
          "output_type": "execute_result",
          "data": {
            "text/plain": [
              "(2.355212606187029, 3.138197819224887)"
            ]
          },
          "metadata": {
            "tags": []
          },
          "execution_count": 68
        }
      ]
    },
    {
      "cell_type": "code",
      "metadata": {
        "id": "lIAC1U7ZQxfy",
        "colab": {
          "base_uri": "https://localhost:8080/"
        },
        "outputId": "4a515da1-7c3f-400c-c25a-d409982c48cc"
      },
      "source": [
        "### Simple regret minimization: run number = 16\n",
        "\n",
        "approx_output_16 = np.append(np.min(approx_16.GP.y[0:n_init]),approx_16.GP.y[n_init:(n_init+iters)]) \n",
        "exact_output_16 = np.append(np.min(exact_16.GP.y[0:n_init]),exact_16.GP.y[n_init:(n_init+iters)]) \n",
        "\n",
        "regret_approx_16 = np.log(-approx_output_16 + y_global_orig)\n",
        "regret_exact_16 = np.log(-exact_output_16 + y_global_orig)\n",
        "\n",
        "simple_regret_approx_16 = min_max_array(regret_approx_16)\n",
        "simple_regret_exact_16 = min_max_array(regret_exact_16)\n",
        "\n",
        "min_simple_regret_approx_16 = min(simple_regret_approx_16)\n",
        "min_simple_regret_exact_16 = min(simple_regret_exact_16)\n",
        "\n",
        "min_simple_regret_approx_16, min_simple_regret_exact_16"
      ],
      "execution_count": 69,
      "outputs": [
        {
          "output_type": "execute_result",
          "data": {
            "text/plain": [
              "(0.7593924197776527, 2.7299159487281055)"
            ]
          },
          "metadata": {
            "tags": []
          },
          "execution_count": 69
        }
      ]
    },
    {
      "cell_type": "code",
      "metadata": {
        "id": "bGott36OQxfz",
        "colab": {
          "base_uri": "https://localhost:8080/"
        },
        "outputId": "51aa2772-41db-4419-fd91-8c63931b7a71"
      },
      "source": [
        "### Simple regret minimization: run number = 17\n",
        "\n",
        "approx_output_17 = np.append(np.min(approx_17.GP.y[0:n_init]),approx_17.GP.y[n_init:(n_init+iters)]) \n",
        "exact_output_17 = np.append(np.min(exact_17.GP.y[0:n_init]),exact_17.GP.y[n_init:(n_init+iters)]) \n",
        "\n",
        "regret_approx_17 = np.log(-approx_output_17 + y_global_orig)\n",
        "regret_exact_17 = np.log(-exact_output_17 + y_global_orig)\n",
        "\n",
        "simple_regret_approx_17 = min_max_array(regret_approx_17)\n",
        "simple_regret_exact_17 = min_max_array(regret_exact_17)\n",
        "\n",
        "min_simple_regret_approx_17 = min(simple_regret_approx_17)\n",
        "min_simple_regret_exact_17 = min(simple_regret_exact_17)\n",
        "\n",
        "min_simple_regret_approx_17, min_simple_regret_exact_17"
      ],
      "execution_count": 70,
      "outputs": [
        {
          "output_type": "execute_result",
          "data": {
            "text/plain": [
              "(2.400153680851681, 2.9303056976467343)"
            ]
          },
          "metadata": {
            "tags": []
          },
          "execution_count": 70
        }
      ]
    },
    {
      "cell_type": "code",
      "metadata": {
        "id": "Cz9ZYMBMQxfz",
        "colab": {
          "base_uri": "https://localhost:8080/"
        },
        "outputId": "2ee59da9-3598-4b12-b1d2-598cab1594b0"
      },
      "source": [
        "### Simple regret minimization: run number = 18\n",
        "\n",
        "approx_output_18 = np.append(np.min(approx_18.GP.y[0:n_init]),approx_18.GP.y[n_init:(n_init+iters)]) \n",
        "exact_output_18 = np.append(np.min(exact_18.GP.y[0:n_init]),exact_18.GP.y[n_init:(n_init+iters)]) \n",
        "\n",
        "regret_approx_18 = np.log(-approx_output_18 + y_global_orig)\n",
        "regret_exact_18 = np.log(-exact_output_18 + y_global_orig)\n",
        "\n",
        "simple_regret_approx_18 = min_max_array(regret_approx_18)\n",
        "simple_regret_exact_18 = min_max_array(regret_exact_18)\n",
        "\n",
        "min_simple_regret_approx_18 = min(simple_regret_approx_18)\n",
        "min_simple_regret_exact_18 = min(simple_regret_exact_18)\n",
        "\n",
        "min_simple_regret_approx_18, min_simple_regret_exact_18"
      ],
      "execution_count": 71,
      "outputs": [
        {
          "output_type": "execute_result",
          "data": {
            "text/plain": [
              "(2.70458168750813, 2.3970472197929094)"
            ]
          },
          "metadata": {
            "tags": []
          },
          "execution_count": 71
        }
      ]
    },
    {
      "cell_type": "code",
      "metadata": {
        "id": "OBfpWOHNQxf0",
        "colab": {
          "base_uri": "https://localhost:8080/"
        },
        "outputId": "903da074-d13f-4739-9aec-191d21c7b06c"
      },
      "source": [
        "### Simple regret minimization: run number = 19\n",
        "\n",
        "approx_output_19 = np.append(np.min(approx_19.GP.y[0:n_init]),approx_19.GP.y[n_init:(n_init+iters)]) \n",
        "exact_output_19 = np.append(np.min(exact_19.GP.y[0:n_init]),exact_19.GP.y[n_init:(n_init+iters)]) \n",
        "\n",
        "regret_approx_19 = np.log(-approx_output_19 + y_global_orig)\n",
        "regret_exact_19 = np.log(-exact_output_19 + y_global_orig)\n",
        "\n",
        "simple_regret_approx_19 = min_max_array(regret_approx_19)\n",
        "simple_regret_exact_19 = min_max_array(regret_exact_19)\n",
        "\n",
        "min_simple_regret_approx_19 = min(simple_regret_approx_19)\n",
        "min_simple_regret_exact_19 = min(simple_regret_exact_19)\n",
        "\n",
        "min_simple_regret_approx_19, min_simple_regret_exact_19"
      ],
      "execution_count": 72,
      "outputs": [
        {
          "output_type": "execute_result",
          "data": {
            "text/plain": [
              "(2.929231041510643, 2.1912911017368746)"
            ]
          },
          "metadata": {
            "tags": []
          },
          "execution_count": 72
        }
      ]
    },
    {
      "cell_type": "code",
      "metadata": {
        "id": "BE1AJ7NsQxf0",
        "colab": {
          "base_uri": "https://localhost:8080/"
        },
        "outputId": "e005d8dc-a805-4d61-add2-968ce79bf424"
      },
      "source": [
        "### Simple regret minimization: run number = 20\n",
        "\n",
        "approx_output_20 = np.append(np.min(approx_20.GP.y[0:n_init]),approx_20.GP.y[n_init:(n_init+iters)]) \n",
        "exact_output_20 = np.append(np.min(exact_20.GP.y[0:n_init]),exact_20.GP.y[n_init:(n_init+iters)]) \n",
        "\n",
        "regret_approx_20 = np.log(-approx_output_20 + y_global_orig)\n",
        "regret_exact_20 = np.log(-exact_output_20 + y_global_orig)\n",
        "\n",
        "simple_regret_approx_20 = min_max_array(regret_approx_20)\n",
        "simple_regret_exact_20 = min_max_array(regret_exact_20)\n",
        "\n",
        "min_simple_regret_approx_20 = min(simple_regret_approx_20)\n",
        "min_simple_regret_exact_20 = min(simple_regret_exact_20)\n",
        "\n",
        "min_simple_regret_approx_20, min_simple_regret_exact_20"
      ],
      "execution_count": 73,
      "outputs": [
        {
          "output_type": "execute_result",
          "data": {
            "text/plain": [
              "(2.641971206249818, 2.831564667557482)"
            ]
          },
          "metadata": {
            "tags": []
          },
          "execution_count": 73
        }
      ]
    },
    {
      "cell_type": "code",
      "metadata": {
        "id": "bpX-bKAHQxf1"
      },
      "source": [
        "# Iteration1 :\n",
        "\n",
        "slice1 = 0\n",
        "\n",
        "approx1 = [simple_regret_approx_1[slice1],\n",
        "       simple_regret_approx_2[slice1],\n",
        "       simple_regret_approx_3[slice1],\n",
        "       simple_regret_approx_4[slice1],\n",
        "       simple_regret_approx_5[slice1],\n",
        "       simple_regret_approx_6[slice1],\n",
        "       simple_regret_approx_7[slice1],\n",
        "       simple_regret_approx_8[slice1],\n",
        "       simple_regret_approx_9[slice1],\n",
        "       simple_regret_approx_10[slice1],\n",
        "       simple_regret_approx_11[slice1],\n",
        "       simple_regret_approx_12[slice1],\n",
        "       simple_regret_approx_13[slice1],\n",
        "       simple_regret_approx_14[slice1],\n",
        "       simple_regret_approx_15[slice1],\n",
        "       simple_regret_approx_16[slice1],\n",
        "       simple_regret_approx_17[slice1],\n",
        "       simple_regret_approx_18[slice1],\n",
        "       simple_regret_approx_19[slice1],\n",
        "       simple_regret_approx_20[slice1]]\n",
        "\n",
        "exact1 = [simple_regret_exact_1[slice1],\n",
        "       simple_regret_exact_2[slice1],\n",
        "       simple_regret_exact_3[slice1],\n",
        "       simple_regret_exact_4[slice1],\n",
        "       simple_regret_exact_5[slice1],\n",
        "       simple_regret_exact_6[slice1],\n",
        "       simple_regret_exact_7[slice1],\n",
        "       simple_regret_exact_8[slice1],\n",
        "       simple_regret_exact_9[slice1],\n",
        "       simple_regret_exact_10[slice1],\n",
        "       simple_regret_exact_11[slice1],\n",
        "       simple_regret_exact_12[slice1],\n",
        "       simple_regret_exact_13[slice1],\n",
        "       simple_regret_exact_14[slice1],\n",
        "       simple_regret_exact_15[slice1],\n",
        "       simple_regret_exact_16[slice1],\n",
        "       simple_regret_exact_17[slice1],\n",
        "       simple_regret_exact_18[slice1],\n",
        "       simple_regret_exact_19[slice1],\n",
        "       simple_regret_exact_20[slice1]]\n",
        "\n",
        "approx1_results = pd.DataFrame(approx1).sort_values(by=[0], ascending=False)\n",
        "exact1_results = pd.DataFrame(exact1).sort_values(by=[0], ascending=False)\n",
        "\n",
        "### Best simple regret minimization IQR - approx:\n",
        "lower_approx1 = np.asarray(approx1_results[4:5][0])[0]\n",
        "median_approx1 = np.asarray(approx1_results[9:10][0])[0]\n",
        "upper_approx1 = np.asarray(approx1_results[14:15][0])[0]\n",
        "\n",
        "lower_exact1 = np.asarray(exact1_results[4:5][0])[0]\n",
        "median_exact1 = np.asarray(exact1_results[9:10][0])[0]\n",
        "upper_exact1 = np.asarray(exact1_results[14:15][0])[0]"
      ],
      "execution_count": 74,
      "outputs": []
    },
    {
      "cell_type": "code",
      "metadata": {
        "id": "CgIkJA1xQxf2"
      },
      "source": [
        "# Iteration11 :\n",
        "\n",
        "slice11 = 10\n",
        "\n",
        "approx11 = [simple_regret_approx_1[slice11],\n",
        "       simple_regret_approx_2[slice11],\n",
        "       simple_regret_approx_3[slice11],\n",
        "       simple_regret_approx_4[slice11],\n",
        "       simple_regret_approx_5[slice11],\n",
        "       simple_regret_approx_6[slice11],\n",
        "       simple_regret_approx_7[slice11],\n",
        "       simple_regret_approx_8[slice11],\n",
        "       simple_regret_approx_9[slice11],\n",
        "       simple_regret_approx_10[slice11],\n",
        "       simple_regret_approx_11[slice11],\n",
        "       simple_regret_approx_12[slice11],\n",
        "       simple_regret_approx_13[slice11],\n",
        "       simple_regret_approx_14[slice11],\n",
        "       simple_regret_approx_15[slice11],\n",
        "       simple_regret_approx_16[slice11],\n",
        "       simple_regret_approx_17[slice11],\n",
        "       simple_regret_approx_18[slice11],\n",
        "       simple_regret_approx_19[slice11],\n",
        "       simple_regret_approx_20[slice11]]\n",
        "\n",
        "exact11 = [simple_regret_exact_1[slice11],\n",
        "       simple_regret_exact_2[slice11],\n",
        "       simple_regret_exact_3[slice11],\n",
        "       simple_regret_exact_4[slice11],\n",
        "       simple_regret_exact_5[slice11],\n",
        "       simple_regret_exact_6[slice11],\n",
        "       simple_regret_exact_7[slice11],\n",
        "       simple_regret_exact_8[slice11],\n",
        "       simple_regret_exact_9[slice11],\n",
        "       simple_regret_exact_10[slice11],\n",
        "       simple_regret_exact_11[slice11],\n",
        "       simple_regret_exact_12[slice11],\n",
        "       simple_regret_exact_13[slice11],\n",
        "       simple_regret_exact_14[slice11],\n",
        "       simple_regret_exact_15[slice11],\n",
        "       simple_regret_exact_16[slice11],\n",
        "       simple_regret_exact_17[slice11],\n",
        "       simple_regret_exact_18[slice11],\n",
        "       simple_regret_exact_19[slice11],\n",
        "       simple_regret_exact_20[slice11]]\n",
        "\n",
        "approx11_results = pd.DataFrame(approx11).sort_values(by=[0], ascending=False)\n",
        "exact11_results = pd.DataFrame(exact11).sort_values(by=[0], ascending=False)\n",
        "\n",
        "### Best simple regret minimization IQR - approx:\n",
        "lower_approx11 = np.asarray(approx11_results[4:5][0])[0]\n",
        "median_approx11 = np.asarray(approx11_results[9:10][0])[0]\n",
        "upper_approx11 = np.asarray(approx11_results[14:15][0])[0]\n",
        "\n",
        "lower_exact11 = np.asarray(exact11_results[4:5][0])[0]\n",
        "median_exact11 = np.asarray(exact11_results[9:10][0])[0]\n",
        "upper_exact11 = np.asarray(exact11_results[14:15][0])[0]"
      ],
      "execution_count": 75,
      "outputs": []
    },
    {
      "cell_type": "code",
      "metadata": {
        "id": "MFePDfGuQxf2"
      },
      "source": [
        "# Iteration21 :\n",
        "\n",
        "slice21 = 20\n",
        "\n",
        "approx21 = [simple_regret_approx_1[slice21],\n",
        "       simple_regret_approx_2[slice21],\n",
        "       simple_regret_approx_3[slice21],\n",
        "       simple_regret_approx_4[slice21],\n",
        "       simple_regret_approx_5[slice21],\n",
        "       simple_regret_approx_6[slice21],\n",
        "       simple_regret_approx_7[slice21],\n",
        "       simple_regret_approx_8[slice21],\n",
        "       simple_regret_approx_9[slice21],\n",
        "       simple_regret_approx_10[slice21],\n",
        "       simple_regret_approx_11[slice21],\n",
        "       simple_regret_approx_12[slice21],\n",
        "       simple_regret_approx_13[slice21],\n",
        "       simple_regret_approx_14[slice21],\n",
        "       simple_regret_approx_15[slice21],\n",
        "       simple_regret_approx_16[slice21],\n",
        "       simple_regret_approx_17[slice21],\n",
        "       simple_regret_approx_18[slice21],\n",
        "       simple_regret_approx_19[slice21],\n",
        "       simple_regret_approx_20[slice21]]\n",
        "\n",
        "exact21 = [simple_regret_exact_1[slice21],\n",
        "       simple_regret_exact_2[slice21],\n",
        "       simple_regret_exact_3[slice21],\n",
        "       simple_regret_exact_4[slice21],\n",
        "       simple_regret_exact_5[slice21],\n",
        "       simple_regret_exact_6[slice21],\n",
        "       simple_regret_exact_7[slice21],\n",
        "       simple_regret_exact_8[slice21],\n",
        "       simple_regret_exact_9[slice21],\n",
        "       simple_regret_exact_10[slice21],\n",
        "       simple_regret_exact_11[slice21],\n",
        "       simple_regret_exact_12[slice21],\n",
        "       simple_regret_exact_13[slice21],\n",
        "       simple_regret_exact_14[slice21],\n",
        "       simple_regret_exact_15[slice21],\n",
        "       simple_regret_exact_16[slice21],\n",
        "       simple_regret_exact_17[slice21],\n",
        "       simple_regret_exact_18[slice21],\n",
        "       simple_regret_exact_19[slice21],\n",
        "       simple_regret_exact_20[slice21]]\n",
        "\n",
        "approx21_results = pd.DataFrame(approx21).sort_values(by=[0], ascending=False)\n",
        "exact21_results = pd.DataFrame(exact21).sort_values(by=[0], ascending=False)\n",
        "\n",
        "### Best simple regret minimization IQR - approx:\n",
        "lower_approx21 = np.asarray(approx21_results[4:5][0])[0]\n",
        "median_approx21 = np.asarray(approx21_results[9:10][0])[0]\n",
        "upper_approx21 = np.asarray(approx21_results[14:15][0])[0]\n",
        "\n",
        "lower_exact21 = np.asarray(exact21_results[4:5][0])[0]\n",
        "median_exact21 = np.asarray(exact21_results[9:10][0])[0]\n",
        "upper_exact21 = np.asarray(exact21_results[14:15][0])[0]"
      ],
      "execution_count": 76,
      "outputs": []
    },
    {
      "cell_type": "code",
      "metadata": {
        "id": "PrRDB1kfQxf3"
      },
      "source": [
        "# Iteration2 :\n",
        "\n",
        "slice2 = 1\n",
        "\n",
        "approx2 = [simple_regret_approx_1[slice2],\n",
        "       simple_regret_approx_2[slice2],\n",
        "       simple_regret_approx_3[slice2],\n",
        "       simple_regret_approx_4[slice2],\n",
        "       simple_regret_approx_5[slice2],\n",
        "       simple_regret_approx_6[slice2],\n",
        "       simple_regret_approx_7[slice2],\n",
        "       simple_regret_approx_8[slice2],\n",
        "       simple_regret_approx_9[slice2],\n",
        "       simple_regret_approx_10[slice2],\n",
        "       simple_regret_approx_11[slice2],\n",
        "       simple_regret_approx_12[slice2],\n",
        "       simple_regret_approx_13[slice2],\n",
        "       simple_regret_approx_14[slice2],\n",
        "       simple_regret_approx_15[slice2],\n",
        "       simple_regret_approx_16[slice2],\n",
        "       simple_regret_approx_17[slice2],\n",
        "       simple_regret_approx_18[slice2],\n",
        "       simple_regret_approx_19[slice2],\n",
        "       simple_regret_approx_20[slice2]]\n",
        "\n",
        "exact2 = [simple_regret_exact_1[slice2],\n",
        "       simple_regret_exact_2[slice2],\n",
        "       simple_regret_exact_3[slice2],\n",
        "       simple_regret_exact_4[slice2],\n",
        "       simple_regret_exact_5[slice2],\n",
        "       simple_regret_exact_6[slice2],\n",
        "       simple_regret_exact_7[slice2],\n",
        "       simple_regret_exact_8[slice2],\n",
        "       simple_regret_exact_9[slice2],\n",
        "       simple_regret_exact_10[slice2],\n",
        "       simple_regret_exact_11[slice2],\n",
        "       simple_regret_exact_12[slice2],\n",
        "       simple_regret_exact_13[slice2],\n",
        "       simple_regret_exact_14[slice2],\n",
        "       simple_regret_exact_15[slice2],\n",
        "       simple_regret_exact_16[slice2],\n",
        "       simple_regret_exact_17[slice2],\n",
        "       simple_regret_exact_18[slice2],\n",
        "       simple_regret_exact_19[slice2],\n",
        "       simple_regret_exact_20[slice2]]\n",
        "\n",
        "approx2_results = pd.DataFrame(approx2).sort_values(by=[0], ascending=False)\n",
        "exact2_results = pd.DataFrame(exact2).sort_values(by=[0], ascending=False)\n",
        "\n",
        "### Best simple regret minimization IQR - approx:\n",
        "lower_approx2 = np.asarray(approx2_results[4:5][0])[0]\n",
        "median_approx2 = np.asarray(approx2_results[9:10][0])[0]\n",
        "upper_approx2 = np.asarray(approx2_results[14:15][0])[0]\n",
        "\n",
        "lower_exact2 = np.asarray(exact2_results[4:5][0])[0]\n",
        "median_exact2 = np.asarray(exact2_results[9:10][0])[0]\n",
        "upper_exact2 = np.asarray(exact2_results[14:15][0])[0]"
      ],
      "execution_count": 77,
      "outputs": []
    },
    {
      "cell_type": "code",
      "metadata": {
        "id": "B8ncJDYeQxf3"
      },
      "source": [
        "# Iteration12 :\n",
        "\n",
        "slice12 = 11\n",
        "\n",
        "approx12 = [simple_regret_approx_1[slice12],\n",
        "       simple_regret_approx_2[slice12],\n",
        "       simple_regret_approx_3[slice12],\n",
        "       simple_regret_approx_4[slice12],\n",
        "       simple_regret_approx_5[slice12],\n",
        "       simple_regret_approx_6[slice12],\n",
        "       simple_regret_approx_7[slice12],\n",
        "       simple_regret_approx_8[slice12],\n",
        "       simple_regret_approx_9[slice12],\n",
        "       simple_regret_approx_10[slice12],\n",
        "       simple_regret_approx_11[slice12],\n",
        "       simple_regret_approx_12[slice12],\n",
        "       simple_regret_approx_13[slice12],\n",
        "       simple_regret_approx_14[slice12],\n",
        "       simple_regret_approx_15[slice12],\n",
        "       simple_regret_approx_16[slice12],\n",
        "       simple_regret_approx_17[slice12],\n",
        "       simple_regret_approx_18[slice12],\n",
        "       simple_regret_approx_19[slice12],\n",
        "       simple_regret_approx_20[slice12]]\n",
        "\n",
        "exact12 = [simple_regret_exact_1[slice12],\n",
        "       simple_regret_exact_2[slice12],\n",
        "       simple_regret_exact_3[slice12],\n",
        "       simple_regret_exact_4[slice12],\n",
        "       simple_regret_exact_5[slice12],\n",
        "       simple_regret_exact_6[slice12],\n",
        "       simple_regret_exact_7[slice12],\n",
        "       simple_regret_exact_8[slice12],\n",
        "       simple_regret_exact_9[slice12],\n",
        "       simple_regret_exact_10[slice12],\n",
        "       simple_regret_exact_11[slice12],\n",
        "       simple_regret_exact_12[slice12],\n",
        "       simple_regret_exact_13[slice12],\n",
        "       simple_regret_exact_14[slice12],\n",
        "       simple_regret_exact_15[slice12],\n",
        "       simple_regret_exact_16[slice12],\n",
        "       simple_regret_exact_17[slice12],\n",
        "       simple_regret_exact_18[slice12],\n",
        "       simple_regret_exact_19[slice12],\n",
        "       simple_regret_exact_20[slice12]]\n",
        "\n",
        "approx12_results = pd.DataFrame(approx12).sort_values(by=[0], ascending=False)\n",
        "exact12_results = pd.DataFrame(exact12).sort_values(by=[0], ascending=False)\n",
        "\n",
        "### Best simple regret minimization IQR - approx:\n",
        "lower_approx12 = np.asarray(approx12_results[4:5][0])[0]\n",
        "median_approx12 = np.asarray(approx12_results[9:10][0])[0]\n",
        "upper_approx12 = np.asarray(approx12_results[14:15][0])[0]\n",
        "\n",
        "lower_exact12 = np.asarray(exact12_results[4:5][0])[0]\n",
        "median_exact12 = np.asarray(exact12_results[9:10][0])[0]\n",
        "upper_exact12 = np.asarray(exact12_results[14:15][0])[0]"
      ],
      "execution_count": 78,
      "outputs": []
    },
    {
      "cell_type": "code",
      "metadata": {
        "id": "Jn4KpGvcQxf4"
      },
      "source": [
        "# Iteration3 :\n",
        "\n",
        "slice3 = 2\n",
        "\n",
        "approx3 = [simple_regret_approx_1[slice3],\n",
        "       simple_regret_approx_2[slice3],\n",
        "       simple_regret_approx_3[slice3],\n",
        "       simple_regret_approx_4[slice3],\n",
        "       simple_regret_approx_5[slice3],\n",
        "       simple_regret_approx_6[slice3],\n",
        "       simple_regret_approx_7[slice3],\n",
        "       simple_regret_approx_8[slice3],\n",
        "       simple_regret_approx_9[slice3],\n",
        "       simple_regret_approx_10[slice3],\n",
        "       simple_regret_approx_11[slice3],\n",
        "       simple_regret_approx_12[slice3],\n",
        "       simple_regret_approx_13[slice3],\n",
        "       simple_regret_approx_14[slice3],\n",
        "       simple_regret_approx_15[slice3],\n",
        "       simple_regret_approx_16[slice3],\n",
        "       simple_regret_approx_17[slice3],\n",
        "       simple_regret_approx_18[slice3],\n",
        "       simple_regret_approx_19[slice3],\n",
        "       simple_regret_approx_20[slice3]]\n",
        "\n",
        "exact3 = [simple_regret_exact_1[slice3],\n",
        "       simple_regret_exact_2[slice3],\n",
        "       simple_regret_exact_3[slice3],\n",
        "       simple_regret_exact_4[slice3],\n",
        "       simple_regret_exact_5[slice3],\n",
        "       simple_regret_exact_6[slice3],\n",
        "       simple_regret_exact_7[slice3],\n",
        "       simple_regret_exact_8[slice3],\n",
        "       simple_regret_exact_9[slice3],\n",
        "       simple_regret_exact_10[slice3],\n",
        "       simple_regret_exact_11[slice3],\n",
        "       simple_regret_exact_12[slice3],\n",
        "       simple_regret_exact_13[slice3],\n",
        "       simple_regret_exact_14[slice3],\n",
        "       simple_regret_exact_15[slice3],\n",
        "       simple_regret_exact_16[slice3],\n",
        "       simple_regret_exact_17[slice3],\n",
        "       simple_regret_exact_18[slice3],\n",
        "       simple_regret_exact_19[slice3],\n",
        "       simple_regret_exact_20[slice3]]\n",
        "\n",
        "approx3_results = pd.DataFrame(approx3).sort_values(by=[0], ascending=False)\n",
        "exact3_results = pd.DataFrame(exact3).sort_values(by=[0], ascending=False)\n",
        "\n",
        "### Best simple regret minimization IQR - approx:\n",
        "lower_approx3 = np.asarray(approx3_results[4:5][0])[0]\n",
        "median_approx3 = np.asarray(approx3_results[9:10][0])[0]\n",
        "upper_approx3 = np.asarray(approx3_results[14:15][0])[0]\n",
        "\n",
        "lower_exact3 = np.asarray(exact3_results[4:5][0])[0]\n",
        "median_exact3 = np.asarray(exact3_results[9:10][0])[0]\n",
        "upper_exact3 = np.asarray(exact3_results[14:15][0])[0]"
      ],
      "execution_count": 79,
      "outputs": []
    },
    {
      "cell_type": "code",
      "metadata": {
        "id": "plf83wxrQxf4"
      },
      "source": [
        "# Iteration13 :\n",
        "\n",
        "slice13 = 12\n",
        "\n",
        "approx13 = [simple_regret_approx_1[slice13],\n",
        "       simple_regret_approx_2[slice13],\n",
        "       simple_regret_approx_3[slice13],\n",
        "       simple_regret_approx_4[slice13],\n",
        "       simple_regret_approx_5[slice13],\n",
        "       simple_regret_approx_6[slice13],\n",
        "       simple_regret_approx_7[slice13],\n",
        "       simple_regret_approx_8[slice13],\n",
        "       simple_regret_approx_9[slice13],\n",
        "       simple_regret_approx_10[slice13],\n",
        "       simple_regret_approx_11[slice13],\n",
        "       simple_regret_approx_12[slice13],\n",
        "       simple_regret_approx_13[slice13],\n",
        "       simple_regret_approx_14[slice13],\n",
        "       simple_regret_approx_15[slice13],\n",
        "       simple_regret_approx_16[slice13],\n",
        "       simple_regret_approx_17[slice13],\n",
        "       simple_regret_approx_18[slice13],\n",
        "       simple_regret_approx_19[slice13],\n",
        "       simple_regret_approx_20[slice13]]\n",
        "\n",
        "exact13 = [simple_regret_exact_1[slice13],\n",
        "       simple_regret_exact_2[slice13],\n",
        "       simple_regret_exact_3[slice13],\n",
        "       simple_regret_exact_4[slice13],\n",
        "       simple_regret_exact_5[slice13],\n",
        "       simple_regret_exact_6[slice13],\n",
        "       simple_regret_exact_7[slice13],\n",
        "       simple_regret_exact_8[slice13],\n",
        "       simple_regret_exact_9[slice13],\n",
        "       simple_regret_exact_10[slice13],\n",
        "       simple_regret_exact_11[slice13],\n",
        "       simple_regret_exact_12[slice13],\n",
        "       simple_regret_exact_13[slice13],\n",
        "       simple_regret_exact_14[slice13],\n",
        "       simple_regret_exact_15[slice13],\n",
        "       simple_regret_exact_16[slice13],\n",
        "       simple_regret_exact_17[slice13],\n",
        "       simple_regret_exact_18[slice13],\n",
        "       simple_regret_exact_19[slice13],\n",
        "       simple_regret_exact_20[slice13]]\n",
        "\n",
        "approx13_results = pd.DataFrame(approx13).sort_values(by=[0], ascending=False)\n",
        "exact13_results = pd.DataFrame(exact13).sort_values(by=[0], ascending=False)\n",
        "\n",
        "### Best simple regret minimization IQR - approx:\n",
        "lower_approx13 = np.asarray(approx13_results[4:5][0])[0]\n",
        "median_approx13 = np.asarray(approx13_results[9:10][0])[0]\n",
        "upper_approx13 = np.asarray(approx13_results[14:15][0])[0]\n",
        "\n",
        "lower_exact13 = np.asarray(exact13_results[4:5][0])[0]\n",
        "median_exact13 = np.asarray(exact13_results[9:10][0])[0]\n",
        "upper_exact13 = np.asarray(exact13_results[14:15][0])[0]"
      ],
      "execution_count": 80,
      "outputs": []
    },
    {
      "cell_type": "code",
      "metadata": {
        "id": "9A7mlVvJQxf5"
      },
      "source": [
        "# Iteration4 :\n",
        "\n",
        "slice4 = 3\n",
        "\n",
        "approx4 = [simple_regret_approx_1[slice4],\n",
        "       simple_regret_approx_2[slice4],\n",
        "       simple_regret_approx_3[slice4],\n",
        "       simple_regret_approx_4[slice4],\n",
        "       simple_regret_approx_5[slice4],\n",
        "       simple_regret_approx_6[slice4],\n",
        "       simple_regret_approx_7[slice4],\n",
        "       simple_regret_approx_8[slice4],\n",
        "       simple_regret_approx_9[slice4],\n",
        "       simple_regret_approx_10[slice4],\n",
        "       simple_regret_approx_11[slice4],\n",
        "       simple_regret_approx_12[slice4],\n",
        "       simple_regret_approx_13[slice4],\n",
        "       simple_regret_approx_14[slice4],\n",
        "       simple_regret_approx_15[slice4],\n",
        "       simple_regret_approx_16[slice4],\n",
        "       simple_regret_approx_17[slice4],\n",
        "       simple_regret_approx_18[slice4],\n",
        "       simple_regret_approx_19[slice4],\n",
        "       simple_regret_approx_20[slice4]]\n",
        "\n",
        "exact4 = [simple_regret_exact_1[slice4],\n",
        "       simple_regret_exact_2[slice4],\n",
        "       simple_regret_exact_3[slice4],\n",
        "       simple_regret_exact_4[slice4],\n",
        "       simple_regret_exact_5[slice4],\n",
        "       simple_regret_exact_6[slice4],\n",
        "       simple_regret_exact_7[slice4],\n",
        "       simple_regret_exact_8[slice4],\n",
        "       simple_regret_exact_9[slice4],\n",
        "       simple_regret_exact_10[slice4],\n",
        "       simple_regret_exact_11[slice4],\n",
        "       simple_regret_exact_12[slice4],\n",
        "       simple_regret_exact_13[slice4],\n",
        "       simple_regret_exact_14[slice4],\n",
        "       simple_regret_exact_15[slice4],\n",
        "       simple_regret_exact_16[slice4],\n",
        "       simple_regret_exact_17[slice4],\n",
        "       simple_regret_exact_18[slice4],\n",
        "       simple_regret_exact_19[slice4],\n",
        "       simple_regret_exact_20[slice4]]\n",
        "\n",
        "approx4_results = pd.DataFrame(approx4).sort_values(by=[0], ascending=False)\n",
        "exact4_results = pd.DataFrame(exact4).sort_values(by=[0], ascending=False)\n",
        "\n",
        "### Best simple regret minimization IQR - approx:\n",
        "lower_approx4 = np.asarray(approx4_results[4:5][0])[0]\n",
        "median_approx4 = np.asarray(approx4_results[9:10][0])[0]\n",
        "upper_approx4 = np.asarray(approx4_results[14:15][0])[0]\n",
        "\n",
        "lower_exact4 = np.asarray(exact4_results[4:5][0])[0]\n",
        "median_exact4 = np.asarray(exact4_results[9:10][0])[0]\n",
        "upper_exact4 = np.asarray(exact4_results[14:15][0])[0]"
      ],
      "execution_count": 81,
      "outputs": []
    },
    {
      "cell_type": "code",
      "metadata": {
        "id": "ijq-rioYQxf5"
      },
      "source": [
        "# Iteration14 :\n",
        "\n",
        "slice14 = 13\n",
        "\n",
        "approx14 = [simple_regret_approx_1[slice14],\n",
        "       simple_regret_approx_2[slice14],\n",
        "       simple_regret_approx_3[slice14],\n",
        "       simple_regret_approx_4[slice14],\n",
        "       simple_regret_approx_5[slice14],\n",
        "       simple_regret_approx_6[slice14],\n",
        "       simple_regret_approx_7[slice14],\n",
        "       simple_regret_approx_8[slice14],\n",
        "       simple_regret_approx_9[slice14],\n",
        "       simple_regret_approx_10[slice14],\n",
        "       simple_regret_approx_11[slice14],\n",
        "       simple_regret_approx_12[slice14],\n",
        "       simple_regret_approx_13[slice14],\n",
        "       simple_regret_approx_14[slice14],\n",
        "       simple_regret_approx_15[slice14],\n",
        "       simple_regret_approx_16[slice14],\n",
        "       simple_regret_approx_17[slice14],\n",
        "       simple_regret_approx_18[slice14],\n",
        "       simple_regret_approx_19[slice14],\n",
        "       simple_regret_approx_20[slice14]]\n",
        "\n",
        "exact14 = [simple_regret_exact_1[slice14],\n",
        "       simple_regret_exact_2[slice14],\n",
        "       simple_regret_exact_3[slice14],\n",
        "       simple_regret_exact_4[slice14],\n",
        "       simple_regret_exact_5[slice14],\n",
        "       simple_regret_exact_6[slice14],\n",
        "       simple_regret_exact_7[slice14],\n",
        "       simple_regret_exact_8[slice14],\n",
        "       simple_regret_exact_9[slice14],\n",
        "       simple_regret_exact_10[slice14],\n",
        "       simple_regret_exact_11[slice14],\n",
        "       simple_regret_exact_12[slice14],\n",
        "       simple_regret_exact_13[slice14],\n",
        "       simple_regret_exact_14[slice14],\n",
        "       simple_regret_exact_15[slice14],\n",
        "       simple_regret_exact_16[slice14],\n",
        "       simple_regret_exact_17[slice14],\n",
        "       simple_regret_exact_18[slice14],\n",
        "       simple_regret_exact_19[slice14],\n",
        "       simple_regret_exact_20[slice14]]\n",
        "\n",
        "approx14_results = pd.DataFrame(approx14).sort_values(by=[0], ascending=False)\n",
        "exact14_results = pd.DataFrame(exact14).sort_values(by=[0], ascending=False)\n",
        "\n",
        "### Best simple regret minimization IQR - approx:\n",
        "lower_approx14 = np.asarray(approx14_results[4:5][0])[0]\n",
        "median_approx14 = np.asarray(approx14_results[9:10][0])[0]\n",
        "upper_approx14 = np.asarray(approx14_results[14:15][0])[0]\n",
        "\n",
        "lower_exact14 = np.asarray(exact14_results[4:5][0])[0]\n",
        "median_exact14 = np.asarray(exact14_results[9:10][0])[0]\n",
        "upper_exact14 = np.asarray(exact14_results[14:15][0])[0]"
      ],
      "execution_count": 82,
      "outputs": []
    },
    {
      "cell_type": "code",
      "metadata": {
        "id": "XINlZjoTd-ZK"
      },
      "source": [
        "# Iteration5 :\n",
        "\n",
        "slice5 = 4\n",
        "\n",
        "approx5 = [simple_regret_approx_1[slice5],\n",
        "       simple_regret_approx_2[slice5],\n",
        "       simple_regret_approx_3[slice5],\n",
        "       simple_regret_approx_4[slice5],\n",
        "       simple_regret_approx_5[slice5],\n",
        "       simple_regret_approx_6[slice5],\n",
        "       simple_regret_approx_7[slice5],\n",
        "       simple_regret_approx_8[slice5],\n",
        "       simple_regret_approx_9[slice5],\n",
        "       simple_regret_approx_10[slice5],\n",
        "       simple_regret_approx_11[slice5],\n",
        "       simple_regret_approx_12[slice5],\n",
        "       simple_regret_approx_13[slice5],\n",
        "       simple_regret_approx_14[slice5],\n",
        "       simple_regret_approx_15[slice5],\n",
        "       simple_regret_approx_16[slice5],\n",
        "       simple_regret_approx_17[slice5],\n",
        "       simple_regret_approx_18[slice5],\n",
        "       simple_regret_approx_19[slice5],\n",
        "       simple_regret_approx_20[slice5]]\n",
        "\n",
        "exact5 = [simple_regret_exact_1[slice5],\n",
        "       simple_regret_exact_2[slice5],\n",
        "       simple_regret_exact_3[slice5],\n",
        "       simple_regret_exact_4[slice5],\n",
        "       simple_regret_exact_5[slice5],\n",
        "       simple_regret_exact_6[slice5],\n",
        "       simple_regret_exact_7[slice5],\n",
        "       simple_regret_exact_8[slice5],\n",
        "       simple_regret_exact_9[slice5],\n",
        "       simple_regret_exact_10[slice5],\n",
        "       simple_regret_exact_11[slice5],\n",
        "       simple_regret_exact_12[slice5],\n",
        "       simple_regret_exact_13[slice5],\n",
        "       simple_regret_exact_14[slice5],\n",
        "       simple_regret_exact_15[slice5],\n",
        "       simple_regret_exact_16[slice5],\n",
        "       simple_regret_exact_17[slice5],\n",
        "       simple_regret_exact_18[slice5],\n",
        "       simple_regret_exact_19[slice5],\n",
        "       simple_regret_exact_20[slice5]]\n",
        "\n",
        "approx5_results = pd.DataFrame(approx5).sort_values(by=[0], ascending=False)\n",
        "exact5_results = pd.DataFrame(exact5).sort_values(by=[0], ascending=False)\n",
        "\n",
        "### Best simple regret minimization IQR - approx:\n",
        "lower_approx5 = np.asarray(approx5_results[4:5][0])[0]\n",
        "median_approx5 = np.asarray(approx5_results[9:10][0])[0]\n",
        "upper_approx5 = np.asarray(approx5_results[14:15][0])[0]\n",
        "\n",
        "lower_exact5 = np.asarray(exact5_results[4:5][0])[0]\n",
        "median_exact5 = np.asarray(exact5_results[9:10][0])[0]\n",
        "upper_exact5 = np.asarray(exact5_results[14:15][0])[0]"
      ],
      "execution_count": 83,
      "outputs": []
    },
    {
      "cell_type": "code",
      "metadata": {
        "id": "4aZ7C8sOQxf6"
      },
      "source": [
        "# Iteration15 :\n",
        "\n",
        "slice15 = 14\n",
        "\n",
        "approx15 = [simple_regret_approx_1[slice15],\n",
        "       simple_regret_approx_2[slice15],\n",
        "       simple_regret_approx_3[slice15],\n",
        "       simple_regret_approx_4[slice15],\n",
        "       simple_regret_approx_5[slice15],\n",
        "       simple_regret_approx_6[slice15],\n",
        "       simple_regret_approx_7[slice15],\n",
        "       simple_regret_approx_8[slice15],\n",
        "       simple_regret_approx_9[slice15],\n",
        "       simple_regret_approx_10[slice15],\n",
        "       simple_regret_approx_11[slice15],\n",
        "       simple_regret_approx_12[slice15],\n",
        "       simple_regret_approx_13[slice15],\n",
        "       simple_regret_approx_14[slice15],\n",
        "       simple_regret_approx_15[slice15],\n",
        "       simple_regret_approx_16[slice15],\n",
        "       simple_regret_approx_17[slice15],\n",
        "       simple_regret_approx_18[slice15],\n",
        "       simple_regret_approx_19[slice15],\n",
        "       simple_regret_approx_20[slice15]]\n",
        "\n",
        "exact15 = [simple_regret_exact_1[slice15],\n",
        "       simple_regret_exact_2[slice15],\n",
        "       simple_regret_exact_3[slice15],\n",
        "       simple_regret_exact_4[slice15],\n",
        "       simple_regret_exact_5[slice15],\n",
        "       simple_regret_exact_6[slice15],\n",
        "       simple_regret_exact_7[slice15],\n",
        "       simple_regret_exact_8[slice15],\n",
        "       simple_regret_exact_9[slice15],\n",
        "       simple_regret_exact_10[slice15],\n",
        "       simple_regret_exact_11[slice15],\n",
        "       simple_regret_exact_12[slice15],\n",
        "       simple_regret_exact_13[slice15],\n",
        "       simple_regret_exact_14[slice15],\n",
        "       simple_regret_exact_15[slice15],\n",
        "       simple_regret_exact_16[slice15],\n",
        "       simple_regret_exact_17[slice15],\n",
        "       simple_regret_exact_18[slice15],\n",
        "       simple_regret_exact_19[slice15],\n",
        "       simple_regret_exact_20[slice15]]\n",
        "\n",
        "approx15_results = pd.DataFrame(approx15).sort_values(by=[0], ascending=False)\n",
        "exact15_results = pd.DataFrame(exact15).sort_values(by=[0], ascending=False)\n",
        "\n",
        "### Best simple regret minimization IQR - approx:\n",
        "lower_approx15 = np.asarray(approx15_results[4:5][0])[0]\n",
        "median_approx15 = np.asarray(approx15_results[9:10][0])[0]\n",
        "upper_approx15 = np.asarray(approx15_results[14:15][0])[0]\n",
        "\n",
        "lower_exact15 = np.asarray(exact15_results[4:5][0])[0]\n",
        "median_exact15 = np.asarray(exact15_results[9:10][0])[0]\n",
        "upper_exact15 = np.asarray(exact15_results[14:15][0])[0]"
      ],
      "execution_count": 84,
      "outputs": []
    },
    {
      "cell_type": "code",
      "metadata": {
        "id": "KJINKhv1Qxf6"
      },
      "source": [
        "# Iteration6 :\n",
        "\n",
        "slice6 = 5\n",
        "\n",
        "approx6 = [simple_regret_approx_1[slice6],\n",
        "       simple_regret_approx_2[slice6],\n",
        "       simple_regret_approx_3[slice6],\n",
        "       simple_regret_approx_4[slice6],\n",
        "       simple_regret_approx_5[slice6],\n",
        "       simple_regret_approx_6[slice6],\n",
        "       simple_regret_approx_7[slice6],\n",
        "       simple_regret_approx_8[slice6],\n",
        "       simple_regret_approx_9[slice6],\n",
        "       simple_regret_approx_10[slice6],\n",
        "       simple_regret_approx_11[slice6],\n",
        "       simple_regret_approx_12[slice6],\n",
        "       simple_regret_approx_13[slice6],\n",
        "       simple_regret_approx_14[slice6],\n",
        "       simple_regret_approx_15[slice6],\n",
        "       simple_regret_approx_16[slice6],\n",
        "       simple_regret_approx_17[slice6],\n",
        "       simple_regret_approx_18[slice6],\n",
        "       simple_regret_approx_19[slice6],\n",
        "       simple_regret_approx_20[slice6]]\n",
        "\n",
        "exact6 = [simple_regret_exact_1[slice6],\n",
        "       simple_regret_exact_2[slice6],\n",
        "       simple_regret_exact_3[slice6],\n",
        "       simple_regret_exact_4[slice6],\n",
        "       simple_regret_exact_5[slice6],\n",
        "       simple_regret_exact_6[slice6],\n",
        "       simple_regret_exact_7[slice6],\n",
        "       simple_regret_exact_8[slice6],\n",
        "       simple_regret_exact_9[slice6],\n",
        "       simple_regret_exact_10[slice6],\n",
        "       simple_regret_exact_11[slice6],\n",
        "       simple_regret_exact_12[slice6],\n",
        "       simple_regret_exact_13[slice6],\n",
        "       simple_regret_exact_14[slice6],\n",
        "       simple_regret_exact_15[slice6],\n",
        "       simple_regret_exact_16[slice6],\n",
        "       simple_regret_exact_17[slice6],\n",
        "       simple_regret_exact_18[slice6],\n",
        "       simple_regret_exact_19[slice6],\n",
        "       simple_regret_exact_20[slice6]]\n",
        "\n",
        "approx6_results = pd.DataFrame(approx6).sort_values(by=[0], ascending=False)\n",
        "exact6_results = pd.DataFrame(exact6).sort_values(by=[0], ascending=False)\n",
        "\n",
        "### Best simple regret minimization IQR - approx:\n",
        "lower_approx6 = np.asarray(approx6_results[4:5][0])[0]\n",
        "median_approx6 = np.asarray(approx6_results[9:10][0])[0]\n",
        "upper_approx6 = np.asarray(approx6_results[14:15][0])[0]\n",
        "\n",
        "lower_exact6 = np.asarray(exact6_results[4:5][0])[0]\n",
        "median_exact6 = np.asarray(exact6_results[9:10][0])[0]\n",
        "upper_exact6 = np.asarray(exact6_results[14:15][0])[0]"
      ],
      "execution_count": 85,
      "outputs": []
    },
    {
      "cell_type": "code",
      "metadata": {
        "id": "nwC5N1FsQxf7"
      },
      "source": [
        "# Iteration16 :\n",
        "\n",
        "slice16 = 15\n",
        "\n",
        "approx16 = [simple_regret_approx_1[slice16],\n",
        "       simple_regret_approx_2[slice16],\n",
        "       simple_regret_approx_3[slice16],\n",
        "       simple_regret_approx_4[slice16],\n",
        "       simple_regret_approx_5[slice16],\n",
        "       simple_regret_approx_6[slice16],\n",
        "       simple_regret_approx_7[slice16],\n",
        "       simple_regret_approx_8[slice16],\n",
        "       simple_regret_approx_9[slice16],\n",
        "       simple_regret_approx_10[slice16],\n",
        "       simple_regret_approx_11[slice16],\n",
        "       simple_regret_approx_12[slice16],\n",
        "       simple_regret_approx_13[slice16],\n",
        "       simple_regret_approx_14[slice16],\n",
        "       simple_regret_approx_15[slice16],\n",
        "       simple_regret_approx_16[slice16],\n",
        "       simple_regret_approx_17[slice16],\n",
        "       simple_regret_approx_18[slice16],\n",
        "       simple_regret_approx_19[slice16],\n",
        "       simple_regret_approx_20[slice16]]\n",
        "\n",
        "exact16 = [simple_regret_exact_1[slice16],\n",
        "       simple_regret_exact_2[slice16],\n",
        "       simple_regret_exact_3[slice16],\n",
        "       simple_regret_exact_4[slice16],\n",
        "       simple_regret_exact_5[slice16],\n",
        "       simple_regret_exact_6[slice16],\n",
        "       simple_regret_exact_7[slice16],\n",
        "       simple_regret_exact_8[slice16],\n",
        "       simple_regret_exact_9[slice16],\n",
        "       simple_regret_exact_10[slice16],\n",
        "       simple_regret_exact_11[slice16],\n",
        "       simple_regret_exact_12[slice16],\n",
        "       simple_regret_exact_13[slice16],\n",
        "       simple_regret_exact_14[slice16],\n",
        "       simple_regret_exact_15[slice16],\n",
        "       simple_regret_exact_16[slice16],\n",
        "       simple_regret_exact_17[slice16],\n",
        "       simple_regret_exact_18[slice16],\n",
        "       simple_regret_exact_19[slice16],\n",
        "       simple_regret_exact_20[slice16]]\n",
        "\n",
        "approx16_results = pd.DataFrame(approx16).sort_values(by=[0], ascending=False)\n",
        "exact16_results = pd.DataFrame(exact16).sort_values(by=[0], ascending=False)\n",
        "\n",
        "### Best simple regret minimization IQR - approx:\n",
        "lower_approx16 = np.asarray(approx16_results[4:5][0])[0]\n",
        "median_approx16 = np.asarray(approx16_results[9:10][0])[0]\n",
        "upper_approx16 = np.asarray(approx16_results[14:15][0])[0]\n",
        "\n",
        "lower_exact16 = np.asarray(exact16_results[4:5][0])[0]\n",
        "median_exact16 = np.asarray(exact16_results[9:10][0])[0]\n",
        "upper_exact16 = np.asarray(exact16_results[14:15][0])[0]"
      ],
      "execution_count": 86,
      "outputs": []
    },
    {
      "cell_type": "code",
      "metadata": {
        "id": "TrPV0AfnQxf7"
      },
      "source": [
        "# Iteration7 :\n",
        "\n",
        "slice7 = 6\n",
        "\n",
        "approx7 = [simple_regret_approx_1[slice7],\n",
        "       simple_regret_approx_2[slice7],\n",
        "       simple_regret_approx_3[slice7],\n",
        "       simple_regret_approx_4[slice7],\n",
        "       simple_regret_approx_5[slice7],\n",
        "       simple_regret_approx_6[slice7],\n",
        "       simple_regret_approx_7[slice7],\n",
        "       simple_regret_approx_8[slice7],\n",
        "       simple_regret_approx_9[slice7],\n",
        "       simple_regret_approx_10[slice7],\n",
        "       simple_regret_approx_11[slice7],\n",
        "       simple_regret_approx_12[slice7],\n",
        "       simple_regret_approx_13[slice7],\n",
        "       simple_regret_approx_14[slice7],\n",
        "       simple_regret_approx_15[slice7],\n",
        "       simple_regret_approx_16[slice7],\n",
        "       simple_regret_approx_17[slice7],\n",
        "       simple_regret_approx_18[slice7],\n",
        "       simple_regret_approx_19[slice7],\n",
        "       simple_regret_approx_20[slice7]]\n",
        "\n",
        "exact7 = [simple_regret_exact_1[slice7],\n",
        "       simple_regret_exact_2[slice7],\n",
        "       simple_regret_exact_3[slice7],\n",
        "       simple_regret_exact_4[slice7],\n",
        "       simple_regret_exact_5[slice7],\n",
        "       simple_regret_exact_6[slice7],\n",
        "       simple_regret_exact_7[slice7],\n",
        "       simple_regret_exact_8[slice7],\n",
        "       simple_regret_exact_9[slice7],\n",
        "       simple_regret_exact_10[slice7],\n",
        "       simple_regret_exact_11[slice7],\n",
        "       simple_regret_exact_12[slice7],\n",
        "       simple_regret_exact_13[slice7],\n",
        "       simple_regret_exact_14[slice7],\n",
        "       simple_regret_exact_15[slice7],\n",
        "       simple_regret_exact_16[slice7],\n",
        "       simple_regret_exact_17[slice7],\n",
        "       simple_regret_exact_18[slice7],\n",
        "       simple_regret_exact_19[slice7],\n",
        "       simple_regret_exact_20[slice7]]\n",
        "\n",
        "approx7_results = pd.DataFrame(approx7).sort_values(by=[0], ascending=False)\n",
        "exact7_results = pd.DataFrame(exact7).sort_values(by=[0], ascending=False)\n",
        "\n",
        "### Best simple regret minimization IQR - approx:\n",
        "lower_approx7 = np.asarray(approx7_results[4:5][0])[0]\n",
        "median_approx7 = np.asarray(approx7_results[9:10][0])[0]\n",
        "upper_approx7 = np.asarray(approx7_results[14:15][0])[0]\n",
        "\n",
        "lower_exact7 = np.asarray(exact7_results[4:5][0])[0]\n",
        "median_exact7 = np.asarray(exact7_results[9:10][0])[0]\n",
        "upper_exact7 = np.asarray(exact7_results[14:15][0])[0]"
      ],
      "execution_count": 87,
      "outputs": []
    },
    {
      "cell_type": "code",
      "metadata": {
        "id": "Ub_-wpK4Qxf8"
      },
      "source": [
        "# Iteration17 :\n",
        "\n",
        "slice17 = 16\n",
        "\n",
        "approx17 = [simple_regret_approx_1[slice17],\n",
        "       simple_regret_approx_2[slice17],\n",
        "       simple_regret_approx_3[slice17],\n",
        "       simple_regret_approx_4[slice17],\n",
        "       simple_regret_approx_5[slice17],\n",
        "       simple_regret_approx_6[slice17],\n",
        "       simple_regret_approx_7[slice17],\n",
        "       simple_regret_approx_8[slice17],\n",
        "       simple_regret_approx_9[slice17],\n",
        "       simple_regret_approx_10[slice17],\n",
        "       simple_regret_approx_11[slice17],\n",
        "       simple_regret_approx_12[slice17],\n",
        "       simple_regret_approx_13[slice17],\n",
        "       simple_regret_approx_14[slice17],\n",
        "       simple_regret_approx_15[slice17],\n",
        "       simple_regret_approx_16[slice17],\n",
        "       simple_regret_approx_17[slice17],\n",
        "       simple_regret_approx_18[slice17],\n",
        "       simple_regret_approx_19[slice17],\n",
        "       simple_regret_approx_20[slice17]]\n",
        "\n",
        "exact17 = [simple_regret_exact_1[slice17],\n",
        "       simple_regret_exact_2[slice17],\n",
        "       simple_regret_exact_3[slice17],\n",
        "       simple_regret_exact_4[slice17],\n",
        "       simple_regret_exact_5[slice17],\n",
        "       simple_regret_exact_6[slice17],\n",
        "       simple_regret_exact_7[slice17],\n",
        "       simple_regret_exact_8[slice17],\n",
        "       simple_regret_exact_9[slice17],\n",
        "       simple_regret_exact_10[slice17],\n",
        "       simple_regret_exact_11[slice17],\n",
        "       simple_regret_exact_12[slice17],\n",
        "       simple_regret_exact_13[slice17],\n",
        "       simple_regret_exact_14[slice17],\n",
        "       simple_regret_exact_15[slice17],\n",
        "       simple_regret_exact_16[slice17],\n",
        "       simple_regret_exact_17[slice17],\n",
        "       simple_regret_exact_18[slice17],\n",
        "       simple_regret_exact_19[slice17],\n",
        "       simple_regret_exact_20[slice17]]\n",
        "\n",
        "approx17_results = pd.DataFrame(approx17).sort_values(by=[0], ascending=False)\n",
        "exact17_results = pd.DataFrame(exact17).sort_values(by=[0], ascending=False)\n",
        "\n",
        "### Best simple regret minimization IQR - approx:\n",
        "lower_approx17 = np.asarray(approx17_results[4:5][0])[0]\n",
        "median_approx17 = np.asarray(approx17_results[9:10][0])[0]\n",
        "upper_approx17 = np.asarray(approx17_results[14:15][0])[0]\n",
        "\n",
        "lower_exact17 = np.asarray(exact17_results[4:5][0])[0]\n",
        "median_exact17 = np.asarray(exact17_results[9:10][0])[0]\n",
        "upper_exact17 = np.asarray(exact17_results[14:15][0])[0]"
      ],
      "execution_count": 88,
      "outputs": []
    },
    {
      "cell_type": "code",
      "metadata": {
        "id": "-6VLo37PQxf8"
      },
      "source": [
        "# Iteration8 :\n",
        "\n",
        "slice8 = 7\n",
        "\n",
        "approx8 = [simple_regret_approx_1[slice8],\n",
        "       simple_regret_approx_2[slice8],\n",
        "       simple_regret_approx_3[slice8],\n",
        "       simple_regret_approx_4[slice8],\n",
        "       simple_regret_approx_5[slice8],\n",
        "       simple_regret_approx_6[slice8],\n",
        "       simple_regret_approx_7[slice8],\n",
        "       simple_regret_approx_8[slice8],\n",
        "       simple_regret_approx_9[slice8],\n",
        "       simple_regret_approx_10[slice8],\n",
        "       simple_regret_approx_11[slice8],\n",
        "       simple_regret_approx_12[slice8],\n",
        "       simple_regret_approx_13[slice8],\n",
        "       simple_regret_approx_14[slice8],\n",
        "       simple_regret_approx_15[slice8],\n",
        "       simple_regret_approx_16[slice8],\n",
        "       simple_regret_approx_17[slice8],\n",
        "       simple_regret_approx_18[slice8],\n",
        "       simple_regret_approx_19[slice8],\n",
        "       simple_regret_approx_20[slice8]]\n",
        "\n",
        "exact8 = [simple_regret_exact_1[slice8],\n",
        "       simple_regret_exact_2[slice8],\n",
        "       simple_regret_exact_3[slice8],\n",
        "       simple_regret_exact_4[slice8],\n",
        "       simple_regret_exact_5[slice8],\n",
        "       simple_regret_exact_6[slice8],\n",
        "       simple_regret_exact_7[slice8],\n",
        "       simple_regret_exact_8[slice8],\n",
        "       simple_regret_exact_9[slice8],\n",
        "       simple_regret_exact_10[slice8],\n",
        "       simple_regret_exact_11[slice8],\n",
        "       simple_regret_exact_12[slice8],\n",
        "       simple_regret_exact_13[slice8],\n",
        "       simple_regret_exact_14[slice8],\n",
        "       simple_regret_exact_15[slice8],\n",
        "       simple_regret_exact_16[slice8],\n",
        "       simple_regret_exact_17[slice8],\n",
        "       simple_regret_exact_18[slice8],\n",
        "       simple_regret_exact_19[slice8],\n",
        "       simple_regret_exact_20[slice8]]\n",
        "\n",
        "approx8_results = pd.DataFrame(approx8).sort_values(by=[0], ascending=False)\n",
        "exact8_results = pd.DataFrame(exact8).sort_values(by=[0], ascending=False)\n",
        "\n",
        "### Best simple regret minimization IQR - approx:\n",
        "lower_approx8 = np.asarray(approx8_results[4:5][0])[0]\n",
        "median_approx8 = np.asarray(approx8_results[9:10][0])[0]\n",
        "upper_approx8 = np.asarray(approx8_results[14:15][0])[0]\n",
        "\n",
        "lower_exact8 = np.asarray(exact8_results[4:5][0])[0]\n",
        "median_exact8 = np.asarray(exact8_results[9:10][0])[0]\n",
        "upper_exact8 = np.asarray(exact8_results[14:15][0])[0]"
      ],
      "execution_count": 89,
      "outputs": []
    },
    {
      "cell_type": "code",
      "metadata": {
        "id": "2Dp-9CC2Qxf9"
      },
      "source": [
        "# Iteration18 :\n",
        "\n",
        "slice18 = 17\n",
        "\n",
        "approx18 = [simple_regret_approx_1[slice18],\n",
        "       simple_regret_approx_2[slice18],\n",
        "       simple_regret_approx_3[slice18],\n",
        "       simple_regret_approx_4[slice18],\n",
        "       simple_regret_approx_5[slice18],\n",
        "       simple_regret_approx_6[slice18],\n",
        "       simple_regret_approx_7[slice18],\n",
        "       simple_regret_approx_8[slice18],\n",
        "       simple_regret_approx_9[slice18],\n",
        "       simple_regret_approx_10[slice18],\n",
        "       simple_regret_approx_11[slice18],\n",
        "       simple_regret_approx_12[slice18],\n",
        "       simple_regret_approx_13[slice18],\n",
        "       simple_regret_approx_14[slice18],\n",
        "       simple_regret_approx_15[slice18],\n",
        "       simple_regret_approx_16[slice18],\n",
        "       simple_regret_approx_17[slice18],\n",
        "       simple_regret_approx_18[slice18],\n",
        "       simple_regret_approx_19[slice18],\n",
        "       simple_regret_approx_20[slice18]]\n",
        "\n",
        "exact18 = [simple_regret_exact_1[slice18],\n",
        "       simple_regret_exact_2[slice18],\n",
        "       simple_regret_exact_3[slice18],\n",
        "       simple_regret_exact_4[slice18],\n",
        "       simple_regret_exact_5[slice18],\n",
        "       simple_regret_exact_6[slice18],\n",
        "       simple_regret_exact_7[slice18],\n",
        "       simple_regret_exact_8[slice18],\n",
        "       simple_regret_exact_9[slice18],\n",
        "       simple_regret_exact_10[slice18],\n",
        "       simple_regret_exact_11[slice18],\n",
        "       simple_regret_exact_12[slice18],\n",
        "       simple_regret_exact_13[slice18],\n",
        "       simple_regret_exact_14[slice18],\n",
        "       simple_regret_exact_15[slice18],\n",
        "       simple_regret_exact_16[slice18],\n",
        "       simple_regret_exact_17[slice18],\n",
        "       simple_regret_exact_18[slice18],\n",
        "       simple_regret_exact_19[slice18],\n",
        "       simple_regret_exact_20[slice18]]\n",
        "\n",
        "approx18_results = pd.DataFrame(approx18).sort_values(by=[0], ascending=False)\n",
        "exact18_results = pd.DataFrame(exact18).sort_values(by=[0], ascending=False)\n",
        "\n",
        "### Best simple regret minimization IQR - approx:\n",
        "lower_approx18 = np.asarray(approx18_results[4:5][0])[0]\n",
        "median_approx18 = np.asarray(approx18_results[9:10][0])[0]\n",
        "upper_approx18 = np.asarray(approx18_results[14:15][0])[0]\n",
        "\n",
        "lower_exact18 = np.asarray(exact18_results[4:5][0])[0]\n",
        "median_exact18 = np.asarray(exact18_results[9:10][0])[0]\n",
        "upper_exact18 = np.asarray(exact18_results[14:15][0])[0]"
      ],
      "execution_count": 90,
      "outputs": []
    },
    {
      "cell_type": "code",
      "metadata": {
        "id": "SqiaOpB7Qxf9"
      },
      "source": [
        "# Iteration9 :\n",
        "\n",
        "slice9 = 8\n",
        "\n",
        "approx9 = [simple_regret_approx_1[slice9],\n",
        "       simple_regret_approx_2[slice9],\n",
        "       simple_regret_approx_3[slice9],\n",
        "       simple_regret_approx_4[slice9],\n",
        "       simple_regret_approx_5[slice9],\n",
        "       simple_regret_approx_6[slice9],\n",
        "       simple_regret_approx_7[slice9],\n",
        "       simple_regret_approx_8[slice9],\n",
        "       simple_regret_approx_9[slice9],\n",
        "       simple_regret_approx_10[slice9],\n",
        "       simple_regret_approx_11[slice9],\n",
        "       simple_regret_approx_12[slice9],\n",
        "       simple_regret_approx_13[slice9],\n",
        "       simple_regret_approx_14[slice9],\n",
        "       simple_regret_approx_15[slice9],\n",
        "       simple_regret_approx_16[slice9],\n",
        "       simple_regret_approx_17[slice9],\n",
        "       simple_regret_approx_18[slice9],\n",
        "       simple_regret_approx_19[slice9],\n",
        "       simple_regret_approx_20[slice9]]\n",
        "\n",
        "exact9 = [simple_regret_exact_1[slice9],\n",
        "       simple_regret_exact_2[slice9],\n",
        "       simple_regret_exact_3[slice9],\n",
        "       simple_regret_exact_4[slice9],\n",
        "       simple_regret_exact_5[slice9],\n",
        "       simple_regret_exact_6[slice9],\n",
        "       simple_regret_exact_7[slice9],\n",
        "       simple_regret_exact_8[slice9],\n",
        "       simple_regret_exact_9[slice9],\n",
        "       simple_regret_exact_10[slice9],\n",
        "       simple_regret_exact_11[slice9],\n",
        "       simple_regret_exact_12[slice9],\n",
        "       simple_regret_exact_13[slice9],\n",
        "       simple_regret_exact_14[slice9],\n",
        "       simple_regret_exact_15[slice9],\n",
        "       simple_regret_exact_16[slice9],\n",
        "       simple_regret_exact_17[slice9],\n",
        "       simple_regret_exact_18[slice9],\n",
        "       simple_regret_exact_19[slice9],\n",
        "       simple_regret_exact_20[slice9]]\n",
        "\n",
        "approx9_results = pd.DataFrame(approx9).sort_values(by=[0], ascending=False)\n",
        "exact9_results = pd.DataFrame(exact9).sort_values(by=[0], ascending=False)\n",
        "\n",
        "### Best simple regret minimization IQR - approx:\n",
        "lower_approx9 = np.asarray(approx9_results[4:5][0])[0]\n",
        "median_approx9 = np.asarray(approx9_results[9:10][0])[0]\n",
        "upper_approx9 = np.asarray(approx9_results[14:15][0])[0]\n",
        "\n",
        "lower_exact9 = np.asarray(exact9_results[4:5][0])[0]\n",
        "median_exact9 = np.asarray(exact9_results[9:10][0])[0]\n",
        "upper_exact9 = np.asarray(exact9_results[14:15][0])[0]"
      ],
      "execution_count": 91,
      "outputs": []
    },
    {
      "cell_type": "code",
      "metadata": {
        "id": "OQkCCOsPQxf9"
      },
      "source": [
        "# Iteration19 :\n",
        "\n",
        "slice19 = 18\n",
        "\n",
        "approx19 = [simple_regret_approx_1[slice19],\n",
        "       simple_regret_approx_2[slice19],\n",
        "       simple_regret_approx_3[slice19],\n",
        "       simple_regret_approx_4[slice19],\n",
        "       simple_regret_approx_5[slice19],\n",
        "       simple_regret_approx_6[slice19],\n",
        "       simple_regret_approx_7[slice19],\n",
        "       simple_regret_approx_8[slice19],\n",
        "       simple_regret_approx_9[slice19],\n",
        "       simple_regret_approx_10[slice19],\n",
        "       simple_regret_approx_11[slice19],\n",
        "       simple_regret_approx_12[slice19],\n",
        "       simple_regret_approx_13[slice19],\n",
        "       simple_regret_approx_14[slice19],\n",
        "       simple_regret_approx_15[slice19],\n",
        "       simple_regret_approx_16[slice19],\n",
        "       simple_regret_approx_17[slice19],\n",
        "       simple_regret_approx_18[slice19],\n",
        "       simple_regret_approx_19[slice19],\n",
        "       simple_regret_approx_20[slice19]]\n",
        "\n",
        "exact19 = [simple_regret_exact_1[slice19],\n",
        "       simple_regret_exact_2[slice19],\n",
        "       simple_regret_exact_3[slice19],\n",
        "       simple_regret_exact_4[slice19],\n",
        "       simple_regret_exact_5[slice19],\n",
        "       simple_regret_exact_6[slice19],\n",
        "       simple_regret_exact_7[slice19],\n",
        "       simple_regret_exact_8[slice19],\n",
        "       simple_regret_exact_9[slice19],\n",
        "       simple_regret_exact_10[slice19],\n",
        "       simple_regret_exact_11[slice19],\n",
        "       simple_regret_exact_12[slice19],\n",
        "       simple_regret_exact_13[slice19],\n",
        "       simple_regret_exact_14[slice19],\n",
        "       simple_regret_exact_15[slice19],\n",
        "       simple_regret_exact_16[slice19],\n",
        "       simple_regret_exact_17[slice19],\n",
        "       simple_regret_exact_18[slice19],\n",
        "       simple_regret_exact_19[slice19],\n",
        "       simple_regret_exact_20[slice19]]\n",
        "\n",
        "approx19_results = pd.DataFrame(approx19).sort_values(by=[0], ascending=False)\n",
        "exact19_results = pd.DataFrame(exact19).sort_values(by=[0], ascending=False)\n",
        "\n",
        "### Best simple regret minimization IQR - approx:\n",
        "lower_approx19 = np.asarray(approx19_results[4:5][0])[0]\n",
        "median_approx19 = np.asarray(approx19_results[9:10][0])[0]\n",
        "upper_approx19 = np.asarray(approx19_results[14:15][0])[0]\n",
        "\n",
        "lower_exact19 = np.asarray(exact19_results[4:5][0])[0]\n",
        "median_exact19 = np.asarray(exact19_results[9:10][0])[0]\n",
        "upper_exact19 = np.asarray(exact19_results[14:15][0])[0]"
      ],
      "execution_count": 92,
      "outputs": []
    },
    {
      "cell_type": "code",
      "metadata": {
        "id": "h4vtWahcQxf-"
      },
      "source": [
        "# Iteration10 :\n",
        "\n",
        "slice10 = 9\n",
        "\n",
        "approx10 = [simple_regret_approx_1[slice10],\n",
        "       simple_regret_approx_2[slice10],\n",
        "       simple_regret_approx_3[slice10],\n",
        "       simple_regret_approx_4[slice10],\n",
        "       simple_regret_approx_5[slice10],\n",
        "       simple_regret_approx_6[slice10],\n",
        "       simple_regret_approx_7[slice10],\n",
        "       simple_regret_approx_8[slice10],\n",
        "       simple_regret_approx_9[slice10],\n",
        "       simple_regret_approx_10[slice10],\n",
        "       simple_regret_approx_11[slice10],\n",
        "       simple_regret_approx_12[slice10],\n",
        "       simple_regret_approx_13[slice10],\n",
        "       simple_regret_approx_14[slice10],\n",
        "       simple_regret_approx_15[slice10],\n",
        "       simple_regret_approx_16[slice10],\n",
        "       simple_regret_approx_17[slice10],\n",
        "       simple_regret_approx_18[slice10],\n",
        "       simple_regret_approx_19[slice10],\n",
        "       simple_regret_approx_20[slice10]]\n",
        "\n",
        "exact10 = [simple_regret_exact_1[slice10],\n",
        "       simple_regret_exact_2[slice10],\n",
        "       simple_regret_exact_3[slice10],\n",
        "       simple_regret_exact_4[slice10],\n",
        "       simple_regret_exact_5[slice10],\n",
        "       simple_regret_exact_6[slice10],\n",
        "       simple_regret_exact_7[slice10],\n",
        "       simple_regret_exact_8[slice10],\n",
        "       simple_regret_exact_9[slice10],\n",
        "       simple_regret_exact_10[slice10],\n",
        "       simple_regret_exact_11[slice10],\n",
        "       simple_regret_exact_12[slice10],\n",
        "       simple_regret_exact_13[slice10],\n",
        "       simple_regret_exact_14[slice10],\n",
        "       simple_regret_exact_15[slice10],\n",
        "       simple_regret_exact_16[slice10],\n",
        "       simple_regret_exact_17[slice10],\n",
        "       simple_regret_exact_18[slice10],\n",
        "       simple_regret_exact_19[slice10],\n",
        "       simple_regret_exact_20[slice10]]\n",
        "\n",
        "approx10_results = pd.DataFrame(approx10).sort_values(by=[0], ascending=False)\n",
        "exact10_results = pd.DataFrame(exact10).sort_values(by=[0], ascending=False)\n",
        "\n",
        "### Best simple regret minimization IQR - approx:\n",
        "lower_approx10 = np.asarray(approx10_results[4:5][0])[0]\n",
        "median_approx10 = np.asarray(approx10_results[9:10][0])[0]\n",
        "upper_approx10 = np.asarray(approx10_results[14:15][0])[0]\n",
        "\n",
        "lower_exact10 = np.asarray(exact10_results[4:5][0])[0]\n",
        "median_exact10 = np.asarray(exact10_results[9:10][0])[0]\n",
        "upper_exact10 = np.asarray(exact10_results[14:15][0])[0]"
      ],
      "execution_count": 93,
      "outputs": []
    },
    {
      "cell_type": "code",
      "metadata": {
        "id": "Rsf240pWQxf-"
      },
      "source": [
        "# Iteration20 :\n",
        "\n",
        "slice20 = 19\n",
        "\n",
        "approx20 = [simple_regret_approx_1[slice20],\n",
        "       simple_regret_approx_2[slice20],\n",
        "       simple_regret_approx_3[slice20],\n",
        "       simple_regret_approx_4[slice20],\n",
        "       simple_regret_approx_5[slice20],\n",
        "       simple_regret_approx_6[slice20],\n",
        "       simple_regret_approx_7[slice20],\n",
        "       simple_regret_approx_8[slice20],\n",
        "       simple_regret_approx_9[slice20],\n",
        "       simple_regret_approx_10[slice20],\n",
        "       simple_regret_approx_11[slice20],\n",
        "       simple_regret_approx_12[slice20],\n",
        "       simple_regret_approx_13[slice20],\n",
        "       simple_regret_approx_14[slice20],\n",
        "       simple_regret_approx_15[slice20],\n",
        "       simple_regret_approx_16[slice20],\n",
        "       simple_regret_approx_17[slice20],\n",
        "       simple_regret_approx_18[slice20],\n",
        "       simple_regret_approx_19[slice20],\n",
        "       simple_regret_approx_20[slice20]]\n",
        "\n",
        "exact20 = [simple_regret_exact_1[slice20],\n",
        "       simple_regret_exact_2[slice20],\n",
        "       simple_regret_exact_3[slice20],\n",
        "       simple_regret_exact_4[slice20],\n",
        "       simple_regret_exact_5[slice20],\n",
        "       simple_regret_exact_6[slice20],\n",
        "       simple_regret_exact_7[slice20],\n",
        "       simple_regret_exact_8[slice20],\n",
        "       simple_regret_exact_9[slice20],\n",
        "       simple_regret_exact_10[slice20],\n",
        "       simple_regret_exact_11[slice20],\n",
        "       simple_regret_exact_12[slice20],\n",
        "       simple_regret_exact_13[slice20],\n",
        "       simple_regret_exact_14[slice20],\n",
        "       simple_regret_exact_15[slice20],\n",
        "       simple_regret_exact_16[slice20],\n",
        "       simple_regret_exact_17[slice20],\n",
        "       simple_regret_exact_18[slice20],\n",
        "       simple_regret_exact_19[slice20],\n",
        "       simple_regret_exact_20[slice20]]\n",
        "\n",
        "approx20_results = pd.DataFrame(approx20).sort_values(by=[0], ascending=False)\n",
        "exact20_results = pd.DataFrame(exact20).sort_values(by=[0], ascending=False)\n",
        "\n",
        "### Best simple regret minimization IQR - approx:\n",
        "lower_approx20 = np.asarray(approx20_results[4:5][0])[0]\n",
        "median_approx20 = np.asarray(approx20_results[9:10][0])[0]\n",
        "upper_approx20 = np.asarray(approx20_results[14:15][0])[0]\n",
        "\n",
        "lower_exact20 = np.asarray(exact20_results[4:5][0])[0]\n",
        "median_exact20 = np.asarray(exact20_results[9:10][0])[0]\n",
        "upper_exact20 = np.asarray(exact20_results[14:15][0])[0]"
      ],
      "execution_count": 94,
      "outputs": []
    },
    {
      "cell_type": "code",
      "metadata": {
        "id": "gn36RejbQxf_"
      },
      "source": [
        "### Summarize arrays: 'Loser'\n",
        "\n",
        "lower_approx = [lower_approx1,\n",
        "            lower_approx2,\n",
        "            lower_approx3,\n",
        "            lower_approx4,\n",
        "            lower_approx5,\n",
        "            lower_approx6,\n",
        "            lower_approx7,\n",
        "            lower_approx8,\n",
        "            lower_approx9,\n",
        "            lower_approx10,\n",
        "            lower_approx11,\n",
        "            lower_approx12,\n",
        "            lower_approx13,\n",
        "            lower_approx14,\n",
        "            lower_approx15,\n",
        "            lower_approx16,\n",
        "            lower_approx17,\n",
        "            lower_approx18,\n",
        "            lower_approx19,\n",
        "            lower_approx20,\n",
        "            lower_approx21]\n",
        "\n",
        "median_approx = [median_approx1,\n",
        "            median_approx2,\n",
        "            median_approx3,\n",
        "            median_approx4,\n",
        "            median_approx5,\n",
        "            median_approx6,\n",
        "            median_approx7,\n",
        "            median_approx8,\n",
        "            median_approx9,\n",
        "            median_approx10,\n",
        "            median_approx11,\n",
        "            median_approx12,\n",
        "            median_approx13,\n",
        "            median_approx14,\n",
        "            median_approx15,\n",
        "            median_approx16,\n",
        "            median_approx17,\n",
        "            median_approx18,\n",
        "            median_approx19,\n",
        "            median_approx20,\n",
        "            median_approx21]\n",
        "\n",
        "upper_approx = [upper_approx1,\n",
        "            upper_approx2,\n",
        "            upper_approx3,\n",
        "            upper_approx4,\n",
        "            upper_approx5,\n",
        "            upper_approx6,\n",
        "            upper_approx7,\n",
        "            upper_approx8,\n",
        "            upper_approx9,\n",
        "            upper_approx10,\n",
        "            upper_approx11,\n",
        "            upper_approx12,\n",
        "            upper_approx13,\n",
        "            upper_approx14,\n",
        "            upper_approx15,\n",
        "            upper_approx16,\n",
        "            upper_approx17,\n",
        "            upper_approx18,\n",
        "            upper_approx19,\n",
        "            upper_approx20,\n",
        "            upper_approx21]"
      ],
      "execution_count": 95,
      "outputs": []
    },
    {
      "cell_type": "code",
      "metadata": {
        "id": "wxtGTOYfQxf_"
      },
      "source": [
        "### Summarize arrays: 'exact'\n",
        "\n",
        "lower_exact = [lower_exact1,\n",
        "            lower_exact2,\n",
        "            lower_exact3,\n",
        "            lower_exact4,\n",
        "            lower_exact5,\n",
        "            lower_exact6,\n",
        "            lower_exact7,\n",
        "            lower_exact8,\n",
        "            lower_exact9,\n",
        "            lower_exact10,\n",
        "            lower_exact11,\n",
        "            lower_exact12,\n",
        "            lower_exact13,\n",
        "            lower_exact14,\n",
        "            lower_exact15,\n",
        "            lower_exact16,\n",
        "            lower_exact17,\n",
        "            lower_exact18,\n",
        "            lower_exact19,\n",
        "            lower_exact20,\n",
        "            lower_exact21]\n",
        "\n",
        "median_exact = [median_exact1,\n",
        "            median_exact2,\n",
        "            median_exact3,\n",
        "            median_exact4,\n",
        "            median_exact5,\n",
        "            median_exact6,\n",
        "            median_exact7,\n",
        "            median_exact8,\n",
        "            median_exact9,\n",
        "            median_exact10,\n",
        "            median_exact11,\n",
        "            median_exact12,\n",
        "            median_exact13,\n",
        "            median_exact14,\n",
        "            median_exact15,\n",
        "            median_exact16,\n",
        "            median_exact17,\n",
        "            median_exact18,\n",
        "            median_exact19,\n",
        "            median_exact20,\n",
        "            median_exact21]\n",
        "\n",
        "upper_exact = [upper_exact1,\n",
        "            upper_exact2,\n",
        "            upper_exact3,\n",
        "            upper_exact4,\n",
        "            upper_exact5,\n",
        "            upper_exact6,\n",
        "            upper_exact7,\n",
        "            upper_exact8,\n",
        "            upper_exact9,\n",
        "            upper_exact10,\n",
        "            upper_exact11,\n",
        "            upper_exact12,\n",
        "            upper_exact13,\n",
        "            upper_exact14,\n",
        "            upper_exact15,\n",
        "            upper_exact16,\n",
        "            upper_exact17,\n",
        "            upper_exact18,\n",
        "            upper_exact19,\n",
        "            upper_exact20,\n",
        "            upper_exact21]"
      ],
      "execution_count": 96,
      "outputs": []
    },
    {
      "cell_type": "code",
      "metadata": {
        "id": "2MONq-BXQxgA",
        "colab": {
          "base_uri": "https://localhost:8080/",
          "height": 299
        },
        "outputId": "241a2c16-6b70-4efe-dfa8-1df0070f0b38"
      },
      "source": [
        "### Visualise!\n",
        "\n",
        "title = func\n",
        "plt.figure()\n",
        "\n",
        "plt.plot(median_approx, color = 'Yellow')\n",
        "plt.plot(median_exact, color = 'Green')\n",
        "\n",
        "xstar = np.arange(0, iters+1, step=1)\n",
        "plt.fill_between(xstar, lower_approx, upper_approx, facecolor = 'Yellow', alpha=0.4, label='GP EI: ApproxGrad Regret IQR')\n",
        "plt.fill_between(xstar, lower_exact, upper_exact, facecolor = 'Green', alpha=0.4, label='GP EI: ExactGrad Regret IQR')\n",
        "\n",
        "plt.title(title, weight = 'bold')\n",
        "plt.xlabel('(Post-initialization) iteration $\\it{k}$', weight = 'bold')\n",
        "plt.ylabel('log(Regret)', weight = 'bold') \n",
        "plt.legend(loc=1) # add plot legend\n",
        "\n",
        "### Make the x-ticks integers, not floats:\n",
        "count = len(xstar)\n",
        "plt.xticks(np.arange(count), np.arange(0, count))\n",
        "plt.show() #visualize!"
      ],
      "execution_count": 105,
      "outputs": [
        {
          "output_type": "display_data",
          "data": {
            "image/png": "[encoded data removed]",
            "text/plain": [
              "<Figure size 432x288 with 1 Axes>"
            ]
          },
          "metadata": {
            "tags": [],
            "needs_background": "light"
          }
        }
      ]
    },
    {
      "cell_type": "code",
      "metadata": {
        "id": "l5dkR2Id2oiu",
        "colab": {
          "base_uri": "https://localhost:8080/"
        },
        "outputId": "fa4cda55-19f2-4f43-af92-6dae6f6d226e"
      },
      "source": [
        "time_approx, time_exact\n"
      ],
      "execution_count": 98,
      "outputs": [
        {
          "output_type": "execute_result",
          "data": {
            "text/plain": [
              "(826.5671730041504, 3805.302748441696)"
            ]
          },
          "metadata": {
            "tags": []
          },
          "execution_count": 98
        }
      ]
    },
    {
      "cell_type": "code",
      "metadata": {
        "id": "Q2w1ol7HbrRt",
        "colab": {
          "base_uri": "https://localhost:8080/"
        },
        "outputId": "938da0d6-0ef8-4469-ca6b-e8cf51a1f480"
      },
      "source": [
        "np.round(exact_1.acqfunc(x_test)[0],2).reshape(50,10)\n"
      ],
      "execution_count": 99,
      "outputs": [
        {
          "output_type": "execute_result",
          "data": {
            "text/plain": [
              "array([[-1.179e+01, -1.151e+01, -1.123e+01, -1.093e+01, -1.063e+01,\n",
              "        -1.031e+01, -9.990e+00, -9.660e+00, -9.320e+00, -8.970e+00],\n",
              "       [-8.610e+00, -8.240e+00, -7.870e+00, -7.480e+00, -7.090e+00,\n",
              "        -6.700e+00, -6.290e+00, -5.880e+00, -5.470e+00, -5.050e+00],\n",
              "       [-4.620e+00, -4.200e+00, -3.770e+00, -3.350e+00, -2.930e+00,\n",
              "        -2.520e+00, -2.130e+00, -1.760e+00, -1.430e+00, -1.120e+00],\n",
              "       [-8.600e-01, -6.400e-01, -4.600e-01, -3.200e-01, -2.100e-01,\n",
              "        -1.400e-01, -9.000e-02, -5.000e-02, -3.000e-02, -2.000e-02],\n",
              "       [-1.000e-02, -0.000e+00, -0.000e+00, -0.000e+00, -0.000e+00,\n",
              "        -0.000e+00, -0.000e+00, -0.000e+00, -0.000e+00, -0.000e+00],\n",
              "       [-0.000e+00, -0.000e+00, -0.000e+00, -0.000e+00, -0.000e+00,\n",
              "        -0.000e+00, -0.000e+00, -0.000e+00, -0.000e+00, -0.000e+00],\n",
              "       [-0.000e+00, -0.000e+00, -0.000e+00, -0.000e+00, -0.000e+00,\n",
              "        -0.000e+00, -0.000e+00, -0.000e+00, -0.000e+00, -0.000e+00],\n",
              "       [-0.000e+00, -0.000e+00, -0.000e+00, -0.000e+00, -0.000e+00,\n",
              "        -0.000e+00, -0.000e+00, -0.000e+00, -0.000e+00, -0.000e+00],\n",
              "       [-0.000e+00, -0.000e+00, -0.000e+00, -0.000e+00, -0.000e+00,\n",
              "        -0.000e+00, -0.000e+00, -0.000e+00, -0.000e+00, -0.000e+00],\n",
              "       [-0.000e+00, -0.000e+00, -0.000e+00, -0.000e+00, -0.000e+00,\n",
              "        -0.000e+00, -0.000e+00, -1.000e-02, -1.000e-02, -1.000e-02],\n",
              "       [-1.000e-02, -2.000e-02, -3.000e-02, -4.000e-02, -5.000e-02,\n",
              "        -6.000e-02, -8.000e-02, -1.000e-01, -1.300e-01, -1.600e-01],\n",
              "       [-1.900e-01, -2.300e-01, -2.700e-01, -3.200e-01, -3.800e-01,\n",
              "        -4.300e-01, -5.000e-01, -5.600e-01, -6.400e-01, -7.100e-01],\n",
              "       [-7.900e-01, -8.800e-01, -9.700e-01, -1.060e+00, -1.150e+00,\n",
              "        -1.250e+00, -1.350e+00, -1.450e+00, -1.550e+00, -1.650e+00],\n",
              "       [-1.760e+00, -1.870e+00, -1.970e+00, -2.080e+00, -2.190e+00,\n",
              "        -2.300e+00, -2.410e+00, -2.520e+00, -2.620e+00, -2.730e+00],\n",
              "       [-2.840e+00, -2.950e+00, -3.050e+00, -3.160e+00, -3.260e+00,\n",
              "        -3.370e+00, -3.470e+00, -3.570e+00, -3.670e+00, -3.770e+00],\n",
              "       [-3.870e+00, -3.960e+00, -4.050e+00, -4.150e+00, -4.240e+00,\n",
              "        -4.320e+00, -4.410e+00, -4.490e+00, -4.580e+00, -4.660e+00],\n",
              "       [-4.730e+00, -4.810e+00, -4.880e+00, -4.950e+00, -5.010e+00,\n",
              "        -5.080e+00, -5.140e+00, -5.200e+00, -5.250e+00, -5.310e+00],\n",
              "       [-5.360e+00, -5.400e+00, -5.450e+00, -5.490e+00, -5.530e+00,\n",
              "        -5.560e+00, -5.600e+00, -5.630e+00, -5.660e+00, -5.680e+00],\n",
              "       [-5.700e+00, -5.730e+00, -5.740e+00, -5.760e+00, -5.770e+00,\n",
              "        -5.780e+00, -5.790e+00, -5.800e+00, -5.800e+00, -5.810e+00],\n",
              "       [-5.810e+00, -5.810e+00, -5.800e+00, -5.800e+00, -5.800e+00,\n",
              "        -5.790e+00, -5.780e+00, -5.770e+00, -5.760e+00, -5.750e+00],\n",
              "       [-5.740e+00, -5.730e+00, -5.710e+00, -5.700e+00, -5.680e+00,\n",
              "        -5.670e+00, -5.650e+00, -5.640e+00, -5.620e+00, -5.600e+00],\n",
              "       [-5.590e+00, -5.570e+00, -5.550e+00, -5.530e+00, -5.520e+00,\n",
              "        -5.500e+00, -5.480e+00, -5.470e+00, -5.450e+00, -5.430e+00],\n",
              "       [-5.420e+00, -5.400e+00, -5.390e+00, -5.370e+00, -5.360e+00,\n",
              "        -5.350e+00, -5.340e+00, -5.330e+00, -5.310e+00, -5.310e+00],\n",
              "       [-5.300e+00, -5.290e+00, -5.280e+00, -5.280e+00, -5.270e+00,\n",
              "        -5.270e+00, -5.270e+00, -5.270e+00, -5.270e+00, -5.270e+00],\n",
              "       [-5.270e+00, -5.280e+00, -5.290e+00, -5.290e+00, -5.310e+00,\n",
              "        -5.320e+00, -5.330e+00, -5.350e+00, -5.360e+00, -5.380e+00],\n",
              "       [-5.410e+00, -5.430e+00, -5.450e+00, -5.480e+00, -5.510e+00,\n",
              "        -5.540e+00, -5.570e+00, -5.610e+00, -5.640e+00, -5.680e+00],\n",
              "       [-5.720e+00, -5.760e+00, -5.800e+00, -5.850e+00, -5.890e+00,\n",
              "        -5.940e+00, -5.990e+00, -6.030e+00, -6.080e+00, -6.130e+00],\n",
              "       [-6.180e+00, -6.230e+00, -6.280e+00, -6.330e+00, -6.380e+00,\n",
              "        -6.430e+00, -6.470e+00, -6.520e+00, -6.560e+00, -6.610e+00],\n",
              "       [-6.650e+00, -6.680e+00, -6.720e+00, -6.750e+00, -6.780e+00,\n",
              "        -6.800e+00, -6.820e+00, -6.840e+00, -6.850e+00, -6.860e+00],\n",
              "       [-6.860e+00, -6.860e+00, -6.850e+00, -6.830e+00, -6.810e+00,\n",
              "        -6.780e+00, -6.750e+00, -6.700e+00, -6.650e+00, -6.590e+00],\n",
              "       [-6.530e+00, -6.450e+00, -6.370e+00, -6.280e+00, -6.180e+00,\n",
              "        -6.070e+00, -5.960e+00, -5.830e+00, -5.700e+00, -5.560e+00],\n",
              "       [-5.400e+00, -5.240e+00, -5.070e+00, -4.900e+00, -4.710e+00,\n",
              "        -4.520e+00, -4.320e+00, -4.110e+00, -3.900e+00, -3.670e+00],\n",
              "       [-3.450e+00, -3.220e+00, -2.990e+00, -2.750e+00, -2.520e+00,\n",
              "        -2.280e+00, -2.050e+00, -1.830e+00, -1.610e+00, -1.410e+00],\n",
              "       [-1.210e+00, -1.030e+00, -8.600e-01, -7.100e-01, -5.800e-01,\n",
              "        -4.700e-01, -3.700e-01, -2.900e-01, -2.200e-01, -1.700e-01],\n",
              "       [-1.200e-01, -9.000e-02, -7.000e-02, -5.000e-02, -3.000e-02,\n",
              "        -2.000e-02, -2.000e-02, -1.000e-02, -1.000e-02, -1.000e-02],\n",
              "       [-0.000e+00, -0.000e+00, -0.000e+00, -0.000e+00, -0.000e+00,\n",
              "        -0.000e+00, -0.000e+00, -0.000e+00, -0.000e+00, -0.000e+00],\n",
              "       [-0.000e+00, -0.000e+00, -0.000e+00, -0.000e+00, -0.000e+00,\n",
              "        -0.000e+00, -0.000e+00, -0.000e+00, -0.000e+00, -0.000e+00],\n",
              "       [-0.000e+00, -0.000e+00, -0.000e+00, -0.000e+00, -0.000e+00,\n",
              "        -0.000e+00, -0.000e+00, -0.000e+00, -0.000e+00, -0.000e+00],\n",
              "       [-0.000e+00, -0.000e+00, -0.000e+00, -1.000e-02, -1.000e-02,\n",
              "        -1.000e-02, -2.000e-02, -2.000e-02, -3.000e-02, -5.000e-02],\n",
              "       [-6.000e-02, -8.000e-02, -1.000e-01, -1.300e-01, -1.700e-01,\n",
              "        -2.100e-01, -2.600e-01, -3.200e-01, -3.800e-01, -4.500e-01],\n",
              "       [-5.300e-01, -6.100e-01, -7.000e-01, -8.000e-01, -9.000e-01,\n",
              "        -1.000e+00, -1.110e+00, -1.210e+00, -1.320e+00, -1.420e+00],\n",
              "       [-1.520e+00, -1.610e+00, -1.700e+00, -1.790e+00, -1.870e+00,\n",
              "        -1.940e+00, -2.010e+00, -2.060e+00, -2.110e+00, -2.150e+00],\n",
              "       [-2.180e+00, -2.200e+00, -2.220e+00, -2.220e+00, -2.210e+00,\n",
              "        -2.190e+00, -2.160e+00, -2.130e+00, -2.080e+00, -2.030e+00],\n",
              "       [-1.960e+00, -1.890e+00, -1.810e+00, -1.720e+00, -1.630e+00,\n",
              "        -1.530e+00, -1.430e+00, -1.320e+00, -1.210e+00, -1.100e+00],\n",
              "       [-9.800e-01, -8.700e-01, -7.700e-01, -6.600e-01, -5.700e-01,\n",
              "        -4.800e-01, -3.900e-01, -3.200e-01, -2.500e-01, -2.000e-01],\n",
              "       [-1.500e-01, -1.100e-01, -8.000e-02, -6.000e-02, -4.000e-02,\n",
              "        -3.000e-02, -2.000e-02, -1.000e-02, -1.000e-02, -0.000e+00],\n",
              "       [-0.000e+00, -0.000e+00, -0.000e+00, -0.000e+00, -0.000e+00,\n",
              "        -0.000e+00, -0.000e+00, -0.000e+00, -0.000e+00, -0.000e+00],\n",
              "       [-0.000e+00, -0.000e+00, -0.000e+00, -0.000e+00, -0.000e+00,\n",
              "        -0.000e+00, -0.000e+00, -0.000e+00, -0.000e+00, -0.000e+00],\n",
              "       [-0.000e+00, -0.000e+00, -0.000e+00, -0.000e+00, -0.000e+00,\n",
              "        -0.000e+00, -0.000e+00, -0.000e+00, -0.000e+00, -0.000e+00],\n",
              "       [-0.000e+00, -0.000e+00, -0.000e+00, -0.000e+00, -0.000e+00,\n",
              "        -0.000e+00, -0.000e+00, -0.000e+00, -0.000e+00, -0.000e+00]])"
            ]
          },
          "metadata": {
            "tags": []
          },
          "execution_count": 99
        }
      ]
    },
    {
      "cell_type": "code",
      "metadata": {
        "id": "V30USlVC-nTM",
        "colab": {
          "base_uri": "https://localhost:8080/"
        },
        "outputId": "602174d1-3154-4edc-a25e-774026f83d38"
      },
      "source": [
        "np.round(approx_1._acqWrapper(x_test),2).reshape(50,10)\n"
      ],
      "execution_count": 100,
      "outputs": [
        {
          "output_type": "execute_result",
          "data": {
            "text/plain": [
              "array([[-0.  ,  0.  ,  0.  ,  0.  ,  0.  ,  0.  ,  0.  ,  0.  ,  0.  ,\n",
              "         0.  ],\n",
              "       [ 0.  ,  0.  ,  0.  ,  0.  ,  0.  ,  0.  ,  0.  ,  0.  ,  0.  ,\n",
              "         0.  ],\n",
              "       [ 0.  ,  0.  ,  0.  ,  0.  ,  0.  ,  0.  ,  0.  ,  0.  ,  0.  ,\n",
              "         0.  ],\n",
              "       [ 0.  ,  0.  ,  0.  ,  0.  ,  0.  ,  0.  ,  0.  ,  0.  ,  0.  ,\n",
              "         0.  ],\n",
              "       [ 0.  ,  0.  ,  0.  ,  0.  ,  0.  ,  0.  ,  0.  ,  0.  ,  0.  ,\n",
              "         0.  ],\n",
              "       [ 0.  ,  0.  ,  0.  ,  0.  ,  0.  ,  0.  ,  0.  ,  0.  ,  0.  ,\n",
              "         0.  ],\n",
              "       [ 0.  ,  0.  ,  0.  ,  0.  ,  0.  ,  0.  ,  0.  ,  0.  ,  0.  ,\n",
              "         0.  ],\n",
              "       [ 0.  ,  0.  ,  0.  ,  0.  ,  0.  ,  0.  ,  0.  ,  0.  ,  0.  ,\n",
              "         0.  ],\n",
              "       [ 0.  ,  0.  ,  0.  ,  0.  ,  0.  ,  0.  ,  0.  ,  0.  ,  0.  ,\n",
              "         0.  ],\n",
              "       [ 0.  ,  0.  ,  0.  ,  0.  ,  0.  ,  0.  ,  0.  ,  0.  ,  0.  ,\n",
              "         0.  ],\n",
              "       [ 0.  ,  0.01,  0.01,  0.02,  0.02,  0.03,  0.04,  0.05,  0.06,\n",
              "         0.07],\n",
              "       [ 0.09,  0.1 ,  0.12,  0.14,  0.16,  0.18,  0.2 ,  0.22,  0.24,\n",
              "         0.25],\n",
              "       [ 0.27,  0.28,  0.3 ,  0.31,  0.31,  0.32,  0.32,  0.33,  0.32,\n",
              "         0.32],\n",
              "       [ 0.31,  0.3 ,  0.29,  0.28,  0.26,  0.24,  0.21,  0.18,  0.15,\n",
              "         0.12],\n",
              "       [ 0.08,  0.04, -0.01, -0.06, -0.11, -0.17, -0.23, -0.29, -0.36,\n",
              "        -0.44],\n",
              "       [-0.51, -0.6 , -0.68, -0.77, -0.86, -0.96, -1.05, -1.16, -1.26,\n",
              "        -1.36],\n",
              "       [-1.47, -1.58, -1.69, -1.8 , -1.91, -2.02, -2.13, -2.24, -2.35,\n",
              "        -2.46],\n",
              "       [-2.57, -2.67, -2.78, -2.88, -2.98, -3.07, -3.17, -3.26, -3.35,\n",
              "        -3.43],\n",
              "       [-3.51, -3.59, -3.67, -3.74, -3.81, -3.88, -3.94, -4.  , -4.05,\n",
              "        -4.1 ],\n",
              "       [-4.15, -4.19, -4.23, -4.27, -4.3 , -4.33, -4.36, -4.38, -4.4 ,\n",
              "        -4.41],\n",
              "       [-4.42, -4.43, -4.43, -4.43, -4.43, -4.42, -4.41, -4.39, -4.37,\n",
              "        -4.35],\n",
              "       [-4.32, -4.29, -4.26, -4.22, -4.19, -4.14, -4.1 , -4.05, -4.  ,\n",
              "        -3.95],\n",
              "       [-3.89, -3.83, -3.77, -3.71, -3.64, -3.57, -3.51, -3.43, -3.36,\n",
              "        -3.29],\n",
              "       [-3.21, -3.13, -3.05, -2.97, -2.89, -2.81, -2.73, -2.65, -2.56,\n",
              "        -2.48],\n",
              "       [-2.4 , -2.32, -2.24, -2.16, -2.08, -2.  , -1.92, -1.85, -1.77,\n",
              "        -1.7 ],\n",
              "       [-1.63, -1.56, -1.5 , -1.44, -1.38, -1.32, -1.26, -1.21, -1.16,\n",
              "        -1.11],\n",
              "       [-1.07, -1.03, -0.99, -0.95, -0.92, -0.89, -0.86, -0.83, -0.81,\n",
              "        -0.79],\n",
              "       [-0.77, -0.75, -0.73, -0.72, -0.7 , -0.69, -0.68, -0.68, -0.67,\n",
              "        -0.66],\n",
              "       [-0.66, -0.65, -0.65, -0.64, -0.64, -0.63, -0.63, -0.62, -0.62,\n",
              "        -0.61],\n",
              "       [-0.6 , -0.59, -0.58, -0.57, -0.55, -0.54, -0.52, -0.49, -0.47,\n",
              "        -0.44],\n",
              "       [-0.41, -0.38, -0.34, -0.3 , -0.26, -0.22, -0.18, -0.13, -0.08,\n",
              "        -0.04],\n",
              "       [ 0.01,  0.05,  0.1 ,  0.14,  0.18,  0.21,  0.24,  0.27,  0.29,\n",
              "         0.3 ],\n",
              "       [ 0.31,  0.31,  0.31,  0.3 ,  0.29,  0.27,  0.25,  0.23,  0.2 ,\n",
              "         0.18],\n",
              "       [ 0.16,  0.13,  0.11,  0.09,  0.07,  0.06,  0.05,  0.04,  0.03,\n",
              "         0.02],\n",
              "       [ 0.02,  0.01,  0.01,  0.01,  0.  ,  0.  ,  0.  ,  0.  ,  0.  ,\n",
              "         0.  ],\n",
              "       [ 0.  ,  0.  ,  0.  ,  0.  ,  0.  ,  0.  ,  0.  ,  0.  ,  0.  ,\n",
              "         0.  ],\n",
              "       [ 0.  ,  0.  ,  0.  ,  0.  ,  0.  ,  0.  ,  0.  ,  0.  ,  0.  ,\n",
              "         0.  ],\n",
              "       [ 0.  ,  0.  ,  0.  ,  0.  ,  0.  ,  0.  ,  0.  ,  0.  ,  0.01,\n",
              "         0.01],\n",
              "       [ 0.01,  0.02,  0.02,  0.03,  0.05,  0.06,  0.08,  0.11,  0.14,\n",
              "         0.17],\n",
              "       [ 0.2 ,  0.24,  0.27,  0.3 ,  0.32,  0.32,  0.31,  0.28,  0.23,\n",
              "         0.15],\n",
              "       [ 0.05, -0.07, -0.22, -0.38, -0.56, -0.75, -0.95, -1.16, -1.36,\n",
              "        -1.57],\n",
              "       [-1.77, -1.96, -2.15, -2.32, -2.48, -2.64, -2.78, -2.91, -3.02,\n",
              "        -3.12],\n",
              "       [-3.21, -3.28, -3.34, -3.38, -3.41, -3.43, -3.43, -3.41, -3.38,\n",
              "        -3.34],\n",
              "       [-3.28, -3.2 , -3.1 , -2.99, -2.86, -2.72, -2.56, -2.38, -2.19,\n",
              "        -1.98],\n",
              "       [-1.76, -1.53, -1.29, -1.05, -0.81, -0.57, -0.35, -0.15,  0.02,\n",
              "         0.15],\n",
              "       [ 0.25,  0.31,  0.33,  0.32,  0.29,  0.25,  0.2 ,  0.14,  0.1 ,\n",
              "         0.07],\n",
              "       [ 0.04,  0.02,  0.01,  0.01,  0.  ,  0.  ,  0.  ,  0.  ,  0.  ,\n",
              "         0.  ],\n",
              "       [ 0.  ,  0.  ,  0.  ,  0.  ,  0.  ,  0.  ,  0.  ,  0.  ,  0.  ,\n",
              "         0.  ],\n",
              "       [ 0.  ,  0.  ,  0.  ,  0.  ,  0.  ,  0.  ,  0.  ,  0.  ,  0.  ,\n",
              "         0.  ],\n",
              "       [ 0.  ,  0.  ,  0.  ,  0.  ,  0.  ,  0.  ,  0.  ,  0.  ,  0.  ,\n",
              "        -0.  ]])"
            ]
          },
          "metadata": {
            "tags": []
          },
          "execution_count": 100
        }
      ]
    },
    {
      "cell_type": "code",
      "metadata": {
        "id": "nft43RJS_Rj0",
        "colab": {
          "base_uri": "https://localhost:8080/"
        },
        "outputId": "c0ede8b2-cfef-4fbf-dceb-be5630302215"
      },
      "source": [
        "np.mean(exact_1.acqfunc(x_test)[0]), np.mean(approx_1._acqWrapper(x_test))\n"
      ],
      "execution_count": 101,
      "outputs": [
        {
          "output_type": "execute_result",
          "data": {
            "text/plain": [
              "(-2.6734915646704263, -0.8763379748956338)"
            ]
          },
          "metadata": {
            "tags": []
          },
          "execution_count": 101
        }
      ]
    },
    {
      "cell_type": "code",
      "metadata": {
        "id": "oV94PnUyZ2qp",
        "colab": {
          "base_uri": "https://localhost:8080/"
        },
        "outputId": "95726c2c-4c08-41d6-d690-1dd00effc3c1"
      },
      "source": [
        "exact_1.acqfunc(x_test)[1].shape\n"
      ],
      "execution_count": 102,
      "outputs": [
        {
          "output_type": "execute_result",
          "data": {
            "text/plain": [
              "(500, 2)"
            ]
          },
          "metadata": {
            "tags": []
          },
          "execution_count": 102
        }
      ]
    },
    {
      "cell_type": "code",
      "metadata": {
        "id": "sxNUNoX3Te6y",
        "colab": {
          "base_uri": "https://localhost:8080/"
        },
        "outputId": "0bbfa989-2215-412f-f72b-7519de79971f"
      },
      "source": [
        "np.round(exact_1.acqfunc(x_test)[1],2) \n"
      ],
      "execution_count": 103,
      "outputs": [
        {
          "output_type": "execute_result",
          "data": {
            "text/plain": [
              "array([[-4.860e+00, -4.860e+00],\n",
              "       [-5.030e+00, -5.030e+00],\n",
              "       [-5.210e+00, -5.210e+00],\n",
              "       [-5.380e+00, -5.380e+00],\n",
              "       [-5.560e+00, -5.560e+00],\n",
              "       [-5.730e+00, -5.730e+00],\n",
              "       [-5.900e+00, -5.900e+00],\n",
              "       [-6.080e+00, -6.080e+00],\n",
              "       [-6.250e+00, -6.250e+00],\n",
              "       [-6.420e+00, -6.420e+00],\n",
              "       [-6.580e+00, -6.580e+00],\n",
              "       [-6.750e+00, -6.750e+00],\n",
              "       [-6.910e+00, -6.910e+00],\n",
              "       [-7.060e+00, -7.060e+00],\n",
              "       [-7.220e+00, -7.220e+00],\n",
              "       [-7.360e+00, -7.360e+00],\n",
              "       [-7.500e+00, -7.500e+00],\n",
              "       [-7.630e+00, -7.630e+00],\n",
              "       [-7.760e+00, -7.760e+00],\n",
              "       [-7.860e+00, -7.860e+00],\n",
              "       [-7.950e+00, -7.950e+00],\n",
              "       [-8.000e+00, -8.000e+00],\n",
              "       [-8.020e+00, -8.020e+00],\n",
              "       [-7.970e+00, -7.970e+00],\n",
              "       [-7.850e+00, -7.850e+00],\n",
              "       [-7.620e+00, -7.620e+00],\n",
              "       [-7.280e+00, -7.280e+00],\n",
              "       [-6.820e+00, -6.820e+00],\n",
              "       [-6.230e+00, -6.230e+00],\n",
              "       [-5.530e+00, -5.530e+00],\n",
              "       [-4.760e+00, -4.760e+00],\n",
              "       [-3.960e+00, -3.960e+00],\n",
              "       [-3.170e+00, -3.170e+00],\n",
              "       [-2.440e+00, -2.440e+00],\n",
              "       [-1.810e+00, -1.810e+00],\n",
              "       [-1.280e+00, -1.280e+00],\n",
              "       [-8.700e-01, -8.700e-01],\n",
              "       [-5.700e-01, -5.700e-01],\n",
              "       [-3.600e-01, -3.600e-01],\n",
              "       [-2.200e-01, -2.200e-01],\n",
              "       [-1.300e-01, -1.300e-01],\n",
              "       [-7.000e-02, -7.000e-02],\n",
              "       [-4.000e-02, -4.000e-02],\n",
              "       [-2.000e-02, -2.000e-02],\n",
              "       [-1.000e-02, -1.000e-02],\n",
              "       [-1.000e-02, -1.000e-02],\n",
              "       [-0.000e+00, -0.000e+00],\n",
              "       [-0.000e+00, -0.000e+00],\n",
              "       [-0.000e+00, -0.000e+00],\n",
              "       [-0.000e+00, -0.000e+00],\n",
              "       [-0.000e+00, -0.000e+00],\n",
              "       [-0.000e+00, -0.000e+00],\n",
              "       [-0.000e+00, -0.000e+00],\n",
              "       [-0.000e+00, -0.000e+00],\n",
              "       [-0.000e+00, -0.000e+00],\n",
              "       [-0.000e+00, -0.000e+00],\n",
              "       [-0.000e+00, -0.000e+00],\n",
              "       [-0.000e+00, -0.000e+00],\n",
              "       [-0.000e+00, -0.000e+00],\n",
              "       [-0.000e+00, -0.000e+00],\n",
              "       [-0.000e+00, -0.000e+00],\n",
              "       [-0.000e+00, -0.000e+00],\n",
              "       [-0.000e+00, -0.000e+00],\n",
              "       [-0.000e+00, -0.000e+00],\n",
              "       [-0.000e+00, -0.000e+00],\n",
              "       [-0.000e+00, -0.000e+00],\n",
              "       [-0.000e+00, -0.000e+00],\n",
              "       [-0.000e+00, -0.000e+00],\n",
              "       [-0.000e+00, -0.000e+00],\n",
              "       [-0.000e+00, -0.000e+00],\n",
              "       [-0.000e+00, -0.000e+00],\n",
              "       [-0.000e+00, -0.000e+00],\n",
              "       [-0.000e+00, -0.000e+00],\n",
              "       [-0.000e+00, -0.000e+00],\n",
              "       [-0.000e+00, -0.000e+00],\n",
              "       [-0.000e+00, -0.000e+00],\n",
              "       [-0.000e+00, -0.000e+00],\n",
              "       [-0.000e+00, -0.000e+00],\n",
              "       [-0.000e+00, -0.000e+00],\n",
              "       [-0.000e+00, -0.000e+00],\n",
              "       [-0.000e+00, -0.000e+00],\n",
              "       [-0.000e+00, -0.000e+00],\n",
              "       [-0.000e+00, -0.000e+00],\n",
              "       [-0.000e+00, -0.000e+00],\n",
              "       [-0.000e+00, -0.000e+00],\n",
              "       [-0.000e+00, -0.000e+00],\n",
              "       [-0.000e+00, -0.000e+00],\n",
              "       [-0.000e+00, -0.000e+00],\n",
              "       [-0.000e+00, -0.000e+00],\n",
              "       [-0.000e+00, -0.000e+00],\n",
              "       [-1.000e-02, -1.000e-02],\n",
              "       [-1.000e-02, -1.000e-02],\n",
              "       [-2.000e-02, -2.000e-02],\n",
              "       [-3.000e-02, -3.000e-02],\n",
              "       [-4.000e-02, -4.000e-02],\n",
              "       [-6.000e-02, -6.000e-02],\n",
              "       [-9.000e-02, -9.000e-02],\n",
              "       [-1.300e-01, -1.300e-01],\n",
              "       [-1.800e-01, -1.800e-01],\n",
              "       [-2.400e-01, -2.400e-01],\n",
              "       [-3.300e-01, -3.300e-01],\n",
              "       [-4.400e-01, -4.400e-01],\n",
              "       [-5.700e-01, -5.700e-01],\n",
              "       [-7.300e-01, -7.300e-01],\n",
              "       [-9.200e-01, -9.200e-01],\n",
              "       [-1.140e+00, -1.140e+00],\n",
              "       [-1.400e+00, -1.400e+00],\n",
              "       [-1.690e+00, -1.690e+00],\n",
              "       [-2.010e+00, -2.010e+00],\n",
              "       [-2.360e+00, -2.360e+00],\n",
              "       [-2.740e+00, -2.740e+00],\n",
              "       [-3.140e+00, -3.140e+00],\n",
              "       [-3.560e+00, -3.560e+00],\n",
              "       [-4.000e+00, -4.000e+00],\n",
              "       [-4.440e+00, -4.440e+00],\n",
              "       [-4.890e+00, -4.890e+00],\n",
              "       [-5.340e+00, -5.340e+00],\n",
              "       [-5.790e+00, -5.790e+00],\n",
              "       [-6.220e+00, -6.220e+00],\n",
              "       [-6.640e+00, -6.640e+00],\n",
              "       [-7.040e+00, -7.040e+00],\n",
              "       [-7.420e+00, -7.420e+00],\n",
              "       [-7.780e+00, -7.780e+00],\n",
              "       [-8.120e+00, -8.120e+00],\n",
              "       [-8.430e+00, -8.430e+00],\n",
              "       [-8.720e+00, -8.720e+00],\n",
              "       [-8.980e+00, -8.980e+00],\n",
              "       [-9.210e+00, -9.210e+00],\n",
              "       [-9.420e+00, -9.420e+00],\n",
              "       [-9.610e+00, -9.610e+00],\n",
              "       [-9.770e+00, -9.770e+00],\n",
              "       [-9.910e+00, -9.910e+00],\n",
              "       [-1.003e+01, -1.003e+01],\n",
              "       [-1.014e+01, -1.014e+01],\n",
              "       [-1.022e+01, -1.022e+01],\n",
              "       [-1.028e+01, -1.028e+01],\n",
              "       [-1.034e+01, -1.034e+01],\n",
              "       [-1.037e+01, -1.037e+01],\n",
              "       [-1.040e+01, -1.040e+01],\n",
              "       [-1.041e+01, -1.041e+01],\n",
              "       [-1.041e+01, -1.041e+01],\n",
              "       [-1.041e+01, -1.041e+01],\n",
              "       [-1.039e+01, -1.039e+01],\n",
              "       [-1.037e+01, -1.037e+01],\n",
              "       [-1.034e+01, -1.034e+01],\n",
              "       [-1.030e+01, -1.030e+01],\n",
              "       [-1.026e+01, -1.026e+01],\n",
              "       [-1.021e+01, -1.021e+01],\n",
              "       [-1.016e+01, -1.016e+01],\n",
              "       [-1.011e+01, -1.011e+01],\n",
              "       [-1.005e+01, -1.005e+01],\n",
              "       [-9.990e+00, -9.990e+00],\n",
              "       [-9.920e+00, -9.920e+00],\n",
              "       [-9.850e+00, -9.850e+00],\n",
              "       [-9.780e+00, -9.780e+00],\n",
              "       [-9.710e+00, -9.710e+00],\n",
              "       [-9.630e+00, -9.630e+00],\n",
              "       [-9.550e+00, -9.550e+00],\n",
              "       [-9.470e+00, -9.470e+00],\n",
              "       [-9.380e+00, -9.380e+00],\n",
              "       [-9.300e+00, -9.300e+00],\n",
              "       [-9.210e+00, -9.210e+00],\n",
              "       [-9.120e+00, -9.120e+00],\n",
              "       [-9.020e+00, -9.020e+00],\n",
              "       [-8.930e+00, -8.930e+00],\n",
              "       [-8.830e+00, -8.830e+00],\n",
              "       [-8.730e+00, -8.730e+00],\n",
              "       [-8.630e+00, -8.630e+00],\n",
              "       [-8.520e+00, -8.520e+00],\n",
              "       [-8.420e+00, -8.420e+00],\n",
              "       [-8.310e+00, -8.310e+00],\n",
              "       [-8.200e+00, -8.200e+00],\n",
              "       [-8.090e+00, -8.090e+00],\n",
              "       [-7.980e+00, -7.980e+00],\n",
              "       [-7.870e+00, -7.870e+00],\n",
              "       [-7.760e+00, -7.760e+00],\n",
              "       [-7.640e+00, -7.640e+00],\n",
              "       [-7.530e+00, -7.530e+00],\n",
              "       [-7.420e+00, -7.420e+00],\n",
              "       [-7.300e+00, -7.300e+00],\n",
              "       [-7.190e+00, -7.190e+00],\n",
              "       [-7.080e+00, -7.080e+00],\n",
              "       [-6.970e+00, -6.970e+00],\n",
              "       [-6.870e+00, -6.870e+00],\n",
              "       [-6.760e+00, -6.760e+00],\n",
              "       [-6.660e+00, -6.660e+00],\n",
              "       [-6.570e+00, -6.570e+00],\n",
              "       [-6.480e+00, -6.480e+00],\n",
              "       [-6.390e+00, -6.390e+00],\n",
              "       [-6.320e+00, -6.320e+00],\n",
              "       [-6.250e+00, -6.250e+00],\n",
              "       [-6.200e+00, -6.200e+00],\n",
              "       [-6.150e+00, -6.150e+00],\n",
              "       [-6.120e+00, -6.120e+00],\n",
              "       [-6.110e+00, -6.110e+00],\n",
              "       [-6.100e+00, -6.100e+00],\n",
              "       [-6.110e+00, -6.110e+00],\n",
              "       [-6.120e+00, -6.120e+00],\n",
              "       [-6.150e+00, -6.150e+00],\n",
              "       [-6.190e+00, -6.190e+00],\n",
              "       [-6.230e+00, -6.230e+00],\n",
              "       [-6.280e+00, -6.280e+00],\n",
              "       [-6.330e+00, -6.330e+00],\n",
              "       [-6.390e+00, -6.390e+00],\n",
              "       [-6.450e+00, -6.450e+00],\n",
              "       [-6.510e+00, -6.510e+00],\n",
              "       [-6.580e+00, -6.580e+00],\n",
              "       [-6.640e+00, -6.640e+00],\n",
              "       [-6.710e+00, -6.710e+00],\n",
              "       [-6.780e+00, -6.780e+00],\n",
              "       [-6.850e+00, -6.850e+00],\n",
              "       [-6.920e+00, -6.920e+00],\n",
              "       [-6.990e+00, -6.990e+00],\n",
              "       [-7.060e+00, -7.060e+00],\n",
              "       [-7.130e+00, -7.130e+00],\n",
              "       [-7.200e+00, -7.200e+00],\n",
              "       [-7.260e+00, -7.260e+00],\n",
              "       [-7.330e+00, -7.330e+00],\n",
              "       [-7.400e+00, -7.400e+00],\n",
              "       [-7.460e+00, -7.460e+00],\n",
              "       [-7.520e+00, -7.520e+00],\n",
              "       [-7.590e+00, -7.590e+00],\n",
              "       [-7.650e+00, -7.650e+00],\n",
              "       [-7.710e+00, -7.710e+00],\n",
              "       [-7.770e+00, -7.770e+00],\n",
              "       [-7.830e+00, -7.830e+00],\n",
              "       [-7.880e+00, -7.880e+00],\n",
              "       [-7.940e+00, -7.940e+00],\n",
              "       [-7.990e+00, -7.990e+00],\n",
              "       [-8.040e+00, -8.040e+00],\n",
              "       [-8.090e+00, -8.090e+00],\n",
              "       [-8.140e+00, -8.140e+00],\n",
              "       [-8.190e+00, -8.190e+00],\n",
              "       [-8.240e+00, -8.240e+00],\n",
              "       [-8.280e+00, -8.280e+00],\n",
              "       [-8.330e+00, -8.330e+00],\n",
              "       [-8.370e+00, -8.370e+00],\n",
              "       [-8.410e+00, -8.410e+00],\n",
              "       [-8.450e+00, -8.450e+00],\n",
              "       [-8.490e+00, -8.490e+00],\n",
              "       [-8.520e+00, -8.520e+00],\n",
              "       [-8.560e+00, -8.560e+00],\n",
              "       [-8.590e+00, -8.590e+00],\n",
              "       [-8.620e+00, -8.620e+00],\n",
              "       [-8.660e+00, -8.660e+00],\n",
              "       [-8.680e+00, -8.680e+00],\n",
              "       [-8.710e+00, -8.710e+00],\n",
              "       [-8.740e+00, -8.740e+00],\n",
              "       [-8.770e+00, -8.770e+00],\n",
              "       [-8.790e+00, -8.790e+00],\n",
              "       [-8.810e+00, -8.810e+00],\n",
              "       [-8.830e+00, -8.830e+00],\n",
              "       [-8.850e+00, -8.850e+00],\n",
              "       [-8.870e+00, -8.870e+00],\n",
              "       [-8.890e+00, -8.890e+00],\n",
              "       [-8.910e+00, -8.910e+00],\n",
              "       [-8.930e+00, -8.930e+00],\n",
              "       [-8.940e+00, -8.940e+00],\n",
              "       [-8.950e+00, -8.950e+00],\n",
              "       [-8.970e+00, -8.970e+00],\n",
              "       [-8.980e+00, -8.980e+00],\n",
              "       [-8.990e+00, -8.990e+00],\n",
              "       [-9.000e+00, -9.000e+00],\n",
              "       [-9.020e+00, -9.020e+00],\n",
              "       [-9.030e+00, -9.030e+00],\n",
              "       [-9.040e+00, -9.040e+00],\n",
              "       [-9.050e+00, -9.050e+00],\n",
              "       [-9.060e+00, -9.060e+00],\n",
              "       [-9.070e+00, -9.070e+00],\n",
              "       [-9.080e+00, -9.080e+00],\n",
              "       [-9.090e+00, -9.090e+00],\n",
              "       [-9.110e+00, -9.110e+00],\n",
              "       [-9.120e+00, -9.120e+00],\n",
              "       [-9.130e+00, -9.130e+00],\n",
              "       [-9.150e+00, -9.150e+00],\n",
              "       [-9.160e+00, -9.160e+00],\n",
              "       [-9.180e+00, -9.180e+00],\n",
              "       [-9.200e+00, -9.200e+00],\n",
              "       [-9.220e+00, -9.220e+00],\n",
              "       [-9.240e+00, -9.240e+00],\n",
              "       [-9.260e+00, -9.260e+00],\n",
              "       [-9.280e+00, -9.280e+00],\n",
              "       [-9.310e+00, -9.310e+00],\n",
              "       [-9.330e+00, -9.330e+00],\n",
              "       [-9.360e+00, -9.360e+00],\n",
              "       [-9.390e+00, -9.390e+00],\n",
              "       [-9.420e+00, -9.420e+00],\n",
              "       [-9.460e+00, -9.460e+00],\n",
              "       [-9.490e+00, -9.490e+00],\n",
              "       [-9.530e+00, -9.530e+00],\n",
              "       [-9.570e+00, -9.570e+00],\n",
              "       [-9.610e+00, -9.610e+00],\n",
              "       [-9.650e+00, -9.650e+00],\n",
              "       [-9.690e+00, -9.690e+00],\n",
              "       [-9.740e+00, -9.740e+00],\n",
              "       [-9.780e+00, -9.780e+00],\n",
              "       [-9.830e+00, -9.830e+00],\n",
              "       [-9.880e+00, -9.880e+00],\n",
              "       [-9.930e+00, -9.930e+00],\n",
              "       [-9.980e+00, -9.980e+00],\n",
              "       [-1.003e+01, -1.003e+01],\n",
              "       [-1.008e+01, -1.008e+01],\n",
              "       [-1.014e+01, -1.014e+01],\n",
              "       [-1.019e+01, -1.019e+01],\n",
              "       [-1.024e+01, -1.024e+01],\n",
              "       [-1.029e+01, -1.029e+01],\n",
              "       [-1.034e+01, -1.034e+01],\n",
              "       [-1.039e+01, -1.039e+01],\n",
              "       [-1.044e+01, -1.044e+01],\n",
              "       [-1.049e+01, -1.049e+01],\n",
              "       [-1.053e+01, -1.053e+01],\n",
              "       [-1.057e+01, -1.057e+01],\n",
              "       [-1.060e+01, -1.060e+01],\n",
              "       [-1.063e+01, -1.063e+01],\n",
              "       [-1.065e+01, -1.065e+01],\n",
              "       [-1.066e+01, -1.066e+01],\n",
              "       [-1.065e+01, -1.065e+01],\n",
              "       [-1.064e+01, -1.064e+01],\n",
              "       [-1.060e+01, -1.060e+01],\n",
              "       [-1.055e+01, -1.055e+01],\n",
              "       [-1.047e+01, -1.047e+01],\n",
              "       [-1.035e+01, -1.035e+01],\n",
              "       [-1.020e+01, -1.020e+01],\n",
              "       [-1.000e+01, -1.000e+01],\n",
              "       [-9.760e+00, -9.760e+00],\n",
              "       [-9.460e+00, -9.460e+00],\n",
              "       [-9.100e+00, -9.100e+00],\n",
              "       [-8.670e+00, -8.670e+00],\n",
              "       [-8.190e+00, -8.190e+00],\n",
              "       [-7.650e+00, -7.650e+00],\n",
              "       [-7.050e+00, -7.050e+00],\n",
              "       [-6.420e+00, -6.420e+00],\n",
              "       [-5.750e+00, -5.750e+00],\n",
              "       [-5.080e+00, -5.080e+00],\n",
              "       [-4.410e+00, -4.410e+00],\n",
              "       [-3.760e+00, -3.760e+00],\n",
              "       [-3.150e+00, -3.150e+00],\n",
              "       [-2.590e+00, -2.590e+00],\n",
              "       [-2.090e+00, -2.090e+00],\n",
              "       [-1.660e+00, -1.660e+00],\n",
              "       [-1.290e+00, -1.290e+00],\n",
              "       [-9.900e-01, -9.900e-01],\n",
              "       [-7.400e-01, -7.400e-01],\n",
              "       [-5.500e-01, -5.500e-01],\n",
              "       [-4.000e-01, -4.000e-01],\n",
              "       [-2.900e-01, -2.900e-01],\n",
              "       [-2.100e-01, -2.100e-01],\n",
              "       [-1.500e-01, -1.500e-01],\n",
              "       [-1.000e-01, -1.000e-01],\n",
              "       [-7.000e-02, -7.000e-02],\n",
              "       [-5.000e-02, -5.000e-02],\n",
              "       [-3.000e-02, -3.000e-02],\n",
              "       [-2.000e-02, -2.000e-02],\n",
              "       [-2.000e-02, -2.000e-02],\n",
              "       [-1.000e-02, -1.000e-02],\n",
              "       [-1.000e-02, -1.000e-02],\n",
              "       [-1.000e-02, -1.000e-02],\n",
              "       [-0.000e+00, -0.000e+00],\n",
              "       [-0.000e+00, -0.000e+00],\n",
              "       [-0.000e+00, -0.000e+00],\n",
              "       [-0.000e+00, -0.000e+00],\n",
              "       [-0.000e+00, -0.000e+00],\n",
              "       [-0.000e+00, -0.000e+00],\n",
              "       [-0.000e+00, -0.000e+00],\n",
              "       [-0.000e+00, -0.000e+00],\n",
              "       [-0.000e+00, -0.000e+00],\n",
              "       [-0.000e+00, -0.000e+00],\n",
              "       [-0.000e+00, -0.000e+00],\n",
              "       [-0.000e+00, -0.000e+00],\n",
              "       [-0.000e+00, -0.000e+00],\n",
              "       [-0.000e+00, -0.000e+00],\n",
              "       [-0.000e+00, -0.000e+00],\n",
              "       [-0.000e+00, -0.000e+00],\n",
              "       [-0.000e+00, -0.000e+00],\n",
              "       [-1.000e-02, -1.000e-02],\n",
              "       [-1.000e-02, -1.000e-02],\n",
              "       [-1.000e-02, -1.000e-02],\n",
              "       [-1.000e-02, -1.000e-02],\n",
              "       [-2.000e-02, -2.000e-02],\n",
              "       [-3.000e-02, -3.000e-02],\n",
              "       [-4.000e-02, -4.000e-02],\n",
              "       [-5.000e-02, -5.000e-02],\n",
              "       [-7.000e-02, -7.000e-02],\n",
              "       [-1.000e-01, -1.000e-01],\n",
              "       [-1.400e-01, -1.400e-01],\n",
              "       [-1.900e-01, -1.900e-01],\n",
              "       [-2.600e-01, -2.600e-01],\n",
              "       [-3.400e-01, -3.400e-01],\n",
              "       [-4.600e-01, -4.600e-01],\n",
              "       [-6.000e-01, -6.000e-01],\n",
              "       [-7.800e-01, -7.800e-01],\n",
              "       [-1.000e+00, -1.000e+00],\n",
              "       [-1.270e+00, -1.270e+00],\n",
              "       [-1.570e+00, -1.570e+00],\n",
              "       [-1.930e+00, -1.930e+00],\n",
              "       [-2.330e+00, -2.330e+00],\n",
              "       [-2.770e+00, -2.770e+00],\n",
              "       [-3.250e+00, -3.250e+00],\n",
              "       [-3.760e+00, -3.760e+00],\n",
              "       [-4.300e+00, -4.300e+00],\n",
              "       [-4.850e+00, -4.850e+00],\n",
              "       [-5.410e+00, -5.410e+00],\n",
              "       [-5.980e+00, -5.980e+00],\n",
              "       [-6.530e+00, -6.530e+00],\n",
              "       [-7.070e+00, -7.070e+00],\n",
              "       [-7.580e+00, -7.580e+00],\n",
              "       [-8.080e+00, -8.080e+00],\n",
              "       [-8.540e+00, -8.540e+00],\n",
              "       [-8.970e+00, -8.970e+00],\n",
              "       [-9.360e+00, -9.360e+00],\n",
              "       [-9.730e+00, -9.730e+00],\n",
              "       [-1.006e+01, -1.006e+01],\n",
              "       [-1.036e+01, -1.036e+01],\n",
              "       [-1.063e+01, -1.063e+01],\n",
              "       [-1.087e+01, -1.087e+01],\n",
              "       [-1.108e+01, -1.108e+01],\n",
              "       [-1.126e+01, -1.126e+01],\n",
              "       [-1.143e+01, -1.143e+01],\n",
              "       [-1.157e+01, -1.157e+01],\n",
              "       [-1.169e+01, -1.169e+01],\n",
              "       [-1.179e+01, -1.179e+01],\n",
              "       [-1.187e+01, -1.187e+01],\n",
              "       [-1.193e+01, -1.193e+01],\n",
              "       [-1.197e+01, -1.197e+01],\n",
              "       [-1.200e+01, -1.200e+01],\n",
              "       [-1.201e+01, -1.201e+01],\n",
              "       [-1.200e+01, -1.200e+01],\n",
              "       [-1.196e+01, -1.196e+01],\n",
              "       [-1.191e+01, -1.191e+01],\n",
              "       [-1.183e+01, -1.183e+01],\n",
              "       [-1.173e+01, -1.173e+01],\n",
              "       [-1.160e+01, -1.160e+01],\n",
              "       [-1.143e+01, -1.143e+01],\n",
              "       [-1.123e+01, -1.123e+01],\n",
              "       [-1.100e+01, -1.100e+01],\n",
              "       [-1.072e+01, -1.072e+01],\n",
              "       [-1.040e+01, -1.040e+01],\n",
              "       [-1.003e+01, -1.003e+01],\n",
              "       [-9.610e+00, -9.610e+00],\n",
              "       [-9.150e+00, -9.150e+00],\n",
              "       [-8.630e+00, -8.630e+00],\n",
              "       [-8.070e+00, -8.070e+00],\n",
              "       [-7.460e+00, -7.460e+00],\n",
              "       [-6.820e+00, -6.820e+00],\n",
              "       [-6.160e+00, -6.160e+00],\n",
              "       [-5.480e+00, -5.480e+00],\n",
              "       [-4.790e+00, -4.790e+00],\n",
              "       [-4.120e+00, -4.120e+00],\n",
              "       [-3.480e+00, -3.480e+00],\n",
              "       [-2.880e+00, -2.880e+00],\n",
              "       [-2.330e+00, -2.330e+00],\n",
              "       [-1.840e+00, -1.840e+00],\n",
              "       [-1.410e+00, -1.410e+00],\n",
              "       [-1.060e+00, -1.060e+00],\n",
              "       [-7.700e-01, -7.700e-01],\n",
              "       [-5.400e-01, -5.400e-01],\n",
              "       [-3.700e-01, -3.700e-01],\n",
              "       [-2.500e-01, -2.500e-01],\n",
              "       [-1.600e-01, -1.600e-01],\n",
              "       [-1.000e-01, -1.000e-01],\n",
              "       [-6.000e-02, -6.000e-02],\n",
              "       [-3.000e-02, -3.000e-02],\n",
              "       [-2.000e-02, -2.000e-02],\n",
              "       [-1.000e-02, -1.000e-02],\n",
              "       [-1.000e-02, -1.000e-02],\n",
              "       [-0.000e+00, -0.000e+00],\n",
              "       [-0.000e+00, -0.000e+00],\n",
              "       [-0.000e+00, -0.000e+00],\n",
              "       [-0.000e+00, -0.000e+00],\n",
              "       [-0.000e+00, -0.000e+00],\n",
              "       [-0.000e+00, -0.000e+00],\n",
              "       [-0.000e+00, -0.000e+00],\n",
              "       [-0.000e+00, -0.000e+00],\n",
              "       [-0.000e+00, -0.000e+00],\n",
              "       [-0.000e+00, -0.000e+00],\n",
              "       [-0.000e+00, -0.000e+00],\n",
              "       [-0.000e+00, -0.000e+00],\n",
              "       [-0.000e+00, -0.000e+00],\n",
              "       [-0.000e+00, -0.000e+00],\n",
              "       [-0.000e+00, -0.000e+00],\n",
              "       [-0.000e+00, -0.000e+00],\n",
              "       [-0.000e+00, -0.000e+00],\n",
              "       [-0.000e+00, -0.000e+00],\n",
              "       [-0.000e+00, -0.000e+00],\n",
              "       [-0.000e+00, -0.000e+00],\n",
              "       [-0.000e+00, -0.000e+00],\n",
              "       [-0.000e+00, -0.000e+00],\n",
              "       [-0.000e+00, -0.000e+00],\n",
              "       [-0.000e+00, -0.000e+00],\n",
              "       [-0.000e+00, -0.000e+00],\n",
              "       [-0.000e+00, -0.000e+00],\n",
              "       [-0.000e+00, -0.000e+00],\n",
              "       [-0.000e+00, -0.000e+00],\n",
              "       [-0.000e+00, -0.000e+00],\n",
              "       [-0.000e+00, -0.000e+00],\n",
              "       [-0.000e+00, -0.000e+00],\n",
              "       [-0.000e+00, -0.000e+00],\n",
              "       [-0.000e+00, -0.000e+00],\n",
              "       [-0.000e+00, -0.000e+00],\n",
              "       [-0.000e+00, -0.000e+00]])"
            ]
          },
          "metadata": {
            "tags": []
          },
          "execution_count": 103
        }
      ]
    },
    {
      "cell_type": "code",
      "metadata": {
        "id": "XqTGdfPNFa5l",
        "colab": {
          "base_uri": "https://localhost:8080/"
        },
        "outputId": "79309f4b-7faa-4bdc-c560-f6c30f644a24"
      },
      "source": [
        "np.mean(exact_1.acqfunc(x_test)[1])\n"
      ],
      "execution_count": 108,
      "outputs": [
        {
          "output_type": "execute_result",
          "data": {
            "text/plain": [
              "-5.317734220086665"
            ]
          },
          "metadata": {
            "tags": []
          },
          "execution_count": 108
        }
      ]
    },
    {
      "cell_type": "code",
      "metadata": {
        "id": "77BffxK2Fe61"
      },
      "source": [
        ""
      ],
      "execution_count": 104,
      "outputs": []
    }
  ]
}