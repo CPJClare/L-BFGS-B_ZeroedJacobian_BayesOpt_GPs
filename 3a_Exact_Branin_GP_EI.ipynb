{
  "nbformat": 4,
  "nbformat_minor": 0,
  "metadata": {
    "colab": {
      "name": "3a. Exact_Branin_GP_EI.ipynb",
      "provenance": [],
      "collapsed_sections": []
    },
    "kernelspec": {
      "name": "python3",
      "display_name": "Python 3"
    },
    "language_info": {
      "name": "python"
    }
  },
  "cells": [
    {
      "cell_type": "markdown",
      "metadata": {
        "id": "Dqn4dFx7Z2Ir"
      },
      "source": [
        "\n",
        "Branin:\n",
        "\n",
        "GP EI: exact versus approximate partial-order GP EI derivatives wrt **x1**, **x2**"
      ]
    },
    {
      "cell_type": "code",
      "metadata": {
        "id": "MJTM_GZZZb5x",
        "colab": {
          "base_uri": "https://localhost:8080/"
        },
        "outputId": "33067c6d-9dde-4558-e306-6e0c457cdb9d"
      },
      "source": [
        "pip install pyGPGO\n"
      ],
      "execution_count": 1,
      "outputs": [
        {
          "output_type": "stream",
          "text": [
            "Collecting pyGPGO\n",
            "  Downloading pyGPGO-0.5.1.tar.gz (14 kB)\n",
            "Requirement already satisfied: numpy in /usr/local/lib/python3.7/dist-packages (from pyGPGO) (1.19.5)\n",
            "Requirement already satisfied: mkl in /usr/local/lib/python3.7/dist-packages (from pyGPGO) (2019.0)\n",
            "Requirement already satisfied: scipy in /usr/local/lib/python3.7/dist-packages (from pyGPGO) (1.4.1)\n",
            "Requirement already satisfied: joblib in /usr/local/lib/python3.7/dist-packages (from pyGPGO) (1.0.1)\n",
            "Requirement already satisfied: scikit-learn in /usr/local/lib/python3.7/dist-packages (from pyGPGO) (0.22.2.post1)\n",
            "Requirement already satisfied: Theano-PyMC in /usr/local/lib/python3.7/dist-packages (from pyGPGO) (1.1.2)\n",
            "Requirement already satisfied: pyMC3 in /usr/local/lib/python3.7/dist-packages (from pyGPGO) (3.11.2)\n",
            "Requirement already satisfied: intel-openmp in /usr/local/lib/python3.7/dist-packages (from mkl->pyGPGO) (2021.3.0)\n",
            "Requirement already satisfied: cachetools>=4.2.1 in /usr/local/lib/python3.7/dist-packages (from pyMC3->pyGPGO) (4.2.2)\n",
            "Requirement already satisfied: patsy>=0.5.1 in /usr/local/lib/python3.7/dist-packages (from pyMC3->pyGPGO) (0.5.1)\n",
            "Requirement already satisfied: typing-extensions>=3.7.4 in /usr/local/lib/python3.7/dist-packages (from pyMC3->pyGPGO) (3.7.4.3)\n",
            "Requirement already satisfied: arviz>=0.11.0 in /usr/local/lib/python3.7/dist-packages (from pyMC3->pyGPGO) (0.11.2)\n",
            "Requirement already satisfied: pandas>=0.24.0 in /usr/local/lib/python3.7/dist-packages (from pyMC3->pyGPGO) (1.1.5)\n",
            "Requirement already satisfied: semver in /usr/local/lib/python3.7/dist-packages (from pyMC3->pyGPGO) (2.13.0)\n",
            "Requirement already satisfied: fastprogress>=0.2.0 in /usr/local/lib/python3.7/dist-packages (from pyMC3->pyGPGO) (1.0.0)\n",
            "Requirement already satisfied: dill in /usr/local/lib/python3.7/dist-packages (from pyMC3->pyGPGO) (0.3.4)\n",
            "Requirement already satisfied: filelock in /usr/local/lib/python3.7/dist-packages (from Theano-PyMC->pyGPGO) (3.0.12)\n",
            "Requirement already satisfied: setuptools>=38.4 in /usr/local/lib/python3.7/dist-packages (from arviz>=0.11.0->pyMC3->pyGPGO) (57.4.0)\n",
            "Requirement already satisfied: netcdf4 in /usr/local/lib/python3.7/dist-packages (from arviz>=0.11.0->pyMC3->pyGPGO) (1.5.7)\n",
            "Requirement already satisfied: packaging in /usr/local/lib/python3.7/dist-packages (from arviz>=0.11.0->pyMC3->pyGPGO) (21.0)\n",
            "Requirement already satisfied: matplotlib>=3.0 in /usr/local/lib/python3.7/dist-packages (from arviz>=0.11.0->pyMC3->pyGPGO) (3.2.2)\n",
            "Requirement already satisfied: xarray>=0.16.1 in /usr/local/lib/python3.7/dist-packages (from arviz>=0.11.0->pyMC3->pyGPGO) (0.18.2)\n",
            "Requirement already satisfied: python-dateutil>=2.1 in /usr/local/lib/python3.7/dist-packages (from matplotlib>=3.0->arviz>=0.11.0->pyMC3->pyGPGO) (2.8.2)\n",
            "Requirement already satisfied: cycler>=0.10 in /usr/local/lib/python3.7/dist-packages (from matplotlib>=3.0->arviz>=0.11.0->pyMC3->pyGPGO) (0.10.0)\n",
            "Requirement already satisfied: kiwisolver>=1.0.1 in /usr/local/lib/python3.7/dist-packages (from matplotlib>=3.0->arviz>=0.11.0->pyMC3->pyGPGO) (1.3.1)\n",
            "Requirement already satisfied: pyparsing!=2.0.4,!=2.1.2,!=2.1.6,>=2.0.1 in /usr/local/lib/python3.7/dist-packages (from matplotlib>=3.0->arviz>=0.11.0->pyMC3->pyGPGO) (2.4.7)\n",
            "Requirement already satisfied: six in /usr/local/lib/python3.7/dist-packages (from cycler>=0.10->matplotlib>=3.0->arviz>=0.11.0->pyMC3->pyGPGO) (1.15.0)\n",
            "Requirement already satisfied: pytz>=2017.2 in /usr/local/lib/python3.7/dist-packages (from pandas>=0.24.0->pyMC3->pyGPGO) (2018.9)\n",
            "Requirement already satisfied: cftime in /usr/local/lib/python3.7/dist-packages (from netcdf4->arviz>=0.11.0->pyMC3->pyGPGO) (1.5.0)\n",
            "Building wheels for collected packages: pyGPGO\n",
            "  Building wheel for pyGPGO (setup.py) ... \u001b[?25l\u001b[?25hdone\n",
            "  Created wheel for pyGPGO: filename=pyGPGO-0.5.1-py3-none-any.whl size=19880 sha256=184bf2e0a913286564fdea903ed1691bd676d77f42ad5d15af7b803101f0de24\n",
            "  Stored in directory: /root/.cache/pip/wheels/c8/5d/0b/2160114e2f1b87791c51b66cf07f89831dbb6f49167950316f\n",
            "Successfully built pyGPGO\n",
            "Installing collected packages: pyGPGO\n",
            "Successfully installed pyGPGO-0.5.1\n"
          ],
          "name": "stdout"
        }
      ]
    },
    {
      "cell_type": "code",
      "metadata": {
        "id": "ZJSSPbwPaEUB"
      },
      "source": [
        "### Import:\n",
        "\n",
        "import numpy as np\n",
        "import scipy as sp\n",
        "import pandas as pd\n",
        "import matplotlib.pyplot as plt\n",
        "import warnings\n",
        "import itertools\n",
        "\n",
        "from pyGPGO.GPGO import GPGO\n",
        "from pyGPGO.surrogates.GaussianProcess import GaussianProcess\n",
        "from pyGPGO.acquisition import Acquisition\n",
        "from pyGPGO.covfunc import squaredExponential\n",
        "\n",
        "from joblib import Parallel, delayed\n",
        "from numpy.linalg import solve, cholesky\n",
        "from scipy.spatial.distance import cdist\n",
        "from scipy.optimize import minimize\n",
        "from scipy.stats import norm\n",
        "import time\n",
        "\n",
        "warnings.filterwarnings(\"ignore\", category=RuntimeWarning)\n"
      ],
      "execution_count": 2,
      "outputs": []
    },
    {
      "cell_type": "code",
      "metadata": {
        "id": "eYpI3Zm4aGxi"
      },
      "source": [
        "n_start_AcqFunc = 100 #multi-start iterations to avoid local optima in AcqFunc optimization\n"
      ],
      "execution_count": 3,
      "outputs": []
    },
    {
      "cell_type": "code",
      "metadata": {
        "id": "OeYcTUNoaJWa"
      },
      "source": [
        "### Inputs:\n",
        "\n",
        "func = 'Branin'\n",
        "n_test = 500\n",
        "eps = 1e-08\n",
        "\n",
        "util_grad_exact = 'dEI_GP'\n",
        "util_grad_approx = 'ExpectedImprovement'\n",
        "\n",
        "n_init = 5 # random initialisations\n",
        "iters = 20\n",
        "opt = True"
      ],
      "execution_count": 4,
      "outputs": []
    },
    {
      "cell_type": "code",
      "metadata": {
        "id": "xpaEOjdzaPMS"
      },
      "source": [
        "### Objective Function - Branin(x) 2-D:\n",
        "\n",
        "def objfunc(x1_training, x2_training, a = 1, b = (5.1 / (4 * (np.pi) ** 2)), c = (5 / (np.pi)), r = 6, s = 10, t = (1 / (8 * np.pi))):\n",
        "        return operator * ((a * (x2_training - b * x1_training ** 2 + c * x1_training - r) ** 2) + \n",
        "                 s * (1 - t) * np.cos(x1_training) + s)\n",
        "        \n",
        "# Constraints:\n",
        "lb_x1 = -5 \n",
        "ub_x1 = +10\n",
        "lb_x2 = +0 \n",
        "ub_x2 = +15\n",
        "\n",
        "# Input array dimension(s):\n",
        "dim = 2\n",
        "\n",
        "# 2-D inputs' parameter bounds:\n",
        "param = {'x1_training': ('cont', [lb_x1, ub_x1]),\n",
        "             'x2_training': ('cont', [lb_x2, ub_x2])}\n",
        "\n",
        "# True y bounds:\n",
        "operator = -1\n",
        "y_lb = 0.397887 # targets global minimum\n",
        "y_global_orig = y_lb * operator # targets global minimum\n",
        "\n",
        "\n",
        "# Test data:\n",
        "x1_test = np.linspace(lb_x1, ub_x1, n_test)\n",
        "x2_test = np.linspace(lb_x2, ub_x2, n_test)\n",
        "  \n",
        "x_test = np.column_stack((x1_test,x2_test))\n"
      ],
      "execution_count": 5,
      "outputs": []
    },
    {
      "cell_type": "code",
      "metadata": {
        "id": "oO_GUmOoaV0T"
      },
      "source": [
        "### Cumulative Regret Calculator:\n",
        "\n",
        "def min_max_array(x):\n",
        "    new_list = []\n",
        "    for i, num in enumerate(x):\n",
        "            new_list.append(np.min(x[0:i+1]))\n",
        "    return new_list\n",
        "  "
      ],
      "execution_count": 6,
      "outputs": []
    },
    {
      "cell_type": "code",
      "metadata": {
        "id": "kuuJx0IMam9S"
      },
      "source": [
        "### Surrogate derivatives: \n",
        "\n",
        "cov_func = squaredExponential()\n",
        "\n",
        "def kronDelta(X, Xstar):\n",
        "    return cdist(X, Xstar) < np.finfo(np.float32).eps\n",
        "\n",
        "def se(X, Xstar, sigmaf, l, sigman):\n",
        "    return sigmaf * np.exp(-0.5 * cdist(X, Xstar) ** 2 / l ** 2) + sigman * kronDelta(X, Xstar)\n",
        "\n",
        "def deriv_se(X, Xstar, sigmaf, l, sigman):\n",
        "    return cdist(X, Xstar) / (l ** 2) * se(X, Xstar, sigmaf, l, sigman)\n",
        "\n",
        "def der_covmat(X, Xstar, sigmaf, l, sigman):\n",
        "      nx = len(X)\n",
        "      ny = len(Xstar)\n",
        "      return np.round(np.array([deriv_se(np.atleast_2d(i), np.atleast_2d(j), sigmaf, l, sigman) for (i, j) in itertools.product(X, Xstar)]).reshape(nx, ny), 8)\n",
        "\n",
        "class dGaussianProcess(GaussianProcess):\n",
        "    l = GaussianProcess(cov_func, optimize=opt).getcovparams()['l']\n",
        "    sigmaf = GaussianProcess(cov_func, optimize=opt).getcovparams()['sigmaf']\n",
        "    sigman = GaussianProcess(cov_func, optimize=opt).getcovparams()['sigman']\n",
        "\n",
        "    def AcqGrad(self, Xstar):\n",
        "        Xstar = np.atleast_2d(Xstar)\n",
        "        Kstar = self.covfunc.K(self.X, Xstar).T\n",
        "        dKstar = der_covmat(self.X, Xstar, self.sigmaf, self.l, self.sigman).T\n",
        "        \n",
        "        alpha_Kstar = np.dot(np.linalg.inv(self.K + (self.sigman**2) * np.eye(len(self.X))), Kstar.T)\n",
        "        \n",
        "        dm = np.dot(-dKstar, self.alpha)\n",
        "        ds = -2 * np.dot(-dKstar, alpha_Kstar)\n",
        "        \n",
        "        return dm, ds\n",
        "        "
      ],
      "execution_count": 7,
      "outputs": []
    },
    {
      "cell_type": "code",
      "metadata": {
        "id": "_Dc3YVHVaXz7"
      },
      "source": [
        "class Acquisition_new(Acquisition):    \n",
        "    def __init__(self, mode, eps=eps, **params):\n",
        "        \n",
        "        self.params = params\n",
        "        self.eps = eps\n",
        "\n",
        "        mode_dict = {\n",
        "            'dEI_GP': self.dEI_GP\n",
        "        }\n",
        "\n",
        "        self.f = mode_dict[mode]\n",
        "    \n",
        "    def dEI_GP(self, tau, mean, std, ds, dm):\n",
        "        gamma = (mean - tau - self.eps) / (std + self.eps)\n",
        "        gamma_h = (mean - tau) / (std + self.eps)\n",
        "        dsdx = ds / (2 * (std + self.eps))\n",
        "        dmdx = (dm - gamma * dsdx) / (std + self.eps)\n",
        "        \n",
        "        f = (std + self.eps) * (gamma * norm.cdf(gamma) + norm.pdf(gamma))\n",
        "        df1 = f / (std + self.eps) * dsdx \n",
        "        df2 = (std + self.eps) * norm.cdf(gamma) * dmdx\n",
        "        df = (df1 + df2)[0]\n",
        "        df_arr = []\n",
        "\n",
        "        for j in range(0, dim):\n",
        "          df_arr.append(df)\n",
        "        return f, np.asarray(df_arr).transpose()\n",
        "        \n",
        "    def d_eval(self, tau, mean, std, ds, dm):\n",
        "    \n",
        "        return self.f(tau, mean, std, ds, dm, **self.params)\n",
        "        "
      ],
      "execution_count": 8,
      "outputs": []
    },
    {
      "cell_type": "code",
      "metadata": {
        "id": "b_B-w81BJxKN"
      },
      "source": [
        "## dGPGO:\n",
        "\n",
        "grad = 1\n",
        "\n",
        "class dGPGO(GPGO):\n",
        "    n_start = n_start_AcqFunc\n",
        "\n",
        "    def d_optimizeAcq(self, method='L-BFGS-B', n_start=n_start_AcqFunc):\n",
        "        start_points_dict = [self._sampleParam() for i in range(n_start)]\n",
        "        start_points_arr = np.array([list(s.values())\n",
        "                                     for s in start_points_dict])\n",
        "        x_best = np.empty((n_start, len(self.parameter_key)))\n",
        "        f_best = np.empty((n_start,))\n",
        "        opt = Parallel(n_jobs=self.n_jobs)(delayed(minimize)(self.acqfunc,\n",
        "                                                                 x0=start_point,\n",
        "                                                                 method=method,\n",
        "                                                                 jac = True,\n",
        "                                                                 bounds=self.parameter_range) for start_point in\n",
        "                                               start_points_arr)\n",
        "        x_best = np.array([res.x for res in opt])\n",
        "        f_best = np.array([np.atleast_1d(res.fun)[0] for res in opt])\n",
        "\n",
        "        self.x_best = x_best\n",
        "        self.f_best = f_best\n",
        "        self.best = x_best[np.argmin(f_best)]\n",
        "        self.start_points_arr = start_points_arr\n",
        "\n",
        "        return x_best, f_best\n",
        "    \n",
        "    def run(self, max_iter=10, init_evals=3, resume=False):\n",
        "        \n",
        "        if not resume:\n",
        "            self.init_evals = init_evals\n",
        "            self._firstRun(self.init_evals)\n",
        "            self.logger._printInit(self)\n",
        "        for iteration in range(max_iter):\n",
        "            self.d_optimizeAcq()\n",
        "            self.updateGP()\n",
        "            self.logger._printCurrent(self)\n",
        "\n",
        "    def acqfunc(self, xnew, n_start=n_start_AcqFunc):\n",
        "        new_mean, new_var = self.GP.predict(xnew, return_std=True)\n",
        "        new_std = np.sqrt(new_var + eps)\n",
        "        dm, ds = self.GP.AcqGrad(xnew)\n",
        "        f, df = self.A.d_eval(self.tau, new_mean, new_std, ds=ds, dm=dm)\n",
        "\n",
        "        return -f, -df * grad\n",
        "\n",
        "    def acqfunc_h(self, xnew, n_start=n_start_AcqFunc, eps=eps):\n",
        "        f = self.acqfunc(xnew)[0]\n",
        "        \n",
        "        new_mean_h, new_var_h = self.GP.predict(xnew + eps, return_std=True)\n",
        "        new_std_h = np.sqrt(new_var_h + eps)\n",
        "        dm_h, ds_h = self.GP.AcqGrad(xnew + eps)\n",
        "        f_h = self.A.d_eval(-self.tau, new_mean_h, new_std_h, ds=ds_h, dm=dm_h)[0]\n",
        "        \n",
        "        approx_grad = (-f_h - f)/eps\n",
        "        return approx_grad\n"
      ],
      "execution_count": 9,
      "outputs": []
    },
    {
      "cell_type": "code",
      "metadata": {
        "id": "qXIKGuXVGEg2"
      },
      "source": [
        "###Reproducible set-seeds:\n",
        "\n",
        "run_num_1 = 1\n",
        "run_num_2 = 2\n",
        "run_num_3 = 3\n",
        "run_num_4 = 4\n",
        "run_num_5 = 5\n",
        "run_num_6 = 6\n",
        "run_num_7 = 7\n",
        "run_num_8 = 8\n",
        "run_num_9 = 9\n",
        "run_num_10 = 10\n",
        "run_num_11 = 11\n",
        "run_num_12 = 12\n",
        "run_num_13 = 13\n",
        "run_num_14 = 14\n",
        "run_num_15 = 15\n",
        "run_num_16 = 16\n",
        "run_num_17 = 17\n",
        "run_num_18 = 18\n",
        "run_num_19 = 19\n",
        "run_num_20 = 20\n"
      ],
      "execution_count": 10,
      "outputs": []
    },
    {
      "cell_type": "code",
      "metadata": {
        "colab": {
          "base_uri": "https://localhost:8080/"
        },
        "id": "JEhagQmnTVIK",
        "outputId": "bad8d341-dd41-4820-fdcf-4a5d2ba81948"
      },
      "source": [
        "start_approx = time.time()\n",
        "start_approx\n"
      ],
      "execution_count": 11,
      "outputs": [
        {
          "output_type": "execute_result",
          "data": {
            "text/plain": [
              "1629284859.8016899"
            ]
          },
          "metadata": {
            "tags": []
          },
          "execution_count": 11
        }
      ]
    },
    {
      "cell_type": "code",
      "metadata": {
        "colab": {
          "base_uri": "https://localhost:8080/"
        },
        "id": "aH0YSTXufD1v",
        "outputId": "c76507d9-2350-4339-c997-a76381fc300b"
      },
      "source": [
        "### ESTIMATED GP EI GRADIENTS\n",
        "\n",
        "np.random.seed(run_num_1)\n",
        "surrogate_approx_1 = GaussianProcess(cov_func, optimize=opt)\n",
        "\n",
        "approx_1 = GPGO(surrogate_approx_1, Acquisition(util_grad_approx), objfunc, param)\n",
        "approx_1.run(init_evals=n_init, max_iter=iters)\n"
      ],
      "execution_count": 12,
      "outputs": [
        {
          "output_type": "stream",
          "text": [
            "Evaluation \t Proposed point \t  Current eval. \t Best eval.\n",
            "init   \t [ 1.25533007 10.8048674 ]. \t  -56.52874004692151 \t -27.68166689936483\n",
            "init   \t [-4.99828438  4.53498859]. \t  -172.66531086516164 \t -27.68166689936483\n",
            "init   \t [-2.79866164  1.38507892]. \t  -102.58290348816024 \t -27.68166689936483\n",
            "init   \t [-2.20609683  5.18341091]. \t  -28.868064601155666 \t -27.68166689936483\n",
            "init   \t [0.95151211 8.08225101]. \t  -27.68166689936483 \t -27.68166689936483\n",
            "1      \t [8.41909995 1.27566317]. \t  \u001b[92m-5.089934878453152\u001b[0m \t -5.089934878453152\n",
            "2      \t [10. 15.]. \t  -145.87219087939556 \t -5.089934878453152\n",
            "3      \t [-5. 15.]. \t  -17.508299515778166 \t -5.089934878453152\n",
            "4      \t [7.90355496 8.38355717]. \t  -57.03477656850546 \t -5.089934878453152\n",
            "5      \t [3.09545804 0.        ]. \t  -5.749996691813506 \t -5.089934878453152\n",
            "6      \t [ 4.44885833 15.        ]. \t  -190.38958142014138 \t -5.089934878453152\n",
            "7      \t [-5.         10.00149973]. \t  -64.36034239837272 \t -5.089934878453152\n",
            "8      \t [4.54379235 4.43734747]. \t  -17.39998559668396 \t -5.089934878453152\n",
            "9      \t [-0.62125597 15.        ]. \t  -81.19151841324849 \t -5.089934878453152\n",
            "10     \t [10.          4.60523104]. \t  \u001b[92m-4.510424031234777\u001b[0m \t -4.510424031234777\n",
            "11     \t [1.1309625  3.00014358]. \t  -15.952001765586363 \t -4.510424031234777\n",
            "12     \t [ 5.12326709 10.88820044]. \t  -106.98311627713647 \t -4.510424031234777\n",
            "13     \t [5.96196546 0.        ]. \t  -20.327814275678143 \t -4.510424031234777\n",
            "14     \t [10.         11.16954914]. \t  -68.63637436648813 \t -4.510424031234777\n",
            "15     \t [7.55017529 4.08438927]. \t  -20.361956399962384 \t -4.510424031234777\n",
            "16     \t [-2.12839138 11.78945695]. \t  -8.219849210160788 \t -4.510424031234777\n",
            "17     \t [0.48977701 0.        ]. \t  -46.05135814049239 \t -4.510424031234777\n",
            "18     \t [4.20880835 7.37751993]. \t  -38.86340555048443 \t -4.510424031234777\n",
            "19     \t [10.  0.]. \t  -10.960889035651505 \t -4.510424031234777\n",
            "20     \t [-2.08692957  8.42967828]. \t  -7.376458591176743 \t -4.510424031234777\n"
          ],
          "name": "stdout"
        }
      ]
    },
    {
      "cell_type": "code",
      "metadata": {
        "colab": {
          "base_uri": "https://localhost:8080/"
        },
        "id": "wTxsSZxFGBB5",
        "outputId": "2765f88c-b2d7-46e2-a24b-45bbff792b02"
      },
      "source": [
        "### ESTIMATED GP EI GRADIENTS\n",
        "\n",
        "np.random.seed(run_num_2)\n",
        "surrogate_approx_2 = GaussianProcess(cov_func, optimize=opt)\n",
        "\n",
        "approx_2 = GPGO(surrogate_approx_2, Acquisition(util_grad_approx), objfunc, param)\n",
        "approx_2.run(init_evals=n_init, max_iter=iters)\n"
      ],
      "execution_count": 13,
      "outputs": [
        {
          "output_type": "stream",
          "text": [
            "Evaluation \t Proposed point \t  Current eval. \t Best eval.\n",
            "init   \t [1.53992353 0.38889348]. \t  -22.31361308916297 \t -6.692051508754487\n",
            "init   \t [3.24493717 6.52983589]. \t  -19.233109967858276 \t -6.692051508754487\n",
            "init   \t [1.30551703 4.95502232]. \t  -13.177851563387286 \t -6.692051508754487\n",
            "init   \t [-1.93027049  9.2890645 ]. \t  -6.692051508754487 \t -6.692051508754487\n",
            "init   \t [-0.50517989  4.00240913]. \t  -26.437522758780958 \t -6.692051508754487\n",
            "1      \t [ 8.8924193 14.1167381]. \t  -147.03001228842345 \t -6.692051508754487\n",
            "2      \t [9.06869679 2.0164014 ]. \t  \u001b[92m-1.0307174678975652\u001b[0m \t -1.0307174678975652\n",
            "3      \t [ 1.36060871 15.        ]. \t  -131.3879388015716 \t -1.0307174678975652\n",
            "4      \t [10.          7.54055547]. \t  -22.532944128421136 \t -1.0307174678975652\n",
            "5      \t [-5. 15.]. \t  -17.508299515778166 \t -1.0307174678975652\n",
            "6      \t [-4.45110035  0.        ]. \t  -252.2413653810009 \t -1.0307174678975652\n",
            "7      \t [-5.          5.78397276]. \t  -142.76099421684668 \t -1.0307174678975652\n",
            "8      \t [ 4.7508558  11.00172144]. \t  -103.43711085858219 \t -1.0307174678975652\n",
            "9      \t [6.02402314 0.        ]. \t  -20.492390609875855 \t -1.0307174678975652\n",
            "10     \t [6.85243076 4.50856244]. \t  -29.300935515364387 \t -1.0307174678975652\n",
            "11     \t [-5.         11.01027283]. \t  -50.88016069509787 \t -1.0307174678975652\n",
            "12     \t [10.  0.]. \t  -10.960889035651505 \t -1.0307174678975652\n",
            "13     \t [ 0.74703876 10.84482256]. \t  -52.586715430202965 \t -1.0307174678975652\n",
            "14     \t [ 5.17152762 15.        ]. \t  -204.02647166124498 \t -1.0307174678975652\n",
            "15     \t [-2.13059297 13.31864092]. \t  -16.06525222576589 \t -1.0307174678975652\n",
            "16     \t [3.84996892 2.82826672]. \t  -3.791393592509783 \t -1.0307174678975652\n",
            "17     \t [10.          3.74491743]. \t  -2.4936465294415733 \t -1.0307174678975652\n",
            "18     \t [ 8.50100837 10.31811021]. \t  -76.66735855426205 \t -1.0307174678975652\n",
            "19     \t [6.23279115 7.60172407]. \t  -61.878932823740676 \t -1.0307174678975652\n",
            "20     \t [-0.27817652  7.36168258]. \t  -20.059183938001933 \t -1.0307174678975652\n"
          ],
          "name": "stdout"
        }
      ]
    },
    {
      "cell_type": "code",
      "metadata": {
        "colab": {
          "base_uri": "https://localhost:8080/"
        },
        "id": "-dgzIrUIGCGT",
        "outputId": "a486676e-5041-4802-d784-712797832de2"
      },
      "source": [
        "### ESTIMATED GP EI GRADIENTS\n",
        "\n",
        "np.random.seed(run_num_3)\n",
        "surrogate_approx_3 = GaussianProcess(cov_func, optimize=opt)\n",
        "\n",
        "approx_3 = GPGO(surrogate_approx_3, Acquisition(util_grad_approx), objfunc, param)\n",
        "approx_3.run(init_evals=n_init, max_iter=iters)\n"
      ],
      "execution_count": 14,
      "outputs": [
        {
          "output_type": "stream",
          "text": [
            "Evaluation \t Proposed point \t  Current eval. \t Best eval.\n",
            "init   \t [ 3.26196854 10.62221734]. \t  -71.68783452098575 \t -18.07886746449891\n",
            "init   \t [-0.63642892  7.66241408]. \t  -18.07886746449891 \t -18.07886746449891\n",
            "init   \t [ 8.39420432 13.44439633]. \t  -141.98653529865882 \t -18.07886746449891\n",
            "init   \t [-3.11622034  3.10864317]. \t  -83.31045707266176 \t -18.07886746449891\n",
            "init   \t [-4.22799195  6.61214765]. \t  -76.5294170688398 \t -18.07886746449891\n",
            "1      \t [6.70472147 4.59545299]. \t  -30.726791812855225 \t -18.07886746449891\n",
            "2      \t [-4.7134253 15.       ]. \t  \u001b[92m-11.891405374053779\u001b[0m \t -11.891405374053779\n",
            "3      \t [3.21559981 0.        ]. \t  \u001b[92m-5.3436612636626375\u001b[0m \t -5.3436612636626375\n",
            "4      \t [10.  0.]. \t  -10.960889035651505 \t -5.3436612636626375\n",
            "5      \t [ 0.31730532 15.        ]. \t  -109.22084446808685 \t -5.3436612636626375\n",
            "6      \t [10.          8.34436145]. \t  -30.47374632713747 \t -5.3436612636626375\n",
            "7      \t [1.98438537 4.03074364]. \t  -6.603721636751023 \t -5.3436612636626375\n",
            "8      \t [-3.05610153 11.22529   ]. \t  \u001b[92m-1.1473161488487023\u001b[0m \t -1.1473161488487023\n",
            "9      \t [-0.3179314  0.       ]. \t  -61.61905762543009 \t -1.1473161488487023\n",
            "10     \t [ 4.48556335 15.        ]. \t  -191.1659266565978 \t -1.1473161488487023\n",
            "11     \t [6.48971286 0.        ]. \t  -20.63478820707109 \t -1.1473161488487023\n",
            "12     \t [10.          3.50658284]. \t  -2.196780044092054 \t -1.1473161488487023\n",
            "13     \t [3.66130787 6.78259717]. \t  -25.460712390739396 \t -1.1473161488487023\n",
            "14     \t [6.58550354 8.83561403]. \t  -78.6752797100621 \t -1.1473161488487023\n",
            "15     \t [-5.         10.53541952]. \t  -56.972066793440256 \t -1.1473161488487023\n",
            "16     \t [-2.0252941  11.54423571]. \t  -8.992207004607074 \t -1.1473161488487023\n",
            "17     \t [-5.  0.]. \t  -308.12909601160663 \t -1.1473161488487023\n",
            "18     \t [4.2061207  2.46396377]. \t  -6.105467036056245 \t -1.1473161488487023\n",
            "19     \t [10.          5.29631355]. \t  -7.202626721273782 \t -1.1473161488487023\n",
            "20     \t [-0.20602399  4.81346771]. \t  -21.709182908108197 \t -1.1473161488487023\n"
          ],
          "name": "stdout"
        }
      ]
    },
    {
      "cell_type": "code",
      "metadata": {
        "colab": {
          "base_uri": "https://localhost:8080/"
        },
        "id": "hOtG-2sCGCKS",
        "outputId": "0436bf9b-3b6e-425b-9830-d7bda031296d"
      },
      "source": [
        "### ESTIMATED GP EI GRADIENTS\n",
        "\n",
        "np.random.seed(run_num_4)\n",
        "surrogate_approx_4 = GaussianProcess(cov_func, optimize=opt)\n",
        "\n",
        "approx_4 = GPGO(surrogate_approx_4, Acquisition(util_grad_approx), objfunc, param)\n",
        "approx_4.run(init_evals=n_init, max_iter=iters)\n"
      ],
      "execution_count": 15,
      "outputs": [
        {
          "output_type": "stream",
          "text": [
            "Evaluation \t Proposed point \t  Current eval. \t Best eval.\n",
            "init   \t [9.50544759 8.20848374]. \t  -32.51676744781521 \t -7.247126865776948\n",
            "init   \t [ 9.5902654  10.72223991]. \t  -66.20566674364716 \t -7.247126865776948\n",
            "init   \t [5.46593237 3.24134243]. \t  -20.90089401680587 \t -7.247126865776948\n",
            "init   \t [9.64411682 0.09345383]. \t  -7.247126865776948 \t -7.247126865776948\n",
            "init   \t [-1.20526456  6.52187299]. \t  -15.941376982363263 \t -7.247126865776948\n",
            "1      \t [ 0.5775056  14.31328634]. \t  -102.48870217898984 \t -7.247126865776948\n",
            "2      \t [-0.13367617  0.17881992]. \t  -55.952651178085794 \t -7.247126865776948\n",
            "3      \t [-5.         10.64820829]. \t  -55.48425984802846 \t -7.247126865776948\n",
            "4      \t [3.72336998 9.18654362]. \t  -55.582264756322004 \t -7.247126865776948\n",
            "5      \t [-5.          2.74886772]. \t  -221.19381209897196 \t -7.247126865776948\n",
            "6      \t [ 6.17850605 15.        ]. \t  -212.8128335272435 \t -7.247126865776948\n",
            "7      \t [-4.33551193 15.        ]. \t  \u001b[92m-6.574104226712752\u001b[0m \t -6.574104226712752\n",
            "8      \t [10.          3.97109164]. \t  \u001b[92m-2.880426110882599\u001b[0m \t -2.880426110882599\n",
            "9      \t [1.6937807  4.08595093]. \t  -8.991043450037363 \t -2.880426110882599\n",
            "10     \t [-0.65217279 10.24672532]. \t  -27.57798553460698 \t -2.880426110882599\n",
            "11     \t [3.95655257 0.        ]. \t  -6.390405094788827 \t -2.880426110882599\n",
            "12     \t [-5.          6.88872878]. \t  -118.78555885693459 \t -2.880426110882599\n",
            "13     \t [10. 15.]. \t  -145.87219087939556 \t -2.880426110882599\n",
            "14     \t [6.38841813 6.50802932]. \t  -48.74409560082792 \t -2.880426110882599\n",
            "15     \t [6.8103764 0.       ]. \t  -19.62705637605663 \t -2.880426110882599\n",
            "16     \t [-1.20049951  3.47913076]. \t  -34.798120813534354 \t -2.880426110882599\n",
            "17     \t [ 6.24419694 11.24491928]. \t  -122.53539981091201 \t -2.880426110882599\n",
            "18     \t [-2.66661975 13.01160242]. \t  -4.879342343159136 \t -2.880426110882599\n",
            "19     \t [1.71815229 6.68545222]. \t  -17.8233842272911 \t -2.880426110882599\n",
            "20     \t [8.49368638 2.70521121]. \t  -5.084451999242475 \t -2.880426110882599\n"
          ],
          "name": "stdout"
        }
      ]
    },
    {
      "cell_type": "code",
      "metadata": {
        "colab": {
          "base_uri": "https://localhost:8080/"
        },
        "id": "JF_SxcEvGCOl",
        "outputId": "70196656-cbb3-4f2d-a68d-23b9350db428"
      },
      "source": [
        "### ESTIMATED GP EI GRADIENTS\n",
        "\n",
        "np.random.seed(run_num_5)\n",
        "surrogate_approx_5 = GaussianProcess(cov_func, optimize=opt)\n",
        "\n",
        "approx_5 = GPGO(surrogate_approx_5, Acquisition(util_grad_approx), objfunc, param)\n",
        "approx_5.run(init_evals=n_init, max_iter=iters)\n"
      ],
      "execution_count": 16,
      "outputs": [
        {
          "output_type": "stream",
          "text": [
            "Evaluation \t Proposed point \t  Current eval. \t Best eval.\n",
            "init   \t [-1.67010243 13.06098459]. \t  -25.390690545664548 \t -25.311309190989615\n",
            "init   \t [-1.89921267 13.77916362]. \t  -25.311309190989615 \t -25.311309190989615\n",
            "init   \t [2.32616783 9.17615794]. \t  -41.60147975414021 \t -25.311309190989615\n",
            "init   \t [6.48861785 7.77626982]. \t  -63.81281921768236 \t -25.311309190989615\n",
            "init   \t [-0.54799248  2.81581843]. \t  -34.966203644931994 \t -25.311309190989615\n",
            "1      \t [10.  0.]. \t  \u001b[92m-10.960889035651505\u001b[0m \t -10.960889035651505\n",
            "2      \t [ 8.90352463 15.        ]. \t  -168.84733860933238 \t -10.960889035651505\n",
            "3      \t [-5.         7.1442263]. \t  -113.58828844509826 \t -10.960889035651505\n",
            "4      \t [4.40256958 0.        ]. \t  \u001b[92m-9.313533992579627\u001b[0m \t -9.313533992579627\n",
            "5      \t [-5.  0.]. \t  -308.12909601160663 \t -9.313533992579627\n",
            "6      \t [ 3.28455811 15.        ]. \t  -165.20362005987207 \t -9.313533992579627\n",
            "7      \t [10.          4.49481459]. \t  \u001b[92m-4.1687809039062325\u001b[0m \t -4.1687809039062325\n",
            "8      \t [3.73428711 4.15207739]. \t  -7.2976825774345775 \t -4.1687809039062325\n",
            "9      \t [10.         10.40600568]. \t  -56.74827627602043 \t -4.1687809039062325\n",
            "10     \t [7.10300969 2.63656064]. \t  -18.578743850140377 \t -4.1687809039062325\n",
            "11     \t [-5.         11.41757667]. \t  -46.01415453016331 \t -4.1687809039062325\n",
            "12     \t [-0.78455773  6.78778412]. \t  -17.087449984111828 \t -4.1687809039062325\n",
            "13     \t [ 5.9448145  11.72116086]. \t  -131.7813154964645 \t -4.1687809039062325\n",
            "14     \t [-5. 15.]. \t  -17.508299515778166 \t -4.1687809039062325\n",
            "15     \t [1.28674293 0.        ]. \t  -30.046344055982637 \t -4.1687809039062325\n",
            "16     \t [-1.56108233  9.83208067]. \t  -11.159786412525692 \t -4.1687809039062325\n",
            "17     \t [-3.80619215  3.75121164]. \t  -106.03406334088206 \t -4.1687809039062325\n",
            "18     \t [10.          6.91897176]. \t  -17.278315330649434 \t -4.1687809039062325\n",
            "19     \t [1.9440385  5.79489555]. \t  -12.26209978145576 \t -4.1687809039062325\n",
            "20     \t [ 1.12003286 12.06966608]. \t  -73.3222899478788 \t -4.1687809039062325\n"
          ],
          "name": "stdout"
        }
      ]
    },
    {
      "cell_type": "code",
      "metadata": {
        "colab": {
          "base_uri": "https://localhost:8080/"
        },
        "id": "-kDxZtJsGCR3",
        "outputId": "c633b5c8-c8d2-4a8c-ae51-7195a1226e08"
      },
      "source": [
        "### ESTIMATED GP EI GRADIENTS\n",
        "\n",
        "np.random.seed(run_num_6)\n",
        "surrogate_approx_6 = GaussianProcess(cov_func, optimize=opt)\n",
        "\n",
        "approx_6 = GPGO(surrogate_approx_6, Acquisition(util_grad_approx), objfunc, param)\n",
        "approx_6.run(init_evals=n_init, max_iter=iters)\n"
      ],
      "execution_count": 17,
      "outputs": [
        {
          "output_type": "stream",
          "text": [
            "Evaluation \t Proposed point \t  Current eval. \t Best eval.\n",
            "init   \t [8.39290227 4.97969708]. \t  -15.553860636684597 \t -15.31731051317483\n",
            "init   \t [7.31843685 0.62544939]. \t  -15.31731051317483 \t -15.31731051317483\n",
            "init   \t [-3.3851498   8.92578096]. \t  -16.222288919361837 \t -15.31731051317483\n",
            "init   \t [2.94726043 6.28211143]. \t  -15.406373581304088 \t -15.31731051317483\n",
            "init   \t [0.03111774 9.33779148]. \t  -31.07053245856209 \t -15.31731051317483\n",
            "1      \t [ 9.72522083 14.5299912 ]. \t  -139.8297584868663 \t -15.31731051317483\n",
            "2      \t [-4.42013634  0.37777   ]. \t  -237.69785665817545 \t -15.31731051317483\n",
            "3      \t [-3.99671519 14.86986649]. \t  \u001b[92m-3.898129686703599\u001b[0m \t -3.898129686703599\n",
            "4      \t [ 3.01682823 14.83374236]. \t  -155.70998935074863 \t -3.898129686703599\n",
            "5      \t [1.76387394 0.        ]. \t  -21.078930203265006 \t -3.898129686703599\n",
            "6      \t [ 6.51112433 10.00143544]. \t  -98.34083324613164 \t -3.898129686703599\n",
            "7      \t [-1.36588047  4.53364094]. \t  -27.017874835590963 \t -3.898129686703599\n",
            "8      \t [-1.11716557 13.18710515]. \t  -41.747893399911376 \t -3.898129686703599\n",
            "9      \t [-5.          5.34411144]. \t  -152.98628997678327 \t -3.898129686703599\n",
            "10     \t [4.41768041 2.92039548]. \t  -9.25643352742401 \t -3.898129686703599\n",
            "11     \t [10.          8.19251001]. \t  -28.874605179549697 \t -3.898129686703599\n",
            "12     \t [-5.         11.99773964]. \t  -39.65591448874086 \t -3.898129686703599\n",
            "13     \t [10.          2.12150829]. \t  \u001b[92m-2.720091790618171\u001b[0m \t -2.720091790618171\n",
            "14     \t [ 2.9295331  10.93621466]. \t  -72.69356723271218 \t -2.720091790618171\n",
            "15     \t [1.53683993 3.24064477]. \t  -10.708553016980726 \t -2.720091790618171\n",
            "16     \t [5.84836947 6.3538518 ]. \t  -46.20047447530566 \t -2.720091790618171\n",
            "17     \t [10.  0.]. \t  -10.960889035651505 \t -2.720091790618171\n",
            "18     \t [ 6.33172196 13.56051827]. \t  -174.8092369131531 \t -2.720091790618171\n",
            "19     \t [-0.84739394  1.32557388]. \t  -53.75975213277636 \t -2.720091790618171\n",
            "20     \t [4.6523125 0.       ]. \t  -11.36027487594677 \t -2.720091790618171\n"
          ],
          "name": "stdout"
        }
      ]
    },
    {
      "cell_type": "code",
      "metadata": {
        "colab": {
          "base_uri": "https://localhost:8080/"
        },
        "id": "fKB8MCD_GCVI",
        "outputId": "6d5730b0-ee0e-4636-f307-34e23cf1c3e4"
      },
      "source": [
        "### ESTIMATED GP EI GRADIENTS\n",
        "\n",
        "np.random.seed(run_num_7)\n",
        "surrogate_approx_7 = GaussianProcess(cov_func, optimize=opt)\n",
        "\n",
        "approx_7 = GPGO(surrogate_approx_7, Acquisition(util_grad_approx), objfunc, param)\n",
        "approx_7.run(init_evals=n_init, max_iter=iters)\n"
      ],
      "execution_count": 18,
      "outputs": [
        {
          "output_type": "stream",
          "text": [
            "Evaluation \t Proposed point \t  Current eval. \t Best eval.\n",
            "init   \t [-3.85537566 11.69878188]. \t  -8.299317850233932 \t -5.211335324193094\n",
            "init   \t [ 1.57613847 10.85197767]. \t  -59.50408380701259 \t -5.211335324193094\n",
            "init   \t [9.66984268 8.07743806]. \t  -29.714921414987273 \t -5.211335324193094\n",
            "init   \t [2.51680695 1.080767  ]. \t  -5.211335324193094 \t -5.211335324193094\n",
            "init   \t [-0.9734153   7.49823751]. \t  -15.431057204948033 \t -5.211335324193094\n",
            "1      \t [-4.97859679  1.38393519]. \t  -260.3293952774437 \t -5.211335324193094\n",
            "2      \t [ 9.25668108 14.87713055]. \t  -157.79168966390583 \t -5.211335324193094\n",
            "3      \t [9.84403446 2.23618575]. \t  \u001b[92m-1.607946967220208\u001b[0m \t -1.607946967220208\n",
            "4      \t [4.55900388 5.89375631]. \t  -28.465589739949205 \t -1.607946967220208\n",
            "5      \t [ 4.07549503 15.        ]. \t  -182.26231569631855 \t -1.607946967220208\n",
            "6      \t [6.63656991 0.        ]. \t  -20.27975546004532 \t -1.607946967220208\n",
            "7      \t [-1.10321767 15.        ]. \t  -64.55271949626872 \t -1.607946967220208\n",
            "8      \t [-5.          6.49338833]. \t  -127.0847837975716 \t -1.607946967220208\n",
            "9      \t [-1.00615862  3.53548229]. \t  -32.75005148348958 \t -1.607946967220208\n",
            "10     \t [ 6.15564868 10.11747234]. \t  -100.87425641230558 \t -1.607946967220208\n",
            "11     \t [-5. 15.]. \t  -17.508299515778166 \t -1.607946967220208\n",
            "12     \t [8.07676988 4.42951178]. \t  -16.03995360443043 \t -1.607946967220208\n",
            "13     \t [-0.66114141  0.        ]. \t  -68.11258227581459 \t -1.607946967220208\n",
            "14     \t [10.  0.]. \t  -10.960889035651505 \t -1.607946967220208\n",
            "15     \t [4.83706984 2.64288996]. \t  -12.933239102013518 \t -1.607946967220208\n",
            "16     \t [10.       11.254153]. \t  -70.025382571958 \t -1.607946967220208\n",
            "17     \t [1.47317618 5.68982396]. \t  -14.012718146993524 \t -1.607946967220208\n",
            "18     \t [-1.79688796 10.29049125]. \t  -8.874761496408627 \t -1.607946967220208\n",
            "19     \t [-5.          9.86428721]. \t  -66.35114962135708 \t -1.607946967220208\n",
            "20     \t [2.93515195 8.16198683]. \t  -33.3257388312568 \t -1.607946967220208\n"
          ],
          "name": "stdout"
        }
      ]
    },
    {
      "cell_type": "code",
      "metadata": {
        "colab": {
          "base_uri": "https://localhost:8080/"
        },
        "id": "4unvifF-GCXp",
        "outputId": "5b0d896b-37c5-4511-eaff-078d0ee718a5"
      },
      "source": [
        "### ESTIMATED GP EI GRADIENTS\n",
        "\n",
        "np.random.seed(run_num_8)\n",
        "surrogate_approx_8 = GaussianProcess(cov_func, optimize=opt)\n",
        "\n",
        "approx_8 = GPGO(surrogate_approx_8, Acquisition(util_grad_approx), objfunc, param)\n",
        "approx_8.run(init_evals=n_init, max_iter=iters)\n"
      ],
      "execution_count": 19,
      "outputs": [
        {
          "output_type": "stream",
          "text": [
            "Evaluation \t Proposed point \t  Current eval. \t Best eval.\n",
            "init   \t [ 8.10144104 14.52810994]. \t  -175.17297136347514 \t -15.416245468470875\n",
            "init   \t [8.0379181  7.96283537]. \t  -49.32173799887473 \t -15.416245468470875\n",
            "init   \t [-1.50907508  0.17098206]. \t  -83.26753461673219 \t -15.416245468470875\n",
            "init   \t [1.45703227 6.0352704 ]. \t  -15.416245468470875 \t -15.416245468470875\n",
            "init   \t [2.84012007 7.17587694]. \t  -22.49093277852639 \t -15.416245468470875\n",
            "1      \t [-4.98884166 14.83408411]. \t  -18.008434758014253 \t -15.416245468470875\n",
            "2      \t [10.  0.]. \t  \u001b[92m-10.960889035651505\u001b[0m \t -10.960889035651505\n",
            "3      \t [-4.8401206   6.42823123]. \t  -117.34273274148853 \t -10.960889035651505\n",
            "4      \t [ 1.46752997 14.78454975]. \t  -128.53831736599975 \t -10.960889035651505\n",
            "5      \t [4.44479756 0.89726458]. \t  \u001b[92m-7.798462032411121\u001b[0m \t -7.798462032411121\n",
            "6      \t [-1.53733241 10.48501503]. \t  -13.324418197268233 \t -7.798462032411121\n",
            "7      \t [ 4.59101393 11.15592345]. \t  -103.70255460707435 \t -7.798462032411121\n",
            "8      \t [7.68054207 3.49376241]. \t  -16.054612311234727 \t -7.798462032411121\n",
            "9      \t [-5.          2.14980151]. \t  -238.85191822262627 \t -7.798462032411121\n",
            "10     \t [-5.         10.92816854]. \t  -51.90123254600216 \t -7.798462032411121\n",
            "11     \t [1.64304625 2.61760521]. \t  -10.55264701517783 \t -7.798462032411121\n",
            "12     \t [10.         11.01204094]. \t  -66.08857250704284 \t -7.798462032411121\n",
            "13     \t [-1.38500482  4.34595593]. \t  -28.63424903579045 \t -7.798462032411121\n",
            "14     \t [4.56603278 4.24557199]. \t  -16.548223116171087 \t -7.798462032411121\n",
            "15     \t [7.05867001 0.        ]. \t  -18.302394626226477 \t -7.798462032411121\n",
            "16     \t [-2.10201367 13.64598882]. \t  -19.046641323885666 \t -7.798462032411121\n",
            "17     \t [10.          5.19673156]. \t  \u001b[92m-6.755789217465072\u001b[0m \t -6.755789217465072\n",
            "18     \t [-1.14446026  7.66355057]. \t  -14.077841644959545 \t -6.755789217465072\n",
            "19     \t [ 1.22722397 10.1289271 ]. \t  -47.89777521583031 \t -6.755789217465072\n",
            "20     \t [2.03523621 0.        ]. \t  -16.56213832971314 \t -6.755789217465072\n"
          ],
          "name": "stdout"
        }
      ]
    },
    {
      "cell_type": "code",
      "metadata": {
        "colab": {
          "base_uri": "https://localhost:8080/"
        },
        "id": "85OIXcg7GCaJ",
        "outputId": "4b85c7f9-10db-408a-a169-5fc6b8509244"
      },
      "source": [
        "### ESTIMATED GP EI GRADIENTS\n",
        "\n",
        "np.random.seed(run_num_9)\n",
        "surrogate_approx_9 = GaussianProcess(cov_func, optimize=opt)\n",
        "\n",
        "approx_9 = GPGO(surrogate_approx_9, Acquisition(util_grad_approx), objfunc, param)\n",
        "approx_9.run(init_evals=n_init, max_iter=iters)\n"
      ],
      "execution_count": 20,
      "outputs": [
        {
          "output_type": "stream",
          "text": [
            "Evaluation \t Proposed point \t  Current eval. \t Best eval.\n",
            "init   \t [-4.84438769  7.52811888]. \t  -96.15564306553264 \t -3.4640248583909496\n",
            "init   \t [2.4365994  2.00744293]. \t  -3.4640248583909496 \t -3.4640248583909496\n",
            "init   \t [-2.86833372  3.27838013]. \t  -70.46930174488207 \t -3.4640248583909496\n",
            "init   \t [1.27762271 3.72151753]. \t  -12.982825924833865 \t -3.4640248583909496\n",
            "init   \t [-3.73910523  5.1824796 ]. \t  -75.58547400560856 \t -3.4640248583909496\n",
            "1      \t [ 7.05609655 14.75038872]. \t  -200.4388688685465 \t -3.4640248583909496\n",
            "2      \t [9.79053515 5.9968998 ]. \t  -11.24805159216164 \t -3.4640248583909496\n",
            "3      \t [-1.16788554 15.        ]. \t  -62.276893026499415 \t -3.4640248583909496\n",
            "4      \t [7.94468781 0.        ]. \t  -11.40885179920395 \t -3.4640248583909496\n",
            "5      \t [2.83905495 9.81057089]. \t  -53.94615567523124 \t -3.4640248583909496\n",
            "6      \t [10.         10.54613846]. \t  -58.8427331976896 \t -3.4640248583909496\n",
            "7      \t [5.40021154 5.51823191]. \t  -34.980375915287354 \t -3.4640248583909496\n",
            "8      \t [-5.         12.38435749]. \t  -35.79258827471595 \t -3.4640248583909496\n",
            "9      \t [-1.33336996 10.31600592]. \t  -16.116547978109825 \t -3.4640248583909496\n",
            "10     \t [-0.29866745  0.        ]. \t  -61.25647245562254 \t -3.4640248583909496\n",
            "11     \t [-5.  0.]. \t  -308.12909601160663 \t -3.4640248583909496\n",
            "12     \t [ 2.76587243 14.06021978]. \t  -132.71978661440204 \t -3.4640248583909496\n",
            "13     \t [4.46689221 0.        ]. \t  -9.82238601092727 \t -3.4640248583909496\n",
            "14     \t [10.          2.60845129]. \t  \u001b[92m-2.098775109155979\u001b[0m \t -2.098775109155979\n",
            "15     \t [0.00880137 6.9572859 ]. \t  -20.545132778190705 \t -2.098775109155979\n",
            "16     \t [6.55675899 9.09280976]. \t  -82.8366086031989 \t -2.098775109155979\n",
            "17     \t [7.57104949 3.00824675]. \t  -15.413014515803981 \t -2.098775109155979\n",
            "18     \t [4.49125841 2.59442006]. \t  -9.185908487061909 \t -2.098775109155979\n",
            "19     \t [-5. 15.]. \t  -17.508299515778166 \t -2.098775109155979\n",
            "20     \t [2.66723923 6.41723987]. \t  -15.469941833671024 \t -2.098775109155979\n"
          ],
          "name": "stdout"
        }
      ]
    },
    {
      "cell_type": "code",
      "metadata": {
        "colab": {
          "base_uri": "https://localhost:8080/"
        },
        "id": "QQBR-qJPGCcp",
        "outputId": "39e6f3a1-db28-4c47-da4b-8f3bf12efae7"
      },
      "source": [
        "### ESTIMATED GP EI GRADIENTS\n",
        "\n",
        "np.random.seed(run_num_10)\n",
        "surrogate_approx_10 = GaussianProcess(cov_func, optimize=opt)\n",
        "\n",
        "approx_10 = GPGO(surrogate_approx_10, Acquisition(util_grad_approx), objfunc, param)\n",
        "approx_10.run(init_evals=n_init, max_iter=iters)\n"
      ],
      "execution_count": 21,
      "outputs": [
        {
          "output_type": "stream",
          "text": [
            "Evaluation \t Proposed point \t  Current eval. \t Best eval.\n",
            "init   \t [6.56980965 0.31127924]. \t  -19.863985024602144 \t -2.710610964564512\n",
            "init   \t [ 4.50472352 11.23205824]. \t  -103.66999147252169 \t -2.710610964564512\n",
            "init   \t [2.47760518 3.37194968]. \t  -2.710610964564512 \t -2.710610964564512\n",
            "init   \t [-2.02905703 11.40796068]. \t  -8.463930835255017 \t -2.710610964564512\n",
            "init   \t [-2.46333745  1.32509721]. \t  -90.49481266026973 \t -2.710610964564512\n",
            "1      \t [8.70372597 6.86774268]. \t  -27.130126017218842 \t -2.710610964564512\n",
            "2      \t [ 9.45036259 14.63089076]. \t  -147.64044674485945 \t -2.710610964564512\n",
            "3      \t [-5.          6.13548754]. \t  -134.86763853640946 \t -2.710610964564512\n",
            "4      \t [-5. 15.]. \t  -17.508299515778166 \t -2.710610964564512\n",
            "5      \t [0.53535976 7.40116606]. \t  -23.17014149092612 \t -2.710610964564512\n",
            "6      \t [ 0.92476669 15.        ]. \t  -123.13791799284002 \t -2.710610964564512\n",
            "7      \t [7.30917046 4.63031131]. \t  -26.277167965113733 \t -2.710610964564512\n",
            "8      \t [2.04065446 0.        ]. \t  -16.477681249661387 \t -2.710610964564512\n",
            "9      \t [10.          1.71596188]. \t  -3.5994960877383804 \t -2.710610964564512\n",
            "10     \t [10.         10.41835981]. \t  -56.931345305911215 \t -2.710610964564512\n",
            "11     \t [4.29173593 6.92088674]. \t  -34.93673328169899 \t -2.710610964564512\n",
            "12     \t [-5.         10.40160815]. \t  -58.770182824044745 \t -2.710610964564512\n",
            "13     \t [ 5.26787321 15.        ]. \t  -205.48018946265273 \t -2.710610964564512\n",
            "14     \t [-0.14217217  4.1899552 ]. \t  -23.662468280046603 \t -2.710610964564512\n",
            "15     \t [ 0.80211348 10.84796118]. \t  -53.17438859113578 \t -2.710610964564512\n",
            "16     \t [4.54649196 2.76245714]. \t  -10.178194925001506 \t -2.710610964564512\n",
            "17     \t [-2.19319068  8.47435323]. \t  -7.083894788963509 \t -2.710610964564512\n",
            "18     \t [10.  0.]. \t  -10.960889035651505 \t -2.710610964564512\n",
            "19     \t [10.          3.72658725]. \t  \u001b[92m-2.4667819700235754\u001b[0m \t -2.4667819700235754\n",
            "20     \t [-2.42863439 14.00519658]. \t  -14.147153055354629 \t -2.4667819700235754\n"
          ],
          "name": "stdout"
        }
      ]
    },
    {
      "cell_type": "code",
      "metadata": {
        "colab": {
          "base_uri": "https://localhost:8080/"
        },
        "id": "JS8ejeQ2GCfi",
        "outputId": "073844b9-e7b6-419f-afc3-4218bb6d07b0"
      },
      "source": [
        "### ESTIMATED GP EI GRADIENTS\n",
        "\n",
        "np.random.seed(run_num_11)\n",
        "surrogate_approx_11 = GaussianProcess(cov_func, optimize=opt)\n",
        "\n",
        "approx_11 = GPGO(surrogate_approx_11, Acquisition(util_grad_approx), objfunc, param)\n",
        "approx_11.run(init_evals=n_init, max_iter=iters)\n"
      ],
      "execution_count": 22,
      "outputs": [
        {
          "output_type": "stream",
          "text": [
            "Evaluation \t Proposed point \t  Current eval. \t Best eval.\n",
            "init   \t [-2.29595467  0.29212862]. \t  -104.49282729548965 \t -22.37435843952312\n",
            "init   \t [ 1.9482779  10.87400894]. \t  -62.47758067812407 \t -22.37435843952312\n",
            "init   \t [1.30305407 7.28140647]. \t  -22.37435843952312 \t -22.37435843952312\n",
            "init   \t [-4.80828778  7.31057411]. \t  -97.94503054415523 \t -22.37435843952312\n",
            "init   \t [ 9.12709979 12.76192634]. \t  -111.62900800771942 \t -22.37435843952312\n",
            "1      \t [10.  0.]. \t  \u001b[92m-10.960889035651505\u001b[0m \t -10.960889035651505\n",
            "2      \t [-3.99917487 15.        ]. \t  \u001b[92m-4.041425554956509\u001b[0m \t -4.041425554956509\n",
            "3      \t [8.0701298  6.37438228]. \t  -31.02861060087873 \t -4.041425554956509\n",
            "4      \t [3.91721456 1.58212528]. \t  \u001b[92m-3.171689933951897\u001b[0m \t -3.171689933951897\n",
            "5      \t [ 4.54037959 15.        ]. \t  -192.31399373181276 \t -3.171689933951897\n",
            "6      \t [-2.60740522 11.41248237]. \t  \u001b[92m-1.883391194202435\u001b[0m \t -1.883391194202435\n",
            "7      \t [-0.2309989 15.       ]. \t  -93.74563162359628 \t -1.883391194202435\n",
            "8      \t [0.85044034 3.33404553]. \t  -18.31052349905193 \t -1.883391194202435\n",
            "9      \t [5.9388425  9.75317472]. \t  -93.840494574843 \t -1.883391194202435\n",
            "10     \t [7.16333845 2.43331853]. \t  -17.569435925180144 \t -1.883391194202435\n",
            "11     \t [4.37872351 5.09898827]. \t  -19.7509396429289 \t -1.883391194202435\n",
            "12     \t [-5.          3.26329121]. \t  -206.60344467183972 \t -1.883391194202435\n",
            "13     \t [-5.        11.8792143]. \t  -40.90016582675334 \t -1.883391194202435\n",
            "14     \t [1.7116418 0.       ]. \t  -22.006046182138995 \t -1.883391194202435\n",
            "15     \t [-1.5583204   9.38545838]. \t  -10.469791676121407 \t -1.883391194202435\n",
            "16     \t [10.          9.08131724]. \t  -38.88960866070064 \t -1.883391194202435\n",
            "17     \t [10.          3.55876887]. \t  -2.252067935644445 \t -1.883391194202435\n",
            "18     \t [-1.55235116  5.48038341]. \t  -21.07745556846134 \t -1.883391194202435\n",
            "19     \t [5.55369622 0.        ]. \t  -18.470748386474238 \t -1.883391194202435\n",
            "20     \t [-1.59819722 11.98733714]. \t  -19.432426261227548 \t -1.883391194202435\n"
          ],
          "name": "stdout"
        }
      ]
    },
    {
      "cell_type": "code",
      "metadata": {
        "colab": {
          "base_uri": "https://localhost:8080/"
        },
        "id": "DXwjUVZ4GCii",
        "outputId": "ddea2d30-0009-480a-8812-2a500950527b"
      },
      "source": [
        "### ESTIMATED GP EI GRADIENTS\n",
        "\n",
        "np.random.seed(run_num_12)\n",
        "surrogate_approx_12 = GaussianProcess(cov_func, optimize=opt)\n",
        "\n",
        "approx_12 = GPGO(surrogate_approx_12, Acquisition(util_grad_approx), objfunc, param)\n",
        "approx_12.run(init_evals=n_init, max_iter=iters)\n"
      ],
      "execution_count": 23,
      "outputs": [
        {
          "output_type": "stream",
          "text": [
            "Evaluation \t Proposed point \t  Current eval. \t Best eval.\n",
            "init   \t [-2.68755736 11.10074545]. \t  -1.3827702760021356 \t -0.5499315281120278\n",
            "init   \t [-1.05027477  8.0060909 ]. \t  -14.81231853080056 \t -0.5499315281120278\n",
            "init   \t [-4.78137556 13.78120512]. \t  -18.401131000214548 \t -0.5499315281120278\n",
            "init   \t [8.51072281 0.50132141]. \t  -5.855172364344769 \t -0.5499315281120278\n",
            "init   \t [9.35424004 2.05813982]. \t  -0.5499315281120278 \t -0.5499315281120278\n",
            "1      \t [10.          4.42222996]. \t  -3.9574775283256747 \t -0.5499315281120278\n",
            "2      \t [ 8.68497867 14.25940608]. \t  -155.1276557842789 \t -0.5499315281120278\n",
            "3      \t [-5.  0.]. \t  -308.12909601160663 \t -0.5499315281120278\n",
            "4      \t [5.30078686 8.4325947 ]. \t  -67.7353026392114 \t -0.5499315281120278\n",
            "5      \t [1.81449881 0.93833083]. \t  -14.438525235006493 \t -0.5499315281120278\n",
            "6      \t [ 2.69349751 13.83339951]. \t  -126.40556738566146 \t -0.5499315281120278\n",
            "7      \t [-5.          5.45174749]. \t  -150.44835450431262 \t -0.5499315281120278\n",
            "8      \t [10.          9.18338707]. \t  -40.140861437849495 \t -0.5499315281120278\n",
            "9      \t [5.48959113 3.59983853]. \t  -22.705708490302452 \t -0.5499315281120278\n",
            "10     \t [1.55403075 5.02943763]. \t  -11.578916130929688 \t -0.5499315281120278\n",
            "11     \t [-1.46045028  2.84645165]. \t  -44.15978588070091 \t -0.5499315281120278\n",
            "12     \t [-1.32998724 15.        ]. \t  -56.57568341451988 \t -0.5499315281120278\n",
            "13     \t [-5.          9.73229132]. \t  -68.30180347015676 \t -0.5499315281120278\n",
            "14     \t [5.24225669 0.        ]. \t  -16.309559190040787 \t -0.5499315281120278\n",
            "15     \t [1.67646168 9.9449355 ]. \t  -48.05016383270482 \t -0.5499315281120278\n",
            "16     \t [8.02096249 6.04308816]. \t  -28.63295089854334 \t -0.5499315281120278\n",
            "17     \t [ 5.87835294 11.83413301]. \t  -133.86975855122358 \t -0.5499315281120278\n",
            "18     \t [-1.37390968 11.50921611]. \t  -21.35684592378965 \t -0.5499315281120278\n",
            "19     \t [10.          2.29060641]. \t  -2.4505834659722137 \t -0.5499315281120278\n",
            "20     \t [-0.8916461  0.       ]. \t  -72.60894139200812 \t -0.5499315281120278\n"
          ],
          "name": "stdout"
        }
      ]
    },
    {
      "cell_type": "code",
      "metadata": {
        "colab": {
          "base_uri": "https://localhost:8080/"
        },
        "id": "CphOPndPGClX",
        "outputId": "d4944a8c-bfff-4e05-fa67-ef517c96da14"
      },
      "source": [
        "### ESTIMATED GP EI GRADIENTS\n",
        "\n",
        "np.random.seed(run_num_13)\n",
        "surrogate_approx_13 = GaussianProcess(cov_func, optimize=opt)\n",
        "\n",
        "approx_13 = GPGO(surrogate_approx_13, Acquisition(util_grad_approx), objfunc, param)\n",
        "approx_13.run(init_evals=n_init, max_iter=iters)\n"
      ],
      "execution_count": 24,
      "outputs": [
        {
          "output_type": "stream",
          "text": [
            "Evaluation \t Proposed point \t  Current eval. \t Best eval.\n",
            "init   \t [6.66553616 3.5631183 ]. \t  -24.823670200298267 \t -18.038943061558626\n",
            "init   \t [ 7.36417799 14.48623797]. \t  -188.7803334745195 \t -18.038943061558626\n",
            "init   \t [9.58901671 6.80173871]. \t  -18.038943061558626 \t -18.038943061558626\n",
            "init   \t [ 4.13563694 11.63289772]. \t  -104.87319703906111 \t -18.038943061558626\n",
            "init   \t [ 4.62420017 10.83027344]. \t  -98.03271225790056 \t -18.038943061558626\n",
            "1      \t [-5.         10.55852118]. \t  -56.66525878591628 \t -18.038943061558626\n",
            "2      \t [-4.14720717  0.94877071]. \t  -197.3342113761513 \t -18.038943061558626\n",
            "3      \t [-0.12335059  6.35840654]. \t  -19.554794556716274 \t -18.038943061558626\n",
            "4      \t [-0.99272771 15.        ]. \t  -68.43031894475294 \t -18.038943061558626\n",
            "5      \t [2.20276677 0.        ]. \t  \u001b[92m-14.068419772396153\u001b[0m \t -14.068419772396153\n",
            "6      \t [10.  0.]. \t  \u001b[92m-10.960889035651505\u001b[0m \t -10.960889035651505\n",
            "7      \t [-5.          5.84821499]. \t  -141.29996322506628 \t -10.960889035651505\n",
            "8      \t [-0.41220542 10.52481489]. \t  -33.595854385590286 \t -10.960889035651505\n",
            "9      \t [10.         10.78931988]. \t  -62.57059363401944 \t -10.960889035651505\n",
            "10     \t [3.90491025 6.50962489]. \t  -25.668584447722168 \t -10.960889035651505\n",
            "11     \t [-5. 15.]. \t  -17.508299515778166 \t -10.960889035651505\n",
            "12     \t [6.00936985 0.        ]. \t  -20.45653172757895 \t -10.960889035651505\n",
            "13     \t [-0.14059623  2.69846735]. \t  -31.95310561715899 \t -10.960889035651505\n",
            "14     \t [ 2.81601883 15.        ]. \t  -156.08924891414276 \t -10.960889035651505\n",
            "15     \t [10.          3.30737489]. \t  \u001b[92m-2.0358111549603777\u001b[0m \t -2.0358111549603777\n",
            "16     \t [3.32760876 3.07412193]. \t  \u001b[92m-1.4466053975072377\u001b[0m \t -1.4466053975072377\n",
            "17     \t [6.86999407 8.0765211 ]. \t  -65.79031832440131 \t -1.4466053975072377\n",
            "18     \t [-2.45258807  8.26924644]. \t  -8.402396403233654 \t -1.4466053975072377\n",
            "19     \t [1.88664671 8.60481495]. \t  -33.51597964124437 \t -1.4466053975072377\n",
            "20     \t [-0.6700678  0.       ]. \t  -68.2837087849351 \t -1.4466053975072377\n"
          ],
          "name": "stdout"
        }
      ]
    },
    {
      "cell_type": "code",
      "metadata": {
        "colab": {
          "base_uri": "https://localhost:8080/"
        },
        "id": "ojHTeARNGCoi",
        "outputId": "9a1641f5-bb5c-42fd-a5df-fe8d61d440d1"
      },
      "source": [
        "### ESTIMATED GP EI GRADIENTS\n",
        "\n",
        "np.random.seed(run_num_14)\n",
        "surrogate_approx_14 = GaussianProcess(cov_func, optimize=opt)\n",
        "\n",
        "approx_14 = GPGO(surrogate_approx_14, Acquisition(util_grad_approx), objfunc, param)\n",
        "approx_14.run(init_evals=n_init, max_iter=iters)\n"
      ],
      "execution_count": 25,
      "outputs": [
        {
          "output_type": "stream",
          "text": [
            "Evaluation \t Proposed point \t  Current eval. \t Best eval.\n",
            "init   \t [ 2.70915016 11.59747578]. \t  -81.58264375064097 \t -1.4149920024014744\n",
            "init   \t [8.05641529 0.12070423]. \t  -10.148649076616518 \t -1.4149920024014744\n",
            "init   \t [-0.35396112 14.36405609]. \t  -79.6056658956529 \t -1.4149920024014744\n",
            "init   \t [2.69675068 4.77426637]. \t  -5.855607664288365 \t -1.4149920024014744\n",
            "init   \t [3.08799906 3.31882414]. \t  -1.4149920024014744 \t -1.4149920024014744\n",
            "1      \t [-3.9690762   0.55943317]. \t  -193.7395503314444 \t -1.4149920024014744\n",
            "2      \t [9.91083167 7.9391897 ]. \t  -26.74726853005628 \t -1.4149920024014744\n",
            "3      \t [10. 15.]. \t  -145.87219087939556 \t -1.4149920024014744\n",
            "4      \t [-3.75022473  8.67485872]. \t  -28.241223279942684 \t -1.4149920024014744\n",
            "5      \t [1.31384966 0.        ]. \t  -29.513114536508205 \t -1.4149920024014744\n",
            "6      \t [-5.         13.37062657]. \t  -27.291209415000157 \t -1.4149920024014744\n",
            "7      \t [6.99460041 4.39917956]. \t  -27.584513770007984 \t -1.4149920024014744\n",
            "8      \t [-1.42817233  4.8023786 ]. \t  -25.30852675190059 \t -1.4149920024014744\n",
            "9      \t [ 7.19418072 11.22622498]. \t  -115.68611123966527 \t -1.4149920024014744\n",
            "10     \t [ 5.16524605 15.        ]. \t  -203.92798169924106 \t -1.4149920024014744\n",
            "11     \t [4.60182334 7.71580065]. \t  -48.6824054442007 \t -1.4149920024014744\n",
            "12     \t [0.28095521 8.25502638]. \t  -26.472397154229505 \t -1.4149920024014744\n",
            "13     \t [-5.          4.91912178]. \t  -163.23342236713881 \t -1.4149920024014744\n",
            "14     \t [4.82272532 1.15777313]. \t  -11.08665119630106 \t -1.4149920024014744\n",
            "15     \t [10.          2.74833398]. \t  -2.007973346672351 \t -1.4149920024014744\n",
            "16     \t [-1.68775573 11.12722116]. \t  -13.177203060888006 \t -1.4149920024014744\n",
            "17     \t [10.          4.80310908]. \t  -5.1836895987670975 \t -1.4149920024014744\n",
            "18     \t [0.96825453 2.98230028]. \t  -17.994811333359575 \t -1.4149920024014744\n",
            "19     \t [10.         1.2353938]. \t  -5.067418935910082 \t -1.4149920024014744\n",
            "20     \t [4.19520379 3.51081173]. \t  -8.916050132306102 \t -1.4149920024014744\n"
          ],
          "name": "stdout"
        }
      ]
    },
    {
      "cell_type": "code",
      "metadata": {
        "colab": {
          "base_uri": "https://localhost:8080/"
        },
        "id": "vCJzn4vWGCs3",
        "outputId": "1eeba4c3-ab4e-4de1-9179-e012b1131595"
      },
      "source": [
        "### ESTIMATED GP EI GRADIENTS\n",
        "\n",
        "np.random.seed(run_num_15)\n",
        "surrogate_approx_15 = GaussianProcess(cov_func, optimize=opt)\n",
        "\n",
        "approx_15 = GPGO(surrogate_approx_15, Acquisition(util_grad_approx), objfunc, param)\n",
        "approx_15.run(init_evals=n_init, max_iter=iters)\n"
      ],
      "execution_count": 26,
      "outputs": [
        {
          "output_type": "stream",
          "text": [
            "Evaluation \t Proposed point \t  Current eval. \t Best eval.\n",
            "init   \t [7.73226546 2.68343887]. \t  -12.768724532005583 \t -12.768724532005583\n",
            "init   \t [-4.18455179  5.42307669]. \t  -95.39334176626551 \t -12.768724532005583\n",
            "init   \t [-0.86898607  7.95000337]. \t  -16.419487782111716 \t -12.768724532005583\n",
            "init   \t [-0.41121626  4.56711539]. \t  -23.250362743740954 \t -12.768724532005583\n",
            "init   \t [-3.32388086  3.74848521]. \t  -80.99796277938532 \t -12.768724532005583\n",
            "1      \t [ 6.44369262 14.11318321]. \t  -188.60210814630312 \t -12.768724532005583\n",
            "2      \t [-4.79844257 15.        ]. \t  -13.422010816783201 \t -12.768724532005583\n",
            "3      \t [10.          7.77588884]. \t  -24.72402279647976 \t -12.768724532005583\n",
            "4      \t [2.82282728 0.        ]. \t  \u001b[92m-7.316554287678703\u001b[0m \t -7.316554287678703\n",
            "5      \t [ 0.46549494 13.40537109]. \t  -84.4862131471065 \t -7.316554287678703\n",
            "6      \t [4.50952792 8.16052408]. \t  -53.09738757367675 \t -7.316554287678703\n",
            "7      \t [-5.         10.41329741]. \t  -58.611678607638595 \t -7.316554287678703\n",
            "8      \t [-1.11782388  0.        ]. \t  -77.25368174404295 \t -7.316554287678703\n",
            "9      \t [3.79188383 3.80740748]. \t  \u001b[92m-6.297488441485162\u001b[0m \t -6.297488441485162\n",
            "10     \t [10.  0.]. \t  -10.960889035651505 \t -6.297488441485162\n",
            "11     \t [10.        11.6983054]. \t  -77.55223128279921 \t -6.297488441485162\n",
            "12     \t [-5.  0.]. \t  -308.12909601160663 \t -6.297488441485162\n",
            "13     \t [6.00093923 0.        ]. \t  -20.43505628790286 \t -6.297488441485162\n",
            "14     \t [7.18646382 5.74494392]. \t  -36.29128990520782 \t -6.297488441485162\n",
            "15     \t [ 3.52411836 11.472272  ]. \t  -90.89944330246465 \t -6.297488441485162\n",
            "16     \t [10.          4.19696432]. \t  \u001b[92m-3.368795097118179\u001b[0m \t -3.368795097118179\n",
            "17     \t [10. 15.]. \t  -145.87219087939556 \t -3.368795097118179\n",
            "18     \t [-1.68371737 10.77559849]. \t  -11.909723049756376 \t -3.368795097118179\n",
            "19     \t [7.18412072 9.92007307]. \t  -91.41767859293532 \t -3.368795097118179\n",
            "20     \t [2.03815398 6.135088  ]. \t  -13.752464609443821 \t -3.368795097118179\n"
          ],
          "name": "stdout"
        }
      ]
    },
    {
      "cell_type": "code",
      "metadata": {
        "colab": {
          "base_uri": "https://localhost:8080/"
        },
        "id": "bGGkhp-kGCw6",
        "outputId": "f7998b3d-2511-4db8-f6a7-eebf0d764587"
      },
      "source": [
        "### ESTIMATED GP EI GRADIENTS\n",
        "\n",
        "np.random.seed(run_num_16)\n",
        "surrogate_approx_16 = GaussianProcess(cov_func, optimize=opt)\n",
        "\n",
        "approx_16 = GPGO(surrogate_approx_16, Acquisition(util_grad_approx), objfunc, param)\n",
        "approx_16.run(init_evals=n_init, max_iter=iters)\n"
      ],
      "execution_count": 27,
      "outputs": [
        {
          "output_type": "stream",
          "text": [
            "Evaluation \t Proposed point \t  Current eval. \t Best eval.\n",
            "init   \t [-1.65063381  7.84745012]. \t  -10.514702126319445 \t -2.715864006988424\n",
            "init   \t [3.26052185 0.68402925]. \t  -2.715864006988424 \t -2.715864006988424\n",
            "init   \t [0.41093253 3.34621413]. \t  -22.889515127492515 \t -2.715864006988424\n",
            "init   \t [5.33089243 2.45597138]. \t  -17.178157611778595 \t -2.715864006988424\n",
            "init   \t [-3.945127  14.1151629]. \t  -3.3649224341694195 \t -2.715864006988424\n",
            "1      \t [ 5.63879248 14.58068289]. \t  -198.51319639462758 \t -2.715864006988424\n",
            "2      \t [9.91844219 8.81695252]. \t  -36.28422213736768 \t -2.715864006988424\n",
            "3      \t [-4.79859594  0.        ]. \t  -286.78105858747693 \t -2.715864006988424\n",
            "4      \t [3.81408659 8.61177775]. \t  -48.766704850031 \t -2.715864006988424\n",
            "5      \t [10.  0.]. \t  -10.960889035651505 \t -2.715864006988424\n",
            "6      \t [ 0.44391888 12.69865484]. \t  -73.13164220805213 \t -2.715864006988424\n",
            "7      \t [-5.          5.13899229]. \t  -157.88691797579548 \t -2.715864006988424\n",
            "8      \t [10.         4.2682766]. \t  -3.54417535675414 \t -2.715864006988424\n",
            "9      \t [-5.         10.32671612]. \t  -59.792189151288454 \t -2.715864006988424\n",
            "10     \t [10.         13.26461567]. \t  -107.2447873223146 \t -2.715864006988424\n",
            "11     \t [6.96068526 5.95677145]. \t  -40.29072338303703 \t -2.715864006988424\n",
            "12     \t [-0.32961053  0.        ]. \t  -61.83885216164565 \t -2.715864006988424\n",
            "13     \t [ 6.82622134 10.65931328]. \t  -108.5455303017713 \t -2.715864006988424\n",
            "14     \t [3.31979007 5.07480389]. \t  -9.162230281425373 \t -2.715864006988424\n",
            "15     \t [6.99195503 0.        ]. \t  -18.699625704219592 \t -2.715864006988424\n",
            "16     \t [0.87219172 6.69048846]. \t  -20.09738956200713 \t -2.715864006988424\n",
            "17     \t [-1.9866179 15.       ]. \t  -34.51265554160604 \t -2.715864006988424\n",
            "18     \t [8.52927322 2.67929763]. \t  -4.730349637572919 \t -2.715864006988424\n",
            "19     \t [-5. 15.]. \t  -17.508299515778166 \t -2.715864006988424\n",
            "20     \t [-1.76824828 10.39782081]. \t  -9.50790168258634 \t -2.715864006988424\n"
          ],
          "name": "stdout"
        }
      ]
    },
    {
      "cell_type": "code",
      "metadata": {
        "id": "Yrs2mp7hGC1Z",
        "colab": {
          "base_uri": "https://localhost:8080/"
        },
        "outputId": "71d471da-358b-4355-8eea-b0c962f88fc9"
      },
      "source": [
        "### ESTIMATED GP EI GRADIENTS\n",
        "\n",
        "np.random.seed(run_num_17)\n",
        "surrogate_approx_17 = GaussianProcess(cov_func, optimize=opt)\n",
        "\n",
        "approx_17 = GPGO(surrogate_approx_17, Acquisition(util_grad_approx), objfunc, param)\n",
        "approx_17.run(init_evals=n_init, max_iter=iters)\n"
      ],
      "execution_count": 28,
      "outputs": [
        {
          "output_type": "stream",
          "text": [
            "Evaluation \t Proposed point \t  Current eval. \t Best eval.\n",
            "init   \t [-0.58002496  7.95880133]. \t  -19.016141117164256 \t -19.016141117164256\n",
            "init   \t [-2.1271882   1.01850537]. \t  -85.05949339404415 \t -19.016141117164256\n",
            "init   \t [6.8047819  9.84500283]. \t  -93.89792695202516 \t -19.016141117164256\n",
            "init   \t [4.56281344 8.63404341]. \t  -60.50217141122736 \t -19.016141117164256\n",
            "init   \t [-4.41405626  5.36720407]. \t  -110.70834086593878 \t -19.016141117164256\n",
            "1      \t [10.  0.]. \t  \u001b[92m-10.960889035651505\u001b[0m \t -10.960889035651505\n",
            "2      \t [-4.6254625 15.       ]. \t  \u001b[92m-10.433218359909354\u001b[0m \t -10.433218359909354\n",
            "3      \t [ 2.13775952 15.        ]. \t  -144.36571223765986 \t -10.433218359909354\n",
            "4      \t [10. 15.]. \t  -145.87219087939556 \t -10.433218359909354\n",
            "5      \t [4.33245489 0.        ]. \t  \u001b[92m-8.77833321061879\u001b[0m \t -8.77833321061879\n",
            "6      \t [10.          5.23799378]. \t  \u001b[92m-6.9385318265124925\u001b[0m \t -6.9385318265124925\n",
            "7      \t [-5.         10.43936201]. \t  -58.25923149903159 \t -6.9385318265124925\n",
            "8      \t [2.22930361 4.05972038]. \t  \u001b[92m-5.056779526589618\u001b[0m \t -5.056779526589618\n",
            "9      \t [6.25561109 3.78338802]. \t  -26.80321767574614 \t -5.056779526589618\n",
            "10     \t [-1.10952057 12.04965534]. \t  -31.28752175381043 \t -5.056779526589618\n",
            "11     \t [ 6.05336035 13.8979508 ]. \t  -183.14977791252898 \t -5.056779526589618\n",
            "12     \t [1.4024169 0.       ]. \t  -27.786142455688946 \t -5.056779526589618\n",
            "13     \t [10.          8.21799432]. \t  -29.139759047775705 \t -5.056779526589618\n",
            "14     \t [-0.55709851  4.5360587 ]. \t  -23.86557697822957 \t -5.056779526589618\n",
            "15     \t [ 2.10433196 11.07507459]. \t  -66.77306758542363 \t -5.056779526589618\n",
            "16     \t [7.12211142 0.        ]. \t  -17.89933501696511 \t -5.056779526589618\n",
            "17     \t [-1.76053939 15.        ]. \t  -41.80122854389079 \t -5.056779526589618\n",
            "18     \t [10.          2.72526762]. \t  \u001b[92m-2.0202518349282093\u001b[0m \t -2.0202518349282093\n",
            "19     \t [10.         11.40692499]. \t  -72.56982526462113 \t -2.0202518349282093\n",
            "20     \t [2.12160756 6.45693569]. \t  -15.5505568974713 \t -2.0202518349282093\n"
          ],
          "name": "stdout"
        }
      ]
    },
    {
      "cell_type": "code",
      "metadata": {
        "id": "f0HIEP3PIUEa",
        "colab": {
          "base_uri": "https://localhost:8080/"
        },
        "outputId": "96eb19a9-cbb8-4806-a83c-614c12d95a08"
      },
      "source": [
        "### ESTIMATED GP EI GRADIENTS\n",
        "\n",
        "np.random.seed(run_num_18)\n",
        "surrogate_approx_18 = GaussianProcess(cov_func, optimize=opt)\n",
        "\n",
        "approx_18 = GPGO(surrogate_approx_18, Acquisition(util_grad_approx), objfunc, param)\n",
        "approx_18.run(init_evals=n_init, max_iter=iters)\n"
      ],
      "execution_count": 29,
      "outputs": [
        {
          "output_type": "stream",
          "text": [
            "Evaluation \t Proposed point \t  Current eval. \t Best eval.\n",
            "init   \t [4.75561363 7.58180061]. \t  -49.215059064668324 \t -8.150075223157177\n",
            "init   \t [8.17902206 2.72760338]. \t  -8.150075223157177 \t -8.150075223157177\n",
            "init   \t [ 7.78349603 11.25204429]. \t  -106.98107856533271 \t -8.150075223157177\n",
            "init   \t [ 4.99152501 14.81843172]. \t  -196.08601750690153 \t -8.150075223157177\n",
            "init   \t [-1.14547366  0.42458888]. \t  -71.23649635555944 \t -8.150075223157177\n",
            "1      \t [-4.83474958 11.77354131]. \t  -35.58412906267954 \t -8.150075223157177\n",
            "2      \t [-4.3294464   5.61430449]. \t  -100.45699054630283 \t -8.150075223157177\n",
            "3      \t [ 0.51275923 11.10460609]. \t  -53.020724598536006 \t -8.150075223157177\n",
            "4      \t [4.16816792 0.        ]. \t  \u001b[92m-7.622384903229538\u001b[0m \t -7.622384903229538\n",
            "5      \t [10.          7.20264219]. \t  -19.580499656524992 \t -7.622384903229538\n",
            "6      \t [0.68815102 5.04168539]. \t  -17.42261558796049 \t -7.622384903229538\n",
            "7      \t [-1.72921987 15.        ]. \t  -42.84319715187649 \t -7.622384903229538\n",
            "8      \t [10. 15.]. \t  -145.87219087939556 \t -7.622384903229538\n",
            "9      \t [-5.          1.24200756]. \t  -266.9780170194058 \t -7.622384903229538\n",
            "10     \t [4.41908142 3.51927413]. \t  -11.343556041356456 \t -7.622384903229538\n",
            "11     \t [10.  0.]. \t  -10.960889035651505 \t -7.622384903229538\n",
            "12     \t [-2.37002081  8.88176695]. \t  \u001b[92m-5.72808405213056\u001b[0m \t -5.72808405213056\n",
            "13     \t [6.95600895 0.        ]. \t  -18.90163505117335 \t -5.72808405213056\n",
            "14     \t [ 3.9798879  11.01130369]. \t  -90.05524484920635 \t -5.72808405213056\n",
            "15     \t [-5. 15.]. \t  -17.508299515778166 \t -5.72808405213056\n",
            "16     \t [7.36750134 5.36647591]. \t  -31.136154737852188 \t -5.72808405213056\n",
            "17     \t [1.97124129 1.95002408]. \t  -8.25801035753311 \t -5.72808405213056\n",
            "18     \t [1.17366787 7.88013606]. \t  -26.459693239294232 \t -5.72808405213056\n",
            "19     \t [ 1.38740769 15.        ]. \t  -131.86084219290987 \t -5.72808405213056\n",
            "20     \t [-5.          8.84332938]. \t  -82.34660136328705 \t -5.72808405213056\n"
          ],
          "name": "stdout"
        }
      ]
    },
    {
      "cell_type": "code",
      "metadata": {
        "id": "S3mxRQDLIUPC",
        "colab": {
          "base_uri": "https://localhost:8080/"
        },
        "outputId": "c5c2cda7-bdb8-4711-defb-c398ca90720f"
      },
      "source": [
        "### ESTIMATED GP EI GRADIENTS\n",
        "\n",
        "np.random.seed(run_num_19)\n",
        "surrogate_approx_19 = GaussianProcess(cov_func, optimize=opt)\n",
        "\n",
        "approx_19 = GPGO(surrogate_approx_19, Acquisition(util_grad_approx), objfunc, param)\n",
        "approx_19.run(init_evals=n_init, max_iter=iters)\n"
      ],
      "execution_count": 30,
      "outputs": [
        {
          "output_type": "stream",
          "text": [
            "Evaluation \t Proposed point \t  Current eval. \t Best eval.\n",
            "init   \t [-3.53699597 11.41874575]. \t  -4.475608269502271 \t -4.475608269502271\n",
            "init   \t [-1.2959304   2.07197531]. \t  -51.13947793770689 \t -4.475608269502271\n",
            "init   \t [-0.02830155  1.24499348]. \t  -42.63973921760034 \t -4.475608269502271\n",
            "init   \t [ 5.07965622 12.09890697]. \t  -131.17235664506808 \t -4.475608269502271\n",
            "init   \t [9.74112872 9.53491102]. \t  -46.84458913925112 \t -4.475608269502271\n",
            "1      \t [8.6773951  0.80876842]. \t  \u001b[92m-4.184707152540867\u001b[0m \t -4.184707152540867\n",
            "2      \t [4.45041553 5.47999855]. \t  -23.54840201771013 \t -4.184707152540867\n",
            "3      \t [-5.          6.34985382]. \t  -130.17529401788659 \t -4.184707152540867\n",
            "4      \t [ 0.0873144 15.       ]. \t  -103.06821773257954 \t -4.184707152540867\n",
            "5      \t [10. 15.]. \t  -145.87219087939556 \t -4.184707152540867\n",
            "6      \t [0.38615144 8.6436678 ]. \t  -29.386080997722466 \t -4.184707152540867\n",
            "7      \t [4.52927623 0.        ]. \t  -10.329659446180516 \t -4.184707152540867\n",
            "8      \t [10.          4.77775304]. \t  -5.0930430616415485 \t -4.184707152540867\n",
            "9      \t [-5. 15.]. \t  -17.508299515778166 \t -4.184707152540867\n",
            "10     \t [-5.  0.]. \t  -308.12909601160663 \t -4.184707152540867\n",
            "11     \t [0.87690023 5.09927128]. \t  -16.297379330348566 \t -4.184707152540867\n",
            "12     \t [7.03894792 3.18274589]. \t  -20.927761063267077 \t -4.184707152540867\n",
            "13     \t [6.31498789 8.27590644]. \t  -71.07448820748486 \t -4.184707152540867\n",
            "14     \t [3.14942604 2.54652035]. \t  \u001b[92m-0.47525558225881426\u001b[0m \t -0.47525558225881426\n",
            "15     \t [ 1.34143153 11.64567908]. \t  -69.15805867652578 \t -0.47525558225881426\n",
            "16     \t [-2.72757155  9.18806926]. \t  -5.678510435253411 \t -0.47525558225881426\n",
            "17     \t [ 3.55278946 15.        ]. \t  -170.81850897929945 \t -0.47525558225881426\n",
            "18     \t [10.         2.3524637]. \t  -2.3662816781093357 \t -0.47525558225881426\n",
            "19     \t [-5.         10.02508797]. \t  -64.0218952296447 \t -0.47525558225881426\n",
            "20     \t [-2.54379641 12.57903117]. \t  -4.934481076732693 \t -0.47525558225881426\n"
          ],
          "name": "stdout"
        }
      ]
    },
    {
      "cell_type": "code",
      "metadata": {
        "id": "Aawd59dRIUYn",
        "colab": {
          "base_uri": "https://localhost:8080/"
        },
        "outputId": "433e8e9b-1815-40f0-83db-91dda1db7d96"
      },
      "source": [
        "### ESTIMATED GP EI GRADIENTS\n",
        "\n",
        "np.random.seed(run_num_20)\n",
        "surrogate_approx_20 = GaussianProcess(cov_func, optimize=opt)\n",
        "\n",
        "approx_20 = GPGO(surrogate_approx_20, Acquisition(util_grad_approx), objfunc, param)\n",
        "approx_20.run(init_evals=n_init, max_iter=iters)\n"
      ],
      "execution_count": 31,
      "outputs": [
        {
          "output_type": "stream",
          "text": [
            "Evaluation \t Proposed point \t  Current eval. \t Best eval.\n",
            "init   \t [ 3.82196202 13.46570592]. \t  -138.5264349938869 \t -14.042667401507376\n",
            "init   \t [ 8.37296094 12.23756216]. \t  -115.63178540512689 \t -14.042667401507376\n",
            "init   \t [-4.46165622 10.37636373]. \t  -35.66708529307584 \t -14.042667401507376\n",
            "init   \t [0.68021413 7.77766418]. \t  -25.307769914281764 \t -14.042667401507376\n",
            "init   \t [4.86927198 2.90775327]. \t  -14.042667401507376 \t -14.042667401507376\n",
            "1      \t [-4.88337277  1.15554411]. \t  -258.03874991509736 \t -14.042667401507376\n",
            "2      \t [10.          5.67308311]. \t  \u001b[92m-9.072716233411997\u001b[0m \t -9.072716233411997\n",
            "3      \t [9.84832611 0.06591567]. \t  \u001b[92m-9.027847655844058\u001b[0m \t -9.027847655844058\n",
            "4      \t [-1.70866498 15.        ]. \t  -43.53068468679724 \t -9.027847655844058\n",
            "5      \t [0.11401177 1.25905543]. \t  -40.34403021450308 \t -9.027847655844058\n",
            "6      \t [6.34167483 7.90009461]. \t  -65.79565375919643 \t -9.027847655844058\n",
            "7      \t [-3.52279418  5.91051374]. \t  -54.3680517740781 \t -9.027847655844058\n",
            "8      \t [-0.1848059  11.40919125]. \t  -45.5573656393724 \t -9.027847655844058\n",
            "9      \t [6.44407639 0.        ]. \t  -20.706796158679435 \t -9.027847655844058\n",
            "10     \t [1.92173517 4.53655254]. \t  \u001b[92m-7.948918546291848\u001b[0m \t -7.948918546291848\n",
            "11     \t [-5.         14.08925918]. \t  -22.321984249993857 \t -7.948918546291848\n",
            "12     \t [8.3426774  3.06196412]. \t  \u001b[92m-7.310425890385614\u001b[0m \t -7.310425890385614\n",
            "13     \t [10.          8.78276435]. \t  -35.349318268169796 \t -7.310425890385614\n",
            "14     \t [3.22054292 0.        ]. \t  \u001b[92m-5.330634712932251\u001b[0m \t -5.330634712932251\n",
            "15     \t [3.29040332 9.72739009]. \t  -57.74202036956133 \t -5.330634712932251\n",
            "16     \t [10. 15.]. \t  -145.87219087939556 \t -5.330634712932251\n",
            "17     \t [-0.67741045  4.42648342]. \t  -24.831090235816156 \t -5.330634712932251\n",
            "18     \t [3.81886761 5.90554444]. \t  -19.322858995875393 \t -5.330634712932251\n",
            "19     \t [-2.00719238  8.71701415]. \t  -6.937407242150097 \t -5.330634712932251\n",
            "20     \t [6.97723007 4.81293023]. \t  -30.54762029665723 \t -5.330634712932251\n"
          ],
          "name": "stdout"
        }
      ]
    },
    {
      "cell_type": "code",
      "metadata": {
        "id": "xkgzPRbBTHaq",
        "colab": {
          "base_uri": "https://localhost:8080/"
        },
        "outputId": "d8376898-7fb2-4b8e-a871-daaf67b6a922"
      },
      "source": [
        "end_approx = time.time()\n",
        "end_approx\n",
        "\n",
        "time_approx = end_approx - start_approx\n",
        "time_approx\n",
        "\n",
        "start_exact = time.time()\n",
        "start_exact"
      ],
      "execution_count": 32,
      "outputs": [
        {
          "output_type": "execute_result",
          "data": {
            "text/plain": [
              "1629285619.672356"
            ]
          },
          "metadata": {
            "tags": []
          },
          "execution_count": 32
        }
      ]
    },
    {
      "cell_type": "code",
      "metadata": {
        "id": "7CG3Ndvb16Rb",
        "colab": {
          "base_uri": "https://localhost:8080/"
        },
        "outputId": "cdcee02b-d771-408a-d93f-e20a01a96966"
      },
      "source": [
        "### EXACT GP EI GRADIENTS\n",
        "\n",
        "np.random.seed(run_num_1)\n",
        "surrogate_exact_1 = dGaussianProcess(cov_func, optimize=opt)\n",
        "\n",
        "exact_1 = dGPGO(surrogate_exact_1, Acquisition_new(util_grad_exact), objfunc, param)\n",
        "exact_1.run(init_evals=n_init, max_iter=iters)\n"
      ],
      "execution_count": 33,
      "outputs": [
        {
          "output_type": "stream",
          "text": [
            "Evaluation \t Proposed point \t  Current eval. \t Best eval.\n",
            "init   \t [ 1.25533007 10.8048674 ]. \t  -56.52874004692151 \t -27.68166689936483\n",
            "init   \t [-4.99828438  4.53498859]. \t  -172.66531086516164 \t -27.68166689936483\n",
            "init   \t [-2.79866164  1.38507892]. \t  -102.58290348816024 \t -27.68166689936483\n",
            "init   \t [-2.20609683  5.18341091]. \t  -28.868064601155666 \t -27.68166689936483\n",
            "init   \t [0.95151211 8.08225101]. \t  -27.68166689936483 \t -27.68166689936483\n",
            "1      \t [8.41909995 1.27566317]. \t  \u001b[92m-5.089934878453152\u001b[0m \t -5.089934878453152\n",
            "2      \t [10. 15.]. \t  -145.87219087939556 \t -5.089934878453152\n",
            "3      \t [7.89233981 8.37774826]. \t  -57.131706721493586 \t -5.089934878453152\n",
            "4      \t [-4.02890025 14.87019763]. \t  \u001b[92m-4.066623147608248\u001b[0m \t -4.066623147608248\n",
            "5      \t [3.04012742 0.5978989 ]. \t  \u001b[92m-3.5362887887138523\u001b[0m \t -3.5362887887138523\n",
            "6      \t [ 4.44913092 15.        ]. \t  -190.3953679346135 \t -3.5362887887138523\n",
            "7      \t [4.73772708 4.55848917]. \t  -20.477725446029027 \t -3.5362887887138523\n",
            "8      \t [-3.67717032 10.25565504]. \t  -12.921573514571422 \t -3.5362887887138523\n",
            "9      \t [-0.3086963 15.       ]. \t  -91.33676889082707 \t -3.5362887887138523\n",
            "10     \t [10.          4.69490839]. \t  -4.805841493075933 \t -3.5362887887138523\n",
            "11     \t [1.47657173 2.93807405]. \t  -11.89054945333223 \t -3.5362887887138523\n",
            "12     \t [ 5.12477439 10.95630573]. \t  -108.3234728977888 \t -3.5362887887138523\n",
            "13     \t [10.         11.30517907]. \t  -70.87003845640035 \t -3.5362887887138523\n",
            "14     \t [5.62547099 0.78990107]. \t  -17.7180882826888 \t -3.5362887887138523\n",
            "15     \t [4.27001907 7.44530884]. \t  -40.53245165380566 \t -3.5362887887138523\n",
            "16     \t [7.83551898 4.76920518]. \t  -21.123388517467642 \t -3.5362887887138523\n",
            "17     \t [-2.65642153 12.6656372 ]. \t  -3.835337085495942 \t -3.5362887887138523\n",
            "18     \t [-4.92102224 12.48455939]. \t  -32.02233990682861 \t -3.5362887887138523\n",
            "19     \t [10.          2.37174098]. \t  \u001b[92m-2.3415738225220677\u001b[0m \t -2.3415738225220677\n",
            "20     \t [-3.72390491  7.85672318]. \t  -36.33776866735436 \t -2.3415738225220677\n"
          ],
          "name": "stdout"
        }
      ]
    },
    {
      "cell_type": "code",
      "metadata": {
        "id": "-ilCPSAu9SAg",
        "colab": {
          "base_uri": "https://localhost:8080/"
        },
        "outputId": "5e2337ad-a1d1-404a-c8dc-9fe3ef1c1603"
      },
      "source": [
        "### EXACT GP EI GRADIENTS\n",
        "\n",
        "np.random.seed(run_num_2)\n",
        "surrogate_exact_2 = dGaussianProcess(cov_func, optimize=opt)\n",
        "\n",
        "exact_2 = dGPGO(surrogate_exact_2, Acquisition_new(util_grad_exact), objfunc, param)\n",
        "exact_2.run(init_evals=n_init, max_iter=iters)\n"
      ],
      "execution_count": 34,
      "outputs": [
        {
          "output_type": "stream",
          "text": [
            "Evaluation \t Proposed point \t  Current eval. \t Best eval.\n",
            "init   \t [1.53992353 0.38889348]. \t  -22.31361308916297 \t -6.692051508754487\n",
            "init   \t [3.24493717 6.52983589]. \t  -19.233109967858276 \t -6.692051508754487\n",
            "init   \t [1.30551703 4.95502232]. \t  -13.177851563387286 \t -6.692051508754487\n",
            "init   \t [-1.93027049  9.2890645 ]. \t  -6.692051508754487 \t -6.692051508754487\n",
            "init   \t [-0.50517989  4.00240913]. \t  -26.437522758780958 \t -6.692051508754487\n",
            "1      \t [10.         14.04305153]. \t  -123.82683657114976 \t -6.692051508754487\n",
            "2      \t [9.06869679 2.0164014 ]. \t  \u001b[92m-1.0307174678975652\u001b[0m \t -1.0307174678975652\n",
            "3      \t [-0.16427306 14.97419295]. \t  -95.32402138742069 \t -1.0307174678975652\n",
            "4      \t [9.1218473  7.52213687]. \t  -28.8277818749712 \t -1.0307174678975652\n",
            "5      \t [ 4.93365968 11.54871316]. \t  -117.30104137650083 \t -1.0307174678975652\n",
            "6      \t [-4.64031377  1.17767303]. \t  -233.9871201335698 \t -1.0307174678975652\n",
            "7      \t [-4.72522351  6.10902515]. \t  -116.12672070287879 \t -1.0307174678975652\n",
            "8      \t [-4.87542912 12.76786652]. \t  -28.06097426382346 \t -1.0307174678975652\n",
            "9      \t [5.50030399 2.52346298]. \t  -18.68150916124366 \t -1.0307174678975652\n",
            "10     \t [ 1.02176992 10.6524892 ]. \t  -52.757405971360214 \t -1.0307174678975652\n",
            "11     \t [10.         4.1445397]. \t  -3.2463526216344682 \t -1.0307174678975652\n",
            "12     \t [ 6.14211144 15.        ]. \t  -212.77008728799152 \t -1.0307174678975652\n",
            "13     \t [6.18573684 6.27184085]. \t  -46.32389379658289 \t -1.0307174678975652\n",
            "14     \t [8.95986258 0.07527727]. \t  -5.560237142491192 \t -1.0307174678975652\n",
            "15     \t [ 8.48673599 10.7384607 ]. \t  -84.26393091993125 \t -1.0307174678975652\n",
            "16     \t [0.27043596 7.54421136]. \t  -23.115034262320023 \t -1.0307174678975652\n",
            "17     \t [6.60860825 0.09151979]. \t  -20.164247768262342 \t -1.0307174678975652\n",
            "18     \t [10.          2.24672787]. \t  -2.51502255651436 \t -1.0307174678975652\n",
            "19     \t [-1.82071372 12.06276638]. \t  -15.115045340281949 \t -1.0307174678975652\n",
            "20     \t [8.10386391 3.93765427]. \t  -13.154907336201116 \t -1.0307174678975652\n"
          ],
          "name": "stdout"
        }
      ]
    },
    {
      "cell_type": "code",
      "metadata": {
        "id": "XieJ158mIvlP",
        "colab": {
          "base_uri": "https://localhost:8080/"
        },
        "outputId": "32182014-28dc-4c02-9bed-5d442b6ff30c"
      },
      "source": [
        "### EXACT GP EI GRADIENTS\n",
        "\n",
        "np.random.seed(run_num_3)\n",
        "surrogate_exact_3 = dGaussianProcess(cov_func, optimize=opt)\n",
        "\n",
        "exact_3 = dGPGO(surrogate_exact_3, Acquisition_new(util_grad_exact), objfunc, param)\n",
        "exact_3.run(init_evals=n_init, max_iter=iters)\n"
      ],
      "execution_count": 35,
      "outputs": [
        {
          "output_type": "stream",
          "text": [
            "Evaluation \t Proposed point \t  Current eval. \t Best eval.\n",
            "init   \t [ 3.26196854 10.62221734]. \t  -71.68783452098575 \t -18.07886746449891\n",
            "init   \t [-0.63642892  7.66241408]. \t  -18.07886746449891 \t -18.07886746449891\n",
            "init   \t [ 8.39420432 13.44439633]. \t  -141.98653529865882 \t -18.07886746449891\n",
            "init   \t [-3.11622034  3.10864317]. \t  -83.31045707266176 \t -18.07886746449891\n",
            "init   \t [-4.22799195  6.61214765]. \t  -76.5294170688398 \t -18.07886746449891\n",
            "1      \t [6.70472147 4.59545299]. \t  -30.726791812855225 \t -18.07886746449891\n",
            "2      \t [-4.80375785 13.29726611]. \t  -21.95985477078912 \t -18.07886746449891\n",
            "3      \t [2.48207828 1.0517852 ]. \t  \u001b[92m-5.629026203897858\u001b[0m \t -5.629026203897858\n",
            "4      \t [ 0.14844583 15.        ]. \t  -104.75240974675043 \t -5.629026203897858\n",
            "5      \t [10.          8.34422751]. \t  -30.472315562750353 \t -5.629026203897858\n",
            "6      \t [8.07001468 0.08627427]. \t  -10.141183023936915 \t -5.629026203897858\n",
            "7      \t [2.60292614 5.46656783]. \t  -9.23236149779591 \t -5.629026203897858\n",
            "8      \t [ 4.39649843 15.        ]. \t  -189.27269020736787 \t -5.629026203897858\n",
            "9      \t [-1.66647537 11.23629833]. \t  -14.034448434228693 \t -5.629026203897858\n",
            "10     \t [10.          3.06120377]. \t  \u001b[92m-1.9465333945909666\u001b[0m \t -1.9465333945909666\n",
            "11     \t [6.59378971 9.16286441]. \t  -83.79251517066842 \t -1.9465333945909666\n",
            "12     \t [-0.10714423  0.2501376 ]. \t  -54.61560310870331 \t -1.9465333945909666\n",
            "13     \t [10.          5.13035928]. \t  -6.468982792241709 \t -1.9465333945909666\n",
            "14     \t [5.01619175 0.09879444]. \t  -14.237294831222712 \t -1.9465333945909666\n",
            "15     \t [-4.51378486 10.04255492]. \t  -41.43757984784179 \t -1.9465333945909666\n",
            "16     \t [0.42374233 3.81924962]. \t  -21.092360186077578 \t -1.9465333945909666\n",
            "17     \t [10.          1.87865428]. \t  -3.2071963878768903 \t -1.9465333945909666\n",
            "18     \t [4.5584038  2.69642319]. \t  -10.132586355357006 \t -1.9465333945909666\n",
            "19     \t [4.03337587 7.22899374]. \t  -34.735750333472936 \t -1.9465333945909666\n",
            "20     \t [-3.5029469   0.07989511]. \t  -172.11471578237197 \t -1.9465333945909666\n"
          ],
          "name": "stdout"
        }
      ]
    },
    {
      "cell_type": "code",
      "metadata": {
        "id": "PhLBVOIfIvol",
        "colab": {
          "base_uri": "https://localhost:8080/"
        },
        "outputId": "a4926175-6293-4046-8482-fd5365cb3139"
      },
      "source": [
        "### EXACT GP EI GRADIENTS\n",
        "\n",
        "np.random.seed(run_num_4)\n",
        "surrogate_exact_4 = dGaussianProcess(cov_func, optimize=opt)\n",
        "\n",
        "exact_4 = dGPGO(surrogate_exact_4, Acquisition_new(util_grad_exact), objfunc, param)\n",
        "exact_4.run(init_evals=n_init, max_iter=iters)\n"
      ],
      "execution_count": 36,
      "outputs": [
        {
          "output_type": "stream",
          "text": [
            "Evaluation \t Proposed point \t  Current eval. \t Best eval.\n",
            "init   \t [9.50544759 8.20848374]. \t  -32.51676744781521 \t -7.247126865776948\n",
            "init   \t [ 9.5902654  10.72223991]. \t  -66.20566674364716 \t -7.247126865776948\n",
            "init   \t [5.46593237 3.24134243]. \t  -20.90089401680587 \t -7.247126865776948\n",
            "init   \t [9.64411682 0.09345383]. \t  -7.247126865776948 \t -7.247126865776948\n",
            "init   \t [-1.20526456  6.52187299]. \t  -15.941376982363263 \t -7.247126865776948\n",
            "1      \t [ 0.5775056  14.31328634]. \t  -102.48870217898984 \t -7.247126865776948\n",
            "2      \t [-0.13367617  0.17881992]. \t  -55.952651178085794 \t -7.247126865776948\n",
            "3      \t [3.72690551 9.1691185 ]. \t  -55.378612699060426 \t -7.247126865776948\n",
            "4      \t [ 6.1778888 15.       ]. \t  -212.8122931696868 \t -7.247126865776948\n",
            "5      \t [-4.10209196 14.15027049]. \t  \u001b[92m-4.801871416019723\u001b[0m \t -4.801871416019723\n",
            "6      \t [-4.04591226  3.00759296]. \t  -137.38197722313902 \t -4.801871416019723\n",
            "7      \t [-4.95336009  9.46492024]. \t  -69.87288098121975 \t -4.801871416019723\n",
            "8      \t [10.          3.97565972]. \t  \u001b[92m-2.8892920062652694\u001b[0m \t -2.8892920062652694\n",
            "9      \t [-0.24351846 10.07242664]. \t  -32.840565180224615 \t -2.8892920062652694\n",
            "10     \t [1.7769477  3.86976979]. \t  -8.118581631473624 \t -2.8892920062652694\n",
            "11     \t [10. 15.]. \t  -145.87219087939556 \t -2.8892920062652694\n",
            "12     \t [4.23781244 0.35449007]. \t  -7.102684493676952 \t -2.8892920062652694\n",
            "13     \t [6.36610685 6.52857722]. \t  -49.000281428186604 \t -2.8892920062652694\n",
            "14     \t [8.38393978 2.38849573]. \t  -5.570628501586668 \t -2.8892920062652694\n",
            "15     \t [2.08331358 6.36299971]. \t  -15.013374677203975 \t -2.8892920062652694\n",
            "16     \t [-2.4343027  12.32832046]. \t  -5.552159920930843 \t -2.8892920062652694\n",
            "17     \t [ 3.54728443 12.51549901]. \t  -112.17657378562478 \t -2.8892920062652694\n",
            "18     \t [-0.49012857  3.41104202]. \t  -30.03205448492394 \t -2.8892920062652694\n",
            "19     \t [-4.03087348  6.37109176]. \t  -70.26306238023354 \t -2.8892920062652694\n",
            "20     \t [7.2556343  0.30076673]. \t  -16.315629352026164 \t -2.8892920062652694\n"
          ],
          "name": "stdout"
        }
      ]
    },
    {
      "cell_type": "code",
      "metadata": {
        "id": "arbiPyj2IvsJ",
        "colab": {
          "base_uri": "https://localhost:8080/"
        },
        "outputId": "8eb3edbe-7f48-4a6d-bb08-091d170f2a00"
      },
      "source": [
        "### EXACT GP EI GRADIENTS\n",
        "\n",
        "np.random.seed(run_num_5)\n",
        "surrogate_exact_5 = dGaussianProcess(cov_func, optimize=opt)\n",
        "\n",
        "exact_5 = dGPGO(surrogate_exact_5, Acquisition_new(util_grad_exact), objfunc, param)\n",
        "exact_5.run(init_evals=n_init, max_iter=iters)\n"
      ],
      "execution_count": 37,
      "outputs": [
        {
          "output_type": "stream",
          "text": [
            "Evaluation \t Proposed point \t  Current eval. \t Best eval.\n",
            "init   \t [-1.67010243 13.06098459]. \t  -25.390690545664548 \t -25.311309190989615\n",
            "init   \t [-1.89921267 13.77916362]. \t  -25.311309190989615 \t -25.311309190989615\n",
            "init   \t [2.32616783 9.17615794]. \t  -41.60147975414021 \t -25.311309190989615\n",
            "init   \t [6.48861785 7.77626982]. \t  -63.81281921768236 \t -25.311309190989615\n",
            "init   \t [-0.54799248  2.81581843]. \t  -34.966203644931994 \t -25.311309190989615\n",
            "1      \t [8.84124421 0.03321319]. \t  \u001b[92m-5.96108856337545\u001b[0m \t -5.96108856337545\n",
            "2      \t [10. 15.]. \t  -145.87219087939556 \t -5.96108856337545\n",
            "3      \t [-4.81236982  8.00518018]. \t  -85.70683082507513 \t -5.96108856337545\n",
            "4      \t [ 3.68731448 15.        ]. \t  -173.72008619074884 \t -5.96108856337545\n",
            "5      \t [4.3540436  1.43302077]. \t  -6.639752470693001 \t -5.96108856337545\n",
            "6      \t [10.         4.3384186]. \t  \u001b[92m-3.726599414432032\u001b[0m \t -3.726599414432032\n",
            "7      \t [10.         10.34364558]. \t  -55.82885532794446 \t -3.726599414432032\n",
            "8      \t [-4.98043179  0.55980336]. \t  -287.1471778290685 \t -3.726599414432032\n",
            "9      \t [2.80344935 5.142372  ]. \t  -7.644020027543006 \t -3.726599414432032\n",
            "10     \t [-0.62573279  6.59553195]. \t  -17.98618151585134 \t -3.726599414432032\n",
            "11     \t [7.01107351 3.49198577]. \t  -22.460465000062904 \t -3.726599414432032\n",
            "12     \t [-4.93202177 11.79776385]. \t  -39.07158146342451 \t -3.726599414432032\n",
            "13     \t [ 6.54449883 11.77633615]. \t  -132.8946145300265 \t -3.726599414432032\n",
            "14     \t [-1.58956644  9.94180262]. \t  -10.998122378137056 \t -3.726599414432032\n",
            "15     \t [-3.84520421  4.5253241 ]. \t  -93.01529745612878 \t -3.726599414432032\n",
            "16     \t [1.64965277 0.57437946]. \t  -19.176641483327074 \t -3.726599414432032\n",
            "17     \t [10.          6.79470466]. \t  -16.320493967640097 \t -3.726599414432032\n",
            "18     \t [ 1.41483694 12.1127615 ]. \t  -77.19786241776403 \t -3.726599414432032\n",
            "19     \t [10.          2.35066127]. \t  \u001b[92m-2.3686298636191747\u001b[0m \t -2.3686298636191747\n",
            "20     \t [2.53560791 3.21994598]. \t  \u001b[92m-2.2881847449924235\u001b[0m \t -2.2881847449924235\n"
          ],
          "name": "stdout"
        }
      ]
    },
    {
      "cell_type": "code",
      "metadata": {
        "id": "04KJCEm_Ivvf",
        "colab": {
          "base_uri": "https://localhost:8080/"
        },
        "outputId": "918938a8-1732-43bd-9e56-91fae68a65fa"
      },
      "source": [
        "### EXACT GP EI GRADIENTS\n",
        "\n",
        "np.random.seed(run_num_6)\n",
        "surrogate_exact_6 = dGaussianProcess(cov_func, optimize=opt)\n",
        "\n",
        "exact_6 = dGPGO(surrogate_exact_6, Acquisition_new(util_grad_exact), objfunc, param)\n",
        "exact_6.run(init_evals=n_init, max_iter=iters)\n"
      ],
      "execution_count": 38,
      "outputs": [
        {
          "output_type": "stream",
          "text": [
            "Evaluation \t Proposed point \t  Current eval. \t Best eval.\n",
            "init   \t [8.39290227 4.97969708]. \t  -15.553860636684597 \t -15.31731051317483\n",
            "init   \t [7.31843685 0.62544939]. \t  -15.31731051317483 \t -15.31731051317483\n",
            "init   \t [-3.3851498   8.92578096]. \t  -16.222288919361837 \t -15.31731051317483\n",
            "init   \t [2.94726043 6.28211143]. \t  -15.406373581304088 \t -15.31731051317483\n",
            "init   \t [0.03111774 9.33779148]. \t  -31.07053245856209 \t -15.31731051317483\n",
            "1      \t [10. 15.]. \t  -145.87219087939556 \t -15.31731051317483\n",
            "2      \t [-4.42013634  0.37777   ]. \t  -237.69785665817545 \t -15.31731051317483\n",
            "3      \t [ 3.61480227 14.3758058 ]. \t  -156.22942206205929 \t -15.31731051317483\n",
            "4      \t [1.3323845  0.68571175]. \t  -23.985019929250733 \t -15.31731051317483\n",
            "5      \t [-4.19302139 14.61872658]. \t  \u001b[92m-5.3403971656550695\u001b[0m \t -5.3403971656550695\n",
            "6      \t [7.50770981 9.99300926]. \t  -88.26011125495025 \t -5.3403971656550695\n",
            "7      \t [-1.62279135  4.70426902]. \t  -27.298264298415273 \t -5.3403971656550695\n",
            "8      \t [-0.73497405 15.        ]. \t  -77.34818375560101 \t -5.3403971656550695\n",
            "9      \t [ 3.58551993 10.08770624]. \t  -67.48158554456901 \t -5.3403971656550695\n",
            "10     \t [4.67107774 2.91669845]. \t  -11.951310378412849 \t -5.3403971656550695\n",
            "11     \t [10.          2.12606893]. \t  \u001b[92m-2.712072651958888\u001b[0m \t -2.712072651958888\n",
            "12     \t [-3.38835208 12.04723153]. \t  \u001b[92m-1.375416032836652\u001b[0m \t -1.375416032836652\n",
            "13     \t [10.         7.6637695]. \t  -23.66631751295187 \t -1.375416032836652\n",
            "14     \t [-4.65566608  4.20235074]. \t  -153.63509924651976 \t -1.375416032836652\n",
            "15     \t [5.75427318 6.89382444]. \t  -51.635140660420326 \t -1.375416032836652\n",
            "16     \t [-4.98165913 11.43081206]. \t  -45.08670756516714 \t -1.375416032836652\n",
            "17     \t [-2.18789192 11.93354526]. \t  -7.8035095769082625 \t -1.375416032836652\n",
            "18     \t [1.34044425 3.93185642]. \t  -12.220205585917487 \t -1.375416032836652\n",
            "19     \t [ 7.13709798 13.33755643]. \t  -163.11073954144774 \t -1.375416032836652\n",
            "20     \t [ 0.788788  12.1754507]. \t  -70.79605752265692 \t -1.375416032836652\n"
          ],
          "name": "stdout"
        }
      ]
    },
    {
      "cell_type": "code",
      "metadata": {
        "id": "tAOkme3CIvyO",
        "colab": {
          "base_uri": "https://localhost:8080/"
        },
        "outputId": "74c94170-e736-47c8-e190-256823cf52c1"
      },
      "source": [
        "### EXACT GP EI GRADIENTS\n",
        "\n",
        "np.random.seed(run_num_7)\n",
        "surrogate_exact_7 = dGaussianProcess(cov_func, optimize=opt)\n",
        "\n",
        "exact_7 = dGPGO(surrogate_exact_7, Acquisition_new(util_grad_exact), objfunc, param)\n",
        "exact_7.run(init_evals=n_init, max_iter=iters)\n"
      ],
      "execution_count": 39,
      "outputs": [
        {
          "output_type": "stream",
          "text": [
            "Evaluation \t Proposed point \t  Current eval. \t Best eval.\n",
            "init   \t [-3.85537566 11.69878188]. \t  -8.299317850233932 \t -5.211335324193094\n",
            "init   \t [ 1.57613847 10.85197767]. \t  -59.50408380701259 \t -5.211335324193094\n",
            "init   \t [9.66984268 8.07743806]. \t  -29.714921414987273 \t -5.211335324193094\n",
            "init   \t [2.51680695 1.080767  ]. \t  -5.211335324193094 \t -5.211335324193094\n",
            "init   \t [-0.9734153   7.49823751]. \t  -15.431057204948033 \t -5.211335324193094\n",
            "1      \t [ 6.7899837 15.       ]. \t  -210.23670723548415 \t -5.211335324193094\n",
            "2      \t [-4.2086631   0.70519748]. \t  -209.3213266373998 \t -5.211335324193094\n",
            "3      \t [9.84403446 2.23618575]. \t  \u001b[92m-1.607946967220208\u001b[0m \t -1.607946967220208\n",
            "4      \t [4.48885083 5.9470923 ]. \t  -28.01605577580937 \t -1.607946967220208\n",
            "5      \t [-0.88725868 15.        ]. \t  -72.10710205884752 \t -1.607946967220208\n",
            "6      \t [6.534031   0.76323316]. \t  -19.42611832770012 \t -1.607946967220208\n",
            "7      \t [-4.45991373  5.69427892]. \t  -107.07170905154733 \t -1.607946967220208\n",
            "8      \t [ 6.04719122 10.17092866]. \t  -101.6234670400019 \t -1.607946967220208\n",
            "9      \t [-0.08468058  3.46412015]. \t  -26.705043023858465 \t -1.607946967220208\n",
            "10     \t [10.         11.80067637]. \t  -79.34301364306405 \t -1.607946967220208\n",
            "11     \t [8.14704332 4.48180528]. \t  -15.484214404138509 \t -1.607946967220208\n",
            "12     \t [4.10879666 2.9271834 ]. \t  -6.202614816139943 \t -1.607946967220208\n",
            "13     \t [ 2.848809 15.      ]. \t  -156.69662023850748 \t -1.607946967220208\n",
            "14     \t [-0.30814506  0.37534919]. \t  -56.69419367047648 \t -1.607946967220208\n",
            "15     \t [-4.12505239 14.16441748]. \t  -5.037851363850817 \t -1.607946967220208\n",
            "16     \t [9.71589485 0.14743387]. \t  -7.479364161494503 \t -1.607946967220208\n",
            "17     \t [-4.82329542  9.71503157]. \t  -59.59979532011819 \t -1.607946967220208\n",
            "18     \t [-1.54819304 11.42657716]. \t  -17.254946239358247 \t -1.607946967220208\n",
            "19     \t [1.91455989 7.17311977]. \t  -20.801575139553407 \t -1.607946967220208\n",
            "20     \t [10. 15.]. \t  -145.87219087939556 \t -1.607946967220208\n"
          ],
          "name": "stdout"
        }
      ]
    },
    {
      "cell_type": "code",
      "metadata": {
        "id": "69-J3EF4Iv1S",
        "colab": {
          "base_uri": "https://localhost:8080/"
        },
        "outputId": "1902e0ce-2e8e-43f2-93bf-9e6015aa8c82"
      },
      "source": [
        "### EXACT GP EI GRADIENTS\n",
        "\n",
        "np.random.seed(run_num_8)\n",
        "surrogate_exact_8 = dGaussianProcess(cov_func, optimize=opt)\n",
        "\n",
        "exact_8 = dGPGO(surrogate_exact_8, Acquisition_new(util_grad_exact), objfunc, param)\n",
        "exact_8.run(init_evals=n_init, max_iter=iters)\n"
      ],
      "execution_count": 40,
      "outputs": [
        {
          "output_type": "stream",
          "text": [
            "Evaluation \t Proposed point \t  Current eval. \t Best eval.\n",
            "init   \t [ 8.10144104 14.52810994]. \t  -175.17297136347514 \t -15.416245468470875\n",
            "init   \t [8.0379181  7.96283537]. \t  -49.32173799887473 \t -15.416245468470875\n",
            "init   \t [-1.50907508  0.17098206]. \t  -83.26753461673219 \t -15.416245468470875\n",
            "init   \t [1.45703227 6.0352704 ]. \t  -15.416245468470875 \t -15.416245468470875\n",
            "init   \t [2.84012007 7.17587694]. \t  -22.49093277852639 \t -15.416245468470875\n",
            "1      \t [-4.98884166 14.83408411]. \t  -18.008434758014253 \t -15.416245468470875\n",
            "2      \t [6.2584639  0.79690936]. \t  -19.69061392229066 \t -15.416245468470875\n",
            "3      \t [-4.8401206   6.42823123]. \t  -117.34273274148853 \t -15.416245468470875\n",
            "4      \t [ 0.69118494 13.24534138]. \t  -86.01770116734858 \t -15.416245468470875\n",
            "5      \t [10.          3.47248178]. \t  \u001b[92m-2.163594551564506\u001b[0m \t -2.163594551564506\n",
            "6      \t [-3.05480493 10.66174686]. \t  -2.4098912383372877 \t -2.163594551564506\n",
            "7      \t [ 4.75801559 11.11496847]. \t  -105.7544124498669 \t -2.163594551564506\n",
            "8      \t [5.54660685 4.5747386 ]. \t  -28.86481098495119 \t -2.163594551564506\n",
            "9      \t [2.33129374 2.12922053]. \t  -4.12537668866829 \t -2.163594551564506\n",
            "10     \t [-0.53049873  8.9505561 ]. \t  -22.566772180137498 \t -2.163594551564506\n",
            "11     \t [-1.56266753  4.24950093]. \t  -30.808054706572833 \t -2.163594551564506\n",
            "12     \t [10.         11.01245986]. \t  -66.09528300168938 \t -2.163594551564506\n",
            "13     \t [9.99008953 0.12991645]. \t  -10.089797543288475 \t -2.163594551564506\n",
            "14     \t [ 4.63786608 15.        ]. \t  -194.31744211528854 \t -2.163594551564506\n",
            "15     \t [-2.82793717 12.73648295]. \t  -2.3125125563413 \t -2.163594551564506\n",
            "16     \t [-4.74510056 10.40854158]. \t  -46.94360796109902 \t -2.163594551564506\n",
            "17     \t [-4.75855824  3.07548087]. \t  -190.62647969758848 \t -2.163594551564506\n",
            "18     \t [10.          5.40904656]. \t  -7.73240952446136 \t -2.163594551564506\n",
            "19     \t [-2.13671141 15.        ]. \t  -29.94676564287036 \t -2.163594551564506\n",
            "20     \t [8.5326981  3.38709299]. \t  -6.410989161657845 \t -2.163594551564506\n"
          ],
          "name": "stdout"
        }
      ]
    },
    {
      "cell_type": "code",
      "metadata": {
        "id": "vonm9jyuIv4t",
        "colab": {
          "base_uri": "https://localhost:8080/"
        },
        "outputId": "44f1a5cf-b4fd-4d87-b278-f158ff32519c"
      },
      "source": [
        "### EXACT GP EI GRADIENTS\n",
        "\n",
        "np.random.seed(run_num_9)\n",
        "surrogate_exact_9 = dGaussianProcess(cov_func, optimize=opt)\n",
        "\n",
        "exact_9 = dGPGO(surrogate_exact_9, Acquisition_new(util_grad_exact), objfunc, param)\n",
        "exact_9.run(init_evals=n_init, max_iter=iters)\n"
      ],
      "execution_count": 41,
      "outputs": [
        {
          "output_type": "stream",
          "text": [
            "Evaluation \t Proposed point \t  Current eval. \t Best eval.\n",
            "init   \t [-4.84438769  7.52811888]. \t  -96.15564306553264 \t -3.4640248583909496\n",
            "init   \t [2.4365994  2.00744293]. \t  -3.4640248583909496 \t -3.4640248583909496\n",
            "init   \t [-2.86833372  3.27838013]. \t  -70.46930174488207 \t -3.4640248583909496\n",
            "init   \t [1.27762271 3.72151753]. \t  -12.982825924833865 \t -3.4640248583909496\n",
            "init   \t [-3.73910523  5.1824796 ]. \t  -75.58547400560856 \t -3.4640248583909496\n",
            "1      \t [ 7.05609655 14.75038872]. \t  -200.4388688685465 \t -3.4640248583909496\n",
            "2      \t [9.79053515 5.9968998 ]. \t  -11.24805159216164 \t -3.4640248583909496\n",
            "3      \t [-0.91490984 13.25685032]. \t  -48.26155495184477 \t -3.4640248583909496\n",
            "4      \t [4.42329559 9.16761691]. \t  -66.24415745540334 \t -3.4640248583909496\n",
            "5      \t [8.09381179 0.36546333]. \t  -9.19702700265266 \t -3.4640248583909496\n",
            "6      \t [10.         10.54747823]. \t  -58.86294724173256 \t -3.4640248583909496\n",
            "7      \t [-0.15122021  8.58270778]. \t  -24.963824819197978 \t -3.4640248583909496\n",
            "8      \t [5.66978642 4.54827501]. \t  -29.542494067237293 \t -3.4640248583909496\n",
            "9      \t [0.1698046  0.00731821]. \t  -52.25285552508423 \t -3.4640248583909496\n",
            "10     \t [ 2.6887284 15.       ]. \t  -153.77311717961913 \t -3.4640248583909496\n",
            "11     \t [-4.65835721 12.23709782]. \t  -25.3238194404319 \t -3.4640248583909496\n",
            "12     \t [10.          2.78653296]. \t  \u001b[92m-1.9899798556724946\u001b[0m \t -1.9899798556724946\n",
            "13     \t [5.35987587 1.07816181]. \t  -15.802361541562416 \t -1.9899798556724946\n",
            "14     \t [2.46333808 6.31949973]. \t  -14.467952799518386 \t -1.9899798556724946\n",
            "15     \t [-3.4833294 15.       ]. \t  -4.520092126280295 \t -1.9899798556724946\n",
            "16     \t [7.57157817 7.90770925]. \t  -55.607852382736674 \t -1.9899798556724946\n",
            "17     \t [-4.09332538  0.41138399]. \t  -208.00034163083419 \t -1.9899798556724946\n",
            "18     \t [ 1.82974117 11.53497865]. \t  -71.7750657417783 \t -1.9899798556724946\n",
            "19     \t [-2.48821833 10.17875964]. \t  -2.713328700674805 \t -1.9899798556724946\n",
            "20     \t [8.3890188 3.5360726]. \t  -8.330363701440817 \t -1.9899798556724946\n"
          ],
          "name": "stdout"
        }
      ]
    },
    {
      "cell_type": "code",
      "metadata": {
        "id": "6amuYlUdIv7r",
        "colab": {
          "base_uri": "https://localhost:8080/"
        },
        "outputId": "14b1db5d-d71f-4476-fda2-08d0331222a7"
      },
      "source": [
        "### EXACT GP EI GRADIENTS\n",
        "\n",
        "np.random.seed(run_num_10)\n",
        "surrogate_exact_10 = dGaussianProcess(cov_func, optimize=opt)\n",
        "\n",
        "exact_10 = dGPGO(surrogate_exact_10, Acquisition_new(util_grad_exact), objfunc, param)\n",
        "exact_10.run(init_evals=n_init, max_iter=iters)\n"
      ],
      "execution_count": 42,
      "outputs": [
        {
          "output_type": "stream",
          "text": [
            "Evaluation \t Proposed point \t  Current eval. \t Best eval.\n",
            "init   \t [6.56980965 0.31127924]. \t  -19.863985024602144 \t -2.710610964564512\n",
            "init   \t [ 4.50472352 11.23205824]. \t  -103.66999147252169 \t -2.710610964564512\n",
            "init   \t [2.47760518 3.37194968]. \t  -2.710610964564512 \t -2.710610964564512\n",
            "init   \t [-2.02905703 11.40796068]. \t  -8.463930835255017 \t -2.710610964564512\n",
            "init   \t [-2.46333745  1.32509721]. \t  -90.49481266026973 \t -2.710610964564512\n",
            "1      \t [10. 15.]. \t  -145.87219087939556 \t -2.710610964564512\n",
            "2      \t [6.8990985  6.18414116]. \t  -42.99322961219224 \t -2.710610964564512\n",
            "3      \t [-4.79812162  7.64003087]. \t  -91.2920569402186 \t -2.710610964564512\n",
            "4      \t [ 0.92619985 15.        ]. \t  -123.16709352285076 \t -2.710610964564512\n",
            "5      \t [10.          9.87183942]. \t  -49.124691842924676 \t -2.710610964564512\n",
            "6      \t [1.23584501 7.41268003]. \t  -23.28336405677546 \t -2.710610964564512\n",
            "7      \t [7.30917046 4.63031131]. \t  -26.277167965113733 \t -2.710610964564512\n",
            "8      \t [10.          1.79512575]. \t  -3.401996049211733 \t -2.710610964564512\n",
            "9      \t [-4.70774974 14.99984709]. \t  -11.79384711811382 \t -2.710610964564512\n",
            "10     \t [1.5801053  0.06680858]. \t  -23.905059920101987 \t -2.710610964564512\n",
            "11     \t [ 5.68662234 15.        ]. \t  -210.4040723599665 \t -2.710610964564512\n",
            "12     \t [-1.3120257   5.15806945]. \t  -22.395135982373425 \t -2.710610964564512\n",
            "13     \t [ 0.95706088 10.5134545 ]. \t  -50.55679546782574 \t -2.710610964564512\n",
            "14     \t [3.8133826  5.04841588]. \t  -12.975567533400113 \t -2.710610964564512\n",
            "15     \t [-4.94999246 11.60348852]. \t  -41.853721103090734 \t -2.710610964564512\n",
            "16     \t [10.         6.2673831]. \t  -12.59962103125544 \t -2.710610964564512\n",
            "17     \t [4.34565023 2.10872307]. \t  -6.899673399462706 \t -2.710610964564512\n",
            "18     \t [0.72355521 3.34326644]. \t  -19.670042347459038 \t -2.710610964564512\n",
            "19     \t [-4.88070878  4.39473143]. \t  -166.62363378774413 \t -2.710610964564512\n",
            "20     \t [ 8.03501452 11.97093933]. \t  -116.82094536963605 \t -2.710610964564512\n"
          ],
          "name": "stdout"
        }
      ]
    },
    {
      "cell_type": "code",
      "metadata": {
        "id": "VwbLIP9cIv-F",
        "colab": {
          "base_uri": "https://localhost:8080/"
        },
        "outputId": "5861ff47-b717-4390-8ccb-077a9fc521ad"
      },
      "source": [
        "### EXACT GP EI GRADIENTS\n",
        "\n",
        "np.random.seed(run_num_11)\n",
        "surrogate_exact_11 = dGaussianProcess(cov_func, optimize=opt)\n",
        "\n",
        "exact_11 = dGPGO(surrogate_exact_11, Acquisition_new(util_grad_exact), objfunc, param)\n",
        "exact_11.run(init_evals=n_init, max_iter=iters)\n"
      ],
      "execution_count": 43,
      "outputs": [
        {
          "output_type": "stream",
          "text": [
            "Evaluation \t Proposed point \t  Current eval. \t Best eval.\n",
            "init   \t [-2.29595467  0.29212862]. \t  -104.49282729548965 \t -22.37435843952312\n",
            "init   \t [ 1.9482779  10.87400894]. \t  -62.47758067812407 \t -22.37435843952312\n",
            "init   \t [1.30305407 7.28140647]. \t  -22.37435843952312 \t -22.37435843952312\n",
            "init   \t [-4.80828778  7.31057411]. \t  -97.94503054415523 \t -22.37435843952312\n",
            "init   \t [ 9.12709979 12.76192634]. \t  -111.62900800771942 \t -22.37435843952312\n",
            "1      \t [7.47489909 1.17569712]. \t  \u001b[92m-13.574666531193973\u001b[0m \t -13.574666531193973\n",
            "2      \t [-3.32392335 14.51197433]. \t  \u001b[92m-3.777267680584016\u001b[0m \t -3.777267680584016\n",
            "3      \t [9.72363233 6.87677997]. \t  -17.947808548975658 \t -3.777267680584016\n",
            "4      \t [2.9061772  2.49504109]. \t  \u001b[92m-0.6635953583088394\u001b[0m \t -0.6635953583088394\n",
            "5      \t [ 4.54037068 15.        ]. \t  -192.31380837056446 \t -0.6635953583088394\n",
            "6      \t [5.47231439 6.47301576]. \t  -44.85196943993592 \t -0.6635953583088394\n",
            "7      \t [-2.29503709 11.11000261]. \t  -4.241527284569879 \t -0.6635953583088394\n",
            "8      \t [ 0.04444204 15.        ]. \t  -101.86617647463552 \t -0.6635953583088394\n",
            "9      \t [-1.53197714  4.55770714]. \t  -27.876000851076096 \t -0.6635953583088394\n",
            "10     \t [ 6.04742268 10.1890203 ]. \t  -101.95266353030215 \t -0.6635953583088394\n",
            "11     \t [3.78848522 0.2706784 ]. \t  -4.752486853618742 \t -0.6635953583088394\n",
            "12     \t [10.          3.40229071]. \t  -2.102608389190383 \t -0.6635953583088394\n",
            "13     \t [-4.58813539  3.37401   ]. \t  -168.7741748640915 \t -0.6635953583088394\n",
            "14     \t [2.12450215 3.97762914]. \t  -5.552668444336144 \t -0.6635953583088394\n",
            "15     \t [-4.63386647 12.01496825]. \t  -26.336764333138625 \t -0.6635953583088394\n",
            "16     \t [1.44297369 1.03112812]. \t  -19.875229050153642 \t -0.6635953583088394\n",
            "17     \t [4.53010212 2.93758661]. \t  -10.498450113202225 \t -0.6635953583088394\n",
            "18     \t [7.82646274 4.19283625]. \t  -17.750081552386327 \t -0.6635953583088394\n",
            "19     \t [10.          0.75068973]. \t  -7.015846746822984 \t -0.6635953583088394\n",
            "20     \t [-1.61889861  9.06643185]. \t  -9.561187374830082 \t -0.6635953583088394\n"
          ],
          "name": "stdout"
        }
      ]
    },
    {
      "cell_type": "code",
      "metadata": {
        "id": "MlUNFjc-JTBY",
        "colab": {
          "base_uri": "https://localhost:8080/"
        },
        "outputId": "57f4ce0d-dfdf-43ab-b0d1-6a52221e4e29"
      },
      "source": [
        "### EXACT GP EI GRADIENTS\n",
        "\n",
        "np.random.seed(run_num_12)\n",
        "surrogate_exact_12 = dGaussianProcess(cov_func, optimize=opt)\n",
        "\n",
        "exact_12 = dGPGO(surrogate_exact_12, Acquisition_new(util_grad_exact), objfunc, param)\n",
        "exact_12.run(init_evals=n_init, max_iter=iters)\n"
      ],
      "execution_count": 44,
      "outputs": [
        {
          "output_type": "stream",
          "text": [
            "Evaluation \t Proposed point \t  Current eval. \t Best eval.\n",
            "init   \t [-2.68755736 11.10074545]. \t  -1.3827702760021356 \t -0.5499315281120278\n",
            "init   \t [-1.05027477  8.0060909 ]. \t  -14.81231853080056 \t -0.5499315281120278\n",
            "init   \t [-4.78137556 13.78120512]. \t  -18.401131000214548 \t -0.5499315281120278\n",
            "init   \t [8.51072281 0.50132141]. \t  -5.855172364344769 \t -0.5499315281120278\n",
            "init   \t [9.35424004 2.05813982]. \t  -0.5499315281120278 \t -0.5499315281120278\n",
            "1      \t [10.          4.42297562]. \t  -3.959594663321786 \t -0.5499315281120278\n",
            "2      \t [10. 15.]. \t  -145.87219087939556 \t -0.5499315281120278\n",
            "3      \t [-4.02857478  0.48179288]. \t  -200.67574083550102 \t -0.5499315281120278\n",
            "4      \t [ 2.85664154 13.8594499 ]. \t  -129.64706087217854 \t -0.5499315281120278\n",
            "5      \t [2.71945565 1.80665114]. \t  -1.9141508093386541 \t -0.5499315281120278\n",
            "6      \t [7.9150393  9.35287884]. \t  -71.145332562649 \t -0.5499315281120278\n",
            "7      \t [3.48353776 6.64911516]. \t  -22.350716524246597 \t -0.5499315281120278\n",
            "8      \t [-4.54680545  5.81881211]. \t  -110.19194217601753 \t -0.5499315281120278\n",
            "9      \t [6.09763191 3.59038756]. \t  -25.646582592934333 \t -0.5499315281120278\n",
            "10     \t [-0.03829909  3.25509   ]. \t  -27.46901248589383 \t -0.5499315281120278\n",
            "11     \t [-1.1437389 15.       ]. \t  -63.12693913495445 \t -0.5499315281120278\n",
            "12     \t [ 1.60912459 10.14150982]. \t  -50.183685996027236 \t -0.5499315281120278\n",
            "13     \t [ 6.61170449 12.97358712]. \t  -159.49185455753118 \t -0.5499315281120278\n",
            "14     \t [-4.5384795  10.16709085]. \t  -41.02305054698434 \t -0.5499315281120278\n",
            "15     \t [10.          6.74576561]. \t  -15.951759895722818 \t -0.5499315281120278\n",
            "16     \t [0.19441817 0.00031042]. \t  -51.85590394459697 \t -0.5499315281120278\n",
            "17     \t [-1.59788474 11.71064845]. \t  -17.792452384374602 \t -0.5499315281120278\n",
            "18     \t [5.51320561 0.32039299]. \t  -17.585298484881157 \t -0.5499315281120278\n",
            "19     \t [10.          2.30279667]. \t  -2.4333646017234534 \t -0.5499315281120278\n",
            "20     \t [4.74063157 9.43492661]. \t  -75.50321288022754 \t -0.5499315281120278\n"
          ],
          "name": "stdout"
        }
      ]
    },
    {
      "cell_type": "code",
      "metadata": {
        "id": "9BsKdU9eJTFL",
        "colab": {
          "base_uri": "https://localhost:8080/"
        },
        "outputId": "e08147b1-c9c8-46eb-f8f5-b46346b661ec"
      },
      "source": [
        "### EXACT GP EI GRADIENTS\n",
        "\n",
        "np.random.seed(run_num_13)\n",
        "surrogate_exact_13 = dGaussianProcess(cov_func, optimize=opt)\n",
        "\n",
        "exact_13 = dGPGO(surrogate_exact_13, Acquisition_new(util_grad_exact), objfunc, param)\n",
        "exact_13.run(init_evals=n_init, max_iter=iters)\n"
      ],
      "execution_count": 45,
      "outputs": [
        {
          "output_type": "stream",
          "text": [
            "Evaluation \t Proposed point \t  Current eval. \t Best eval.\n",
            "init   \t [6.66553616 3.5631183 ]. \t  -24.823670200298267 \t -18.038943061558626\n",
            "init   \t [ 7.36417799 14.48623797]. \t  -188.7803334745195 \t -18.038943061558626\n",
            "init   \t [9.58901671 6.80173871]. \t  -18.038943061558626 \t -18.038943061558626\n",
            "init   \t [ 4.13563694 11.63289772]. \t  -104.87319703906111 \t -18.038943061558626\n",
            "init   \t [ 4.62420017 10.83027344]. \t  -98.03271225790056 \t -18.038943061558626\n",
            "1      \t [-3.51870171  3.68338658]. \t  -91.63196166423945 \t -18.038943061558626\n",
            "2      \t [-4.35385058 13.32256485]. \t  \u001b[92m-10.85616402870354\u001b[0m \t -10.85616402870354\n",
            "3      \t [-0.73927277  8.63772348]. \t  -19.029143764958548 \t -10.85616402870354\n",
            "4      \t [2.09747614 1.08873887]. \t  \u001b[92m-9.758765290841207\u001b[0m \t -9.758765290841207\n",
            "5      \t [ 0.16976309 15.        ]. \t  -105.33142284405855 \t -9.758765290841207\n",
            "6      \t [2.61007618 5.69875103]. \t  -10.559825534649086 \t -9.758765290841207\n",
            "7      \t [10.         10.78923428]. \t  -62.569260685577824 \t -9.758765290841207\n",
            "8      \t [9.10397201 0.34895638]. \t  \u001b[92m-4.379932006641302\u001b[0m \t -4.379932006641302\n",
            "9      \t [-1.25325592  0.05438772]. \t  -79.30871920452344 \t -4.379932006641302\n",
            "10     \t [-4.85862411  9.89314591]. \t  -58.859603210798 \t -4.379932006641302\n",
            "11     \t [6.21693814 7.04107265]. \t  -54.89571608202749 \t -4.379932006641302\n",
            "12     \t [10.          3.23638502]. \t  \u001b[92m-1.9976294867371838\u001b[0m \t -1.9976294867371838\n",
            "13     \t [0.16882819 3.99043216]. \t  -22.509053270723566 \t -1.9976294867371838\n",
            "14     \t [-1.43801047 11.87134016]. \t  -22.26407409097459 \t -1.9976294867371838\n",
            "15     \t [4.98289996 0.55477801]. \t  -13.087559153853718 \t -1.9976294867371838\n",
            "16     \t [2.09956996 8.4897739 ]. \t  -32.84328209411049 \t -1.9976294867371838\n",
            "17     \t [-3.29571171  7.02845202]. \t  -32.096116509189365 \t -1.9976294867371838\n",
            "18     \t [-4.65308818  0.85908343]. \t  -244.85513684845336 \t -1.9976294867371838\n",
            "19     \t [ 3.68186874 15.        ]. \t  -173.60174288984092 \t -1.9976294867371838\n",
            "20     \t [3.65415298 3.27218526]. \t  -3.48952811829074 \t -1.9976294867371838\n"
          ],
          "name": "stdout"
        }
      ]
    },
    {
      "cell_type": "code",
      "metadata": {
        "id": "k6GjFBr1JTJf",
        "colab": {
          "base_uri": "https://localhost:8080/"
        },
        "outputId": "3032d05d-c210-4b08-8224-b23bd3abf719"
      },
      "source": [
        "### EXACT GP EI GRADIENTS\n",
        "\n",
        "np.random.seed(run_num_14)\n",
        "surrogate_exact_14 = dGaussianProcess(cov_func, optimize=opt)\n",
        "\n",
        "exact_14 = dGPGO(surrogate_exact_14, Acquisition_new(util_grad_exact), objfunc, param)\n",
        "exact_14.run(init_evals=n_init, max_iter=iters)\n"
      ],
      "execution_count": 46,
      "outputs": [
        {
          "output_type": "stream",
          "text": [
            "Evaluation \t Proposed point \t  Current eval. \t Best eval.\n",
            "init   \t [ 2.70915016 11.59747578]. \t  -81.58264375064097 \t -1.4149920024014744\n",
            "init   \t [8.05641529 0.12070423]. \t  -10.148649076616518 \t -1.4149920024014744\n",
            "init   \t [-0.35396112 14.36405609]. \t  -79.6056658956529 \t -1.4149920024014744\n",
            "init   \t [2.69675068 4.77426637]. \t  -5.855607664288365 \t -1.4149920024014744\n",
            "init   \t [3.08799906 3.31882414]. \t  -1.4149920024014744 \t -1.4149920024014744\n",
            "1      \t [-3.9690762   0.55943317]. \t  -193.7395503314444 \t -1.4149920024014744\n",
            "2      \t [10. 15.]. \t  -145.87219087939556 \t -1.4149920024014744\n",
            "3      \t [-3.66670736  8.25640817]. \t  -29.95349403696578 \t -1.4149920024014744\n",
            "4      \t [9.39091674 7.13516668]. \t  -22.386185498178882 \t -1.4149920024014744\n",
            "5      \t [ 7.25108949 11.10492442]. \t  -112.52804163360832 \t -1.4149920024014744\n",
            "6      \t [-4.74819159 13.78438333]. \t  -17.553495258306747 \t -1.4149920024014744\n",
            "7      \t [1.01745542 0.33800448]. \t  -32.488528858603104 \t -1.4149920024014744\n",
            "8      \t [-1.1286837   4.52130735]. \t  -25.93925001927779 \t -1.4149920024014744\n",
            "9      \t [6.51609625 4.12887337]. \t  -28.42976129035589 \t -1.4149920024014744\n",
            "10     \t [ 5.2587603 15.       ]. \t  -205.34737260372506 \t -1.4149920024014744\n",
            "11     \t [0.35077934 8.21203687]. \t  -26.604244715300847 \t -1.4149920024014744\n",
            "12     \t [4.946416   7.58741917]. \t  -51.905652228593574 \t -1.4149920024014744\n",
            "13     \t [10.          3.65480235]. \t  -2.3680435404604756 \t -1.4149920024014744\n",
            "14     \t [5.21943434 0.1826132 ]. \t  -15.7230493302195 \t -1.4149920024014744\n",
            "15     \t [-1.93319463 11.10281195]. \t  -8.977480580191436 \t -1.4149920024014744\n",
            "16     \t [10.          1.69360808]. \t  -3.6575342151183925 \t -1.4149920024014744\n",
            "17     \t [-4.90324814  5.71576793]. \t  -137.12331788718637 \t -1.4149920024014744\n",
            "18     \t [3.40085787 2.45766073]. \t  \u001b[92m-0.8603052485247868\u001b[0m \t -0.8603052485247868\n",
            "19     \t [10.          9.83026207]. \t  -48.55524053131122 \t -0.8603052485247868\n",
            "20     \t [3.3858763  2.80331306]. \t  -1.1886447837995107 \t -0.8603052485247868\n"
          ],
          "name": "stdout"
        }
      ]
    },
    {
      "cell_type": "code",
      "metadata": {
        "id": "dPS8WB3aJTN6",
        "colab": {
          "base_uri": "https://localhost:8080/"
        },
        "outputId": "80e6789e-11a2-4e8c-866a-1cb8e395211b"
      },
      "source": [
        "### EXACT GP EI GRADIENTS\n",
        "\n",
        "np.random.seed(run_num_15)\n",
        "surrogate_exact_15 = dGaussianProcess(cov_func, optimize=opt)\n",
        "\n",
        "exact_15 = dGPGO(surrogate_exact_15, Acquisition_new(util_grad_exact), objfunc, param)\n",
        "exact_15.run(init_evals=n_init, max_iter=iters)\n"
      ],
      "execution_count": 47,
      "outputs": [
        {
          "output_type": "stream",
          "text": [
            "Evaluation \t Proposed point \t  Current eval. \t Best eval.\n",
            "init   \t [7.73226546 2.68343887]. \t  -12.768724532005583 \t -12.768724532005583\n",
            "init   \t [-4.18455179  5.42307669]. \t  -95.39334176626551 \t -12.768724532005583\n",
            "init   \t [-0.86898607  7.95000337]. \t  -16.419487782111716 \t -12.768724532005583\n",
            "init   \t [-0.41121626  4.56711539]. \t  -23.250362743740954 \t -12.768724532005583\n",
            "init   \t [-3.32388086  3.74848521]. \t  -80.99796277938532 \t -12.768724532005583\n",
            "1      \t [10.         13.52961303]. \t  -112.75363605665893 \t -12.768724532005583\n",
            "2      \t [-3.60562328 14.8673558 ]. \t  \u001b[92m-3.5139061901593145\u001b[0m \t -3.5139061901593145\n",
            "3      \t [ 2.33128509 14.15725801]. \t  -128.05010787219163 \t -3.5139061901593145\n",
            "4      \t [6.19145623 8.0351404 ]. \t  -67.68334148789066 \t -3.5139061901593145\n",
            "5      \t [1.48208079 0.384964  ]. \t  -23.382291002085054 \t -3.5139061901593145\n",
            "6      \t [10.          6.01629092]. \t  -11.023324355358392 \t -3.5139061901593145\n",
            "7      \t [-4.29675819 10.25288707]. \t  -30.83021813713061 \t -3.5139061901593145\n",
            "8      \t [3.75063895 4.26642102]. \t  -7.973411813652641 \t -3.5139061901593145\n",
            "9      \t [2.48607813 9.71832879]. \t  -49.67582981661756 \t -3.5139061901593145\n",
            "10     \t [ 6.03647945 12.28417685]. \t  -144.39697471474818 \t -3.5139061901593145\n",
            "11     \t [5.01441695 0.55182397]. \t  -13.368510198152414 \t -3.5139061901593145\n",
            "12     \t [10.          9.46861807]. \t  -43.74791883312489 \t -3.5139061901593145\n",
            "13     \t [-0.88678933 11.68710614]. \t  -33.4911136010154 \t -3.5139061901593145\n",
            "14     \t [-4.67678913  0.44897145]. \t  -259.92871750598806 \t -3.5139061901593145\n",
            "15     \t [-1.23590678 14.95606844]. \t  -59.28356608797627 \t -3.5139061901593145\n",
            "16     \t [-4.87304579 14.09917578]. \t  -18.957321749749013 \t -3.5139061901593145\n",
            "17     \t [8.74249836 0.13067522]. \t  -5.89247676551743 \t -3.5139061901593145\n",
            "18     \t [2.89356944 6.51131521]. \t  -16.972498412361908 \t -3.5139061901593145\n",
            "19     \t [10.          3.11486709]. \t  \u001b[92m-1.9556646196492\u001b[0m \t -1.9556646196492\n",
            "20     \t [6.97572399 4.99740018]. \t  -31.93205360593434 \t -1.9556646196492\n"
          ],
          "name": "stdout"
        }
      ]
    },
    {
      "cell_type": "code",
      "metadata": {
        "id": "SHWdp2giJTRm",
        "colab": {
          "base_uri": "https://localhost:8080/"
        },
        "outputId": "5edcc9ff-bf28-4f6c-e5c6-bfc70afff301"
      },
      "source": [
        "### EXACT GP EI GRADIENTS\n",
        "\n",
        "np.random.seed(run_num_16)\n",
        "surrogate_exact_16 = dGaussianProcess(cov_func, optimize=opt)\n",
        "\n",
        "exact_16 = dGPGO(surrogate_exact_16, Acquisition_new(util_grad_exact), objfunc, param)\n",
        "exact_16.run(init_evals=n_init, max_iter=iters)\n"
      ],
      "execution_count": 48,
      "outputs": [
        {
          "output_type": "stream",
          "text": [
            "Evaluation \t Proposed point \t  Current eval. \t Best eval.\n",
            "init   \t [-1.65063381  7.84745012]. \t  -10.514702126319445 \t -2.715864006988424\n",
            "init   \t [3.26052185 0.68402925]. \t  -2.715864006988424 \t -2.715864006988424\n",
            "init   \t [0.41093253 3.34621413]. \t  -22.889515127492515 \t -2.715864006988424\n",
            "init   \t [5.33089243 2.45597138]. \t  -17.178157611778595 \t -2.715864006988424\n",
            "init   \t [-3.945127  14.1151629]. \t  -3.3649224341694195 \t -2.715864006988424\n",
            "1      \t [ 5.63879248 14.58068289]. \t  -198.51319639462758 \t -2.715864006988424\n",
            "2      \t [9.91844219 8.81695252]. \t  -36.28422213736768 \t -2.715864006988424\n",
            "3      \t [3.90820632 8.01405849]. \t  -42.28391486640599 \t -2.715864006988424\n",
            "4      \t [9.78036449 0.12564739]. \t  -8.104164369970292 \t -2.715864006988424\n",
            "5      \t [-4.32356001  1.77408484]. \t  -189.20272661085582 \t -2.715864006988424\n",
            "6      \t [ 0.45618055 13.20713457]. \t  -81.12955981694466 \t -2.715864006988424\n",
            "7      \t [10.          4.28901566]. \t  -3.597088562611952 \t -2.715864006988424\n",
            "8      \t [10.         13.26467599]. \t  -107.24602539818892 \t -2.715864006988424\n",
            "9      \t [-3.51916296 11.08520422]. \t  -5.55001121412381 \t -2.715864006988424\n",
            "10     \t [-4.61043148  6.9770767 ]. \t  -91.95301475460944 \t -2.715864006988424\n",
            "11     \t [7.04711226 6.09216728]. \t  -40.87009760369731 \t -2.715864006988424\n",
            "12     \t [ 6.58234879 10.6026952 ]. \t  -109.07656005169005 \t -2.715864006988424\n",
            "13     \t [-0.2883829   0.26463129]. \t  -57.70871011655865 \t -2.715864006988424\n",
            "14     \t [1.02945921 9.54007201]. \t  -40.36552263777338 \t -2.715864006988424\n",
            "15     \t [8.33850512 2.58773204]. \t  -6.2958731129522905 \t -2.715864006988424\n",
            "16     \t [1.15399349 6.27273598]. \t  -17.640591025316404 \t -2.715864006988424\n",
            "17     \t [6.91699562 0.15049574]. \t  -18.78077424411262 \t -2.715864006988424\n",
            "18     \t [3.53507082 4.67951456]. \t  -8.37514873685899 \t -2.715864006988424\n",
            "19     \t [-2.11102064 15.        ]. \t  -30.71059634480449 \t -2.715864006988424\n",
            "20     \t [ 3.5071101  11.30707971]. \t  -87.51984024689277 \t -2.715864006988424\n"
          ],
          "name": "stdout"
        }
      ]
    },
    {
      "cell_type": "code",
      "metadata": {
        "id": "yU2SflSsJTUs",
        "colab": {
          "base_uri": "https://localhost:8080/"
        },
        "outputId": "d78408d5-6c33-44c5-eedf-96d7f8fc5f28"
      },
      "source": [
        "### EXACT GP EI GRADIENTS\n",
        "\n",
        "np.random.seed(run_num_17)\n",
        "surrogate_exact_17 = dGaussianProcess(cov_func, optimize=opt)\n",
        "\n",
        "exact_17 = dGPGO(surrogate_exact_17, Acquisition_new(util_grad_exact), objfunc, param)\n",
        "exact_17.run(init_evals=n_init, max_iter=iters)\n"
      ],
      "execution_count": 49,
      "outputs": [
        {
          "output_type": "stream",
          "text": [
            "Evaluation \t Proposed point \t  Current eval. \t Best eval.\n",
            "init   \t [-0.58002496  7.95880133]. \t  -19.016141117164256 \t -19.016141117164256\n",
            "init   \t [-2.1271882   1.01850537]. \t  -85.05949339404415 \t -19.016141117164256\n",
            "init   \t [6.8047819  9.84500283]. \t  -93.89792695202516 \t -19.016141117164256\n",
            "init   \t [4.56281344 8.63404341]. \t  -60.50217141122736 \t -19.016141117164256\n",
            "init   \t [-4.41405626  5.36720407]. \t  -110.70834086593878 \t -19.016141117164256\n",
            "1      \t [9.76575296 0.98553483]. \t  \u001b[92m-4.1623278326263815\u001b[0m \t -4.1623278326263815\n",
            "2      \t [-4.0692092  14.64043819]. \t  -4.241825729253317 \t -4.1623278326263815\n",
            "3      \t [10. 15.]. \t  -145.87219087939556 \t -4.1623278326263815\n",
            "4      \t [ 3.03819562 14.9592515 ]. \t  -159.26550321070087 \t -4.1623278326263815\n",
            "5      \t [3.8618099  0.73368105]. \t  \u001b[92m-3.8779506963621575\u001b[0m \t -3.8779506963621575\n",
            "6      \t [10.          5.66490873]. \t  -9.029129800364839 \t -3.8779506963621575\n",
            "7      \t [6.18301175 3.93663313]. \t  -27.611202129846948 \t -3.8779506963621575\n",
            "8      \t [1.46458448 4.25275251]. \t  -11.111950982995415 \t -3.8779506963621575\n",
            "9      \t [-4.98642461 10.95750676]. \t  -50.923694917151366 \t -3.8779506963621575\n",
            "10     \t [-0.84291057 12.44797726]. \t  -41.535010633431455 \t -3.8779506963621575\n",
            "11     \t [6.63454958 0.79833416]. \t  -19.123570939816663 \t -3.8779506963621575\n",
            "12     \t [10.         11.13376696]. \t  -68.05321767041369 \t -3.8779506963621575\n",
            "13     \t [ 2.7112082  11.33650185]. \t  -76.99719673605155 \t -3.8779506963621575\n",
            "14     \t [1.74315048 1.41684443]. \t  -13.199300469408051 \t -3.8779506963621575\n",
            "15     \t [ 6.89121741 13.64978202]. \t  -173.6981588216124 \t -3.8779506963621575\n",
            "16     \t [9.81262022 3.25363178]. \t  \u001b[92m-1.2977267866295055\u001b[0m \t -1.2977267866295055\n",
            "17     \t [-1.07070092  4.73319029]. \t  -24.332340293157394 \t -1.2977267866295055\n",
            "18     \t [2.10689402 6.67044014]. \t  -16.999373345618825 \t -1.2977267866295055\n",
            "19     \t [10.          7.95045038]. \t  -26.42083528931046 \t -1.2977267866295055\n",
            "20     \t [-1.98566095 15.        ]. \t  -34.542530820820474 \t -1.2977267866295055\n"
          ],
          "name": "stdout"
        }
      ]
    },
    {
      "cell_type": "code",
      "metadata": {
        "id": "es0KCh_0JTgY",
        "colab": {
          "base_uri": "https://localhost:8080/"
        },
        "outputId": "5bdd4c23-1a54-46a7-ecc5-f2d4158b6bf1"
      },
      "source": [
        "### EXACT GP EI GRADIENTS\n",
        "\n",
        "np.random.seed(run_num_18)\n",
        "surrogate_exact_18 = dGaussianProcess(cov_func, optimize=opt)\n",
        "\n",
        "exact_18 = dGPGO(surrogate_exact_18, Acquisition_new(util_grad_exact), objfunc, param)\n",
        "exact_18.run(init_evals=n_init, max_iter=iters)\n"
      ],
      "execution_count": 50,
      "outputs": [
        {
          "output_type": "stream",
          "text": [
            "Evaluation \t Proposed point \t  Current eval. \t Best eval.\n",
            "init   \t [4.75561363 7.58180061]. \t  -49.215059064668324 \t -8.150075223157177\n",
            "init   \t [8.17902206 2.72760338]. \t  -8.150075223157177 \t -8.150075223157177\n",
            "init   \t [ 7.78349603 11.25204429]. \t  -106.98107856533271 \t -8.150075223157177\n",
            "init   \t [ 4.99152501 14.81843172]. \t  -196.08601750690153 \t -8.150075223157177\n",
            "init   \t [-1.14547366  0.42458888]. \t  -71.23649635555944 \t -8.150075223157177\n",
            "1      \t [-4.83474958 11.77354131]. \t  -35.58412906267954 \t -8.150075223157177\n",
            "2      \t [-1.88826854  6.70399181]. \t  -14.630614325969386 \t -8.150075223157177\n",
            "3      \t [-0.6538924 15.       ]. \t  -80.09560277106152 \t -8.150075223157177\n",
            "4      \t [3.55188376 2.40649444]. \t  \u001b[92m-1.3794738071685266\u001b[0m \t -1.3794738071685266\n",
            "5      \t [ 0.97448377 10.61102989]. \t  -51.86556046457193 \t -1.3794738071685266\n",
            "6      \t [10.          6.76728284]. \t  -16.11329263377079 \t -1.3794738071685266\n",
            "7      \t [10. 15.]. \t  -145.87219087939556 \t -1.3794738071685266\n",
            "8      \t [1.42440013 4.44264226]. \t  -11.600989925172023 \t -1.3794738071685266\n",
            "9      \t [-3.75698564  3.40009923]. \t  -110.37686089921921 \t -1.3794738071685266\n",
            "10     \t [4.61614131 0.3956583 ]. \t  -10.097923880169065 \t -1.3794738071685266\n",
            "11     \t [-4.46722101  7.98278387]. \t  -67.03692273469423 \t -1.3794738071685266\n",
            "12     \t [5.5085012  4.12517503]. \t  -25.696675011073943 \t -1.3794738071685266\n",
            "13     \t [1.11920268 7.31212497]. \t  -22.784481674973986 \t -1.3794738071685266\n",
            "14     \t [-4.5227876 15.       ]. \t  -8.897238434073513 \t -1.3794738071685266\n",
            "15     \t [7.66112149 0.46888695]. \t  -12.687280551588847 \t -1.3794738071685266\n",
            "16     \t [ 4.47071425 11.15332863]. \t  -101.5330005293074 \t -1.3794738071685266\n",
            "17     \t [2.08497091 1.76312092]. \t  -7.4682890655731295 \t -1.3794738071685266\n",
            "18     \t [10.          3.94623825]. \t  -2.8329209174640537 \t -1.3794738071685266\n",
            "19     \t [-2.02477924 11.03039694]. \t  -7.422902901939867 \t -1.3794738071685266\n",
            "20     \t [7.71794077 7.87515161]. \t  -53.07976652303961 \t -1.3794738071685266\n"
          ],
          "name": "stdout"
        }
      ]
    },
    {
      "cell_type": "code",
      "metadata": {
        "id": "Pput2LHPIwBM",
        "colab": {
          "base_uri": "https://localhost:8080/"
        },
        "outputId": "a5a149a9-d69f-48d3-d3c4-445e6d2f7fbf"
      },
      "source": [
        "### EXACT GP EI GRADIENTS\n",
        "\n",
        "np.random.seed(run_num_19)\n",
        "surrogate_exact_19 = dGaussianProcess(cov_func, optimize=opt)\n",
        "\n",
        "exact_19 = dGPGO(surrogate_exact_19, Acquisition_new(util_grad_exact), objfunc, param)\n",
        "exact_19.run(init_evals=n_init, max_iter=iters)\n"
      ],
      "execution_count": 51,
      "outputs": [
        {
          "output_type": "stream",
          "text": [
            "Evaluation \t Proposed point \t  Current eval. \t Best eval.\n",
            "init   \t [-3.53699597 11.41874575]. \t  -4.475608269502271 \t -4.475608269502271\n",
            "init   \t [-1.2959304   2.07197531]. \t  -51.13947793770689 \t -4.475608269502271\n",
            "init   \t [-0.02830155  1.24499348]. \t  -42.63973921760034 \t -4.475608269502271\n",
            "init   \t [ 5.07965622 12.09890697]. \t  -131.17235664506808 \t -4.475608269502271\n",
            "init   \t [9.74112872 9.53491102]. \t  -46.84458913925112 \t -4.475608269502271\n",
            "1      \t [8.6773951  0.80876842]. \t  \u001b[92m-4.184707152540867\u001b[0m \t -4.184707152540867\n",
            "2      \t [4.45041553 5.47999855]. \t  -23.54840201771013 \t -4.184707152540867\n",
            "3      \t [ 0.08624589 15.        ]. \t  -103.03846780814712 \t -4.184707152540867\n",
            "4      \t [10. 15.]. \t  -145.87219087939556 \t -4.184707152540867\n",
            "5      \t [-0.91513787  7.50858772]. \t  -15.857374423419069 \t -4.184707152540867\n",
            "6      \t [10.          4.77778615]. \t  -5.093160567527242 \t -4.184707152540867\n",
            "7      \t [4.76905454 0.49670355]. \t  -11.268474335538237 \t -4.184707152540867\n",
            "8      \t [-4.9453939   5.30533112]. \t  -149.69190796995701 \t -4.184707152540867\n",
            "9      \t [-4.34465428 14.82396576]. \t  -6.828128135341803 \t -4.184707152540867\n",
            "10     \t [ 1.15601712 10.51926906]. \t  -52.142173924509684 \t -4.184707152540867\n",
            "11     \t [7.18726961 3.34197475]. \t  -20.379999787988332 \t -4.184707152540867\n",
            "12     \t [1.37895751 4.86049863]. \t  -12.486119288880994 \t -4.184707152540867\n",
            "13     \t [-4.85567513  0.38763976]. \t  -279.88084243492693 \t -4.184707152540867\n",
            "14     \t [7.76438017 6.7609106 ]. \t  -39.27173579778311 \t -4.184707152540867\n",
            "15     \t [4.33899147 8.52350869]. \t  -55.45661637873897 \t -4.184707152540867\n",
            "16     \t [-4.22166609  8.98464299]. \t  -41.917026734547484 \t -4.184707152540867\n",
            "17     \t [10.          2.32612263]. \t  \u001b[92m-2.401244893816437\u001b[0m \t -2.401244893816437\n",
            "18     \t [3.41276606 2.75681281]. \t  \u001b[92m-1.2163441784640376\u001b[0m \t -1.2163441784640376\n",
            "19     \t [ 3.75812102 15.        ]. \t  -175.26451664270243 \t -1.2163441784640376\n",
            "20     \t [-2.57441917 12.9807486 ]. \t  -6.011083032452941 \t -1.2163441784640376\n"
          ],
          "name": "stdout"
        }
      ]
    },
    {
      "cell_type": "code",
      "metadata": {
        "id": "aw3xvSryIwDi",
        "colab": {
          "base_uri": "https://localhost:8080/"
        },
        "outputId": "8ad8c1a6-fb9e-4b11-da20-be846fc20225"
      },
      "source": [
        "### EXACT GP EI GRADIENTS\n",
        "\n",
        "np.random.seed(run_num_20)\n",
        "surrogate_exact_20 = dGaussianProcess(cov_func, optimize=opt)\n",
        "\n",
        "exact_20 = dGPGO(surrogate_exact_20, Acquisition_new(util_grad_exact), objfunc, param)\n",
        "exact_20.run(init_evals=n_init, max_iter=iters)\n"
      ],
      "execution_count": 52,
      "outputs": [
        {
          "output_type": "stream",
          "text": [
            "Evaluation \t Proposed point \t  Current eval. \t Best eval.\n",
            "init   \t [ 3.82196202 13.46570592]. \t  -138.5264349938869 \t -14.042667401507376\n",
            "init   \t [ 8.37296094 12.23756216]. \t  -115.63178540512689 \t -14.042667401507376\n",
            "init   \t [-4.46165622 10.37636373]. \t  -35.66708529307584 \t -14.042667401507376\n",
            "init   \t [0.68021413 7.77766418]. \t  -25.307769914281764 \t -14.042667401507376\n",
            "init   \t [4.86927198 2.90775327]. \t  -14.042667401507376 \t -14.042667401507376\n",
            "1      \t [-4.88337277  1.15554411]. \t  -258.03874991509736 \t -14.042667401507376\n",
            "2      \t [10.        5.847943]. \t  \u001b[92m-10.037088221310093\u001b[0m \t -10.037088221310093\n",
            "3      \t [9.98998478 0.35020336]. \t  \u001b[92m-8.875777366291523\u001b[0m \t -8.875777366291523\n",
            "4      \t [-1.71590052 15.        ]. \t  -43.28836110402055 \t -8.875777366291523\n",
            "5      \t [0.11401177 1.25905543]. \t  -40.344030206075885 \t -8.875777366291523\n",
            "6      \t [5.81288806 8.34803223]. \t  -70.8966132322713 \t -8.875777366291523\n",
            "7      \t [-0.09617023 11.409629  ]. \t  -47.176704813052176 \t -8.875777366291523\n",
            "8      \t [-4.42664054  6.16608594]. \t  -95.8512975805945 \t -8.875777366291523\n",
            "9      \t [6.85661806 0.39276846]. \t  -18.655961292664593 \t -8.875777366291523\n",
            "10     \t [2.02540321 4.56015532]. \t  \u001b[92m-7.355479446757688\u001b[0m \t -7.355479446757688\n",
            "11     \t [10.          8.85079431]. \t  -36.1403464473235 \t -7.355479446757688\n",
            "12     \t [9.76126987 3.15590357]. \t  \u001b[92m-1.0826447795636938\u001b[0m \t -1.0826447795636938\n",
            "13     \t [7.28182299 4.75158967]. \t  -27.385912699080475 \t -1.0826447795636938\n",
            "14     \t [3.43045479 0.3264068 ]. \t  -3.8028213695522 \t -1.0826447795636938\n",
            "15     \t [-0.7357531   4.33799813]. \t  -25.54524204775262 \t -1.0826447795636938\n",
            "16     \t [10. 15.]. \t  -145.87219087939556 \t -1.0826447795636938\n",
            "17     \t [-4.54036374 14.60168957]. \t  -10.01437123438269 \t -1.0826447795636938\n",
            "18     \t [ 2.86772191 10.41370335]. \t  -63.40982935430876 \t -1.0826447795636938\n",
            "19     \t [3.89683616 5.81027627]. \t  -19.415806748853484 \t -1.0826447795636938\n",
            "20     \t [-2.06573211  8.96388615]. \t  -6.205019614765778 \t -1.0826447795636938\n"
          ],
          "name": "stdout"
        }
      ]
    },
    {
      "cell_type": "code",
      "metadata": {
        "id": "qNqAB3vBTPqb",
        "colab": {
          "base_uri": "https://localhost:8080/"
        },
        "outputId": "1eda85ae-0a31-445c-87f8-57d1e5db5114"
      },
      "source": [
        "end_exact = time.time()\n",
        "end_exact\n",
        "\n",
        "time_exact = end_exact - start_exact\n",
        "time_exact"
      ],
      "execution_count": 53,
      "outputs": [
        {
          "output_type": "execute_result",
          "data": {
            "text/plain": [
              "3304.633157491684"
            ]
          },
          "metadata": {
            "tags": []
          },
          "execution_count": 53
        }
      ]
    },
    {
      "cell_type": "code",
      "metadata": {
        "id": "JPQzjdBZQxfg",
        "colab": {
          "base_uri": "https://localhost:8080/"
        },
        "outputId": "aa31e44b-db58-4174-9e31-712978081011"
      },
      "source": [
        "### Simple regret minimization: run number = 1\n",
        "\n",
        "approx_output_1 = np.append(np.min(approx_1.GP.y[0:n_init]),approx_1.GP.y[n_init:(n_init+iters)]) \n",
        "exact_output_1 = np.append(np.min(exact_1.GP.y[0:n_init]),exact_1.GP.y[n_init:(n_init+iters)]) \n",
        "\n",
        "regret_approx_1 = np.log(-approx_output_1 + y_global_orig)\n",
        "regret_exact_1 = np.log(-exact_output_1 + y_global_orig)\n",
        "\n",
        "simple_regret_approx_1 = min_max_array(regret_approx_1)\n",
        "simple_regret_exact_1 = min_max_array(regret_exact_1)\n",
        "\n",
        "min_simple_regret_approx_1 = min(simple_regret_approx_1)\n",
        "min_simple_regret_exact_1 = min(simple_regret_exact_1)\n",
        "\n",
        "min_simple_regret_approx_1, min_simple_regret_exact_1"
      ],
      "execution_count": 54,
      "outputs": [
        {
          "output_type": "execute_result",
          "data": {
            "text/plain": [
              "(1.4140401206065185, 0.6645865935346397)"
            ]
          },
          "metadata": {
            "tags": []
          },
          "execution_count": 54
        }
      ]
    },
    {
      "cell_type": "code",
      "metadata": {
        "id": "94yBw5tqQxfk",
        "colab": {
          "base_uri": "https://localhost:8080/"
        },
        "outputId": "807246f2-717f-42ab-829b-7385f3ee5ebb"
      },
      "source": [
        "### Simple regret minimization: run number = 2\n",
        "\n",
        "approx_output_2 = np.append(np.min(approx_2.GP.y[0:n_init]),approx_2.GP.y[n_init:(n_init+iters)]) \n",
        "exact_output_2 = np.append(np.min(exact_2.GP.y[0:n_init]),exact_2.GP.y[n_init:(n_init+iters)]) \n",
        "\n",
        "regret_approx_2 = np.log(-approx_output_2 + y_global_orig)\n",
        "regret_exact_2 = np.log(-exact_output_2 + y_global_orig)\n",
        "\n",
        "simple_regret_approx_2 = min_max_array(regret_approx_2)\n",
        "simple_regret_exact_2 = min_max_array(regret_exact_2)\n",
        "\n",
        "min_simple_regret_approx_2 = min(simple_regret_approx_2)\n",
        "min_simple_regret_exact_2 = min(simple_regret_exact_2)\n",
        "\n",
        "min_simple_regret_approx_2, min_simple_regret_exact_2"
      ],
      "execution_count": 55,
      "outputs": [
        {
          "output_type": "execute_result",
          "data": {
            "text/plain": [
              "(-0.45755271593560126, -0.45755271593560126)"
            ]
          },
          "metadata": {
            "tags": []
          },
          "execution_count": 55
        }
      ]
    },
    {
      "cell_type": "code",
      "metadata": {
        "id": "Bu6SBWALQxfl",
        "colab": {
          "base_uri": "https://localhost:8080/"
        },
        "outputId": "efdbedbe-fce5-46c4-be44-1c805257b292"
      },
      "source": [
        "### Simple regret minimization: run number = 3\n",
        "\n",
        "approx_output_3 = np.append(np.min(approx_3.GP.y[0:n_init]),approx_3.GP.y[n_init:(n_init+iters)]) \n",
        "exact_output_3 = np.append(np.min(exact_3.GP.y[0:n_init]),exact_3.GP.y[n_init:(n_init+iters)]) \n",
        "\n",
        "regret_approx_3 = np.log(-approx_output_3 + y_global_orig)\n",
        "regret_exact_3 = np.log(-exact_output_3 + y_global_orig)\n",
        "\n",
        "simple_regret_approx_3 = min_max_array(regret_approx_3)\n",
        "simple_regret_exact_3 = min_max_array(regret_exact_3)\n",
        "\n",
        "min_simple_regret_approx_3 = min(simple_regret_approx_3)\n",
        "min_simple_regret_exact_3 = min(simple_regret_exact_3)\n",
        "\n",
        "min_simple_regret_approx_3, min_simple_regret_exact_3"
      ],
      "execution_count": 56,
      "outputs": [
        {
          "output_type": "execute_result",
          "data": {
            "text/plain": [
              "(-0.28844349713038764, 0.4373812555756854)"
            ]
          },
          "metadata": {
            "tags": []
          },
          "execution_count": 56
        }
      ]
    },
    {
      "cell_type": "code",
      "metadata": {
        "id": "AZm0jgxkQxfm",
        "colab": {
          "base_uri": "https://localhost:8080/"
        },
        "outputId": "8b9fe4de-91e2-4056-8d9b-8e219f333c0d"
      },
      "source": [
        "### Simple regret minimization: run number = 4\n",
        "\n",
        "approx_output_4 = np.append(np.min(approx_4.GP.y[0:n_init]),approx_4.GP.y[n_init:(n_init+iters)]) \n",
        "exact_output_4 = np.append(np.min(exact_4.GP.y[0:n_init]),exact_4.GP.y[n_init:(n_init+iters)]) \n",
        "\n",
        "regret_approx_4 = np.log(-approx_output_4 + y_global_orig)\n",
        "regret_exact_4 = np.log(-exact_output_4 + y_global_orig)\n",
        "\n",
        "simple_regret_approx_4 = min_max_array(regret_approx_4)\n",
        "simple_regret_exact_4 = min_max_array(regret_exact_4)\n",
        "\n",
        "min_simple_regret_approx_4 = min(simple_regret_approx_4)\n",
        "min_simple_regret_exact_4 = min(simple_regret_exact_4)\n",
        "\n",
        "min_simple_regret_approx_4, min_simple_regret_exact_4"
      ],
      "execution_count": 57,
      "outputs": [
        {
          "output_type": "execute_result",
          "data": {
            "text/plain": [
              "(0.9092818714485758, 0.9128468108863439)"
            ]
          },
          "metadata": {
            "tags": []
          },
          "execution_count": 57
        }
      ]
    },
    {
      "cell_type": "code",
      "metadata": {
        "id": "NONPm8JIQxfn",
        "colab": {
          "base_uri": "https://localhost:8080/"
        },
        "outputId": "928aae8c-78e1-4409-d084-db8c4a252089"
      },
      "source": [
        "### Simple regret minimization: run number = 5\n",
        "\n",
        "approx_output_5 = np.append(np.min(approx_5.GP.y[0:n_init]),approx_5.GP.y[n_init:(n_init+iters)]) \n",
        "exact_output_5 = np.append(np.min(exact_5.GP.y[0:n_init]),exact_5.GP.y[n_init:(n_init+iters)]) \n",
        "\n",
        "regret_approx_5 = np.log(-approx_output_5 + y_global_orig)\n",
        "regret_exact_5 = np.log(-exact_output_5 + y_global_orig)\n",
        "\n",
        "simple_regret_approx_5 = min_max_array(regret_approx_5)\n",
        "simple_regret_exact_5 = min_max_array(regret_exact_5)\n",
        "\n",
        "min_simple_regret_approx_5 = min(simple_regret_approx_5)\n",
        "min_simple_regret_exact_5 = min(simple_regret_exact_5)\n",
        "\n",
        "min_simple_regret_approx_5, min_simple_regret_exact_5"
      ],
      "execution_count": 58,
      "outputs": [
        {
          "output_type": "execute_result",
          "data": {
            "text/plain": [
              "(1.3273120831432876, 0.6367343536969241)"
            ]
          },
          "metadata": {
            "tags": []
          },
          "execution_count": 58
        }
      ]
    },
    {
      "cell_type": "code",
      "metadata": {
        "id": "CJv3lPuSQxfp",
        "colab": {
          "base_uri": "https://localhost:8080/"
        },
        "outputId": "fb121d57-d055-4df7-cb13-8494094e2e94"
      },
      "source": [
        "### Simple regret minimization: run number = 6\n",
        "\n",
        "approx_output_6 = np.append(np.min(approx_6.GP.y[0:n_init]),approx_6.GP.y[n_init:(n_init+iters)]) \n",
        "exact_output_6 = np.append(np.min(exact_6.GP.y[0:n_init]),exact_6.GP.y[n_init:(n_init+iters)]) \n",
        "\n",
        "regret_approx_6 = np.log(-approx_output_6 + y_global_orig)\n",
        "regret_exact_6 = np.log(-exact_output_6 + y_global_orig)\n",
        "\n",
        "simple_regret_approx_6 = min_max_array(regret_approx_6)\n",
        "simple_regret_exact_6 = min_max_array(regret_exact_6)\n",
        "\n",
        "min_simple_regret_approx_6 = min(simple_regret_approx_6)\n",
        "min_simple_regret_exact_6 = min(simple_regret_exact_6)\n",
        "\n",
        "min_simple_regret_approx_6, min_simple_regret_exact_6"
      ],
      "execution_count": 59,
      "outputs": [
        {
          "output_type": "execute_result",
          "data": {
            "text/plain": [
              "(0.842517075174006, -0.022727286452021003)"
            ]
          },
          "metadata": {
            "tags": []
          },
          "execution_count": 59
        }
      ]
    },
    {
      "cell_type": "code",
      "metadata": {
        "id": "quR2ZyApQxfq",
        "colab": {
          "base_uri": "https://localhost:8080/"
        },
        "outputId": "8e27bcef-7e28-409f-dc2f-b132bb9d81c4"
      },
      "source": [
        "### Simple regret minimization: run number = 7\n",
        "\n",
        "approx_output_7 = np.append(np.min(approx_7.GP.y[0:n_init]),approx_7.GP.y[n_init:(n_init+iters)]) \n",
        "exact_output_7 = np.append(np.min(exact_7.GP.y[0:n_init]),exact_7.GP.y[n_init:(n_init+iters)]) \n",
        "\n",
        "regret_approx_7 = np.log(-approx_output_7 + y_global_orig)\n",
        "regret_exact_7 = np.log(-exact_output_7 + y_global_orig)\n",
        "\n",
        "simple_regret_approx_7 = min_max_array(regret_approx_7)\n",
        "simple_regret_exact_7 = min_max_array(regret_exact_7)\n",
        "\n",
        "min_simple_regret_approx_7 = min(simple_regret_approx_7)\n",
        "min_simple_regret_exact_7 = min(simple_regret_exact_7)\n",
        "\n",
        "min_simple_regret_approx_7, min_simple_regret_exact_7"
      ],
      "execution_count": 60,
      "outputs": [
        {
          "output_type": "execute_result",
          "data": {
            "text/plain": [
              "(0.19066991806673148, 0.19066991806673148)"
            ]
          },
          "metadata": {
            "tags": []
          },
          "execution_count": 60
        }
      ]
    },
    {
      "cell_type": "code",
      "metadata": {
        "id": "99wY5nK6Qxfr",
        "colab": {
          "base_uri": "https://localhost:8080/"
        },
        "outputId": "ff49ac2c-6a53-4f63-de27-d8bc1b8f037e"
      },
      "source": [
        "### Simple regret minimization: run number = 8\n",
        "\n",
        "approx_output_8 = np.append(np.min(approx_8.GP.y[0:n_init]),approx_8.GP.y[n_init:(n_init+iters)]) \n",
        "exact_output_8 = np.append(np.min(exact_8.GP.y[0:n_init]),exact_8.GP.y[n_init:(n_init+iters)]) \n",
        "\n",
        "regret_approx_8 = np.log(-approx_output_8 + y_global_orig)\n",
        "regret_exact_8 = np.log(-exact_output_8 + y_global_orig)\n",
        "\n",
        "simple_regret_approx_8 = min_max_array(regret_approx_8)\n",
        "simple_regret_exact_8 = min_max_array(regret_exact_8)\n",
        "\n",
        "min_simple_regret_approx_8 = min(simple_regret_approx_8)\n",
        "min_simple_regret_exact_8 = min(simple_regret_exact_8)\n",
        "\n",
        "min_simple_regret_approx_8, min_simple_regret_exact_8"
      ],
      "execution_count": 61,
      "outputs": [
        {
          "output_type": "execute_result",
          "data": {
            "text/plain": [
              "(1.8496984829216314, 0.5685514891280867)"
            ]
          },
          "metadata": {
            "tags": []
          },
          "execution_count": 61
        }
      ]
    },
    {
      "cell_type": "code",
      "metadata": {
        "id": "qt0P5t9qQxfs",
        "colab": {
          "base_uri": "https://localhost:8080/"
        },
        "outputId": "92693689-ed42-44fb-9522-6ea91f383b0a"
      },
      "source": [
        "### Simple regret minimization: run number = 9\n",
        "\n",
        "approx_output_9 = np.append(np.min(approx_9.GP.y[0:n_init]),approx_9.GP.y[n_init:(n_init+iters)]) \n",
        "exact_output_9 = np.append(np.min(exact_9.GP.y[0:n_init]),exact_9.GP.y[n_init:(n_init+iters)]) \n",
        "\n",
        "regret_approx_9 = np.log(-approx_output_9 + y_global_orig)\n",
        "regret_exact_9 = np.log(-exact_output_9 + y_global_orig)\n",
        "\n",
        "simple_regret_approx_9 = min_max_array(regret_approx_9)\n",
        "simple_regret_exact_9 = min_max_array(regret_exact_9)\n",
        "\n",
        "min_simple_regret_approx_9 = min(simple_regret_approx_9)\n",
        "min_simple_regret_exact_9 = min(simple_regret_exact_9)\n",
        "\n",
        "min_simple_regret_approx_9, min_simple_regret_exact_9"
      ],
      "execution_count": 62,
      "outputs": [
        {
          "output_type": "execute_result",
          "data": {
            "text/plain": [
              "(0.5311505318004143, 0.46504941214871776)"
            ]
          },
          "metadata": {
            "tags": []
          },
          "execution_count": 62
        }
      ]
    },
    {
      "cell_type": "code",
      "metadata": {
        "id": "vx8to9stQxft",
        "colab": {
          "base_uri": "https://localhost:8080/"
        },
        "outputId": "354675fa-5c31-4549-96c4-094baef0e3ec"
      },
      "source": [
        "### Simple regret minimization: run number = 10\n",
        "\n",
        "approx_output_10 = np.append(np.min(approx_10.GP.y[0:n_init]),approx_10.GP.y[n_init:(n_init+iters)]) \n",
        "exact_output_10 = np.append(np.min(exact_10.GP.y[0:n_init]),exact_10.GP.y[n_init:(n_init+iters)]) \n",
        "\n",
        "regret_approx_10 = np.log(-approx_output_10 + y_global_orig)\n",
        "regret_exact_10 = np.log(-exact_output_10 + y_global_orig)\n",
        "\n",
        "simple_regret_approx_10 = min_max_array(regret_approx_10)\n",
        "simple_regret_exact_10 = min_max_array(regret_exact_10)\n",
        "\n",
        "min_simple_regret_approx_10 = min(simple_regret_approx_10)\n",
        "min_simple_regret_exact_10 = min(simple_regret_exact_10)\n",
        "\n",
        "min_simple_regret_approx_10, min_simple_regret_exact_10"
      ],
      "execution_count": 63,
      "outputs": [
        {
          "output_type": "execute_result",
          "data": {
            "text/plain": [
              "(0.7270146338323442, 1.0999810345784744)"
            ]
          },
          "metadata": {
            "tags": []
          },
          "execution_count": 63
        }
      ]
    },
    {
      "cell_type": "code",
      "metadata": {
        "id": "d-FGzWyHQxfu",
        "colab": {
          "base_uri": "https://localhost:8080/"
        },
        "outputId": "95c04a52-9e83-4a7e-fddf-9e5cefeab261"
      },
      "source": [
        "### Simple regret minimization: run number = 11\n",
        "\n",
        "approx_output_11 = np.append(np.min(approx_11.GP.y[0:n_init]),approx_11.GP.y[n_init:(n_init+iters)]) \n",
        "exact_output_11 = np.append(np.min(exact_11.GP.y[0:n_init]),exact_11.GP.y[n_init:(n_init+iters)]) \n",
        "\n",
        "regret_approx_11 = np.log(-approx_output_11 + y_global_orig)\n",
        "regret_exact_11 = np.log(-exact_output_11 + y_global_orig)\n",
        "\n",
        "simple_regret_approx_11 = min_max_array(regret_approx_11)\n",
        "simple_regret_exact_11 = min_max_array(regret_exact_11)\n",
        "\n",
        "min_simple_regret_approx_11 = min(simple_regret_approx_11)\n",
        "min_simple_regret_exact_11 = min(simple_regret_exact_11)\n",
        "\n",
        "min_simple_regret_approx_11, min_simple_regret_exact_11"
      ],
      "execution_count": 64,
      "outputs": [
        {
          "output_type": "execute_result",
          "data": {
            "text/plain": [
              "(0.39575423934463444, -1.3253559690188697)"
            ]
          },
          "metadata": {
            "tags": []
          },
          "execution_count": 64
        }
      ]
    },
    {
      "cell_type": "code",
      "metadata": {
        "id": "SvtsssyjQxfv",
        "colab": {
          "base_uri": "https://localhost:8080/"
        },
        "outputId": "85c1afdd-c0d9-4b6c-d1e7-b5ac71dd56d7"
      },
      "source": [
        "### Simple regret minimization: run number = 12\n",
        "\n",
        "approx_output_12 = np.append(np.min(approx_12.GP.y[0:n_init]),approx_12.GP.y[n_init:(n_init+iters)]) \n",
        "exact_output_12 = np.append(np.min(exact_12.GP.y[0:n_init]),exact_12.GP.y[n_init:(n_init+iters)]) \n",
        "\n",
        "regret_approx_12 = np.log(-approx_output_12 + y_global_orig)\n",
        "regret_exact_12 = np.log(-exact_output_12 + y_global_orig)\n",
        "\n",
        "simple_regret_approx_12 = min_max_array(regret_approx_12)\n",
        "simple_regret_exact_12 = min_max_array(regret_exact_12)\n",
        "\n",
        "min_simple_regret_approx_12 = min(simple_regret_approx_12)\n",
        "min_simple_regret_exact_12 = min(simple_regret_exact_12)\n",
        "\n",
        "min_simple_regret_approx_12, min_simple_regret_exact_12"
      ],
      "execution_count": 65,
      "outputs": [
        {
          "output_type": "execute_result",
          "data": {
            "text/plain": [
              "(0.7191542780910578, 0.41624928879517964)"
            ]
          },
          "metadata": {
            "tags": []
          },
          "execution_count": 65
        }
      ]
    },
    {
      "cell_type": "code",
      "metadata": {
        "id": "K6OiGcHkQxfw",
        "colab": {
          "base_uri": "https://localhost:8080/"
        },
        "outputId": "d8cff5e6-db86-49c8-d8c7-52f0bd1154d6"
      },
      "source": [
        "### Simple regret minimization: run number = 13\n",
        "\n",
        "approx_output_13 = np.append(np.min(approx_13.GP.y[0:n_init]),approx_13.GP.y[n_init:(n_init+iters)]) \n",
        "exact_output_13 = np.append(np.min(exact_13.GP.y[0:n_init]),exact_13.GP.y[n_init:(n_init+iters)]) \n",
        "\n",
        "regret_approx_13 = np.log(-approx_output_13 + y_global_orig)\n",
        "regret_exact_13 = np.log(-exact_output_13 + y_global_orig)\n",
        "\n",
        "simple_regret_approx_13 = min_max_array(regret_approx_13)\n",
        "simple_regret_exact_13 = min_max_array(regret_exact_13)\n",
        "\n",
        "min_simple_regret_approx_13 = min(simple_regret_approx_13)\n",
        "min_simple_regret_exact_13 = min(simple_regret_exact_13)\n",
        "\n",
        "min_simple_regret_approx_13, min_simple_regret_exact_13"
      ],
      "execution_count": 66,
      "outputs": [
        {
          "output_type": "execute_result",
          "data": {
            "text/plain": [
              "(0.047568844859905, 0.4698426705033121)"
            ]
          },
          "metadata": {
            "tags": []
          },
          "execution_count": 66
        }
      ]
    },
    {
      "cell_type": "code",
      "metadata": {
        "id": "ogML73shQxfx",
        "colab": {
          "base_uri": "https://localhost:8080/"
        },
        "outputId": "8516bfcb-f94a-4bed-b43f-283ef7532f5c"
      },
      "source": [
        "### Simple regret minimization: run number = 14\n",
        "\n",
        "approx_output_14 = np.append(np.min(approx_14.GP.y[0:n_init]),approx_14.GP.y[n_init:(n_init+iters)]) \n",
        "exact_output_14 = np.append(np.min(exact_14.GP.y[0:n_init]),exact_14.GP.y[n_init:(n_init+iters)]) \n",
        "\n",
        "regret_approx_14 = np.log(-approx_output_14 + y_global_orig)\n",
        "regret_exact_14 = np.log(-exact_output_14 + y_global_orig)\n",
        "\n",
        "simple_regret_approx_14 = min_max_array(regret_approx_14)\n",
        "simple_regret_exact_14 = min_max_array(regret_exact_14)\n",
        "\n",
        "min_simple_regret_approx_14 = min(simple_regret_approx_14)\n",
        "min_simple_regret_exact_14 = min(simple_regret_exact_14)\n",
        "\n",
        "min_simple_regret_approx_14, min_simple_regret_exact_14"
      ],
      "execution_count": 67,
      "outputs": [
        {
          "output_type": "execute_result",
          "data": {
            "text/plain": [
              "(0.4762878090317656, -0.7712854975999445)"
            ]
          },
          "metadata": {
            "tags": []
          },
          "execution_count": 67
        }
      ]
    },
    {
      "cell_type": "code",
      "metadata": {
        "id": "9Eg7gFT9Qxfx",
        "colab": {
          "base_uri": "https://localhost:8080/"
        },
        "outputId": "72dc1b99-0914-441f-978e-4a638f868931"
      },
      "source": [
        "### Simple regret minimization: run number = 15\n",
        "\n",
        "approx_output_15 = np.append(np.min(approx_15.GP.y[0:n_init]),approx_15.GP.y[n_init:(n_init+iters)]) \n",
        "exact_output_15 = np.append(np.min(exact_15.GP.y[0:n_init]),exact_15.GP.y[n_init:(n_init+iters)]) \n",
        "\n",
        "regret_approx_15 = np.log(-approx_output_15 + y_global_orig)\n",
        "regret_exact_15 = np.log(-exact_output_15 + y_global_orig)\n",
        "\n",
        "simple_regret_approx_15 = min_max_array(regret_approx_15)\n",
        "simple_regret_exact_15 = min_max_array(regret_exact_15)\n",
        "\n",
        "min_simple_regret_approx_15 = min(simple_regret_approx_15)\n",
        "min_simple_regret_exact_15 = min(simple_regret_exact_15)\n",
        "\n",
        "min_simple_regret_approx_15, min_simple_regret_exact_15"
      ],
      "execution_count": 68,
      "outputs": [
        {
          "output_type": "execute_result",
          "data": {
            "text/plain": [
              "(1.0888676626860307, 0.44326020276114686)"
            ]
          },
          "metadata": {
            "tags": []
          },
          "execution_count": 68
        }
      ]
    },
    {
      "cell_type": "code",
      "metadata": {
        "id": "lIAC1U7ZQxfy",
        "colab": {
          "base_uri": "https://localhost:8080/"
        },
        "outputId": "21e71b50-f4d3-4751-e4f5-5a5785361a13"
      },
      "source": [
        "### Simple regret minimization: run number = 16\n",
        "\n",
        "approx_output_16 = np.append(np.min(approx_16.GP.y[0:n_init]),approx_16.GP.y[n_init:(n_init+iters)]) \n",
        "exact_output_16 = np.append(np.min(exact_16.GP.y[0:n_init]),exact_16.GP.y[n_init:(n_init+iters)]) \n",
        "\n",
        "regret_approx_16 = np.log(-approx_output_16 + y_global_orig)\n",
        "regret_exact_16 = np.log(-exact_output_16 + y_global_orig)\n",
        "\n",
        "simple_regret_approx_16 = min_max_array(regret_approx_16)\n",
        "simple_regret_exact_16 = min_max_array(regret_exact_16)\n",
        "\n",
        "min_simple_regret_approx_16 = min(simple_regret_approx_16)\n",
        "min_simple_regret_exact_16 = min(simple_regret_exact_16)\n",
        "\n",
        "min_simple_regret_approx_16, min_simple_regret_exact_16"
      ],
      "execution_count": 69,
      "outputs": [
        {
          "output_type": "execute_result",
          "data": {
            "text/plain": [
              "(1.1462234586538276, 1.162901266988697)"
            ]
          },
          "metadata": {
            "tags": []
          },
          "execution_count": 69
        }
      ]
    },
    {
      "cell_type": "code",
      "metadata": {
        "id": "bGott36OQxfz",
        "colab": {
          "base_uri": "https://localhost:8080/"
        },
        "outputId": "8bb47ba4-fc2b-491e-c798-ef931e22276c"
      },
      "source": [
        "### Simple regret minimization: run number = 17\n",
        "\n",
        "approx_output_17 = np.append(np.min(approx_17.GP.y[0:n_init]),approx_17.GP.y[n_init:(n_init+iters)]) \n",
        "exact_output_17 = np.append(np.min(exact_17.GP.y[0:n_init]),exact_17.GP.y[n_init:(n_init+iters)]) \n",
        "\n",
        "regret_approx_17 = np.log(-approx_output_17 + y_global_orig)\n",
        "regret_exact_17 = np.log(-exact_output_17 + y_global_orig)\n",
        "\n",
        "simple_regret_approx_17 = min_max_array(regret_approx_17)\n",
        "simple_regret_exact_17 = min_max_array(regret_exact_17)\n",
        "\n",
        "min_simple_regret_approx_17 = min(simple_regret_approx_17)\n",
        "min_simple_regret_exact_17 = min(simple_regret_exact_17)\n",
        "\n",
        "min_simple_regret_approx_17, min_simple_regret_exact_17"
      ],
      "execution_count": 70,
      "outputs": [
        {
          "output_type": "execute_result",
          "data": {
            "text/plain": [
              "(0.48388485945608994, -0.10553854636045647)"
            ]
          },
          "metadata": {
            "tags": []
          },
          "execution_count": 70
        }
      ]
    },
    {
      "cell_type": "code",
      "metadata": {
        "id": "Cz9ZYMBMQxfz",
        "colab": {
          "base_uri": "https://localhost:8080/"
        },
        "outputId": "ad8c18f3-431a-45c5-b061-d81b5d7e563a"
      },
      "source": [
        "### Simple regret minimization: run number = 18\n",
        "\n",
        "approx_output_18 = np.append(np.min(approx_18.GP.y[0:n_init]),approx_18.GP.y[n_init:(n_init+iters)]) \n",
        "exact_output_18 = np.append(np.min(exact_18.GP.y[0:n_init]),exact_18.GP.y[n_init:(n_init+iters)]) \n",
        "\n",
        "regret_approx_18 = np.log(-approx_output_18 + y_global_orig)\n",
        "regret_exact_18 = np.log(-exact_output_18 + y_global_orig)\n",
        "\n",
        "simple_regret_approx_18 = min_max_array(regret_approx_18)\n",
        "simple_regret_exact_18 = min_max_array(regret_exact_18)\n",
        "\n",
        "min_simple_regret_approx_18 = min(simple_regret_approx_18)\n",
        "min_simple_regret_exact_18 = min(simple_regret_exact_18)\n",
        "\n",
        "min_simple_regret_approx_18, min_simple_regret_exact_18"
      ],
      "execution_count": 71,
      "outputs": [
        {
          "output_type": "execute_result",
          "data": {
            "text/plain": [
              "(1.6733882078753337, -0.018584825805617558)"
            ]
          },
          "metadata": {
            "tags": []
          },
          "execution_count": 71
        }
      ]
    },
    {
      "cell_type": "code",
      "metadata": {
        "id": "OBfpWOHNQxf0",
        "colab": {
          "base_uri": "https://localhost:8080/"
        },
        "outputId": "eff3188a-9dd5-410a-917b-099334d5ddf1"
      },
      "source": [
        "### Simple regret minimization: run number = 19\n",
        "\n",
        "approx_output_19 = np.append(np.min(approx_19.GP.y[0:n_init]),approx_19.GP.y[n_init:(n_init+iters)]) \n",
        "exact_output_19 = np.append(np.min(exact_19.GP.y[0:n_init]),exact_19.GP.y[n_init:(n_init+iters)]) \n",
        "\n",
        "regret_approx_19 = np.log(-approx_output_19 + y_global_orig)\n",
        "regret_exact_19 = np.log(-exact_output_19 + y_global_orig)\n",
        "\n",
        "simple_regret_approx_19 = min_max_array(regret_approx_19)\n",
        "simple_regret_exact_19 = min_max_array(regret_exact_19)\n",
        "\n",
        "min_simple_regret_approx_19 = min(simple_regret_approx_19)\n",
        "min_simple_regret_exact_19 = min(simple_regret_exact_19)\n",
        "\n",
        "min_simple_regret_approx_19, min_simple_regret_exact_19"
      ],
      "execution_count": 72,
      "outputs": [
        {
          "output_type": "execute_result",
          "data": {
            "text/plain": [
              "(-2.559174494760639, -0.20033420062684293)"
            ]
          },
          "metadata": {
            "tags": []
          },
          "execution_count": 72
        }
      ]
    },
    {
      "cell_type": "code",
      "metadata": {
        "id": "BE1AJ7NsQxf0",
        "colab": {
          "base_uri": "https://localhost:8080/"
        },
        "outputId": "49de5625-aa32-4bdc-f3c7-b2892efa583d"
      },
      "source": [
        "### Simple regret minimization: run number = 20\n",
        "\n",
        "approx_output_20 = np.append(np.min(approx_20.GP.y[0:n_init]),approx_20.GP.y[n_init:(n_init+iters)]) \n",
        "exact_output_20 = np.append(np.min(exact_20.GP.y[0:n_init]),exact_20.GP.y[n_init:(n_init+iters)]) \n",
        "\n",
        "regret_approx_20 = np.log(-approx_output_20 + y_global_orig)\n",
        "regret_exact_20 = np.log(-exact_output_20 + y_global_orig)\n",
        "\n",
        "simple_regret_approx_20 = min_max_array(regret_approx_20)\n",
        "simple_regret_exact_20 = min_max_array(regret_exact_20)\n",
        "\n",
        "min_simple_regret_approx_20 = min(simple_regret_approx_20)\n",
        "min_simple_regret_exact_20 = min(simple_regret_exact_20)\n",
        "\n",
        "min_simple_regret_approx_20, min_simple_regret_exact_20"
      ],
      "execution_count": 73,
      "outputs": [
        {
          "output_type": "execute_result",
          "data": {
            "text/plain": [
              "(1.5958961782176881, -0.37869010972978323)"
            ]
          },
          "metadata": {
            "tags": []
          },
          "execution_count": 73
        }
      ]
    },
    {
      "cell_type": "code",
      "metadata": {
        "id": "bpX-bKAHQxf1"
      },
      "source": [
        "# Iteration1 :\n",
        "\n",
        "slice1 = 0\n",
        "\n",
        "approx1 = [simple_regret_approx_1[slice1],\n",
        "       simple_regret_approx_2[slice1],\n",
        "       simple_regret_approx_3[slice1],\n",
        "       simple_regret_approx_4[slice1],\n",
        "       simple_regret_approx_5[slice1],\n",
        "       simple_regret_approx_6[slice1],\n",
        "       simple_regret_approx_7[slice1],\n",
        "       simple_regret_approx_8[slice1],\n",
        "       simple_regret_approx_9[slice1],\n",
        "       simple_regret_approx_10[slice1],\n",
        "       simple_regret_approx_11[slice1],\n",
        "       simple_regret_approx_12[slice1],\n",
        "       simple_regret_approx_13[slice1],\n",
        "       simple_regret_approx_14[slice1],\n",
        "       simple_regret_approx_15[slice1],\n",
        "       simple_regret_approx_16[slice1],\n",
        "       simple_regret_approx_17[slice1],\n",
        "       simple_regret_approx_18[slice1],\n",
        "       simple_regret_approx_19[slice1],\n",
        "       simple_regret_approx_20[slice1]]\n",
        "\n",
        "exact1 = [simple_regret_exact_1[slice1],\n",
        "       simple_regret_exact_2[slice1],\n",
        "       simple_regret_exact_3[slice1],\n",
        "       simple_regret_exact_4[slice1],\n",
        "       simple_regret_exact_5[slice1],\n",
        "       simple_regret_exact_6[slice1],\n",
        "       simple_regret_exact_7[slice1],\n",
        "       simple_regret_exact_8[slice1],\n",
        "       simple_regret_exact_9[slice1],\n",
        "       simple_regret_exact_10[slice1],\n",
        "       simple_regret_exact_11[slice1],\n",
        "       simple_regret_exact_12[slice1],\n",
        "       simple_regret_exact_13[slice1],\n",
        "       simple_regret_exact_14[slice1],\n",
        "       simple_regret_exact_15[slice1],\n",
        "       simple_regret_exact_16[slice1],\n",
        "       simple_regret_exact_17[slice1],\n",
        "       simple_regret_exact_18[slice1],\n",
        "       simple_regret_exact_19[slice1],\n",
        "       simple_regret_exact_20[slice1]]\n",
        "\n",
        "approx1_results = pd.DataFrame(approx1).sort_values(by=[0], ascending=False)\n",
        "exact1_results = pd.DataFrame(exact1).sort_values(by=[0], ascending=False)\n",
        "\n",
        "### Best simple regret minimization IQR - approx:\n",
        "lower_approx1 = np.asarray(approx1_results[4:5][0])[0]\n",
        "median_approx1 = np.asarray(approx1_results[9:10][0])[0]\n",
        "upper_approx1 = np.asarray(approx1_results[14:15][0])[0]\n",
        "\n",
        "lower_exact1 = np.asarray(exact1_results[4:5][0])[0]\n",
        "median_exact1 = np.asarray(exact1_results[9:10][0])[0]\n",
        "upper_exact1 = np.asarray(exact1_results[14:15][0])[0]"
      ],
      "execution_count": 74,
      "outputs": []
    },
    {
      "cell_type": "code",
      "metadata": {
        "id": "CgIkJA1xQxf2"
      },
      "source": [
        "# Iteration11 :\n",
        "\n",
        "slice11 = 10\n",
        "\n",
        "approx11 = [simple_regret_approx_1[slice11],\n",
        "       simple_regret_approx_2[slice11],\n",
        "       simple_regret_approx_3[slice11],\n",
        "       simple_regret_approx_4[slice11],\n",
        "       simple_regret_approx_5[slice11],\n",
        "       simple_regret_approx_6[slice11],\n",
        "       simple_regret_approx_7[slice11],\n",
        "       simple_regret_approx_8[slice11],\n",
        "       simple_regret_approx_9[slice11],\n",
        "       simple_regret_approx_10[slice11],\n",
        "       simple_regret_approx_11[slice11],\n",
        "       simple_regret_approx_12[slice11],\n",
        "       simple_regret_approx_13[slice11],\n",
        "       simple_regret_approx_14[slice11],\n",
        "       simple_regret_approx_15[slice11],\n",
        "       simple_regret_approx_16[slice11],\n",
        "       simple_regret_approx_17[slice11],\n",
        "       simple_regret_approx_18[slice11],\n",
        "       simple_regret_approx_19[slice11],\n",
        "       simple_regret_approx_20[slice11]]\n",
        "\n",
        "exact11 = [simple_regret_exact_1[slice11],\n",
        "       simple_regret_exact_2[slice11],\n",
        "       simple_regret_exact_3[slice11],\n",
        "       simple_regret_exact_4[slice11],\n",
        "       simple_regret_exact_5[slice11],\n",
        "       simple_regret_exact_6[slice11],\n",
        "       simple_regret_exact_7[slice11],\n",
        "       simple_regret_exact_8[slice11],\n",
        "       simple_regret_exact_9[slice11],\n",
        "       simple_regret_exact_10[slice11],\n",
        "       simple_regret_exact_11[slice11],\n",
        "       simple_regret_exact_12[slice11],\n",
        "       simple_regret_exact_13[slice11],\n",
        "       simple_regret_exact_14[slice11],\n",
        "       simple_regret_exact_15[slice11],\n",
        "       simple_regret_exact_16[slice11],\n",
        "       simple_regret_exact_17[slice11],\n",
        "       simple_regret_exact_18[slice11],\n",
        "       simple_regret_exact_19[slice11],\n",
        "       simple_regret_exact_20[slice11]]\n",
        "\n",
        "approx11_results = pd.DataFrame(approx11).sort_values(by=[0], ascending=False)\n",
        "exact11_results = pd.DataFrame(exact11).sort_values(by=[0], ascending=False)\n",
        "\n",
        "### Best simple regret minimization IQR - approx:\n",
        "lower_approx11 = np.asarray(approx11_results[4:5][0])[0]\n",
        "median_approx11 = np.asarray(approx11_results[9:10][0])[0]\n",
        "upper_approx11 = np.asarray(approx11_results[14:15][0])[0]\n",
        "\n",
        "lower_exact11 = np.asarray(exact11_results[4:5][0])[0]\n",
        "median_exact11 = np.asarray(exact11_results[9:10][0])[0]\n",
        "upper_exact11 = np.asarray(exact11_results[14:15][0])[0]"
      ],
      "execution_count": 75,
      "outputs": []
    },
    {
      "cell_type": "code",
      "metadata": {
        "id": "MFePDfGuQxf2"
      },
      "source": [
        "# Iteration21 :\n",
        "\n",
        "slice21 = 20\n",
        "\n",
        "approx21 = [simple_regret_approx_1[slice21],\n",
        "       simple_regret_approx_2[slice21],\n",
        "       simple_regret_approx_3[slice21],\n",
        "       simple_regret_approx_4[slice21],\n",
        "       simple_regret_approx_5[slice21],\n",
        "       simple_regret_approx_6[slice21],\n",
        "       simple_regret_approx_7[slice21],\n",
        "       simple_regret_approx_8[slice21],\n",
        "       simple_regret_approx_9[slice21],\n",
        "       simple_regret_approx_10[slice21],\n",
        "       simple_regret_approx_11[slice21],\n",
        "       simple_regret_approx_12[slice21],\n",
        "       simple_regret_approx_13[slice21],\n",
        "       simple_regret_approx_14[slice21],\n",
        "       simple_regret_approx_15[slice21],\n",
        "       simple_regret_approx_16[slice21],\n",
        "       simple_regret_approx_17[slice21],\n",
        "       simple_regret_approx_18[slice21],\n",
        "       simple_regret_approx_19[slice21],\n",
        "       simple_regret_approx_20[slice21]]\n",
        "\n",
        "exact21 = [simple_regret_exact_1[slice21],\n",
        "       simple_regret_exact_2[slice21],\n",
        "       simple_regret_exact_3[slice21],\n",
        "       simple_regret_exact_4[slice21],\n",
        "       simple_regret_exact_5[slice21],\n",
        "       simple_regret_exact_6[slice21],\n",
        "       simple_regret_exact_7[slice21],\n",
        "       simple_regret_exact_8[slice21],\n",
        "       simple_regret_exact_9[slice21],\n",
        "       simple_regret_exact_10[slice21],\n",
        "       simple_regret_exact_11[slice21],\n",
        "       simple_regret_exact_12[slice21],\n",
        "       simple_regret_exact_13[slice21],\n",
        "       simple_regret_exact_14[slice21],\n",
        "       simple_regret_exact_15[slice21],\n",
        "       simple_regret_exact_16[slice21],\n",
        "       simple_regret_exact_17[slice21],\n",
        "       simple_regret_exact_18[slice21],\n",
        "       simple_regret_exact_19[slice21],\n",
        "       simple_regret_exact_20[slice21]]\n",
        "\n",
        "approx21_results = pd.DataFrame(approx21).sort_values(by=[0], ascending=False)\n",
        "exact21_results = pd.DataFrame(exact21).sort_values(by=[0], ascending=False)\n",
        "\n",
        "### Best simple regret minimization IQR - approx:\n",
        "lower_approx21 = np.asarray(approx21_results[4:5][0])[0]\n",
        "median_approx21 = np.asarray(approx21_results[9:10][0])[0]\n",
        "upper_approx21 = np.asarray(approx21_results[14:15][0])[0]\n",
        "\n",
        "lower_exact21 = np.asarray(exact21_results[4:5][0])[0]\n",
        "median_exact21 = np.asarray(exact21_results[9:10][0])[0]\n",
        "upper_exact21 = np.asarray(exact21_results[14:15][0])[0]"
      ],
      "execution_count": 76,
      "outputs": []
    },
    {
      "cell_type": "code",
      "metadata": {
        "id": "PrRDB1kfQxf3"
      },
      "source": [
        "# Iteration2 :\n",
        "\n",
        "slice2 = 1\n",
        "\n",
        "approx2 = [simple_regret_approx_1[slice2],\n",
        "       simple_regret_approx_2[slice2],\n",
        "       simple_regret_approx_3[slice2],\n",
        "       simple_regret_approx_4[slice2],\n",
        "       simple_regret_approx_5[slice2],\n",
        "       simple_regret_approx_6[slice2],\n",
        "       simple_regret_approx_7[slice2],\n",
        "       simple_regret_approx_8[slice2],\n",
        "       simple_regret_approx_9[slice2],\n",
        "       simple_regret_approx_10[slice2],\n",
        "       simple_regret_approx_11[slice2],\n",
        "       simple_regret_approx_12[slice2],\n",
        "       simple_regret_approx_13[slice2],\n",
        "       simple_regret_approx_14[slice2],\n",
        "       simple_regret_approx_15[slice2],\n",
        "       simple_regret_approx_16[slice2],\n",
        "       simple_regret_approx_17[slice2],\n",
        "       simple_regret_approx_18[slice2],\n",
        "       simple_regret_approx_19[slice2],\n",
        "       simple_regret_approx_20[slice2]]\n",
        "\n",
        "exact2 = [simple_regret_exact_1[slice2],\n",
        "       simple_regret_exact_2[slice2],\n",
        "       simple_regret_exact_3[slice2],\n",
        "       simple_regret_exact_4[slice2],\n",
        "       simple_regret_exact_5[slice2],\n",
        "       simple_regret_exact_6[slice2],\n",
        "       simple_regret_exact_7[slice2],\n",
        "       simple_regret_exact_8[slice2],\n",
        "       simple_regret_exact_9[slice2],\n",
        "       simple_regret_exact_10[slice2],\n",
        "       simple_regret_exact_11[slice2],\n",
        "       simple_regret_exact_12[slice2],\n",
        "       simple_regret_exact_13[slice2],\n",
        "       simple_regret_exact_14[slice2],\n",
        "       simple_regret_exact_15[slice2],\n",
        "       simple_regret_exact_16[slice2],\n",
        "       simple_regret_exact_17[slice2],\n",
        "       simple_regret_exact_18[slice2],\n",
        "       simple_regret_exact_19[slice2],\n",
        "       simple_regret_exact_20[slice2]]\n",
        "\n",
        "approx2_results = pd.DataFrame(approx2).sort_values(by=[0], ascending=False)\n",
        "exact2_results = pd.DataFrame(exact2).sort_values(by=[0], ascending=False)\n",
        "\n",
        "### Best simple regret minimization IQR - approx:\n",
        "lower_approx2 = np.asarray(approx2_results[4:5][0])[0]\n",
        "median_approx2 = np.asarray(approx2_results[9:10][0])[0]\n",
        "upper_approx2 = np.asarray(approx2_results[14:15][0])[0]\n",
        "\n",
        "lower_exact2 = np.asarray(exact2_results[4:5][0])[0]\n",
        "median_exact2 = np.asarray(exact2_results[9:10][0])[0]\n",
        "upper_exact2 = np.asarray(exact2_results[14:15][0])[0]"
      ],
      "execution_count": 77,
      "outputs": []
    },
    {
      "cell_type": "code",
      "metadata": {
        "id": "B8ncJDYeQxf3"
      },
      "source": [
        "# Iteration12 :\n",
        "\n",
        "slice12 = 11\n",
        "\n",
        "approx12 = [simple_regret_approx_1[slice12],\n",
        "       simple_regret_approx_2[slice12],\n",
        "       simple_regret_approx_3[slice12],\n",
        "       simple_regret_approx_4[slice12],\n",
        "       simple_regret_approx_5[slice12],\n",
        "       simple_regret_approx_6[slice12],\n",
        "       simple_regret_approx_7[slice12],\n",
        "       simple_regret_approx_8[slice12],\n",
        "       simple_regret_approx_9[slice12],\n",
        "       simple_regret_approx_10[slice12],\n",
        "       simple_regret_approx_11[slice12],\n",
        "       simple_regret_approx_12[slice12],\n",
        "       simple_regret_approx_13[slice12],\n",
        "       simple_regret_approx_14[slice12],\n",
        "       simple_regret_approx_15[slice12],\n",
        "       simple_regret_approx_16[slice12],\n",
        "       simple_regret_approx_17[slice12],\n",
        "       simple_regret_approx_18[slice12],\n",
        "       simple_regret_approx_19[slice12],\n",
        "       simple_regret_approx_20[slice12]]\n",
        "\n",
        "exact12 = [simple_regret_exact_1[slice12],\n",
        "       simple_regret_exact_2[slice12],\n",
        "       simple_regret_exact_3[slice12],\n",
        "       simple_regret_exact_4[slice12],\n",
        "       simple_regret_exact_5[slice12],\n",
        "       simple_regret_exact_6[slice12],\n",
        "       simple_regret_exact_7[slice12],\n",
        "       simple_regret_exact_8[slice12],\n",
        "       simple_regret_exact_9[slice12],\n",
        "       simple_regret_exact_10[slice12],\n",
        "       simple_regret_exact_11[slice12],\n",
        "       simple_regret_exact_12[slice12],\n",
        "       simple_regret_exact_13[slice12],\n",
        "       simple_regret_exact_14[slice12],\n",
        "       simple_regret_exact_15[slice12],\n",
        "       simple_regret_exact_16[slice12],\n",
        "       simple_regret_exact_17[slice12],\n",
        "       simple_regret_exact_18[slice12],\n",
        "       simple_regret_exact_19[slice12],\n",
        "       simple_regret_exact_20[slice12]]\n",
        "\n",
        "approx12_results = pd.DataFrame(approx12).sort_values(by=[0], ascending=False)\n",
        "exact12_results = pd.DataFrame(exact12).sort_values(by=[0], ascending=False)\n",
        "\n",
        "### Best simple regret minimization IQR - approx:\n",
        "lower_approx12 = np.asarray(approx12_results[4:5][0])[0]\n",
        "median_approx12 = np.asarray(approx12_results[9:10][0])[0]\n",
        "upper_approx12 = np.asarray(approx12_results[14:15][0])[0]\n",
        "\n",
        "lower_exact12 = np.asarray(exact12_results[4:5][0])[0]\n",
        "median_exact12 = np.asarray(exact12_results[9:10][0])[0]\n",
        "upper_exact12 = np.asarray(exact12_results[14:15][0])[0]"
      ],
      "execution_count": 78,
      "outputs": []
    },
    {
      "cell_type": "code",
      "metadata": {
        "id": "Jn4KpGvcQxf4"
      },
      "source": [
        "# Iteration3 :\n",
        "\n",
        "slice3 = 2\n",
        "\n",
        "approx3 = [simple_regret_approx_1[slice3],\n",
        "       simple_regret_approx_2[slice3],\n",
        "       simple_regret_approx_3[slice3],\n",
        "       simple_regret_approx_4[slice3],\n",
        "       simple_regret_approx_5[slice3],\n",
        "       simple_regret_approx_6[slice3],\n",
        "       simple_regret_approx_7[slice3],\n",
        "       simple_regret_approx_8[slice3],\n",
        "       simple_regret_approx_9[slice3],\n",
        "       simple_regret_approx_10[slice3],\n",
        "       simple_regret_approx_11[slice3],\n",
        "       simple_regret_approx_12[slice3],\n",
        "       simple_regret_approx_13[slice3],\n",
        "       simple_regret_approx_14[slice3],\n",
        "       simple_regret_approx_15[slice3],\n",
        "       simple_regret_approx_16[slice3],\n",
        "       simple_regret_approx_17[slice3],\n",
        "       simple_regret_approx_18[slice3],\n",
        "       simple_regret_approx_19[slice3],\n",
        "       simple_regret_approx_20[slice3]]\n",
        "\n",
        "exact3 = [simple_regret_exact_1[slice3],\n",
        "       simple_regret_exact_2[slice3],\n",
        "       simple_regret_exact_3[slice3],\n",
        "       simple_regret_exact_4[slice3],\n",
        "       simple_regret_exact_5[slice3],\n",
        "       simple_regret_exact_6[slice3],\n",
        "       simple_regret_exact_7[slice3],\n",
        "       simple_regret_exact_8[slice3],\n",
        "       simple_regret_exact_9[slice3],\n",
        "       simple_regret_exact_10[slice3],\n",
        "       simple_regret_exact_11[slice3],\n",
        "       simple_regret_exact_12[slice3],\n",
        "       simple_regret_exact_13[slice3],\n",
        "       simple_regret_exact_14[slice3],\n",
        "       simple_regret_exact_15[slice3],\n",
        "       simple_regret_exact_16[slice3],\n",
        "       simple_regret_exact_17[slice3],\n",
        "       simple_regret_exact_18[slice3],\n",
        "       simple_regret_exact_19[slice3],\n",
        "       simple_regret_exact_20[slice3]]\n",
        "\n",
        "approx3_results = pd.DataFrame(approx3).sort_values(by=[0], ascending=False)\n",
        "exact3_results = pd.DataFrame(exact3).sort_values(by=[0], ascending=False)\n",
        "\n",
        "### Best simple regret minimization IQR - approx:\n",
        "lower_approx3 = np.asarray(approx3_results[4:5][0])[0]\n",
        "median_approx3 = np.asarray(approx3_results[9:10][0])[0]\n",
        "upper_approx3 = np.asarray(approx3_results[14:15][0])[0]\n",
        "\n",
        "lower_exact3 = np.asarray(exact3_results[4:5][0])[0]\n",
        "median_exact3 = np.asarray(exact3_results[9:10][0])[0]\n",
        "upper_exact3 = np.asarray(exact3_results[14:15][0])[0]"
      ],
      "execution_count": 79,
      "outputs": []
    },
    {
      "cell_type": "code",
      "metadata": {
        "id": "plf83wxrQxf4"
      },
      "source": [
        "# Iteration13 :\n",
        "\n",
        "slice13 = 12\n",
        "\n",
        "approx13 = [simple_regret_approx_1[slice13],\n",
        "       simple_regret_approx_2[slice13],\n",
        "       simple_regret_approx_3[slice13],\n",
        "       simple_regret_approx_4[slice13],\n",
        "       simple_regret_approx_5[slice13],\n",
        "       simple_regret_approx_6[slice13],\n",
        "       simple_regret_approx_7[slice13],\n",
        "       simple_regret_approx_8[slice13],\n",
        "       simple_regret_approx_9[slice13],\n",
        "       simple_regret_approx_10[slice13],\n",
        "       simple_regret_approx_11[slice13],\n",
        "       simple_regret_approx_12[slice13],\n",
        "       simple_regret_approx_13[slice13],\n",
        "       simple_regret_approx_14[slice13],\n",
        "       simple_regret_approx_15[slice13],\n",
        "       simple_regret_approx_16[slice13],\n",
        "       simple_regret_approx_17[slice13],\n",
        "       simple_regret_approx_18[slice13],\n",
        "       simple_regret_approx_19[slice13],\n",
        "       simple_regret_approx_20[slice13]]\n",
        "\n",
        "exact13 = [simple_regret_exact_1[slice13],\n",
        "       simple_regret_exact_2[slice13],\n",
        "       simple_regret_exact_3[slice13],\n",
        "       simple_regret_exact_4[slice13],\n",
        "       simple_regret_exact_5[slice13],\n",
        "       simple_regret_exact_6[slice13],\n",
        "       simple_regret_exact_7[slice13],\n",
        "       simple_regret_exact_8[slice13],\n",
        "       simple_regret_exact_9[slice13],\n",
        "       simple_regret_exact_10[slice13],\n",
        "       simple_regret_exact_11[slice13],\n",
        "       simple_regret_exact_12[slice13],\n",
        "       simple_regret_exact_13[slice13],\n",
        "       simple_regret_exact_14[slice13],\n",
        "       simple_regret_exact_15[slice13],\n",
        "       simple_regret_exact_16[slice13],\n",
        "       simple_regret_exact_17[slice13],\n",
        "       simple_regret_exact_18[slice13],\n",
        "       simple_regret_exact_19[slice13],\n",
        "       simple_regret_exact_20[slice13]]\n",
        "\n",
        "approx13_results = pd.DataFrame(approx13).sort_values(by=[0], ascending=False)\n",
        "exact13_results = pd.DataFrame(exact13).sort_values(by=[0], ascending=False)\n",
        "\n",
        "### Best simple regret minimization IQR - approx:\n",
        "lower_approx13 = np.asarray(approx13_results[4:5][0])[0]\n",
        "median_approx13 = np.asarray(approx13_results[9:10][0])[0]\n",
        "upper_approx13 = np.asarray(approx13_results[14:15][0])[0]\n",
        "\n",
        "lower_exact13 = np.asarray(exact13_results[4:5][0])[0]\n",
        "median_exact13 = np.asarray(exact13_results[9:10][0])[0]\n",
        "upper_exact13 = np.asarray(exact13_results[14:15][0])[0]"
      ],
      "execution_count": 80,
      "outputs": []
    },
    {
      "cell_type": "code",
      "metadata": {
        "id": "9A7mlVvJQxf5"
      },
      "source": [
        "# Iteration4 :\n",
        "\n",
        "slice4 = 3\n",
        "\n",
        "approx4 = [simple_regret_approx_1[slice4],\n",
        "       simple_regret_approx_2[slice4],\n",
        "       simple_regret_approx_3[slice4],\n",
        "       simple_regret_approx_4[slice4],\n",
        "       simple_regret_approx_5[slice4],\n",
        "       simple_regret_approx_6[slice4],\n",
        "       simple_regret_approx_7[slice4],\n",
        "       simple_regret_approx_8[slice4],\n",
        "       simple_regret_approx_9[slice4],\n",
        "       simple_regret_approx_10[slice4],\n",
        "       simple_regret_approx_11[slice4],\n",
        "       simple_regret_approx_12[slice4],\n",
        "       simple_regret_approx_13[slice4],\n",
        "       simple_regret_approx_14[slice4],\n",
        "       simple_regret_approx_15[slice4],\n",
        "       simple_regret_approx_16[slice4],\n",
        "       simple_regret_approx_17[slice4],\n",
        "       simple_regret_approx_18[slice4],\n",
        "       simple_regret_approx_19[slice4],\n",
        "       simple_regret_approx_20[slice4]]\n",
        "\n",
        "exact4 = [simple_regret_exact_1[slice4],\n",
        "       simple_regret_exact_2[slice4],\n",
        "       simple_regret_exact_3[slice4],\n",
        "       simple_regret_exact_4[slice4],\n",
        "       simple_regret_exact_5[slice4],\n",
        "       simple_regret_exact_6[slice4],\n",
        "       simple_regret_exact_7[slice4],\n",
        "       simple_regret_exact_8[slice4],\n",
        "       simple_regret_exact_9[slice4],\n",
        "       simple_regret_exact_10[slice4],\n",
        "       simple_regret_exact_11[slice4],\n",
        "       simple_regret_exact_12[slice4],\n",
        "       simple_regret_exact_13[slice4],\n",
        "       simple_regret_exact_14[slice4],\n",
        "       simple_regret_exact_15[slice4],\n",
        "       simple_regret_exact_16[slice4],\n",
        "       simple_regret_exact_17[slice4],\n",
        "       simple_regret_exact_18[slice4],\n",
        "       simple_regret_exact_19[slice4],\n",
        "       simple_regret_exact_20[slice4]]\n",
        "\n",
        "approx4_results = pd.DataFrame(approx4).sort_values(by=[0], ascending=False)\n",
        "exact4_results = pd.DataFrame(exact4).sort_values(by=[0], ascending=False)\n",
        "\n",
        "### Best simple regret minimization IQR - approx:\n",
        "lower_approx4 = np.asarray(approx4_results[4:5][0])[0]\n",
        "median_approx4 = np.asarray(approx4_results[9:10][0])[0]\n",
        "upper_approx4 = np.asarray(approx4_results[14:15][0])[0]\n",
        "\n",
        "lower_exact4 = np.asarray(exact4_results[4:5][0])[0]\n",
        "median_exact4 = np.asarray(exact4_results[9:10][0])[0]\n",
        "upper_exact4 = np.asarray(exact4_results[14:15][0])[0]"
      ],
      "execution_count": 81,
      "outputs": []
    },
    {
      "cell_type": "code",
      "metadata": {
        "id": "ijq-rioYQxf5"
      },
      "source": [
        "# Iteration14 :\n",
        "\n",
        "slice14 = 13\n",
        "\n",
        "approx14 = [simple_regret_approx_1[slice14],\n",
        "       simple_regret_approx_2[slice14],\n",
        "       simple_regret_approx_3[slice14],\n",
        "       simple_regret_approx_4[slice14],\n",
        "       simple_regret_approx_5[slice14],\n",
        "       simple_regret_approx_6[slice14],\n",
        "       simple_regret_approx_7[slice14],\n",
        "       simple_regret_approx_8[slice14],\n",
        "       simple_regret_approx_9[slice14],\n",
        "       simple_regret_approx_10[slice14],\n",
        "       simple_regret_approx_11[slice14],\n",
        "       simple_regret_approx_12[slice14],\n",
        "       simple_regret_approx_13[slice14],\n",
        "       simple_regret_approx_14[slice14],\n",
        "       simple_regret_approx_15[slice14],\n",
        "       simple_regret_approx_16[slice14],\n",
        "       simple_regret_approx_17[slice14],\n",
        "       simple_regret_approx_18[slice14],\n",
        "       simple_regret_approx_19[slice14],\n",
        "       simple_regret_approx_20[slice14]]\n",
        "\n",
        "exact14 = [simple_regret_exact_1[slice14],\n",
        "       simple_regret_exact_2[slice14],\n",
        "       simple_regret_exact_3[slice14],\n",
        "       simple_regret_exact_4[slice14],\n",
        "       simple_regret_exact_5[slice14],\n",
        "       simple_regret_exact_6[slice14],\n",
        "       simple_regret_exact_7[slice14],\n",
        "       simple_regret_exact_8[slice14],\n",
        "       simple_regret_exact_9[slice14],\n",
        "       simple_regret_exact_10[slice14],\n",
        "       simple_regret_exact_11[slice14],\n",
        "       simple_regret_exact_12[slice14],\n",
        "       simple_regret_exact_13[slice14],\n",
        "       simple_regret_exact_14[slice14],\n",
        "       simple_regret_exact_15[slice14],\n",
        "       simple_regret_exact_16[slice14],\n",
        "       simple_regret_exact_17[slice14],\n",
        "       simple_regret_exact_18[slice14],\n",
        "       simple_regret_exact_19[slice14],\n",
        "       simple_regret_exact_20[slice14]]\n",
        "\n",
        "approx14_results = pd.DataFrame(approx14).sort_values(by=[0], ascending=False)\n",
        "exact14_results = pd.DataFrame(exact14).sort_values(by=[0], ascending=False)\n",
        "\n",
        "### Best simple regret minimization IQR - approx:\n",
        "lower_approx14 = np.asarray(approx14_results[4:5][0])[0]\n",
        "median_approx14 = np.asarray(approx14_results[9:10][0])[0]\n",
        "upper_approx14 = np.asarray(approx14_results[14:15][0])[0]\n",
        "\n",
        "lower_exact14 = np.asarray(exact14_results[4:5][0])[0]\n",
        "median_exact14 = np.asarray(exact14_results[9:10][0])[0]\n",
        "upper_exact14 = np.asarray(exact14_results[14:15][0])[0]"
      ],
      "execution_count": 82,
      "outputs": []
    },
    {
      "cell_type": "code",
      "metadata": {
        "id": "XINlZjoTd-ZK"
      },
      "source": [
        "# Iteration5 :\n",
        "\n",
        "slice5 = 4\n",
        "\n",
        "approx5 = [simple_regret_approx_1[slice5],\n",
        "       simple_regret_approx_2[slice5],\n",
        "       simple_regret_approx_3[slice5],\n",
        "       simple_regret_approx_4[slice5],\n",
        "       simple_regret_approx_5[slice5],\n",
        "       simple_regret_approx_6[slice5],\n",
        "       simple_regret_approx_7[slice5],\n",
        "       simple_regret_approx_8[slice5],\n",
        "       simple_regret_approx_9[slice5],\n",
        "       simple_regret_approx_10[slice5],\n",
        "       simple_regret_approx_11[slice5],\n",
        "       simple_regret_approx_12[slice5],\n",
        "       simple_regret_approx_13[slice5],\n",
        "       simple_regret_approx_14[slice5],\n",
        "       simple_regret_approx_15[slice5],\n",
        "       simple_regret_approx_16[slice5],\n",
        "       simple_regret_approx_17[slice5],\n",
        "       simple_regret_approx_18[slice5],\n",
        "       simple_regret_approx_19[slice5],\n",
        "       simple_regret_approx_20[slice5]]\n",
        "\n",
        "exact5 = [simple_regret_exact_1[slice5],\n",
        "       simple_regret_exact_2[slice5],\n",
        "       simple_regret_exact_3[slice5],\n",
        "       simple_regret_exact_4[slice5],\n",
        "       simple_regret_exact_5[slice5],\n",
        "       simple_regret_exact_6[slice5],\n",
        "       simple_regret_exact_7[slice5],\n",
        "       simple_regret_exact_8[slice5],\n",
        "       simple_regret_exact_9[slice5],\n",
        "       simple_regret_exact_10[slice5],\n",
        "       simple_regret_exact_11[slice5],\n",
        "       simple_regret_exact_12[slice5],\n",
        "       simple_regret_exact_13[slice5],\n",
        "       simple_regret_exact_14[slice5],\n",
        "       simple_regret_exact_15[slice5],\n",
        "       simple_regret_exact_16[slice5],\n",
        "       simple_regret_exact_17[slice5],\n",
        "       simple_regret_exact_18[slice5],\n",
        "       simple_regret_exact_19[slice5],\n",
        "       simple_regret_exact_20[slice5]]\n",
        "\n",
        "approx5_results = pd.DataFrame(approx5).sort_values(by=[0], ascending=False)\n",
        "exact5_results = pd.DataFrame(exact5).sort_values(by=[0], ascending=False)\n",
        "\n",
        "### Best simple regret minimization IQR - approx:\n",
        "lower_approx5 = np.asarray(approx5_results[4:5][0])[0]\n",
        "median_approx5 = np.asarray(approx5_results[9:10][0])[0]\n",
        "upper_approx5 = np.asarray(approx5_results[14:15][0])[0]\n",
        "\n",
        "lower_exact5 = np.asarray(exact5_results[4:5][0])[0]\n",
        "median_exact5 = np.asarray(exact5_results[9:10][0])[0]\n",
        "upper_exact5 = np.asarray(exact5_results[14:15][0])[0]"
      ],
      "execution_count": 83,
      "outputs": []
    },
    {
      "cell_type": "code",
      "metadata": {
        "id": "4aZ7C8sOQxf6"
      },
      "source": [
        "# Iteration15 :\n",
        "\n",
        "slice15 = 14\n",
        "\n",
        "approx15 = [simple_regret_approx_1[slice15],\n",
        "       simple_regret_approx_2[slice15],\n",
        "       simple_regret_approx_3[slice15],\n",
        "       simple_regret_approx_4[slice15],\n",
        "       simple_regret_approx_5[slice15],\n",
        "       simple_regret_approx_6[slice15],\n",
        "       simple_regret_approx_7[slice15],\n",
        "       simple_regret_approx_8[slice15],\n",
        "       simple_regret_approx_9[slice15],\n",
        "       simple_regret_approx_10[slice15],\n",
        "       simple_regret_approx_11[slice15],\n",
        "       simple_regret_approx_12[slice15],\n",
        "       simple_regret_approx_13[slice15],\n",
        "       simple_regret_approx_14[slice15],\n",
        "       simple_regret_approx_15[slice15],\n",
        "       simple_regret_approx_16[slice15],\n",
        "       simple_regret_approx_17[slice15],\n",
        "       simple_regret_approx_18[slice15],\n",
        "       simple_regret_approx_19[slice15],\n",
        "       simple_regret_approx_20[slice15]]\n",
        "\n",
        "exact15 = [simple_regret_exact_1[slice15],\n",
        "       simple_regret_exact_2[slice15],\n",
        "       simple_regret_exact_3[slice15],\n",
        "       simple_regret_exact_4[slice15],\n",
        "       simple_regret_exact_5[slice15],\n",
        "       simple_regret_exact_6[slice15],\n",
        "       simple_regret_exact_7[slice15],\n",
        "       simple_regret_exact_8[slice15],\n",
        "       simple_regret_exact_9[slice15],\n",
        "       simple_regret_exact_10[slice15],\n",
        "       simple_regret_exact_11[slice15],\n",
        "       simple_regret_exact_12[slice15],\n",
        "       simple_regret_exact_13[slice15],\n",
        "       simple_regret_exact_14[slice15],\n",
        "       simple_regret_exact_15[slice15],\n",
        "       simple_regret_exact_16[slice15],\n",
        "       simple_regret_exact_17[slice15],\n",
        "       simple_regret_exact_18[slice15],\n",
        "       simple_regret_exact_19[slice15],\n",
        "       simple_regret_exact_20[slice15]]\n",
        "\n",
        "approx15_results = pd.DataFrame(approx15).sort_values(by=[0], ascending=False)\n",
        "exact15_results = pd.DataFrame(exact15).sort_values(by=[0], ascending=False)\n",
        "\n",
        "### Best simple regret minimization IQR - approx:\n",
        "lower_approx15 = np.asarray(approx15_results[4:5][0])[0]\n",
        "median_approx15 = np.asarray(approx15_results[9:10][0])[0]\n",
        "upper_approx15 = np.asarray(approx15_results[14:15][0])[0]\n",
        "\n",
        "lower_exact15 = np.asarray(exact15_results[4:5][0])[0]\n",
        "median_exact15 = np.asarray(exact15_results[9:10][0])[0]\n",
        "upper_exact15 = np.asarray(exact15_results[14:15][0])[0]"
      ],
      "execution_count": 84,
      "outputs": []
    },
    {
      "cell_type": "code",
      "metadata": {
        "id": "KJINKhv1Qxf6"
      },
      "source": [
        "# Iteration6 :\n",
        "\n",
        "slice6 = 5\n",
        "\n",
        "approx6 = [simple_regret_approx_1[slice6],\n",
        "       simple_regret_approx_2[slice6],\n",
        "       simple_regret_approx_3[slice6],\n",
        "       simple_regret_approx_4[slice6],\n",
        "       simple_regret_approx_5[slice6],\n",
        "       simple_regret_approx_6[slice6],\n",
        "       simple_regret_approx_7[slice6],\n",
        "       simple_regret_approx_8[slice6],\n",
        "       simple_regret_approx_9[slice6],\n",
        "       simple_regret_approx_10[slice6],\n",
        "       simple_regret_approx_11[slice6],\n",
        "       simple_regret_approx_12[slice6],\n",
        "       simple_regret_approx_13[slice6],\n",
        "       simple_regret_approx_14[slice6],\n",
        "       simple_regret_approx_15[slice6],\n",
        "       simple_regret_approx_16[slice6],\n",
        "       simple_regret_approx_17[slice6],\n",
        "       simple_regret_approx_18[slice6],\n",
        "       simple_regret_approx_19[slice6],\n",
        "       simple_regret_approx_20[slice6]]\n",
        "\n",
        "exact6 = [simple_regret_exact_1[slice6],\n",
        "       simple_regret_exact_2[slice6],\n",
        "       simple_regret_exact_3[slice6],\n",
        "       simple_regret_exact_4[slice6],\n",
        "       simple_regret_exact_5[slice6],\n",
        "       simple_regret_exact_6[slice6],\n",
        "       simple_regret_exact_7[slice6],\n",
        "       simple_regret_exact_8[slice6],\n",
        "       simple_regret_exact_9[slice6],\n",
        "       simple_regret_exact_10[slice6],\n",
        "       simple_regret_exact_11[slice6],\n",
        "       simple_regret_exact_12[slice6],\n",
        "       simple_regret_exact_13[slice6],\n",
        "       simple_regret_exact_14[slice6],\n",
        "       simple_regret_exact_15[slice6],\n",
        "       simple_regret_exact_16[slice6],\n",
        "       simple_regret_exact_17[slice6],\n",
        "       simple_regret_exact_18[slice6],\n",
        "       simple_regret_exact_19[slice6],\n",
        "       simple_regret_exact_20[slice6]]\n",
        "\n",
        "approx6_results = pd.DataFrame(approx6).sort_values(by=[0], ascending=False)\n",
        "exact6_results = pd.DataFrame(exact6).sort_values(by=[0], ascending=False)\n",
        "\n",
        "### Best simple regret minimization IQR - approx:\n",
        "lower_approx6 = np.asarray(approx6_results[4:5][0])[0]\n",
        "median_approx6 = np.asarray(approx6_results[9:10][0])[0]\n",
        "upper_approx6 = np.asarray(approx6_results[14:15][0])[0]\n",
        "\n",
        "lower_exact6 = np.asarray(exact6_results[4:5][0])[0]\n",
        "median_exact6 = np.asarray(exact6_results[9:10][0])[0]\n",
        "upper_exact6 = np.asarray(exact6_results[14:15][0])[0]"
      ],
      "execution_count": 85,
      "outputs": []
    },
    {
      "cell_type": "code",
      "metadata": {
        "id": "nwC5N1FsQxf7"
      },
      "source": [
        "# Iteration16 :\n",
        "\n",
        "slice16 = 15\n",
        "\n",
        "approx16 = [simple_regret_approx_1[slice16],\n",
        "       simple_regret_approx_2[slice16],\n",
        "       simple_regret_approx_3[slice16],\n",
        "       simple_regret_approx_4[slice16],\n",
        "       simple_regret_approx_5[slice16],\n",
        "       simple_regret_approx_6[slice16],\n",
        "       simple_regret_approx_7[slice16],\n",
        "       simple_regret_approx_8[slice16],\n",
        "       simple_regret_approx_9[slice16],\n",
        "       simple_regret_approx_10[slice16],\n",
        "       simple_regret_approx_11[slice16],\n",
        "       simple_regret_approx_12[slice16],\n",
        "       simple_regret_approx_13[slice16],\n",
        "       simple_regret_approx_14[slice16],\n",
        "       simple_regret_approx_15[slice16],\n",
        "       simple_regret_approx_16[slice16],\n",
        "       simple_regret_approx_17[slice16],\n",
        "       simple_regret_approx_18[slice16],\n",
        "       simple_regret_approx_19[slice16],\n",
        "       simple_regret_approx_20[slice16]]\n",
        "\n",
        "exact16 = [simple_regret_exact_1[slice16],\n",
        "       simple_regret_exact_2[slice16],\n",
        "       simple_regret_exact_3[slice16],\n",
        "       simple_regret_exact_4[slice16],\n",
        "       simple_regret_exact_5[slice16],\n",
        "       simple_regret_exact_6[slice16],\n",
        "       simple_regret_exact_7[slice16],\n",
        "       simple_regret_exact_8[slice16],\n",
        "       simple_regret_exact_9[slice16],\n",
        "       simple_regret_exact_10[slice16],\n",
        "       simple_regret_exact_11[slice16],\n",
        "       simple_regret_exact_12[slice16],\n",
        "       simple_regret_exact_13[slice16],\n",
        "       simple_regret_exact_14[slice16],\n",
        "       simple_regret_exact_15[slice16],\n",
        "       simple_regret_exact_16[slice16],\n",
        "       simple_regret_exact_17[slice16],\n",
        "       simple_regret_exact_18[slice16],\n",
        "       simple_regret_exact_19[slice16],\n",
        "       simple_regret_exact_20[slice16]]\n",
        "\n",
        "approx16_results = pd.DataFrame(approx16).sort_values(by=[0], ascending=False)\n",
        "exact16_results = pd.DataFrame(exact16).sort_values(by=[0], ascending=False)\n",
        "\n",
        "### Best simple regret minimization IQR - approx:\n",
        "lower_approx16 = np.asarray(approx16_results[4:5][0])[0]\n",
        "median_approx16 = np.asarray(approx16_results[9:10][0])[0]\n",
        "upper_approx16 = np.asarray(approx16_results[14:15][0])[0]\n",
        "\n",
        "lower_exact16 = np.asarray(exact16_results[4:5][0])[0]\n",
        "median_exact16 = np.asarray(exact16_results[9:10][0])[0]\n",
        "upper_exact16 = np.asarray(exact16_results[14:15][0])[0]"
      ],
      "execution_count": 86,
      "outputs": []
    },
    {
      "cell_type": "code",
      "metadata": {
        "id": "TrPV0AfnQxf7"
      },
      "source": [
        "# Iteration7 :\n",
        "\n",
        "slice7 = 6\n",
        "\n",
        "approx7 = [simple_regret_approx_1[slice7],\n",
        "       simple_regret_approx_2[slice7],\n",
        "       simple_regret_approx_3[slice7],\n",
        "       simple_regret_approx_4[slice7],\n",
        "       simple_regret_approx_5[slice7],\n",
        "       simple_regret_approx_6[slice7],\n",
        "       simple_regret_approx_7[slice7],\n",
        "       simple_regret_approx_8[slice7],\n",
        "       simple_regret_approx_9[slice7],\n",
        "       simple_regret_approx_10[slice7],\n",
        "       simple_regret_approx_11[slice7],\n",
        "       simple_regret_approx_12[slice7],\n",
        "       simple_regret_approx_13[slice7],\n",
        "       simple_regret_approx_14[slice7],\n",
        "       simple_regret_approx_15[slice7],\n",
        "       simple_regret_approx_16[slice7],\n",
        "       simple_regret_approx_17[slice7],\n",
        "       simple_regret_approx_18[slice7],\n",
        "       simple_regret_approx_19[slice7],\n",
        "       simple_regret_approx_20[slice7]]\n",
        "\n",
        "exact7 = [simple_regret_exact_1[slice7],\n",
        "       simple_regret_exact_2[slice7],\n",
        "       simple_regret_exact_3[slice7],\n",
        "       simple_regret_exact_4[slice7],\n",
        "       simple_regret_exact_5[slice7],\n",
        "       simple_regret_exact_6[slice7],\n",
        "       simple_regret_exact_7[slice7],\n",
        "       simple_regret_exact_8[slice7],\n",
        "       simple_regret_exact_9[slice7],\n",
        "       simple_regret_exact_10[slice7],\n",
        "       simple_regret_exact_11[slice7],\n",
        "       simple_regret_exact_12[slice7],\n",
        "       simple_regret_exact_13[slice7],\n",
        "       simple_regret_exact_14[slice7],\n",
        "       simple_regret_exact_15[slice7],\n",
        "       simple_regret_exact_16[slice7],\n",
        "       simple_regret_exact_17[slice7],\n",
        "       simple_regret_exact_18[slice7],\n",
        "       simple_regret_exact_19[slice7],\n",
        "       simple_regret_exact_20[slice7]]\n",
        "\n",
        "approx7_results = pd.DataFrame(approx7).sort_values(by=[0], ascending=False)\n",
        "exact7_results = pd.DataFrame(exact7).sort_values(by=[0], ascending=False)\n",
        "\n",
        "### Best simple regret minimization IQR - approx:\n",
        "lower_approx7 = np.asarray(approx7_results[4:5][0])[0]\n",
        "median_approx7 = np.asarray(approx7_results[9:10][0])[0]\n",
        "upper_approx7 = np.asarray(approx7_results[14:15][0])[0]\n",
        "\n",
        "lower_exact7 = np.asarray(exact7_results[4:5][0])[0]\n",
        "median_exact7 = np.asarray(exact7_results[9:10][0])[0]\n",
        "upper_exact7 = np.asarray(exact7_results[14:15][0])[0]"
      ],
      "execution_count": 87,
      "outputs": []
    },
    {
      "cell_type": "code",
      "metadata": {
        "id": "Ub_-wpK4Qxf8"
      },
      "source": [
        "# Iteration17 :\n",
        "\n",
        "slice17 = 16\n",
        "\n",
        "approx17 = [simple_regret_approx_1[slice17],\n",
        "       simple_regret_approx_2[slice17],\n",
        "       simple_regret_approx_3[slice17],\n",
        "       simple_regret_approx_4[slice17],\n",
        "       simple_regret_approx_5[slice17],\n",
        "       simple_regret_approx_6[slice17],\n",
        "       simple_regret_approx_7[slice17],\n",
        "       simple_regret_approx_8[slice17],\n",
        "       simple_regret_approx_9[slice17],\n",
        "       simple_regret_approx_10[slice17],\n",
        "       simple_regret_approx_11[slice17],\n",
        "       simple_regret_approx_12[slice17],\n",
        "       simple_regret_approx_13[slice17],\n",
        "       simple_regret_approx_14[slice17],\n",
        "       simple_regret_approx_15[slice17],\n",
        "       simple_regret_approx_16[slice17],\n",
        "       simple_regret_approx_17[slice17],\n",
        "       simple_regret_approx_18[slice17],\n",
        "       simple_regret_approx_19[slice17],\n",
        "       simple_regret_approx_20[slice17]]\n",
        "\n",
        "exact17 = [simple_regret_exact_1[slice17],\n",
        "       simple_regret_exact_2[slice17],\n",
        "       simple_regret_exact_3[slice17],\n",
        "       simple_regret_exact_4[slice17],\n",
        "       simple_regret_exact_5[slice17],\n",
        "       simple_regret_exact_6[slice17],\n",
        "       simple_regret_exact_7[slice17],\n",
        "       simple_regret_exact_8[slice17],\n",
        "       simple_regret_exact_9[slice17],\n",
        "       simple_regret_exact_10[slice17],\n",
        "       simple_regret_exact_11[slice17],\n",
        "       simple_regret_exact_12[slice17],\n",
        "       simple_regret_exact_13[slice17],\n",
        "       simple_regret_exact_14[slice17],\n",
        "       simple_regret_exact_15[slice17],\n",
        "       simple_regret_exact_16[slice17],\n",
        "       simple_regret_exact_17[slice17],\n",
        "       simple_regret_exact_18[slice17],\n",
        "       simple_regret_exact_19[slice17],\n",
        "       simple_regret_exact_20[slice17]]\n",
        "\n",
        "approx17_results = pd.DataFrame(approx17).sort_values(by=[0], ascending=False)\n",
        "exact17_results = pd.DataFrame(exact17).sort_values(by=[0], ascending=False)\n",
        "\n",
        "### Best simple regret minimization IQR - approx:\n",
        "lower_approx17 = np.asarray(approx17_results[4:5][0])[0]\n",
        "median_approx17 = np.asarray(approx17_results[9:10][0])[0]\n",
        "upper_approx17 = np.asarray(approx17_results[14:15][0])[0]\n",
        "\n",
        "lower_exact17 = np.asarray(exact17_results[4:5][0])[0]\n",
        "median_exact17 = np.asarray(exact17_results[9:10][0])[0]\n",
        "upper_exact17 = np.asarray(exact17_results[14:15][0])[0]"
      ],
      "execution_count": 88,
      "outputs": []
    },
    {
      "cell_type": "code",
      "metadata": {
        "id": "-6VLo37PQxf8"
      },
      "source": [
        "# Iteration8 :\n",
        "\n",
        "slice8 = 7\n",
        "\n",
        "approx8 = [simple_regret_approx_1[slice8],\n",
        "       simple_regret_approx_2[slice8],\n",
        "       simple_regret_approx_3[slice8],\n",
        "       simple_regret_approx_4[slice8],\n",
        "       simple_regret_approx_5[slice8],\n",
        "       simple_regret_approx_6[slice8],\n",
        "       simple_regret_approx_7[slice8],\n",
        "       simple_regret_approx_8[slice8],\n",
        "       simple_regret_approx_9[slice8],\n",
        "       simple_regret_approx_10[slice8],\n",
        "       simple_regret_approx_11[slice8],\n",
        "       simple_regret_approx_12[slice8],\n",
        "       simple_regret_approx_13[slice8],\n",
        "       simple_regret_approx_14[slice8],\n",
        "       simple_regret_approx_15[slice8],\n",
        "       simple_regret_approx_16[slice8],\n",
        "       simple_regret_approx_17[slice8],\n",
        "       simple_regret_approx_18[slice8],\n",
        "       simple_regret_approx_19[slice8],\n",
        "       simple_regret_approx_20[slice8]]\n",
        "\n",
        "exact8 = [simple_regret_exact_1[slice8],\n",
        "       simple_regret_exact_2[slice8],\n",
        "       simple_regret_exact_3[slice8],\n",
        "       simple_regret_exact_4[slice8],\n",
        "       simple_regret_exact_5[slice8],\n",
        "       simple_regret_exact_6[slice8],\n",
        "       simple_regret_exact_7[slice8],\n",
        "       simple_regret_exact_8[slice8],\n",
        "       simple_regret_exact_9[slice8],\n",
        "       simple_regret_exact_10[slice8],\n",
        "       simple_regret_exact_11[slice8],\n",
        "       simple_regret_exact_12[slice8],\n",
        "       simple_regret_exact_13[slice8],\n",
        "       simple_regret_exact_14[slice8],\n",
        "       simple_regret_exact_15[slice8],\n",
        "       simple_regret_exact_16[slice8],\n",
        "       simple_regret_exact_17[slice8],\n",
        "       simple_regret_exact_18[slice8],\n",
        "       simple_regret_exact_19[slice8],\n",
        "       simple_regret_exact_20[slice8]]\n",
        "\n",
        "approx8_results = pd.DataFrame(approx8).sort_values(by=[0], ascending=False)\n",
        "exact8_results = pd.DataFrame(exact8).sort_values(by=[0], ascending=False)\n",
        "\n",
        "### Best simple regret minimization IQR - approx:\n",
        "lower_approx8 = np.asarray(approx8_results[4:5][0])[0]\n",
        "median_approx8 = np.asarray(approx8_results[9:10][0])[0]\n",
        "upper_approx8 = np.asarray(approx8_results[14:15][0])[0]\n",
        "\n",
        "lower_exact8 = np.asarray(exact8_results[4:5][0])[0]\n",
        "median_exact8 = np.asarray(exact8_results[9:10][0])[0]\n",
        "upper_exact8 = np.asarray(exact8_results[14:15][0])[0]"
      ],
      "execution_count": 89,
      "outputs": []
    },
    {
      "cell_type": "code",
      "metadata": {
        "id": "2Dp-9CC2Qxf9"
      },
      "source": [
        "# Iteration18 :\n",
        "\n",
        "slice18 = 17\n",
        "\n",
        "approx18 = [simple_regret_approx_1[slice18],\n",
        "       simple_regret_approx_2[slice18],\n",
        "       simple_regret_approx_3[slice18],\n",
        "       simple_regret_approx_4[slice18],\n",
        "       simple_regret_approx_5[slice18],\n",
        "       simple_regret_approx_6[slice18],\n",
        "       simple_regret_approx_7[slice18],\n",
        "       simple_regret_approx_8[slice18],\n",
        "       simple_regret_approx_9[slice18],\n",
        "       simple_regret_approx_10[slice18],\n",
        "       simple_regret_approx_11[slice18],\n",
        "       simple_regret_approx_12[slice18],\n",
        "       simple_regret_approx_13[slice18],\n",
        "       simple_regret_approx_14[slice18],\n",
        "       simple_regret_approx_15[slice18],\n",
        "       simple_regret_approx_16[slice18],\n",
        "       simple_regret_approx_17[slice18],\n",
        "       simple_regret_approx_18[slice18],\n",
        "       simple_regret_approx_19[slice18],\n",
        "       simple_regret_approx_20[slice18]]\n",
        "\n",
        "exact18 = [simple_regret_exact_1[slice18],\n",
        "       simple_regret_exact_2[slice18],\n",
        "       simple_regret_exact_3[slice18],\n",
        "       simple_regret_exact_4[slice18],\n",
        "       simple_regret_exact_5[slice18],\n",
        "       simple_regret_exact_6[slice18],\n",
        "       simple_regret_exact_7[slice18],\n",
        "       simple_regret_exact_8[slice18],\n",
        "       simple_regret_exact_9[slice18],\n",
        "       simple_regret_exact_10[slice18],\n",
        "       simple_regret_exact_11[slice18],\n",
        "       simple_regret_exact_12[slice18],\n",
        "       simple_regret_exact_13[slice18],\n",
        "       simple_regret_exact_14[slice18],\n",
        "       simple_regret_exact_15[slice18],\n",
        "       simple_regret_exact_16[slice18],\n",
        "       simple_regret_exact_17[slice18],\n",
        "       simple_regret_exact_18[slice18],\n",
        "       simple_regret_exact_19[slice18],\n",
        "       simple_regret_exact_20[slice18]]\n",
        "\n",
        "approx18_results = pd.DataFrame(approx18).sort_values(by=[0], ascending=False)\n",
        "exact18_results = pd.DataFrame(exact18).sort_values(by=[0], ascending=False)\n",
        "\n",
        "### Best simple regret minimization IQR - approx:\n",
        "lower_approx18 = np.asarray(approx18_results[4:5][0])[0]\n",
        "median_approx18 = np.asarray(approx18_results[9:10][0])[0]\n",
        "upper_approx18 = np.asarray(approx18_results[14:15][0])[0]\n",
        "\n",
        "lower_exact18 = np.asarray(exact18_results[4:5][0])[0]\n",
        "median_exact18 = np.asarray(exact18_results[9:10][0])[0]\n",
        "upper_exact18 = np.asarray(exact18_results[14:15][0])[0]"
      ],
      "execution_count": 90,
      "outputs": []
    },
    {
      "cell_type": "code",
      "metadata": {
        "id": "SqiaOpB7Qxf9"
      },
      "source": [
        "# Iteration9 :\n",
        "\n",
        "slice9 = 8\n",
        "\n",
        "approx9 = [simple_regret_approx_1[slice9],\n",
        "       simple_regret_approx_2[slice9],\n",
        "       simple_regret_approx_3[slice9],\n",
        "       simple_regret_approx_4[slice9],\n",
        "       simple_regret_approx_5[slice9],\n",
        "       simple_regret_approx_6[slice9],\n",
        "       simple_regret_approx_7[slice9],\n",
        "       simple_regret_approx_8[slice9],\n",
        "       simple_regret_approx_9[slice9],\n",
        "       simple_regret_approx_10[slice9],\n",
        "       simple_regret_approx_11[slice9],\n",
        "       simple_regret_approx_12[slice9],\n",
        "       simple_regret_approx_13[slice9],\n",
        "       simple_regret_approx_14[slice9],\n",
        "       simple_regret_approx_15[slice9],\n",
        "       simple_regret_approx_16[slice9],\n",
        "       simple_regret_approx_17[slice9],\n",
        "       simple_regret_approx_18[slice9],\n",
        "       simple_regret_approx_19[slice9],\n",
        "       simple_regret_approx_20[slice9]]\n",
        "\n",
        "exact9 = [simple_regret_exact_1[slice9],\n",
        "       simple_regret_exact_2[slice9],\n",
        "       simple_regret_exact_3[slice9],\n",
        "       simple_regret_exact_4[slice9],\n",
        "       simple_regret_exact_5[slice9],\n",
        "       simple_regret_exact_6[slice9],\n",
        "       simple_regret_exact_7[slice9],\n",
        "       simple_regret_exact_8[slice9],\n",
        "       simple_regret_exact_9[slice9],\n",
        "       simple_regret_exact_10[slice9],\n",
        "       simple_regret_exact_11[slice9],\n",
        "       simple_regret_exact_12[slice9],\n",
        "       simple_regret_exact_13[slice9],\n",
        "       simple_regret_exact_14[slice9],\n",
        "       simple_regret_exact_15[slice9],\n",
        "       simple_regret_exact_16[slice9],\n",
        "       simple_regret_exact_17[slice9],\n",
        "       simple_regret_exact_18[slice9],\n",
        "       simple_regret_exact_19[slice9],\n",
        "       simple_regret_exact_20[slice9]]\n",
        "\n",
        "approx9_results = pd.DataFrame(approx9).sort_values(by=[0], ascending=False)\n",
        "exact9_results = pd.DataFrame(exact9).sort_values(by=[0], ascending=False)\n",
        "\n",
        "### Best simple regret minimization IQR - approx:\n",
        "lower_approx9 = np.asarray(approx9_results[4:5][0])[0]\n",
        "median_approx9 = np.asarray(approx9_results[9:10][0])[0]\n",
        "upper_approx9 = np.asarray(approx9_results[14:15][0])[0]\n",
        "\n",
        "lower_exact9 = np.asarray(exact9_results[4:5][0])[0]\n",
        "median_exact9 = np.asarray(exact9_results[9:10][0])[0]\n",
        "upper_exact9 = np.asarray(exact9_results[14:15][0])[0]"
      ],
      "execution_count": 91,
      "outputs": []
    },
    {
      "cell_type": "code",
      "metadata": {
        "id": "OQkCCOsPQxf9"
      },
      "source": [
        "# Iteration19 :\n",
        "\n",
        "slice19 = 18\n",
        "\n",
        "approx19 = [simple_regret_approx_1[slice19],\n",
        "       simple_regret_approx_2[slice19],\n",
        "       simple_regret_approx_3[slice19],\n",
        "       simple_regret_approx_4[slice19],\n",
        "       simple_regret_approx_5[slice19],\n",
        "       simple_regret_approx_6[slice19],\n",
        "       simple_regret_approx_7[slice19],\n",
        "       simple_regret_approx_8[slice19],\n",
        "       simple_regret_approx_9[slice19],\n",
        "       simple_regret_approx_10[slice19],\n",
        "       simple_regret_approx_11[slice19],\n",
        "       simple_regret_approx_12[slice19],\n",
        "       simple_regret_approx_13[slice19],\n",
        "       simple_regret_approx_14[slice19],\n",
        "       simple_regret_approx_15[slice19],\n",
        "       simple_regret_approx_16[slice19],\n",
        "       simple_regret_approx_17[slice19],\n",
        "       simple_regret_approx_18[slice19],\n",
        "       simple_regret_approx_19[slice19],\n",
        "       simple_regret_approx_20[slice19]]\n",
        "\n",
        "exact19 = [simple_regret_exact_1[slice19],\n",
        "       simple_regret_exact_2[slice19],\n",
        "       simple_regret_exact_3[slice19],\n",
        "       simple_regret_exact_4[slice19],\n",
        "       simple_regret_exact_5[slice19],\n",
        "       simple_regret_exact_6[slice19],\n",
        "       simple_regret_exact_7[slice19],\n",
        "       simple_regret_exact_8[slice19],\n",
        "       simple_regret_exact_9[slice19],\n",
        "       simple_regret_exact_10[slice19],\n",
        "       simple_regret_exact_11[slice19],\n",
        "       simple_regret_exact_12[slice19],\n",
        "       simple_regret_exact_13[slice19],\n",
        "       simple_regret_exact_14[slice19],\n",
        "       simple_regret_exact_15[slice19],\n",
        "       simple_regret_exact_16[slice19],\n",
        "       simple_regret_exact_17[slice19],\n",
        "       simple_regret_exact_18[slice19],\n",
        "       simple_regret_exact_19[slice19],\n",
        "       simple_regret_exact_20[slice19]]\n",
        "\n",
        "approx19_results = pd.DataFrame(approx19).sort_values(by=[0], ascending=False)\n",
        "exact19_results = pd.DataFrame(exact19).sort_values(by=[0], ascending=False)\n",
        "\n",
        "### Best simple regret minimization IQR - approx:\n",
        "lower_approx19 = np.asarray(approx19_results[4:5][0])[0]\n",
        "median_approx19 = np.asarray(approx19_results[9:10][0])[0]\n",
        "upper_approx19 = np.asarray(approx19_results[14:15][0])[0]\n",
        "\n",
        "lower_exact19 = np.asarray(exact19_results[4:5][0])[0]\n",
        "median_exact19 = np.asarray(exact19_results[9:10][0])[0]\n",
        "upper_exact19 = np.asarray(exact19_results[14:15][0])[0]"
      ],
      "execution_count": 92,
      "outputs": []
    },
    {
      "cell_type": "code",
      "metadata": {
        "id": "h4vtWahcQxf-"
      },
      "source": [
        "# Iteration10 :\n",
        "\n",
        "slice10 = 9\n",
        "\n",
        "approx10 = [simple_regret_approx_1[slice10],\n",
        "       simple_regret_approx_2[slice10],\n",
        "       simple_regret_approx_3[slice10],\n",
        "       simple_regret_approx_4[slice10],\n",
        "       simple_regret_approx_5[slice10],\n",
        "       simple_regret_approx_6[slice10],\n",
        "       simple_regret_approx_7[slice10],\n",
        "       simple_regret_approx_8[slice10],\n",
        "       simple_regret_approx_9[slice10],\n",
        "       simple_regret_approx_10[slice10],\n",
        "       simple_regret_approx_11[slice10],\n",
        "       simple_regret_approx_12[slice10],\n",
        "       simple_regret_approx_13[slice10],\n",
        "       simple_regret_approx_14[slice10],\n",
        "       simple_regret_approx_15[slice10],\n",
        "       simple_regret_approx_16[slice10],\n",
        "       simple_regret_approx_17[slice10],\n",
        "       simple_regret_approx_18[slice10],\n",
        "       simple_regret_approx_19[slice10],\n",
        "       simple_regret_approx_20[slice10]]\n",
        "\n",
        "exact10 = [simple_regret_exact_1[slice10],\n",
        "       simple_regret_exact_2[slice10],\n",
        "       simple_regret_exact_3[slice10],\n",
        "       simple_regret_exact_4[slice10],\n",
        "       simple_regret_exact_5[slice10],\n",
        "       simple_regret_exact_6[slice10],\n",
        "       simple_regret_exact_7[slice10],\n",
        "       simple_regret_exact_8[slice10],\n",
        "       simple_regret_exact_9[slice10],\n",
        "       simple_regret_exact_10[slice10],\n",
        "       simple_regret_exact_11[slice10],\n",
        "       simple_regret_exact_12[slice10],\n",
        "       simple_regret_exact_13[slice10],\n",
        "       simple_regret_exact_14[slice10],\n",
        "       simple_regret_exact_15[slice10],\n",
        "       simple_regret_exact_16[slice10],\n",
        "       simple_regret_exact_17[slice10],\n",
        "       simple_regret_exact_18[slice10],\n",
        "       simple_regret_exact_19[slice10],\n",
        "       simple_regret_exact_20[slice10]]\n",
        "\n",
        "approx10_results = pd.DataFrame(approx10).sort_values(by=[0], ascending=False)\n",
        "exact10_results = pd.DataFrame(exact10).sort_values(by=[0], ascending=False)\n",
        "\n",
        "### Best simple regret minimization IQR - approx:\n",
        "lower_approx10 = np.asarray(approx10_results[4:5][0])[0]\n",
        "median_approx10 = np.asarray(approx10_results[9:10][0])[0]\n",
        "upper_approx10 = np.asarray(approx10_results[14:15][0])[0]\n",
        "\n",
        "lower_exact10 = np.asarray(exact10_results[4:5][0])[0]\n",
        "median_exact10 = np.asarray(exact10_results[9:10][0])[0]\n",
        "upper_exact10 = np.asarray(exact10_results[14:15][0])[0]"
      ],
      "execution_count": 93,
      "outputs": []
    },
    {
      "cell_type": "code",
      "metadata": {
        "id": "Rsf240pWQxf-"
      },
      "source": [
        "# Iteration20 :\n",
        "\n",
        "slice20 = 19\n",
        "\n",
        "approx20 = [simple_regret_approx_1[slice20],\n",
        "       simple_regret_approx_2[slice20],\n",
        "       simple_regret_approx_3[slice20],\n",
        "       simple_regret_approx_4[slice20],\n",
        "       simple_regret_approx_5[slice20],\n",
        "       simple_regret_approx_6[slice20],\n",
        "       simple_regret_approx_7[slice20],\n",
        "       simple_regret_approx_8[slice20],\n",
        "       simple_regret_approx_9[slice20],\n",
        "       simple_regret_approx_10[slice20],\n",
        "       simple_regret_approx_11[slice20],\n",
        "       simple_regret_approx_12[slice20],\n",
        "       simple_regret_approx_13[slice20],\n",
        "       simple_regret_approx_14[slice20],\n",
        "       simple_regret_approx_15[slice20],\n",
        "       simple_regret_approx_16[slice20],\n",
        "       simple_regret_approx_17[slice20],\n",
        "       simple_regret_approx_18[slice20],\n",
        "       simple_regret_approx_19[slice20],\n",
        "       simple_regret_approx_20[slice20]]\n",
        "\n",
        "exact20 = [simple_regret_exact_1[slice20],\n",
        "       simple_regret_exact_2[slice20],\n",
        "       simple_regret_exact_3[slice20],\n",
        "       simple_regret_exact_4[slice20],\n",
        "       simple_regret_exact_5[slice20],\n",
        "       simple_regret_exact_6[slice20],\n",
        "       simple_regret_exact_7[slice20],\n",
        "       simple_regret_exact_8[slice20],\n",
        "       simple_regret_exact_9[slice20],\n",
        "       simple_regret_exact_10[slice20],\n",
        "       simple_regret_exact_11[slice20],\n",
        "       simple_regret_exact_12[slice20],\n",
        "       simple_regret_exact_13[slice20],\n",
        "       simple_regret_exact_14[slice20],\n",
        "       simple_regret_exact_15[slice20],\n",
        "       simple_regret_exact_16[slice20],\n",
        "       simple_regret_exact_17[slice20],\n",
        "       simple_regret_exact_18[slice20],\n",
        "       simple_regret_exact_19[slice20],\n",
        "       simple_regret_exact_20[slice20]]\n",
        "\n",
        "approx20_results = pd.DataFrame(approx20).sort_values(by=[0], ascending=False)\n",
        "exact20_results = pd.DataFrame(exact20).sort_values(by=[0], ascending=False)\n",
        "\n",
        "### Best simple regret minimization IQR - approx:\n",
        "lower_approx20 = np.asarray(approx20_results[4:5][0])[0]\n",
        "median_approx20 = np.asarray(approx20_results[9:10][0])[0]\n",
        "upper_approx20 = np.asarray(approx20_results[14:15][0])[0]\n",
        "\n",
        "lower_exact20 = np.asarray(exact20_results[4:5][0])[0]\n",
        "median_exact20 = np.asarray(exact20_results[9:10][0])[0]\n",
        "upper_exact20 = np.asarray(exact20_results[14:15][0])[0]"
      ],
      "execution_count": 94,
      "outputs": []
    },
    {
      "cell_type": "code",
      "metadata": {
        "id": "gn36RejbQxf_"
      },
      "source": [
        "### Summarize arrays: 'Loser'\n",
        "\n",
        "lower_approx = [lower_approx1,\n",
        "            lower_approx2,\n",
        "            lower_approx3,\n",
        "            lower_approx4,\n",
        "            lower_approx5,\n",
        "            lower_approx6,\n",
        "            lower_approx7,\n",
        "            lower_approx8,\n",
        "            lower_approx9,\n",
        "            lower_approx10,\n",
        "            lower_approx11,\n",
        "            lower_approx12,\n",
        "            lower_approx13,\n",
        "            lower_approx14,\n",
        "            lower_approx15,\n",
        "            lower_approx16,\n",
        "            lower_approx17,\n",
        "            lower_approx18,\n",
        "            lower_approx19,\n",
        "            lower_approx20,\n",
        "            lower_approx21]\n",
        "\n",
        "median_approx = [median_approx1,\n",
        "            median_approx2,\n",
        "            median_approx3,\n",
        "            median_approx4,\n",
        "            median_approx5,\n",
        "            median_approx6,\n",
        "            median_approx7,\n",
        "            median_approx8,\n",
        "            median_approx9,\n",
        "            median_approx10,\n",
        "            median_approx11,\n",
        "            median_approx12,\n",
        "            median_approx13,\n",
        "            median_approx14,\n",
        "            median_approx15,\n",
        "            median_approx16,\n",
        "            median_approx17,\n",
        "            median_approx18,\n",
        "            median_approx19,\n",
        "            median_approx20,\n",
        "            median_approx21]\n",
        "\n",
        "upper_approx = [upper_approx1,\n",
        "            upper_approx2,\n",
        "            upper_approx3,\n",
        "            upper_approx4,\n",
        "            upper_approx5,\n",
        "            upper_approx6,\n",
        "            upper_approx7,\n",
        "            upper_approx8,\n",
        "            upper_approx9,\n",
        "            upper_approx10,\n",
        "            upper_approx11,\n",
        "            upper_approx12,\n",
        "            upper_approx13,\n",
        "            upper_approx14,\n",
        "            upper_approx15,\n",
        "            upper_approx16,\n",
        "            upper_approx17,\n",
        "            upper_approx18,\n",
        "            upper_approx19,\n",
        "            upper_approx20,\n",
        "            upper_approx21]"
      ],
      "execution_count": 95,
      "outputs": []
    },
    {
      "cell_type": "code",
      "metadata": {
        "id": "wxtGTOYfQxf_"
      },
      "source": [
        "### Summarize arrays: 'exact'\n",
        "\n",
        "lower_exact = [lower_exact1,\n",
        "            lower_exact2,\n",
        "            lower_exact3,\n",
        "            lower_exact4,\n",
        "            lower_exact5,\n",
        "            lower_exact6,\n",
        "            lower_exact7,\n",
        "            lower_exact8,\n",
        "            lower_exact9,\n",
        "            lower_exact10,\n",
        "            lower_exact11,\n",
        "            lower_exact12,\n",
        "            lower_exact13,\n",
        "            lower_exact14,\n",
        "            lower_exact15,\n",
        "            lower_exact16,\n",
        "            lower_exact17,\n",
        "            lower_exact18,\n",
        "            lower_exact19,\n",
        "            lower_exact20,\n",
        "            lower_exact21]\n",
        "\n",
        "median_exact = [median_exact1,\n",
        "            median_exact2,\n",
        "            median_exact3,\n",
        "            median_exact4,\n",
        "            median_exact5,\n",
        "            median_exact6,\n",
        "            median_exact7,\n",
        "            median_exact8,\n",
        "            median_exact9,\n",
        "            median_exact10,\n",
        "            median_exact11,\n",
        "            median_exact12,\n",
        "            median_exact13,\n",
        "            median_exact14,\n",
        "            median_exact15,\n",
        "            median_exact16,\n",
        "            median_exact17,\n",
        "            median_exact18,\n",
        "            median_exact19,\n",
        "            median_exact20,\n",
        "            median_exact21]\n",
        "\n",
        "upper_exact = [upper_exact1,\n",
        "            upper_exact2,\n",
        "            upper_exact3,\n",
        "            upper_exact4,\n",
        "            upper_exact5,\n",
        "            upper_exact6,\n",
        "            upper_exact7,\n",
        "            upper_exact8,\n",
        "            upper_exact9,\n",
        "            upper_exact10,\n",
        "            upper_exact11,\n",
        "            upper_exact12,\n",
        "            upper_exact13,\n",
        "            upper_exact14,\n",
        "            upper_exact15,\n",
        "            upper_exact16,\n",
        "            upper_exact17,\n",
        "            upper_exact18,\n",
        "            upper_exact19,\n",
        "            upper_exact20,\n",
        "            upper_exact21]"
      ],
      "execution_count": 96,
      "outputs": []
    },
    {
      "cell_type": "code",
      "metadata": {
        "id": "2MONq-BXQxgA",
        "colab": {
          "base_uri": "https://localhost:8080/",
          "height": 299
        },
        "outputId": "45cb95f9-876b-4820-9a26-3371b8d17e89"
      },
      "source": [
        "### Visualise!\n",
        "\n",
        "title = func\n",
        "plt.figure()\n",
        "\n",
        "plt.plot(median_approx, color = 'Yellow')\n",
        "plt.plot(median_exact, color = 'Green')\n",
        "\n",
        "xstar = np.arange(0, iters+1, step=1)\n",
        "plt.fill_between(xstar, lower_approx, upper_approx, facecolor = 'Yellow', alpha=0.4, label='GP EI: ApproxGrad Regret IQR')\n",
        "plt.fill_between(xstar, lower_exact, upper_exact, facecolor = 'Green', alpha=0.4, label='GP EI: ExactGrad Regret IQR')\n",
        "\n",
        "plt.title(title, weight = 'bold')\n",
        "plt.xlabel('(Post-initialization) iteration $\\it{k}$', weight = 'bold')\n",
        "plt.ylabel('log(Regret)', weight = 'bold') \n",
        "plt.legend(loc=1) # add plot legend\n",
        "\n",
        "### Make the x-ticks integers, not floats:\n",
        "count = len(xstar)\n",
        "plt.xticks(np.arange(count), np.arange(0, count))\n",
        "plt.show() #visualize!"
      ],
      "execution_count": 97,
      "outputs": [
        {
          "output_type": "display_data",
          "data": {
            "image/png": "[encoded data removed]",
            "text/plain": [
              "<Figure size 432x288 with 1 Axes>"
            ]
          },
          "metadata": {
            "tags": [],
            "needs_background": "light"
          }
        }
      ]
    },
    {
      "cell_type": "code",
      "metadata": {
        "id": "l5dkR2Id2oiu",
        "colab": {
          "base_uri": "https://localhost:8080/"
        },
        "outputId": "76e7925d-08ee-4326-f3c1-af3a2438b2de"
      },
      "source": [
        "time_approx, time_exact\n"
      ],
      "execution_count": 98,
      "outputs": [
        {
          "output_type": "execute_result",
          "data": {
            "text/plain": [
              "(759.8705461025238, 3304.633157491684)"
            ]
          },
          "metadata": {
            "tags": []
          },
          "execution_count": 98
        }
      ]
    },
    {
      "cell_type": "code",
      "metadata": {
        "id": "Q2w1ol7HbrRt",
        "colab": {
          "base_uri": "https://localhost:8080/"
        },
        "outputId": "8ff106ae-56fa-47e0-fd0e-cb564e111433"
      },
      "source": [
        "np.round(exact_1.acqfunc(x_test)[0],2).reshape(50,10)\n"
      ],
      "execution_count": 99,
      "outputs": [
        {
          "output_type": "execute_result",
          "data": {
            "text/plain": [
              "array([[-1.13, -1.01, -0.89, -0.77, -0.65, -0.54, -0.43, -0.33, -0.25,\n",
              "        -0.18],\n",
              "       [-0.12, -0.07, -0.04, -0.02, -0.01, -0.01, -0.  , -0.  , -0.  ,\n",
              "        -0.  ],\n",
              "       [-0.  , -0.  , -0.  , -0.  , -0.  , -0.  , -0.  , -0.  , -0.  ,\n",
              "        -0.  ],\n",
              "       [-0.  , -0.  , -0.  , -0.  , -0.  , -0.  , -0.  , -0.  , -0.  ,\n",
              "        -0.  ],\n",
              "       [-0.  , -0.  , -0.  , -0.  , -0.  , -0.  , -0.  , -0.  , -0.  ,\n",
              "        -0.  ],\n",
              "       [-0.  , -0.  , -0.  , -0.  , -0.  , -0.  , -0.  , -0.  , -0.  ,\n",
              "        -0.  ],\n",
              "       [-0.  , -0.  , -0.  , -0.  , -0.  , -0.  , -0.  , -0.  , -0.  ,\n",
              "        -0.  ],\n",
              "       [-0.  , -0.  , -0.  , -0.  , -0.  , -0.  , -0.  , -0.  , -0.  ,\n",
              "        -0.  ],\n",
              "       [-0.  , -0.  , -0.  , -0.  , -0.  , -0.  , -0.  , -0.  , -0.  ,\n",
              "        -0.  ],\n",
              "       [-0.  , -0.  , -0.  , -0.  , -0.  , -0.  , -0.  , -0.  , -0.  ,\n",
              "        -0.  ],\n",
              "       [-0.  , -0.  , -0.  , -0.  , -0.  , -0.  , -0.  , -0.  , -0.  ,\n",
              "        -0.01],\n",
              "       [-0.01, -0.02, -0.02, -0.03, -0.04, -0.06, -0.07, -0.08, -0.1 ,\n",
              "        -0.11],\n",
              "       [-0.13, -0.14, -0.15, -0.17, -0.18, -0.19, -0.2 , -0.21, -0.22,\n",
              "        -0.23],\n",
              "       [-0.24, -0.25, -0.26, -0.27, -0.28, -0.29, -0.3 , -0.31, -0.33,\n",
              "        -0.34],\n",
              "       [-0.36, -0.37, -0.39, -0.41, -0.43, -0.45, -0.48, -0.5 , -0.53,\n",
              "        -0.56],\n",
              "       [-0.59, -0.63, -0.66, -0.7 , -0.74, -0.78, -0.82, -0.86, -0.91,\n",
              "        -0.95],\n",
              "       [-1.  , -1.05, -1.09, -1.14, -1.19, -1.23, -1.28, -1.32, -1.37,\n",
              "        -1.41],\n",
              "       [-1.45, -1.49, -1.52, -1.55, -1.58, -1.61, -1.64, -1.66, -1.68,\n",
              "        -1.69],\n",
              "       [-1.7 , -1.71, -1.71, -1.71, -1.71, -1.7 , -1.69, -1.67, -1.65,\n",
              "        -1.62],\n",
              "       [-1.6 , -1.57, -1.53, -1.49, -1.45, -1.41, -1.36, -1.31, -1.26,\n",
              "        -1.2 ],\n",
              "       [-1.15, -1.09, -1.03, -0.97, -0.91, -0.86, -0.8 , -0.74, -0.69,\n",
              "        -0.63],\n",
              "       [-0.58, -0.53, -0.48, -0.44, -0.4 , -0.36, -0.32, -0.29, -0.25,\n",
              "        -0.23],\n",
              "       [-0.2 , -0.18, -0.15, -0.14, -0.12, -0.1 , -0.09, -0.08, -0.07,\n",
              "        -0.06],\n",
              "       [-0.05, -0.04, -0.04, -0.03, -0.03, -0.02, -0.02, -0.02, -0.02,\n",
              "        -0.01],\n",
              "       [-0.01, -0.01, -0.01, -0.01, -0.01, -0.  , -0.  , -0.  , -0.  ,\n",
              "        -0.  ],\n",
              "       [-0.  , -0.  , -0.  , -0.  , -0.  , -0.  , -0.  , -0.  , -0.  ,\n",
              "        -0.  ],\n",
              "       [-0.  , -0.  , -0.  , -0.  , -0.  , -0.  , -0.  , -0.  , -0.  ,\n",
              "        -0.  ],\n",
              "       [-0.  , -0.  , -0.  , -0.  , -0.  , -0.  , -0.  , -0.  , -0.  ,\n",
              "        -0.  ],\n",
              "       [-0.  , -0.  , -0.  , -0.  , -0.  , -0.  , -0.  , -0.  , -0.  ,\n",
              "        -0.  ],\n",
              "       [-0.  , -0.  , -0.  , -0.  , -0.  , -0.  , -0.  , -0.  , -0.  ,\n",
              "        -0.  ],\n",
              "       [-0.  , -0.  , -0.  , -0.  , -0.  , -0.  , -0.  , -0.  , -0.  ,\n",
              "        -0.  ],\n",
              "       [-0.  , -0.  , -0.  , -0.  , -0.  , -0.  , -0.  , -0.  , -0.  ,\n",
              "        -0.  ],\n",
              "       [-0.  , -0.  , -0.  , -0.  , -0.  , -0.  , -0.  , -0.  , -0.  ,\n",
              "        -0.  ],\n",
              "       [-0.  , -0.  , -0.  , -0.  , -0.  , -0.  , -0.  , -0.  , -0.  ,\n",
              "        -0.  ],\n",
              "       [-0.  , -0.  , -0.  , -0.  , -0.  , -0.  , -0.  , -0.  , -0.  ,\n",
              "        -0.  ],\n",
              "       [-0.  , -0.  , -0.  , -0.  , -0.  , -0.  , -0.  , -0.  , -0.  ,\n",
              "        -0.  ],\n",
              "       [-0.  , -0.  , -0.  , -0.  , -0.  , -0.  , -0.  , -0.  , -0.  ,\n",
              "        -0.  ],\n",
              "       [-0.  , -0.  , -0.  , -0.  , -0.  , -0.  , -0.  , -0.  , -0.  ,\n",
              "        -0.  ],\n",
              "       [-0.  , -0.  , -0.  , -0.  , -0.  , -0.  , -0.  , -0.  , -0.  ,\n",
              "        -0.  ],\n",
              "       [-0.  , -0.  , -0.  , -0.  , -0.  , -0.  , -0.  , -0.01, -0.02,\n",
              "        -0.03],\n",
              "       [-0.05, -0.08, -0.12, -0.17, -0.23, -0.3 , -0.37, -0.45, -0.53,\n",
              "        -0.61],\n",
              "       [-0.68, -0.76, -0.82, -0.88, -0.94, -0.99, -1.03, -1.06, -1.09,\n",
              "        -1.1 ],\n",
              "       [-1.12, -1.12, -1.11, -1.1 , -1.08, -1.06, -1.02, -0.98, -0.94,\n",
              "        -0.89],\n",
              "       [-0.83, -0.77, -0.7 , -0.64, -0.56, -0.49, -0.42, -0.35, -0.28,\n",
              "        -0.22],\n",
              "       [-0.17, -0.12, -0.08, -0.05, -0.03, -0.02, -0.01, -0.  , -0.  ,\n",
              "        -0.  ],\n",
              "       [-0.  , -0.  , -0.  , -0.  , -0.  , -0.  , -0.  , -0.  , -0.  ,\n",
              "        -0.  ],\n",
              "       [-0.  , -0.  , -0.  , -0.  , -0.  , -0.  , -0.  , -0.  , -0.  ,\n",
              "        -0.  ],\n",
              "       [-0.  , -0.  , -0.  , -0.  , -0.  , -0.  , -0.  , -0.  , -0.  ,\n",
              "        -0.  ],\n",
              "       [-0.  , -0.  , -0.  , -0.  , -0.  , -0.  , -0.  , -0.  , -0.  ,\n",
              "        -0.  ],\n",
              "       [-0.  , -0.  , -0.  , -0.  , -0.  , -0.  , -0.  , -0.  , -0.  ,\n",
              "        -0.  ]])"
            ]
          },
          "metadata": {
            "tags": []
          },
          "execution_count": 99
        }
      ]
    },
    {
      "cell_type": "code",
      "metadata": {
        "id": "V30USlVC-nTM",
        "colab": {
          "base_uri": "https://localhost:8080/"
        },
        "outputId": "344cb1f8-cc2c-4be3-b6b1-49a1447157c8"
      },
      "source": [
        "np.round(approx_1._acqWrapper(x_test),2).reshape(50,10)\n"
      ],
      "execution_count": 100,
      "outputs": [
        {
          "output_type": "execute_result",
          "data": {
            "text/plain": [
              "array([[-2.84, -2.62, -2.38, -2.12, -1.84, -1.55, -1.26, -0.96, -0.68,\n",
              "        -0.43],\n",
              "       [-0.22, -0.07,  0.01,  0.03,  0.  , -0.06, -0.14, -0.21, -0.25,\n",
              "        -0.28],\n",
              "       [-0.3 , -0.3 , -0.3 , -0.3 , -0.3 , -0.3 , -0.3 , -0.3 , -0.3 ,\n",
              "        -0.3 ],\n",
              "       [-0.3 , -0.3 , -0.3 , -0.3 , -0.3 , -0.3 , -0.3 , -0.3 , -0.29,\n",
              "        -0.29],\n",
              "       [-0.29, -0.29, -0.29, -0.29, -0.29, -0.29, -0.29, -0.29, -0.28,\n",
              "        -0.28],\n",
              "       [-0.28, -0.28, -0.28, -0.28, -0.28, -0.28, -0.28, -0.28, -0.28,\n",
              "        -0.28],\n",
              "       [-0.28, -0.28, -0.28, -0.28, -0.28, -0.28, -0.28, -0.28, -0.28,\n",
              "        -0.28],\n",
              "       [-0.28, -0.28, -0.28, -0.29, -0.29, -0.29, -0.29, -0.29, -0.29,\n",
              "        -0.29],\n",
              "       [-0.29, -0.29, -0.3 , -0.3 , -0.3 , -0.3 , -0.3 , -0.3 , -0.3 ,\n",
              "        -0.3 ],\n",
              "       [-0.3 , -0.3 , -0.3 , -0.3 , -0.3 , -0.3 , -0.3 , -0.3 , -0.3 ,\n",
              "        -0.3 ],\n",
              "       [-0.3 , -0.3 , -0.29, -0.28, -0.26, -0.23, -0.2 , -0.15, -0.1 ,\n",
              "        -0.06],\n",
              "       [-0.02,  0.01,  0.03,  0.03,  0.02,  0.01, -0.02, -0.06, -0.09,\n",
              "        -0.13],\n",
              "       [-0.17, -0.21, -0.24, -0.28, -0.31, -0.34, -0.37, -0.39, -0.41,\n",
              "        -0.43],\n",
              "       [-0.45, -0.47, -0.49, -0.52, -0.54, -0.56, -0.58, -0.61, -0.64,\n",
              "        -0.67],\n",
              "       [-0.7 , -0.74, -0.78, -0.83, -0.88, -0.93, -0.99, -1.05, -1.12,\n",
              "        -1.19],\n",
              "       [-1.26, -1.34, -1.42, -1.5 , -1.59, -1.68, -1.78, -1.87, -1.97,\n",
              "        -2.06],\n",
              "       [-2.16, -2.26, -2.35, -2.45, -2.54, -2.64, -2.73, -2.81, -2.9 ,\n",
              "        -2.98],\n",
              "       [-3.06, -3.13, -3.2 , -3.26, -3.32, -3.38, -3.42, -3.47, -3.51,\n",
              "        -3.54],\n",
              "       [-3.57, -3.59, -3.6 , -3.61, -3.62, -3.61, -3.61, -3.59, -3.57,\n",
              "        -3.54],\n",
              "       [-3.51, -3.47, -3.42, -3.37, -3.31, -3.24, -3.17, -3.09, -3.  ,\n",
              "        -2.91],\n",
              "       [-2.82, -2.72, -2.61, -2.5 , -2.38, -2.26, -2.14, -2.01, -1.88,\n",
              "        -1.75],\n",
              "       [-1.62, -1.49, -1.36, -1.24, -1.11, -0.99, -0.88, -0.77, -0.66,\n",
              "        -0.57],\n",
              "       [-0.48, -0.4 , -0.32, -0.25, -0.19, -0.14, -0.1 , -0.06, -0.03,\n",
              "        -0.01],\n",
              "       [ 0.01,  0.02,  0.03,  0.03,  0.03,  0.03,  0.02,  0.01,  0.  ,\n",
              "        -0.01],\n",
              "       [-0.02, -0.04, -0.05, -0.07, -0.08, -0.1 , -0.11, -0.13, -0.14,\n",
              "        -0.16],\n",
              "       [-0.17, -0.18, -0.19, -0.2 , -0.21, -0.22, -0.23, -0.24, -0.24,\n",
              "        -0.25],\n",
              "       [-0.25, -0.26, -0.26, -0.27, -0.27, -0.27, -0.27, -0.27, -0.28,\n",
              "        -0.28],\n",
              "       [-0.28, -0.28, -0.28, -0.28, -0.28, -0.28, -0.28, -0.28, -0.28,\n",
              "        -0.28],\n",
              "       [-0.28, -0.27, -0.27, -0.27, -0.27, -0.27, -0.27, -0.27, -0.26,\n",
              "        -0.26],\n",
              "       [-0.26, -0.26, -0.26, -0.27, -0.27, -0.27, -0.28, -0.28, -0.28,\n",
              "        -0.29],\n",
              "       [-0.29, -0.3 , -0.3 , -0.3 , -0.3 , -0.3 , -0.3 , -0.3 , -0.3 ,\n",
              "        -0.3 ],\n",
              "       [-0.3 , -0.3 , -0.3 , -0.3 , -0.3 , -0.3 , -0.3 , -0.3 , -0.3 ,\n",
              "        -0.3 ],\n",
              "       [-0.3 , -0.3 , -0.3 , -0.3 , -0.3 , -0.3 , -0.3 , -0.29, -0.29,\n",
              "        -0.29],\n",
              "       [-0.29, -0.29, -0.29, -0.29, -0.29, -0.29, -0.29, -0.28, -0.28,\n",
              "        -0.28],\n",
              "       [-0.28, -0.28, -0.28, -0.28, -0.28, -0.28, -0.28, -0.28, -0.28,\n",
              "        -0.28],\n",
              "       [-0.28, -0.28, -0.28, -0.28, -0.28, -0.28, -0.28, -0.28, -0.28,\n",
              "        -0.28],\n",
              "       [-0.28, -0.28, -0.28, -0.29, -0.29, -0.29, -0.29, -0.29, -0.29,\n",
              "        -0.29],\n",
              "       [-0.29, -0.29, -0.29, -0.3 , -0.3 , -0.3 , -0.3 , -0.3 , -0.3 ,\n",
              "        -0.3 ],\n",
              "       [-0.3 , -0.3 , -0.3 , -0.3 , -0.3 , -0.3 , -0.3 , -0.3 , -0.3 ,\n",
              "        -0.3 ],\n",
              "       [-0.3 , -0.29, -0.26, -0.22, -0.16, -0.09, -0.02,  0.02,  0.03,\n",
              "        -0.02],\n",
              "       [-0.12, -0.27, -0.47, -0.69, -0.93, -1.17, -1.41, -1.64, -1.85,\n",
              "        -2.05],\n",
              "       [-2.23, -2.39, -2.54, -2.66, -2.77, -2.86, -2.93, -2.99, -3.04,\n",
              "        -3.07],\n",
              "       [-3.09, -3.1 , -3.09, -3.07, -3.04, -2.99, -2.93, -2.86, -2.77,\n",
              "        -2.67],\n",
              "       [-2.55, -2.42, -2.27, -2.11, -1.92, -1.72, -1.51, -1.28, -1.05,\n",
              "        -0.81],\n",
              "       [-0.58, -0.38, -0.2 , -0.07,  0.01,  0.03,  0.01, -0.06, -0.13,\n",
              "        -0.2 ],\n",
              "       [-0.25, -0.28, -0.3 , -0.3 , -0.31, -0.31, -0.31, -0.3 , -0.3 ,\n",
              "        -0.3 ],\n",
              "       [-0.3 , -0.3 , -0.3 , -0.3 , -0.3 , -0.3 , -0.3 , -0.3 , -0.3 ,\n",
              "        -0.3 ],\n",
              "       [-0.3 , -0.3 , -0.3 , -0.29, -0.29, -0.29, -0.29, -0.29, -0.29,\n",
              "        -0.29],\n",
              "       [-0.29, -0.28, -0.28, -0.28, -0.28, -0.28, -0.28, -0.28, -0.27,\n",
              "        -0.27],\n",
              "       [-0.27, -0.27, -0.27, -0.27, -0.27, -0.27, -0.27, -0.27, -0.27,\n",
              "        -0.  ]])"
            ]
          },
          "metadata": {
            "tags": []
          },
          "execution_count": 100
        }
      ]
    },
    {
      "cell_type": "code",
      "metadata": {
        "id": "nft43RJS_Rj0",
        "colab": {
          "base_uri": "https://localhost:8080/"
        },
        "outputId": "d5782628-20d8-4059-eca5-ad77ca3284c7"
      },
      "source": [
        "np.mean(exact_1.acqfunc(x_test)[0]), np.mean(approx_1._acqWrapper(x_test))\n"
      ],
      "execution_count": 101,
      "outputs": [
        {
          "output_type": "execute_result",
          "data": {
            "text/plain": [
              "(-0.2512536326957021, -0.7672704327090305)"
            ]
          },
          "metadata": {
            "tags": []
          },
          "execution_count": 101
        }
      ]
    },
    {
      "cell_type": "code",
      "metadata": {
        "id": "oV94PnUyZ2qp",
        "colab": {
          "base_uri": "https://localhost:8080/"
        },
        "outputId": "d888a683-9409-4e22-88e2-a566456e7958"
      },
      "source": [
        "exact_1.acqfunc(x_test)[1].shape\n"
      ],
      "execution_count": 102,
      "outputs": [
        {
          "output_type": "execute_result",
          "data": {
            "text/plain": [
              "(500, 2)"
            ]
          },
          "metadata": {
            "tags": []
          },
          "execution_count": 102
        }
      ]
    },
    {
      "cell_type": "code",
      "metadata": {
        "id": "sxNUNoX3Te6y",
        "colab": {
          "base_uri": "https://localhost:8080/"
        },
        "outputId": "b167845c-211b-4af0-f6ef-05d9e8179837"
      },
      "source": [
        "np.round(exact_1.acqfunc(x_test)[1],2) \n"
      ],
      "execution_count": 103,
      "outputs": [
        {
          "output_type": "execute_result",
          "data": {
            "text/plain": [
              "array([[-1.4 , -1.4 ],\n",
              "       [-1.44, -1.44],\n",
              "       [-1.46, -1.46],\n",
              "       [-1.45, -1.45],\n",
              "       [-1.42, -1.42],\n",
              "       [-1.35, -1.35],\n",
              "       [-1.25, -1.25],\n",
              "       [-1.12, -1.12],\n",
              "       [-0.97, -0.97],\n",
              "       [-0.79, -0.79],\n",
              "       [-0.62, -0.62],\n",
              "       [-0.45, -0.45],\n",
              "       [-0.31, -0.31],\n",
              "       [-0.19, -0.19],\n",
              "       [-0.11, -0.11],\n",
              "       [-0.05, -0.05],\n",
              "       [-0.02, -0.02],\n",
              "       [-0.01, -0.01],\n",
              "       [-0.  , -0.  ],\n",
              "       [-0.  , -0.  ],\n",
              "       [-0.  , -0.  ],\n",
              "       [-0.  , -0.  ],\n",
              "       [-0.  , -0.  ],\n",
              "       [-0.  , -0.  ],\n",
              "       [-0.  , -0.  ],\n",
              "       [-0.  , -0.  ],\n",
              "       [-0.  , -0.  ],\n",
              "       [-0.  , -0.  ],\n",
              "       [-0.  , -0.  ],\n",
              "       [-0.  , -0.  ],\n",
              "       [-0.  , -0.  ],\n",
              "       [-0.  , -0.  ],\n",
              "       [-0.  , -0.  ],\n",
              "       [-0.  , -0.  ],\n",
              "       [-0.  , -0.  ],\n",
              "       [-0.  , -0.  ],\n",
              "       [-0.  , -0.  ],\n",
              "       [-0.  , -0.  ],\n",
              "       [-0.  , -0.  ],\n",
              "       [-0.  , -0.  ],\n",
              "       [-0.  , -0.  ],\n",
              "       [-0.  , -0.  ],\n",
              "       [-0.  , -0.  ],\n",
              "       [-0.  , -0.  ],\n",
              "       [-0.  , -0.  ],\n",
              "       [-0.  , -0.  ],\n",
              "       [-0.  , -0.  ],\n",
              "       [-0.  , -0.  ],\n",
              "       [-0.  , -0.  ],\n",
              "       [-0.  , -0.  ],\n",
              "       [-0.  , -0.  ],\n",
              "       [-0.  , -0.  ],\n",
              "       [-0.  , -0.  ],\n",
              "       [-0.  , -0.  ],\n",
              "       [-0.  , -0.  ],\n",
              "       [-0.  , -0.  ],\n",
              "       [-0.  , -0.  ],\n",
              "       [-0.  , -0.  ],\n",
              "       [-0.  , -0.  ],\n",
              "       [-0.  , -0.  ],\n",
              "       [-0.  , -0.  ],\n",
              "       [-0.  , -0.  ],\n",
              "       [-0.  , -0.  ],\n",
              "       [-0.  , -0.  ],\n",
              "       [-0.  , -0.  ],\n",
              "       [-0.  , -0.  ],\n",
              "       [-0.  , -0.  ],\n",
              "       [-0.  , -0.  ],\n",
              "       [-0.  , -0.  ],\n",
              "       [-0.  , -0.  ],\n",
              "       [-0.  , -0.  ],\n",
              "       [-0.  , -0.  ],\n",
              "       [-0.  , -0.  ],\n",
              "       [-0.  , -0.  ],\n",
              "       [-0.  , -0.  ],\n",
              "       [-0.  , -0.  ],\n",
              "       [-0.  , -0.  ],\n",
              "       [-0.  , -0.  ],\n",
              "       [-0.  , -0.  ],\n",
              "       [-0.  , -0.  ],\n",
              "       [-0.  , -0.  ],\n",
              "       [-0.  , -0.  ],\n",
              "       [-0.  , -0.  ],\n",
              "       [-0.  , -0.  ],\n",
              "       [-0.  , -0.  ],\n",
              "       [-0.  , -0.  ],\n",
              "       [-0.  , -0.  ],\n",
              "       [-0.  , -0.  ],\n",
              "       [-0.  , -0.  ],\n",
              "       [-0.  , -0.  ],\n",
              "       [-0.  , -0.  ],\n",
              "       [-0.  , -0.  ],\n",
              "       [-0.  , -0.  ],\n",
              "       [-0.  , -0.  ],\n",
              "       [-0.  , -0.  ],\n",
              "       [-0.  , -0.  ],\n",
              "       [-0.  , -0.  ],\n",
              "       [-0.  , -0.  ],\n",
              "       [-0.  , -0.  ],\n",
              "       [-0.  , -0.  ],\n",
              "       [-0.  , -0.  ],\n",
              "       [-0.  , -0.  ],\n",
              "       [-0.  , -0.  ],\n",
              "       [-0.  , -0.  ],\n",
              "       [-0.  , -0.  ],\n",
              "       [-0.01, -0.01],\n",
              "       [-0.01, -0.01],\n",
              "       [-0.03, -0.03],\n",
              "       [-0.05, -0.05],\n",
              "       [-0.07, -0.07],\n",
              "       [-0.11, -0.11],\n",
              "       [-0.15, -0.15],\n",
              "       [-0.21, -0.21],\n",
              "       [-0.26, -0.26],\n",
              "       [-0.32, -0.32],\n",
              "       [-0.38, -0.38],\n",
              "       [-0.44, -0.44],\n",
              "       [-0.49, -0.49],\n",
              "       [-0.54, -0.54],\n",
              "       [-0.59, -0.59],\n",
              "       [-0.63, -0.63],\n",
              "       [-0.66, -0.66],\n",
              "       [-0.69, -0.69],\n",
              "       [-0.71, -0.71],\n",
              "       [-0.73, -0.73],\n",
              "       [-0.75, -0.75],\n",
              "       [-0.77, -0.77],\n",
              "       [-0.78, -0.78],\n",
              "       [-0.79, -0.79],\n",
              "       [-0.8 , -0.8 ],\n",
              "       [-0.8 , -0.8 ],\n",
              "       [-0.81, -0.81],\n",
              "       [-0.82, -0.82],\n",
              "       [-0.83, -0.83],\n",
              "       [-0.84, -0.84],\n",
              "       [-0.85, -0.85],\n",
              "       [-0.86, -0.86],\n",
              "       [-0.87, -0.87],\n",
              "       [-0.88, -0.88],\n",
              "       [-0.9 , -0.9 ],\n",
              "       [-0.91, -0.91],\n",
              "       [-0.93, -0.93],\n",
              "       [-0.95, -0.95],\n",
              "       [-0.97, -0.97],\n",
              "       [-0.99, -0.99],\n",
              "       [-1.01, -1.01],\n",
              "       [-1.03, -1.03],\n",
              "       [-1.05, -1.05],\n",
              "       [-1.07, -1.07],\n",
              "       [-1.09, -1.09],\n",
              "       [-1.11, -1.11],\n",
              "       [-1.13, -1.13],\n",
              "       [-1.14, -1.14],\n",
              "       [-1.16, -1.16],\n",
              "       [-1.17, -1.17],\n",
              "       [-1.19, -1.19],\n",
              "       [-1.2 , -1.2 ],\n",
              "       [-1.2 , -1.2 ],\n",
              "       [-1.21, -1.21],\n",
              "       [-1.21, -1.21],\n",
              "       [-1.21, -1.21],\n",
              "       [-1.21, -1.21],\n",
              "       [-1.2 , -1.2 ],\n",
              "       [-1.19, -1.19],\n",
              "       [-1.18, -1.18],\n",
              "       [-1.17, -1.17],\n",
              "       [-1.15, -1.15],\n",
              "       [-1.14, -1.14],\n",
              "       [-1.12, -1.12],\n",
              "       [-1.1 , -1.1 ],\n",
              "       [-1.09, -1.09],\n",
              "       [-1.07, -1.07],\n",
              "       [-1.05, -1.05],\n",
              "       [-1.03, -1.03],\n",
              "       [-1.01, -1.01],\n",
              "       [-1.  , -1.  ],\n",
              "       [-0.98, -0.98],\n",
              "       [-0.97, -0.97],\n",
              "       [-0.96, -0.96],\n",
              "       [-0.95, -0.95],\n",
              "       [-0.94, -0.94],\n",
              "       [-0.93, -0.93],\n",
              "       [-0.93, -0.93],\n",
              "       [-0.93, -0.93],\n",
              "       [-0.93, -0.93],\n",
              "       [-0.94, -0.94],\n",
              "       [-0.94, -0.94],\n",
              "       [-0.95, -0.95],\n",
              "       [-0.96, -0.96],\n",
              "       [-0.98, -0.98],\n",
              "       [-0.99, -0.99],\n",
              "       [-1.01, -1.01],\n",
              "       [-1.03, -1.03],\n",
              "       [-1.05, -1.05],\n",
              "       [-1.06, -1.06],\n",
              "       [-1.08, -1.08],\n",
              "       [-1.1 , -1.1 ],\n",
              "       [-1.12, -1.12],\n",
              "       [-1.14, -1.14],\n",
              "       [-1.15, -1.15],\n",
              "       [-1.16, -1.16],\n",
              "       [-1.17, -1.17],\n",
              "       [-1.18, -1.18],\n",
              "       [-1.18, -1.18],\n",
              "       [-1.18, -1.18],\n",
              "       [-1.18, -1.18],\n",
              "       [-1.17, -1.17],\n",
              "       [-1.15, -1.15],\n",
              "       [-1.13, -1.13],\n",
              "       [-1.11, -1.11],\n",
              "       [-1.08, -1.08],\n",
              "       [-1.05, -1.05],\n",
              "       [-1.02, -1.02],\n",
              "       [-0.98, -0.98],\n",
              "       [-0.94, -0.94],\n",
              "       [-0.9 , -0.9 ],\n",
              "       [-0.85, -0.85],\n",
              "       [-0.8 , -0.8 ],\n",
              "       [-0.76, -0.76],\n",
              "       [-0.71, -0.71],\n",
              "       [-0.66, -0.66],\n",
              "       [-0.62, -0.62],\n",
              "       [-0.57, -0.57],\n",
              "       [-0.53, -0.53],\n",
              "       [-0.49, -0.49],\n",
              "       [-0.45, -0.45],\n",
              "       [-0.41, -0.41],\n",
              "       [-0.37, -0.37],\n",
              "       [-0.34, -0.34],\n",
              "       [-0.31, -0.31],\n",
              "       [-0.28, -0.28],\n",
              "       [-0.25, -0.25],\n",
              "       [-0.23, -0.23],\n",
              "       [-0.2 , -0.2 ],\n",
              "       [-0.18, -0.18],\n",
              "       [-0.16, -0.16],\n",
              "       [-0.15, -0.15],\n",
              "       [-0.13, -0.13],\n",
              "       [-0.12, -0.12],\n",
              "       [-0.1 , -0.1 ],\n",
              "       [-0.09, -0.09],\n",
              "       [-0.08, -0.08],\n",
              "       [-0.07, -0.07],\n",
              "       [-0.06, -0.06],\n",
              "       [-0.05, -0.05],\n",
              "       [-0.05, -0.05],\n",
              "       [-0.04, -0.04],\n",
              "       [-0.03, -0.03],\n",
              "       [-0.03, -0.03],\n",
              "       [-0.02, -0.02],\n",
              "       [-0.02, -0.02],\n",
              "       [-0.02, -0.02],\n",
              "       [-0.01, -0.01],\n",
              "       [-0.01, -0.01],\n",
              "       [-0.01, -0.01],\n",
              "       [-0.01, -0.01],\n",
              "       [-0.01, -0.01],\n",
              "       [-0.01, -0.01],\n",
              "       [-0.  , -0.  ],\n",
              "       [-0.  , -0.  ],\n",
              "       [-0.  , -0.  ],\n",
              "       [-0.  , -0.  ],\n",
              "       [-0.  , -0.  ],\n",
              "       [-0.  , -0.  ],\n",
              "       [-0.  , -0.  ],\n",
              "       [-0.  , -0.  ],\n",
              "       [-0.  , -0.  ],\n",
              "       [-0.  , -0.  ],\n",
              "       [-0.  , -0.  ],\n",
              "       [-0.  , -0.  ],\n",
              "       [-0.  , -0.  ],\n",
              "       [-0.  , -0.  ],\n",
              "       [-0.  , -0.  ],\n",
              "       [-0.  , -0.  ],\n",
              "       [-0.  , -0.  ],\n",
              "       [-0.  , -0.  ],\n",
              "       [-0.  , -0.  ],\n",
              "       [-0.  , -0.  ],\n",
              "       [-0.  , -0.  ],\n",
              "       [-0.  , -0.  ],\n",
              "       [-0.  , -0.  ],\n",
              "       [-0.  , -0.  ],\n",
              "       [-0.  , -0.  ],\n",
              "       [-0.  , -0.  ],\n",
              "       [-0.  , -0.  ],\n",
              "       [-0.  , -0.  ],\n",
              "       [-0.  , -0.  ],\n",
              "       [-0.  , -0.  ],\n",
              "       [-0.  , -0.  ],\n",
              "       [-0.  , -0.  ],\n",
              "       [-0.  , -0.  ],\n",
              "       [-0.  , -0.  ],\n",
              "       [-0.  , -0.  ],\n",
              "       [-0.  , -0.  ],\n",
              "       [-0.  , -0.  ],\n",
              "       [-0.  , -0.  ],\n",
              "       [-0.  , -0.  ],\n",
              "       [-0.  , -0.  ],\n",
              "       [-0.  , -0.  ],\n",
              "       [-0.  , -0.  ],\n",
              "       [-0.  , -0.  ],\n",
              "       [-0.  , -0.  ],\n",
              "       [-0.  , -0.  ],\n",
              "       [-0.  , -0.  ],\n",
              "       [-0.  , -0.  ],\n",
              "       [-0.  , -0.  ],\n",
              "       [-0.  , -0.  ],\n",
              "       [-0.  , -0.  ],\n",
              "       [-0.  , -0.  ],\n",
              "       [-0.  , -0.  ],\n",
              "       [-0.  , -0.  ],\n",
              "       [-0.  , -0.  ],\n",
              "       [-0.  , -0.  ],\n",
              "       [-0.  , -0.  ],\n",
              "       [-0.  , -0.  ],\n",
              "       [-0.  , -0.  ],\n",
              "       [-0.  , -0.  ],\n",
              "       [-0.  , -0.  ],\n",
              "       [-0.  , -0.  ],\n",
              "       [-0.  , -0.  ],\n",
              "       [-0.  , -0.  ],\n",
              "       [-0.  , -0.  ],\n",
              "       [-0.  , -0.  ],\n",
              "       [-0.  , -0.  ],\n",
              "       [-0.  , -0.  ],\n",
              "       [-0.  , -0.  ],\n",
              "       [-0.  , -0.  ],\n",
              "       [-0.  , -0.  ],\n",
              "       [-0.  , -0.  ],\n",
              "       [-0.  , -0.  ],\n",
              "       [-0.  , -0.  ],\n",
              "       [-0.  , -0.  ],\n",
              "       [-0.  , -0.  ],\n",
              "       [-0.  , -0.  ],\n",
              "       [-0.  , -0.  ],\n",
              "       [-0.  , -0.  ],\n",
              "       [-0.  , -0.  ],\n",
              "       [-0.  , -0.  ],\n",
              "       [-0.  , -0.  ],\n",
              "       [-0.  , -0.  ],\n",
              "       [-0.  , -0.  ],\n",
              "       [-0.  , -0.  ],\n",
              "       [-0.  , -0.  ],\n",
              "       [-0.  , -0.  ],\n",
              "       [-0.  , -0.  ],\n",
              "       [-0.  , -0.  ],\n",
              "       [-0.  , -0.  ],\n",
              "       [-0.  , -0.  ],\n",
              "       [-0.  , -0.  ],\n",
              "       [-0.  , -0.  ],\n",
              "       [-0.  , -0.  ],\n",
              "       [-0.  , -0.  ],\n",
              "       [-0.  , -0.  ],\n",
              "       [-0.  , -0.  ],\n",
              "       [-0.  , -0.  ],\n",
              "       [-0.  , -0.  ],\n",
              "       [-0.  , -0.  ],\n",
              "       [-0.  , -0.  ],\n",
              "       [-0.  , -0.  ],\n",
              "       [-0.  , -0.  ],\n",
              "       [-0.  , -0.  ],\n",
              "       [-0.  , -0.  ],\n",
              "       [-0.  , -0.  ],\n",
              "       [-0.  , -0.  ],\n",
              "       [-0.  , -0.  ],\n",
              "       [-0.  , -0.  ],\n",
              "       [-0.  , -0.  ],\n",
              "       [-0.  , -0.  ],\n",
              "       [-0.  , -0.  ],\n",
              "       [-0.  , -0.  ],\n",
              "       [-0.  , -0.  ],\n",
              "       [-0.  , -0.  ],\n",
              "       [-0.  , -0.  ],\n",
              "       [-0.  , -0.  ],\n",
              "       [-0.  , -0.  ],\n",
              "       [-0.  , -0.  ],\n",
              "       [-0.  , -0.  ],\n",
              "       [-0.  , -0.  ],\n",
              "       [-0.  , -0.  ],\n",
              "       [-0.  , -0.  ],\n",
              "       [-0.  , -0.  ],\n",
              "       [-0.  , -0.  ],\n",
              "       [-0.  , -0.  ],\n",
              "       [-0.  , -0.  ],\n",
              "       [-0.  , -0.  ],\n",
              "       [-0.  , -0.  ],\n",
              "       [-0.  , -0.  ],\n",
              "       [-0.  , -0.  ],\n",
              "       [-0.  , -0.  ],\n",
              "       [-0.  , -0.  ],\n",
              "       [-0.  , -0.  ],\n",
              "       [-0.  , -0.  ],\n",
              "       [-0.  , -0.  ],\n",
              "       [-0.  , -0.  ],\n",
              "       [-0.01, -0.01],\n",
              "       [-0.02, -0.02],\n",
              "       [-0.04, -0.04],\n",
              "       [-0.08, -0.08],\n",
              "       [-0.15, -0.15],\n",
              "       [-0.25, -0.25],\n",
              "       [-0.37, -0.37],\n",
              "       [-0.52, -0.52],\n",
              "       [-0.68, -0.68],\n",
              "       [-0.84, -0.84],\n",
              "       [-1.  , -1.  ],\n",
              "       [-1.15, -1.15],\n",
              "       [-1.28, -1.28],\n",
              "       [-1.39, -1.39],\n",
              "       [-1.47, -1.47],\n",
              "       [-1.53, -1.53],\n",
              "       [-1.58, -1.58],\n",
              "       [-1.61, -1.61],\n",
              "       [-1.62, -1.62],\n",
              "       [-1.63, -1.63],\n",
              "       [-1.63, -1.63],\n",
              "       [-1.62, -1.62],\n",
              "       [-1.62, -1.62],\n",
              "       [-1.61, -1.61],\n",
              "       [-1.6 , -1.6 ],\n",
              "       [-1.6 , -1.6 ],\n",
              "       [-1.59, -1.59],\n",
              "       [-1.59, -1.59],\n",
              "       [-1.59, -1.59],\n",
              "       [-1.6 , -1.6 ],\n",
              "       [-1.61, -1.61],\n",
              "       [-1.62, -1.62],\n",
              "       [-1.63, -1.63],\n",
              "       [-1.64, -1.64],\n",
              "       [-1.65, -1.65],\n",
              "       [-1.65, -1.65],\n",
              "       [-1.65, -1.65],\n",
              "       [-1.65, -1.65],\n",
              "       [-1.63, -1.63],\n",
              "       [-1.6 , -1.6 ],\n",
              "       [-1.56, -1.56],\n",
              "       [-1.49, -1.49],\n",
              "       [-1.41, -1.41],\n",
              "       [-1.31, -1.31],\n",
              "       [-1.18, -1.18],\n",
              "       [-1.03, -1.03],\n",
              "       [-0.88, -0.88],\n",
              "       [-0.71, -0.71],\n",
              "       [-0.55, -0.55],\n",
              "       [-0.4 , -0.4 ],\n",
              "       [-0.27, -0.27],\n",
              "       [-0.17, -0.17],\n",
              "       [-0.09, -0.09],\n",
              "       [-0.05, -0.05],\n",
              "       [-0.02, -0.02],\n",
              "       [-0.01, -0.01],\n",
              "       [-0.  , -0.  ],\n",
              "       [-0.  , -0.  ],\n",
              "       [-0.  , -0.  ],\n",
              "       [-0.  , -0.  ],\n",
              "       [-0.  , -0.  ],\n",
              "       [-0.  , -0.  ],\n",
              "       [-0.  , -0.  ],\n",
              "       [-0.  , -0.  ],\n",
              "       [-0.  , -0.  ],\n",
              "       [-0.  , -0.  ],\n",
              "       [-0.  , -0.  ],\n",
              "       [-0.  , -0.  ],\n",
              "       [-0.  , -0.  ],\n",
              "       [-0.  , -0.  ],\n",
              "       [-0.  , -0.  ],\n",
              "       [-0.  , -0.  ],\n",
              "       [-0.  , -0.  ],\n",
              "       [-0.  , -0.  ],\n",
              "       [-0.  , -0.  ],\n",
              "       [-0.  , -0.  ],\n",
              "       [-0.  , -0.  ],\n",
              "       [-0.  , -0.  ],\n",
              "       [-0.  , -0.  ],\n",
              "       [-0.  , -0.  ],\n",
              "       [-0.  , -0.  ],\n",
              "       [-0.  , -0.  ],\n",
              "       [-0.  , -0.  ],\n",
              "       [-0.  , -0.  ],\n",
              "       [-0.  , -0.  ],\n",
              "       [-0.  , -0.  ],\n",
              "       [-0.  , -0.  ],\n",
              "       [-0.  , -0.  ],\n",
              "       [-0.  , -0.  ],\n",
              "       [-0.  , -0.  ],\n",
              "       [-0.  , -0.  ],\n",
              "       [-0.  , -0.  ],\n",
              "       [-0.  , -0.  ],\n",
              "       [-0.  , -0.  ],\n",
              "       [-0.  , -0.  ],\n",
              "       [-0.  , -0.  ],\n",
              "       [-0.  , -0.  ],\n",
              "       [-0.  , -0.  ],\n",
              "       [-0.  , -0.  ],\n",
              "       [-0.  , -0.  ],\n",
              "       [-0.  , -0.  ],\n",
              "       [-0.  , -0.  ],\n",
              "       [-0.  , -0.  ],\n",
              "       [-0.  , -0.  ],\n",
              "       [-0.  , -0.  ],\n",
              "       [-0.  , -0.  ]])"
            ]
          },
          "metadata": {
            "tags": []
          },
          "execution_count": 103
        }
      ]
    },
    {
      "cell_type": "code",
      "metadata": {
        "id": "XqTGdfPNFa5l",
        "colab": {
          "base_uri": "https://localhost:8080/"
        },
        "outputId": "9e769536-05e4-4965-b620-f2a1b73e7387"
      },
      "source": [
        "np.mean(exact_1.acqfunc(x_test)[1])\n"
      ],
      "execution_count": 104,
      "outputs": [
        {
          "output_type": "execute_result",
          "data": {
            "text/plain": [
              "-0.37228711338926307"
            ]
          },
          "metadata": {
            "tags": []
          },
          "execution_count": 104
        }
      ]
    },
    {
      "cell_type": "code",
      "metadata": {
        "id": "77BffxK2Fe61"
      },
      "source": [
        ""
      ],
      "execution_count": 104,
      "outputs": []
    }
  ]
}